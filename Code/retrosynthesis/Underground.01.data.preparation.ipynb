{
 "cells": [
  {
   "cell_type": "code",
   "execution_count": 15,
   "metadata": {},
   "outputs": [],
   "source": [
    "import pandas as pd\n",
    "import matplotlib.pyplot as plt\n",
    "import sys\n",
    "import re\n",
    "# sys.path.append('../Code/')\n",
    "from common import *\n",
    "from tqdm import tqdm\n",
    "import multiprocessing\n",
    "from functools import partial\n",
    "tqdm.pandas()"
   ]
  },
  {
   "cell_type": "code",
   "execution_count": 16,
   "metadata": {},
   "outputs": [],
   "source": [
    "## input\n",
    "YMDB_total_smiles_path = '../../Data/ymdb/ymdb_final_result.xlsx'\n",
    "# yeast870_path = '../Data/model/yeast-GEM870.mat'\n",
    "yeast_model_path = '../../Data/model/yeast-GEM-final.csv'\n",
    "mnxreac_smile_atom_mapping_rules_file_path = '../../Data/rules/MNXreaction_smiles_atommap_rules_filter.csv'\n",
    "path_enzyme_path = '../../Data/pathway_enzyme.list'\n",
    "mnxmeta_smile_file_path = '../../Data/database/mnx_chem_prop.tsv'\n",
    "ymdb_output_final = '../../Data/ymdb/ymdb_final_result.xlsx'\n",
    "## output\n",
    "mnxmeta_smile_file_carbon_path = '../../Data/database/mnxmeta_smile_carbon.csv'\n",
    "lipid_target_smiles_path = '../../Results/lipid/target_smiles_lipid.pickle'\n",
    "not_lipid_target_smiles_path = '../../Results/not_lipid/target_smiles_not_lipid.pickle'\n",
    "not_lipid_target_smiles_complex_path = '../../Results/not_lipid/target_smiles_not_lipid_complex.pickle'\n",
    "lipid_yeast_met_file = '../../Results/lipid/yeast_met_lipid.pickle'\n",
    "not_lipid_yeast_met_file = '../../Results/not_lipid/yeast_met_not_lipid.pickle'\n",
    "lipid_mnxreac_smile_atom_mapping_rules_file_path = '../../Data/rules/MNXreaction_smiles_atommap_rules_lipid.csv'\n",
    "total_met_inchikey0_file = '../../Data/total_met_inchikey0.pickle'\n",
    "lipid_smiles2metnetx_path = '../../Results/lipid/lipid_smiles2metnetx.pickle'\n",
    "not_lipid_smiles2metnetx_path = '../../Results/not_lipid/not_lipid_smiles2metnetx.pickle'\n",
    "mnxmeta_smile_inchikey_dict_path = '../../Data/database/mnxmeta_smile_inchikey_dict.json'\n"
   ]
  },
  {
   "cell_type": "code",
   "execution_count": 17,
   "metadata": {},
   "outputs": [],
   "source": [
    "def get_lipid_rules(path_enzyme_path,mnxreac_smile_atom_mapping_rules_file_path,lipid_mnxreac_smile_atom_mapping_rules_file_path):\n",
    "    with open(path_enzyme_path, 'r') as f:\n",
    "        lines = f.readlines()\n",
    "    #kegg lipid metabolism map id\n",
    "    lipid = '00061 MFatty acid biosynthesis00062 MFatty acid elongation00071 M NFatty acid degradation00073Cutin, suberine and wax biosynthesis00100 M NSteroid biosynthesis00120 M NPrimary bile acid biosynthesis00121Secondary bile acid biosynthesis00140 M NSteroid hormone biosynthesis00561 MGlycerolipid metabolism00564 MGlycerophospholipid metabolism00565 MEther lipid metabolism00600 M NSphingolipid metabolism00590Arachidonic acid metabolism00591Linoleic acid metabolism00592 Malpha-Linolenic acid metabolism01040 M NBiosynthesis of unsaturated fatty acids'\n",
    "    maps = re.findall(r'\\d{5}', lipid)\n",
    "    dict_map_ec = {}\n",
    "    #get ec number for each map\n",
    "    for m in maps:\n",
    "        dict_map_ec[m] = []\n",
    "        for line in lines:\n",
    "            if m in line:\n",
    "                dict_map_ec[m].append(line.split()[1])\n",
    "        dict_map_ec[m] = list(set(dict_map_ec[m]))\n",
    "    ec_lipid = []\n",
    "    for k, v in dict_map_ec.items():\n",
    "        ec_lipid.extend(v)\n",
    "    ec_lipid = list(set(ec_lipid))\n",
    "    ec_lipid = [i.replace('ec:','') for i in ec_lipid ]\n",
    "    #get 3 level ec number\n",
    "    ec_3 = []\n",
    "    for ec in ec_lipid:\n",
    "        ec = ec.split('.')\n",
    "        if len(ec) == 4:\n",
    "            ec = ec[:3]\n",
    "            ec = '.'.join(ec)\n",
    "            ec_3.append(ec)\n",
    "        else:\n",
    "            ec_3.append('.'.join(ec))\n",
    "    ec_3 = list(set(ec_3))\n",
    "    rules = pd.read_csv(mnxreac_smile_atom_mapping_rules_file_path)\n",
    "    rules['lipid_rules'] = 0\n",
    "    #check if the rule is lipid\n",
    "    for i in tqdm(rules.index,total=rules.shape[0]):\n",
    "        if pd.notna(rules.loc[i, 'classifs']):\n",
    "            classifs = rules.loc[i, 'classifs'].split(';')\n",
    "            for j in classifs:\n",
    "                if j[:5] in ec_3:\n",
    "                    rules.loc[i, 'lipid_rules'] = 1\n",
    "                    break\n",
    "            rules.loc[i, 'classifs'] = ';'.join(classifs)\n",
    "    #save lipid rules\n",
    "    rules_lipid = rules[rules['lipid_rules'] == 1]\n",
    "    rules_lipid.to_csv(lipid_mnxreac_smile_atom_mapping_rules_file_path, index=False)"
   ]
  },
  {
   "cell_type": "code",
   "execution_count": 18,
   "metadata": {},
   "outputs": [],
   "source": [
    "def get_total_inchikey0(model_path, YMDB_total_smiles_path, output_file):\n",
    "    model = pd.read_csv(model_path)\n",
    "    YMDB_Data = pd.read_excel(YMDB_total_smiles_path)\n",
    "    YMDB_Data = YMDB_Data.dropna(subset=['standard_smiles'])\n",
    "    model = model.dropna(subset=['standard_smiles'])\n",
    "    model['inchikey0'] = model['standard_smiles'].apply(smiles2inchikey0)\n",
    "    inchikey0_model = model['inchikey0'].values\n",
    "    inchikey0= list(inchikey0_model) + list(YMDB_Data['inchikey0'].values)\n",
    "    inchikey0 = list(set(inchikey0))\n",
    "    print(len(inchikey0))\n",
    "    dump_file(inchikey0, output_file)"
   ]
  },
  {
   "cell_type": "code",
   "execution_count": 19,
   "metadata": {},
   "outputs": [],
   "source": [
    "def get_mnxmeta_smiles_carbon(mnxmeta_smile_file_path,mnxmeta_smile_file_carbon_path):\n",
    "    mnxmeta_smile = pd.read_csv(mnxmeta_smile_file_path,sep='\\t')\n",
    "    print(mnxmeta_smile.shape)\n",
    "    mnxmeta_smile = mnxmeta_smile.loc[1:,:]\n",
    "    mnxmeta_smile = mnxmeta_smile.dropna(subset=['SMILES'])\n",
    "    mnxmeta_smile['has_carbon'] = mnxmeta_smile['SMILES'].progress_apply(smiles_has_carbon)\n",
    "    mnxmeta_smile_filtered = mnxmeta_smile[mnxmeta_smile['has_carbon'] == 1]\n",
    "    mnxmeta_smile_filtered['inchikey0'] = mnxmeta_smile_filtered['SMILES'].apply(smiles2inchikey0)\n",
    "    mnxmeta_smile_filtered = mnxmeta_smile_filtered.groupby('inchikey0')['SMILES'].agg(list).reset_index()\n",
    "    mnxmeta_smile_filtered.to_csv(mnxmeta_smile_file_carbon_path, index=False)\n",
    "    print(mnxmeta_smile_filtered.shape)\n",
    "    return mnxmeta_smile_filtered"
   ]
  },
  {
   "cell_type": "code",
   "execution_count": 20,
   "metadata": {},
   "outputs": [],
   "source": [
    "def compare_smiles_mnxmeta(smiles, compare_total_smiles):\n",
    "    matched_smiles = []\n",
    "    for compare_smiles in compare_total_smiles:\n",
    "        if compare_smiles_inchikey(smiles, compare_smiles):\n",
    "            matched_smiles.append(compare_smiles)\n",
    "    return smiles, matched_smiles"
   ]
  },
  {
   "cell_type": "code",
   "execution_count": 21,
   "metadata": {},
   "outputs": [],
   "source": [
    "def process_complex_smiles(not_lipid_target_smiles,not_lipid_target_smiles_complex_path):\n",
    "    not_lipid_target_smiles_complex = [x for x in not_lipid_target_smiles if '.' in x]\n",
    "    not_lipid_target_smiles_complex_with_carbon = []\n",
    "    for smiles in tqdm(not_lipid_target_smiles_complex):\n",
    "        not_lipid_target_smiles_complex_with_carbon.extend(smiles.split('.'))\n",
    "    not_lipid_target_smiles_complex_with_carbon = [x for x in not_lipid_target_smiles_complex_with_carbon if smiles_has_carbon(x)]\n",
    "    not_lipid_target_smiles = [x for x in not_lipid_target_smiles if x not in not_lipid_target_smiles_complex]\n",
    "    not_lipid_target_smiles = not_lipid_target_smiles + not_lipid_target_smiles_complex_with_carbon\n",
    "    dump_file(not_lipid_target_smiles,not_lipid_target_smiles_complex_path)\n",
    "    return not_lipid_target_smiles"
   ]
  },
  {
   "cell_type": "markdown",
   "metadata": {},
   "source": [
    "### yeast8 metabolites, ymdb metabolites"
   ]
  },
  {
   "cell_type": "code",
   "execution_count": 22,
   "metadata": {},
   "outputs": [
    {
     "name": "stderr",
     "output_type": "stream",
     "text": [
      "100%|██████████| 16042/16042 [00:05<00:00, 2711.29it/s]\n"
     ]
    },
    {
     "name": "stdout",
     "output_type": "stream",
     "text": [
      "target_smiles: 572\n",
      "target_smiles: 14310\n"
     ]
    }
   ],
   "source": [
    "YMDB_Data = pd.read_excel(YMDB_total_smiles_path)\n",
    "YMDB_Data.loc[YMDB_Data['ID']=='YMDB00074',['in_model']] = 1 #cyanide\n",
    "YMDB_Data.loc[YMDB_Data['ID']=='YMDB00108',['in_model']] = 1 #fructose 1,6-bisphosphate\n",
    "YMDB_Data.loc[YMDB_Data['ID']=='YMDB00121',['in_model']] = 1 #sulfide\n",
    "YMDB_Data.loc[YMDB_Data['ID']=='YMDB00253',['in_model']] = 1 #d-ribose\n",
    "YMDB_Data.loc[YMDB_Data['ID']=='YMDB00657',['in_model']] = 1 #D-fructose\n",
    "YMDB_Data.loc[YMDB_Data['ID']=='YMDB00789',['in_model']] = 1 #Galactose\n",
    "YMDB_Data.loc[YMDB_Data['ID']=='YMDB00797',['in_model']] = 1 #udp-galactose\n",
    "YMDB_Data.loc[YMDB_Data['ID']=='YMDB01490',['in_model']] = 1 #Ammonium phosphate\n",
    "YMDB_Data.loc[YMDB_Data['ID']=='YMDB01491',['in_model']] = 1 #Ammonium chloride\n",
    "YMDB_Data.loc[YMDB_Data['ID']=='YMDB00032',['in_model']] = 1 #purine\n",
    "YMDB_Data.loc[YMDB_Data['ID']=='YMDB00020',['in_model']] = 1 #Sodium\n",
    "YMDB_Data.loc[YMDB_Data['ID']=='YMDB00207',['in_model']] = 1 #Copper(2+)\n",
    "YMDB_Data.loc[YMDB_Data['ID']=='YMDB01517',['in_model']] = 1 #chloride\n",
    "YMDB_Data.loc[YMDB_Data['ID']=='YMDB00358',['in_model']] = 1 #Calcium(2+)\n",
    "YMDB_Data.loc[YMDB_Data['ID']=='YMDB16117',['in_model']] = 1 #Potassium\n",
    "YMDB_Data.loc[YMDB_Data['ID']=='YMDB01523',['in_model']] = 1 #Phosphorus\n",
    "YMDB_Data['has_carbon'] = YMDB_Data['SMILES'].progress_apply(smiles_has_carbon)\n",
    "YMDB_Data.loc[YMDB_Data['has_carbon']==0,'in_model'] = 1\n",
    "YMDB_Data.to_excel(YMDB_total_smiles_path,index=False)\n",
    "not_lipid_target_smiles = YMDB_Data[(YMDB_Data['super_class']!='Lipids and lipid-like molecules')&(YMDB_Data['in_model']==0)]['SMILES'].to_list()\n",
    "not_lipid_target_smiles = get_target_smiles(not_lipid_target_smiles,not_lipid_target_smiles_path)\n",
    "\n",
    "lipid_target_smiles = YMDB_Data[(YMDB_Data['super_class']=='Lipids and lipid-like molecules')&(YMDB_Data['in_model']==0)]['SMILES'].to_list()\n",
    "lipid_target_smiles = get_target_smiles(lipid_target_smiles,lipid_target_smiles_path)"
   ]
  },
  {
   "cell_type": "code",
   "execution_count": 9,
   "metadata": {},
   "outputs": [
    {
     "name": "stderr",
     "output_type": "stream",
     "text": [
      "100%|██████████| 6/6 [00:00<00:00, 108942.96it/s]\n"
     ]
    }
   ],
   "source": [
    "not_lipid_target_smiles = process_complex_smiles(not_lipid_target_smiles,not_lipid_target_smiles_complex_path)\n"
   ]
  },
  {
   "cell_type": "code",
   "execution_count": 10,
   "metadata": {},
   "outputs": [
    {
     "name": "stdout",
     "output_type": "stream",
     "text": [
      "total_smiles 1520\n"
     ]
    }
   ],
   "source": [
    "#combine model smiles with target smiles\n",
    "# get_total_smiles(ymdb_output_final,yeast_model_path, not_lipid_target_smiles, not_lipid_yeast_met_file)\n",
    "get_total_smiles(yeast_model_path, not_lipid_target_smiles, not_lipid_yeast_met_file)"
   ]
  },
  {
   "cell_type": "code",
   "execution_count": 23,
   "metadata": {},
   "outputs": [
    {
     "name": "stdout",
     "output_type": "stream",
     "text": [
      "total_smiles 15255\n"
     ]
    }
   ],
   "source": [
    "get_total_smiles(yeast_model_path, lipid_target_smiles, lipid_yeast_met_file)\n"
   ]
  },
  {
   "cell_type": "code",
   "execution_count": 43,
   "metadata": {},
   "outputs": [
    {
     "name": "stderr",
     "output_type": "stream",
     "text": [
      "100%|██████████| 20210/20210 [00:03<00:00, 5309.52it/s]\n"
     ]
    }
   ],
   "source": [
    "#get lipid rules\n",
    "get_lipid_rules(path_enzyme_path,mnxreac_smile_atom_mapping_rules_file_path,lipid_mnxreac_smile_atom_mapping_rules_file_path)"
   ]
  },
  {
   "cell_type": "code",
   "execution_count": 12,
   "metadata": {},
   "outputs": [
    {
     "name": "stdout",
     "output_type": "stream",
     "text": [
      "15862\n"
     ]
    }
   ],
   "source": [
    "# get total inchikey0\n",
    "get_total_inchikey0(yeast_model_path, YMDB_total_smiles_path, total_met_inchikey0_file)"
   ]
  },
  {
   "cell_type": "code",
   "execution_count": 47,
   "metadata": {},
   "outputs": [
    {
     "name": "stdout",
     "output_type": "stream",
     "text": [
      "(1292154, 9)\n"
     ]
    },
    {
     "name": "stderr",
     "output_type": "stream",
     "text": [
      "100%|██████████| 1248094/1248094 [05:14<00:00, 3967.69it/s]\n",
      "/tmp/ipykernel_3768080/2225100372.py:8: SettingWithCopyWarning: \n",
      "A value is trying to be set on a copy of a slice from a DataFrame.\n",
      "Try using .loc[row_indexer,col_indexer] = value instead\n",
      "\n",
      "See the caveats in the documentation: https://pandas.pydata.org/pandas-docs/stable/user_guide/indexing.html#returning-a-view-versus-a-copy\n",
      "  mnxmeta_smile_filtered['inchikey0'] = mnxmeta_smile_filtered['SMILES'].apply(smiles2inchikey0)\n"
     ]
    },
    {
     "name": "stdout",
     "output_type": "stream",
     "text": [
      "(906669, 2)\n"
     ]
    }
   ],
   "source": [
    "mnxmeta_smile_filtered = get_mnxmeta_smiles_carbon(mnxmeta_smile_file_path,mnxmeta_smile_file_carbon_path)"
   ]
  },
  {
   "cell_type": "code",
   "execution_count": 48,
   "metadata": {},
   "outputs": [],
   "source": [
    "mnxmeta_smile_inchikey_dict = dict(zip(mnxmeta_smile_filtered['inchikey0'], mnxmeta_smile_filtered['SMILES']))\n",
    "with open(mnxmeta_smile_inchikey_dict_path, 'w') as f:\n",
    "    json.dump(mnxmeta_smile_inchikey_dict, f,indent=4)"
   ]
  },
  {
   "cell_type": "code",
   "execution_count": 24,
   "metadata": {},
   "outputs": [],
   "source": [
    "with open(mnxmeta_smile_inchikey_dict_path, 'r') as f:\n",
    "    mnxmeta_smile_inchikey_dict = json.load(f)"
   ]
  },
  {
   "cell_type": "code",
   "execution_count": 14,
   "metadata": {},
   "outputs": [
    {
     "name": "stdout",
     "output_type": "stream",
     "text": [
      "total_smiles 1520\n",
      "total_smiles 1515\n",
      "total_smiles 1490\n",
      "total_smiles 1463\n",
      "1463\n"
     ]
    }
   ],
   "source": [
    "not_lipid_yeast_total_smiles = process_yeast_smiles(not_lipid_yeast_met_file)\n",
    "print(len(not_lipid_yeast_total_smiles))\n",
    "not_lipid_total_inchikey0 = [smiles2inchikey0(x) for x in not_lipid_yeast_total_smiles]"
   ]
  },
  {
   "cell_type": "code",
   "execution_count": 25,
   "metadata": {},
   "outputs": [
    {
     "name": "stdout",
     "output_type": "stream",
     "text": [
      "total_smiles 15255\n",
      "total_smiles 15247\n",
      "total_smiles 15222\n",
      "total_smiles 15085\n",
      "15085\n"
     ]
    }
   ],
   "source": [
    "lipid_yeast_total_smiles = process_yeast_smiles(lipid_yeast_met_file)\n",
    "print(len(lipid_yeast_total_smiles))\n",
    "lipid_total_inchikey0 = [smiles2inchikey0(x) for x in lipid_yeast_total_smiles]"
   ]
  },
  {
   "cell_type": "code",
   "execution_count": 16,
   "metadata": {},
   "outputs": [
    {
     "name": "stderr",
     "output_type": "stream",
     "text": [
      "100%|██████████| 906669/906669 [00:03<00:00, 233105.93it/s]\n"
     ]
    }
   ],
   "source": [
    "get_smiles2metnetx(list(mnxmeta_smile_inchikey_dict.keys()), not_lipid_total_inchikey0,not_lipid_smiles2metnetx_path,num_processes=60)"
   ]
  },
  {
   "cell_type": "code",
   "execution_count": 26,
   "metadata": {},
   "outputs": [
    {
     "name": "stderr",
     "output_type": "stream",
     "text": [
      "100%|██████████| 906669/906669 [00:17<00:00, 52970.21it/s]\n"
     ]
    }
   ],
   "source": [
    "get_smiles2metnetx(list(mnxmeta_smile_inchikey_dict.keys()), lipid_total_inchikey0,lipid_smiles2metnetx_path,num_processes=40)\n"
   ]
  },
  {
   "cell_type": "code",
   "execution_count": 18,
   "metadata": {},
   "outputs": [
    {
     "name": "stderr",
     "output_type": "stream",
     "text": [
      "100%|██████████| 906669/906669 [00:00<00:00, 4776531.89it/s]\n",
      "100%|██████████| 1463/1463 [00:39<00:00, 36.73it/s]\n",
      "100%|██████████| 1457/1457 [00:00<00:00, 168810.28it/s]\n"
     ]
    }
   ],
   "source": [
    "smiles_metnetx_reverse(not_lipid_smiles2metnetx_path,not_lipid_total_inchikey0,mnxmeta_smile_inchikey_dict)"
   ]
  },
  {
   "cell_type": "code",
   "execution_count": 27,
   "metadata": {},
   "outputs": [
    {
     "name": "stderr",
     "output_type": "stream",
     "text": [
      "100%|██████████| 906669/906669 [00:00<00:00, 5509350.07it/s]\n",
      "100%|██████████| 15085/15085 [06:48<00:00, 36.88it/s]\n",
      "100%|██████████| 15073/15073 [00:00<00:00, 473453.69it/s]\n"
     ]
    }
   ],
   "source": [
    "smiles_metnetx_reverse(lipid_smiles2metnetx_path,lipid_total_inchikey0,mnxmeta_smile_inchikey_dict)\n"
   ]
  },
  {
   "cell_type": "code",
   "execution_count": 20,
   "metadata": {},
   "outputs": [
    {
     "name": "stdout",
     "output_type": "stream",
     "text": [
      "1463\n"
     ]
    },
    {
     "name": "stderr",
     "output_type": "stream",
     "text": [
      "100%|██████████| 1457/1457 [00:00<00:00, 1383854.38it/s]"
     ]
    },
    {
     "name": "stdout",
     "output_type": "stream",
     "text": [
      "3680\n"
     ]
    },
    {
     "name": "stderr",
     "output_type": "stream",
     "text": [
      "\n"
     ]
    }
   ],
   "source": [
    "merge_metnetx_smiles(not_lipid_yeast_total_smiles,not_lipid_smiles2metnetx_path,not_lipid_yeast_met_file)"
   ]
  },
  {
   "cell_type": "code",
   "execution_count": 28,
   "metadata": {},
   "outputs": [
    {
     "name": "stdout",
     "output_type": "stream",
     "text": [
      "15085\n"
     ]
    },
    {
     "name": "stderr",
     "output_type": "stream",
     "text": [
      "100%|██████████| 15073/15073 [00:00<00:00, 3303241.77it/s]"
     ]
    },
    {
     "name": "stdout",
     "output_type": "stream",
     "text": [
      "19742\n"
     ]
    },
    {
     "name": "stderr",
     "output_type": "stream",
     "text": [
      "\n"
     ]
    }
   ],
   "source": [
    "merge_metnetx_smiles(lipid_yeast_total_smiles,lipid_smiles2metnetx_path,lipid_yeast_met_file)\n"
   ]
  },
  {
   "cell_type": "code",
   "execution_count": null,
   "metadata": {},
   "outputs": [],
   "source": []
  }
 ],
 "metadata": {
  "kernelspec": {
   "display_name": "kcat",
   "language": "python",
   "name": "python3"
  },
  "language_info": {
   "codemirror_mode": {
    "name": "ipython",
    "version": 3
   },
   "file_extension": ".py",
   "mimetype": "text/x-python",
   "name": "python",
   "nbconvert_exporter": "python",
   "pygments_lexer": "ipython3",
   "version": "3.8.18"
  },
  "orig_nbformat": 4
 },
 "nbformat": 4,
 "nbformat_minor": 2
}
