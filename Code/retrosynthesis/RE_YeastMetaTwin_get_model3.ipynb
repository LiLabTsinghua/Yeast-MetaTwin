{
 "cells": [
  {
   "cell_type": "code",
   "execution_count": 1,
   "metadata": {},
   "outputs": [],
   "source": [
    "import pandas as pd\n",
    "import numpy as np\n",
    "import json\n",
    "import pandas as pd\n",
    "from cobra import Model, Reaction, Metabolite\n",
    "from cobra.flux_analysis import flux_variability_analysis\n",
    "import pickle\n",
    "from tqdm import tqdm \n",
    "from ast import literal_eval\n",
    "import cobra\n",
    "import matplotlib.pyplot as plt\n",
    "import numpy as np\n",
    "from multiprocessing import Pool\n",
    "from tqdm import tqdm\n",
    "from functools import partial \n",
    "import matplotlib.pyplot as plt\n",
    "import numpy as np\n",
    "from matplotlib.gridspec import GridSpec\n",
    "from matplotlib.ticker import MaxNLocator, FormatStrFormatter\n",
    "\n",
    "import gurobipy\n",
    "gurobipy.setParam('OutputFlag', 0)\n",
    "import sys\n",
    "# sys.path.append('../Script/')\n",
    "from common import *\n"
   ]
  },
  {
   "cell_type": "markdown",
   "metadata": {},
   "source": [
    "### input and output"
   ]
  },
  {
   "cell_type": "code",
   "execution_count": 2,
   "metadata": {},
   "outputs": [],
   "source": [
    "###input\n",
    "yeast870_path =  '../../Data/model/yeast-GEM.yml'\n",
    "\n",
    "yeast8U_path = '../../Data/model/yeast8U_del_re.yml'\n",
    "# yeast8U_path = '../../Data/model/yeast8U_Final_mod_del_del.yml'\n",
    "essential_genes_path = '../../Data/model/essential_genes.json'\n",
    "not_essential_genes_path = '../../Data/model/not_essential_genes.json'\n",
    "# biolog_data_path = '../../Data/Biolog_Substrate.tsv'\n",
    "\n",
    "###output\n",
    "ess_del_reaction_path = '../../Data/ess_del_reaction_df_re.csv'\n",
    "# gene_essential_confusion_matrix_figure_path = '../Figure_plus/figs4-a.pdf'"
   ]
  },
  {
   "cell_type": "code",
   "execution_count": 3,
   "metadata": {},
   "outputs": [],
   "source": [
    "with open(essential_genes_path, 'r') as f:\n",
    "    essential_genes = json.load(f)\n",
    "with open(not_essential_genes_path, 'r') as f:\n",
    "    not_essential_genes = json.load(f)"
   ]
  },
  {
   "cell_type": "code",
   "execution_count": 4,
   "metadata": {},
   "outputs": [],
   "source": [
    "def GEM_gene_essential(model_path):\n",
    "    model = cobra.io.load_yaml_model(model_path)\n",
    "    model.solver = 'gurobi'\n",
    "    model.optimize()\n",
    "    initial_biomass = model.reactions.get_by_id('r_2111').flux\n",
    "    essential_predict_list = []\n",
    "    notessential_predict_list = []\n",
    "    gene_lst = [x.id for x in model.genes]\n",
    "    for i in tqdm(gene_lst,total=len(gene_lst)):\n",
    "        with model:\n",
    "            model.genes.get_by_id(i).knock_out()\n",
    "            model.solver = 'gurobi'\n",
    "            model.optimize()            \n",
    "            flux_r_2111 = model.reactions.get_by_id('r_2111').flux\n",
    "            if flux_r_2111 < 0.1 * initial_biomass:\n",
    "            # if flux_r_2111 < 0.000001:\n",
    "                essential_predict_list.append(i)\n",
    "            else:\n",
    "                notessential_predict_list.append(i)\n",
    "    return essential_predict_list,notessential_predict_list"
   ]
  },
  {
   "cell_type": "code",
   "execution_count": 5,
   "metadata": {},
   "outputs": [
    {
     "name": "stderr",
     "output_type": "stream",
     "text": [
      "100%|██████████| 1163/1163 [01:52<00:00, 10.33it/s]\n"
     ]
    }
   ],
   "source": [
    "yeast8_essential_predict_list,yeast8_notessential_predict_list = GEM_gene_essential(yeast870_path)"
   ]
  },
  {
   "cell_type": "code",
   "execution_count": 6,
   "metadata": {},
   "outputs": [
    {
     "name": "stderr",
     "output_type": "stream",
     "text": [
      "100%|██████████| 2045/2045 [05:36<00:00,  6.07it/s]\n"
     ]
    }
   ],
   "source": [
    "yeast8U_essential_predict_list_plus,yeast8U_notessential_predict_list_plus = GEM_gene_essential(yeast8U_path)"
   ]
  },
  {
   "cell_type": "code",
   "execution_count": 7,
   "metadata": {},
   "outputs": [
    {
     "name": "stdout",
     "output_type": "stream",
     "text": [
      "54\n",
      "54\n",
      "73\n",
      "73\n",
      "19\n"
     ]
    },
    {
     "data": {
      "text/plain": [
       "['YDL045C',\n",
       " 'YDL055C',\n",
       " 'YDL141W',\n",
       " 'YDR454C',\n",
       " 'YDR487C',\n",
       " 'YER003C',\n",
       " 'YER023W',\n",
       " 'YER043C',\n",
       " 'YFL045C',\n",
       " 'YGL055W',\n",
       " 'YGR267C',\n",
       " 'YHR074W',\n",
       " 'YIL083C',\n",
       " 'YKL024C',\n",
       " 'YKL088W',\n",
       " 'YNR016C',\n",
       " 'YOR074C',\n",
       " 'YOR095C',\n",
       " 'YPR035W']"
      ]
     },
     "execution_count": 7,
     "metadata": {},
     "output_type": "execute_result"
    }
   ],
   "source": [
    "target_gene_lst = []\n",
    "\n",
    "yeast8U_tp = [x for x in yeast8U_essential_predict_list_plus if x in essential_genes]\n",
    "print(len(yeast8U_tp))\n",
    "print(len(set(yeast8U_tp)))\n",
    "yeast8_tp = [x for x in yeast8_essential_predict_list if x in essential_genes]\n",
    "print(len(yeast8_tp))\n",
    "print(len(set(yeast8_tp)))\n",
    "for i in yeast8_tp:\n",
    "    if i not in yeast8U_tp:\n",
    "        target_gene_lst.append(i)\n",
    "\n",
    "print(len(target_gene_lst))\n",
    "target_gene_lst"
   ]
  },
  {
   "cell_type": "code",
   "execution_count": 8,
   "metadata": {},
   "outputs": [],
   "source": [
    "# ess_del_reaction = {'gene':[],\n",
    "#                   'reaction':[]}\n",
    "\n",
    "# for target_gene in tqdm(target_gene_lst,total=len(target_gene_lst)):\n",
    "#     yeast8U = cobra.io.load_yaml_model(yeast8U_path)\n",
    "#     for i in yeast8U.reactions:\n",
    "#         if 'rxn' in i.id:\n",
    "#             i.bounds = (0,0)\n",
    "#     error_reaction = []\n",
    "#     for i in tqdm(yeast8U.reactions):\n",
    "#         if 'rxn' in i.id:\n",
    "#             i.bounds = (0,1000)\n",
    "#             yeast8U.genes.get_by_id(target_gene).knock_out()\n",
    "#             yeast8U.solver = 'gurobi'\n",
    "#             yeast8U.optimize()\n",
    "#             if yeast8U.optimize().objective_value>0.0000001:\n",
    "#                 i.bounds = (0,0)\n",
    "#                 error_reaction.append(i.id)\n",
    "\n",
    "#     ess_del_reaction['gene'].append(target_gene)\n",
    "#     ess_del_reaction['reaction'].append(error_reaction)"
   ]
  },
  {
   "cell_type": "code",
   "execution_count": 9,
   "metadata": {},
   "outputs": [
    {
     "name": "stderr",
     "output_type": "stream",
     "text": [
      "100%|██████████| 19/19 [10:39<00:00, 33.65s/it]  \n"
     ]
    }
   ],
   "source": [
    "# Define a function to process a single target_gene\n",
    "yeast8U = cobra.io.load_yaml_model(yeast8U_path)\n",
    "\n",
    "def process_gene(target_gene):\n",
    "    for i in yeast8U.reactions:\n",
    "        if 'rxn' in i.id:\n",
    "            i.bounds = (0,0)\n",
    "    error_reaction = []\n",
    "    for i in yeast8U.reactions:\n",
    "        if 'rxn' in i.id:\n",
    "            i.bounds = (0,1000)\n",
    "            yeast8U.genes.get_by_id(target_gene).knock_out()\n",
    "            yeast8U.solver = 'gurobi'\n",
    "            yeast8U.optimize()\n",
    "            if yeast8U.optimize().objective_value > 0.0000001:\n",
    "                i.bounds = (0,0)\n",
    "                error_reaction.append(i.id)\n",
    "\n",
    "    return target_gene, error_reaction\n",
    "\n",
    "# Initialize the dictionary\n",
    "ess_del_reaction = {'gene': [], 'reaction': []}\n",
    "\n",
    "# Use multiprocessing.Pool to parallelize the processing\n",
    "def parallel_process(genes):\n",
    "    with mp.Pool(20) as pool:\n",
    "        results = list(tqdm(pool.imap(process_gene, genes), total=len(genes)))\n",
    "    return results\n",
    "\n",
    "# Get the results from parallel processing\n",
    "results = parallel_process(target_gene_lst)\n",
    "\n",
    "# Add the results to the dictionary\n",
    "for target_gene, error_reaction in results:\n",
    "    ess_del_reaction['gene'].append(target_gene)\n",
    "    ess_del_reaction['reaction'].append(error_reaction)"
   ]
  },
  {
   "cell_type": "code",
   "execution_count": 10,
   "metadata": {},
   "outputs": [
    {
     "data": {
      "text/html": [
       "<div>\n",
       "<style scoped>\n",
       "    .dataframe tbody tr th:only-of-type {\n",
       "        vertical-align: middle;\n",
       "    }\n",
       "\n",
       "    .dataframe tbody tr th {\n",
       "        vertical-align: top;\n",
       "    }\n",
       "\n",
       "    .dataframe thead th {\n",
       "        text-align: right;\n",
       "    }\n",
       "</style>\n",
       "<table border=\"1\" class=\"dataframe\">\n",
       "  <thead>\n",
       "    <tr style=\"text-align: right;\">\n",
       "      <th></th>\n",
       "      <th>gene</th>\n",
       "      <th>reaction</th>\n",
       "      <th>num</th>\n",
       "    </tr>\n",
       "  </thead>\n",
       "  <tbody>\n",
       "    <tr>\n",
       "      <th>0</th>\n",
       "      <td>YDL045C</td>\n",
       "      <td>[rxn38823]</td>\n",
       "      <td>1</td>\n",
       "    </tr>\n",
       "    <tr>\n",
       "      <th>1</th>\n",
       "      <td>YDL055C</td>\n",
       "      <td>[rxn3383]</td>\n",
       "      <td>1</td>\n",
       "    </tr>\n",
       "    <tr>\n",
       "      <th>2</th>\n",
       "      <td>YDL141W</td>\n",
       "      <td>[rxn43164, rxn5109]</td>\n",
       "      <td>2</td>\n",
       "    </tr>\n",
       "    <tr>\n",
       "      <th>3</th>\n",
       "      <td>YDR454C</td>\n",
       "      <td>[rxn3383]</td>\n",
       "      <td>1</td>\n",
       "    </tr>\n",
       "    <tr>\n",
       "      <th>4</th>\n",
       "      <td>YDR487C</td>\n",
       "      <td>[rxn34019]</td>\n",
       "      <td>1</td>\n",
       "    </tr>\n",
       "    <tr>\n",
       "      <th>5</th>\n",
       "      <td>YER003C</td>\n",
       "      <td>[rxn18995, rxn19002, rxn19003, rxn19008, rxn19...</td>\n",
       "      <td>77</td>\n",
       "    </tr>\n",
       "    <tr>\n",
       "      <th>6</th>\n",
       "      <td>YER023W</td>\n",
       "      <td>[rxn41834, rxn26309]</td>\n",
       "      <td>2</td>\n",
       "    </tr>\n",
       "    <tr>\n",
       "      <th>7</th>\n",
       "      <td>YER043C</td>\n",
       "      <td>[rxn5366, rxn3229, rxn3239, rxn3244, rxn2039, ...</td>\n",
       "      <td>8</td>\n",
       "    </tr>\n",
       "    <tr>\n",
       "      <th>8</th>\n",
       "      <td>YFL045C</td>\n",
       "      <td>[rxn3383]</td>\n",
       "      <td>1</td>\n",
       "    </tr>\n",
       "    <tr>\n",
       "      <th>9</th>\n",
       "      <td>YGL055W</td>\n",
       "      <td>[rxn18630, rxn75333, rxn8772, rxn12340, rxn123...</td>\n",
       "      <td>19</td>\n",
       "    </tr>\n",
       "    <tr>\n",
       "      <th>10</th>\n",
       "      <td>YGR267C</td>\n",
       "      <td>[rxn78928]</td>\n",
       "      <td>1</td>\n",
       "    </tr>\n",
       "    <tr>\n",
       "      <th>11</th>\n",
       "      <td>YHR074W</td>\n",
       "      <td>[rxn11536]</td>\n",
       "      <td>1</td>\n",
       "    </tr>\n",
       "    <tr>\n",
       "      <th>12</th>\n",
       "      <td>YIL083C</td>\n",
       "      <td>[rxn50165, rxn50166, rxn13739, rxn13741, rxn72...</td>\n",
       "      <td>8</td>\n",
       "    </tr>\n",
       "    <tr>\n",
       "      <th>13</th>\n",
       "      <td>YKL024C</td>\n",
       "      <td>[rxn52206]</td>\n",
       "      <td>1</td>\n",
       "    </tr>\n",
       "    <tr>\n",
       "      <th>14</th>\n",
       "      <td>YKL088W</td>\n",
       "      <td>[rxn50165, rxn13739, rxn3667, rxn706]</td>\n",
       "      <td>4</td>\n",
       "    </tr>\n",
       "    <tr>\n",
       "      <th>15</th>\n",
       "      <td>YNR016C</td>\n",
       "      <td>[rxn43164, rxn5109]</td>\n",
       "      <td>2</td>\n",
       "    </tr>\n",
       "    <tr>\n",
       "      <th>16</th>\n",
       "      <td>YOR074C</td>\n",
       "      <td>[rxn25645, rxn56171, rxn56548, rxn81523]</td>\n",
       "      <td>4</td>\n",
       "    </tr>\n",
       "    <tr>\n",
       "      <th>17</th>\n",
       "      <td>YOR095C</td>\n",
       "      <td>[rxn41963, rxn45895, rxn45896, rxn45903, rxn45...</td>\n",
       "      <td>30</td>\n",
       "    </tr>\n",
       "    <tr>\n",
       "      <th>18</th>\n",
       "      <td>YPR035W</td>\n",
       "      <td>[rxn26932, rxn36117, rxn36118, rxn38421, rxn38...</td>\n",
       "      <td>42</td>\n",
       "    </tr>\n",
       "  </tbody>\n",
       "</table>\n",
       "</div>"
      ],
      "text/plain": [
       "       gene                                           reaction  num\n",
       "0   YDL045C                                         [rxn38823]    1\n",
       "1   YDL055C                                          [rxn3383]    1\n",
       "2   YDL141W                                [rxn43164, rxn5109]    2\n",
       "3   YDR454C                                          [rxn3383]    1\n",
       "4   YDR487C                                         [rxn34019]    1\n",
       "5   YER003C  [rxn18995, rxn19002, rxn19003, rxn19008, rxn19...   77\n",
       "6   YER023W                               [rxn41834, rxn26309]    2\n",
       "7   YER043C  [rxn5366, rxn3229, rxn3239, rxn3244, rxn2039, ...    8\n",
       "8   YFL045C                                          [rxn3383]    1\n",
       "9   YGL055W  [rxn18630, rxn75333, rxn8772, rxn12340, rxn123...   19\n",
       "10  YGR267C                                         [rxn78928]    1\n",
       "11  YHR074W                                         [rxn11536]    1\n",
       "12  YIL083C  [rxn50165, rxn50166, rxn13739, rxn13741, rxn72...    8\n",
       "13  YKL024C                                         [rxn52206]    1\n",
       "14  YKL088W              [rxn50165, rxn13739, rxn3667, rxn706]    4\n",
       "15  YNR016C                                [rxn43164, rxn5109]    2\n",
       "16  YOR074C           [rxn25645, rxn56171, rxn56548, rxn81523]    4\n",
       "17  YOR095C  [rxn41963, rxn45895, rxn45896, rxn45903, rxn45...   30\n",
       "18  YPR035W  [rxn26932, rxn36117, rxn36118, rxn38421, rxn38...   42"
      ]
     },
     "execution_count": 10,
     "metadata": {},
     "output_type": "execute_result"
    }
   ],
   "source": [
    "ess_del_reaction_df = pd.DataFrame(ess_del_reaction)\n",
    "ess_del_reaction_df['num'] = ess_del_reaction_df['reaction'].apply(lambda x:len(x))\n",
    "ess_del_reaction_df"
   ]
  },
  {
   "cell_type": "code",
   "execution_count": 11,
   "metadata": {},
   "outputs": [],
   "source": [
    "ess_del_reaction_df.to_csv(ess_del_reaction_path,index=False)"
   ]
  },
  {
   "cell_type": "code",
   "execution_count": null,
   "metadata": {},
   "outputs": [],
   "source": []
  }
 ],
 "metadata": {
  "kernelspec": {
   "display_name": "kcat",
   "language": "python",
   "name": "python3"
  },
  "language_info": {
   "codemirror_mode": {
    "name": "ipython",
    "version": 3
   },
   "file_extension": ".py",
   "mimetype": "text/x-python",
   "name": "python",
   "nbconvert_exporter": "python",
   "pygments_lexer": "ipython3",
   "version": "3.8.18"
  }
 },
 "nbformat": 4,
 "nbformat_minor": 2
}
