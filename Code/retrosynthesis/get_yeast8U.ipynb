{
 "cells": [
  {
   "cell_type": "code",
   "execution_count": 1,
   "metadata": {},
   "outputs": [],
   "source": [
    "import pandas as pd\n",
    "import numpy as np\n",
    "import json\n",
    "import pandas as pd\n",
    "import re\n",
    "from rdkit import Chem\n",
    "from rdkit.Chem import AllChem\n",
    "from collections import Counter,defaultdict\n",
    "import cobra\n",
    "from tqdm import tqdm\n",
    "\n",
    "import sys\n",
    "# sys.path.append('../Script/')\n",
    "from common import *\n",
    "# from check_newinfo_getyeast8U import *"
   ]
  },
  {
   "cell_type": "code",
   "execution_count": 2,
   "metadata": {},
   "outputs": [],
   "source": [
    "### input\n",
    "lipid_rxndb_total_info_to_model_path = '../../Results/lipid/rxndb_total_info_to_model_yeast8_lipid.csv'\n",
    "# yeast8U_not_lipid_path = '../Data/output/model/yeast8U_not_lipid.yml'\n",
    "yeast870_path =  '../../Data/model/yeast-GEM.yml'\n",
    "lipid_metabolites_info_to_GEM_path = '../../Results/lipid/metabolites_info_to_GEM_yeast8_lipid.csv'\n",
    "lipid_yeast8_reaction_in_rxndb_json = '../../Results/lipid/yeast8_reaction_in_rxndb_json_yeast8_lipid.json'\n",
    "### output\n",
    "yeast8U_lipid_path = '../../Data/model/yeast8U_lipid.yml'"
   ]
  },
  {
   "cell_type": "code",
   "execution_count": 4,
   "metadata": {},
   "outputs": [
    {
     "name": "stdout",
     "output_type": "stream",
     "text": [
      "(41708, 8)\n",
      "(38537, 8)\n"
     ]
    }
   ],
   "source": [
    "# rxndb_to_model_total_info = pd.read_csv(lipid_rxndb_total_info_to_model_path)\n",
    "# rxndb_to_model_total_info['equation_dict'] = rxndb_to_model_total_info['equation_dict'].apply(lambda x:literal_eval(x))\n",
    "# print(rxndb_to_model_total_info.shape)\n",
    "# # rxndb_to_model_total_info['equation_dict'] = rxndb_to_model_total_info['equation_dict'].apply(lambda x:{k:v for k, v in x.items() if k not in miss_met_id})\n",
    "# rxndb_to_model_total_info = rxndb_to_model_total_info[~rxndb_to_model_total_info['equation_dict'].apply(lambda x : all('s_' in k for k, v in x.items()))]\n",
    "# print(rxndb_to_model_total_info.shape)\n",
    "# rxndb_to_model_total_info.to_csv(lipid_rxndb_total_info_to_model_path,index=None)"
   ]
  },
  {
   "cell_type": "markdown",
   "metadata": {},
   "source": [
    "### ④ get yeast8-U"
   ]
  },
  {
   "cell_type": "code",
   "execution_count": 5,
   "metadata": {},
   "outputs": [
    {
     "name": "stdout",
     "output_type": "stream",
     "text": [
      "(28535, 4)\n",
      "(38537, 8)\n",
      "(38537, 8)\n",
      "(38537, 8)\n"
     ]
    },
    {
     "name": "stderr",
     "output_type": "stream",
     "text": [
      "100%|██████████| 38537/38537 [07:17<00:00, 88.15it/s] \n"
     ]
    }
   ],
   "source": [
    "get_yeast8U(lipid_metabolites_info_to_GEM_path,lipid_rxndb_total_info_to_model_path,lipid_yeast8_reaction_in_rxndb_json,yeast870_path,yeast8U_lipid_path)"
   ]
  },
  {
   "cell_type": "code",
   "execution_count": 3,
   "metadata": {},
   "outputs": [],
   "source": [
    "# yeast8 = cobra.io.load_yaml_model(yeast870_path)\n",
    "yeast8U = cobra.io.load_yaml_model(yeast8U_path)"
   ]
  }
 ],
 "metadata": {
  "kernelspec": {
   "display_name": "kcat",
   "language": "python",
   "name": "python3"
  },
  "language_info": {
   "codemirror_mode": {
    "name": "ipython",
    "version": 3
   },
   "file_extension": ".py",
   "mimetype": "text/x-python",
   "name": "python",
   "nbconvert_exporter": "python",
   "pygments_lexer": "ipython3",
   "version": "3.8.18"
  },
  "orig_nbformat": 4
 },
 "nbformat": 4,
 "nbformat_minor": 2
}
