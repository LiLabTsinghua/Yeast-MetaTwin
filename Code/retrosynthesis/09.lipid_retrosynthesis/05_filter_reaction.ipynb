{
 "cells": [
  {
   "cell_type": "code",
   "execution_count": 1,
   "metadata": {
    "metadata": {}
   },
   "outputs": [],
   "source": [
    "import pandas as pd\n",
    "import numpy as np\n",
    "\n",
    "import json\n",
    "from rdkit import Chem\n",
    "import pandas as pd\n",
    "import itertools\n",
    "import sys\n",
    "from tqdm import tqdm \n",
    "from itertools import chain, combinations\n",
    "import sys\n",
    "import multiprocessing as mp\n",
    "from functools import partial\n",
    "from collections import Counter\n",
    "tqdm.pandas()\n",
    "sys.path.append('../')\n",
    "from common import *"
   ]
  },
  {
   "cell_type": "markdown",
   "metadata": {},
   "source": [
    "### input and output"
   ]
  },
  {
   "cell_type": "code",
   "execution_count": 2,
   "metadata": {
    "metadata": {}
   },
   "outputs": [],
   "source": [
    "###input\n",
    "target_smiles_path = '../../../Results/lipid/target_smiles_lipid.pickle'\n",
    "yeast8_metabolites_path = '../../../Data/yeast-GEM-final.csv'\n",
    "cut_off = 0.3\n",
    "num = 'all'\n",
    "num_process = 5\n",
    "cut_off_path = f'../../../Results/lipid/top{num}_{cut_off}_re/'\n",
    "metabolites_info_to_GEM_path = cut_off_path + f'metabolites_info_to_GEM_top{num}_{cut_off}.csv'\n",
    "\n",
    "rxndb_total_info_to_model_path = cut_off_path + f'rxndb_total_info_to_model_top{num}_{cut_off}.csv'\n",
    "###output\n",
    "rxndb_total_info_to_model_del_path = cut_off_path + f'rxndb_total_info_to_model_top{num}_{cut_off}_del.csv'\n",
    "\n",
    "rxndb_met_max_score_file = cut_off_path + f'rxndb_met_max_score_pd_top{num}_{cut_off}_new.csv'\n",
    "YMDB_success_met_smile_file = cut_off_path + f'YMDB_success_met_smile_top{num}_{cut_off}_new.pickle'\n",
    "YMDB_fail_met_smile_file = cut_off_path + f'YMDB_fail_met_smile_top{num}_{cut_off}_new.pickle'\n",
    "metabolites_info_to_GEM_del_path = cut_off_path + f'metabolites_info_to_GEM_top{num}_{cut_off}_del.csv'\n",
    "\n"
   ]
  },
  {
   "cell_type": "code",
   "execution_count": 3,
   "metadata": {},
   "outputs": [
    {
     "name": "stderr",
     "output_type": "stream",
     "text": [
      "100%|██████████| 100/100 [00:00<00:00, 292.00it/s]"
     ]
    },
    {
     "name": "stdout",
     "output_type": "stream",
     "text": [
      "number of metabolites in RXNDB: 33939\n"
     ]
    },
    {
     "name": "stderr",
     "output_type": "stream",
     "text": [
      "\n"
     ]
    }
   ],
   "source": [
    "rxndb_df = pd.read_csv(rxndb_total_info_to_model_path)\n",
    "rxndb_all_smiles = parallel_process_rxn_smiles(rxndb_df, n_splits=5,num_process=num_process)\n"
   ]
  },
  {
   "cell_type": "code",
   "execution_count": 5,
   "metadata": {},
   "outputs": [
    {
     "name": "stderr",
     "output_type": "stream",
     "text": [
      "100%|██████████| 33939/33939 [33:42<00:00, 16.78it/s]  \n"
     ]
    }
   ],
   "source": [
    "#get all the smiles in the yeast8\n",
    "yeast8_total_smiles = get_GEM_all_smiles(yeast8_metabolites_path)\n",
    "smile_max_score_pd = calculate_save_smiles_max_score(rxndb_all_smiles, yeast8_total_smiles,rxndb_met_max_score_file,num_processes=num_process)\n"
   ]
  },
  {
   "cell_type": "code",
   "execution_count": 6,
   "metadata": {},
   "outputs": [],
   "source": [
    "yeast8_total_smiles = get_GEM_all_smiles(yeast8_metabolites_path)"
   ]
  },
  {
   "cell_type": "code",
   "execution_count": 8,
   "metadata": {},
   "outputs": [],
   "source": [
    "sink0 = [smiles2inchikey0(x) for x in yeast8_total_smiles]"
   ]
  },
  {
   "cell_type": "code",
   "execution_count": 7,
   "metadata": {},
   "outputs": [],
   "source": [
    "def process_reactions_in_parallel_reactant(rxndb,origin_smile_max_score_pd,sink0_orign, num_processes=5, num_iterations=1):\n",
    "    num = 0\n",
    "    tmp_smile_max_score_pd = origin_smile_max_score_pd\n",
    "    while num < num_iterations:\n",
    "        num+=1\n",
    "        sink0 = list(set(sink0_orign))\n",
    "\n",
    "        # pool = multiprocessing.Pool(num_processes)\n",
    "        smiles_success = []\n",
    "        success_rxndbid = []\n",
    "        chunks = np.array_split(rxndb, 5)\n",
    "        with multiprocessing.Pool(num_processes) as pool:\n",
    "            for result in tqdm(pool.imap(partial(process_chunk_reactant,smile_max_score_pd=tmp_smile_max_score_pd), chunks), total=len(chunks)):\n",
    "                sink0_ = sink0 + [smiles2inchikey0(smile) for smile in result[0]]\n",
    "                sink0_ = list(set(sink0_))\n",
    "                if len(sink0_) > len(sink0):\n",
    "                    sink0 = sink0_\n",
    "                    success_rxndbid.extend(result[1])\n",
    "                    smiles_success.extend(result[0])\n",
    "\n",
    "            for result in tqdm(pool.imap(partial(process_chunk_product,smile_max_score_pd=tmp_smile_max_score_pd), chunks), total=len(chunks)):\n",
    "                sink0_ = sink0 + [smiles2inchikey0(smile) for smile in result[0]]\n",
    "                sink0_ = list(set(sink0_))\n",
    "                if len(sink0_) > len(sink0):\n",
    "                    sink0 = sink0_\n",
    "                    success_rxndbid.extend(result[1])\n",
    "                    smiles_success.extend(result[0])\n",
    "                # smiles_success.extend(result[0])\n",
    "                # success_rxndbid.extend(result[1])\n",
    "        # pool.close()\n",
    "        # pool.join()\n",
    "        \n",
    "        smiles_success = list(set(smiles_success))\n",
    "        success_rxndbid = list(set(success_rxndbid))\n",
    "        # Process cumulative successful SMILES\n",
    "        for smile in smiles_success:\n",
    "            if get_score_from_smiles(smile, tmp_smile_max_score_pd) < 1:\n",
    "                new_row = {'smile': smile, 'score': 1, 'sim_smile': 'sys'}\n",
    "                tmp_smile_max_score_pd = tmp_smile_max_score_pd._append(new_row, ignore_index=True)\n",
    "                # tmp_smile_max_score_pd = tmp_smile_max_score_pd.append(new_row, ignore_index=True)\n",
    "\n",
    "        # smiles_success = [normalize_smiles(met) for met in smiles_success]\n",
    "        # smiles_success = list(set(smiles_success))\n",
    "\n",
    "        print(f'Iteration {num} - Current success count: {len(smiles_success)}')\n",
    "        print(f'Iteration {num} - Current success_rxndbid count: {len(success_rxndbid)}')\n",
    "        print('============================================================================')\n",
    "\n",
    "    print('final success', len(smiles_success))\n",
    "    print('final success_rxndbid', len(success_rxndbid))\n",
    "    # print(success_rxndbid)\n",
    "    return smiles_success, success_rxndbid,tmp_smile_max_score_pd"
   ]
  },
  {
   "cell_type": "code",
   "execution_count": 9,
   "metadata": {},
   "outputs": [
    {
     "name": "stderr",
     "output_type": "stream",
     "text": [
      "100%|██████████| 100/100 [00:24<00:00,  4.00it/s]\n",
      "100%|██████████| 100/100 [00:32<00:00,  3.11it/s]\n"
     ]
    },
    {
     "name": "stdout",
     "output_type": "stream",
     "text": [
      "Iteration 1 - Current success count: 10657\n",
      "Iteration 1 - Current success_rxndbid count: 17840\n",
      "============================================================================\n"
     ]
    },
    {
     "name": "stderr",
     "output_type": "stream",
     "text": [
      "100%|██████████| 100/100 [00:52<00:00,  1.91it/s]\n",
      "100%|██████████| 100/100 [00:39<00:00,  2.55it/s]\n"
     ]
    },
    {
     "name": "stdout",
     "output_type": "stream",
     "text": [
      "Iteration 2 - Current success count: 18022\n",
      "Iteration 2 - Current success_rxndbid count: 34740\n",
      "============================================================================\n"
     ]
    },
    {
     "name": "stderr",
     "output_type": "stream",
     "text": [
      "100%|██████████| 100/100 [01:02<00:00,  1.59it/s]\n",
      "100%|██████████| 100/100 [01:23<00:00,  1.19it/s]\n"
     ]
    },
    {
     "name": "stdout",
     "output_type": "stream",
     "text": [
      "Iteration 3 - Current success count: 28713\n",
      "Iteration 3 - Current success_rxndbid count: 51340\n",
      "============================================================================\n",
      "final success 28713\n",
      "final success_rxndbid 51340\n"
     ]
    }
   ],
   "source": [
    "smiles_success,success_rxndbid,smiles_max_score_tmp_pd = process_reactions_in_parallel_reactant(rxndb_df, smile_max_score_pd,sink0, num_processes=num_process, num_iterations=3)\n"
   ]
  },
  {
   "cell_type": "code",
   "execution_count": 10,
   "metadata": {},
   "outputs": [
    {
     "name": "stdout",
     "output_type": "stream",
     "text": [
      "success number: 12320\n",
      "fail number: 1990\n"
     ]
    }
   ],
   "source": [
    "save_success_fail_target_smiles(target_smiles_path,smiles_success,YMDB_success_met_smile_file,YMDB_fail_met_smile_file)\n"
   ]
  },
  {
   "cell_type": "code",
   "execution_count": 11,
   "metadata": {},
   "outputs": [],
   "source": [
    "def save_rxndb_to_model(rxndb_df,success_rxndbid,rxndb_to_model_path):\n",
    "    rxndb_to_model = rxndb_df[rxndb_df['NO'].isin(success_rxndbid)].reset_index(drop=True)\n",
    "    print(rxndb_to_model.shape)\n",
    "    rxndb_to_model = rxndb_to_model.drop_duplicates(subset=['templateID', 'rxn_smiles_final'], keep='first').reset_index(drop=True)\n",
    "    print(rxndb_to_model.shape)\n",
    "    # rxndb_to_model = rxndb_to_model[['NO','EC_number','templateID','rxn_smiles_basic','rxn_smiles_final']]\n",
    "    # print(rxndb_to_model.shape)\n",
    "    rxndb_to_model.to_csv(rxndb_to_model_path,index=None)\n",
    "    print(rxndb_to_model.shape)"
   ]
  },
  {
   "cell_type": "code",
   "execution_count": 12,
   "metadata": {},
   "outputs": [
    {
     "name": "stdout",
     "output_type": "stream",
     "text": [
      "(51340, 8)\n",
      "(51340, 8)\n",
      "(51340, 8)\n"
     ]
    }
   ],
   "source": [
    "save_rxndb_to_model(rxndb_df,success_rxndbid,rxndb_total_info_to_model_del_path)\n"
   ]
  },
  {
   "cell_type": "code",
   "execution_count": 13,
   "metadata": {},
   "outputs": [
    {
     "name": "stdout",
     "output_type": "stream",
     "text": [
      "(41760, 4)\n",
      "(37751, 4)\n"
     ]
    }
   ],
   "source": [
    "\n",
    "rxndb_to_model = pd.read_csv(rxndb_total_info_to_model_del_path)\n",
    "metabolites_info_to_GEM = pd.read_csv(metabolites_info_to_GEM_path)\n",
    "met_id_lst = []\n",
    "rxndb_to_model['equation_dict'] = rxndb_to_model['equation_dict'].apply(lambda x:literal_eval(x))\n",
    "for i in range(len(rxndb_to_model)):\n",
    "    met_id_lst += list(rxndb_to_model['equation_dict'].iloc[i].keys())\n",
    "\n",
    "met_id_lst = list(set(met_id_lst))\n",
    "print(metabolites_info_to_GEM.shape)\n",
    "metabolites_info_to_GEM_del = metabolites_info_to_GEM[metabolites_info_to_GEM['ID'].isin(met_id_lst)]\n",
    "print(metabolites_info_to_GEM_del.shape)\n",
    "metabolites_info_to_GEM_del.to_csv(metabolites_info_to_GEM_del_path, index=False)\n"
   ]
  }
 ],
 "metadata": {
  "kernelspec": {
   "display_name": "kcat",
   "language": "python",
   "name": "python3"
  },
  "language_info": {
   "codemirror_mode": {
    "name": "ipython",
    "version": 3
   },
   "file_extension": ".py",
   "mimetype": "text/x-python",
   "name": "python",
   "nbconvert_exporter": "python",
   "pygments_lexer": "ipython3",
   "version": "3.8.18"
  },
  "orig_nbformat": 4
 },
 "nbformat": 4,
 "nbformat_minor": 2
}
