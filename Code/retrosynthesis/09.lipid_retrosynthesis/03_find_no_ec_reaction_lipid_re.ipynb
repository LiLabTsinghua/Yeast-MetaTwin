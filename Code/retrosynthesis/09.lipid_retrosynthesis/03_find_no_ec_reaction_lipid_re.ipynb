{
 "cells": [
  {
   "cell_type": "code",
   "execution_count": 1,
   "metadata": {},
   "outputs": [],
   "source": [
    "import pandas as pd\n",
    "import matplotlib.pyplot as plt\n",
    "import sys\n",
    "import re\n",
    "sys.path.append('../')\n",
    "from common import *\n",
    "from tqdm import tqdm\n",
    "import multiprocessing\n",
    "from functools import partial\n",
    "tqdm.pandas()\n",
    "import numpy as np"
   ]
  },
  {
   "cell_type": "code",
   "execution_count": 6,
   "metadata": {},
   "outputs": [],
   "source": [
    "###input\n",
    "cut_off = 0.3\n",
    "num = 'all'\n",
    "cut_off_path = f'../../../Results/lipid/top{num}_{cut_off}_re/'\n",
    "cut_off_remain_path = f'../../../Results/lipid/top{num}_{cut_off}_remain_re/'\n",
    "rxndb_to_model_path = cut_off_path + f'rxndb_to_model_top{num}_{cut_off}.csv'\n",
    "rxndb_to_model_add_no_ec_path = cut_off_remain_path + f'rxndb_to_model_top{num}_{cut_off}_remain.csv'\n",
    "ymdb_output_final = '../../../Data/database/ymdb/ymdb_final_result.xlsx'\n",
    "yeast_model_path = '../../../Data/yeast-GEM-final.csv'\n",
    "uptake_met_path = '../../../Data/dtabase/ymdb/ymdb_uptake.csv'\n",
    "rxndb_met_max_score_file = cut_off_path + f'rxndb_met_max_score_pd_top{num}_{cut_off}.csv'\n",
    "lipid_YMDB_success_met_smile_file_remian ='../../../Results/lipid/topall_0.3_remain_re/YMDB_success_met_smile_topall_0.3_remain.pickle'\n",
    "lipid_YMDB_success_met_smile_file = '../../../Results/lipid/topall_0.3_re/YMDB_success_met_smile_topall_0.3.pickle'\n",
    "###output\n",
    "rxndb_met_max_score_output_file = cut_off_path + f'rxndb_met_max_score_pd_top{num}_{cut_off}_merge.csv'\n",
    "rxndb_to_model_with_target_path = cut_off_path + f'rxndb_to_model_with_target_topall_0.3.csv'\n",
    "rxndb_to_model_with_target_success_path = cut_off_path + 'rxndb_to_model_with_target_topall_0.3_success.csv'"
   ]
  },
  {
   "cell_type": "code",
   "execution_count": 3,
   "metadata": {},
   "outputs": [],
   "source": [
    "def get_score_from_smiles(input_smiles,smile_max_score_pd): ###return highest similarity score\n",
    "    row = smile_max_score_pd[smile_max_score_pd['inchikey0'] == smiles2inchikey0(input_smiles)]\n",
    "    if not row.empty:\n",
    "        return row['score'].max()\n",
    "    else:\n",
    "        return 0\n",
    "def process_reaction_product(index_row,smile_max_score_pd):\n",
    "    index, row = index_row\n",
    "    reactant_smiles = row['rxn_smiles_basic'].split('>>')[0].split('.')\n",
    "    product_smiles = row['rxn_smiles_basic'].split('>>')[1].split('.')\n",
    "    scores = []\n",
    "\n",
    "    for i in product_smiles:\n",
    "        scores.append(get_score_from_smiles(i, smile_max_score_pd))\n",
    "\n",
    "    scores_all_0 = all(score == 1 for score in scores)\n",
    "\n",
    "    if scores_all_0 and len(reactant_smiles)>0:\n",
    "        return reactant_smiles, row['NO']\n",
    "    else:\n",
    "        return [], None\n",
    "def process_reaction_reactant(index_row,smile_max_score_pd):\n",
    "    index, row = index_row\n",
    "    reactant_smiles = row['rxn_smiles_basic'].split('>>')[0].split('.')\n",
    "    product_smiles = row['rxn_smiles_basic'].split('>>')[1].split('.')\n",
    "    scores = []\n",
    "\n",
    "    for i in reactant_smiles:\n",
    "        scores.append(get_score_from_smiles(i, smile_max_score_pd))\n",
    "\n",
    "    scores_all_0 = all(score == 1 for score in scores)\n",
    "\n",
    "    if scores_all_0 and len(product_smiles)>0:\n",
    "        return product_smiles, row['NO']\n",
    "    else:\n",
    "        return [], None\n",
    "def process_chunk_reactant(chunk_df,smile_max_score_pd):\n",
    "    smiles_success = []\n",
    "    success_rxndbid = []\n",
    "    for result in map(partial(process_reaction_reactant,smile_max_score_pd=smile_max_score_pd), chunk_df.iterrows()):\n",
    "        if result[0]:  # check whether the result is non-empty\n",
    "            smiles_success.extend(result[0])\n",
    "        if result[1] is not None:\n",
    "            success_rxndbid.append(result[1])\n",
    "    return smiles_success, success_rxndbid\n",
    "def process_chunk_product(chunk_df,smile_max_score_pd):\n",
    "    smiles_success = []\n",
    "    success_rxndbid = []\n",
    "    for result in map(partial(process_reaction_product,smile_max_score_pd=smile_max_score_pd), chunk_df.iterrows()):\n",
    "        if result[0]:  # check whether the result is non-empty\n",
    "            smiles_success.extend(result[0])\n",
    "        if result[1] is not None:\n",
    "            success_rxndbid.append(result[1])\n",
    "    return smiles_success, success_rxndbid\n",
    "def process_reactions_in_parallel_reactant(rxndb,origin_smile_max_score_pd, num_processes=5, num_iterations=1):\n",
    "    num = 0\n",
    "    tmp_smile_max_score_pd = origin_smile_max_score_pd\n",
    "    while num < num_iterations:\n",
    "        num+=1\n",
    "        # pool = multiprocessing.Pool(num_processes)\n",
    "        smiles_success = []\n",
    "        success_rxndbid = []\n",
    "        chunks = np.array_split(rxndb, 5)\n",
    "        with multiprocessing.Pool(num_processes) as pool:\n",
    "            for result in tqdm(pool.imap(partial(process_chunk_reactant,smile_max_score_pd=tmp_smile_max_score_pd), chunks), total=len(chunks)):\n",
    "                success_inchikey0 = [smiles2inchikey0(x) for x in result[0]]\n",
    "                if any([x not in smiles_success for x in success_inchikey0]):\n",
    "                    smiles_success.extend(success_inchikey0)\n",
    "                    success_rxndbid.extend(result[1])\n",
    "            for result in tqdm(pool.imap(partial(process_chunk_product,smile_max_score_pd=tmp_smile_max_score_pd), chunks), total=len(chunks)):\n",
    "                success_inchikey0 = [smiles2inchikey0(x) for x in result[0]]\n",
    "                if any([x not in smiles_success for x in success_inchikey0]):\n",
    "                    smiles_success.extend(success_inchikey0)\n",
    "                    success_rxndbid.extend(result[1])\n",
    "        # pool.close()\n",
    "        # pool.join()\n",
    "        \n",
    "        smiles_success = list(set(smiles_success))\n",
    "        success_rxndbid = list(set(success_rxndbid))\n",
    "        # Process cumulative successful SMILES\n",
    "        for smile in smiles_success:\n",
    "            if get_score_from_smiles(smile, tmp_smile_max_score_pd) < 1:\n",
    "                new_row = {'smile': smile, 'score': 1, 'sim_smile': 'sys', 'inchikey0': smiles2inchikey0(smile)}\n",
    "                tmp_smile_max_score_pd = tmp_smile_max_score_pd._append(new_row, ignore_index=True)\n",
    "\n",
    "        # smiles_success = [normalize_smiles(met) for met in smiles_success]\n",
    "        # smiles_success = list(set(smiles_success))\n",
    "\n",
    "        print(f'Iteration {num} - Current success count: {len(smiles_success)}')\n",
    "        print(f'Iteration {num} - Current success_rxndbid count: {len(success_rxndbid)}')\n",
    "        print('============================================================================')\n",
    "\n",
    "    print('final success', len(smiles_success))\n",
    "    print('final success_rxndbid', len(success_rxndbid))\n",
    "    # print(success_rxndbid)\n",
    "    return smiles_success, success_rxndbid,tmp_smile_max_score_pd"
   ]
  },
  {
   "cell_type": "code",
   "execution_count": 7,
   "metadata": {},
   "outputs": [
    {
     "name": "stdout",
     "output_type": "stream",
     "text": [
      "13063\n"
     ]
    }
   ],
   "source": [
    "yeast8_total_smiles = get_all_smiles_in_model(yeast_model_path,ymdb_output_final)\n",
    "lipid_success_smiles = load_pickle(lipid_YMDB_success_met_smile_file)   \n",
    "uptake_met = pd.read_csv(uptake_met_path)   \n",
    "uptake_smiles = uptake_met['SMILES'].to_list()\n",
    "sink_smiles = yeast8_total_smiles  + uptake_smiles + lipid_success_smiles \n",
    "sink_smiles = list(set(sink_smiles))\n",
    "sink0 = [smiles2inchikey0(x) for x in sink_smiles]\n",
    "sink0 = list(set(sink0))\n",
    "print(len(sink0))\n"
   ]
  },
  {
   "cell_type": "code",
   "execution_count": 8,
   "metadata": {},
   "outputs": [
    {
     "data": {
      "text/html": [
       "<div>\n",
       "<style scoped>\n",
       "    .dataframe tbody tr th:only-of-type {\n",
       "        vertical-align: middle;\n",
       "    }\n",
       "\n",
       "    .dataframe tbody tr th {\n",
       "        vertical-align: top;\n",
       "    }\n",
       "\n",
       "    .dataframe thead th {\n",
       "        text-align: right;\n",
       "    }\n",
       "</style>\n",
       "<table border=\"1\" class=\"dataframe\">\n",
       "  <thead>\n",
       "    <tr style=\"text-align: right;\">\n",
       "      <th></th>\n",
       "      <th>NO</th>\n",
       "      <th>EC number</th>\n",
       "      <th>templateID</th>\n",
       "      <th>rxn_smiles_basic</th>\n",
       "      <th>rxn_smiles_final</th>\n",
       "    </tr>\n",
       "  </thead>\n",
       "  <tbody>\n",
       "    <tr>\n",
       "      <th>0</th>\n",
       "      <td>rxn2</td>\n",
       "      <td>NaN</td>\n",
       "      <td>MNXR164590</td>\n",
       "      <td>CC(C)=CCCC(C)C1CCC2C3=C(CCC21C)C1(C)CCC(O)C(C)...</td>\n",
       "      <td>CC(C)=CCCC(C)C1CCC2C3=C(CCC21C)C1(C)CCC(O)C(C)...</td>\n",
       "    </tr>\n",
       "    <tr>\n",
       "      <th>1</th>\n",
       "      <td>rxn3</td>\n",
       "      <td>NaN</td>\n",
       "      <td>MNXR164590</td>\n",
       "      <td>CC(C=O)CCCC(C)C1CCC2C3C(O)CC4CC(O)CCC4(C)C3CCC...</td>\n",
       "      <td>CC(C=O)CCCC(C)C1CCC2C3C(O)CC4CC(O)CCC4(C)C3CCC...</td>\n",
       "    </tr>\n",
       "    <tr>\n",
       "      <th>2</th>\n",
       "      <td>rxn4</td>\n",
       "      <td>NaN</td>\n",
       "      <td>MNXR164590</td>\n",
       "      <td>CC(C)=CCCC(C)=CCCC(C)=CC=O.O=O&gt;&gt;CC(C)=CCCC(C)=...</td>\n",
       "      <td>CC(C)=CCCC(C)=CCCC(C)=CC=O.O=O.NC(=O)C1=CN([C@...</td>\n",
       "    </tr>\n",
       "    <tr>\n",
       "      <th>3</th>\n",
       "      <td>rxn5</td>\n",
       "      <td>NaN</td>\n",
       "      <td>MNXR164590</td>\n",
       "      <td>C=C(C)C1CC=C(C=O)CC1.O=O&gt;&gt;C=C(C)C1CC=C(C(=O)O)...</td>\n",
       "      <td>C=C(C)C1CC=C(C=O)CC1.O=O.NC(=O)C1=CN([C@@H]2O[...</td>\n",
       "    </tr>\n",
       "    <tr>\n",
       "      <th>4</th>\n",
       "      <td>rxn6</td>\n",
       "      <td>NaN</td>\n",
       "      <td>MNXR164590</td>\n",
       "      <td>CCCCCCCCCCCCCCCC=O.O=O&gt;&gt;CCCCCCCCCCCCCCCC(=O)O.O</td>\n",
       "      <td>CCCCCCCCCCCCCCCC=O.O=O.NC(=O)C1=CN([C@@H]2O[C@...</td>\n",
       "    </tr>\n",
       "  </tbody>\n",
       "</table>\n",
       "</div>"
      ],
      "text/plain": [
       "     NO EC number  templateID  \\\n",
       "0  rxn2       NaN  MNXR164590   \n",
       "1  rxn3       NaN  MNXR164590   \n",
       "2  rxn4       NaN  MNXR164590   \n",
       "3  rxn5       NaN  MNXR164590   \n",
       "4  rxn6       NaN  MNXR164590   \n",
       "\n",
       "                                    rxn_smiles_basic  \\\n",
       "0  CC(C)=CCCC(C)C1CCC2C3=C(CCC21C)C1(C)CCC(O)C(C)...   \n",
       "1  CC(C=O)CCCC(C)C1CCC2C3C(O)CC4CC(O)CCC4(C)C3CCC...   \n",
       "2  CC(C)=CCCC(C)=CCCC(C)=CC=O.O=O>>CC(C)=CCCC(C)=...   \n",
       "3  C=C(C)C1CC=C(C=O)CC1.O=O>>C=C(C)C1CC=C(C(=O)O)...   \n",
       "4    CCCCCCCCCCCCCCCC=O.O=O>>CCCCCCCCCCCCCCCC(=O)O.O   \n",
       "\n",
       "                                    rxn_smiles_final  \n",
       "0  CC(C)=CCCC(C)C1CCC2C3=C(CCC21C)C1(C)CCC(O)C(C)...  \n",
       "1  CC(C=O)CCCC(C)C1CCC2C3C(O)CC4CC(O)CCC4(C)C3CCC...  \n",
       "2  CC(C)=CCCC(C)=CCCC(C)=CC=O.O=O.NC(=O)C1=CN([C@...  \n",
       "3  C=C(C)C1CC=C(C=O)CC1.O=O.NC(=O)C1=CN([C@@H]2O[...  \n",
       "4  CCCCCCCCCCCCCCCC=O.O=O.NC(=O)C1=CN([C@@H]2O[C@...  "
      ]
     },
     "execution_count": 8,
     "metadata": {},
     "output_type": "execute_result"
    }
   ],
   "source": [
    "lipid_success_smiles_remain = load_pickle(lipid_YMDB_success_met_smile_file_remian)\n",
    "\n",
    "differenct_metabolites_inchikey0 = [smiles2inchikey0(x) for x in lipid_success_smiles_remain]\n",
    "rxndb_to_model_add_no_ec = pd.read_csv(rxndb_to_model_add_no_ec_path)\n",
    "rxndb_to_model_add_no_ec.head()"
   ]
  },
  {
   "cell_type": "code",
   "execution_count": 9,
   "metadata": {},
   "outputs": [],
   "source": [
    "def find_reaction_containing_metabolite(rxndb_to_model_add_no_ec,inchikey0):\n",
    "    rxndb_to_model_add_no_ec['product_inchikey0'] = rxndb_to_model_add_no_ec['rxn_smiles_basic'].progress_apply(lambda x: [smiles2inchikey0(i) for i in x.split('>>')[1].split('.')])\n",
    "    rxndb_to_model_add_no_ec['target_num'] = rxndb_to_model_add_no_ec['product_inchikey0'].progress_apply(lambda x: sum(i in inchikey0 for i in x))\n",
    "    return rxndb_to_model_add_no_ec[rxndb_to_model_add_no_ec['target_num'] > 0]\n",
    "def find_reaction_containing_metabolite_( rxndb_to_model_add_no_ec,inchikey0):\n",
    "    rxndb_to_model_add_no_ec['reactant_inchikey0'] = rxndb_to_model_add_no_ec['rxn_smiles_basic'].progress_apply(lambda x: [smiles2inchikey0(i) for i in x.split('>>')[0].split('.')])\n",
    "    rxndb_to_model_add_no_ec['target_num'] = rxndb_to_model_add_no_ec['reactant_inchikey0'].progress_apply(lambda x: sum(i in inchikey0 for i in x))\n",
    "    return rxndb_to_model_add_no_ec[rxndb_to_model_add_no_ec['target_num'] > 0]"
   ]
  },
  {
   "cell_type": "code",
   "execution_count": 10,
   "metadata": {},
   "outputs": [
    {
     "name": "stderr",
     "output_type": "stream",
     "text": [
      "100%|██████████| 1408066/1408066 [22:21<00:00, 1049.44it/s]\n",
      "100%|██████████| 1408066/1408066 [00:46<00:00, 30110.26it/s]\n"
     ]
    }
   ],
   "source": [
    "\n",
    "rxndb_to_model_add_no_ec_with_target = find_reaction_containing_metabolite( rxndb_to_model_add_no_ec,differenct_metabolites_inchikey0)"
   ]
  },
  {
   "cell_type": "code",
   "execution_count": 11,
   "metadata": {},
   "outputs": [],
   "source": [
    "rxndb_to_model_add_no_ec_with_target = rxndb_to_model_add_no_ec_with_target.drop(['product_inchikey0','target_num'],axis=1)\n"
   ]
  },
  {
   "cell_type": "code",
   "execution_count": 14,
   "metadata": {},
   "outputs": [],
   "source": [
    "rxndb_to_model_add_no_ec_with_target.to_csv(rxndb_to_model_with_target_path, index=False)"
   ]
  },
  {
   "cell_type": "code",
   "execution_count": 10,
   "metadata": {},
   "outputs": [],
   "source": [
    "rxndb_met_max_score_pd = pd.DataFrame({'smile': sink_smiles})\n",
    "rxndb_met_max_score_pd['score'] = 1\n",
    "rxndb_met_max_score_pd['sim_smile'] = ''\n",
    "rxndb_met_max_score_pd['inchikey0'] = rxndb_met_max_score_pd['smile'].apply(smiles2inchikey0)\n",
    "rxndb_met_max_score_pd.to_csv(rxndb_met_max_score_output_file, index=False)"
   ]
  },
  {
   "cell_type": "code",
   "execution_count": 11,
   "metadata": {},
   "outputs": [
    {
     "name": "stderr",
     "output_type": "stream",
     "text": [
      "100%|██████████| 100/100 [00:26<00:00,  3.71it/s]\n",
      "100%|██████████| 100/100 [00:26<00:00,  3.73it/s]\n"
     ]
    },
    {
     "name": "stdout",
     "output_type": "stream",
     "text": [
      "Iteration 1 - Current success count: 686\n",
      "Iteration 1 - Current success_rxndbid count: 3501\n",
      "============================================================================\n"
     ]
    },
    {
     "name": "stderr",
     "output_type": "stream",
     "text": [
      "100%|██████████| 100/100 [00:28<00:00,  3.52it/s]\n",
      "100%|██████████| 100/100 [00:28<00:00,  3.55it/s]\n"
     ]
    },
    {
     "name": "stdout",
     "output_type": "stream",
     "text": [
      "Iteration 2 - Current success count: 2820\n",
      "Iteration 2 - Current success_rxndbid count: 80877\n",
      "============================================================================\n",
      "final success 2820\n",
      "final success_rxndbid 80877\n"
     ]
    }
   ],
   "source": [
    "smiles_success,success_rxndbid,smiles_max_score_tmp_pd = process_reactions_in_parallel_reactant(rxndb_to_model_add_no_ec_with_target, rxndb_met_max_score_pd, num_processes=5, num_iterations=2)\n"
   ]
  },
  {
   "cell_type": "code",
   "execution_count": 12,
   "metadata": {},
   "outputs": [
    {
     "name": "stderr",
     "output_type": "stream",
     "text": [
      "100%|██████████| 100/100 [00:23<00:00,  4.26it/s]\n",
      "100%|██████████| 100/100 [00:23<00:00,  4.31it/s]\n"
     ]
    },
    {
     "name": "stdout",
     "output_type": "stream",
     "text": [
      "Iteration 1 - Current success count: 3649\n",
      "Iteration 1 - Current success_rxndbid count: 130122\n",
      "============================================================================\n"
     ]
    },
    {
     "name": "stderr",
     "output_type": "stream",
     "text": [
      "100%|██████████| 100/100 [00:24<00:00,  4.10it/s]\n",
      "100%|██████████| 100/100 [00:24<00:00,  4.12it/s]\n"
     ]
    },
    {
     "name": "stdout",
     "output_type": "stream",
     "text": [
      "Iteration 2 - Current success count: 3899\n",
      "Iteration 2 - Current success_rxndbid count: 168110\n",
      "============================================================================\n",
      "final success 3899\n",
      "final success_rxndbid 168110\n"
     ]
    }
   ],
   "source": [
    "smiles_success,success_rxndbid,smiles_max_score_tmp_pd = process_reactions_in_parallel_reactant(rxndb_to_model_add_no_ec_with_target, smiles_max_score_tmp_pd, num_processes=5, num_iterations=2)\n"
   ]
  },
  {
   "cell_type": "code",
   "execution_count": 13,
   "metadata": {},
   "outputs": [
    {
     "data": {
      "text/plain": [
       "(168110, 5)"
      ]
     },
     "execution_count": 13,
     "metadata": {},
     "output_type": "execute_result"
    }
   ],
   "source": [
    "rxndb_to_model_success = rxndb_to_model_add_no_ec_with_target[rxndb_to_model_add_no_ec_with_target['NO'].isin(success_rxndbid)]\n",
    "rxndb_to_model_success.shape"
   ]
  },
  {
   "cell_type": "code",
   "execution_count": 14,
   "metadata": {},
   "outputs": [],
   "source": [
    "rxndb_to_model_success.to_csv(rxndb_to_model_with_target_success_path, index=False)"
   ]
  },
  {
   "cell_type": "code",
   "execution_count": 31,
   "metadata": {},
   "outputs": [
    {
     "data": {
      "text/html": [
       "<div>\n",
       "<style scoped>\n",
       "    .dataframe tbody tr th:only-of-type {\n",
       "        vertical-align: middle;\n",
       "    }\n",
       "\n",
       "    .dataframe tbody tr th {\n",
       "        vertical-align: top;\n",
       "    }\n",
       "\n",
       "    .dataframe thead th {\n",
       "        text-align: right;\n",
       "    }\n",
       "</style>\n",
       "<table border=\"1\" class=\"dataframe\">\n",
       "  <thead>\n",
       "    <tr style=\"text-align: right;\">\n",
       "      <th></th>\n",
       "      <th>NO</th>\n",
       "      <th>EC number</th>\n",
       "      <th>templateID</th>\n",
       "      <th>rxn_smiles_basic</th>\n",
       "      <th>rxn_smiles_final</th>\n",
       "    </tr>\n",
       "  </thead>\n",
       "  <tbody>\n",
       "    <tr>\n",
       "      <th>0</th>\n",
       "      <td>rxn801</td>\n",
       "      <td>2.1.1.M6</td>\n",
       "      <td>MNXR120324_reverse</td>\n",
       "      <td>COc1cc(C=CC(=O)OC(C(=O)O)C(O)C(=O)O)ccc1O.Nc1n...</td>\n",
       "      <td>COc1cc(C=CC(=O)OC(C(=O)O)C(O)C(=O)O)ccc1O.Nc1n...</td>\n",
       "    </tr>\n",
       "    <tr>\n",
       "      <th>1</th>\n",
       "      <td>rxn808</td>\n",
       "      <td>2.1.1.M6</td>\n",
       "      <td>MNXR120324_reverse</td>\n",
       "      <td>COc1cc(C=CC(=O)OC(C(=O)O)C(O)C(=O)O)ccc1O.Nc1n...</td>\n",
       "      <td>COc1cc(C=CC(=O)OC(C(=O)O)C(O)C(=O)O)ccc1O.Nc1n...</td>\n",
       "    </tr>\n",
       "    <tr>\n",
       "      <th>2</th>\n",
       "      <td>rxn815</td>\n",
       "      <td>2.1.1.M6</td>\n",
       "      <td>MNXR120324_reverse</td>\n",
       "      <td>COc1cc(C=CC(=O)OC(C(=O)O)C(O)C(=O)O)ccc1O.Nc1n...</td>\n",
       "      <td>COc1cc(C=CC(=O)OC(C(=O)O)C(O)C(=O)O)ccc1O.Nc1n...</td>\n",
       "    </tr>\n",
       "    <tr>\n",
       "      <th>3</th>\n",
       "      <td>rxn1290</td>\n",
       "      <td>3.1.3;3.1.3.-</td>\n",
       "      <td>MNXR116844</td>\n",
       "      <td>CCCCCCCCCCCCCC=CC(O)C([NH3+])COP(=O)([O-])[O-]...</td>\n",
       "      <td>CCCCCCCCCCCCCC=CC(O)C([NH3+])COP(=O)([O-])[O-]...</td>\n",
       "    </tr>\n",
       "    <tr>\n",
       "      <th>4</th>\n",
       "      <td>rxn1297</td>\n",
       "      <td>3.1.3;3.1.3.-</td>\n",
       "      <td>MNXR116844</td>\n",
       "      <td>CCCCCCCCCCCCCC=CC(O)C(N)COP(=O)([O-])[O-].O&gt;&gt;C...</td>\n",
       "      <td>CCCCCCCCCCCCCC=CC(O)C(N)COP(=O)([O-])[O-].O&gt;&gt;C...</td>\n",
       "    </tr>\n",
       "  </tbody>\n",
       "</table>\n",
       "</div>"
      ],
      "text/plain": [
       "        NO      EC number          templateID  \\\n",
       "0   rxn801       2.1.1.M6  MNXR120324_reverse   \n",
       "1   rxn808       2.1.1.M6  MNXR120324_reverse   \n",
       "2   rxn815       2.1.1.M6  MNXR120324_reverse   \n",
       "3  rxn1290  3.1.3;3.1.3.-          MNXR116844   \n",
       "4  rxn1297  3.1.3;3.1.3.-          MNXR116844   \n",
       "\n",
       "                                    rxn_smiles_basic  \\\n",
       "0  COc1cc(C=CC(=O)OC(C(=O)O)C(O)C(=O)O)ccc1O.Nc1n...   \n",
       "1  COc1cc(C=CC(=O)OC(C(=O)O)C(O)C(=O)O)ccc1O.Nc1n...   \n",
       "2  COc1cc(C=CC(=O)OC(C(=O)O)C(O)C(=O)O)ccc1O.Nc1n...   \n",
       "3  CCCCCCCCCCCCCC=CC(O)C([NH3+])COP(=O)([O-])[O-]...   \n",
       "4  CCCCCCCCCCCCCC=CC(O)C(N)COP(=O)([O-])[O-].O>>C...   \n",
       "\n",
       "                                    rxn_smiles_final  \n",
       "0  COc1cc(C=CC(=O)OC(C(=O)O)C(O)C(=O)O)ccc1O.Nc1n...  \n",
       "1  COc1cc(C=CC(=O)OC(C(=O)O)C(O)C(=O)O)ccc1O.Nc1n...  \n",
       "2  COc1cc(C=CC(=O)OC(C(=O)O)C(O)C(=O)O)ccc1O.Nc1n...  \n",
       "3  CCCCCCCCCCCCCC=CC(O)C([NH3+])COP(=O)([O-])[O-]...  \n",
       "4  CCCCCCCCCCCCCC=CC(O)C(N)COP(=O)([O-])[O-].O>>C...  "
      ]
     },
     "execution_count": 31,
     "metadata": {},
     "output_type": "execute_result"
    }
   ],
   "source": [
    "rxndb_to_model_success.head()"
   ]
  },
  {
   "cell_type": "code",
   "execution_count": 21,
   "metadata": {},
   "outputs": [
    {
     "name": "stdout",
     "output_type": "stream",
     "text": [
      "1221\n"
     ]
    }
   ],
   "source": [
    "success_inchikey0 = [smiles2inchikey0(x) for x in smiles_success]\n",
    "intesect = set(success_inchikey0).intersection(set(differenct_metabolites_inchikey0))\n",
    "print(len(intesect))"
   ]
  },
  {
   "cell_type": "code",
   "execution_count": 19,
   "metadata": {},
   "outputs": [
    {
     "data": {
      "text/plain": [
       "1347"
      ]
     },
     "execution_count": 19,
     "metadata": {},
     "output_type": "execute_result"
    }
   ],
   "source": [
    "len(list(set(differenct_metabolites_inchikey0)))"
   ]
  }
 ],
 "metadata": {
  "kernelspec": {
   "display_name": "gurob",
   "language": "python",
   "name": "python3"
  },
  "language_info": {
   "codemirror_mode": {
    "name": "ipython",
    "version": 3
   },
   "file_extension": ".py",
   "mimetype": "text/x-python",
   "name": "python",
   "nbconvert_exporter": "python",
   "pygments_lexer": "ipython3",
   "version": "3.8.18"
  }
 },
 "nbformat": 4,
 "nbformat_minor": 2
}
