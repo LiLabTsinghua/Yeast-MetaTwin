{
 "cells": [
  {
   "cell_type": "code",
   "execution_count": 1,
   "metadata": {
    "metadata": {}
   },
   "outputs": [],
   "source": [
    "import pandas as pd\n",
    "import numpy as np\n",
    "\n",
    "import json\n",
    "from rdkit import Chem\n",
    "import pandas as pd\n",
    "import itertools\n",
    "import sys\n",
    "from tqdm import tqdm \n",
    "from itertools import chain, combinations\n",
    "import sys\n",
    "import multiprocessing as mp\n",
    "from functools import partial\n",
    "from collections import Counter\n",
    "tqdm.pandas()\n",
    "sys.path.append('../')\n",
    "from common import *"
   ]
  },
  {
   "cell_type": "markdown",
   "metadata": {},
   "source": [
    "### input and output"
   ]
  },
  {
   "cell_type": "code",
   "execution_count": 3,
   "metadata": {
    "metadata": {}
   },
   "outputs": [],
   "source": [
    "###input\n",
    "ymdb_output_final = '../../../Data/ymdb/ymdb_final_result.xlsx'\n",
    "target_smiles_path = '../../../Results/lipid/target_smiles_lipid.pickle'\n",
    "target_model_smiles_path = '../../../Results/lipid/yeast_met_lipid.pickle'\n",
    "yeast8_metabolites_path = '../../../Data/model/yeast-GEM-final.csv'\n",
    "total_met_inchikey0_file = '../../../Data/analysis/total_met_inchikey0.pickle'\n",
    "# uptake_met_path = '../../../Data/ymdb/ymdb_uptake.csv'\n",
    "cut_off = 0.3\n",
    "num = 'all'\n",
    "num_process = 5\n",
    "metabolites_info_to_GEM_path = f'../../../Results/lipid/top{num}_{cut_off}_re/' + f'metabolites_info_to_GEM_top{num}_{cut_off}.csv'\n",
    "rxndb_total_info_to_model_del_path = f'../../../Results/lipid/top{num}_{cut_off}_re/' + f'rxndb_total_info_to_model_top{num}_{cut_off}_del.csv'\n",
    "\n",
    "cut_off_path = f'../../../Results/lipid/top{num}_{cut_off}_re_copy_new/'\n",
    "rxndb_met_max_score_file = f'../../../Results/lipid/top{num}_{cut_off}_re/' + f'rxndb_met_max_score_pd_top{num}_{cut_off}_new.csv'\n",
    "not_lipid_rxndb_met_max_score_file = f'../../../Results/not_lipid/top50_{cut_off}_add_no_ec_re/' + f'rxndb_met_max_score_pd_top50_0.3.csv'\n",
    "rxndb_total_info_to_model_path = f'../../../Results/lipid/top{num}_{cut_off}_re/' + f'rxndb_total_info_to_model_top{num}_{cut_off}.csv'\n",
    "YMDB_success_met_smile_11986_file = f'../../../Results/lipid/top{num}_{cut_off}_re/' + f'YMDB_success_met_smile_top{num}_{cut_off}.pickle'\n",
    "YMDB_success_met_smile_1350_file = f'../../../Results/lipid/top{num}_{cut_off}_remain_re/' + f'YMDB_success_met_smile_top{num}_{cut_off}_remain.pickle'\n",
    "rxndb_to_model_11986_path = f'../../../Results/lipid/top{num}_{cut_off}_re/' + f'rxndb_to_model_top{num}_{cut_off}.csv'\n",
    "rxndb_to_model_1350_path = f'../../../Results/lipid/top{num}_{cut_off}_re/' + 'rxndb_to_model_with_target_topall_0.3_success.csv'\n",
    "###output\n",
    "\n",
    "rxndb_met_max_score_file_output = f'../../../Results/lipid/top{num}_{cut_off}_re_copy_new/' + f'rxndb_met_max_score_pd_top{num}_{cut_off}.csv'\n",
    "rxndb_to_model_path = cut_off_path + f'rxndb_to_model_top{num}_{cut_off}.csv'\n",
    "rxndb_to_model_12320_plus_path = cut_off_path + f'rxndb_to_model_top{num}_{cut_off}_12320_plus.csv'\n",
    "rxndb_to_model_12320_plus2_path = cut_off_path + f'rxndb_to_model_top{num}_{cut_off}_12320_plus2.csv'\n",
    "YMDB_success_met_smile_file_no_del = cut_off_path + f'YMDB_success_met_smile_top{num}_{cut_off}_no_del.pickle'\n",
    "YMDB_fail_met_smile_no_del_file = cut_off_path + f'YMDB_fail_met_smile_top{num}_{cut_off}_no_del.pickle'\n",
    "YMDB_success_met_smile_12320_file = f'../../../Results/lipid/top{num}_{cut_off}_re/' + f'YMDB_success_met_smile_top{num}_{cut_off}_new.pickle'\n",
    "YMDB_success_met_smile_12320_plus_file = f'../../../Results/lipid/top{num}_{cut_off}_re_copy_new/' + f'YMDB_success_met_smile_top{num}_{cut_off}_plus.pickle'\n",
    "YMDB_fail_met_smile_12320_plus_file = f'../../../Results/lipid/top{num}_{cut_off}_re_copy_new/' + f'YMDB_fail_met_smile_top{num}_{cut_off}_plus.pickle'\n",
    "rxndb_to_model_no_del_with_target_new_merge_file = cut_off_path + f'rxndb_to_model_with_target_top{num}_{cut_off}_new_merge.csv'\n"
   ]
  },
  {
   "cell_type": "code",
   "execution_count": 4,
   "metadata": {},
   "outputs": [],
   "source": [
    "#check if the output folder exists\n",
    "if not os.path.exists(cut_off_path):\n",
    "    os.makedirs(cut_off_path)\n"
   ]
  },
  {
   "cell_type": "code",
   "execution_count": 4,
   "metadata": {},
   "outputs": [],
   "source": [
    "def process_reactions_in_parallel_reactant(rxndb,origin_smile_max_score_pd,sink0_orign, num_processes=5, num_iterations=1):\n",
    "    num = 0\n",
    "    tmp_smile_max_score_pd = origin_smile_max_score_pd\n",
    "    while num < num_iterations:\n",
    "        num+=1\n",
    "        sink0 = list(set(sink0_orign))\n",
    "\n",
    "        # pool = multiprocessing.Pool(num_processes)\n",
    "        smiles_success = []\n",
    "        success_rxndbid = []\n",
    "        chunks = np.array_split(rxndb, 5)\n",
    "        with multiprocessing.Pool(num_processes) as pool:\n",
    "            for result in tqdm(pool.imap(partial(process_chunk_reactant,smile_max_score_pd=tmp_smile_max_score_pd), chunks), total=len(chunks)):\n",
    "                sink0_ = sink0 + [smiles2inchikey0(smile) for smile in result[0]]\n",
    "                sink0_ = list(set(sink0_))\n",
    "                if len(sink0_) > len(sink0):\n",
    "                    sink0 = sink0_\n",
    "                    success_rxndbid.extend(result[1])\n",
    "                    smiles_success.extend(result[0])\n",
    "\n",
    "            for result in tqdm(pool.imap(partial(process_chunk_product,smile_max_score_pd=tmp_smile_max_score_pd), chunks), total=len(chunks)):\n",
    "                sink0_ = sink0 + [smiles2inchikey0(smile) for smile in result[0]]\n",
    "                sink0_ = list(set(sink0_))\n",
    "                if len(sink0_) > len(sink0):\n",
    "                    sink0 = sink0_\n",
    "                    success_rxndbid.extend(result[1])\n",
    "                    smiles_success.extend(result[0])\n",
    "                # smiles_success.extend(result[0])\n",
    "                # success_rxndbid.extend(result[1])\n",
    "        # pool.close()\n",
    "        # pool.join()\n",
    "        \n",
    "        smiles_success = list(set(smiles_success))\n",
    "        success_rxndbid = list(set(success_rxndbid))\n",
    "        # Process cumulative successful SMILES\n",
    "        for smile in smiles_success:\n",
    "            if get_score_from_smiles(smile, tmp_smile_max_score_pd) < 1:\n",
    "                new_row = {'smile': smile, 'score': 1, 'sim_smile': 'sys'}\n",
    "                tmp_smile_max_score_pd = tmp_smile_max_score_pd._append(new_row, ignore_index=True)\n",
    "                # tmp_smile_max_score_pd = tmp_smile_max_score_pd.append(new_row, ignore_index=True)\n",
    "\n",
    "        # smiles_success = [normalize_smiles(met) for met in smiles_success]\n",
    "        # smiles_success = list(set(smiles_success))\n",
    "\n",
    "        print(f'Iteration {num} - Current success count: {len(smiles_success)}')\n",
    "        print(f'Iteration {num} - Current success_rxndbid count: {len(success_rxndbid)}')\n",
    "        print('============================================================================')\n",
    "\n",
    "    print('final success', len(smiles_success))\n",
    "    print('final success_rxndbid', len(success_rxndbid))\n",
    "    # print(success_rxndbid)\n",
    "    return smiles_success, success_rxndbid,tmp_smile_max_score_pd"
   ]
  },
  {
   "cell_type": "code",
   "execution_count": 5,
   "metadata": {},
   "outputs": [],
   "source": [
    "def process_smiles(i,smile_max_score,yeast_total_smiles):    ###The highest similarity scores of all the reactants and model metabolites of rxn were obtained.\n",
    "    if i not in smile_max_score['smile']:\n",
    "        result = {'smile': i, 'score': 0, 'sim_smile': ''}\n",
    "        score_init = 0\n",
    "        sim_smile = ' '\n",
    "        for j in yeast_total_smiles:\n",
    "            tmp_score = compare_smiles(i, j)  \n",
    "            # if compare_smiles_inchikey(i,j) or (tmp_score == 1 and are_atom_counts_equal(i,j)):##for the compounds without carbon atom\n",
    "            if (tmp_score == 1 and are_atom_counts_equal(i,j)):##for the compounds without carbon atom\n",
    "                score_init = 1\n",
    "                sim_smile = j\n",
    "        result['score'] = score_init\n",
    "        result['sim_smile'] = sim_smile\n",
    "        return result\n",
    "    else: return {'smile': '', 'score': '', 'sim_smile': ''}\n",
    "def calculate_smile_max_score(rxndb_all_reactant_smile,yeast_total_smiles,num_processes=5):\n",
    "    smile_max_score = {'smile': [], 'score': [], 'sim_smile': []}\n",
    "\n",
    "    pool = multiprocessing.Pool(num_processes)\n",
    "\n",
    "    partial_process_smiles = partial(process_smiles, smile_max_score=smile_max_score,yeast_total_smiles=yeast_total_smiles)\n",
    "    results = list(tqdm(pool.imap(partial_process_smiles, rxndb_all_reactant_smile), total=len(rxndb_all_reactant_smile)))\n",
    "    # results = list(tqdm(pool.imap(process_smiles, rxndb_all_reactant_smile), total=len(rxndb_all_reactant_smile)))\n",
    "\n",
    "    pool.close()\n",
    "    pool.join()\n",
    "\n",
    "    for result in results:\n",
    "        smile_max_score['smile'].append(result['smile'])\n",
    "        smile_max_score['score'].append(result['score'])\n",
    "        smile_max_score['sim_smile'].append(result['sim_smile'])\n",
    "        \n",
    "    return(smile_max_score)\n",
    "def calculate_save_smiles_max_score(rxndb_all_smiles, yeast8_total_smiles,rxndb_met_max_score_file,num_processes=5):\n",
    "    smiles_max_score = calculate_smile_max_score(rxndb_all_smiles,yeast8_total_smiles,num_processes=num_processes)\n",
    "    smiles_max_score_pd = pd.DataFrame(smiles_max_score)\n",
    "    smiles_max_score_pd.to_csv(rxndb_met_max_score_file,index=None)\n",
    "    return smiles_max_score_pd"
   ]
  },
  {
   "cell_type": "code",
   "execution_count": 6,
   "metadata": {},
   "outputs": [],
   "source": [
    "def save_rxndb_to_model(rxndb_df,success_rxndbid,rxndb_to_model_path):\n",
    "    rxndb_to_model = rxndb_df[rxndb_df['NO'].isin(success_rxndbid)].reset_index(drop=True)\n",
    "    print(rxndb_to_model.shape)\n",
    "    rxndb_to_model = rxndb_to_model.drop_duplicates(subset=['templateID', 'rxn_smiles_final'], keep='first').reset_index(drop=True)\n",
    "    print(rxndb_to_model.shape)\n",
    "    # rxndb_to_model = rxndb_to_model[['NO','EC_number','templateID','rxn_smiles_basic','rxn_smiles_final']]\n",
    "    # print(rxndb_to_model.shape)\n",
    "    rxndb_to_model.to_csv(rxndb_to_model_path,index=None)\n",
    "    print(rxndb_to_model.shape)"
   ]
  },
  {
   "cell_type": "code",
   "execution_count": 8,
   "metadata": {},
   "outputs": [],
   "source": [
    "rxndb_total_info_to_model_del = pd.read_csv(rxndb_total_info_to_model_del_path)"
   ]
  },
  {
   "cell_type": "code",
   "execution_count": 9,
   "metadata": {},
   "outputs": [
    {
     "data": {
      "text/plain": [
       "(51340, 8)"
      ]
     },
     "execution_count": 9,
     "metadata": {},
     "output_type": "execute_result"
    }
   ],
   "source": [
    "rxndb_total_info_to_model_del.shape"
   ]
  },
  {
   "cell_type": "code",
   "execution_count": 10,
   "metadata": {},
   "outputs": [],
   "source": [
    "def find_reaction_containing_metabolite(inchikey0, rxndb_to_model_add_no_ec):\n",
    "    rxndb_to_model_add_no_ec['product_inchikey0'] = rxndb_to_model_add_no_ec['rxn_smiles_basic'].progress_apply(lambda x: [smiles2inchikey0(i) for i in x.split('>>')[1].split('.')])\n",
    "    rxndb_to_model_add_no_ec['target_num'] = rxndb_to_model_add_no_ec['product_inchikey0'].progress_apply(lambda x: sum(i in inchikey0 for i in x))\n",
    "    return rxndb_to_model_add_no_ec[rxndb_to_model_add_no_ec['target_num'] > 0]\n",
    "def find_reaction_containing_metabolite_(inchikey0, rxndb_to_model_add_no_ec):\n",
    "    rxndb_to_model_add_no_ec['reactant_inchikey0'] = rxndb_to_model_add_no_ec['rxn_smiles_basic'].progress_apply(lambda x: [smiles2inchikey0(i) for i in x.split('>>')[0].split('.')])\n",
    "    rxndb_to_model_add_no_ec['target_num'] = rxndb_to_model_add_no_ec['reactant_inchikey0'].progress_apply(lambda x: sum(i in inchikey0 for i in x))\n",
    "    return rxndb_to_model_add_no_ec[rxndb_to_model_add_no_ec['target_num'] > 0]"
   ]
  },
  {
   "cell_type": "code",
   "execution_count": 7,
   "metadata": {},
   "outputs": [
    {
     "data": {
      "text/plain": [
       "1016"
      ]
     },
     "execution_count": 7,
     "metadata": {},
     "output_type": "execute_result"
    }
   ],
   "source": [
    "YMDB_success_met_smile_del = load_pickle(YMDB_success_met_smile_12320_file)\n",
    "YMDB_success_met_inchi_del = [smiles2inchikey0(x) for x in YMDB_success_met_smile_del]\n",
    "YMDB_success_met_smile_11986 = load_pickle(YMDB_success_met_smile_11986_file)\n",
    "YMDB_success_met_smile_1350 = load_pickle(YMDB_success_met_smile_1350_file)\n",
    "YMDB_success_met_smile_13336 = YMDB_success_met_smile_11986 + YMDB_success_met_smile_1350\n",
    "YMDB_success_met_inchi_13336 = [smiles2inchikey0(x) for x in YMDB_success_met_smile_13336]\n",
    "diff_inchi = [x for x in YMDB_success_met_inchi_13336 if x not in YMDB_success_met_inchi_del]\n",
    "len(diff_inchi)"
   ]
  },
  {
   "cell_type": "code",
   "execution_count": 12,
   "metadata": {},
   "outputs": [],
   "source": [
    "rxndb_to_model_12320 = pd.read_csv(rxndb_total_info_to_model_del_path)\n",
    "rxndb_to_model_11986 = pd.read_csv(rxndb_to_model_11986_path)\n",
    "rxndb_to_model_1350 = pd.read_csv(rxndb_to_model_1350_path)"
   ]
  },
  {
   "cell_type": "code",
   "execution_count": 13,
   "metadata": {},
   "outputs": [
    {
     "name": "stdout",
     "output_type": "stream",
     "text": [
      "(854584, 5)\n",
      "(168110, 5)\n",
      "(1022694, 5)\n"
     ]
    }
   ],
   "source": [
    "print(rxndb_to_model_11986.shape)\n",
    "print(rxndb_to_model_1350.shape)\n",
    "rxndb_to_model_13336 = rxndb_to_model_11986._append(rxndb_to_model_1350,ignore_index=True)\n",
    "print(rxndb_to_model_13336.shape)"
   ]
  },
  {
   "cell_type": "code",
   "execution_count": 14,
   "metadata": {},
   "outputs": [
    {
     "name": "stderr",
     "output_type": "stream",
     "text": [
      "  0%|          | 0/1022694 [00:00<?, ?it/s]"
     ]
    },
    {
     "name": "stderr",
     "output_type": "stream",
     "text": [
      "100%|██████████| 1022694/1022694 [20:13<00:00, 842.53it/s]\n",
      "100%|██████████| 1022694/1022694 [00:24<00:00, 40912.45it/s]\n"
     ]
    },
    {
     "name": "stdout",
     "output_type": "stream",
     "text": [
      "(105416, 7)\n"
     ]
    },
    {
     "name": "stderr",
     "output_type": "stream",
     "text": [
      "100%|██████████| 1022694/1022694 [20:13<00:00, 843.01it/s]\n",
      "100%|██████████| 1022694/1022694 [00:25<00:00, 40751.16it/s]\n"
     ]
    },
    {
     "name": "stdout",
     "output_type": "stream",
     "text": [
      "(102532, 5)\n"
     ]
    }
   ],
   "source": [
    "rxndb_to_model_no_del_with_target = find_reaction_containing_metabolite(inchikey0=diff_inchi, rxndb_to_model_add_no_ec=rxndb_to_model_13336)\n",
    "print(rxndb_to_model_no_del_with_target.shape)\n",
    "rxndb_to_model_no_del_with_target = rxndb_to_model_no_del_with_target.drop(['product_inchikey0','target_num'],axis=1)\n",
    "rxndb_to_model_no_del_with_target_ = find_reaction_containing_metabolite_(diff_inchi, rxndb_to_model_13336)\n",
    "rxndb_to_model_no_del_with_target_ = rxndb_to_model_no_del_with_target_.drop(['product_inchikey0','reactant_inchikey0','target_num'],axis=1)\n",
    "print(rxndb_to_model_no_del_with_target_.shape)\n",
    "\n"
   ]
  },
  {
   "cell_type": "code",
   "execution_count": 15,
   "metadata": {},
   "outputs": [],
   "source": [
    "def find_reaction_containing_metabolite_new(inchikey0, rxndb_to_model_add_no_ec):\n",
    "    rxndb_to_model_add_no_ec['product_inchikey0'] = rxndb_to_model_add_no_ec['rxn_smiles_basic'].progress_apply(lambda x: [smiles2inchikey0(i) for i in x.split('>>')[1].split('.')])\n",
    "    rxndb_to_model_add_no_ec['target_product_inchikey0'] = rxndb_to_model_add_no_ec['product_inchikey0'].progress_apply(lambda x: [i for i in x if i in inchikey0])\n",
    "    rxndb_to_model_add_no_ec = rxndb_to_model_add_no_ec[rxndb_to_model_add_no_ec['target_product_inchikey0'].progress_apply(lambda x: len(x) > 0)]\n",
    "    rxndb_to_model_add_no_ec['target_product_inchikey0'] = rxndb_to_model_add_no_ec['target_product_inchikey0'].progress_apply(lambda x: sorted(x))\n",
    "    rxndb_to_model_add_no_ec = rxndb_to_model_add_no_ec.drop_duplicates(subset=['target_product_inchikey0'], keep='first').reset_index(drop=True)\n",
    "    return rxndb_to_model_add_no_ec\n",
    "def find_reaction_containing_metabolite_new_(inchikey0, rxndb_to_model_add_no_ec):\n",
    "    rxndb_to_model_add_no_ec['reactant_inchikey0'] = rxndb_to_model_add_no_ec['rxn_smiles_basic'].progress_apply(lambda x: [smiles2inchikey0(i) for i in x.split('>>')[0].split('.')])\n",
    "    rxndb_to_model_add_no_ec['target_reactant_inchikey0'] = rxndb_to_model_add_no_ec['reactant_inchikey0'].progress_apply(lambda x: [i for i in x if i in inchikey0])\n",
    "    rxndb_to_model_add_no_ec = rxndb_to_model_add_no_ec[rxndb_to_model_add_no_ec['target_reactant_inchikey0'].progress_apply(lambda x: len(x) > 0)]\n",
    "    rxndb_to_model_add_no_ec['target_reactant_inchikey0'] = rxndb_to_model_add_no_ec['target_reactant_inchikey0'].progress_apply(lambda x: sorted(x))\n",
    "    rxndb_to_model_add_no_ec = rxndb_to_model_add_no_ec.drop_duplicates(subset=['target_reactant_inchikey0'], keep='first').reset_index(drop=True)\n",
    "    \n",
    "    \n",
    "    return rxndb_to_model_add_no_ec"
   ]
  },
  {
   "cell_type": "code",
   "execution_count": 16,
   "metadata": {},
   "outputs": [
    {
     "name": "stderr",
     "output_type": "stream",
     "text": [
      "100%|██████████| 105416/105416 [02:05<00:00, 839.73it/s]\n",
      "100%|██████████| 105416/105416 [00:02<00:00, 45180.54it/s]\n",
      "100%|██████████| 105416/105416 [00:00<00:00, 1254405.99it/s]\n",
      "100%|██████████| 105416/105416 [00:00<00:00, 1094306.18it/s]\n"
     ]
    },
    {
     "name": "stdout",
     "output_type": "stream",
     "text": [
      "(1150, 7)\n"
     ]
    }
   ],
   "source": [
    "rxndb_to_model_no_del_with_target_new = find_reaction_containing_metabolite_new(inchikey0=diff_inchi, rxndb_to_model_add_no_ec=rxndb_to_model_no_del_with_target)\n",
    "print(rxndb_to_model_no_del_with_target_new.shape)\n",
    "\n"
   ]
  },
  {
   "cell_type": "code",
   "execution_count": 17,
   "metadata": {},
   "outputs": [
    {
     "name": "stderr",
     "output_type": "stream",
     "text": [
      "100%|██████████| 102532/102532 [02:05<00:00, 816.80it/s]\n",
      "100%|██████████| 102532/102532 [00:02<00:00, 44552.36it/s]\n",
      "100%|██████████| 102532/102532 [00:00<00:00, 1311581.06it/s]\n",
      "100%|██████████| 102532/102532 [00:00<00:00, 1060258.47it/s]\n"
     ]
    },
    {
     "name": "stdout",
     "output_type": "stream",
     "text": [
      "(962, 7)\n"
     ]
    }
   ],
   "source": [
    "rxndb_to_model_no_del_with_target_new_ = find_reaction_containing_metabolite_new_(inchikey0=diff_inchi, rxndb_to_model_add_no_ec=rxndb_to_model_no_del_with_target_)\n",
    "print(rxndb_to_model_no_del_with_target_new_.shape)\n",
    "\n"
   ]
  },
  {
   "cell_type": "code",
   "execution_count": 19,
   "metadata": {},
   "outputs": [],
   "source": [
    "rxndb_to_model_no_del_with_target_new = rxndb_to_model_no_del_with_target_new.drop(['product_inchikey0','target_product_inchikey0'],axis=1)\n",
    "\n",
    "rxndb_to_model_no_del_with_target_new_ = rxndb_to_model_no_del_with_target_new_.drop(['reactant_inchikey0','target_reactant_inchikey0'],axis=1)\n"
   ]
  },
  {
   "cell_type": "code",
   "execution_count": 29,
   "metadata": {},
   "outputs": [
    {
     "data": {
      "text/plain": [
       "(2112, 5)"
      ]
     },
     "execution_count": 29,
     "metadata": {},
     "output_type": "execute_result"
    }
   ],
   "source": [
    "rxndb_to_model_no_del_with_target_new_merge = pd.concat([rxndb_to_model_no_del_with_target_new,\n",
    "                       rxndb_to_model_no_del_with_target_new_],axis=0)\n",
    "rxndb_to_model_no_del_with_target_new_merge.shape"
   ]
  },
  {
   "cell_type": "code",
   "execution_count": 30,
   "metadata": {},
   "outputs": [],
   "source": [
    "rxndb_to_model_no_del_with_target_new_merge.to_csv(rxndb_to_model_no_del_with_target_new_merge_file,index=None)\n"
   ]
  },
  {
   "cell_type": "code",
   "execution_count": 36,
   "metadata": {},
   "outputs": [],
   "source": [
    "rxndb_to_model_no_del_with_target_new_merge = rxndb_to_model_no_del_with_target_new_merge.reset_index(drop=True)\n",
    "for i in range(len(rxndb_to_model_no_del_with_target_new_merge)):\n",
    "    if rxndb_to_model_no_del_with_target_new_merge.loc[i, 'NO'] in rxndb_to_model_12320['NO'].tolist():\n",
    "        print(rxndb_to_model_no_del_with_target_new_merge.loc[i, 'NO'])\n"
   ]
  },
  {
   "cell_type": "code",
   "execution_count": 35,
   "metadata": {},
   "outputs": [
    {
     "data": {
      "text/plain": [
       "(2112, 5)"
      ]
     },
     "execution_count": 35,
     "metadata": {},
     "output_type": "execute_result"
    }
   ],
   "source": [
    "rxndb_to_model_diff = rxndb_to_model_no_del_with_target_new_merge[~rxndb_to_model_no_del_with_target_new_merge['rxn_smiles_final'].isin(rxndb_to_model_12320['rxn_smiles_final'])]\n",
    "rxndb_to_model_diff.shape"
   ]
  },
  {
   "cell_type": "code",
   "execution_count": 20,
   "metadata": {},
   "outputs": [
    {
     "data": {
      "text/plain": [
       "(53452, 9)"
      ]
     },
     "execution_count": 20,
     "metadata": {},
     "output_type": "execute_result"
    }
   ],
   "source": [
    "concat_df = pd.concat([rxndb_to_model_12320,rxndb_to_model_no_del_with_target_new,rxndb_to_model_no_del_with_target_new_],axis=0)\n",
    "concat_df.shape"
   ]
  },
  {
   "cell_type": "code",
   "execution_count": 21,
   "metadata": {},
   "outputs": [
    {
     "name": "stderr",
     "output_type": "stream",
     "text": [
      "100%|██████████| 100/100 [00:00<00:00, 652.75it/s]\n"
     ]
    },
    {
     "name": "stdout",
     "output_type": "stream",
     "text": [
      "number of metabolites in RXNDB: 30120\n",
      "945\n",
      "34085\n"
     ]
    }
   ],
   "source": [
    "#get all the metabolites in the rxndb\n",
    "rxndb_all_smiles = parallel_process_rxn_smiles(concat_df, n_splits=100,num_process=num_process)\n",
    "#get all the smiles in the yeast8\n",
    "yeast8_total_smiles = get_GEM_all_smiles(yeast8_metabolites_path)\n",
    "print(len(yeast8_total_smiles))\n",
    "rxndb_met_max_score = pd.read_csv(rxndb_met_max_score_file)\n",
    "sink_smiles = rxndb_met_max_score[rxndb_met_max_score['score'] == 1]['smile'].tolist()\n",
    "not_lipid_rxndb_met_max_score = pd.read_csv(not_lipid_rxndb_met_max_score_file)\n",
    "sink_smiles_not_lipid = not_lipid_rxndb_met_max_score[not_lipid_rxndb_met_max_score['score'] == 1]['smile'].tolist()\n",
    "yeast8_total_smiles = yeast8_total_smiles + sink_smiles  + sink_smiles_not_lipid\n",
    "yeast8_total_smiles = list(set(yeast8_total_smiles))\n",
    "print(len(yeast8_total_smiles))\n"
   ]
  },
  {
   "cell_type": "code",
   "execution_count": 22,
   "metadata": {},
   "outputs": [
    {
     "name": "stdout",
     "output_type": "stream",
     "text": [
      "29078\n",
      "1042\n"
     ]
    }
   ],
   "source": [
    "yeast8_total_smiles_inchi = [smiles2inchikey0(x) for x in yeast8_total_smiles]\n",
    "rxndb_all_smiles_not_in_yeast8 = [x for x in rxndb_all_smiles if smiles2inchikey0(x) not in yeast8_total_smiles_inchi]\n",
    "rxndb_all_smiles_in_yeast8 = [x for x in rxndb_all_smiles if x not in rxndb_all_smiles_not_in_yeast8]\n",
    "print(len(rxndb_all_smiles_in_yeast8))\n",
    "print(len(rxndb_all_smiles_not_in_yeast8))"
   ]
  },
  {
   "cell_type": "code",
   "execution_count": 23,
   "metadata": {},
   "outputs": [
    {
     "name": "stderr",
     "output_type": "stream",
     "text": [
      "100%|██████████| 1042/1042 [27:44<00:00,  1.60s/it]\n"
     ]
    }
   ],
   "source": [
    "#calculate the similarity of the metabolites\n",
    "smile_max_score_pd = calculate_save_smiles_max_score(rxndb_all_smiles_not_in_yeast8, yeast8_total_smiles,rxndb_met_max_score_file_output,num_processes=num_process)"
   ]
  },
  {
   "cell_type": "code",
   "execution_count": 24,
   "metadata": {},
   "outputs": [],
   "source": [
    "smile_max_score_pd_ = {'smile': [], 'score': [], 'sim_smile': []}\n",
    "smile_max_score_pd_['smile'] = rxndb_all_smiles_in_yeast8\n",
    "smile_max_score_pd_['score'] = 1\n",
    "smile_max_score_pd_['sim_smile'] = 'sys'\n",
    "smile_max_score_pd_merge = pd.concat([smile_max_score_pd, pd.DataFrame(smile_max_score_pd_)],axis=0)"
   ]
  },
  {
   "cell_type": "code",
   "execution_count": 8,
   "metadata": {},
   "outputs": [],
   "source": [
    "yeast8_total_smiles = get_GEM_all_smiles(yeast8_metabolites_path)\n",
    "sink0 = [smiles2inchikey0(x) for x in yeast8_total_smiles]"
   ]
  },
  {
   "cell_type": "code",
   "execution_count": 26,
   "metadata": {},
   "outputs": [
    {
     "name": "stderr",
     "output_type": "stream",
     "text": [
      "100%|██████████| 100/100 [01:02<00:00,  1.59it/s]\n",
      "100%|██████████| 100/100 [01:00<00:00,  1.64it/s]\n"
     ]
    },
    {
     "name": "stdout",
     "output_type": "stream",
     "text": [
      "Iteration 1 - Current success count: 26946\n",
      "Iteration 1 - Current success_rxndbid count: 48959\n",
      "============================================================================\n"
     ]
    },
    {
     "name": "stderr",
     "output_type": "stream",
     "text": [
      "100%|██████████| 100/100 [01:03<00:00,  1.58it/s]\n",
      "100%|██████████| 100/100 [01:00<00:00,  1.64it/s]\n"
     ]
    },
    {
     "name": "stdout",
     "output_type": "stream",
     "text": [
      "Iteration 2 - Current success count: 27009\n",
      "Iteration 2 - Current success_rxndbid count: 49030\n",
      "============================================================================\n"
     ]
    },
    {
     "name": "stderr",
     "output_type": "stream",
     "text": [
      "100%|██████████| 100/100 [01:03<00:00,  1.57it/s]\n",
      "100%|██████████| 100/100 [01:02<00:00,  1.60it/s]\n"
     ]
    },
    {
     "name": "stdout",
     "output_type": "stream",
     "text": [
      "Iteration 3 - Current success count: 27029\n",
      "Iteration 3 - Current success_rxndbid count: 49057\n",
      "============================================================================\n",
      "final success 27029\n",
      "final success_rxndbid 49057\n"
     ]
    }
   ],
   "source": [
    "smiles_success,success_rxndbid,smiles_max_score_tmp_pd = process_reactions_in_parallel_reactant(concat_df, smile_max_score_pd_merge,sink0, num_processes=50, num_iterations=3)\n"
   ]
  },
  {
   "cell_type": "code",
   "execution_count": 28,
   "metadata": {},
   "outputs": [
    {
     "name": "stderr",
     "output_type": "stream",
     "text": [
      "100%|██████████| 100/100 [01:03<00:00,  1.58it/s]\n",
      "100%|██████████| 100/100 [01:03<00:00,  1.58it/s]\n"
     ]
    },
    {
     "name": "stdout",
     "output_type": "stream",
     "text": [
      "Iteration 1 - Current success count: 27031\n",
      "Iteration 1 - Current success_rxndbid count: 49059\n",
      "============================================================================\n"
     ]
    },
    {
     "name": "stderr",
     "output_type": "stream",
     "text": [
      "100%|██████████| 100/100 [01:05<00:00,  1.52it/s]\n",
      "100%|██████████| 100/100 [01:03<00:00,  1.56it/s]\n"
     ]
    },
    {
     "name": "stdout",
     "output_type": "stream",
     "text": [
      "Iteration 2 - Current success count: 27031\n",
      "Iteration 2 - Current success_rxndbid count: 49059\n",
      "============================================================================\n",
      "final success 27031\n",
      "final success_rxndbid 49059\n"
     ]
    }
   ],
   "source": [
    "smiles_success,success_rxndbid,smiles_max_score_tmp_pd = process_reactions_in_parallel_reactant(concat_df, smiles_max_score_tmp_pd,sink0, num_processes=50, num_iterations=2)\n"
   ]
  },
  {
   "cell_type": "code",
   "execution_count": 31,
   "metadata": {},
   "outputs": [
    {
     "name": "stdout",
     "output_type": "stream",
     "text": [
      "success number: 13167\n",
      "fail number: 1143\n"
     ]
    }
   ],
   "source": [
    "save_success_fail_target_smiles(target_smiles_path,smiles_success,YMDB_success_met_smile_12320_plus_file,YMDB_fail_met_smile_12320_plus_file)\n"
   ]
  }
 ],
 "metadata": {
  "kernelspec": {
   "display_name": "kcat",
   "language": "python",
   "name": "python3"
  },
  "language_info": {
   "codemirror_mode": {
    "name": "ipython",
    "version": 3
   },
   "file_extension": ".py",
   "mimetype": "text/x-python",
   "name": "python",
   "nbconvert_exporter": "python",
   "pygments_lexer": "ipython3",
   "version": "3.8.18"
  },
  "orig_nbformat": 4
 },
 "nbformat": 4,
 "nbformat_minor": 2
}
