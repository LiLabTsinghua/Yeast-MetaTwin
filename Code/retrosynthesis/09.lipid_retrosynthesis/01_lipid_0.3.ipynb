{
 "cells": [
  {
   "cell_type": "code",
   "execution_count": 1,
   "metadata": {
    "metadata": {}
   },
   "outputs": [],
   "source": [
    "import pandas as pd\n",
    "import numpy as np\n",
    "\n",
    "import json\n",
    "from rdkit import Chem\n",
    "import pandas as pd\n",
    "import itertools\n",
    "import sys\n",
    "from tqdm import tqdm \n",
    "from itertools import chain, combinations\n",
    "import sys\n",
    "import multiprocessing as mp\n",
    "from functools import partial\n",
    "from collections import Counter\n",
    "tqdm.pandas()\n",
    "sys.path.append('../')\n",
    "from common import *"
   ]
  },
  {
   "cell_type": "markdown",
   "metadata": {},
   "source": [
    "### input and output"
   ]
  },
  {
   "cell_type": "code",
   "execution_count": 2,
   "metadata": {
    "metadata": {}
   },
   "outputs": [],
   "source": [
    "###input\n",
    "ymdb_output_final = '../../../Data/database/ymdb/ymdb_final_result.xlsx'\n",
    "mnxreac_smile_atom_mapping_rules_file_path = '../../../Results/rules/MNXreaction_smiles_atommap_rules_lipid.csv'\n",
    "target_smiles_path = '../../../Results/lipid/target_smiles_lipid.pickle'\n",
    "target_model_smiles_path = '../../../Results/lipid/yeast_met_lipid.pickle'\n",
    "yeast8_metabolites_path = '../../../Data/yeast-GEM-final.csv'\n",
    "total_met_inchikey0_file = '../../../Results/analysis/total_met_inchikey0.pickle'\n",
    "cut_off = 0.3\n",
    "num = 'all'\n",
    "num_process = 5\n",
    "cut_off_path = f'../../../Results/lipid/top{num}_{cut_off}_re/'\n",
    "cut_off_retrosynthesis_path = f'../../../Data_retrosynthesis/lipid/top{num}_{cut_off}_re/'\n",
    "\n",
    "###output\n",
    "retrosys_smiles_calculate_similarity_file_path_all = f'../../../Data_retrosynthesis/lipid/retrosys_smiles_calculate_similarity_{cut_off}_re.json'\n",
    "\n",
    "retrosys_smiles_calculate_similarity_file_path = cut_off_retrosynthesis_path + f'retrosys_smiles_calculate_similarity_top{num}_{cut_off}.json'\n",
    "retrosys_smiles_calculate_similarity_filter_file_path = cut_off_retrosynthesis_path + f'retrosys_smiles_calculate_similarity_filter_top{num}_{cut_off}.json'\n",
    "rxndb_path = cut_off_retrosynthesis_path + f'RXNdb_top{num}_{cut_off}/'\n",
    "failedrxn_path = cut_off_retrosynthesis_path + f'failedrxn_top{num}_{cut_off}.pickle' \n",
    "rxndb_all_path = cut_off_retrosynthesis_path + f'RXNdb_all_top{num}_{cut_off}.json'\n",
    "rxndb_drop_path = cut_off_retrosynthesis_path + f'RXNdb_drop_top{num}_{cut_off}/'\n",
    "rxndb_met_max_score_file = cut_off_path + f'rxndb_met_max_score_pd_top{num}_{cut_off}.csv'\n",
    "rxndb_to_model_path = cut_off_path + f'rxndb_to_model_top{num}_{cut_off}.csv'\n",
    "YMDB_success_met_smile_file = cut_off_path + f'YMDB_success_met_smile_top{num}_{cut_off}.pickle'\n",
    "YMDB_fail_met_smile_file = cut_off_path + f'YMDB_fail_met_smile_top{num}_{cut_off}.pickle'\n",
    "\n"
   ]
  },
  {
   "cell_type": "code",
   "execution_count": null,
   "metadata": {},
   "outputs": [],
   "source": []
  },
  {
   "cell_type": "code",
   "execution_count": 3,
   "metadata": {},
   "outputs": [],
   "source": [
    "#check if the output folder exists\n",
    "if not os.path.exists(cut_off_path):\n",
    "    os.makedirs(cut_off_path)\n",
    "if not os.path.exists(cut_off_retrosynthesis_path):\n",
    "    os.makedirs(cut_off_retrosynthesis_path)\n",
    "if not os.path.exists(rxndb_path):\n",
    "    os.makedirs(rxndb_path)\n",
    "if not os.path.exists(rxndb_drop_path):\n",
    "    os.makedirs(rxndb_drop_path)"
   ]
  },
  {
   "cell_type": "code",
   "execution_count": 20,
   "metadata": {
    "metadata": {}
   },
   "outputs": [
    {
     "name": "stdout",
     "output_type": "stream",
     "text": [
      "total_smiles 19742\n",
      "total_smiles 19741\n",
      "total_smiles 19741\n",
      "total_smiles 16523\n"
     ]
    },
    {
     "name": "stderr",
     "output_type": "stream",
     "text": [
      "13687it [00:00, 13752.93it/s]\n"
     ]
    },
    {
     "name": "stdout",
     "output_type": "stream",
     "text": [
      "6173\n"
     ]
    },
    {
     "name": "stderr",
     "output_type": "stream",
     "text": [
      "13687it [00:00, 14444.72it/s]"
     ]
    },
    {
     "name": "stdout",
     "output_type": "stream",
     "text": [
      "6766\n"
     ]
    },
    {
     "name": "stderr",
     "output_type": "stream",
     "text": [
      "\n"
     ]
    }
   ],
   "source": [
    "yeast_total_smiles = process_yeast_smiles(target_model_smiles_path)\n",
    "yeast_total_smiles = [x for x in yeast_total_smiles if Chem.MolFromSmiles(x)]\n",
    "retrorules = pd.read_csv(mnxreac_smile_atom_mapping_rules_file_path)\n",
    "rules_product_smiles_lst = process_retrorules(retrorules,s='product_smiles')\n",
    "rules_product_smarts_lst = process_retrorules(retrorules,s='ProductSMARTs')\n"
   ]
  },
  {
   "cell_type": "code",
   "execution_count": 8,
   "metadata": {
    "metadata": {}
   },
   "outputs": [
    {
     "name": "stderr",
     "output_type": "stream",
     "text": [
      "100%|██████████| 6173/6173 [1:26:10<00:00,  1.19it/s]\n"
     ]
    }
   ],
   "source": [
    "retrosys_smiles_calculate_similarity = process_rules_with_multiprocessing(rules_product_smiles_lst, yeast_total_smiles,num_processes=num_process,cutoff=cut_off)\n",
    "\n",
    "retrosys_smiles_calculate_similarity_pd = pd.DataFrame(retrosys_smiles_calculate_similarity)"
   ]
  },
  {
   "cell_type": "markdown",
   "metadata": {},
   "source": [
    "### get rxndb"
   ]
  },
  {
   "cell_type": "code",
   "execution_count": 9,
   "metadata": {},
   "outputs": [
    {
     "name": "stderr",
     "output_type": "stream",
     "text": [
      "100%|██████████| 13687/13687 [00:45<00:00, 301.72it/s]\n"
     ]
    }
   ],
   "source": [
    "retrorules = merge_smiles_similarity_rule(retrorules, retrosys_smiles_calculate_similarity_pd)\n"
   ]
  },
  {
   "cell_type": "code",
   "execution_count": 10,
   "metadata": {},
   "outputs": [
    {
     "name": "stderr",
     "output_type": "stream",
     "text": [
      "100%|██████████| 50/50 [58:25<00:00, 70.11s/it]    \n"
     ]
    }
   ],
   "source": [
    "filter_smiles_muti(retrorules,retrosys_smiles_calculate_similarity_filter_file_path,num_process=num_process)\n",
    "with open(retrosys_smiles_calculate_similarity_filter_file_path, 'r') as json_file:\n",
    "    retrorules = json.load(json_file) \n",
    "retrorules = pd.DataFrame(retrorules)"
   ]
  },
  {
   "cell_type": "code",
   "execution_count": 11,
   "metadata": {},
   "outputs": [
    {
     "name": "stderr",
     "output_type": "stream",
     "text": [
      "100%|██████████| 13687/13687 [7:55:25<00:00,  2.08s/it]    \n"
     ]
    }
   ],
   "source": [
    "process_retrorules_and_save(rxndb_path,failedrxn_path,retrorules,heterologous_met_smiles=None,num_process=num_process)"
   ]
  },
  {
   "cell_type": "markdown",
   "metadata": {},
   "source": [
    "### retrosynthesis result screen"
   ]
  },
  {
   "cell_type": "code",
   "execution_count": 12,
   "metadata": {},
   "outputs": [
    {
     "name": "stderr",
     "output_type": "stream",
     "text": [
      "100%|██████████| 13687/13687 [5:47:08<00:00,  1.52s/it]   \n",
      "100%|██████████| 13687/13687 [15:34<00:00, 14.64it/s]\n",
      "100%|██████████| 13687/13687 [00:23<00:00, 572.03it/s]\n"
     ]
    },
    {
     "name": "stdout",
     "output_type": "stream",
     "text": [
      "rxndb: 179462594\n",
      "rxndb_drop: 1364370\n"
     ]
    }
   ],
   "source": [
    "#drop metabolites that are not in the ymdb or yeast8\n",
    "drop_rxndb(rxndb_path, rxndb_drop_path, total_met_inchikey0_file, num_processes=30)\n",
    "#statistic the number of reactions \n",
    "statistic_reaction_num(rxndb_path,rxndb_drop_path)"
   ]
  },
  {
   "cell_type": "code",
   "execution_count": 13,
   "metadata": {},
   "outputs": [
    {
     "name": "stdout",
     "output_type": "stream",
     "text": [
      "(1364370, 9)\n"
     ]
    }
   ],
   "source": [
    "#merge the rxndb\n",
    "rxndb = merge_rxndb(rxndb_drop_path,rxndb_all_path)\n",
    "rxndb_df = pd.DataFrame(rxndb).transpose()\n",
    "print(rxndb_df.shape)\n",
    "rxndb_df = rxndb_df.reset_index().rename(columns={'index':'NO'})\n"
   ]
  },
  {
   "cell_type": "code",
   "execution_count": 4,
   "metadata": {},
   "outputs": [
    {
     "name": "stderr",
     "output_type": "stream",
     "text": [
      "100%|██████████| 100/100 [00:09<00:00, 10.16it/s]\n"
     ]
    },
    {
     "name": "stdout",
     "output_type": "stream",
     "text": [
      "number of metabolites in RXNDB: 45638\n"
     ]
    }
   ],
   "source": [
    "#get all the metabolites in the rxndb\n",
    "rxndb_all_smiles = parallel_process_rxn_smiles(rxndb_df, n_splits=100,num_process=num_process)"
   ]
  },
  {
   "cell_type": "code",
   "execution_count": 5,
   "metadata": {},
   "outputs": [],
   "source": [
    "#get all the smiles in the yeast8\n",
    "yeast8_total_smiles = get_GEM_all_smiles(yeast8_metabolites_path)"
   ]
  },
  {
   "cell_type": "code",
   "execution_count": 6,
   "metadata": {},
   "outputs": [
    {
     "name": "stderr",
     "output_type": "stream",
     "text": [
      "100%|██████████| 45638/45638 [46:04<00:00, 16.51it/s]  \n"
     ]
    }
   ],
   "source": [
    "#calculate the similarity of the metabolites\n",
    "\n",
    "smile_max_score_pd = calculate_save_smiles_max_score(rxndb_all_smiles, yeast8_total_smiles,rxndb_met_max_score_file,num_processes=num_process)"
   ]
  },
  {
   "cell_type": "code",
   "execution_count": 10,
   "metadata": {},
   "outputs": [
    {
     "name": "stderr",
     "output_type": "stream",
     "text": [
      "100%|██████████| 100/100 [05:57<00:00,  3.57s/it] \n",
      "100%|██████████| 100/100 [05:29<00:00,  3.29s/it] \n"
     ]
    },
    {
     "name": "stdout",
     "output_type": "stream",
     "text": [
      "Iteration 1 - Current success count: 39297\n",
      "Iteration 1 - Current success_rxndbid count: 854584\n",
      "============================================================================\n",
      "final success 39297\n",
      "final success_rxndbid 854584\n"
     ]
    }
   ],
   "source": [
    "smiles_success,success_rxndbid,smiles_max_score_tmp_pd = process_reactions_in_parallel_reactant(rxndb_df, smile_max_score_pd, num_processes=num_process, num_iterations=3)\n",
    "smiles_max_score_tmp_pd.to_csv(rxndb_met_max_score_file)"
   ]
  },
  {
   "cell_type": "code",
   "execution_count": 17,
   "metadata": {},
   "outputs": [
    {
     "name": "stdout",
     "output_type": "stream",
     "text": [
      "success number: 11986\n",
      "fail number: 2324\n"
     ]
    }
   ],
   "source": [
    "save_success_fail_target_smiles(target_smiles_path,smiles_success,YMDB_success_met_smile_file,YMDB_fail_met_smile_file)\n"
   ]
  },
  {
   "cell_type": "code",
   "execution_count": 18,
   "metadata": {},
   "outputs": [
    {
     "name": "stdout",
     "output_type": "stream",
     "text": [
      "(854584, 10)\n",
      "(854584, 10)\n",
      "(854584, 5)\n",
      "(854584, 5)\n"
     ]
    }
   ],
   "source": [
    "save_rxndb_to_model(rxndb_df,success_rxndbid,rxndb_to_model_path)\n"
   ]
  }
 ],
 "metadata": {
  "kernelspec": {
   "display_name": "kcat",
   "language": "python",
   "name": "python3"
  },
  "language_info": {
   "codemirror_mode": {
    "name": "ipython",
    "version": 3
   },
   "file_extension": ".py",
   "mimetype": "text/x-python",
   "name": "python",
   "nbconvert_exporter": "python",
   "pygments_lexer": "ipython3",
   "version": "3.8.18"
  },
  "orig_nbformat": 4
 },
 "nbformat": 4,
 "nbformat_minor": 2
}
