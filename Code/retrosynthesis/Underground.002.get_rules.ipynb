{
 "cells": [
  {
   "cell_type": "code",
   "execution_count": 22,
   "metadata": {},
   "outputs": [],
   "source": [
    "from tqdm import tqdm\n",
    "import pandas as pd\n",
    "import numpy as np\n",
    "import rdchiral\n",
    "from tqdm import tqdm\n",
    "from common import *\n",
    "from rdkit import Chem\n",
    "from rdkit.Chem import Draw\n",
    "from rdkit.Chem import rdChemReactions\n",
    "from rdkit.Chem.Draw import rdMolDraw2D\n",
    "from rdkit.Chem.Draw import IPythonConsole\n",
    "from IPython.display import SVG, display\n",
    "from rxnmapper import RXNMapper\n",
    "from rdkit.Chem import AllChem\n",
    "from rdchiral.main import rdchiralRun, rdchiralRunText, rdchiralReaction, rdchiralReactants\n",
    "from rdchiral.template_extractor import mols_from_smiles_list, replace_deuterated, clear_mapnum, \\\n",
    "    get_tagged_atoms_from_mols, \\\n",
    "    get_tagged_atoms_from_mol, atoms_are_different, find_map_num, get_tetrahedral_atoms, set_isotope_to_equal_mapnum, \\\n",
    "    get_frag_around_tetrahedral_center, check_tetrahedral_centers_equivalent, clear_isotope, get_changed_atoms, \\\n",
    "    get_special_groups, expand_atoms_to_use, expand_atoms_to_use_atom, convert_atom_to_wildcard, reassign_atom_mapping, \\\n",
    "    get_strict_smarts_for_atom, expand_changed_atom_tags, get_fragments_for_changed_atoms, canonicalize_transform, \\\n",
    "    canonicalize_template, bond_to_label"
   ]
  },
  {
   "cell_type": "markdown",
   "metadata": {},
   "source": [
    "### input and output"
   ]
  },
  {
   "cell_type": "code",
   "execution_count": 23,
   "metadata": {},
   "outputs": [],
   "source": [
    "#input\n",
    "mnxreac_smile_file_path = '../../Data/database/MNXreaction_smile.csv'\n",
    "\n",
    "# mnxreac_smile_file_path = '../Data-new/metnetx/MNXreaction_smile.csv'\n",
    "DeepEC_file_path = '../../Data/Sce_DeepECv2.txt'\n",
    "\n",
    "#output\n",
    "\n",
    "mnxreac_smile_file_reverse_path = '../../Data/database/MNXreaction_smile_reverse.csv'\n",
    "mnxreac_smile_file_reverse_ATP_ADP_path = '../../Data/database/MNXreaction_smile_reverse_ATP_ADP.csv'\n",
    "mnxreac_smile_atom_mapping_file_path = '../../Data/rules/MNXreaction_smiles_atommap.csv'\n",
    "mnxreac_smile_atom_mapping_rules_file_filter_add_no_ec_path = '../../Data/rules/MNXreaction_smiles_atommap_rules_filter_add_no_ec.csv'\n",
    "mnxreac_smile_atom_mapping_rules_file_filter_path = '../../Data/rules/MNXreaction_smiles_atommap_rules_filter.csv'\n",
    "mnxreac_smile_atom_mapping_rules_file_all_path = '../../Data/rules/MNXreaction_smiles_atommap_rules_all.csv'"
   ]
  },
  {
   "cell_type": "code",
   "execution_count": 24,
   "metadata": {},
   "outputs": [],
   "source": [
    "def MNXreaction_smiles_atom_mapping(df):\n",
    "    rxn_mapper = RXNMapper()\n",
    "    mapping_failed_list = []\n",
    "    for index,row in df.iterrows():\n",
    "        error = ['MNXR171790','MNXR171819','MNXR172553','MNXR171008','MNXR186735','MNXR194090']\n",
    "        if row['MNX_ID'] in error:\n",
    "            pass\n",
    "        else:\n",
    "            try:    \n",
    "                rxnsmiles = row['equ_smiles']\n",
    "                df.loc[index,'RxnMapped'] = rxn_mapper.get_attention_guided_atom_maps([rxnsmiles])[0]['mapped_rxn']  # atom mapping\n",
    "                df.loc[index,'confidence'] = rxn_mapper.get_attention_guided_atom_maps([rxnsmiles])[0]['confidence']\n",
    "            except:\n",
    "                mapping_failed_list.append(row['MNX_ID'])\n",
    "    df.dropna(subset=['RxnMapped'],inplace=True)\n",
    "    return df, mapping_failed_list\n",
    "def parallel_MNXreaction_smiles_atom_mapping(mnxreac_smile_file_path,mnxreac_smile_atom_mapping_file_path):\n",
    "    mnxreac_smile = pd.read_csv(mnxreac_smile_file_path)\n",
    "    mnxreac_smile = mnxreac_smile[mnxreac_smile['equ_smiles']!='>>']\n",
    "\n",
    "    # Split the DataFrame into chunks\n",
    "    chunks = np.array_split(mnxreac_smile, 4)\n",
    "\n",
    "    # Create a Pool object with a progress bar\n",
    "    with mp.Pool(4) as pool:\n",
    "\n",
    "        # Use the map function to run your function in parallel\n",
    "        results = list(tqdm(pool.imap(MNXreaction_smiles_atom_mapping, chunks), total=len(chunks)))\n",
    "\n",
    "    # Concatenate the results into a single DataFrame\n",
    "    new_mnxreac_smile = pd.concat([result[0] for result in results])\n",
    "    mapping_failed_list = [item for sublist in [result[1] for result in results] for item in sublist]\n",
    "\n",
    "    print('done')\n",
    "    print('mapping failed reactions',mapping_failed_list)\n",
    "\n",
    "    new_mnxreac_smile.to_csv(mnxreac_smile_atom_mapping_file_path, index=None)\n",
    "# def MNXreaction_smiles_atom_mapping(mnxreac_smile_file_path,mnxreac_smile_atom_mapping_file_path):\n",
    "#     mnxreac_smile = pd.read_csv(mnxreac_smile_file_path)\n",
    "#     mnxreac_smile = mnxreac_smile[mnxreac_smile['equ_smiles']!='>>']\n",
    "#     rxn_mapper = RXNMapper()\n",
    "#     mapping_failed_list = []\n",
    "#     # mnxreac_smile = mnxreac_smile.loc[20000:,:]\n",
    "#     for index,row in tqdm(mnxreac_smile.iterrows(),total=len(mnxreac_smile)):\n",
    "#         error = ['MNXR171790','MNXR171819','MNXR172553','MNXR171008','MNXR186735','MNXR194090']\n",
    "#         if row['MNX_ID'] in error:\n",
    "#             pass\n",
    "#         else:\n",
    "#             try:    \n",
    "#                 rxnsmiles = row['equ_smiles']\n",
    "#                 mnxreac_smile.loc[index,'RxnMapped'] = rxn_mapper.get_attention_guided_atom_maps([rxnsmiles])[0]['mapped_rxn']  # atom mapping\n",
    "#                 mnxreac_smile.loc[index,'confidence'] = rxn_mapper.get_attention_guided_atom_maps([rxnsmiles])[0]['confidence']\n",
    "#             except:\n",
    "#                 mapping_failed_list.append(row['MNX_ID'])\n",
    "#                 # print('failed',row['MNX_ID'])#row['equ_smiles'\n",
    "#     print('done')\n",
    "#     print('mapping failed reactions',mapping_failed_list)\n",
    "#     mnxreac_smile.dropna(subset=['RxnMapped'],inplace=True)\n",
    "#     mnxreac_smile.to_csv(mnxreac_smile_atom_mapping_file_path, index=None)\n",
    "\n",
    "def extract_from_reaction(reaction):\n",
    "    reactants = mols_from_smiles_list(replace_deuterated(reaction['reactants']).split('.'))\n",
    "    products = mols_from_smiles_list(replace_deuterated(reaction['products']).split('.'))\n",
    "\n",
    "    # if rdkit cant understand molecule, return\n",
    "    if None in reactants: return {'reaction_id': reaction['_id']}\n",
    "    if None in products: return {'reaction_id': reaction['_id']}\n",
    "\n",
    "    # try to sanitize molecules\n",
    "    try:\n",
    "        for i in range(len(reactants)):\n",
    "            reactants[i] = AllChem.RemoveHs(reactants[i])  # *might* not be safe\n",
    "        for i in range(len(products)):\n",
    "            products[i] = AllChem.RemoveHs(products[i])  # *might* not be safe\n",
    "        [Chem.SanitizeMol(mol) for mol in reactants + products]  # redundant w/ RemoveHs\n",
    "        [mol.UpdatePropertyCache() for mol in reactants + products]\n",
    "    except Exception as e:\n",
    "        # can't sanitize -> skip\n",
    "        print(e)\n",
    "        print('Could not load SMILES or sanitize')\n",
    "        print('ID: {}'.format(reaction['_id']))\n",
    "        return {'reaction_id': reaction['_id']}\n",
    "\n",
    "    are_unmapped_product_atoms = False\n",
    "    extra_reactant_fragment = ''\n",
    "    for product in products:\n",
    "        prod_atoms = product.GetAtoms()\n",
    "        if sum([a.HasProp('molAtomMapNumber') for a in prod_atoms]) < len(prod_atoms):\n",
    "            if VERBOSE: print('Not all product atoms have atom mapping')\n",
    "            if VERBOSE: print('ID: {}'.format(reaction['_id']))\n",
    "            are_unmapped_product_atoms = True\n",
    "\n",
    "    if are_unmapped_product_atoms:  # add fragment to template\n",
    "        for product in products:\n",
    "            prod_atoms = product.GetAtoms()\n",
    "            # Get unmapped atoms\n",
    "            unmapped_ids = [\n",
    "                a.GetIdx() for a in prod_atoms if not a.HasProp('molAtomMapNumber')\n",
    "            ]\n",
    "            if len(unmapped_ids) > MAXIMUM_NUMBER_UNMAPPED_PRODUCT_ATOMS:\n",
    "                # Skip this example - too many unmapped product atoms!\n",
    "                return\n",
    "            # Define new atom symbols for fragment with atom maps, generalizing fully\n",
    "            atom_symbols = ['[{}]'.format(a.GetSymbol()) for a in prod_atoms]\n",
    "            # And bond symbols...\n",
    "            bond_symbols = ['~' for b in product.GetBonds()]\n",
    "            if unmapped_ids:\n",
    "                extra_reactant_fragment += AllChem.MolFragmentToSmiles(\n",
    "                    product, unmapped_ids,\n",
    "                    allHsExplicit=False, isomericSmiles=USE_STEREOCHEMISTRY,\n",
    "                    atomSymbols=atom_symbols, bondSymbols=bond_symbols\n",
    "                ) + '.'\n",
    "        if extra_reactant_fragment:\n",
    "            extra_reactant_fragment = extra_reactant_fragment[:-1]\n",
    "            if VERBOSE: print('    extra reactant fragment: {}'.format(extra_reactant_fragment))\n",
    "\n",
    "        # Consolidate repeated fragments (stoichometry)\n",
    "        extra_reactant_fragment = '.'.join(sorted(list(set(extra_reactant_fragment.split('.')))))\n",
    "\n",
    "    if None in reactants + products:\n",
    "        print('Could not parse all molecules in reaction, skipping')\n",
    "        print('ID: {}'.format(reaction['_id']))\n",
    "        return {'reaction_id': reaction['_id']}\n",
    "\n",
    "    # Calculate changed atoms\n",
    "    changed_atoms, changed_atom_tags, err = get_changed_atoms(reactants, products)\n",
    "    if err:\n",
    "        if VERBOSE:\n",
    "            print('Could not get changed atoms')\n",
    "            print('ID: {}'.format(reaction['_id']))\n",
    "        return\n",
    "    if not changed_atom_tags:\n",
    "        if VERBOSE:\n",
    "            print('No atoms changed?')\n",
    "            print('ID: {}'.format(reaction['_id']))\n",
    "        # print('Reaction SMILES: {}'.format(example_doc['RXN_SMILES']))\n",
    "        return {'reaction_id': reaction['_id']}\n",
    "\n",
    "    try:\n",
    "        # Get fragments for reactants\n",
    "        reactant_fragments, intra_only, dimer_only = get_fragments_for_changed_atoms(reactants, changed_atom_tags,\n",
    "                                                                                     radius=1, expansion=[],\n",
    "                                                                                     category='reactants')\n",
    "        # Get fragments for products\n",
    "        # (WITHOUT matching groups but WITH the addition of reactant fragments)\n",
    "        product_fragments, _, _ = get_fragments_for_changed_atoms(products, changed_atom_tags,\n",
    "                                                                  radius=0,\n",
    "                                                                  expansion=expand_changed_atom_tags(changed_atom_tags,\n",
    "                                                                                                     reactant_fragments),\n",
    "                                                                  category='products')\n",
    "        # while loop for the radius definition\n",
    "        r = 1  # radius\n",
    "        while len(product_fragments.split('.')) > len(products) or len(reactant_fragments.split('.')) > len(reactants):\n",
    "            r += 1\n",
    "            reactant_fragments, intra_only, dimer_only = get_fragments_for_changed_atoms(reactants, changed_atom_tags,\n",
    "                                                                                         radius=r, expansion=[],\n",
    "                                                                                         category='reactants')\n",
    "            product_fragments, _, _ = get_fragments_for_changed_atoms(products, changed_atom_tags,\n",
    "                                                                      radius=0,\n",
    "                                                                      expansion=expand_changed_atom_tags(\n",
    "                                                                          changed_atom_tags,\n",
    "                                                                          reactant_fragments),\n",
    "                                                                      category='products')\n",
    "            if r > 10:\n",
    "                break\n",
    "\n",
    "    except ValueError as e:\n",
    "        if VERBOSE:\n",
    "            print(e)\n",
    "            print(reaction['_id'])\n",
    "        return {'reaction_id': reaction['_id']}\n",
    "\n",
    "    # Put together and canonicalize (as best as possible)\n",
    "    rxn_string = '{}>>{}'.format(reactant_fragments, product_fragments)\n",
    "    rxn_canonical = canonicalize_transform(rxn_string)\n",
    "    # Change from inter-molecular to intra-molecular\n",
    "    rxn_canonical_split = rxn_canonical.split('>>')\n",
    "    rxn_canonical = rxn_canonical_split[0][1:-1].replace(').(', '.') + \\\n",
    "                    '>>' + rxn_canonical_split[1][1:-1].replace(').(', '.')\n",
    "\n",
    "    reactants_string = rxn_canonical.split('>>')[0]\n",
    "    products_string = rxn_canonical.split('>>')[1]\n",
    "\n",
    "    retro_canonical = products_string + '>>' + reactants_string  # not used in this template\n",
    "\n",
    "    # Load into RDKit\n",
    "    rxn = AllChem.ReactionFromSmarts(retro_canonical)\n",
    "    if rxn.Validate()[1] != 0:\n",
    "        print('Could not validate reaction successfully')\n",
    "        print('ID: {}'.format(reaction['_id']))\n",
    "        print('retro_canonical: {}'.format(retro_canonical))\n",
    "        if VERBOSE: raw_input('Pausing...')\n",
    "        return {'reaction_id': reaction['_id']}\n",
    "\n",
    "    template = {\n",
    "        'productSMARTs': products_string,\n",
    "        'reactantSMARTs': reactants_string,\n",
    "        'products': reaction['products'],\n",
    "        'reactants': reaction['reactants'],\n",
    "        'reaction_smarts': rxn_canonical,\n",
    "        'retro_reaction_smarts':retro_canonical,\n",
    "        'intra_only': intra_only,\n",
    "        'dimer_only': dimer_only,\n",
    "        'reaction_id': reaction['_id'],\n",
    "        'necessary_reagent': extra_reactant_fragment,\n",
    "        'radius': r,\n",
    "    }\n",
    "\n",
    "    return template\n",
    "\n",
    "def extract_MNXreaction_rules(mnxreac_smile_atom_mapping_file_path,set_confidence_score,mnxreac_smile_atom_mapping_rules_file_path):\n",
    "    mnxreac_smile_atom_mapping = pd.read_csv(mnxreac_smile_atom_mapping_file_path)\n",
    "    failed_extract = []\n",
    "    for index,row in tqdm(mnxreac_smile_atom_mapping.iterrows(), total=len(mnxreac_smile_atom_mapping)):\n",
    "        rxn_id = row['MNX_ID']\n",
    "        atommap = row['RxnMapped']\n",
    "        confidencescore = row['confidence']\n",
    "        if confidencescore > set_confidence_score:\n",
    "            reaction = {\n",
    "            'reactants': atommap.split('>')[0],\n",
    "            'products': atommap.split('>')[-1],\n",
    "            '_id': rxn_id,\n",
    "            }\n",
    "            try:\n",
    "\n",
    "                template = extract_from_reaction(reaction)\n",
    "                mnxreac_smile_atom_mapping.loc[index,'ReactantsSMARTs'] = template['reactantSMARTs']\n",
    "                mnxreac_smile_atom_mapping.loc[index,'ProductSMARTs'] = template['productSMARTs']\n",
    "                mnxreac_smile_atom_mapping.loc[index,'RetroRules'] = template['retro_reaction_smarts']\n",
    "                mnxreac_smile_atom_mapping.loc[index,'Radius'] = template['radius']\n",
    "\n",
    "            except:\n",
    "                # print('failed extract:', row['MNX_ID'])\n",
    "                failed_extract.append(row['MNX_ID'])\n",
    "    print('done')\n",
    "    print('failed extract:',failed_extract)\n",
    "\n",
    "    mnxreac_smile_atom_mapping.dropna(subset=['RetroRules'], inplace=True)\n",
    "    mnxreac_smile_atom_mapping.reset_index(drop=True, inplace=True)\n",
    "    \n",
    "    mnxreac_smile_atom_mapping.to_csv(mnxreac_smile_atom_mapping_rules_file_path,index=None)"
   ]
  },
  {
   "cell_type": "code",
   "execution_count": 25,
   "metadata": {},
   "outputs": [],
   "source": [
    "def process_data(df):\n",
    "    # Create an empty DataFrame to store the modified data\n",
    "    new_df = pd.DataFrame(columns=df.columns)\n",
    "    # Iterate through each row of the original DataFrame\n",
    "    for index, row in df.iterrows():\n",
    "        # Create a new row, modify the original row\n",
    "        if pd.isnull(row['equ_name']):\n",
    "            continue\n",
    "        new_row = row.copy()\n",
    "        new_row['MNX_ID'] = row['MNX_ID'] + '_reverse'\n",
    "        new_row['equation'] = row['equation'].split(' <=> ')[1] + ' <=> ' + row['equation'].split(' <=> ')[0]\n",
    "        new_row['REFERENCE'] = row['REFERENCE']\n",
    "        new_row['classifs'] = row['classifs']\n",
    "        new_row['substrate_smiles'] = row['product_smiles']\n",
    "        new_row['product_smiles'] = row['substrate_smiles']\n",
    "        new_row['equ_name'] = row['equ_name'].split(' <=> ')[1] + ' <=> ' + row['equ_name'].split(' <=> ')[0]\n",
    "        new_row['equ_smiles'] = row['equ_smiles'].split('>>')[1] + '>>' + row['equ_smiles'].split('>>')[0]\n",
    "        new_row['deprecated_equ'] = row['deprecated_equ'].split(' <=> ')[1] + ' <=> ' + row['deprecated_equ'].split(' <=> ')[0]\n",
    "        new_row['deprecated_equ_smiles'] = row['deprecated_equ_smiles'].split('>>')[1] + '>>' + row['deprecated_equ_smiles'].split('>>')[0]\n",
    "\n",
    "        # Add both the original row and the new row to the new DataFrame\n",
    "        new_df = new_df._append(row, ignore_index=True)\n",
    "        new_df = new_df._append(new_row, ignore_index=True)\n",
    "    return new_df\n",
    "\n",
    "def reaction_reverse(mnxreac_smile_file_path,mnxreac_smile_file_reverse_path):\n",
    "    mnxreac_smile = pd.read_csv(mnxreac_smile_file_path)\n",
    "\n",
    "    # Split the DataFrame into chunks\n",
    "    chunks = np.array_split(mnxreac_smile, 50)\n",
    "\n",
    "    # Create a Pool object\n",
    "    pool = mp.Pool(50)\n",
    "\n",
    "    # Use the map function to run your function in parallel\n",
    "    results = pool.map(process_data, chunks)\n",
    "\n",
    "    # Concatenate the results into a single DataFrame\n",
    "    new_mnxreac_smile = pd.concat(results)\n",
    "\n",
    "    new_mnxreac_smile.to_csv(mnxreac_smile_file_reverse_path, index=None)\n",
    "    print(new_mnxreac_smile.shape)"
   ]
  },
  {
   "cell_type": "code",
   "execution_count": 26,
   "metadata": {},
   "outputs": [],
   "source": [
    "def reverse_ATP_ADP(row,ATP,ADP):\n",
    "    dep_reactant_name,dep_product_name = row['deprecated_equ'].split(' <=> ')\n",
    "    equ_name = row['equ_name'].replace(' <=> ',' + ').split(' + ')\n",
    "    reactant_name,product_name = row['equ_name'].split(' <=> ')\n",
    "    \n",
    "    if 'ATP' in equ_name and 'ADP' in equ_name:\n",
    "        dep_reactant,dep_product = row['deprecated_equ_smiles'].split('>>') \n",
    "        reactant,product = row['equ_smiles'].split('>>') \n",
    "        reactant = reactant.split('.')\n",
    "        product = product.split('.')\n",
    "        reactant_name = reactant_name.split(' + ')\n",
    "        product_name = product_name.split(' + ')\n",
    "        if ATP in reactant:\n",
    "            reactant = [r for r in reactant if r != ATP]\n",
    "            product = [p for p in product if p != ADP]\n",
    "            reactant_name = [rn for rn in reactant_name if rn != 'ATP']\n",
    "            product_name = [pn for pn in product_name if pn != 'ADP']\n",
    "            if dep_reactant == '':\n",
    "                dep_reactant = ATP\n",
    "            else:\n",
    "                dep_reactant = dep_reactant.split('.')\n",
    "                dep_reactant.append(ATP)\n",
    "                dep_reactant = '.'.join(dep_reactant)\n",
    "            if dep_product == '':\n",
    "                dep_product = ADP\n",
    "            else:\n",
    "                dep_product = dep_product.split('.')\n",
    "\n",
    "                dep_product.append(ADP)\n",
    "                dep_product = '.'.join(dep_product)\n",
    "            if dep_reactant_name == '':\n",
    "                dep_reactant_name = 'ATP'\n",
    "            else:\n",
    "                dep_reactant_name = dep_reactant_name.split(' + ')\n",
    "                dep_reactant_name.append('ATP')\n",
    "                dep_reactant_name = ' + '.join(dep_reactant_name)\n",
    "            if dep_product_name == '':\n",
    "                dep_product_name = 'ADP'\n",
    "            else:\n",
    "                dep_product_name = dep_product_name.split(' + ')\n",
    "\n",
    "                dep_product_name.append('ADP')\n",
    "                dep_product_name = ' + '.join(dep_product_name)\n",
    "        else:\n",
    "            reactant = [r for r in reactant if r != ADP]\n",
    "            product = [p for p in product if p != ATP]\n",
    "            reactant_name = [rn for rn in reactant_name if rn != 'ADP']\n",
    "            product_name = [pn for pn in product_name if pn != 'ATP']\n",
    "            \n",
    "            if dep_reactant == '':\n",
    "                dep_reactant = ADP\n",
    "            else:\n",
    "                dep_reactant = dep_reactant.split('.')\n",
    "                dep_reactant.append(ADP)\n",
    "                dep_reactant = '.'.join(dep_reactant)\n",
    "            if dep_product == '':\n",
    "                dep_product = ATP\n",
    "            else:\n",
    "                dep_product = dep_product.split('.')\n",
    "\n",
    "                dep_product.append(ATP)\n",
    "                dep_product = '.'.join(dep_product)\n",
    "            if dep_reactant_name == '':\n",
    "                dep_reactant_name = 'ADP'\n",
    "            else:\n",
    "                dep_reactant_name = dep_reactant_name.split(' + ')\n",
    "                dep_reactant_name.append('ADP')\n",
    "                dep_reactant_name = ' + '.join(dep_reactant_name)\n",
    "            if dep_product_name == '':\n",
    "                dep_product_name = 'ATP'\n",
    "            else:\n",
    "                dep_product_name = dep_product_name.split(' + ')\n",
    "\n",
    "                dep_product_name.append('ATP')\n",
    "                dep_product_name = ' + '.join(dep_product_name)\n",
    "    \n",
    "        row['deprecated_equ_smiles'] = dep_reactant + '>>' + dep_product\n",
    "        row['equ_smiles'] = '.'.join(reactant) + '>>' + '.'.join(product)\n",
    "        row['deprecated_equ'] = dep_reactant_name + ' <=> ' + dep_product_name\n",
    "        row['equ_name'] = ' + '.join(reactant_name) + ' <=> ' + ' + '.join(product_name)\n",
    "    return row['equ_name'],row['equ_smiles'],row['deprecated_equ'],row['deprecated_equ_smiles']"
   ]
  },
  {
   "cell_type": "code",
   "execution_count": 27,
   "metadata": {},
   "outputs": [],
   "source": [
    "def reverse_ATP_ADP_parallel(mnxreac_smile_file_reverse_path,mnxreac_smile_file_reverse_ATP_ADP_path):\n",
    "    mnxreac_smile = pd.read_csv(mnxreac_smile_file_reverse_path)\n",
    "    new_mnxreac_smile = pd.DataFrame(columns=mnxreac_smile.columns)\n",
    "    ATP = 'Nc1ncnc2c1ncn2[C@@H]1O[C@H](COP(=O)([O-])OP(=O)([O-])OP(=O)([O-])[O-])[C@@H](O)[C@H]1O'\n",
    "    ADP = 'Nc1ncnc2c1ncn2[C@@H]1O[C@H](COP(=O)([O-])OP(=O)([O-])[O-])[C@@H](O)[C@H]1O'\n",
    "    reverse_ATP_ADP_partial = partial(reverse_ATP_ADP,ATP=ATP,ADP=ADP)\n",
    "    with multiprocessing.Pool(30) as pool:\n",
    "        result = list(tqdm(pool.imap(reverse_ATP_ADP_partial, [row for index,row in mnxreac_smile.iterrows()],chunksize=50),total=len(mnxreac_smile)))\n",
    "        mnxreac_smile['equ_name'],mnxreac_smile['equ_smiles'],mnxreac_smile['deprecated_equ'],mnxreac_smile['deprecated_equ_smiles'] = zip(*result)\n",
    "        \n",
    "        mnxreac_smile.to_csv(mnxreac_smile_file_reverse_ATP_ADP_path,index=None)\n",
    "        # return mnxreac_smile"
   ]
  },
  {
   "cell_type": "code",
   "execution_count": 28,
   "metadata": {},
   "outputs": [],
   "source": [
    "def filter_retrorule(mnxreac_smile_atom_mapping_rules_file_path,DeepProZyme_path,mnxreac_smile_atom_mapping_rules_file_filter_path):\n",
    "    retrorule = pd.read_csv(mnxreac_smile_atom_mapping_rules_file_path,index_col=None)\n",
    "    print(retrorule.shape)\n",
    "    DeepProZyme_gene2ec_dict = get_gene2ec_dict_DeepProZyme(DeepProZyme_path)\n",
    "    DeepProZyme_ec2gene_dict = get_ec2gene_dict_DeepProZyme(DeepProZyme_gene2ec_dict)\n",
    "    predict_ec_list = list(set(DeepProZyme_ec2gene_dict.keys()))\n",
    "    print(retrorule.shape)\n",
    "    retrorule = retrorule[~retrorule['classifs'].isna()]\n",
    "    print(retrorule.shape)\n",
    "    for index, row in retrorule.iterrows():\n",
    "        tmp_list = row['classifs'].split(';')\n",
    "        tmp_list = [ec for ec in tmp_list if len(ec.split('.')) > 2]\n",
    "        tmp_list = ['.'.join(ec.split('.')[0:3]) for ec in tmp_list]\n",
    "        need_rules = any(ec in predict_ec_list for ec in tmp_list)\n",
    "        \n",
    "        if not need_rules:\n",
    "            retrorule = retrorule.drop(index, axis=0)\n",
    "    print(retrorule.shape)\n",
    "    retrorule.dropna(subset=['RetroRules'], inplace=True)\n",
    "    print(retrorule.shape)\n",
    "    retrorule.reset_index(drop=True, inplace=True)\n",
    "    print(retrorule.shape)\n",
    "    retrorule['num_substrings'] = retrorule['product_smiles'].apply(lambda x: len(x.split('.')))\n",
    "    retrorule = retrorule[retrorule['num_substrings'] < 4]\n",
    "    print(retrorule.shape)\n",
    "    retrorule.to_csv(mnxreac_smile_atom_mapping_rules_file_filter_path,index=None)"
   ]
  },
  {
   "cell_type": "markdown",
   "metadata": {},
   "source": [
    "### reaction reverse"
   ]
  },
  {
   "cell_type": "code",
   "execution_count": 29,
   "metadata": {},
   "outputs": [
    {
     "name": "stdout",
     "output_type": "stream",
     "text": [
      "(45588, 12)\n"
     ]
    }
   ],
   "source": [
    "reaction_reverse(mnxreac_smile_file_path,mnxreac_smile_file_reverse_path)\n"
   ]
  },
  {
   "cell_type": "markdown",
   "metadata": {},
   "source": [
    "### drop ATP-ADP pair in reaction"
   ]
  },
  {
   "cell_type": "code",
   "execution_count": 30,
   "metadata": {},
   "outputs": [
    {
     "name": "stderr",
     "output_type": "stream",
     "text": [
      "100%|██████████| 45588/45588 [00:01<00:00, 36734.59it/s]\n"
     ]
    }
   ],
   "source": [
    "reverse_ATP_ADP_parallel(mnxreac_smile_file_reverse_path,mnxreac_smile_file_reverse_ATP_ADP_path)"
   ]
  },
  {
   "cell_type": "markdown",
   "metadata": {},
   "source": [
    "### atom mapping"
   ]
  },
  {
   "cell_type": "code",
   "execution_count": 31,
   "metadata": {},
   "outputs": [
    {
     "name": "stderr",
     "output_type": "stream",
     "text": [
      "  0%|          | 0/4 [00:00<?, ?it/s]/home/haohao/anaconda3/envs/gurob/lib/python3.8/site-packages/torch/_utils.py:776: UserWarning: TypedStorage is deprecated. It will be removed in the future and UntypedStorage will be the only storage class. This should only matter to you if you are using storages directly.  To access UntypedStorage directly, use tensor.untyped_storage() instead of tensor.storage()\n",
      "  return self.fget.__get__(instance, owner)()\n",
      "/home/haohao/anaconda3/envs/gurob/lib/python3.8/site-packages/torch/_utils.py:776: UserWarning: TypedStorage is deprecated. It will be removed in the future and UntypedStorage will be the only storage class. This should only matter to you if you are using storages directly.  To access UntypedStorage directly, use tensor.untyped_storage() instead of tensor.storage()\n",
      "  return self.fget.__get__(instance, owner)()\n",
      "/home/haohao/anaconda3/envs/gurob/lib/python3.8/site-packages/torch/_utils.py:776: UserWarning: TypedStorage is deprecated. It will be removed in the future and UntypedStorage will be the only storage class. This should only matter to you if you are using storages directly.  To access UntypedStorage directly, use tensor.untyped_storage() instead of tensor.storage()\n",
      "  return self.fget.__get__(instance, owner)()\n",
      "/home/haohao/anaconda3/envs/gurob/lib/python3.8/site-packages/torch/_utils.py:776: UserWarning: TypedStorage is deprecated. It will be removed in the future and UntypedStorage will be the only storage class. This should only matter to you if you are using storages directly.  To access UntypedStorage directly, use tensor.untyped_storage() instead of tensor.storage()\n",
      "  return self.fget.__get__(instance, owner)()\n",
      "Token indices sequence length is longer than the specified maximum sequence length for this model (811 > 512). Running this sequence through the model will result in indexing errors\n",
      "Token indices sequence length is longer than the specified maximum sequence length for this model (611 > 512). Running this sequence through the model will result in indexing errors\n",
      "Token indices sequence length is longer than the specified maximum sequence length for this model (615 > 512). Running this sequence through the model will result in indexing errors\n",
      "Token indices sequence length is longer than the specified maximum sequence length for this model (1632 > 512). Running this sequence through the model will result in indexing errors\n",
      "100%|██████████| 4/4 [06:46<00:00, 101.74s/it]\n"
     ]
    },
    {
     "name": "stdout",
     "output_type": "stream",
     "text": [
      "done\n",
      "mapping failed reactions ['MNXR100481', 'MNXR100481_reverse', 'MNXR100602', 'MNXR100602_reverse', 'MNXR100606', 'MNXR100606_reverse', 'MNXR100915', 'MNXR100915_reverse', 'MNXR100923', 'MNXR100923_reverse', 'MNXR101078', 'MNXR101078_reverse', 'MNXR101899', 'MNXR101899_reverse', 'MNXR102371', 'MNXR102371_reverse', 'MNXR102499', 'MNXR102499_reverse', 'MNXR102500', 'MNXR102500_reverse', 'MNXR103114', 'MNXR103114_reverse', 'MNXR103129', 'MNXR103129_reverse', 'MNXR103131', 'MNXR103131_reverse', 'MNXR104025', 'MNXR104025_reverse', 'MNXR105476', 'MNXR105476_reverse', 'MNXR106751', 'MNXR106751_reverse', 'MNXR107087', 'MNXR107087_reverse', 'MNXR107088', 'MNXR107088_reverse', 'MNXR107512', 'MNXR107512_reverse', 'MNXR107550', 'MNXR107550_reverse', 'MNXR109067', 'MNXR109067_reverse', 'MNXR109489', 'MNXR109489_reverse', 'MNXR109724', 'MNXR109724_reverse', 'MNXR109725', 'MNXR109725_reverse', 'MNXR110253', 'MNXR110253_reverse', 'MNXR110258', 'MNXR110258_reverse', 'MNXR110263', 'MNXR110263_reverse', 'MNXR110264', 'MNXR110264_reverse', 'MNXR110285', 'MNXR110285_reverse', 'MNXR110286', 'MNXR110286_reverse', 'MNXR110287', 'MNXR110287_reverse', 'MNXR110288', 'MNXR110288_reverse', 'MNXR110312', 'MNXR110312_reverse', 'MNXR110355', 'MNXR110355_reverse', 'MNXR110403', 'MNXR110403_reverse', 'MNXR110431', 'MNXR110431_reverse', 'MNXR110937', 'MNXR110937_reverse', 'MNXR111570', 'MNXR111570_reverse', 'MNXR111571', 'MNXR111571_reverse', 'MNXR111572', 'MNXR111572_reverse', 'MNXR112290', 'MNXR112290_reverse', 'MNXR112291', 'MNXR112291_reverse', 'MNXR112348', 'MNXR112348_reverse', 'MNXR112469', 'MNXR112469_reverse', 'MNXR113036', 'MNXR113036_reverse', 'MNXR113178', 'MNXR113178_reverse', 'MNXR113185', 'MNXR113185_reverse', 'MNXR113537', 'MNXR113537_reverse', 'MNXR113592', 'MNXR113592_reverse', 'MNXR113780', 'MNXR113780_reverse', 'MNXR113781', 'MNXR113781_reverse', 'MNXR114119', 'MNXR114119_reverse', 'MNXR114272', 'MNXR114272_reverse', 'MNXR114274', 'MNXR114274_reverse', 'MNXR114424', 'MNXR114424_reverse', 'MNXR114425', 'MNXR114425_reverse', 'MNXR114876', 'MNXR114876_reverse', 'MNXR115097', 'MNXR115097_reverse', 'MNXR115098', 'MNXR115098_reverse', 'MNXR115554', 'MNXR115554_reverse', 'MNXR115642', 'MNXR115642_reverse', 'MNXR116462', 'MNXR116462_reverse', 'MNXR116464', 'MNXR116464_reverse', 'MNXR116489', 'MNXR116489_reverse', 'MNXR116494', 'MNXR116494_reverse', 'MNXR116495', 'MNXR116495_reverse', 'MNXR116496', 'MNXR116496_reverse', 'MNXR116522', 'MNXR116522_reverse', 'MNXR116524', 'MNXR116524_reverse', 'MNXR116659', 'MNXR116659_reverse', 'MNXR116660', 'MNXR116660_reverse', 'MNXR116679', 'MNXR116679_reverse', 'MNXR116705', 'MNXR116705_reverse', 'MNXR116810', 'MNXR116810_reverse', 'MNXR116811', 'MNXR116811_reverse', 'MNXR116840', 'MNXR116840_reverse', 'MNXR116841', 'MNXR116841_reverse', 'MNXR116855', 'MNXR116855_reverse', 'MNXR116863', 'MNXR116863_reverse', 'MNXR116867', 'MNXR116867_reverse', 'MNXR116868', 'MNXR116868_reverse', 'MNXR116869', 'MNXR116869_reverse', 'MNXR116871', 'MNXR116871_reverse', 'MNXR116876', 'MNXR116876_reverse', 'MNXR116878', 'MNXR116878_reverse', 'MNXR116965', 'MNXR116965_reverse', 'MNXR116971', 'MNXR116971_reverse', 'MNXR117163', 'MNXR117163_reverse', 'MNXR117164', 'MNXR117164_reverse', 'MNXR117165', 'MNXR117165_reverse', 'MNXR117169', 'MNXR117169_reverse', 'MNXR117170', 'MNXR117170_reverse', 'MNXR117171', 'MNXR117171_reverse', 'MNXR117803', 'MNXR117803_reverse', 'MNXR117990', 'MNXR117990_reverse', 'MNXR117991', 'MNXR117991_reverse', 'MNXR118078', 'MNXR118078_reverse', 'MNXR118153', 'MNXR118153_reverse', 'MNXR118155', 'MNXR118155_reverse', 'MNXR118156', 'MNXR118156_reverse', 'MNXR118208', 'MNXR118208_reverse', 'MNXR118229', 'MNXR118229_reverse', 'MNXR118638', 'MNXR118638_reverse', 'MNXR118773', 'MNXR118773_reverse', 'MNXR118908', 'MNXR118908_reverse', 'MNXR118922', 'MNXR118922_reverse', 'MNXR118933', 'MNXR118933_reverse', 'MNXR119080', 'MNXR119080_reverse', 'MNXR119108', 'MNXR119108_reverse', 'MNXR119111', 'MNXR119111_reverse', 'MNXR119737', 'MNXR119737_reverse', 'MNXR119773', 'MNXR119773_reverse', 'MNXR119820', 'MNXR119820_reverse', 'MNXR119975', 'MNXR119975_reverse', 'MNXR120061', 'MNXR120061_reverse', 'MNXR120096', 'MNXR120096_reverse', 'MNXR120199', 'MNXR120199_reverse', 'MNXR120412', 'MNXR120412_reverse', 'MNXR120631', 'MNXR120631_reverse', 'MNXR120746', 'MNXR120746_reverse', 'MNXR120832', 'MNXR120832_reverse', 'MNXR121327', 'MNXR121327_reverse', 'MNXR121335', 'MNXR121335_reverse', 'MNXR121359', 'MNXR121359_reverse', 'MNXR121360', 'MNXR121360_reverse', 'MNXR121361', 'MNXR121361_reverse', 'MNXR121362', 'MNXR121362_reverse', 'MNXR121371', 'MNXR121371_reverse', 'MNXR121373', 'MNXR121373_reverse', 'MNXR121808', 'MNXR121808_reverse', 'MNXR121809', 'MNXR121809_reverse', 'MNXR121810', 'MNXR121810_reverse', 'MNXR121811', 'MNXR121811_reverse', 'MNXR121812', 'MNXR121812_reverse', 'MNXR121813', 'MNXR121813_reverse', 'MNXR121814', 'MNXR121814_reverse', 'MNXR121815', 'MNXR121815_reverse', 'MNXR121816', 'MNXR121816_reverse', 'MNXR121817', 'MNXR121817_reverse', 'MNXR121936', 'MNXR121936_reverse', 'MNXR121959', 'MNXR121959_reverse', 'MNXR121960', 'MNXR121960_reverse', 'MNXR121972', 'MNXR121972_reverse', 'MNXR122051', 'MNXR122051_reverse', 'MNXR122052', 'MNXR122052_reverse', 'MNXR122053', 'MNXR122053_reverse', 'MNXR122447', 'MNXR122447_reverse', 'MNXR122448', 'MNXR122448_reverse', 'MNXR122653', 'MNXR122653_reverse', 'MNXR122780', 'MNXR122780_reverse', 'MNXR122902', 'MNXR122902_reverse', 'MNXR123087', 'MNXR123087_reverse', 'MNXR123128', 'MNXR123128_reverse', 'MNXR123190', 'MNXR123190_reverse', 'MNXR123201', 'MNXR123201_reverse', 'MNXR123202', 'MNXR123202_reverse', 'MNXR123205', 'MNXR123205_reverse', 'MNXR123464', 'MNXR123464_reverse', 'MNXR123465', 'MNXR123465_reverse', 'MNXR123466', 'MNXR123466_reverse', 'MNXR123467', 'MNXR123467_reverse', 'MNXR123622', 'MNXR123622_reverse', 'MNXR128038', 'MNXR128038_reverse', 'MNXR133613', 'MNXR133613_reverse', 'MNXR134664', 'MNXR134664_reverse', 'MNXR134665', 'MNXR134665_reverse', 'MNXR135538', 'MNXR135538_reverse', 'MNXR135803', 'MNXR135803_reverse', 'MNXR135844', 'MNXR135844_reverse', 'MNXR135962', 'MNXR135962_reverse', 'MNXR136016', 'MNXR136016_reverse', 'MNXR136033', 'MNXR136033_reverse', 'MNXR136047', 'MNXR136047_reverse', 'MNXR136048', 'MNXR136048_reverse', 'MNXR136153', 'MNXR136153_reverse', 'MNXR136186', 'MNXR136186_reverse', 'MNXR136360', 'MNXR136360_reverse', 'MNXR136378', 'MNXR136378_reverse', 'MNXR136382', 'MNXR136382_reverse', 'MNXR137282', 'MNXR137282_reverse', 'MNXR137387', 'MNXR137387_reverse', 'MNXR137426', 'MNXR137426_reverse', 'MNXR137605', 'MNXR137605_reverse', 'MNXR137606', 'MNXR137606_reverse', 'MNXR137651', 'MNXR137651_reverse', 'MNXR137652', 'MNXR137652_reverse', 'MNXR137653', 'MNXR137653_reverse', 'MNXR137879', 'MNXR137879_reverse', 'MNXR138512', 'MNXR138512_reverse', 'MNXR139774', 'MNXR139774_reverse', 'MNXR140930', 'MNXR140930_reverse', 'MNXR140931', 'MNXR140931_reverse', 'MNXR141300', 'MNXR141300_reverse', 'MNXR141302', 'MNXR141302_reverse', 'MNXR143137', 'MNXR143137_reverse', 'MNXR143795', 'MNXR143795_reverse', 'MNXR143796', 'MNXR143796_reverse', 'MNXR143801', 'MNXR143801_reverse', 'MNXR143806', 'MNXR143806_reverse', 'MNXR143820', 'MNXR143820_reverse', 'MNXR143821', 'MNXR143821_reverse', 'MNXR143846', 'MNXR143846_reverse', 'MNXR143998', 'MNXR143998_reverse', 'MNXR143999', 'MNXR143999_reverse', 'MNXR144136', 'MNXR144136_reverse', 'MNXR145190', 'MNXR145190_reverse', 'MNXR145191', 'MNXR145191_reverse', 'MNXR145341', 'MNXR145341_reverse', 'MNXR145435', 'MNXR145435_reverse', 'MNXR145560', 'MNXR145560_reverse', 'MNXR145562', 'MNXR145562_reverse', 'MNXR145670', 'MNXR145670_reverse', 'MNXR145671', 'MNXR145671_reverse', 'MNXR145819', 'MNXR145819_reverse', 'MNXR146661', 'MNXR146661_reverse', 'MNXR146846', 'MNXR146846_reverse', 'MNXR146855', 'MNXR146855_reverse', 'MNXR147530', 'MNXR147530_reverse', 'MNXR149676', 'MNXR149676_reverse', 'MNXR149833', 'MNXR149833_reverse', 'MNXR150608', 'MNXR150608_reverse', 'MNXR150609', 'MNXR150609_reverse', 'MNXR150610', 'MNXR150610_reverse', 'MNXR150611', 'MNXR150611_reverse', 'MNXR150622', 'MNXR150622_reverse', 'MNXR150623', 'MNXR150623_reverse', 'MNXR150624', 'MNXR150624_reverse', 'MNXR150625', 'MNXR150625_reverse', 'MNXR150626', 'MNXR150626_reverse', 'MNXR150627', 'MNXR150627_reverse', 'MNXR150894', 'MNXR150894_reverse', 'MNXR150896', 'MNXR150896_reverse', 'MNXR150963', 'MNXR150963_reverse', 'MNXR150964', 'MNXR150964_reverse', 'MNXR151023', 'MNXR151023_reverse', 'MNXR151323', 'MNXR151323_reverse', 'MNXR151526', 'MNXR151526_reverse', 'MNXR151527', 'MNXR151527_reverse', 'MNXR151858', 'MNXR151858_reverse', 'MNXR151860', 'MNXR151860_reverse', 'MNXR152163', 'MNXR152163_reverse', 'MNXR152164', 'MNXR152164_reverse', 'MNXR152174', 'MNXR152174_reverse', 'MNXR152175', 'MNXR152175_reverse', 'MNXR152176', 'MNXR152176_reverse', 'MNXR152177', 'MNXR152177_reverse', 'MNXR152188', 'MNXR152188_reverse', 'MNXR152190', 'MNXR152190_reverse', 'MNXR152194', 'MNXR152194_reverse', 'MNXR152202', 'MNXR152202_reverse', 'MNXR152206', 'MNXR152206_reverse', 'MNXR152220', 'MNXR152220_reverse', 'MNXR152224', 'MNXR152224_reverse', 'MNXR152878', 'MNXR152878_reverse', 'MNXR153265', 'MNXR153265_reverse', 'MNXR153452', 'MNXR153452_reverse', 'MNXR153509', 'MNXR153509_reverse', 'MNXR153510', 'MNXR153510_reverse', 'MNXR153511', 'MNXR153511_reverse', 'MNXR153512', 'MNXR153512_reverse', 'MNXR157354', 'MNXR157354_reverse', 'MNXR157366', 'MNXR157366_reverse', 'MNXR157372', 'MNXR157372_reverse', 'MNXR157373', 'MNXR157373_reverse', 'MNXR157375', 'MNXR157375_reverse', 'MNXR157382', 'MNXR157382_reverse', 'MNXR158607', 'MNXR158607_reverse', 'MNXR158608', 'MNXR158608_reverse', 'MNXR158610', 'MNXR158610_reverse', 'MNXR158682', 'MNXR158682_reverse', 'MNXR158683', 'MNXR158683_reverse', 'MNXR158684', 'MNXR158684_reverse', 'MNXR158685', 'MNXR158685_reverse', 'MNXR158686', 'MNXR158686_reverse', 'MNXR158687', 'MNXR158687_reverse', 'MNXR158688', 'MNXR158688_reverse', 'MNXR158689', 'MNXR158689_reverse', 'MNXR158690', 'MNXR158690_reverse', 'MNXR158691', 'MNXR158691_reverse', 'MNXR158692', 'MNXR158692_reverse', 'MNXR158693', 'MNXR158693_reverse', 'MNXR158694', 'MNXR158694_reverse', 'MNXR158695', 'MNXR158695_reverse', 'MNXR158696', 'MNXR158696_reverse', 'MNXR158697', 'MNXR158697_reverse', 'MNXR158698', 'MNXR158698_reverse', 'MNXR158699', 'MNXR158699_reverse', 'MNXR158700', 'MNXR158700_reverse', 'MNXR158701', 'MNXR158701_reverse', 'MNXR158702', 'MNXR158702_reverse', 'MNXR158703', 'MNXR158703_reverse', 'MNXR158704', 'MNXR158704_reverse', 'MNXR158900', 'MNXR158900_reverse', 'MNXR158915', 'MNXR158915_reverse', 'MNXR162609', 'MNXR162609_reverse', 'MNXR162632', 'MNXR162632_reverse', 'MNXR163392', 'MNXR163392_reverse', 'MNXR163706', 'MNXR163706_reverse', 'MNXR163712', 'MNXR163712_reverse', 'MNXR163713', 'MNXR163713_reverse', 'MNXR163717', 'MNXR163717_reverse', 'MNXR163884', 'MNXR163884_reverse', 'MNXR164073', 'MNXR164073_reverse', 'MNXR164074', 'MNXR164074_reverse', 'MNXR165038', 'MNXR165038_reverse', 'MNXR165173', 'MNXR165173_reverse', 'MNXR165258', 'MNXR165258_reverse', 'MNXR165260', 'MNXR165260_reverse', 'MNXR165261', 'MNXR165261_reverse', 'MNXR166143', 'MNXR166143_reverse', 'MNXR166510', 'MNXR166510_reverse', 'MNXR166512', 'MNXR166512_reverse', 'MNXR166513', 'MNXR166513_reverse', 'MNXR166514', 'MNXR166514_reverse', 'MNXR166515', 'MNXR166515_reverse', 'MNXR166549', 'MNXR166549_reverse', 'MNXR166609', 'MNXR166609_reverse', 'MNXR166610', 'MNXR166610_reverse', 'MNXR166611', 'MNXR166611_reverse', 'MNXR166612', 'MNXR166612_reverse', 'MNXR166613', 'MNXR166613_reverse', 'MNXR166615', 'MNXR166615_reverse', 'MNXR166616', 'MNXR166616_reverse', 'MNXR166617', 'MNXR166617_reverse', 'MNXR166969', 'MNXR166969_reverse', 'MNXR166973', 'MNXR166973_reverse', 'MNXR166974', 'MNXR166974_reverse', 'MNXR167009', 'MNXR167009_reverse', 'MNXR167057', 'MNXR167057_reverse', 'MNXR167198', 'MNXR167198_reverse', 'MNXR167199', 'MNXR167199_reverse', 'MNXR167202', 'MNXR167202_reverse', 'MNXR167203', 'MNXR167203_reverse', 'MNXR167271', 'MNXR167271_reverse', 'MNXR167469', 'MNXR167469_reverse', 'MNXR167488', 'MNXR167488_reverse', 'MNXR167505', 'MNXR167505_reverse', 'MNXR167507', 'MNXR167507_reverse', 'MNXR167508', 'MNXR167508_reverse', 'MNXR167509', 'MNXR167509_reverse', 'MNXR167510', 'MNXR167510_reverse', 'MNXR167511', 'MNXR167511_reverse', 'MNXR167512', 'MNXR167512_reverse', 'MNXR167513', 'MNXR167513_reverse', 'MNXR167514', 'MNXR167514_reverse', 'MNXR167515', 'MNXR167515_reverse', 'MNXR167516', 'MNXR167516_reverse', 'MNXR167732', 'MNXR167732_reverse', 'MNXR167733', 'MNXR167733_reverse', 'MNXR167737', 'MNXR167737_reverse', 'MNXR167741', 'MNXR167741_reverse', 'MNXR167818', 'MNXR167818_reverse', 'MNXR167991', 'MNXR167991_reverse', 'MNXR167996', 'MNXR167996_reverse', 'MNXR168331', 'MNXR168331_reverse', 'MNXR168349', 'MNXR168349_reverse', 'MNXR168438', 'MNXR168438_reverse', 'MNXR168482', 'MNXR168482_reverse', 'MNXR168487', 'MNXR168487_reverse', 'MNXR168488', 'MNXR168488_reverse', 'MNXR168489', 'MNXR168489_reverse', 'MNXR168490', 'MNXR168490_reverse', 'MNXR168491', 'MNXR168491_reverse', 'MNXR168492', 'MNXR168492_reverse', 'MNXR168493', 'MNXR168493_reverse', 'MNXR168496', 'MNXR168496_reverse', 'MNXR168497', 'MNXR168497_reverse', 'MNXR168739', 'MNXR168739_reverse', 'MNXR168751', 'MNXR168751_reverse', 'MNXR168752', 'MNXR168752_reverse', 'MNXR168753', 'MNXR168753_reverse', 'MNXR168754', 'MNXR168754_reverse', 'MNXR168755', 'MNXR168755_reverse', 'MNXR168756', 'MNXR168756_reverse', 'MNXR168757', 'MNXR168757_reverse', 'MNXR168758', 'MNXR168758_reverse', 'MNXR168759', 'MNXR168759_reverse', 'MNXR168766', 'MNXR168766_reverse', 'MNXR168767', 'MNXR168767_reverse', 'MNXR168768', 'MNXR168768_reverse', 'MNXR168769', 'MNXR168769_reverse', 'MNXR168770', 'MNXR168770_reverse', 'MNXR168771', 'MNXR168771_reverse', 'MNXR168772', 'MNXR168772_reverse', 'MNXR168773', 'MNXR168773_reverse', 'MNXR168887', 'MNXR168887_reverse', 'MNXR169065', 'MNXR169065_reverse', 'MNXR169108', 'MNXR169108_reverse', 'MNXR169109', 'MNXR169109_reverse', 'MNXR169129', 'MNXR169129_reverse', 'MNXR169149', 'MNXR169149_reverse', 'MNXR169232', 'MNXR169232_reverse', 'MNXR169237', 'MNXR169237_reverse', 'MNXR169238', 'MNXR169238_reverse', 'MNXR169268', 'MNXR169268_reverse', 'MNXR169269', 'MNXR169269_reverse', 'MNXR169575', 'MNXR169575_reverse', 'MNXR169581', 'MNXR169581_reverse', 'MNXR170033', 'MNXR170033_reverse', 'MNXR170307', 'MNXR170307_reverse', 'MNXR170463', 'MNXR170463_reverse', 'MNXR170479', 'MNXR170479_reverse', 'MNXR170480', 'MNXR170480_reverse', 'MNXR170649', 'MNXR170649_reverse', 'MNXR170650', 'MNXR170650_reverse', 'MNXR170651', 'MNXR170651_reverse', 'MNXR170653', 'MNXR170653_reverse', 'MNXR170654', 'MNXR170654_reverse', 'MNXR170669', 'MNXR170669_reverse', 'MNXR170671', 'MNXR170671_reverse', 'MNXR170806', 'MNXR170806_reverse', 'MNXR171008_reverse', 'MNXR171080', 'MNXR171080_reverse', 'MNXR171094', 'MNXR171094_reverse', 'MNXR171218', 'MNXR171218_reverse', 'MNXR171221', 'MNXR171221_reverse', 'MNXR171233', 'MNXR171233_reverse', 'MNXR171234', 'MNXR171234_reverse', 'MNXR171751', 'MNXR171751_reverse', 'MNXR171760', 'MNXR171760_reverse', 'MNXR171790_reverse', 'MNXR171819_reverse', 'MNXR171848', 'MNXR171848_reverse', 'MNXR171903', 'MNXR171903_reverse', 'MNXR171923', 'MNXR171923_reverse', 'MNXR171925', 'MNXR171925_reverse', 'MNXR171926', 'MNXR171926_reverse', 'MNXR171927', 'MNXR171927_reverse', 'MNXR171980', 'MNXR171980_reverse', 'MNXR172008', 'MNXR172008_reverse', 'MNXR172382', 'MNXR172382_reverse', 'MNXR173491', 'MNXR173491_reverse', 'MNXR173493', 'MNXR173493_reverse', 'MNXR173494', 'MNXR173494_reverse', 'MNXR173495', 'MNXR173495_reverse', 'MNXR173496', 'MNXR173496_reverse', 'MNXR173497', 'MNXR173497_reverse', 'MNXR173498', 'MNXR173498_reverse', 'MNXR173499', 'MNXR173499_reverse', 'MNXR173500', 'MNXR173500_reverse', 'MNXR173501', 'MNXR173501_reverse', 'MNXR173813', 'MNXR173813_reverse', 'MNXR175592', 'MNXR175592_reverse', 'MNXR175837', 'MNXR175837_reverse', 'MNXR175909', 'MNXR175909_reverse', 'MNXR176060', 'MNXR176060_reverse', 'MNXR176348', 'MNXR176348_reverse', 'MNXR177017', 'MNXR177017_reverse', 'MNXR178625', 'MNXR178625_reverse', 'MNXR179228', 'MNXR179228_reverse', 'MNXR179229', 'MNXR179229_reverse', 'MNXR179332', 'MNXR179332_reverse', 'MNXR180359', 'MNXR180359_reverse', 'MNXR180415', 'MNXR180415_reverse', 'MNXR180418', 'MNXR180418_reverse', 'MNXR180419', 'MNXR180419_reverse', 'MNXR180420', 'MNXR180420_reverse', 'MNXR180421', 'MNXR180421_reverse', 'MNXR180771', 'MNXR180771_reverse', 'MNXR181006', 'MNXR181006_reverse', 'MNXR181008', 'MNXR181008_reverse', 'MNXR181009', 'MNXR181009_reverse', 'MNXR181010', 'MNXR181010_reverse', 'MNXR183404', 'MNXR183404_reverse', 'MNXR183578', 'MNXR183578_reverse', 'MNXR184488', 'MNXR184488_reverse', 'MNXR184628', 'MNXR184628_reverse', 'MNXR185040', 'MNXR185040_reverse', 'MNXR185049', 'MNXR185049_reverse', 'MNXR185145', 'MNXR185145_reverse', 'MNXR185341', 'MNXR185341_reverse', 'MNXR185566', 'MNXR185566_reverse', 'MNXR185736', 'MNXR185736_reverse', 'MNXR185831', 'MNXR185831_reverse', 'MNXR186112', 'MNXR186112_reverse', 'MNXR186454', 'MNXR186454_reverse', 'MNXR186515', 'MNXR186515_reverse', 'MNXR186636', 'MNXR186636_reverse', 'MNXR186706', 'MNXR186706_reverse', 'MNXR186735_reverse', 'MNXR187552', 'MNXR187552_reverse', 'MNXR187948', 'MNXR187948_reverse', 'MNXR188231', 'MNXR188231_reverse', 'MNXR188232', 'MNXR188232_reverse', 'MNXR188301', 'MNXR188301_reverse', 'MNXR188305', 'MNXR188305_reverse', 'MNXR188553', 'MNXR188553_reverse', 'MNXR189084', 'MNXR189084_reverse', 'MNXR189510', 'MNXR189510_reverse', 'MNXR189531', 'MNXR189531_reverse', 'MNXR189532', 'MNXR189532_reverse', 'MNXR189688', 'MNXR189688_reverse', 'MNXR190577', 'MNXR190577_reverse', 'MNXR191041', 'MNXR191041_reverse', 'MNXR191043', 'MNXR191043_reverse', 'MNXR191067', 'MNXR191067_reverse', 'MNXR191069', 'MNXR191069_reverse', 'MNXR191370', 'MNXR191370_reverse', 'MNXR191371', 'MNXR191371_reverse', 'MNXR191463', 'MNXR191463_reverse', 'MNXR191464', 'MNXR191464_reverse', 'MNXR191561', 'MNXR191561_reverse', 'MNXR191562', 'MNXR191562_reverse', 'MNXR191678', 'MNXR191678_reverse', 'MNXR191698', 'MNXR191698_reverse', 'MNXR191699', 'MNXR191699_reverse', 'MNXR191850', 'MNXR191850_reverse', 'MNXR191851', 'MNXR191851_reverse', 'MNXR191920', 'MNXR191920_reverse', 'MNXR191921', 'MNXR191921_reverse', 'MNXR191922', 'MNXR191922_reverse', 'MNXR192220', 'MNXR192220_reverse', 'MNXR192260', 'MNXR192260_reverse', 'MNXR192566', 'MNXR192566_reverse', 'MNXR192567', 'MNXR192567_reverse', 'MNXR192587', 'MNXR192587_reverse', 'MNXR192650', 'MNXR192650_reverse', 'MNXR192652', 'MNXR192652_reverse', 'MNXR192759', 'MNXR192759_reverse', 'MNXR192779', 'MNXR192779_reverse', 'MNXR192858', 'MNXR192858_reverse', 'MNXR192978', 'MNXR192978_reverse', 'MNXR193038', 'MNXR193038_reverse', 'MNXR193039', 'MNXR193039_reverse', 'MNXR193040', 'MNXR193040_reverse', 'MNXR193041', 'MNXR193041_reverse', 'MNXR193042', 'MNXR193042_reverse', 'MNXR193043', 'MNXR193043_reverse', 'MNXR193044', 'MNXR193044_reverse', 'MNXR193045', 'MNXR193045_reverse', 'MNXR193210', 'MNXR193210_reverse', 'MNXR193464', 'MNXR193464_reverse', 'MNXR193475', 'MNXR193475_reverse', 'MNXR193476', 'MNXR193476_reverse', 'MNXR193477', 'MNXR193477_reverse', 'MNXR193482', 'MNXR193482_reverse', 'MNXR193484', 'MNXR193484_reverse', 'MNXR193487', 'MNXR193487_reverse', 'MNXR193488', 'MNXR193488_reverse', 'MNXR193490', 'MNXR193490_reverse', 'MNXR193491', 'MNXR193491_reverse', 'MNXR193495', 'MNXR193495_reverse', 'MNXR193498', 'MNXR193498_reverse', 'MNXR193499', 'MNXR193499_reverse', 'MNXR193501', 'MNXR193501_reverse', 'MNXR193502', 'MNXR193502_reverse', 'MNXR193505', 'MNXR193505_reverse', 'MNXR193506', 'MNXR193506_reverse', 'MNXR193507', 'MNXR193507_reverse', 'MNXR193509', 'MNXR193509_reverse', 'MNXR193513', 'MNXR193513_reverse', 'MNXR193514', 'MNXR193514_reverse', 'MNXR193516', 'MNXR193516_reverse', 'MNXR193518', 'MNXR193518_reverse', 'MNXR193519', 'MNXR193519_reverse', 'MNXR193521', 'MNXR193521_reverse', 'MNXR193524', 'MNXR193524_reverse', 'MNXR193525', 'MNXR193525_reverse', 'MNXR193527', 'MNXR193527_reverse', 'MNXR193528', 'MNXR193528_reverse', 'MNXR193530', 'MNXR193530_reverse', 'MNXR193532', 'MNXR193532_reverse', 'MNXR193533', 'MNXR193533_reverse', 'MNXR193535', 'MNXR193535_reverse', 'MNXR193536', 'MNXR193536_reverse', 'MNXR193537', 'MNXR193537_reverse', 'MNXR193540', 'MNXR193540_reverse', 'MNXR193543', 'MNXR193543_reverse', 'MNXR193544', 'MNXR193544_reverse', 'MNXR193547', 'MNXR193547_reverse', 'MNXR193549', 'MNXR193549_reverse', 'MNXR193550', 'MNXR193550_reverse', 'MNXR193552', 'MNXR193552_reverse', 'MNXR193554', 'MNXR193554_reverse', 'MNXR193557', 'MNXR193557_reverse', 'MNXR193559', 'MNXR193559_reverse', 'MNXR193562', 'MNXR193562_reverse', 'MNXR193564', 'MNXR193564_reverse', 'MNXR193565', 'MNXR193565_reverse', 'MNXR193568', 'MNXR193568_reverse', 'MNXR193569', 'MNXR193569_reverse', 'MNXR193571', 'MNXR193571_reverse', 'MNXR193572', 'MNXR193572_reverse', 'MNXR193574', 'MNXR193574_reverse', 'MNXR193575', 'MNXR193575_reverse', 'MNXR193576', 'MNXR193576_reverse', 'MNXR193578', 'MNXR193578_reverse', 'MNXR193615', 'MNXR193615_reverse', 'MNXR193619', 'MNXR193619_reverse', 'MNXR193620', 'MNXR193620_reverse', 'MNXR193621', 'MNXR193621_reverse', 'MNXR193622', 'MNXR193622_reverse', 'MNXR193623', 'MNXR193623_reverse', 'MNXR193631', 'MNXR193631_reverse', 'MNXR193632', 'MNXR193632_reverse', 'MNXR193635', 'MNXR193635_reverse', 'MNXR193636', 'MNXR193636_reverse', 'MNXR193638', 'MNXR193638_reverse', 'MNXR193640', 'MNXR193640_reverse', 'MNXR193641', 'MNXR193641_reverse', 'MNXR193642', 'MNXR193642_reverse', 'MNXR193644', 'MNXR193644_reverse', 'MNXR193657', 'MNXR193657_reverse', 'MNXR193658', 'MNXR193658_reverse', 'MNXR193660', 'MNXR193660_reverse', 'MNXR193674', 'MNXR193674_reverse', 'MNXR193680', 'MNXR193680_reverse', 'MNXR193681', 'MNXR193681_reverse', 'MNXR193684', 'MNXR193684_reverse', 'MNXR193685', 'MNXR193685_reverse', 'MNXR193689', 'MNXR193689_reverse', 'MNXR193690', 'MNXR193690_reverse', 'MNXR193694', 'MNXR193694_reverse', 'MNXR193695', 'MNXR193695_reverse', 'MNXR193705', 'MNXR193705_reverse', 'MNXR193707', 'MNXR193707_reverse', 'MNXR193710', 'MNXR193710_reverse', 'MNXR193711', 'MNXR193711_reverse', 'MNXR193713', 'MNXR193713_reverse', 'MNXR193715', 'MNXR193715_reverse', 'MNXR193716', 'MNXR193716_reverse', 'MNXR193719', 'MNXR193719_reverse', 'MNXR193722', 'MNXR193722_reverse', 'MNXR193738', 'MNXR193738_reverse', 'MNXR193739', 'MNXR193739_reverse', 'MNXR193740', 'MNXR193740_reverse', 'MNXR193748', 'MNXR193748_reverse', 'MNXR193767', 'MNXR193767_reverse', 'MNXR193773', 'MNXR193773_reverse', 'MNXR193774', 'MNXR193774_reverse', 'MNXR193775', 'MNXR193775_reverse', 'MNXR193777', 'MNXR193777_reverse', 'MNXR193778', 'MNXR193778_reverse', 'MNXR193789', 'MNXR193789_reverse', 'MNXR193797', 'MNXR193797_reverse', 'MNXR193798', 'MNXR193798_reverse', 'MNXR193809', 'MNXR193809_reverse', 'MNXR193810', 'MNXR193810_reverse', 'MNXR193900', 'MNXR193900_reverse', 'MNXR193957', 'MNXR193957_reverse', 'MNXR193958', 'MNXR193958_reverse', 'MNXR193970', 'MNXR193970_reverse', 'MNXR193971', 'MNXR193971_reverse', 'MNXR193972', 'MNXR193972_reverse', 'MNXR193973', 'MNXR193973_reverse', 'MNXR193974', 'MNXR193974_reverse', 'MNXR193975', 'MNXR193975_reverse', 'MNXR194041', 'MNXR194041_reverse', 'MNXR194090_reverse', 'MNXR194097', 'MNXR194097_reverse', 'MNXR194253', 'MNXR194253_reverse', 'MNXR194257', 'MNXR194257_reverse', 'MNXR194349', 'MNXR194349_reverse', 'MNXR194664', 'MNXR194664_reverse', 'MNXR194665', 'MNXR194665_reverse', 'MNXR194687', 'MNXR194687_reverse', 'MNXR194689', 'MNXR194689_reverse', 'MNXR195056', 'MNXR195056_reverse', 'MNXR95389', 'MNXR95389_reverse', 'MNXR95798', 'MNXR95798_reverse', 'MNXR99245', 'MNXR99245_reverse', 'MNXR99246', 'MNXR99246_reverse', 'MNXR99247', 'MNXR99247_reverse', 'MNXR99248', 'MNXR99248_reverse', 'MNXR99249', 'MNXR99249_reverse', 'MNXR99250', 'MNXR99250_reverse', 'MNXR99251', 'MNXR99251_reverse', 'MNXR99281', 'MNXR99281_reverse', 'MNXR99291', 'MNXR99291_reverse', 'MNXR99294', 'MNXR99294_reverse', 'MNXR99297', 'MNXR99297_reverse', 'MNXR99298', 'MNXR99298_reverse', 'MNXR99301', 'MNXR99301_reverse', 'MNXR99302', 'MNXR99302_reverse', 'MNXR99312', 'MNXR99312_reverse', 'MNXR99315', 'MNXR99315_reverse', 'MNXR99316', 'MNXR99316_reverse', 'MNXR99317', 'MNXR99317_reverse', 'MNXR99321', 'MNXR99321_reverse', 'MNXR99325', 'MNXR99325_reverse', 'MNXR99326', 'MNXR99326_reverse', 'MNXR99330', 'MNXR99330_reverse', 'MNXR99331', 'MNXR99331_reverse', 'MNXR99339', 'MNXR99339_reverse', 'MNXR99340', 'MNXR99340_reverse', 'MNXR99341', 'MNXR99341_reverse', 'MNXR99349', 'MNXR99349_reverse', 'MNXR99351', 'MNXR99351_reverse', 'MNXR99353', 'MNXR99353_reverse', 'MNXR99355', 'MNXR99355_reverse', 'MNXR99357', 'MNXR99357_reverse', 'MNXR99359', 'MNXR99359_reverse', 'MNXR99361', 'MNXR99361_reverse', 'MNXR99373', 'MNXR99373_reverse']\n"
     ]
    }
   ],
   "source": [
    "parallel_MNXreaction_smiles_atom_mapping(mnxreac_smile_file_reverse_ATP_ADP_path,mnxreac_smile_atom_mapping_file_path)"
   ]
  },
  {
   "cell_type": "markdown",
   "metadata": {},
   "source": [
    "### extract MNXreaction rules"
   ]
  },
  {
   "cell_type": "code",
   "execution_count": 32,
   "metadata": {},
   "outputs": [
    {
     "name": "stderr",
     "output_type": "stream",
     "text": [
      "  5%|▍         | 2172/44195 [00:26<07:18, 95.91it/s] "
     ]
    },
    {
     "name": "stderr",
     "output_type": "stream",
     "text": [
      "100%|██████████| 44195/44195 [09:26<00:00, 77.95it/s] \n"
     ]
    },
    {
     "name": "stdout",
     "output_type": "stream",
     "text": [
      "done\n",
      "failed extract: ['MNXR100288', 'MNXR100288_reverse', 'MNXR101281', 'MNXR101281_reverse', 'MNXR101325', 'MNXR101325_reverse', 'MNXR101342', 'MNXR101342_reverse', 'MNXR101657', 'MNXR101657_reverse', 'MNXR103423', 'MNXR103423_reverse', 'MNXR103425', 'MNXR103425_reverse', 'MNXR103434', 'MNXR103434_reverse', 'MNXR103571', 'MNXR103571_reverse', 'MNXR103621', 'MNXR103621_reverse', 'MNXR103622', 'MNXR103633', 'MNXR103713', 'MNXR103713_reverse', 'MNXR103915', 'MNXR103915_reverse', 'MNXR104002', 'MNXR104002_reverse', 'MNXR104003', 'MNXR104003_reverse', 'MNXR104004', 'MNXR104004_reverse', 'MNXR104083', 'MNXR104083_reverse', 'MNXR104348', 'MNXR104348_reverse', 'MNXR104953', 'MNXR104953_reverse', 'MNXR105224', 'MNXR105224_reverse', 'MNXR106586', 'MNXR106586_reverse', 'MNXR106589', 'MNXR106589_reverse', 'MNXR106628', 'MNXR106628_reverse', 'MNXR106636', 'MNXR106636_reverse', 'MNXR106643', 'MNXR106643_reverse', 'MNXR106740', 'MNXR106740_reverse', 'MNXR106886', 'MNXR106886_reverse', 'MNXR107011', 'MNXR107011_reverse', 'MNXR107082', 'MNXR107082_reverse', 'MNXR107193', 'MNXR107439', 'MNXR107439_reverse', 'MNXR107569', 'MNXR107569_reverse', 'MNXR108034', 'MNXR108034_reverse', 'MNXR108059', 'MNXR108059_reverse', 'MNXR108081', 'MNXR108081_reverse', 'MNXR108427', 'MNXR108427_reverse', 'MNXR108488', 'MNXR108488_reverse', 'MNXR108531', 'MNXR108531_reverse', 'MNXR108688', 'MNXR108688_reverse', 'MNXR108699', 'MNXR108699_reverse', 'MNXR108770', 'MNXR108770_reverse', 'MNXR108954', 'MNXR108954_reverse', 'MNXR108974', 'MNXR108974_reverse', 'MNXR109046', 'MNXR109046_reverse', 'MNXR109091', 'MNXR109091_reverse', 'MNXR109289', 'MNXR109289_reverse', 'MNXR110197', 'MNXR110197_reverse', 'MNXR110198', 'MNXR110198_reverse', 'MNXR110243', 'MNXR110243_reverse', 'MNXR110406', 'MNXR110406_reverse', 'MNXR110672_reverse', 'MNXR111678', 'MNXR111678_reverse', 'MNXR112094', 'MNXR112094_reverse', 'MNXR112240', 'MNXR112240_reverse', 'MNXR112245', 'MNXR112245_reverse', 'MNXR112395', 'MNXR113015', 'MNXR113015_reverse', 'MNXR113069', 'MNXR113069_reverse', 'MNXR113114_reverse', 'MNXR113124', 'MNXR113348', 'MNXR113348_reverse', 'MNXR113370', 'MNXR113370_reverse', 'MNXR113415', 'MNXR113415_reverse', 'MNXR113419', 'MNXR113419_reverse', 'MNXR113426', 'MNXR113426_reverse', 'MNXR113636', 'MNXR113636_reverse', 'MNXR113637', 'MNXR113637_reverse', 'MNXR113638', 'MNXR113638_reverse', 'MNXR113639', 'MNXR113639_reverse', 'MNXR113707', 'MNXR113768_reverse', 'MNXR113826', 'MNXR113826_reverse', 'MNXR113944', 'MNXR113944_reverse', 'MNXR113996', 'MNXR113996_reverse', 'MNXR114066', 'MNXR114066_reverse', 'MNXR114080', 'MNXR114080_reverse', 'MNXR114133', 'MNXR114133_reverse', 'MNXR114134', 'MNXR114134_reverse', 'MNXR114195', 'MNXR114195_reverse', 'MNXR114284', 'MNXR114284_reverse', 'MNXR114331', 'MNXR114331_reverse', 'MNXR114349', 'MNXR114349_reverse', 'MNXR114380', 'MNXR114380_reverse', 'MNXR114381', 'MNXR114381_reverse', 'MNXR114383', 'MNXR114383_reverse', 'MNXR114437', 'MNXR114437_reverse', 'MNXR114562', 'MNXR114562_reverse', 'MNXR114581', 'MNXR114581_reverse', 'MNXR114582', 'MNXR114582_reverse', 'MNXR114584', 'MNXR114584_reverse', 'MNXR114586', 'MNXR114586_reverse', 'MNXR114598', 'MNXR114598_reverse', 'MNXR114599', 'MNXR114599_reverse', 'MNXR114627', 'MNXR114627_reverse', 'MNXR114737', 'MNXR114737_reverse', 'MNXR115410_reverse', 'MNXR115748', 'MNXR115748_reverse', 'MNXR116221', 'MNXR116221_reverse', 'MNXR118193', 'MNXR118193_reverse', 'MNXR118507', 'MNXR118507_reverse', 'MNXR118547', 'MNXR118547_reverse', 'MNXR118637', 'MNXR118637_reverse', 'MNXR118639', 'MNXR118639_reverse', 'MNXR118641', 'MNXR118641_reverse', 'MNXR118695', 'MNXR118900', 'MNXR118900_reverse', 'MNXR118901', 'MNXR118901_reverse', 'MNXR118904', 'MNXR118904_reverse', 'MNXR119277', 'MNXR119277_reverse', 'MNXR119298', 'MNXR119299', 'MNXR119299_reverse', 'MNXR119593_reverse', 'MNXR119729', 'MNXR119729_reverse', 'MNXR119731', 'MNXR119731_reverse', 'MNXR119903', 'MNXR119903_reverse', 'MNXR119908', 'MNXR119908_reverse', 'MNXR119909', 'MNXR119909_reverse', 'MNXR119910', 'MNXR119910_reverse', 'MNXR120636', 'MNXR120636_reverse', 'MNXR120643', 'MNXR120643_reverse', 'MNXR121061_reverse', 'MNXR121382', 'MNXR121382_reverse', 'MNXR121386', 'MNXR121441', 'MNXR121443_reverse', 'MNXR121613', 'MNXR121613_reverse', 'MNXR121946', 'MNXR121946_reverse', 'MNXR122216', 'MNXR122564', 'MNXR122564_reverse', 'MNXR122789', 'MNXR122789_reverse', 'MNXR123245', 'MNXR123245_reverse', 'MNXR123655', 'MNXR123655_reverse', 'MNXR123656', 'MNXR123656_reverse', 'MNXR123658', 'MNXR123658_reverse', 'MNXR126336', 'MNXR126336_reverse', 'MNXR128311', 'MNXR128311_reverse', 'MNXR130199', 'MNXR130199_reverse', 'MNXR132148', 'MNXR132148_reverse', 'MNXR133493', 'MNXR133493_reverse', 'MNXR133954', 'MNXR133954_reverse', 'MNXR133975', 'MNXR133975_reverse', 'MNXR133991', 'MNXR133991_reverse', 'MNXR134006', 'MNXR134006_reverse', 'MNXR134009', 'MNXR134009_reverse', 'MNXR134013', 'MNXR134013_reverse', 'MNXR134397', 'MNXR134397_reverse', 'MNXR136591', 'MNXR136591_reverse', 'MNXR139655', 'MNXR139655_reverse', 'MNXR140541', 'MNXR140541_reverse', 'MNXR140598', 'MNXR140598_reverse', 'MNXR141384', 'MNXR141384_reverse', 'MNXR143683', 'MNXR143683_reverse', 'MNXR143966', 'MNXR143966_reverse', 'MNXR143982', 'MNXR143982_reverse', 'MNXR145022', 'MNXR145022_reverse', 'MNXR145120', 'MNXR146230', 'MNXR146230_reverse', 'MNXR146516', 'MNXR146516_reverse', 'MNXR146642', 'MNXR146642_reverse', 'MNXR147179_reverse', 'MNXR147287', 'MNXR147287_reverse', 'MNXR147310', 'MNXR147310_reverse', 'MNXR148001', 'MNXR148001_reverse', 'MNXR149096', 'MNXR149355', 'MNXR149355_reverse', 'MNXR149356', 'MNXR149356_reverse', 'MNXR149357', 'MNXR149357_reverse', 'MNXR149358', 'MNXR149358_reverse', 'MNXR149359', 'MNXR149359_reverse', 'MNXR149577', 'MNXR149577_reverse', 'MNXR149994', 'MNXR149994_reverse', 'MNXR150030', 'MNXR150030_reverse', 'MNXR150193', 'MNXR150193_reverse', 'MNXR150391', 'MNXR150391_reverse', 'MNXR150437', 'MNXR150437_reverse', 'MNXR150438', 'MNXR150438_reverse', 'MNXR150599_reverse', 'MNXR150924', 'MNXR150924_reverse', 'MNXR151353_reverse', 'MNXR151394', 'MNXR151394_reverse', 'MNXR151539', 'MNXR151539_reverse', 'MNXR152128', 'MNXR152128_reverse', 'MNXR152254', 'MNXR152254_reverse', 'MNXR153713', 'MNXR153713_reverse', 'MNXR153740', 'MNXR153740_reverse', 'MNXR153742', 'MNXR153742_reverse', 'MNXR153745', 'MNXR153745_reverse', 'MNXR153746', 'MNXR153746_reverse', 'MNXR157504', 'MNXR157504_reverse', 'MNXR157505', 'MNXR157505_reverse', 'MNXR162918', 'MNXR163204', 'MNXR163204_reverse', 'MNXR163398', 'MNXR163398_reverse', 'MNXR163399', 'MNXR163399_reverse', 'MNXR164474', 'MNXR164474_reverse', 'MNXR164523', 'MNXR164523_reverse', 'MNXR164535', 'MNXR164535_reverse', 'MNXR164587', 'MNXR164587_reverse', 'MNXR165097', 'MNXR165097_reverse', 'MNXR165102', 'MNXR165102_reverse', 'MNXR165277', 'MNXR165881_reverse', 'MNXR165973', 'MNXR165973_reverse', 'MNXR166064_reverse', 'MNXR166107', 'MNXR166538', 'MNXR166538_reverse', 'MNXR169083', 'MNXR169083_reverse', 'MNXR169500_reverse', 'MNXR169705', 'MNXR169705_reverse', 'MNXR169732', 'MNXR169732_reverse', 'MNXR170023', 'MNXR170023_reverse', 'MNXR171195', 'MNXR171195_reverse', 'MNXR171270', 'MNXR171270_reverse', 'MNXR171274', 'MNXR171274_reverse', 'MNXR171283', 'MNXR171283_reverse', 'MNXR171307', 'MNXR171307_reverse', 'MNXR171308', 'MNXR171308_reverse', 'MNXR171309', 'MNXR171309_reverse', 'MNXR171380', 'MNXR171380_reverse', 'MNXR171381', 'MNXR171381_reverse', 'MNXR171518', 'MNXR171518_reverse', 'MNXR171524', 'MNXR171524_reverse', 'MNXR171703', 'MNXR171703_reverse', 'MNXR171704', 'MNXR171704_reverse', 'MNXR173158_reverse', 'MNXR173172_reverse', 'MNXR173206', 'MNXR173206_reverse', 'MNXR173207', 'MNXR173207_reverse', 'MNXR175779', 'MNXR175779_reverse', 'MNXR176051_reverse', 'MNXR176312', 'MNXR176312_reverse', 'MNXR176647', 'MNXR176647_reverse', 'MNXR176729_reverse', 'MNXR176735_reverse', 'MNXR177277', 'MNXR177277_reverse', 'MNXR177477', 'MNXR177477_reverse', 'MNXR179310', 'MNXR179310_reverse', 'MNXR179397', 'MNXR179397_reverse', 'MNXR181057_reverse', 'MNXR181228_reverse', 'MNXR181229_reverse', 'MNXR181762_reverse', 'MNXR183908', 'MNXR183908_reverse', 'MNXR185209', 'MNXR185209_reverse', 'MNXR185565', 'MNXR185565_reverse', 'MNXR185675', 'MNXR185675_reverse', 'MNXR186089', 'MNXR186089_reverse', 'MNXR186805', 'MNXR187315', 'MNXR187315_reverse', 'MNXR188332', 'MNXR188332_reverse', 'MNXR188960', 'MNXR188960_reverse', 'MNXR189161', 'MNXR189161_reverse', 'MNXR189297', 'MNXR189297_reverse', 'MNXR189301', 'MNXR189301_reverse', 'MNXR189302', 'MNXR189302_reverse', 'MNXR190107', 'MNXR190107_reverse', 'MNXR190172_reverse', 'MNXR191107', 'MNXR191107_reverse', 'MNXR191391_reverse', 'MNXR191392_reverse', 'MNXR191672', 'MNXR191673', 'MNXR192044', 'MNXR192069', 'MNXR192069_reverse', 'MNXR192070', 'MNXR192070_reverse', 'MNXR192212', 'MNXR192212_reverse', 'MNXR192213', 'MNXR192213_reverse', 'MNXR192223', 'MNXR192223_reverse', 'MNXR192676', 'MNXR192676_reverse', 'MNXR192677', 'MNXR192677_reverse', 'MNXR192702', 'MNXR192702_reverse', 'MNXR192746', 'MNXR192943', 'MNXR192943_reverse', 'MNXR192952', 'MNXR192952_reverse', 'MNXR193084', 'MNXR193084_reverse', 'MNXR193125', 'MNXR193703', 'MNXR193703_reverse', 'MNXR193892', 'MNXR193892_reverse', 'MNXR194158', 'MNXR194158_reverse', 'MNXR194218', 'MNXR194218_reverse', 'MNXR194292', 'MNXR194292_reverse', 'MNXR194396', 'MNXR194527', 'MNXR194527_reverse', 'MNXR194541', 'MNXR194541_reverse', 'MNXR195125', 'MNXR195125_reverse', 'MNXR195216', 'MNXR95382', 'MNXR95382_reverse', 'MNXR95690', 'MNXR95690_reverse', 'MNXR95693', 'MNXR95693_reverse', 'MNXR96097', 'MNXR96097_reverse', 'MNXR97143', 'MNXR97143_reverse', 'MNXR97879', 'MNXR97879_reverse', 'MNXR99654', 'MNXR99654_reverse']\n"
     ]
    }
   ],
   "source": [
    "set_confidence_score = 0.3\n",
    "extract_MNXreaction_rules(mnxreac_smile_atom_mapping_file_path,set_confidence_score,mnxreac_smile_atom_mapping_rules_file_all_path)"
   ]
  },
  {
   "cell_type": "markdown",
   "metadata": {},
   "source": [
    "### 3.filter rules"
   ]
  },
  {
   "cell_type": "code",
   "execution_count": 33,
   "metadata": {},
   "outputs": [
    {
     "name": "stdout",
     "output_type": "stream",
     "text": [
      "(29336, 18)\n",
      "(29336, 18)\n",
      "(22062, 18)\n",
      "(20316, 18)\n",
      "(20316, 18)\n",
      "(20316, 18)\n",
      "(20210, 19)\n"
     ]
    }
   ],
   "source": [
    "filter_retrorule(mnxreac_smile_atom_mapping_rules_file_all_path,DeepEC_file_path,mnxreac_smile_atom_mapping_rules_file_filter_path)"
   ]
  },
  {
   "cell_type": "code",
   "execution_count": 34,
   "metadata": {},
   "outputs": [
    {
     "data": {
      "text/plain": [
       "(29336, 18)"
      ]
     },
     "execution_count": 34,
     "metadata": {},
     "output_type": "execute_result"
    }
   ],
   "source": [
    "retrorule = pd.read_csv(mnxreac_smile_atom_mapping_rules_file_all_path)\n",
    "retrorule.shape"
   ]
  },
  {
   "cell_type": "code",
   "execution_count": 35,
   "metadata": {},
   "outputs": [
    {
     "name": "stdout",
     "output_type": "stream",
     "text": [
      "(29164, 19)\n"
     ]
    }
   ],
   "source": [
    "retrorule['num_substrings'] = retrorule['product_smiles'].apply(lambda x: len(x.split('.')))\n",
    "retrorule_ = retrorule[retrorule['num_substrings'] < 4]\n",
    "print(retrorule_.shape)\n",
    "retrorule_.to_csv(mnxreac_smile_atom_mapping_rules_file_filter_add_no_ec_path,index=None)"
   ]
  }
 ],
 "metadata": {
  "kernelspec": {
   "display_name": "kcat",
   "language": "python",
   "name": "python3"
  },
  "language_info": {
   "codemirror_mode": {
    "name": "ipython",
    "version": 3
   },
   "file_extension": ".py",
   "mimetype": "text/x-python",
   "name": "python",
   "nbconvert_exporter": "python",
   "pygments_lexer": "ipython3",
   "version": "3.8.18"
  },
  "orig_nbformat": 4
 },
 "nbformat": 4,
 "nbformat_minor": 2
}
