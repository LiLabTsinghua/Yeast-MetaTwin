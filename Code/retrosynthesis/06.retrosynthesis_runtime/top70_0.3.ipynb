{
 "cells": [
  {
   "cell_type": "code",
   "execution_count": 1,
   "metadata": {
    "metadata": {}
   },
   "outputs": [],
   "source": [
    "import pandas as pd\n",
    "import numpy as np\n",
    "\n",
    "import json\n",
    "from rdkit import Chem\n",
    "import pandas as pd\n",
    "import itertools\n",
    "import sys\n",
    "from tqdm import tqdm \n",
    "from itertools import chain, combinations\n",
    "import sys\n",
    "import multiprocessing as mp\n",
    "from functools import partial\n",
    "from collections import Counter\n",
    "tqdm.pandas()\n",
    "sys.path.append('../')\n",
    "from common import *"
   ]
  },
  {
   "cell_type": "markdown",
   "metadata": {},
   "source": [
    "### input and output"
   ]
  },
  {
   "cell_type": "code",
   "execution_count": 2,
   "metadata": {
    "metadata": {}
   },
   "outputs": [],
   "source": [
    "###input\n",
    "ymdb_output_final = '../../../Data/ymdb/ymdb_final_result.xlsx'\n",
    "mnxreac_smile_atom_mapping_rules_file_path = '../../../Data/rules/MNXreaction_smiles_atommap_rules_filter.csv'\n",
    "target_smiles_path = '../../../Results/not_lipid/target_smiles_not_lipid_complex.pickle'\n",
    "target_model_smiles_path = '../../../Results/not_lipid/yeast_met_not_lipid.pickle'\n",
    "yeast_model_path = '../../../Data/model/yeast-GEM-final.csv'\n",
    "total_met_inchikey0_file = '../../../Data/analysis/total_met_inchikey0.pickle'\n",
    "uptake_met_path = '../../../Data/ymdb/ymdb_uptake.csv'\n",
    "cut_off = 0.3\n",
    "num = 70\n",
    "num_process = 50\n",
    "cut_off_path = f'../../../Results/not_lipid/top{num}_{cut_off}/'\n",
    "cut_off_retrosynthesis_path = f'../../../Data_retrosynthesis/not_lipid/top{num}_{cut_off}/'\n",
    "\n",
    "sce_gene_clean_ec = '../../../Data/Saccharomyces_cerevisiae_maxsep.csv'\n",
    "DeepEC_path = '../../../Data/Sce_DeepECv2.txt'\n",
    "sce_uniprot_path = '../../../Data/uniprotkb_organism_id_559292_2023_11_08.tsv'\n",
    "yeast870_path =  '../../../Data/model/yeast-GEM.yml'\n",
    "miss_met_id_file = '../../../Data/model/miss_met_id.json'\n",
    "\n",
    "###output\n",
    "retrosys_smiles_calculate_similarity_file_path_all = f'../../../Data_retrosynthesis/not_lipid/retrosys_smiles_calculate_similarity_{cut_off}_re.json'\n",
    "\n",
    "retrosys_smiles_calculate_similarity_file_path = cut_off_retrosynthesis_path + f'retrosys_smiles_calculate_similarity_top{num}_{cut_off}.json'\n",
    "retrosys_smiles_calculate_similarity_filter_file_path = cut_off_retrosynthesis_path + f'retrosys_smiles_calculate_similarity_filter_top{num}_{cut_off}.json'\n",
    "rxndb_path = cut_off_retrosynthesis_path + f'RXNdb_top{num}_{cut_off}/'\n",
    "failedrxn_path = cut_off_retrosynthesis_path + f'failedrxn_top{num}_{cut_off}.pickle' \n",
    "rxndb_all_path = cut_off_retrosynthesis_path + f'RXNdb_all_top{num}_{cut_off}.json'\n",
    "# rxndb_all_path = cut_off_path + f'RXNdb_all_top{num}_{cut_off}_all.csv'\n",
    "rxndb_drop_path = cut_off_retrosynthesis_path + f'RXNdb_drop_top{num}_{cut_off}/'\n",
    "rxndb_met_max_score_file = cut_off_path + f'rxndb_met_max_score_pd_top{num}_{cut_off}.csv'\n",
    "rxndb_met_max_score_uptake_file = cut_off_path + f'rxndb_met_max_score_pd_top{num}_{cut_off}_uptake.csv'\n",
    "rxndb_to_model_path = cut_off_path + f'rxndb_to_model_top{num}_{cut_off}.csv'\n",
    "YMDB_success_met_smile_file = cut_off_path + f'YMDB_success_met_smile_top{num}_{cut_off}.pickle'\n",
    "YMDB_success_met_smile_uptake_file = cut_off_path + f'YMDB_success_met_smile_uptake_top{num}_{cut_off}.pickle'\n",
    "YMDB_fail_met_smile_file = cut_off_path + f'YMDB_fail_met_smile_top{num}_{cut_off}.pickle'\n",
    "YMDB_fail_met_smile_uptake_file = cut_off_path + f'YMDB_fail_met_smile_uptake_top{num}_{cut_off}.pickle'\n",
    "rxndb_GPR_to_model_path = cut_off_path + f'rxndb_GPR_to_model_top{num}_{cut_off}.csv'\n",
    "rxndb_met_max_score_met_annotation_file = cut_off_path + f'rxndb_met_max_score_met_annotation_top{num}_{cut_off}.csv'\n",
    "metabolites_info_to_GEM_path = cut_off_path + f'metabolites_info_to_GEM_top{num}_{cut_off}.csv'\n",
    "rxndb_total_info_to_model_path = cut_off_path + f'rxndb_total_info_to_model_top{num}_{cut_off}.csv'\n",
    "yeast8_reaction_in_rxndb_json = cut_off_path + f'yeast8_reaction_in_rxndb_top{num}_{cut_off}.json'\n",
    "\n",
    "\n"
   ]
  },
  {
   "cell_type": "code",
   "execution_count": 3,
   "metadata": {},
   "outputs": [],
   "source": [
    "#check if the output folder exists\n",
    "if not os.path.exists(cut_off_path):\n",
    "    os.makedirs(cut_off_path)\n",
    "if not os.path.exists(cut_off_retrosynthesis_path):\n",
    "    os.makedirs(cut_off_retrosynthesis_path)\n",
    "if not os.path.exists(rxndb_path):\n",
    "    os.makedirs(rxndb_path)\n",
    "if not os.path.exists(rxndb_drop_path):\n",
    "    os.makedirs(rxndb_drop_path)"
   ]
  },
  {
   "cell_type": "code",
   "execution_count": 4,
   "metadata": {
    "metadata": {}
   },
   "outputs": [
    {
     "name": "stdout",
     "output_type": "stream",
     "text": [
      "total_smiles 3680\n",
      "total_smiles 3679\n",
      "total_smiles 3679\n",
      "total_smiles 2222\n"
     ]
    },
    {
     "name": "stderr",
     "output_type": "stream",
     "text": [
      "21918it [00:01, 11514.62it/s]\n"
     ]
    },
    {
     "name": "stdout",
     "output_type": "stream",
     "text": [
      "8671\n"
     ]
    },
    {
     "name": "stderr",
     "output_type": "stream",
     "text": [
      "21918it [00:02, 9002.87it/s] "
     ]
    },
    {
     "name": "stdout",
     "output_type": "stream",
     "text": [
      "12278\n"
     ]
    },
    {
     "name": "stderr",
     "output_type": "stream",
     "text": [
      "\n"
     ]
    }
   ],
   "source": [
    "yeast_total_smiles = process_yeast_smiles(target_model_smiles_path)\n",
    "# yeast_total_smiles = [neutralize_charge(x) for x in yeast_total_smiles]\n",
    "yeast_total_smiles = [x for x in yeast_total_smiles if Chem.MolFromSmiles(x)]\n",
    "retrorules = pd.read_csv(mnxreac_smile_atom_mapping_rules_file_path)\n",
    "rules_product_smiles_lst = process_retrorules(retrorules,s='product_smiles')\n",
    "rules_product_smarts_lst = process_retrorules(retrorules,s='ProductSMARTs')\n"
   ]
  },
  {
   "cell_type": "code",
   "execution_count": 5,
   "metadata": {},
   "outputs": [],
   "source": [
    "# retrosys_smiles_calculate_similarity_pd = pd.read_json(retrosys_smiles_calculate_similarity_file_path_all)\n",
    "# retrosys_smiles_calculate_similarity_pd = get_most_similar_smiles(retrosys_smiles_calculate_similarity_pd,num)\n",
    "# retrosys_smiles_calculate_similarity_pd.to_json(retrosys_smiles_calculate_similarity_file_path)"
   ]
  },
  {
   "cell_type": "code",
   "execution_count": 6,
   "metadata": {
    "metadata": {}
   },
   "outputs": [
    {
     "name": "stderr",
     "output_type": "stream",
     "text": [
      "100%|██████████| 8671/8671 [12:55<00:00, 11.17it/s]\n"
     ]
    }
   ],
   "source": [
    "retrosys_smiles_calculate_similarity = process_rules_with_multiprocessing(rules_product_smiles_lst, yeast_total_smiles,num_processes=num_process,cutoff=cut_off)\n",
    "\n",
    "retrosys_smiles_calculate_similarity_pd = pd.DataFrame(retrosys_smiles_calculate_similarity)\n",
    "retrosys_smiles_calculate_similarity_pd.to_json(retrosys_smiles_calculate_similarity_file_path_all)\n",
    "\n",
    "# choose top num similar metabolites\n",
    "retrosys_smiles_calculate_similarity_pd = pd.read_json(retrosys_smiles_calculate_similarity_file_path_all)\n",
    "retrosys_smiles_calculate_similarity_pd = get_most_similar_smiles(retrosys_smiles_calculate_similarity_pd,num)\n",
    "retrosys_smiles_calculate_similarity_pd.to_json(retrosys_smiles_calculate_similarity_file_path)"
   ]
  },
  {
   "cell_type": "markdown",
   "metadata": {},
   "source": [
    "### get rxndb"
   ]
  },
  {
   "cell_type": "code",
   "execution_count": 7,
   "metadata": {},
   "outputs": [
    {
     "name": "stderr",
     "output_type": "stream",
     "text": [
      "100%|██████████| 21918/21918 [01:13<00:00, 300.19it/s]\n"
     ]
    }
   ],
   "source": [
    "retrorules = merge_smiles_similarity_rule(retrorules, retrosys_smiles_calculate_similarity_pd)"
   ]
  },
  {
   "cell_type": "code",
   "execution_count": 8,
   "metadata": {},
   "outputs": [
    {
     "name": "stderr",
     "output_type": "stream",
     "text": [
      "100%|██████████| 50/50 [00:09<00:00,  5.07it/s]\n"
     ]
    }
   ],
   "source": [
    "filter_smiles_muti(retrorules,retrosys_smiles_calculate_similarity_filter_file_path,num_process=num_process)\n",
    "with open(retrosys_smiles_calculate_similarity_filter_file_path, 'r') as json_file:\n",
    "    retrorules = json.load(json_file) \n",
    "retrorules = pd.DataFrame(retrorules)"
   ]
  },
  {
   "cell_type": "code",
   "execution_count": 9,
   "metadata": {},
   "outputs": [
    {
     "name": "stderr",
     "output_type": "stream",
     "text": [
      " 23%|██▎       | 4955/21918 [00:23<02:26, 115.95it/s]"
     ]
    },
    {
     "name": "stderr",
     "output_type": "stream",
     "text": [
      "100%|██████████| 21918/21918 [04:35<00:00, 79.61it/s] \n"
     ]
    }
   ],
   "source": [
    "process_retrorules_and_save(rxndb_path,failedrxn_path,retrorules,heterologous_met_smiles=None,num_process=num_process)"
   ]
  },
  {
   "cell_type": "markdown",
   "metadata": {},
   "source": [
    "### retrosynthesis result screen"
   ]
  },
  {
   "cell_type": "code",
   "execution_count": 12,
   "metadata": {},
   "outputs": [
    {
     "name": "stderr",
     "output_type": "stream",
     "text": [
      "100%|██████████| 21918/21918 [03:13<00:00, 113.08it/s]\n",
      "100%|██████████| 21918/21918 [00:05<00:00, 3673.17it/s]\n",
      "100%|██████████| 21918/21918 [00:04<00:00, 4662.09it/s]\n"
     ]
    },
    {
     "name": "stdout",
     "output_type": "stream",
     "text": [
      "rxndb: 4375000\n",
      "rxndb_drop: 92907\n"
     ]
    }
   ],
   "source": [
    "#drop metabolites that are not in the ymdb or yeast8\n",
    "drop_rxndb(rxndb_path, rxndb_drop_path, total_met_inchikey0_file, num_processes=num_process)\n",
    "#statistic the number of reactions \n",
    "statistic_reaction_num(rxndb_path,rxndb_drop_path)"
   ]
  },
  {
   "cell_type": "code",
   "execution_count": 13,
   "metadata": {},
   "outputs": [
    {
     "name": "stdout",
     "output_type": "stream",
     "text": [
      "(92907, 9)\n"
     ]
    }
   ],
   "source": [
    "#merge the rxndb\n",
    "rxndb = merge_rxndb(rxndb_drop_path,rxndb_all_path)\n",
    "rxndb_df = pd.DataFrame(rxndb).transpose()\n",
    "print(rxndb_df.shape)\n",
    "rxndb_df = rxndb_df.reset_index().rename(columns={'index':'NO'})\n"
   ]
  },
  {
   "cell_type": "code",
   "execution_count": 4,
   "metadata": {},
   "outputs": [
    {
     "name": "stdout",
     "output_type": "stream",
     "text": [
      "(92907, 9)\n"
     ]
    }
   ],
   "source": [
    "# #merge the rxndb\n",
    "# # rxndb = merge_rxndb(rxndb_path,rxndb_all_path)\n",
    "with open(rxndb_all_path,'r') as f:\n",
    "    rxndb = json.load(f)\n",
    "rxndb_df = pd.DataFrame(rxndb).transpose()\n",
    "print(rxndb_df.shape)\n",
    "rxndb_df = rxndb_df.reset_index().rename(columns={'index':'NO'})\n"
   ]
  },
  {
   "cell_type": "code",
   "execution_count": 5,
   "metadata": {},
   "outputs": [
    {
     "name": "stderr",
     "output_type": "stream",
     "text": [
      "100%|██████████| 100/100 [00:00<00:00, 272.61it/s]\n"
     ]
    },
    {
     "name": "stdout",
     "output_type": "stream",
     "text": [
      "number of metabolites in RXNDB: 4707\n"
     ]
    }
   ],
   "source": [
    "#get all the metabolites in the rxndb\n",
    "rxndb_all_smiles = parallel_process_rxn_smiles(rxndb_df, n_splits=100,num_process=num_process)"
   ]
  },
  {
   "cell_type": "code",
   "execution_count": 6,
   "metadata": {},
   "outputs": [],
   "source": [
    "#get all the smiles in the yeast8\n",
    "yeast8_total_smiles = get_all_smiles_in_model(yeast_model_path,ymdb_output_final)"
   ]
  },
  {
   "cell_type": "code",
   "execution_count": 7,
   "metadata": {},
   "outputs": [
    {
     "name": "stderr",
     "output_type": "stream",
     "text": [
      "100%|██████████| 4707/4707 [08:44<00:00,  8.98it/s]\n"
     ]
    }
   ],
   "source": [
    "#calculate the similarity of the metabolites\n",
    "\n",
    "smile_max_score_pd = calculate_save_smiles_max_score(rxndb_all_smiles, yeast8_total_smiles,rxndb_met_max_score_file,num_processes=num_process)"
   ]
  },
  {
   "cell_type": "code",
   "execution_count": 10,
   "metadata": {},
   "outputs": [],
   "source": [
    "# smile_max_score_pd = pd.read_csv(rxndb_met_max_score_file)"
   ]
  },
  {
   "cell_type": "code",
   "execution_count": 9,
   "metadata": {},
   "outputs": [
    {
     "name": "stderr",
     "output_type": "stream",
     "text": [
      "100%|██████████| 100/100 [00:03<00:00, 26.31it/s]\n",
      "100%|██████████| 100/100 [00:03<00:00, 28.03it/s]\n"
     ]
    },
    {
     "name": "stdout",
     "output_type": "stream",
     "text": [
      "Iteration 1 - Current success count: 4023\n",
      "Iteration 1 - Current success_rxndbid count: 66278\n",
      "============================================================================\n"
     ]
    },
    {
     "name": "stderr",
     "output_type": "stream",
     "text": [
      "100%|██████████| 100/100 [00:03<00:00, 26.64it/s]\n",
      "100%|██████████| 100/100 [00:03<00:00, 27.70it/s]\n"
     ]
    },
    {
     "name": "stdout",
     "output_type": "stream",
     "text": [
      "Iteration 2 - Current success count: 4253\n",
      "Iteration 2 - Current success_rxndbid count: 70312\n",
      "============================================================================\n"
     ]
    },
    {
     "name": "stderr",
     "output_type": "stream",
     "text": [
      "100%|██████████| 100/100 [00:03<00:00, 26.60it/s]\n",
      "100%|██████████| 100/100 [00:03<00:00, 27.55it/s]\n"
     ]
    },
    {
     "name": "stdout",
     "output_type": "stream",
     "text": [
      "Iteration 3 - Current success count: 4279\n",
      "Iteration 3 - Current success_rxndbid count: 71573\n",
      "============================================================================\n"
     ]
    },
    {
     "name": "stderr",
     "output_type": "stream",
     "text": [
      "100%|██████████| 100/100 [00:03<00:00, 25.39it/s]\n",
      "100%|██████████| 100/100 [00:04<00:00, 24.23it/s]\n"
     ]
    },
    {
     "name": "stdout",
     "output_type": "stream",
     "text": [
      "Iteration 4 - Current success count: 4297\n",
      "Iteration 4 - Current success_rxndbid count: 71963\n",
      "============================================================================\n"
     ]
    },
    {
     "name": "stderr",
     "output_type": "stream",
     "text": [
      "100%|██████████| 100/100 [00:04<00:00, 24.98it/s]\n",
      "100%|██████████| 100/100 [00:03<00:00, 27.37it/s]\n"
     ]
    },
    {
     "name": "stdout",
     "output_type": "stream",
     "text": [
      "Iteration 5 - Current success count: 4304\n",
      "Iteration 5 - Current success_rxndbid count: 72138\n",
      "============================================================================\n"
     ]
    },
    {
     "name": "stderr",
     "output_type": "stream",
     "text": [
      "100%|██████████| 100/100 [00:04<00:00, 24.79it/s]\n",
      "100%|██████████| 100/100 [00:03<00:00, 26.24it/s]\n"
     ]
    },
    {
     "name": "stdout",
     "output_type": "stream",
     "text": [
      "Iteration 6 - Current success count: 4311\n",
      "Iteration 6 - Current success_rxndbid count: 72229\n",
      "============================================================================\n"
     ]
    },
    {
     "name": "stderr",
     "output_type": "stream",
     "text": [
      "100%|██████████| 100/100 [00:04<00:00, 24.21it/s]\n",
      "100%|██████████| 100/100 [00:04<00:00, 24.90it/s]\n"
     ]
    },
    {
     "name": "stdout",
     "output_type": "stream",
     "text": [
      "Iteration 7 - Current success count: 4311\n",
      "Iteration 7 - Current success_rxndbid count: 72229\n",
      "============================================================================\n",
      "final success 4311\n",
      "final success_rxndbid 72229\n"
     ]
    }
   ],
   "source": [
    "smiles_success,success_rxndbid,smiles_max_score_tmp_pd = process_reactions_in_parallel_reactant(rxndb_df, smile_max_score_pd, num_processes=num_process, num_iterations=7)\n",
    "smiles_max_score_tmp_pd.to_csv(rxndb_met_max_score_file,index=None)"
   ]
  },
  {
   "cell_type": "code",
   "execution_count": null,
   "metadata": {},
   "outputs": [],
   "source": [
    "# smiles_success,success_rxndbid,smiles_max_score_tmp_pd = process_reactions_in_parallel_reactant(rxndb_df, smiles_max_score_tmp_pd, num_processes=num_process, num_iterations=2)\n",
    "# smiles_max_score_tmp_pd.to_csv(rxndb_met_max_score_file,index=None)"
   ]
  },
  {
   "cell_type": "code",
   "execution_count": null,
   "metadata": {},
   "outputs": [],
   "source": [
    "# smiles_max_score_tmp_pd = pd.read_csv(rxndb_met_max_score_file)"
   ]
  },
  {
   "cell_type": "code",
   "execution_count": 11,
   "metadata": {},
   "outputs": [
    {
     "name": "stdout",
     "output_type": "stream",
     "text": [
      "success number: 215\n",
      "fail number: 360\n"
     ]
    }
   ],
   "source": [
    "save_success_fail_target_smiles(target_smiles_path,smiles_success,YMDB_success_met_smile_file,YMDB_fail_met_smile_file)"
   ]
  },
  {
   "cell_type": "code",
   "execution_count": null,
   "metadata": {},
   "outputs": [
    {
     "name": "stdout",
     "output_type": "stream",
     "text": [
      "63\n",
      "51\n"
     ]
    }
   ],
   "source": [
    "# smiles_success = load_pickle(YMDB_success_met_smile_file)\n",
    "# inchikey0_success = [smiles2inchikey0(x) for x in smiles_success]\n",
    "# print(len(uptake_smiles))\n",
    "# uptake_drop = [x for x in uptake_smiles if smiles2inchikey0(x) not in inchikey0_success ]\n",
    "# print(len(uptake_drop))"
   ]
  },
  {
   "cell_type": "code",
   "execution_count": null,
   "metadata": {},
   "outputs": [
    {
     "name": "stderr",
     "output_type": "stream",
     "text": [
      "100%|██████████| 63/63 [00:00<00:00, 1751.50it/s]\n"
     ]
    },
    {
     "data": {
      "text/plain": [
       "51"
      ]
     },
     "execution_count": 13,
     "metadata": {},
     "output_type": "execute_result"
    }
   ],
   "source": [
    "# uptake_smiles_df = pd.read_csv(uptake_met_path)\n",
    "\n",
    "# uptake_smiles_df['inchikey0'] = uptake_smiles_df['SMILES'].progress_apply(smiles2inchikey0)\n",
    "# uptake_smiles_df = uptake_smiles_df[~uptake_smiles_df['inchikey0'].isin(inchikey0_success)]\n",
    "# uptake_smiles_df.to_csv(uptake_met_path, index=False)\n",
    "# len(uptake_smiles_df)"
   ]
  },
  {
   "cell_type": "code",
   "execution_count": 12,
   "metadata": {},
   "outputs": [],
   "source": [
    "#get all the smiles in the yeast8\n",
    "yeast8_total_smiles = get_all_smiles_in_model(yeast_model_path,ymdb_output_final)\n",
    "\n",
    "# consider uptake metabolites\n",
    "uptake = pd.read_csv(uptake_met_path)\n",
    "uptake_smiles = uptake['SMILES'].values\n",
    "uptake_smiles = [normalize_smiles(i) for i in uptake_smiles]\n",
    "yeast8_total_smiles = yeast8_total_smiles + uptake_smiles"
   ]
  },
  {
   "cell_type": "code",
   "execution_count": 13,
   "metadata": {},
   "outputs": [
    {
     "name": "stderr",
     "output_type": "stream",
     "text": [
      "100%|██████████| 4707/4707 [09:13<00:00,  8.51it/s]\n",
      "100%|██████████| 100/100 [00:03<00:00, 27.39it/s]\n",
      "100%|██████████| 100/100 [00:03<00:00, 29.17it/s]\n"
     ]
    },
    {
     "name": "stdout",
     "output_type": "stream",
     "text": [
      "Iteration 1 - Current success count: 4236\n",
      "Iteration 1 - Current success_rxndbid count: 81932\n",
      "============================================================================\n"
     ]
    },
    {
     "name": "stderr",
     "output_type": "stream",
     "text": [
      "100%|██████████| 100/100 [00:03<00:00, 25.10it/s]\n",
      "100%|██████████| 100/100 [00:03<00:00, 26.55it/s]\n"
     ]
    },
    {
     "name": "stdout",
     "output_type": "stream",
     "text": [
      "Iteration 2 - Current success count: 4474\n",
      "Iteration 2 - Current success_rxndbid count: 86456\n",
      "============================================================================\n"
     ]
    },
    {
     "name": "stderr",
     "output_type": "stream",
     "text": [
      "100%|██████████| 100/100 [00:04<00:00, 24.20it/s]\n",
      "100%|██████████| 100/100 [00:03<00:00, 26.73it/s]\n"
     ]
    },
    {
     "name": "stdout",
     "output_type": "stream",
     "text": [
      "Iteration 3 - Current success count: 4505\n",
      "Iteration 3 - Current success_rxndbid count: 87461\n",
      "============================================================================\n"
     ]
    },
    {
     "name": "stderr",
     "output_type": "stream",
     "text": [
      "100%|██████████| 100/100 [00:03<00:00, 26.32it/s]\n",
      "100%|██████████| 100/100 [00:03<00:00, 25.53it/s]\n"
     ]
    },
    {
     "name": "stdout",
     "output_type": "stream",
     "text": [
      "Iteration 4 - Current success count: 4518\n",
      "Iteration 4 - Current success_rxndbid count: 87811\n",
      "============================================================================\n"
     ]
    },
    {
     "name": "stderr",
     "output_type": "stream",
     "text": [
      "100%|██████████| 100/100 [00:04<00:00, 24.88it/s]\n",
      "100%|██████████| 100/100 [00:03<00:00, 27.64it/s]\n"
     ]
    },
    {
     "name": "stdout",
     "output_type": "stream",
     "text": [
      "Iteration 5 - Current success count: 4523\n",
      "Iteration 5 - Current success_rxndbid count: 87977\n",
      "============================================================================\n"
     ]
    },
    {
     "name": "stderr",
     "output_type": "stream",
     "text": [
      "100%|██████████| 100/100 [00:03<00:00, 25.47it/s]\n",
      "100%|██████████| 100/100 [00:04<00:00, 24.51it/s]\n"
     ]
    },
    {
     "name": "stdout",
     "output_type": "stream",
     "text": [
      "Iteration 6 - Current success count: 4529\n",
      "Iteration 6 - Current success_rxndbid count: 88065\n",
      "============================================================================\n"
     ]
    },
    {
     "name": "stderr",
     "output_type": "stream",
     "text": [
      "100%|██████████| 100/100 [00:04<00:00, 23.29it/s]\n",
      "100%|██████████| 100/100 [00:03<00:00, 26.02it/s]\n"
     ]
    },
    {
     "name": "stdout",
     "output_type": "stream",
     "text": [
      "Iteration 7 - Current success count: 4529\n",
      "Iteration 7 - Current success_rxndbid count: 88065\n",
      "============================================================================\n",
      "final success 4529\n",
      "final success_rxndbid 88065\n"
     ]
    }
   ],
   "source": [
    "smile_max_score_pd = calculate_save_smiles_max_score(rxndb_all_smiles, yeast8_total_smiles,rxndb_met_max_score_file,num_processes=num_process)\n",
    "# smiles_max_score_tmp_pd = pd.read_csv(rxndb_met_max_score_uptake_file)\n",
    "\n",
    "smiles_success,success_rxndbid,smiles_max_score_tmp_pd = process_reactions_in_parallel_reactant(rxndb_df, smile_max_score_pd, num_processes=num_process, num_iterations=7)\n",
    "smiles_max_score_tmp_pd.to_csv(rxndb_met_max_score_uptake_file,index=None)"
   ]
  },
  {
   "cell_type": "code",
   "execution_count": 14,
   "metadata": {},
   "outputs": [
    {
     "name": "stdout",
     "output_type": "stream",
     "text": [
      "success number: 254\n",
      "fail number: 321\n"
     ]
    }
   ],
   "source": [
    "save_success_fail_target_smiles(target_smiles_path,smiles_success,YMDB_success_met_smile_uptake_file,YMDB_fail_met_smile_uptake_file)"
   ]
  },
  {
   "cell_type": "code",
   "execution_count": 15,
   "metadata": {},
   "outputs": [
    {
     "name": "stdout",
     "output_type": "stream",
     "text": [
      "(88065, 10)\n",
      "(88065, 10)\n",
      "(88065, 5)\n",
      "(88065, 5)\n"
     ]
    }
   ],
   "source": [
    "save_rxndb_to_model(rxndb_df,success_rxndbid,rxndb_to_model_path)"
   ]
  },
  {
   "cell_type": "code",
   "execution_count": 16,
   "metadata": {},
   "outputs": [
    {
     "name": "stdout",
     "output_type": "stream",
     "text": [
      "4\n"
     ]
    }
   ],
   "source": [
    "smiles_success = load_pickle(YMDB_success_met_smile_file)\n",
    "smiles_success_uptake = load_pickle(YMDB_success_met_smile_uptake_file)\n",
    "diff = [x for x in smiles_success_uptake if x not in smiles_success]\n",
    "uptake_synthesis = [x for x in diff if x not in uptake_smiles]\n",
    "print(len(uptake_synthesis))"
   ]
  }
 ],
 "metadata": {
  "kernelspec": {
   "display_name": "kcat",
   "language": "python",
   "name": "python3"
  },
  "language_info": {
   "codemirror_mode": {
    "name": "ipython",
    "version": 3
   },
   "file_extension": ".py",
   "mimetype": "text/x-python",
   "name": "python",
   "nbconvert_exporter": "python",
   "pygments_lexer": "ipython3",
   "version": "3.7.16"
  },
  "orig_nbformat": 4
 },
 "nbformat": 4,
 "nbformat_minor": 2
}
