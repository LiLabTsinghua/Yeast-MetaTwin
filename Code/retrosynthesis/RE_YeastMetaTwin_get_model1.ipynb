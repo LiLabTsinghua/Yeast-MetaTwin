{
 "cells": [
  {
   "cell_type": "code",
   "execution_count": 1,
   "metadata": {},
   "outputs": [],
   "source": [
    "import pandas as pd\n",
    "import numpy as np\n",
    "import json\n",
    "import pandas as pd\n",
    "import re\n",
    "from rdkit import Chem\n",
    "from rdkit.Chem import AllChem\n",
    "from collections import Counter,defaultdict\n",
    "from ast import literal_eval\n",
    "import cobra\n",
    "from cobra import Metabolite,Reaction,Gene\n",
    "from tqdm import tqdm\n",
    "import random\n",
    "import pickle\n",
    "from multiprocessing import Pool\n",
    "\n",
    "import sys\n",
    "# sys.path.append('../Script/')\n",
    "from common import *\n",
    "# from check_newinfo_getyeast8U import *"
   ]
  },
  {
   "cell_type": "code",
   "execution_count": 2,
   "metadata": {},
   "outputs": [],
   "source": [
    "### input\n",
    "yeast870_path =  '../../Data/model/yeast-GEM.yml'\n",
    "metabolites_info_to_GEM_path = '../../Results/not_lipid/top50_0.3_re/metabolites_info_to_GEM_top50_0.3.csv'\n",
    "rxndb_total_info_to_model_path = '../../Results/not_lipid/top50_0.3_re/rxndb_total_info_to_model_top50_0.3.csv'\n",
    "yeast8_reaction_in_rxndb_json = '../../Results/not_lipid/top50_0.3_re/yeast8_reaction_in_rxndb_top50_0.3.json'\n",
    "\n",
    "### output\n",
    "rxndb_total_info_to_model_del_reaction_path = '../../Results/not_lipid/top50_0.3_re/rxndb_total_info_to_model_del_reaction_top50_0.3.csv'\n",
    "error_reaction_path = '../../Results/not_lipid/top50_0.3_re/error_reaction_random/'\n",
    "error_reaction_all_path = '../../Results/not_lipid/top50_0.3_re/error_reaction_all.pickle'\n",
    "yeast8U_del_path = '../../Data/model/yeast8U_del_re.yml'\n",
    "yeast8U_mod_path = '../../Data/model/yeast8U_mod_re.yml'\n",
    "biomass_up_reaction_path = '../../Results/not_lipid/top50_0.3_re/biomass_up_reaction_top50_0.3.pickle'"
   ]
  },
  {
   "cell_type": "code",
   "execution_count": 3,
   "metadata": {},
   "outputs": [
    {
     "data": {
      "text/plain": [
       "(8114, 8)"
      ]
     },
     "execution_count": 3,
     "metadata": {},
     "output_type": "execute_result"
    }
   ],
   "source": [
    "rxndb_total_info_to_model = pd.read_csv(rxndb_total_info_to_model_path)\n",
    "rxndb_total_info_to_model.shape"
   ]
  },
  {
   "cell_type": "code",
   "execution_count": 4,
   "metadata": {},
   "outputs": [
    {
     "name": "stdout",
     "output_type": "stream",
     "text": [
      "(4337, 4)\n",
      "(8114, 8)\n",
      "(8114, 8)\n",
      "(6740, 8)\n"
     ]
    },
    {
     "name": "stderr",
     "output_type": "stream",
     "text": [
      "100%|██████████| 6740/6740 [00:25<00:00, 260.17it/s]\n"
     ]
    }
   ],
   "source": [
    "get_yeast8U(metabolites_info_to_GEM_path,rxndb_total_info_to_model_path,yeast8_reaction_in_rxndb_json,yeast870_path,yeast8U_mod_path)"
   ]
  },
  {
   "cell_type": "code",
   "execution_count": 5,
   "metadata": {},
   "outputs": [
    {
     "data": {
      "text/html": [
       "<h3>Objective</h3><p>1.0 r_2111 = 0.13919492724531365</p><h4>Uptake</h4><table border=\"1\" class=\"dataframe\">\n",
       "  <thead>\n",
       "    <tr style=\"text-align: right;\">\n",
       "      <th>Metabolite</th>\n",
       "      <th>Reaction</th>\n",
       "      <th>Flux</th>\n",
       "      <th>C-Number</th>\n",
       "      <th>C-Flux</th>\n",
       "    </tr>\n",
       "  </thead>\n",
       "  <tbody>\n",
       "    <tr>\n",
       "      <td>s_0420</td>\n",
       "      <td>r_1654</td>\n",
       "      <td>0.9952</td>\n",
       "      <td>0</td>\n",
       "      <td>0.00%</td>\n",
       "    </tr>\n",
       "    <tr>\n",
       "      <td>s_0565</td>\n",
       "      <td>r_1714</td>\n",
       "      <td>1</td>\n",
       "      <td>6</td>\n",
       "      <td>100.00%</td>\n",
       "    </tr>\n",
       "    <tr>\n",
       "      <td>s_0796</td>\n",
       "      <td>r_1832</td>\n",
       "      <td>0.07959</td>\n",
       "      <td>0</td>\n",
       "      <td>0.00%</td>\n",
       "    </tr>\n",
       "    <tr>\n",
       "      <td>s_0925</td>\n",
       "      <td>r_1861</td>\n",
       "      <td>4.371E-06</td>\n",
       "      <td>0</td>\n",
       "      <td>0.00%</td>\n",
       "    </tr>\n",
       "    <tr>\n",
       "      <td>s_1324</td>\n",
       "      <td>r_2005</td>\n",
       "      <td>0.06967</td>\n",
       "      <td>0</td>\n",
       "      <td>0.00%</td>\n",
       "    </tr>\n",
       "    <tr>\n",
       "      <td>s_1374</td>\n",
       "      <td>r_2020</td>\n",
       "      <td>0.0005053</td>\n",
       "      <td>0</td>\n",
       "      <td>0.00%</td>\n",
       "    </tr>\n",
       "    <tr>\n",
       "      <td>s_1438</td>\n",
       "      <td>r_2049</td>\n",
       "      <td>0.0005526</td>\n",
       "      <td>0</td>\n",
       "      <td>0.00%</td>\n",
       "    </tr>\n",
       "    <tr>\n",
       "      <td>s_1468</td>\n",
       "      <td>r_2060</td>\n",
       "      <td>0.002784</td>\n",
       "      <td>0</td>\n",
       "      <td>0.00%</td>\n",
       "    </tr>\n",
       "    <tr>\n",
       "      <td>s_4200</td>\n",
       "      <td>r_4593</td>\n",
       "      <td>0.0001796</td>\n",
       "      <td>0</td>\n",
       "      <td>0.00%</td>\n",
       "    </tr>\n",
       "    <tr>\n",
       "      <td>s_4201</td>\n",
       "      <td>r_4594</td>\n",
       "      <td>9.173E-05</td>\n",
       "      <td>0</td>\n",
       "      <td>0.00%</td>\n",
       "    </tr>\n",
       "    <tr>\n",
       "      <td>s_4202</td>\n",
       "      <td>r_4595</td>\n",
       "      <td>0.00038</td>\n",
       "      <td>0</td>\n",
       "      <td>0.00%</td>\n",
       "    </tr>\n",
       "    <tr>\n",
       "      <td>s_4203</td>\n",
       "      <td>r_4596</td>\n",
       "      <td>0.009292</td>\n",
       "      <td>0</td>\n",
       "      <td>0.00%</td>\n",
       "    </tr>\n",
       "    <tr>\n",
       "      <td>s_4204</td>\n",
       "      <td>r_4597</td>\n",
       "      <td>0.000173</td>\n",
       "      <td>0</td>\n",
       "      <td>0.00%</td>\n",
       "    </tr>\n",
       "    <tr>\n",
       "      <td>s_4199</td>\n",
       "      <td>r_4600</td>\n",
       "      <td>3.021E-05</td>\n",
       "      <td>0</td>\n",
       "      <td>0.00%</td>\n",
       "    </tr>\n",
       "  </tbody>\n",
       "</table><h4>Secretion</h4><table border=\"1\" class=\"dataframe\">\n",
       "  <thead>\n",
       "    <tr style=\"text-align: right;\">\n",
       "      <th>Metabolite</th>\n",
       "      <th>Reaction</th>\n",
       "      <th>Flux</th>\n",
       "      <th>C-Number</th>\n",
       "      <th>C-Flux</th>\n",
       "    </tr>\n",
       "  </thead>\n",
       "  <tbody>\n",
       "    <tr>\n",
       "      <td>s_1277</td>\n",
       "      <td>r_1992</td>\n",
       "      <td>-0.3611</td>\n",
       "      <td>0</td>\n",
       "      <td>0.00%</td>\n",
       "    </tr>\n",
       "    <tr>\n",
       "      <td>s_0805</td>\n",
       "      <td>r_2100</td>\n",
       "      <td>-2.466</td>\n",
       "      <td>0</td>\n",
       "      <td>0.00%</td>\n",
       "    </tr>\n",
       "    <tr>\n",
       "      <td>s_0450</td>\n",
       "      <td>r_2111</td>\n",
       "      <td>-0.1392</td>\n",
       "      <td>0</td>\n",
       "      <td>0.00%</td>\n",
       "    </tr>\n",
       "  </tbody>\n",
       "</table>"
      ],
      "text/plain": [
       "<cobra.summary.model_summary.ModelSummary at 0x7f1dd8239160>"
      ]
     },
     "execution_count": 5,
     "metadata": {},
     "output_type": "execute_result"
    }
   ],
   "source": [
    "yeast8U_mod = cobra.io.load_yaml_model(yeast8U_mod_path)\n",
    "yeast8U_mod.summary()"
   ]
  },
  {
   "cell_type": "code",
   "execution_count": 6,
   "metadata": {},
   "outputs": [],
   "source": [
    "yeast8 = cobra.io.load_yaml_model(yeast870_path)\n"
   ]
  },
  {
   "cell_type": "code",
   "execution_count": 7,
   "metadata": {},
   "outputs": [
    {
     "data": {
      "text/plain": [
       "'../../Data/model/yeast8U_mod_re.yml'"
      ]
     },
     "execution_count": 7,
     "metadata": {},
     "output_type": "execute_result"
    }
   ],
   "source": [
    "yeast8U_mod_path"
   ]
  },
  {
   "cell_type": "code",
   "execution_count": 8,
   "metadata": {},
   "outputs": [
    {
     "data": {
      "text/html": [
       "\n",
       "        <table>\n",
       "            <tr>\n",
       "                <td><strong>Name</strong></td>\n",
       "                <td>None</td>\n",
       "            </tr><tr>\n",
       "                <td><strong>Memory address</strong></td>\n",
       "                <td>7f1f5aab9bb0</td>\n",
       "            </tr><tr>\n",
       "                <td><strong>Number of metabolites</strong></td>\n",
       "                <td>3261</td>\n",
       "            </tr><tr>\n",
       "                <td><strong>Number of reactions</strong></td>\n",
       "                <td>10871</td>\n",
       "            </tr><tr>\n",
       "                <td><strong>Number of genes</strong></td>\n",
       "                <td>2071</td>\n",
       "            </tr><tr>\n",
       "                <td><strong>Number of groups</strong></td>\n",
       "                <td>0</td>\n",
       "            </tr><tr>\n",
       "                <td><strong>Objective expression</strong></td>\n",
       "                <td>1.0*r_2111 - 1.0*r_2111_reverse_58b69</td>\n",
       "            </tr><tr>\n",
       "                <td><strong>Compartments</strong></td>\n",
       "                <td>cell envelope, cytoplasm, extracellular, mitochondrion, nucleus, peroxisome, endoplasmic reticulum, Golgi, lipid particle, vacuole, endoplasmic reticulum membrane, vacuolar membrane, Golgi membrane, mitochondrial membrane</td>\n",
       "            </tr>\n",
       "          </table>"
      ],
      "text/plain": [
       "<Model None at 0x7f1f5aab9bb0>"
      ]
     },
     "execution_count": 8,
     "metadata": {},
     "output_type": "execute_result"
    }
   ],
   "source": [
    "yeast8U_mod"
   ]
  },
  {
   "cell_type": "markdown",
   "metadata": {},
   "source": [
    "# find reactions that affect biomass"
   ]
  },
  {
   "cell_type": "code",
   "execution_count": 9,
   "metadata": {},
   "outputs": [
    {
     "name": "stderr",
     "output_type": "stream",
     "text": [
      "  8%|▊         | 514/6740 [01:33<19:17,  5.38it/s]"
     ]
    },
    {
     "name": "stdout",
     "output_type": "stream",
     "text": [
      "rxn27431 error_reaction\n"
     ]
    },
    {
     "name": "stderr",
     "output_type": "stream",
     "text": [
      "  8%|▊         | 522/6740 [01:34<19:10,  5.40it/s]"
     ]
    },
    {
     "name": "stdout",
     "output_type": "stream",
     "text": [
      "rxn27511 error_reaction\n"
     ]
    },
    {
     "name": "stderr",
     "output_type": "stream",
     "text": [
      "  8%|▊         | 525/6740 [01:35<23:00,  4.50it/s]"
     ]
    },
    {
     "name": "stdout",
     "output_type": "stream",
     "text": [
      "rxn27517 error_reaction\n"
     ]
    },
    {
     "name": "stderr",
     "output_type": "stream",
     "text": [
      "  8%|▊         | 526/6740 [01:36<27:29,  3.77it/s]"
     ]
    },
    {
     "name": "stdout",
     "output_type": "stream",
     "text": [
      "rxn27519 error_reaction\n"
     ]
    },
    {
     "name": "stderr",
     "output_type": "stream",
     "text": [
      "  8%|▊         | 528/6740 [01:36<35:43,  2.90it/s]"
     ]
    },
    {
     "name": "stdout",
     "output_type": "stream",
     "text": [
      "rxn27523 error_reaction\n"
     ]
    },
    {
     "name": "stderr",
     "output_type": "stream",
     "text": [
      "  8%|▊         | 531/6740 [01:37<32:21,  3.20it/s]"
     ]
    },
    {
     "name": "stdout",
     "output_type": "stream",
     "text": [
      "rxn27529 error_reaction\n"
     ]
    },
    {
     "name": "stderr",
     "output_type": "stream",
     "text": [
      " 15%|█▌        | 1012/6740 [03:05<17:21,  5.50it/s]"
     ]
    },
    {
     "name": "stdout",
     "output_type": "stream",
     "text": [
      "rxn31268 error_reaction\n"
     ]
    },
    {
     "name": "stderr",
     "output_type": "stream",
     "text": [
      " 15%|█▌        | 1015/6740 [03:06<24:22,  3.92it/s]"
     ]
    },
    {
     "name": "stdout",
     "output_type": "stream",
     "text": [
      "rxn31456 error_reaction\n"
     ]
    },
    {
     "name": "stderr",
     "output_type": "stream",
     "text": [
      " 15%|█▌        | 1016/6740 [03:07<33:59,  2.81it/s]"
     ]
    },
    {
     "name": "stdout",
     "output_type": "stream",
     "text": [
      "rxn31457 error_reaction\n"
     ]
    },
    {
     "name": "stderr",
     "output_type": "stream",
     "text": [
      " 16%|█▌        | 1062/6740 [03:16<17:53,  5.29it/s]"
     ]
    },
    {
     "name": "stdout",
     "output_type": "stream",
     "text": [
      "rxn41050 error_reaction\n"
     ]
    },
    {
     "name": "stderr",
     "output_type": "stream",
     "text": [
      " 18%|█▊        | 1222/6740 [03:45<17:28,  5.26it/s]"
     ]
    },
    {
     "name": "stdout",
     "output_type": "stream",
     "text": [
      "rxn23661 error_reaction\n"
     ]
    },
    {
     "name": "stderr",
     "output_type": "stream",
     "text": [
      " 21%|██        | 1422/6740 [04:22<16:43,  5.30it/s]"
     ]
    },
    {
     "name": "stdout",
     "output_type": "stream",
     "text": [
      "rxn46501 error_reaction\n"
     ]
    },
    {
     "name": "stderr",
     "output_type": "stream",
     "text": [
      " 22%|██▏       | 1474/6740 [04:32<15:41,  5.59it/s]"
     ]
    },
    {
     "name": "stdout",
     "output_type": "stream",
     "text": [
      "rxn45306 error_reaction\n"
     ]
    },
    {
     "name": "stderr",
     "output_type": "stream",
     "text": [
      " 23%|██▎       | 1519/6740 [04:40<16:11,  5.38it/s]"
     ]
    },
    {
     "name": "stdout",
     "output_type": "stream",
     "text": [
      "rxn48191 error_reaction\n"
     ]
    },
    {
     "name": "stderr",
     "output_type": "stream",
     "text": [
      " 23%|██▎       | 1528/6740 [04:42<16:13,  5.35it/s]"
     ]
    },
    {
     "name": "stdout",
     "output_type": "stream",
     "text": [
      "rxn48229 error_reaction\n"
     ]
    },
    {
     "name": "stderr",
     "output_type": "stream",
     "text": [
      " 23%|██▎       | 1542/6740 [04:45<17:10,  5.04it/s]"
     ]
    },
    {
     "name": "stdout",
     "output_type": "stream",
     "text": [
      "rxn48255 error_reaction\n"
     ]
    },
    {
     "name": "stderr",
     "output_type": "stream",
     "text": [
      " 24%|██▍       | 1645/6740 [05:04<15:57,  5.32it/s]"
     ]
    },
    {
     "name": "stdout",
     "output_type": "stream",
     "text": [
      "rxn43518 error_reaction\n"
     ]
    },
    {
     "name": "stderr",
     "output_type": "stream",
     "text": [
      " 24%|██▍       | 1646/6740 [05:05<23:27,  3.62it/s]"
     ]
    },
    {
     "name": "stdout",
     "output_type": "stream",
     "text": [
      "rxn43519 error_reaction\n"
     ]
    },
    {
     "name": "stderr",
     "output_type": "stream",
     "text": [
      " 26%|██▌       | 1733/6740 [05:22<15:35,  5.35it/s]"
     ]
    },
    {
     "name": "stdout",
     "output_type": "stream",
     "text": [
      "rxn15723 error_reaction\n"
     ]
    },
    {
     "name": "stderr",
     "output_type": "stream",
     "text": [
      " 31%|███       | 2082/6740 [06:26<15:42,  4.94it/s]"
     ]
    },
    {
     "name": "stdout",
     "output_type": "stream",
     "text": [
      "rxn25873 error_reaction\n"
     ]
    },
    {
     "name": "stderr",
     "output_type": "stream",
     "text": [
      " 33%|███▎      | 2251/6740 [06:56<13:18,  5.62it/s]"
     ]
    },
    {
     "name": "stdout",
     "output_type": "stream",
     "text": [
      "rxn26378 error_reaction\n"
     ]
    },
    {
     "name": "stderr",
     "output_type": "stream",
     "text": [
      " 42%|████▏     | 2856/6740 [08:45<11:00,  5.88it/s]"
     ]
    },
    {
     "name": "stdout",
     "output_type": "stream",
     "text": [
      "rxn63692 error_reaction\n"
     ]
    },
    {
     "name": "stderr",
     "output_type": "stream",
     "text": [
      " 43%|████▎     | 2866/6740 [08:47<11:23,  5.67it/s]"
     ]
    },
    {
     "name": "stdout",
     "output_type": "stream",
     "text": [
      "rxn63758 error_reaction\n"
     ]
    },
    {
     "name": "stderr",
     "output_type": "stream",
     "text": [
      " 43%|████▎     | 2867/6740 [08:48<20:29,  3.15it/s]"
     ]
    },
    {
     "name": "stdout",
     "output_type": "stream",
     "text": [
      "rxn63759 error_reaction\n"
     ]
    },
    {
     "name": "stderr",
     "output_type": "stream",
     "text": [
      " 43%|████▎     | 2885/6740 [08:52<12:31,  5.13it/s]"
     ]
    },
    {
     "name": "stdout",
     "output_type": "stream",
     "text": [
      "rxn65115 error_reaction\n"
     ]
    },
    {
     "name": "stderr",
     "output_type": "stream",
     "text": [
      " 43%|████▎     | 2891/6740 [08:53<14:35,  4.40it/s]"
     ]
    },
    {
     "name": "stdout",
     "output_type": "stream",
     "text": [
      "rxn65125 error_reaction\n"
     ]
    },
    {
     "name": "stderr",
     "output_type": "stream",
     "text": [
      " 43%|████▎     | 2900/6740 [08:55<11:50,  5.40it/s]"
     ]
    },
    {
     "name": "stdout",
     "output_type": "stream",
     "text": [
      "rxn65140 error_reaction\n"
     ]
    },
    {
     "name": "stderr",
     "output_type": "stream",
     "text": [
      " 56%|█████▋    | 3797/6740 [12:24<11:12,  4.37it/s]"
     ]
    },
    {
     "name": "stdout",
     "output_type": "stream",
     "text": [
      "rxn18033 error_reaction\n"
     ]
    },
    {
     "name": "stderr",
     "output_type": "stream",
     "text": [
      " 58%|█████▊    | 3911/6740 [12:51<11:18,  4.17it/s]"
     ]
    },
    {
     "name": "stdout",
     "output_type": "stream",
     "text": [
      "rxn9611 error_reaction\n"
     ]
    },
    {
     "name": "stderr",
     "output_type": "stream",
     "text": [
      " 58%|█████▊    | 3913/6740 [12:52<17:43,  2.66it/s]"
     ]
    },
    {
     "name": "stdout",
     "output_type": "stream",
     "text": [
      "rxn9615 error_reaction\n"
     ]
    },
    {
     "name": "stderr",
     "output_type": "stream",
     "text": [
      " 59%|█████▉    | 3960/6740 [13:03<11:23,  4.07it/s]"
     ]
    },
    {
     "name": "stdout",
     "output_type": "stream",
     "text": [
      "rxn79846 error_reaction\n"
     ]
    },
    {
     "name": "stderr",
     "output_type": "stream",
     "text": [
      " 59%|█████▉    | 3966/6740 [13:06<14:09,  3.27it/s]"
     ]
    },
    {
     "name": "stdout",
     "output_type": "stream",
     "text": [
      "rxn79858 error_reaction\n"
     ]
    },
    {
     "name": "stderr",
     "output_type": "stream",
     "text": [
      " 59%|█████▉    | 3972/6740 [13:08<13:13,  3.49it/s]"
     ]
    },
    {
     "name": "stdout",
     "output_type": "stream",
     "text": [
      "rxn79870 error_reaction\n"
     ]
    },
    {
     "name": "stderr",
     "output_type": "stream",
     "text": [
      " 59%|█████▉    | 3978/6740 [13:10<12:33,  3.67it/s]"
     ]
    },
    {
     "name": "stdout",
     "output_type": "stream",
     "text": [
      "rxn79882 error_reaction\n"
     ]
    },
    {
     "name": "stderr",
     "output_type": "stream",
     "text": [
      " 59%|█████▉    | 3984/6740 [13:12<11:51,  3.87it/s]"
     ]
    },
    {
     "name": "stdout",
     "output_type": "stream",
     "text": [
      "rxn79894 error_reaction\n"
     ]
    },
    {
     "name": "stderr",
     "output_type": "stream",
     "text": [
      " 59%|█████▉    | 3990/6740 [13:13<12:33,  3.65it/s]"
     ]
    },
    {
     "name": "stdout",
     "output_type": "stream",
     "text": [
      "rxn79906 error_reaction\n"
     ]
    },
    {
     "name": "stderr",
     "output_type": "stream",
     "text": [
      " 59%|█████▉    | 3996/6740 [13:15<11:44,  3.90it/s]"
     ]
    },
    {
     "name": "stdout",
     "output_type": "stream",
     "text": [
      "rxn79918 error_reaction\n"
     ]
    },
    {
     "name": "stderr",
     "output_type": "stream",
     "text": [
      " 59%|█████▉    | 4002/6740 [13:17<11:35,  3.94it/s]"
     ]
    },
    {
     "name": "stdout",
     "output_type": "stream",
     "text": [
      "rxn79930 error_reaction\n"
     ]
    },
    {
     "name": "stderr",
     "output_type": "stream",
     "text": [
      " 69%|██████▉   | 4678/6740 [15:33<07:19,  4.69it/s]"
     ]
    },
    {
     "name": "stdout",
     "output_type": "stream",
     "text": [
      "rxn7653 error_reaction\n"
     ]
    },
    {
     "name": "stderr",
     "output_type": "stream",
     "text": [
      " 70%|██████▉   | 4705/6740 [15:39<06:52,  4.93it/s]"
     ]
    },
    {
     "name": "stdout",
     "output_type": "stream",
     "text": [
      "rxn7808 error_reaction\n"
     ]
    },
    {
     "name": "stderr",
     "output_type": "stream",
     "text": [
      " 70%|██████▉   | 4707/6740 [15:40<09:56,  3.41it/s]"
     ]
    },
    {
     "name": "stdout",
     "output_type": "stream",
     "text": [
      "rxn7810 error_reaction\n"
     ]
    },
    {
     "name": "stderr",
     "output_type": "stream",
     "text": [
      " 77%|███████▋  | 5203/6740 [17:20<05:05,  5.04it/s]"
     ]
    },
    {
     "name": "stdout",
     "output_type": "stream",
     "text": [
      "rxn5976 error_reaction\n"
     ]
    },
    {
     "name": "stderr",
     "output_type": "stream",
     "text": [
      " 90%|████████▉ | 6033/6740 [19:56<02:20,  5.04it/s]"
     ]
    },
    {
     "name": "stdout",
     "output_type": "stream",
     "text": [
      "rxn2354 error_reaction\n"
     ]
    },
    {
     "name": "stderr",
     "output_type": "stream",
     "text": [
      " 90%|████████▉ | 6034/6740 [19:56<03:55,  3.00it/s]"
     ]
    },
    {
     "name": "stdout",
     "output_type": "stream",
     "text": [
      "rxn2355 error_reaction\n"
     ]
    },
    {
     "name": "stderr",
     "output_type": "stream",
     "text": [
      " 92%|█████████▏| 6168/6740 [20:21<01:46,  5.40it/s]"
     ]
    },
    {
     "name": "stdout",
     "output_type": "stream",
     "text": [
      "rxn10 error_reaction\n"
     ]
    },
    {
     "name": "stderr",
     "output_type": "stream",
     "text": [
      " 93%|█████████▎| 6244/6740 [20:36<01:32,  5.38it/s]"
     ]
    },
    {
     "name": "stdout",
     "output_type": "stream",
     "text": [
      "rxn196 error_reaction\n"
     ]
    },
    {
     "name": "stderr",
     "output_type": "stream",
     "text": [
      " 97%|█████████▋| 6559/6740 [21:33<00:34,  5.17it/s]"
     ]
    },
    {
     "name": "stdout",
     "output_type": "stream",
     "text": [
      "rxn848 error_reaction\n"
     ]
    },
    {
     "name": "stderr",
     "output_type": "stream",
     "text": [
      "100%|██████████| 6740/6740 [22:07<00:00,  5.08it/s]\n"
     ]
    },
    {
     "data": {
      "text/plain": [
       "['rxn27431',\n",
       " 'rxn27511',\n",
       " 'rxn27517',\n",
       " 'rxn27519',\n",
       " 'rxn27523',\n",
       " 'rxn27529',\n",
       " 'rxn31268',\n",
       " 'rxn31456',\n",
       " 'rxn31457',\n",
       " 'rxn41050',\n",
       " 'rxn23661',\n",
       " 'rxn46501',\n",
       " 'rxn45306',\n",
       " 'rxn48191',\n",
       " 'rxn48229',\n",
       " 'rxn48255',\n",
       " 'rxn43518',\n",
       " 'rxn43519',\n",
       " 'rxn15723',\n",
       " 'rxn25873',\n",
       " 'rxn26378',\n",
       " 'rxn63692',\n",
       " 'rxn63758',\n",
       " 'rxn63759',\n",
       " 'rxn65115',\n",
       " 'rxn65125',\n",
       " 'rxn65140',\n",
       " 'rxn18033',\n",
       " 'rxn9611',\n",
       " 'rxn9615',\n",
       " 'rxn79846',\n",
       " 'rxn79858',\n",
       " 'rxn79870',\n",
       " 'rxn79882',\n",
       " 'rxn79894',\n",
       " 'rxn79906',\n",
       " 'rxn79918',\n",
       " 'rxn79930',\n",
       " 'rxn7653',\n",
       " 'rxn7808',\n",
       " 'rxn7810',\n",
       " 'rxn5976',\n",
       " 'rxn2354',\n",
       " 'rxn2355',\n",
       " 'rxn10',\n",
       " 'rxn196',\n",
       " 'rxn848']"
      ]
     },
     "execution_count": 9,
     "metadata": {},
     "output_type": "execute_result"
    }
   ],
   "source": [
    "reaction_id = []\n",
    "for i in yeast8U_mod.reactions:\n",
    "    if 'rxn' in i.id:\n",
    "        i.bounds = (0,0)\n",
    "        reaction_id.append(i.id)\n",
    "\n",
    "biomass_up_reaction = []\n",
    "for i in tqdm(reaction_id,total=len(reaction_id)):\n",
    "    with yeast8U_mod:\n",
    "        yeast8U_mod.reactions.get_by_id(i).bounds = (0,1000)\n",
    "        yeast8U_mod.solver = 'gurobi'\n",
    "        yeast8U_mod.optimize()\n",
    "        if yeast8U_mod.reactions.get_by_id('r_2111').flux > 0.09:\n",
    "            biomass_up_reaction.append(i)\n",
    "            print(i,'error_reaction')\n",
    "        else: \n",
    "            pass\n",
    "        \n",
    "biomass_up_reaction"
   ]
  },
  {
   "cell_type": "code",
   "execution_count": 10,
   "metadata": {},
   "outputs": [],
   "source": [
    "# Save the list as a pickle file\n",
    "with open(biomass_up_reaction_path, 'wb') as f:\n",
    "    pickle.dump(biomass_up_reaction, f)"
   ]
  },
  {
   "cell_type": "code",
   "execution_count": 11,
   "metadata": {},
   "outputs": [
    {
     "name": "stdout",
     "output_type": "stream",
     "text": [
      "['rxn27431', 'rxn27511', 'rxn27517', 'rxn27519', 'rxn27523', 'rxn27529', 'rxn31268', 'rxn31456', 'rxn31457', 'rxn41050', 'rxn23661', 'rxn46501', 'rxn45306', 'rxn48191', 'rxn48229', 'rxn48255', 'rxn43518', 'rxn43519', 'rxn15723', 'rxn25873', 'rxn26378', 'rxn63692', 'rxn63758', 'rxn63759', 'rxn65115', 'rxn65125', 'rxn65140', 'rxn18033', 'rxn9611', 'rxn9615', 'rxn79846', 'rxn79858', 'rxn79870', 'rxn79882', 'rxn79894', 'rxn79906', 'rxn79918', 'rxn79930', 'rxn7653', 'rxn7808', 'rxn7810', 'rxn5976', 'rxn2354', 'rxn2355', 'rxn10', 'rxn196', 'rxn848']\n"
     ]
    }
   ],
   "source": [
    "\n",
    "# # Load the pickle file\n",
    "with open(biomass_up_reaction_path, 'rb') as f:\n",
    "    biomass_up_reaction = pickle.load(f)\n",
    "\n",
    "# View the loaded data\n",
    "print(biomass_up_reaction)"
   ]
  },
  {
   "cell_type": "code",
   "execution_count": 12,
   "metadata": {},
   "outputs": [
    {
     "name": "stdout",
     "output_type": "stream",
     "text": [
      "108\n",
      "['rxn24278', 'rxn24279', 'rxn30704', 'rxn30705', 'rxn30735', 'rxn30736', 'rxn28900', 'rxn29094', 'rxn29095', 'rxn29096', 'rxn29098', 'rxn29099', 'rxn29100', 'rxn35831', 'rxn39408', 'rxn39587', 'rxn37381', 'rxn41902', 'rxn41904', 'rxn41908', 'rxn41910', 'rxn41912', 'rxn22568', 'rxn38833', 'rxn43079', 'rxn44714', 'rxn44716', 'rxn44724', 'rxn34244', 'rxn34245', 'rxn34247', 'rxn34248', 'rxn34249', 'rxn50904', 'rxn51307', 'rxn44671', 'rxn44672', 'rxn44674', 'rxn44675', 'rxn44676', 'rxn44683', 'rxn44684', 'rxn44686', 'rxn44688', 'rxn44700', 'rxn44702', 'rxn44704', 'rxn16782', 'rxn16784', 'rxn25313', 'rxn25315', 'rxn25398', 'rxn52782', 'rxn64111', 'rxn64116', 'rxn64119', 'rxn66057', 'rxn72230', 'rxn17459', 'rxn17460', 'rxn17461', 'rxn17747', 'rxn11478', 'rxn11479', 'rxn11484', 'rxn11486', 'rxn11488', 'rxn11489', 'rxn11492', 'rxn80506', 'rxn80758', 'rxn80787', 'rxn80937', 'rxn81045', 'rxn81232', 'rxn81261', 'rxn81420', 'rxn4525', 'rxn4527', 'rxn4528', 'rxn6156', 'rxn6157', 'rxn6218', 'rxn7149', 'rxn7153', 'rxn3495', 'rxn3501', 'rxn4116', 'rxn1394', 'rxn2318', 'rxn2354', 'rxn2418', 'rxn2459', 'rxn2493', 'rxn2503', 'rxn2525', 'rxn2558', 'rxn824', 'rxn844', 'rxn902', 'rxn1219', 'rxn1236', 'rxn1253', 'rxn1270', 'rxn1292', 'rxn1301', 'rxn1320', 'rxn1359']\n"
     ]
    }
   ],
   "source": [
    "atp_reaction = []\n",
    "\n",
    "for reaction in yeast8U_mod.reactions:\n",
    "    if 'rxn' in reaction.id:\n",
    "        tmp = {str(k.id):v for k,v in reaction.metabolites.items()}\n",
    "        if 's_0434' in tmp and tmp['s_0434']>0:\n",
    "            atp_reaction.append(reaction.id)\n",
    "            \n",
    "print(len(atp_reaction))\n",
    "print(atp_reaction)"
   ]
  },
  {
   "cell_type": "code",
   "execution_count": 13,
   "metadata": {},
   "outputs": [
    {
     "name": "stdout",
     "output_type": "stream",
     "text": [
      "s_1538 UDP UDP\n",
      "s_1545 UMP UMP\n",
      "s_1559 UTP UTP\n",
      "s_0652 dUDP dUDP\n",
      "s_0654 dUMP dUMP\n",
      "s_0656 dUTP dUTP\n",
      "s_0467 CDP CDP\n",
      "s_0526 CMP CMP\n",
      "s_0539 CTP CTP\n",
      "s_0587 dCDP dCDP\n",
      "s_0589 dCMP dCMP\n",
      "s_0590 dCTP dCTP\n",
      "s_1475 TDP TDP\n",
      "s_1497 TMP TMP\n",
      "s_0647 dTDP dTDP\n",
      "s_0649 dTMP dTMP\n",
      "s_0650 dTTP dTTP\n",
      "s_0739 GDP GDP\n",
      "s_0782 GMP GMP\n",
      "s_0785 GTP GTP\n",
      "s_0613 dGDP dGDP\n",
      "s_0615 dGMP dGMP\n",
      "s_0617 dGTP dGTP\n",
      "s_0846 IDP IDP\n",
      "s_0849 IMP IMP\n",
      "s_0950 ITP ITP\n",
      "s_0618 dIDP dIDP\n",
      "s_0639 dITP dITP\n",
      "1962\n",
      "['rxn21219', 'rxn22454', 'rxn22455', 'rxn19749', 'rxn19757', 'rxn20205', 'rxn20206', 'rxn21095', 'rxn21096', 'rxn21097', 'rxn21098', 'rxn21101', 'rxn21102', 'rxn21103', 'rxn24519', 'rxn24520', 'rxn24521', 'rxn24525', 'rxn24527', 'rxn24529', 'rxn24530', 'rxn24531', 'rxn24534', 'rxn24535', 'rxn24536', 'rxn24537', 'rxn24541', 'rxn24543', 'rxn24545', 'rxn24546', 'rxn24547', 'rxn24550', 'rxn24631', 'rxn24632', 'rxn24633', 'rxn24634', 'rxn24635', 'rxn24636', 'rxn24637', 'rxn24638', 'rxn24639', 'rxn24640', 'rxn24641', 'rxn24642', 'rxn24643', 'rxn24644', 'rxn24645', 'rxn24646', 'rxn24647', 'rxn24648', 'rxn24649', 'rxn24650', 'rxn24651', 'rxn24652', 'rxn24653', 'rxn24654', 'rxn24655', 'rxn24656', 'rxn24657', 'rxn24658', 'rxn24659', 'rxn24660', 'rxn24661', 'rxn24662', 'rxn24719', 'rxn24720', 'rxn24721', 'rxn24722', 'rxn24723', 'rxn24724', 'rxn24725', 'rxn24726', 'rxn24727', 'rxn24728', 'rxn24729', 'rxn24730', 'rxn24731', 'rxn24732', 'rxn24733', 'rxn24734', 'rxn24735', 'rxn24736', 'rxn24737', 'rxn24738', 'rxn24739', 'rxn24740', 'rxn24741', 'rxn24742', 'rxn24743', 'rxn24744', 'rxn24745', 'rxn24746', 'rxn24747', 'rxn24748', 'rxn24749', 'rxn24750', 'rxn24751', 'rxn24752', 'rxn24753', 'rxn24754', 'rxn24755', 'rxn24756', 'rxn24757', 'rxn24758', 'rxn24779', 'rxn24780', 'rxn24781', 'rxn24782', 'rxn24783', 'rxn24784', 'rxn24785', 'rxn24786', 'rxn24787', 'rxn24788', 'rxn24789', 'rxn24790', 'rxn24791', 'rxn24792', 'rxn24793', 'rxn24794', 'rxn24795', 'rxn24796', 'rxn24797', 'rxn24798', 'rxn32647', 'rxn32865', 'rxn32870', 'rxn32872', 'rxn32881', 'rxn32885', 'rxn32887', 'rxn32911', 'rxn32918', 'rxn32920', 'rxn32929', 'rxn32932', 'rxn32934', 'rxn32999', 'rxn33538', 'rxn33539', 'rxn33540', 'rxn33541', 'rxn33542', 'rxn33543', 'rxn33544', 'rxn33545', 'rxn33546', 'rxn33547', 'rxn33549', 'rxn33550', 'rxn33552', 'rxn33553', 'rxn33554', 'rxn33555', 'rxn33556', 'rxn33557', 'rxn33558', 'rxn33559', 'rxn33560', 'rxn33561', 'rxn33562', 'rxn33563', 'rxn33564', 'rxn33565', 'rxn33566', 'rxn33567', 'rxn33568', 'rxn33569', 'rxn33570', 'rxn33571', 'rxn33572', 'rxn33573', 'rxn33574', 'rxn33575', 'rxn33576', 'rxn33577', 'rxn33578', 'rxn33579', 'rxn33580', 'rxn33581', 'rxn33582', 'rxn33583', 'rxn33584', 'rxn33585', 'rxn33586', 'rxn33587', 'rxn33588', 'rxn33589', 'rxn33590', 'rxn33591', 'rxn33592', 'rxn33593', 'rxn33594', 'rxn33595', 'rxn33596', 'rxn33597', 'rxn33598', 'rxn33599', 'rxn33600', 'rxn29663', 'rxn27287', 'rxn27288', 'rxn27289', 'rxn27290', 'rxn27291', 'rxn27292', 'rxn27293', 'rxn27294', 'rxn27295', 'rxn27296', 'rxn27298', 'rxn27299', 'rxn27301', 'rxn27305', 'rxn27306', 'rxn27307', 'rxn27308', 'rxn27309', 'rxn27310', 'rxn27311', 'rxn27312', 'rxn27313', 'rxn27314', 'rxn27316', 'rxn27318', 'rxn27322', 'rxn27361', 'rxn27362', 'rxn27363', 'rxn27364', 'rxn27365', 'rxn27366', 'rxn27367', 'rxn27368', 'rxn27369', 'rxn27370', 'rxn27372', 'rxn27373', 'rxn27375', 'rxn27379', 'rxn27380', 'rxn27381', 'rxn27382', 'rxn27383', 'rxn27384', 'rxn27385', 'rxn27386', 'rxn27387', 'rxn27388', 'rxn27390', 'rxn27392', 'rxn27396', 'rxn27998', 'rxn28699', 'rxn28700', 'rxn28701', 'rxn28702', 'rxn28703', 'rxn28704', 'rxn28705', 'rxn28706', 'rxn28707', 'rxn28708', 'rxn28710', 'rxn28711', 'rxn28713', 'rxn28717', 'rxn28718', 'rxn28719', 'rxn28720', 'rxn28721', 'rxn28722', 'rxn28723', 'rxn28724', 'rxn28725', 'rxn28726', 'rxn28728', 'rxn28730', 'rxn28734', 'rxn29023', 'rxn29024', 'rxn29026', 'rxn35814', 'rxn36242', 'rxn36243', 'rxn36244', 'rxn36245', 'rxn36246', 'rxn36252', 'rxn36265', 'rxn36268', 'rxn36329', 'rxn36330', 'rxn36336', 'rxn36352', 'rxn14544', 'rxn15391', 'rxn15392', 'rxn15393', 'rxn15395', 'rxn15396', 'rxn15398', 'rxn15399', 'rxn15404', 'rxn15405', 'rxn15406', 'rxn15407', 'rxn15408', 'rxn15409', 'rxn15412', 'rxn15413', 'rxn15414', 'rxn15415', 'rxn15418', 'rxn15419', 'rxn15420', 'rxn15421', 'rxn15426', 'rxn15428', 'rxn15429', 'rxn15437', 'rxn15439', 'rxn15440', 'rxn15448', 'rxn15450', 'rxn15451', 'rxn15457', 'rxn15458', 'rxn15459', 'rxn15461', 'rxn15462', 'rxn15464', 'rxn15465', 'rxn15470', 'rxn15472', 'rxn15473', 'rxn15479', 'rxn15480', 'rxn15481', 'rxn15483', 'rxn15484', 'rxn15486', 'rxn15487', 'rxn15492', 'rxn15494', 'rxn15495', 'rxn15501', 'rxn15502', 'rxn15503', 'rxn15505', 'rxn15506', 'rxn15508', 'rxn15509', 'rxn15514', 'rxn15515', 'rxn15516', 'rxn15517', 'rxn15518', 'rxn15519', 'rxn15522', 'rxn15523', 'rxn15524', 'rxn15525', 'rxn15528', 'rxn15529', 'rxn15530', 'rxn15531', 'rxn15536', 'rxn15538', 'rxn15539', 'rxn15547', 'rxn15549', 'rxn15550', 'rxn15556', 'rxn40080', 'rxn36389', 'rxn36390', 'rxn36391', 'rxn36392', 'rxn36393', 'rxn36394', 'rxn36400', 'rxn36401', 'rxn36404', 'rxn36405', 'rxn36406', 'rxn36407', 'rxn36408', 'rxn36409', 'rxn36415', 'rxn36416', 'rxn36975', 'rxn36976', 'rxn36977', 'rxn36978', 'rxn36979', 'rxn36980', 'rxn37223', 'rxn37224', 'rxn37225', 'rxn37234', 'rxn37235', 'rxn37236', 'rxn30909', 'rxn30920', 'rxn41902', 'rxn41904', 'rxn41908', 'rxn41910', 'rxn41912', 'rxn18763', 'rxn19662', 'rxn22790', 'rxn22791', 'rxn22792', 'rxn23367', 'rxn23692', 'rxn23694', 'rxn37842', 'rxn37843', 'rxn37845', 'rxn37850', 'rxn37877', 'rxn37878', 'rxn37912', 'rxn37913', 'rxn37915', 'rxn37919', 'rxn37956', 'rxn37981', 'rxn37982', 'rxn38626', 'rxn38627', 'rxn38632', 'rxn38637', 'rxn38638', 'rxn38643', 'rxn38721', 'rxn38741', 'rxn38763', 'rxn38774', 'rxn38815', 'rxn38816', 'rxn38830', 'rxn38831', 'rxn38951', 'rxn46684', 'rxn46685', 'rxn46686', 'rxn46687', 'rxn46688', 'rxn46689', 'rxn46691', 'rxn46692', 'rxn46693', 'rxn46694', 'rxn46695', 'rxn46696', 'rxn46698', 'rxn46699', 'rxn46700', 'rxn46701', 'rxn46702', 'rxn46703', 'rxn48161', 'rxn48164', 'rxn48167', 'rxn48174', 'rxn48176', 'rxn48179', 'rxn48181', 'rxn48188', 'rxn48191', 'rxn48194', 'rxn48201', 'rxn48203', 'rxn48207', 'rxn48214', 'rxn48216', 'rxn48220', 'rxn48227', 'rxn48229', 'rxn48233', 'rxn48235', 'rxn48237', 'rxn48238', 'rxn48240', 'rxn48243', 'rxn48244', 'rxn48245', 'rxn48246', 'rxn48248', 'rxn48250', 'rxn48251', 'rxn48253', 'rxn48255', 'rxn48257', 'rxn48258', 'rxn48259', 'rxn48263', 'rxn48266', 'rxn48270', 'rxn48272', 'rxn48273', 'rxn48275', 'rxn48278', 'rxn48279', 'rxn48280', 'rxn48281', 'rxn48283', 'rxn48285', 'rxn48286', 'rxn48288', 'rxn48291', 'rxn48292', 'rxn48293', 'rxn48294', 'rxn34172', 'rxn34173', 'rxn34817', 'rxn34818', 'rxn44497', 'rxn15557', 'rxn15558', 'rxn15560', 'rxn15561', 'rxn15563', 'rxn15564', 'rxn16045', 'rxn16046', 'rxn16750', 'rxn16752', 'rxn16782', 'rxn16784', 'rxn16786', 'rxn16788', 'rxn49452', 'rxn54482', 'rxn54487', 'rxn54498', 'rxn54505', 'rxn54506', 'rxn54509', 'rxn54512', 'rxn54513', 'rxn54514', 'rxn54515', 'rxn54516', 'rxn54517', 'rxn54518', 'rxn54520', 'rxn54521', 'rxn54522', 'rxn54523', 'rxn54524', 'rxn54525', 'rxn54526', 'rxn54527', 'rxn54528', 'rxn54529', 'rxn54530', 'rxn54531', 'rxn54532', 'rxn54533', 'rxn54534', 'rxn54536', 'rxn54537', 'rxn54541', 'rxn54543', 'rxn54544', 'rxn54545', 'rxn54546', 'rxn54547', 'rxn54548', 'rxn54549', 'rxn54551', 'rxn54552', 'rxn54553', 'rxn54554', 'rxn54555', 'rxn54556', 'rxn54557', 'rxn54558', 'rxn54559', 'rxn54560', 'rxn54561', 'rxn54562', 'rxn54563', 'rxn54564', 'rxn54565', 'rxn54575', 'rxn54580', 'rxn54591', 'rxn54598', 'rxn54599', 'rxn54603', 'rxn54605', 'rxn54606', 'rxn54607', 'rxn54608', 'rxn54609', 'rxn54610', 'rxn54611', 'rxn54613', 'rxn54614', 'rxn54615', 'rxn54616', 'rxn54617', 'rxn54618', 'rxn54619', 'rxn54620', 'rxn54621', 'rxn54622', 'rxn54623', 'rxn54624', 'rxn54625', 'rxn54626', 'rxn54627', 'rxn25430', 'rxn25431', 'rxn25432', 'rxn25639', 'rxn25640', 'rxn25641', 'rxn25940', 'rxn25941', 'rxn25942', 'rxn25943', 'rxn25944', 'rxn25945', 'rxn25946', 'rxn25947', 'rxn25948', 'rxn25949', 'rxn25951', 'rxn25952', 'rxn25954', 'rxn25958', 'rxn25960', 'rxn25961', 'rxn25962', 'rxn25963', 'rxn25964', 'rxn25965', 'rxn25966', 'rxn25969', 'rxn25971', 'rxn25975', 'rxn25976', 'rxn25977', 'rxn25978', 'rxn25979', 'rxn25980', 'rxn25981', 'rxn25982', 'rxn25983', 'rxn25984', 'rxn25985', 'rxn25987', 'rxn25988', 'rxn25990', 'rxn25994', 'rxn25996', 'rxn25997', 'rxn25998', 'rxn25999', 'rxn26000', 'rxn26001', 'rxn26002', 'rxn26003', 'rxn26005', 'rxn26007', 'rxn26011', 'rxn26018', 'rxn26019', 'rxn26020', 'rxn26021', 'rxn26022', 'rxn26023', 'rxn26024', 'rxn26025', 'rxn26026', 'rxn26027', 'rxn26029', 'rxn26030', 'rxn26032', 'rxn26036', 'rxn26037', 'rxn26038', 'rxn26039', 'rxn26040', 'rxn26041', 'rxn26042', 'rxn26043', 'rxn26044', 'rxn26045', 'rxn26047', 'rxn26049', 'rxn26053', 'rxn26056', 'rxn26057', 'rxn26058', 'rxn26059', 'rxn26060', 'rxn26061', 'rxn26062', 'rxn26063', 'rxn26064', 'rxn26065', 'rxn26067', 'rxn26068', 'rxn26070', 'rxn26074', 'rxn26076', 'rxn26077', 'rxn26078', 'rxn26079', 'rxn26080', 'rxn26081', 'rxn26082', 'rxn26083', 'rxn26085', 'rxn26087', 'rxn26091', 'rxn26092', 'rxn26093', 'rxn26094', 'rxn26095', 'rxn26096', 'rxn26097', 'rxn26098', 'rxn26099', 'rxn26100', 'rxn26101', 'rxn26103', 'rxn26104', 'rxn26106', 'rxn26110', 'rxn26111', 'rxn26112', 'rxn26113', 'rxn26114', 'rxn26115', 'rxn26116', 'rxn26117', 'rxn26118', 'rxn26119', 'rxn26121', 'rxn26123', 'rxn26127', 'rxn52208', 'rxn52209', 'rxn52211', 'rxn52212', 'rxn52220', 'rxn52221', 'rxn52223', 'rxn52224', 'rxn52228', 'rxn52229', 'rxn52231', 'rxn52232', 'rxn52236', 'rxn52237', 'rxn52240', 'rxn52241', 'rxn52243', 'rxn52245', 'rxn52246', 'rxn52247', 'rxn52248', 'rxn52253', 'rxn52254', 'rxn52255', 'rxn52256', 'rxn52261', 'rxn52262', 'rxn52265', 'rxn52266', 'rxn52267', 'rxn52268', 'rxn52269', 'rxn52270', 'rxn52277', 'rxn52278', 'rxn52279', 'rxn52280', 'rxn52281', 'rxn52282', 'rxn52294', 'rxn52295', 'rxn52296', 'rxn52297', 'rxn52298', 'rxn52299', 'rxn52306', 'rxn52307', 'rxn52308', 'rxn52309', 'rxn52310', 'rxn52311', 'rxn52315', 'rxn52316', 'rxn52317', 'rxn52318', 'rxn52319', 'rxn52323', 'rxn52324', 'rxn52327', 'rxn52328', 'rxn52330', 'rxn52366', 'rxn52367', 'rxn52368', 'rxn52369', 'rxn52370', 'rxn52371', 'rxn52378', 'rxn52379', 'rxn52380', 'rxn13085', 'rxn56386', 'rxn56542', 'rxn56543', 'rxn56544', 'rxn53099', 'rxn53101', 'rxn53122', 'rxn53127', 'rxn53128', 'rxn53140', 'rxn53152', 'rxn53153', 'rxn53167', 'rxn53168', 'rxn65980', 'rxn66981', 'rxn66983', 'rxn68184', 'rxn68185', 'rxn68186', 'rxn68187', 'rxn68188', 'rxn68262', 'rxn68263', 'rxn68266', 'rxn68267', 'rxn69523', 'rxn69524', 'rxn69526', 'rxn69527', 'rxn69528', 'rxn69529', 'rxn69531', 'rxn69532', 'rxn69534', 'rxn69536', 'rxn69570', 'rxn69571', 'rxn69574', 'rxn69575', 'rxn11111', 'rxn11113', 'rxn11115', 'rxn11118', 'rxn11120', 'rxn11123', 'rxn11124', 'rxn11125', 'rxn11129', 'rxn11134', 'rxn11135', 'rxn11138', 'rxn11140', 'rxn11143', 'rxn11144', 'rxn11145', 'rxn11151', 'rxn11154', 'rxn11155', 'rxn11158', 'rxn11159', 'rxn11161', 'rxn11164', 'rxn11165', 'rxn11169', 'rxn11173', 'rxn11175', 'rxn11178', 'rxn11180', 'rxn11183', 'rxn11184', 'rxn11185', 'rxn11190', 'rxn11193', 'rxn11195', 'rxn11198', 'rxn11199', 'rxn11202', 'rxn11204', 'rxn11205', 'rxn11210', 'rxn11214', 'rxn11215', 'rxn11218', 'rxn11219', 'rxn11223', 'rxn11224', 'rxn11225', 'rxn11229', 'rxn11234', 'rxn11235', 'rxn11238', 'rxn11239', 'rxn11242', 'rxn11244', 'rxn11245', 'rxn11270', 'rxn74644', 'rxn74645', 'rxn74646', 'rxn74647', 'rxn74648', 'rxn74649', 'rxn74650', 'rxn74651', 'rxn74652', 'rxn74654', 'rxn74655', 'rxn74656', 'rxn74660', 'rxn74661', 'rxn74662', 'rxn74663', 'rxn74664', 'rxn74665', 'rxn74666', 'rxn74667', 'rxn74668', 'rxn74670', 'rxn74671', 'rxn74672', 'rxn74676', 'rxn74677', 'rxn74678', 'rxn74679', 'rxn74680', 'rxn74681', 'rxn74682', 'rxn74683', 'rxn74684', 'rxn74686', 'rxn74687', 'rxn74688', 'rxn74692', 'rxn74693', 'rxn74694', 'rxn74695', 'rxn74696', 'rxn74697', 'rxn74698', 'rxn74699', 'rxn74700', 'rxn74702', 'rxn74703', 'rxn74704', 'rxn74708', 'rxn74709', 'rxn74710', 'rxn74711', 'rxn74712', 'rxn74713', 'rxn74714', 'rxn74715', 'rxn74716', 'rxn74718', 'rxn74719', 'rxn74720', 'rxn74724', 'rxn74725', 'rxn74726', 'rxn74727', 'rxn74728', 'rxn74729', 'rxn74730', 'rxn74731', 'rxn74732', 'rxn74734', 'rxn74735', 'rxn74736', 'rxn74740', 'rxn74741', 'rxn74742', 'rxn74743', 'rxn74744', 'rxn74745', 'rxn74746', 'rxn74747', 'rxn74748', 'rxn74750', 'rxn74751', 'rxn74752', 'rxn74754', 'rxn74756', 'rxn74757', 'rxn74758', 'rxn74759', 'rxn74760', 'rxn74761', 'rxn74762', 'rxn74763', 'rxn74764', 'rxn74766', 'rxn74767', 'rxn74768', 'rxn74770', 'rxn74772', 'rxn74773', 'rxn74774', 'rxn74775', 'rxn74776', 'rxn74777', 'rxn74778', 'rxn74779', 'rxn74780', 'rxn74782', 'rxn74783', 'rxn74784', 'rxn74788', 'rxn74789', 'rxn74790', 'rxn74791', 'rxn74792', 'rxn74793', 'rxn74794', 'rxn74795', 'rxn74796', 'rxn74798', 'rxn74799', 'rxn74800', 'rxn17021', 'rxn17112', 'rxn17113', 'rxn17114', 'rxn17115', 'rxn17116', 'rxn17117', 'rxn17118', 'rxn17119', 'rxn17120', 'rxn17122', 'rxn17129', 'rxn17130', 'rxn17131', 'rxn17132', 'rxn17134', 'rxn17135', 'rxn17137', 'rxn17138', 'rxn17141', 'rxn17142', 'rxn17146', 'rxn17147', 'rxn17148', 'rxn17149', 'rxn17150', 'rxn17151', 'rxn17155', 'rxn17157', 'rxn17164', 'rxn17165', 'rxn17166', 'rxn17168', 'rxn17169', 'rxn17171', 'rxn17172', 'rxn17176', 'rxn17179', 'rxn17180', 'rxn17181', 'rxn17182', 'rxn17194', 'rxn17195', 'rxn17196', 'rxn17197', 'rxn17198', 'rxn17199', 'rxn17205', 'rxn17206', 'rxn17209', 'rxn17210', 'rxn17211', 'rxn17212', 'rxn17213', 'rxn17214', 'rxn17220', 'rxn17221', 'rxn17222', 'rxn17223', 'rxn17234', 'rxn17239', 'rxn17240', 'rxn17241', 'rxn17253', 'rxn17258', 'rxn17259', 'rxn17260', 'rxn17261', 'rxn17284', 'rxn17289', 'rxn17290', 'rxn17291', 'rxn17303', 'rxn17309', 'rxn17311', 'rxn17314', 'rxn17353', 'rxn17354', 'rxn17356', 'rxn9732', 'rxn78923', 'rxn11466', 'rxn11478', 'rxn11479', 'rxn11486', 'rxn11488', 'rxn11489', 'rxn11490', 'rxn11550', 'rxn11554', 'rxn11995', 'rxn83423', 'rxn80427', 'rxn80428', 'rxn80429', 'rxn80476', 'rxn80477', 'rxn80478', 'rxn80490', 'rxn80491', 'rxn80492', 'rxn80497', 'rxn80498', 'rxn80499', 'rxn80501', 'rxn80502', 'rxn80503', 'rxn80505', 'rxn80506', 'rxn80514', 'rxn80515', 'rxn80516', 'rxn80527', 'rxn80528', 'rxn80567', 'rxn80568', 'rxn80576', 'rxn80581', 'rxn80582', 'rxn80583', 'rxn80586', 'rxn80588', 'rxn80589', 'rxn80592', 'rxn80593', 'rxn80598', 'rxn80607', 'rxn80612', 'rxn80613', 'rxn80614', 'rxn80617', 'rxn80619', 'rxn80623', 'rxn80638', 'rxn80647', 'rxn80648', 'rxn80649', 'rxn80653', 'rxn80745', 'rxn80746', 'rxn80747', 'rxn80752', 'rxn80753', 'rxn80754', 'rxn80757', 'rxn80758', 'rxn80780', 'rxn80781', 'rxn80782', 'rxn80783', 'rxn80784', 'rxn80785', 'rxn80786', 'rxn80787', 'rxn80798', 'rxn80799', 'rxn80800', 'rxn80931', 'rxn80932', 'rxn80933', 'rxn80936', 'rxn80937', 'rxn81029', 'rxn81030', 'rxn81031', 'rxn81044', 'rxn81045', 'rxn81069', 'rxn81070', 'rxn81072', 'rxn81073', 'rxn81099', 'rxn81102', 'rxn81228', 'rxn81229', 'rxn81230', 'rxn81231', 'rxn81232', 'rxn81248', 'rxn81249', 'rxn81250', 'rxn81255', 'rxn81256', 'rxn81257', 'rxn81260', 'rxn81261', 'rxn81369', 'rxn81370', 'rxn81371', 'rxn81377', 'rxn81413', 'rxn81414', 'rxn81415', 'rxn81419', 'rxn81420', 'rxn7208', 'rxn7211', 'rxn7213', 'rxn7214', 'rxn7215', 'rxn7216', 'rxn7937', 'rxn8212', 'rxn8213', 'rxn8214', 'rxn8215', 'rxn8216', 'rxn8217', 'rxn8218', 'rxn8219', 'rxn8220', 'rxn8221', 'rxn8222', 'rxn8223', 'rxn8244', 'rxn8245', 'rxn8246', 'rxn8247', 'rxn8248', 'rxn8249', 'rxn8250', 'rxn8251', 'rxn8252', 'rxn8253', 'rxn8254', 'rxn8255', 'rxn4178', 'rxn4179', 'rxn4180', 'rxn4181', 'rxn4182', 'rxn4183', 'rxn4184', 'rxn4185', 'rxn4186', 'rxn4187', 'rxn4304', 'rxn4305', 'rxn4306', 'rxn4307', 'rxn4308', 'rxn4309', 'rxn4310', 'rxn4311', 'rxn4312', 'rxn4313', 'rxn4314', 'rxn4315', 'rxn4316', 'rxn4317', 'rxn4318', 'rxn4319', 'rxn4320', 'rxn4321', 'rxn4322', 'rxn4323', 'rxn4324', 'rxn4325', 'rxn4326', 'rxn4327', 'rxn4328', 'rxn4329', 'rxn4330', 'rxn4331', 'rxn4332', 'rxn4333', 'rxn4334', 'rxn4335', 'rxn4352', 'rxn4353', 'rxn4354', 'rxn4355', 'rxn4356', 'rxn4357', 'rxn4358', 'rxn4359', 'rxn4360', 'rxn4361', 'rxn4362', 'rxn4363', 'rxn4364', 'rxn4365', 'rxn4366', 'rxn4367', 'rxn4467', 'rxn4469', 'rxn4550', 'rxn4551', 'rxn4552', 'rxn4924', 'rxn5239', 'rxn5312', 'rxn5582', 'rxn5583', 'rxn5662', 'rxn5663', 'rxn5867', 'rxn5868', 'rxn5875', 'rxn6638', 'rxn6651', 'rxn6652', 'rxn6653', 'rxn6657', 'rxn6660', 'rxn6665', 'rxn6666', 'rxn6667', 'rxn6668', 'rxn6673', 'rxn6676', 'rxn6680', 'rxn6681', 'rxn6685', 'rxn6686', 'rxn6687', 'rxn6691', 'rxn6694', 'rxn6699', 'rxn6700', 'rxn6701', 'rxn6702', 'rxn6707', 'rxn6710', 'rxn6714', 'rxn6715', 'rxn6723', 'rxn6726', 'rxn6727', 'rxn6733', 'rxn6736', 'rxn6737', 'rxn6743', 'rxn6746', 'rxn6747', 'rxn6749', 'rxn6750', 'rxn6751', 'rxn6752', 'rxn6755', 'rxn6756', 'rxn6758', 'rxn6760', 'rxn6761', 'rxn6763', 'rxn6764', 'rxn6765', 'rxn6766', 'rxn6767', 'rxn6769', 'rxn6771', 'rxn6772', 'rxn6773', 'rxn6774', 'rxn6775', 'rxn6777', 'rxn6778', 'rxn6779', 'rxn6780', 'rxn6782', 'rxn6783', 'rxn6784', 'rxn6785', 'rxn6789', 'rxn6792', 'rxn6797', 'rxn6805', 'rxn6808', 'rxn6812', 'rxn6821', 'rxn6824', 'rxn6825', 'rxn6827', 'rxn6828', 'rxn6829', 'rxn6833', 'rxn6836', 'rxn6841', 'rxn6842', 'rxn6843', 'rxn6844', 'rxn6849', 'rxn6850', 'rxn6851', 'rxn6852', 'rxn6853', 'rxn6855', 'rxn6856', 'rxn6857', 'rxn6858', 'rxn6860', 'rxn6865', 'rxn6875', 'rxn6878', 'rxn6879', 'rxn6883', 'rxn6884', 'rxn6885', 'rxn6888', 'rxn6889', 'rxn6890', 'rxn6893', 'rxn6894', 'rxn6895', 'rxn6898', 'rxn6899', 'rxn6900', 'rxn2795', 'rxn2796', 'rxn2797', 'rxn2798', 'rxn2799', 'rxn2800', 'rxn2801', 'rxn2802', 'rxn2803', 'rxn2804', 'rxn2805', 'rxn2806', 'rxn2807', 'rxn2808', 'rxn2809', 'rxn2825', 'rxn2826', 'rxn2827', 'rxn2828', 'rxn2829', 'rxn2830', 'rxn2831', 'rxn2832', 'rxn2833', 'rxn2834', 'rxn2836', 'rxn2837', 'rxn2838', 'rxn2839', 'rxn2845', 'rxn2846', 'rxn2847', 'rxn2848', 'rxn2849', 'rxn2850', 'rxn2851', 'rxn2852', 'rxn2853', 'rxn2854', 'rxn2909', 'rxn2910', 'rxn2911', 'rxn3204', 'rxn3251', 'rxn3253', 'rxn3254', 'rxn3255', 'rxn3256', 'rxn3258', 'rxn3259', 'rxn3260', 'rxn3276', 'rxn3278', 'rxn3279', 'rxn3280', 'rxn3301', 'rxn3302', 'rxn3303', 'rxn3304', 'rxn3305', 'rxn3306', 'rxn3307', 'rxn3308', 'rxn3309', 'rxn3310', 'rxn3319', 'rxn3321', 'rxn3322', 'rxn3323', 'rxn3325', 'rxn3326', 'rxn3327', 'rxn3329', 'rxn3330', 'rxn3332', 'rxn3334', 'rxn3335', 'rxn3343', 'rxn3345', 'rxn3346', 'rxn3349', 'rxn3351', 'rxn3352', 'rxn3353', 'rxn3354', 'rxn3499', 'rxn3501', 'rxn3503', 'rxn3505', 'rxn3612', 'rxn3724', 'rxn3739', 'rxn3801', 'rxn3803', 'rxn3804', 'rxn3817', 'rxn3827', 'rxn3828', 'rxn3838', 'rxn3839', 'rxn3853', 'rxn3855', 'rxn3856', 'rxn3869', 'rxn3889', 'rxn3890', 'rxn3916', 'rxn3918', 'rxn3920', 'rxn3922', 'rxn3936', 'rxn3937', 'rxn3939', 'rxn3953', 'rxn3963', 'rxn3964', 'rxn3965', 'rxn3966', 'rxn3974', 'rxn3975', 'rxn3976', 'rxn3977', 'rxn1392', 'rxn1393', 'rxn1394', 'rxn1395', 'rxn1398', 'rxn1399', 'rxn1400', 'rxn1436', 'rxn1438', 'rxn1578', 'rxn1582', 'rxn1585', 'rxn1599', 'rxn1600', 'rxn1601', 'rxn1602', 'rxn1603', 'rxn1604', 'rxn1605', 'rxn1671', 'rxn2071', 'rxn2072', 'rxn2074', 'rxn2075', 'rxn2076', 'rxn2077', 'rxn2082', 'rxn2087', 'rxn2089', 'rxn2305', 'rxn2306', 'rxn2307', 'rxn2348', 'rxn2349', 'rxn2350', 'rxn2351', 'rxn2355', 'rxn2356', 'rxn2366', 'rxn2367', 'rxn2370', 'rxn2371', 'rxn2373', 'rxn2374', 'rxn2376', 'rxn2378', 'rxn2388', 'rxn2390', 'rxn2391', 'rxn2393', 'rxn2411', 'rxn2412', 'rxn2413', 'rxn2414', 'rxn2415', 'rxn2416', 'rxn2418', 'rxn2420', 'rxn2421', 'rxn2422', 'rxn2423', 'rxn2424', 'rxn2427', 'rxn2430', 'rxn2433', 'rxn2440', 'rxn2443', 'rxn2446', 'rxn2447', 'rxn2448', 'rxn2451', 'rxn2452', 'rxn2454', 'rxn2459', 'rxn2460', 'rxn2461', 'rxn2463', 'rxn2465', 'rxn2491', 'rxn2492', 'rxn2493', 'rxn2494', 'rxn2495', 'rxn2496', 'rxn2497', 'rxn2498', 'rxn2499', 'rxn2500', 'rxn2501', 'rxn2503', 'rxn2505', 'rxn2506', 'rxn2507', 'rxn2508', 'rxn2509', 'rxn2510', 'rxn2511', 'rxn2512', 'rxn2513', 'rxn2514', 'rxn2525', 'rxn2529', 'rxn2530', 'rxn2531', 'rxn2532', 'rxn2533', 'rxn2534', 'rxn2535', 'rxn2536', 'rxn2550', 'rxn2551', 'rxn2552', 'rxn2558', 'rxn2559', 'rxn2560', 'rxn2561', 'rxn2617', 'rxn2707', 'rxn2714', 'rxn2721', 'rxn16', 'rxn89', 'rxn90', 'rxn92', 'rxn94', 'rxn95', 'rxn97', 'rxn99', 'rxn100', 'rxn101', 'rxn102', 'rxn172', 'rxn174', 'rxn175', 'rxn177', 'rxn178', 'rxn180', 'rxn224', 'rxn226', 'rxn445', 'rxn446', 'rxn447', 'rxn448', 'rxn449', 'rxn450', 'rxn451', 'rxn452', 'rxn453', 'rxn460', 'rxn480', 'rxn481', 'rxn483', 'rxn484', 'rxn485', 'rxn486', 'rxn487', 'rxn488', 'rxn489', 'rxn490', 'rxn491', 'rxn492', 'rxn493', 'rxn494', 'rxn495', 'rxn496', 'rxn497', 'rxn498', 'rxn499', 'rxn500', 'rxn503', 'rxn504', 'rxn506', 'rxn507', 'rxn508', 'rxn509', 'rxn510', 'rxn512', 'rxn513', 'rxn514', 'rxn515', 'rxn516', 'rxn517', 'rxn518', 'rxn519', 'rxn520', 'rxn521', 'rxn522', 'rxn523', 'rxn524', 'rxn525', 'rxn526', 'rxn527', 'rxn528', 'rxn529', 'rxn531', 'rxn532', 'rxn533', 'rxn534', 'rxn535', 'rxn536', 'rxn537', 'rxn538', 'rxn539', 'rxn540', 'rxn541', 'rxn542', 'rxn543', 'rxn544', 'rxn545', 'rxn546', 'rxn549', 'rxn550', 'rxn551', 'rxn553', 'rxn554', 'rxn555', 'rxn556', 'rxn563', 'rxn568', 'rxn569', 'rxn572', 'rxn573', 'rxn574', 'rxn577', 'rxn578', 'rxn579', 'rxn593', 'rxn594', 'rxn595', 'rxn598', 'rxn599', 'rxn600', 'rxn601', 'rxn603', 'rxn604', 'rxn606', 'rxn607', 'rxn608', 'rxn609', 'rxn610', 'rxn611', 'rxn613', 'rxn614', 'rxn615', 'rxn616', 'rxn617', 'rxn618', 'rxn619', 'rxn620', 'rxn621', 'rxn622', 'rxn623', 'rxn624', 'rxn625', 'rxn626', 'rxn627', 'rxn628', 'rxn629', 'rxn630', 'rxn633', 'rxn634', 'rxn635', 'rxn636', 'rxn637', 'rxn638', 'rxn639', 'rxn640', 'rxn641', 'rxn642', 'rxn643', 'rxn644', 'rxn645', 'rxn646', 'rxn647', 'rxn648', 'rxn649', 'rxn650', 'rxn651', 'rxn652', 'rxn653', 'rxn654', 'rxn655', 'rxn656', 'rxn657', 'rxn658', 'rxn659', 'rxn660', 'rxn661', 'rxn662', 'rxn842', 'rxn843', 'rxn844', 'rxn850', 'rxn851', 'rxn852', 'rxn853', 'rxn854', 'rxn855', 'rxn856', 'rxn857', 'rxn942', 'rxn945', 'rxn946', 'rxn947', 'rxn948', 'rxn951', 'rxn969', 'rxn970', 'rxn973', 'rxn1217', 'rxn1218', 'rxn1219', 'rxn1220', 'rxn1223', 'rxn1224', 'rxn1225', 'rxn1228', 'rxn1229', 'rxn1230', 'rxn1233', 'rxn1234', 'rxn1235', 'rxn1236', 'rxn1237', 'rxn1240', 'rxn1241', 'rxn1242', 'rxn1245', 'rxn1246', 'rxn1247', 'rxn1250', 'rxn1251', 'rxn1252', 'rxn1253', 'rxn1254', 'rxn1257', 'rxn1258', 'rxn1259', 'rxn1262', 'rxn1263', 'rxn1264', 'rxn1267', 'rxn1268', 'rxn1269', 'rxn1270', 'rxn1271', 'rxn1274', 'rxn1275', 'rxn1276', 'rxn1279', 'rxn1280', 'rxn1281', 'rxn1284', 'rxn1291', 'rxn1292', 'rxn1293', 'rxn1294', 'rxn1297', 'rxn1298', 'rxn1299', 'rxn1300', 'rxn1301', 'rxn1302', 'rxn1305', 'rxn1306', 'rxn1307', 'rxn1310', 'rxn1311', 'rxn1312', 'rxn1315', 'rxn1318', 'rxn1319', 'rxn1320', 'rxn1321', 'rxn1324', 'rxn1325', 'rxn1326', 'rxn1329', 'rxn1330', 'rxn1331', 'rxn1334', 'rxn1339', 'rxn1340', 'rxn1348', 'rxn1349', 'rxn1363', 'rxn1364', 'rxn1365', 'rxn1368', 'rxn1369', 'rxn1370', 'rxn1383', 'rxn1385']\n"
     ]
    }
   ],
   "source": [
    "atp_sim_name = ['UDP','UMP','UTP',\n",
    "                'dUDP','dUMP','dUTP',\n",
    "                'CDP','CMP','CTP',\n",
    "                'dCDP','dCMP','dCTP',\n",
    "                'TDP','TMP','TTP',\n",
    "                'dTDP','dTMP','dTTP',\n",
    "                'GDP','GMP','GTP',\n",
    "                'dGDP','dGMP','dGTP',\n",
    "                'IDP','IMP','ITP',\n",
    "                'dIDP','dIMP','dITP',\n",
    "                ]\n",
    "atp_sim_list = []\n",
    "for met in atp_sim_name:\n",
    "    for i in yeast8.metabolites:\n",
    "        if i.compartment == 'c':\n",
    "            if i.name == met:\n",
    "                print(i.id,i.name,met)\n",
    "                atp_sim_list.append(i.id)\n",
    "\n",
    "atp_sim_reaction = []\n",
    "\n",
    "for reaction in yeast8U_mod.reactions:\n",
    "    if 'rxn' in reaction.id:\n",
    "        tmp = {str(k.id):v for k,v in reaction.metabolites.items()}\n",
    "        if any(x in tmp for x in atp_sim_list):\n",
    "            atp_sim_reaction.append(reaction.id)\n",
    "print(len(atp_sim_reaction))\n",
    "print(atp_sim_reaction)"
   ]
  },
  {
   "cell_type": "code",
   "execution_count": 14,
   "metadata": {},
   "outputs": [
    {
     "name": "stdout",
     "output_type": "stream",
     "text": [
      "395\n",
      "['rxn20624', 'rxn20625', 'rxn20631', 'rxn20632', 'rxn20633', 'rxn24199', 'rxn24822', 'rxn24823', 'rxn24826', 'rxn24827', 'rxn24830', 'rxn24831', 'rxn24834', 'rxn24836', 'rxn24838', 'rxn24839', 'rxn24840', 'rxn24842', 'rxn24843', 'rxn24844', 'rxn24846', 'rxn24847', 'rxn24848', 'rxn24850', 'rxn24851', 'rxn24852', 'rxn24854', 'rxn24855', 'rxn24856', 'rxn24858', 'rxn24859', 'rxn24947', 'rxn24948', 'rxn30507', 'rxn26905', 'rxn26906', 'rxn26908', 'rxn27511', 'rxn27513', 'rxn27515', 'rxn27517', 'rxn27519', 'rxn27521', 'rxn27523', 'rxn27525', 'rxn27527', 'rxn27529', 'rxn27531', 'rxn27533', 'rxn27535', 'rxn27537', 'rxn27539', 'rxn27541', 'rxn27543', 'rxn27545', 'rxn27547', 'rxn27549', 'rxn18763', 'rxn22599', 'rxn22600', 'rxn38434', 'rxn38435', 'rxn38849', 'rxn39077', 'rxn39078', 'rxn42736', 'rxn42737', 'rxn42738', 'rxn46499', 'rxn46500', 'rxn46501', 'rxn50712', 'rxn50713', 'rxn50714', 'rxn50715', 'rxn50716', 'rxn43614', 'rxn15723', 'rxn15724', 'rxn15725', 'rxn16584', 'rxn25429', 'rxn52524', 'rxn52525', 'rxn52526', 'rxn52527', 'rxn52528', 'rxn52530', 'rxn52531', 'rxn52532', 'rxn52533', 'rxn52534', 'rxn13433', 'rxn13435', 'rxn13436', 'rxn13437', 'rxn13439', 'rxn13442', 'rxn13443', 'rxn13444', 'rxn13445', 'rxn13446', 'rxn13447', 'rxn13448', 'rxn13450', 'rxn13452', 'rxn13453', 'rxn13454', 'rxn13456', 'rxn13459', 'rxn13460', 'rxn13461', 'rxn13462', 'rxn13463', 'rxn13464', 'rxn13465', 'rxn13467', 'rxn13469', 'rxn13470', 'rxn13471', 'rxn13473', 'rxn13476', 'rxn13477', 'rxn13478', 'rxn13479', 'rxn13480', 'rxn13481', 'rxn13482', 'rxn13484', 'rxn13486', 'rxn13487', 'rxn13488', 'rxn13490', 'rxn13493', 'rxn13494', 'rxn13495', 'rxn13496', 'rxn13497', 'rxn13498', 'rxn13499', 'rxn13501', 'rxn13503', 'rxn13504', 'rxn13505', 'rxn13507', 'rxn13510', 'rxn13511', 'rxn13512', 'rxn13513', 'rxn13514', 'rxn13515', 'rxn13516', 'rxn13518', 'rxn13520', 'rxn13521', 'rxn13522', 'rxn13524', 'rxn13527', 'rxn13528', 'rxn13529', 'rxn13530', 'rxn13531', 'rxn13532', 'rxn13533', 'rxn13535', 'rxn13537', 'rxn13538', 'rxn13539', 'rxn13541', 'rxn13544', 'rxn13545', 'rxn13546', 'rxn13547', 'rxn13548', 'rxn13549', 'rxn13550', 'rxn13552', 'rxn13554', 'rxn13555', 'rxn13556', 'rxn13558', 'rxn13561', 'rxn13562', 'rxn13563', 'rxn13564', 'rxn13565', 'rxn13566', 'rxn13567', 'rxn13569', 'rxn13571', 'rxn13572', 'rxn13573', 'rxn13575', 'rxn13578', 'rxn13579', 'rxn13580', 'rxn13581', 'rxn13582', 'rxn13583', 'rxn13584', 'rxn13586', 'rxn13588', 'rxn13589', 'rxn13590', 'rxn13592', 'rxn13595', 'rxn13596', 'rxn13597', 'rxn13598', 'rxn13599', 'rxn13600', 'rxn13601', 'rxn56470', 'rxn56472', 'rxn56474', 'rxn56476', 'rxn56478', 'rxn56480', 'rxn60120', 'rxn63692', 'rxn63693', 'rxn63694', 'rxn63695', 'rxn63696', 'rxn63697', 'rxn63698', 'rxn63699', 'rxn63700', 'rxn63701', 'rxn63758', 'rxn63759', 'rxn63760', 'rxn63761', 'rxn65114', 'rxn65115', 'rxn65118', 'rxn65119', 'rxn65120', 'rxn65123', 'rxn65124', 'rxn65125', 'rxn65128', 'rxn65129', 'rxn65130', 'rxn65133', 'rxn65134', 'rxn65135', 'rxn65138', 'rxn65139', 'rxn65140', 'rxn65143', 'rxn62060', 'rxn66129', 'rxn66131', 'rxn66133', 'rxn66135', 'rxn66136', 'rxn66137', 'rxn66138', 'rxn66139', 'rxn66140', 'rxn66141', 'rxn66143', 'rxn66145', 'rxn66147', 'rxn66148', 'rxn66149', 'rxn66150', 'rxn66151', 'rxn66152', 'rxn66153', 'rxn66155', 'rxn66157', 'rxn66159', 'rxn66160', 'rxn66161', 'rxn66162', 'rxn66163', 'rxn66164', 'rxn66165', 'rxn66167', 'rxn66169', 'rxn66171', 'rxn66172', 'rxn66173', 'rxn66174', 'rxn66175', 'rxn66176', 'rxn66177', 'rxn66179', 'rxn66181', 'rxn66183', 'rxn66184', 'rxn66185', 'rxn66186', 'rxn66187', 'rxn66188', 'rxn66189', 'rxn66191', 'rxn66193', 'rxn66195', 'rxn66196', 'rxn66197', 'rxn66198', 'rxn66199', 'rxn66200', 'rxn66201', 'rxn66203', 'rxn66205', 'rxn66207', 'rxn66208', 'rxn66209', 'rxn66210', 'rxn66211', 'rxn66212', 'rxn66213', 'rxn66215', 'rxn66217', 'rxn66219', 'rxn66220', 'rxn66221', 'rxn66222', 'rxn66223', 'rxn66224', 'rxn66225', 'rxn66227', 'rxn66229', 'rxn66231', 'rxn66232', 'rxn66233', 'rxn66234', 'rxn66235', 'rxn66236', 'rxn66237', 'rxn66239', 'rxn66241', 'rxn66243', 'rxn66244', 'rxn66245', 'rxn66246', 'rxn66247', 'rxn66248', 'rxn11011', 'rxn11083', 'rxn17781', 'rxn8862', 'rxn8864', 'rxn9728', 'rxn82852', 'rxn11798', 'rxn12128', 'rxn12130', 'rxn7502', 'rxn7503', 'rxn7508', 'rxn7509', 'rxn7510', 'rxn7685', 'rxn7687', 'rxn8306', 'rxn8307', 'rxn8630', 'rxn5826', 'rxn5827', 'rxn5828', 'rxn5829', 'rxn5830', 'rxn5831', 'rxn5832', 'rxn5833', 'rxn5834', 'rxn5835', 'rxn5836', 'rxn5837', 'rxn5838', 'rxn5839', 'rxn5840', 'rxn5841', 'rxn5842', 'rxn5843', 'rxn5844', 'rxn5845', 'rxn3191', 'rxn3534', 'rxn2610', 'rxn2611', 'rxn2612', 'rxn2613', 'rxn2614', 'rxn10', 'rxn195', 'rxn196', 'rxn197', 'rxn198', 'rxn199']\n"
     ]
    }
   ],
   "source": [
    "co2_reaction = []\n",
    "\n",
    "for reaction in yeast8U_mod.reactions:\n",
    "    if 'rxn' in reaction.id:\n",
    "        tmp = {str(k.id):v for k,v in reaction.metabolites.items()}\n",
    "        if 's_0456' in tmp and tmp['s_0456']<0:\n",
    "            co2_reaction.append(reaction.id)\n",
    "\n",
    "print(len(co2_reaction))\n",
    "print(co2_reaction)"
   ]
  },
  {
   "cell_type": "code",
   "execution_count": 15,
   "metadata": {},
   "outputs": [
    {
     "name": "stdout",
     "output_type": "stream",
     "text": [
      "568\n",
      "['rxn21142', 'rxn21581', 'rxn21607', 'rxn21633', 'rxn21659', 'rxn21685', 'rxn21711', 'rxn21724', 'rxn19958', 'rxn19959', 'rxn19960', 'rxn19961', 'rxn20861', 'rxn20863', 'rxn24822', 'rxn24823', 'rxn24826', 'rxn24827', 'rxn24830', 'rxn24831', 'rxn24834', 'rxn24836', 'rxn24838', 'rxn24839', 'rxn24840', 'rxn24842', 'rxn24843', 'rxn24844', 'rxn24846', 'rxn24847', 'rxn24848', 'rxn24850', 'rxn24851', 'rxn24852', 'rxn24854', 'rxn24855', 'rxn24856', 'rxn24858', 'rxn24859', 'rxn29553', 'rxn29778', 'rxn30367', 'rxn30616', 'rxn30617', 'rxn30627', 'rxn30629', 'rxn27015', 'rxn27134', 'rxn27431', 'rxn27511', 'rxn27513', 'rxn27515', 'rxn27517', 'rxn27519', 'rxn27521', 'rxn27523', 'rxn27525', 'rxn27527', 'rxn27529', 'rxn27531', 'rxn27533', 'rxn27535', 'rxn27537', 'rxn27539', 'rxn27541', 'rxn27543', 'rxn27545', 'rxn27547', 'rxn27549', 'rxn27946', 'rxn28226', 'rxn28227', 'rxn28228', 'rxn28229', 'rxn28230', 'rxn28231', 'rxn28232', 'rxn28234', 'rxn29118', 'rxn29119', 'rxn29120', 'rxn29315', 'rxn29316', 'rxn29317', 'rxn29320', 'rxn36054', 'rxn14850', 'rxn14854', 'rxn14954', 'rxn15011', 'rxn15012', 'rxn15013', 'rxn15229', 'rxn15352', 'rxn31667', 'rxn40813', 'rxn41050', 'rxn18848', 'rxn18850', 'rxn18852', 'rxn18854', 'rxn18856', 'rxn18858', 'rxn18860', 'rxn18862', 'rxn18864', 'rxn18866', 'rxn18868', 'rxn18870', 'rxn18872', 'rxn18874', 'rxn18876', 'rxn18877', 'rxn18880', 'rxn18882', 'rxn18884', 'rxn18885', 'rxn18888', 'rxn18890', 'rxn18891', 'rxn18902', 'rxn18903', 'rxn18906', 'rxn18908', 'rxn18924', 'rxn18926', 'rxn23740', 'rxn46129', 'rxn44993', 'rxn44998', 'rxn45001', 'rxn45008', 'rxn45306', 'rxn46015', 'rxn46020', 'rxn48656', 'rxn48659', 'rxn48661', 'rxn48663', 'rxn48665', 'rxn33939', 'rxn34437', 'rxn34438', 'rxn34439', 'rxn34900', 'rxn34901', 'rxn50712', 'rxn50713', 'rxn50714', 'rxn50715', 'rxn50716', 'rxn43493', 'rxn43494', 'rxn43940', 'rxn43941', 'rxn15723', 'rxn15724', 'rxn15725', 'rxn16808', 'rxn16809', 'rxn16810', 'rxn55521', 'rxn25429', 'rxn51665', 'rxn51667', 'rxn51668', 'rxn51671', 'rxn51672', 'rxn51673', 'rxn51674', 'rxn51675', 'rxn51677', 'rxn51678', 'rxn51680', 'rxn52524', 'rxn52525', 'rxn52526', 'rxn52527', 'rxn52528', 'rxn52530', 'rxn52531', 'rxn52532', 'rxn52533', 'rxn52534', 'rxn12979', 'rxn13019', 'rxn13020', 'rxn13021', 'rxn13022', 'rxn13086', 'rxn13099', 'rxn13433', 'rxn13435', 'rxn13436', 'rxn13437', 'rxn13439', 'rxn13442', 'rxn13443', 'rxn13444', 'rxn13445', 'rxn13446', 'rxn13447', 'rxn13448', 'rxn13450', 'rxn13452', 'rxn13453', 'rxn13454', 'rxn13456', 'rxn13459', 'rxn13460', 'rxn13461', 'rxn13462', 'rxn13463', 'rxn13464', 'rxn13465', 'rxn13467', 'rxn13469', 'rxn13470', 'rxn13471', 'rxn13473', 'rxn13476', 'rxn13477', 'rxn13478', 'rxn13479', 'rxn13480', 'rxn13481', 'rxn13482', 'rxn13484', 'rxn13486', 'rxn13487', 'rxn13488', 'rxn13490', 'rxn13493', 'rxn13494', 'rxn13495', 'rxn13496', 'rxn13497', 'rxn13498', 'rxn13499', 'rxn13501', 'rxn13503', 'rxn13504', 'rxn13505', 'rxn13507', 'rxn13510', 'rxn13511', 'rxn13512', 'rxn13513', 'rxn13514', 'rxn13515', 'rxn13516', 'rxn13518', 'rxn13520', 'rxn13521', 'rxn13522', 'rxn13524', 'rxn13527', 'rxn13528', 'rxn13529', 'rxn13530', 'rxn13531', 'rxn13532', 'rxn13533', 'rxn13535', 'rxn13537', 'rxn13538', 'rxn13539', 'rxn13541', 'rxn13544', 'rxn13545', 'rxn13546', 'rxn13547', 'rxn13548', 'rxn13549', 'rxn13550', 'rxn13552', 'rxn13554', 'rxn13555', 'rxn13556', 'rxn13558', 'rxn13561', 'rxn13562', 'rxn13563', 'rxn13564', 'rxn13565', 'rxn13566', 'rxn13567', 'rxn13569', 'rxn13571', 'rxn13572', 'rxn13573', 'rxn13575', 'rxn13578', 'rxn13579', 'rxn13580', 'rxn13581', 'rxn13582', 'rxn13583', 'rxn13584', 'rxn13586', 'rxn13588', 'rxn13589', 'rxn13590', 'rxn13592', 'rxn13595', 'rxn13596', 'rxn13597', 'rxn13598', 'rxn13599', 'rxn13600', 'rxn13601', 'rxn13643', 'rxn13892', 'rxn56470', 'rxn56472', 'rxn56474', 'rxn56476', 'rxn56478', 'rxn56480', 'rxn56504', 'rxn59093', 'rxn59866', 'rxn59876', 'rxn59878', 'rxn59882', 'rxn59898', 'rxn63300', 'rxn63692', 'rxn63693', 'rxn63694', 'rxn63695', 'rxn63696', 'rxn63697', 'rxn63698', 'rxn63699', 'rxn63700', 'rxn63701', 'rxn64106', 'rxn65114', 'rxn65115', 'rxn65118', 'rxn65119', 'rxn65120', 'rxn65123', 'rxn65124', 'rxn65125', 'rxn65128', 'rxn65129', 'rxn65130', 'rxn65133', 'rxn65134', 'rxn65135', 'rxn65138', 'rxn65139', 'rxn65140', 'rxn65143', 'rxn61442', 'rxn62372', 'rxn62374', 'rxn62375', 'rxn66129', 'rxn66131', 'rxn66133', 'rxn66135', 'rxn66136', 'rxn66137', 'rxn66138', 'rxn66139', 'rxn66140', 'rxn66141', 'rxn66143', 'rxn66145', 'rxn66147', 'rxn66148', 'rxn66149', 'rxn66150', 'rxn66151', 'rxn66152', 'rxn66153', 'rxn66155', 'rxn66157', 'rxn66159', 'rxn66160', 'rxn66161', 'rxn66162', 'rxn66163', 'rxn66164', 'rxn66165', 'rxn66167', 'rxn66169', 'rxn66171', 'rxn66172', 'rxn66173', 'rxn66174', 'rxn66175', 'rxn66176', 'rxn66177', 'rxn66179', 'rxn66181', 'rxn66183', 'rxn66184', 'rxn66185', 'rxn66186', 'rxn66187', 'rxn66188', 'rxn66189', 'rxn66191', 'rxn66193', 'rxn66195', 'rxn66196', 'rxn66197', 'rxn66198', 'rxn66199', 'rxn66200', 'rxn66201', 'rxn66203', 'rxn66205', 'rxn66207', 'rxn66208', 'rxn66209', 'rxn66210', 'rxn66211', 'rxn66212', 'rxn66213', 'rxn66215', 'rxn66217', 'rxn66219', 'rxn66220', 'rxn66221', 'rxn66222', 'rxn66223', 'rxn66224', 'rxn66225', 'rxn66227', 'rxn66229', 'rxn66231', 'rxn66232', 'rxn66233', 'rxn66234', 'rxn66235', 'rxn66236', 'rxn66237', 'rxn66239', 'rxn66241', 'rxn66243', 'rxn66244', 'rxn66245', 'rxn66246', 'rxn66247', 'rxn66248', 'rxn71046', 'rxn71047', 'rxn71048', 'rxn71474', 'rxn71475', 'rxn74062', 'rxn10327', 'rxn10328', 'rxn10329', 'rxn10330', 'rxn10332', 'rxn10335', 'rxn10336', 'rxn10337', 'rxn10338', 'rxn11303', 'rxn11304', 'rxn11305', 'rxn17590', 'rxn17592', 'rxn9521', 'rxn9670', 'rxn9925', 'rxn9931', 'rxn9935', 'rxn9936', 'rxn9937', 'rxn9938', 'rxn11542', 'rxn11746', 'rxn11747', 'rxn7764', 'rxn7766', 'rxn7767', 'rxn8011', 'rxn8044', 'rxn8045', 'rxn8065', 'rxn8378', 'rxn8380', 'rxn8442', 'rxn8446', 'rxn8516', 'rxn5718', 'rxn5719', 'rxn5720', 'rxn5721', 'rxn5722', 'rxn5723', 'rxn5724', 'rxn5725', 'rxn5726', 'rxn5727', 'rxn5826', 'rxn5827', 'rxn5828', 'rxn5829', 'rxn5830', 'rxn5831', 'rxn5832', 'rxn5833', 'rxn5834', 'rxn5835', 'rxn5836', 'rxn5837', 'rxn5838', 'rxn5839', 'rxn5840', 'rxn5841', 'rxn5842', 'rxn5843', 'rxn5844', 'rxn5845', 'rxn5936', 'rxn6106', 'rxn7119', 'rxn7120', 'rxn3725', 'rxn4039', 'rxn4040', 'rxn1612', 'rxn1614', 'rxn1616', 'rxn1618', 'rxn1619', 'rxn1620', 'rxn1621', 'rxn1622', 'rxn1624', 'rxn1626', 'rxn1627', 'rxn1628', 'rxn1666', 'rxn1722', 'rxn2292', 'rxn2295', 'rxn2298', 'rxn2299', 'rxn2300', 'rxn2301', 'rxn2302', 'rxn2655', 'rxn88', 'rxn109', 'rxn195', 'rxn196', 'rxn197', 'rxn198', 'rxn199', 'rxn684', 'rxn685', 'rxn686', 'rxn687', 'rxn689', 'rxn691', 'rxn692', 'rxn693', 'rxn695']\n"
     ]
    }
   ],
   "source": [
    "o2_reaction = []\n",
    "\n",
    "for reaction in yeast8U_mod.reactions:\n",
    "    if 'rxn' in reaction.id:\n",
    "        tmp = {str(k.id):v for k,v in reaction.metabolites.items()}\n",
    "        if 's_1275' in tmp and tmp['s_1275']>0:\n",
    "            o2_reaction.append(reaction.id)\n",
    "\n",
    "print(len(o2_reaction))\n",
    "print(o2_reaction)"
   ]
  },
  {
   "cell_type": "code",
   "execution_count": 16,
   "metadata": {},
   "outputs": [
    {
     "name": "stdout",
     "output_type": "stream",
     "text": [
      "587\n",
      "['rxn21299', 'rxn22397', 'rxn22398', 'rxn22399', 'rxn19912', 'rxn19913', 'rxn19914', 'rxn20861', 'rxn20863', 'rxn21104', 'rxn21105', 'rxn24511', 'rxn24512', 'rxn24513', 'rxn24514', 'rxn24515', 'rxn24516', 'rxn24517', 'rxn24518', 'rxn30425', 'rxn30704', 'rxn30705', 'rxn27015', 'rxn27055', 'rxn27946', 'rxn35812', 'rxn14954', 'rxn15011', 'rxn15012', 'rxn15013', 'rxn15087', 'rxn15352', 'rxn36471', 'rxn37397', 'rxn30905', 'rxn31171', 'rxn31268', 'rxn31269', 'rxn31456', 'rxn31921', 'rxn31924', 'rxn31925', 'rxn18407', 'rxn18848', 'rxn18850', 'rxn18852', 'rxn18854', 'rxn18856', 'rxn18858', 'rxn18860', 'rxn18862', 'rxn18864', 'rxn18866', 'rxn18868', 'rxn18870', 'rxn18872', 'rxn18874', 'rxn18876', 'rxn18877', 'rxn18880', 'rxn18882', 'rxn18884', 'rxn18885', 'rxn18888', 'rxn18890', 'rxn18891', 'rxn18902', 'rxn18903', 'rxn18906', 'rxn18908', 'rxn18924', 'rxn18926', 'rxn19515', 'rxn22546', 'rxn22552', 'rxn22777', 'rxn38836', 'rxn38897', 'rxn38898', 'rxn38899', 'rxn38944', 'rxn46532', 'rxn46535', 'rxn46536', 'rxn46015', 'rxn46020', 'rxn33939', 'rxn43493', 'rxn43494', 'rxn44592', 'rxn48952', 'rxn48953', 'rxn48954', 'rxn48955', 'rxn49831', 'rxn49832', 'rxn49833', 'rxn49834', 'rxn49835', 'rxn25429', 'rxn25430', 'rxn25431', 'rxn25432', 'rxn25436', 'rxn25700', 'rxn25873', 'rxn26400', 'rxn51665', 'rxn51667', 'rxn51668', 'rxn51671', 'rxn51672', 'rxn51673', 'rxn51674', 'rxn51675', 'rxn51677', 'rxn51678', 'rxn51680', 'rxn52843', 'rxn52844', 'rxn52845', 'rxn52846', 'rxn52848', 'rxn52849', 'rxn52850', 'rxn52851', 'rxn52852', 'rxn12979', 'rxn13019', 'rxn13020', 'rxn13021', 'rxn13022', 'rxn13133', 'rxn13432', 'rxn13643', 'rxn13763', 'rxn13826', 'rxn13892', 'rxn57178', 'rxn59093', 'rxn59876', 'rxn59878', 'rxn59882', 'rxn59898', 'rxn60366', 'rxn61053', 'rxn64106', 'rxn62241', 'rxn65479', 'rxn71046', 'rxn71047', 'rxn71048', 'rxn71474', 'rxn71475', 'rxn74062', 'rxn77326', 'rxn17560', 'rxn8870', 'rxn8999', 'rxn9296', 'rxn9670', 'rxn9868', 'rxn79802', 'rxn79826', 'rxn79838', 'rxn79846', 'rxn79847', 'rxn79848', 'rxn79850', 'rxn79851', 'rxn79852', 'rxn79858', 'rxn79859', 'rxn79860', 'rxn79862', 'rxn79863', 'rxn79864', 'rxn79870', 'rxn79871', 'rxn79872', 'rxn79874', 'rxn79875', 'rxn79876', 'rxn79882', 'rxn79883', 'rxn79884', 'rxn79886', 'rxn79887', 'rxn79888', 'rxn79894', 'rxn79895', 'rxn79896', 'rxn79898', 'rxn79899', 'rxn79900', 'rxn79906', 'rxn79907', 'rxn79908', 'rxn79910', 'rxn79911', 'rxn79912', 'rxn79918', 'rxn79919', 'rxn79920', 'rxn79922', 'rxn79923', 'rxn79924', 'rxn79930', 'rxn79931', 'rxn79932', 'rxn79934', 'rxn79935', 'rxn79936', 'rxn79946', 'rxn11713', 'rxn11717', 'rxn80378', 'rxn81965', 'rxn81971', 'rxn81972', 'rxn7653', 'rxn7764', 'rxn7766', 'rxn7767', 'rxn8065', 'rxn8109', 'rxn8111', 'rxn4525', 'rxn4527', 'rxn4528', 'rxn5044', 'rxn5083', 'rxn5281', 'rxn5282', 'rxn5718', 'rxn5719', 'rxn5720', 'rxn5721', 'rxn5722', 'rxn5723', 'rxn5724', 'rxn5725', 'rxn5726', 'rxn5727', 'rxn5851', 'rxn5936', 'rxn6930', 'rxn7121', 'rxn7122', 'rxn3656', 'rxn3753', 'rxn1467', 'rxn1468', 'rxn1469', 'rxn1470', 'rxn1473', 'rxn1474', 'rxn1475', 'rxn1612', 'rxn1614', 'rxn1616', 'rxn1618', 'rxn1619', 'rxn1620', 'rxn1621', 'rxn1622', 'rxn1624', 'rxn1626', 'rxn1627', 'rxn1628', 'rxn1642', 'rxn1646', 'rxn1722', 'rxn1740', 'rxn1741', 'rxn1742', 'rxn1747', 'rxn1932', 'rxn2688', 'rxn1', 'rxn4', 'rxn7', 'rxn109', 'rxn187', 'rxn188', 'rxn189', 'rxn204', 'rxn824', 'rxn21142', 'rxn19958', 'rxn19959', 'rxn19960', 'rxn19961', 'rxn20789', 'rxn29831', 'rxn30571', 'rxn30616', 'rxn30617', 'rxn27134', 'rxn27431', 'rxn28056', 'rxn28057', 'rxn28207', 'rxn29044', 'rxn29068', 'rxn14546', 'rxn15229', 'rxn37339', 'rxn31254', 'rxn31457', 'rxn40813', 'rxn41654', 'rxn23661', 'rxn38404', 'rxn38405', 'rxn38406', 'rxn38407', 'rxn39059', 'rxn46129', 'rxn46888', 'rxn46890', 'rxn44993', 'rxn44998', 'rxn45001', 'rxn45008', 'rxn45017', 'rxn45592', 'rxn45593', 'rxn47795', 'rxn34437', 'rxn34438', 'rxn34439', 'rxn34900', 'rxn34901', 'rxn34952', 'rxn43988', 'rxn15835', 'rxn15836', 'rxn16808', 'rxn16809', 'rxn16810', 'rxn55208', 'rxn55211', 'rxn55212', 'rxn55222', 'rxn55223', 'rxn52033', 'rxn52034', 'rxn52035', 'rxn52036', 'rxn52611', 'rxn52873', 'rxn52874', 'rxn52875', 'rxn52876', 'rxn52878', 'rxn52879', 'rxn52880', 'rxn52881', 'rxn52882', 'rxn13099', 'rxn13135', 'rxn13900', 'rxn13921', 'rxn13922', 'rxn14021', 'rxn61054', 'rxn63300', 'rxn62372', 'rxn62374', 'rxn62375', 'rxn10304', 'rxn10327', 'rxn10328', 'rxn10329', 'rxn10330', 'rxn10332', 'rxn10335', 'rxn10336', 'rxn10337', 'rxn10338', 'rxn10990', 'rxn11382', 'rxn11393', 'rxn11396', 'rxn11397', 'rxn11398', 'rxn11399', 'rxn78459', 'rxn72081', 'rxn72957', 'rxn72958', 'rxn72959', 'rxn72961', 'rxn72962', 'rxn72963', 'rxn72970', 'rxn72971', 'rxn72973', 'rxn72974', 'rxn72975', 'rxn72981', 'rxn72982', 'rxn72983', 'rxn72985', 'rxn72986', 'rxn72987', 'rxn72993', 'rxn72994', 'rxn72995', 'rxn72997', 'rxn72998', 'rxn72999', 'rxn73005', 'rxn73006', 'rxn73007', 'rxn73009', 'rxn73010', 'rxn73011', 'rxn73017', 'rxn73018', 'rxn73019', 'rxn73021', 'rxn73022', 'rxn73023', 'rxn73029', 'rxn73030', 'rxn73031', 'rxn73033', 'rxn73034', 'rxn73035', 'rxn73041', 'rxn73042', 'rxn73043', 'rxn73045', 'rxn73046', 'rxn73047', 'rxn73053', 'rxn73054', 'rxn73055', 'rxn73057', 'rxn73058', 'rxn73059', 'rxn73065', 'rxn73066', 'rxn73067', 'rxn73069', 'rxn73070', 'rxn73071', 'rxn73077', 'rxn73078', 'rxn73079', 'rxn73081', 'rxn73082', 'rxn73083', 'rxn73089', 'rxn73090', 'rxn73091', 'rxn73093', 'rxn73094', 'rxn73095', 'rxn73102', 'rxn73103', 'rxn73105', 'rxn73106', 'rxn73107', 'rxn17459', 'rxn17460', 'rxn17461', 'rxn17474', 'rxn17590', 'rxn17592', 'rxn8875', 'rxn8877', 'rxn8878', 'rxn8879', 'rxn8882', 'rxn8883', 'rxn9880', 'rxn9881', 'rxn10019', 'rxn82979', 'rxn82980', 'rxn82981', 'rxn83156', 'rxn83157', 'rxn12606', 'rxn12607', 'rxn12608', 'rxn12609', 'rxn84718', 'rxn7673', 'rxn7678', 'rxn8011', 'rxn8042', 'rxn8062', 'rxn8091', 'rxn8126', 'rxn8380', 'rxn8442', 'rxn8446', 'rxn4491', 'rxn4492', 'rxn5051', 'rxn5294', 'rxn5572', 'rxn5735', 'rxn5736', 'rxn5818', 'rxn5883', 'rxn5939', 'rxn5940', 'rxn5941', 'rxn5943', 'rxn6106', 'rxn6152', 'rxn6155', 'rxn6589', 'rxn7196', 'rxn3208', 'rxn3209', 'rxn3210', 'rxn3211', 'rxn3212', 'rxn3213', 'rxn3214', 'rxn3655', 'rxn3725', 'rxn3755', 'rxn1449', 'rxn1450', 'rxn1451', 'rxn1452', 'rxn1453', 'rxn1566', 'rxn1568', 'rxn1606', 'rxn1661', 'rxn1699', 'rxn1700', 'rxn1701', 'rxn1702', 'rxn2122', 'rxn2278', 'rxn2593', 'rxn2618', 'rxn168', 'rxn207', 'rxn208', 'rxn437', 'rxn439', 'rxn440', 'rxn444', 'rxn696', 'rxn697', 'rxn698', 'rxn699', 'rxn731', 'rxn35540', 'rxn17404', 'rxn17407', 'rxn17408', 'rxn84518', 'rxn84646', 'rxn4550', 'rxn4551', 'rxn4552', 'rxn4556', 'rxn4811', 'rxn4815', 'rxn4819', 'rxn2292', 'rxn2295', 'rxn2298', 'rxn2299', 'rxn2300', 'rxn2301', 'rxn2302', 'rxn684', 'rxn685', 'rxn686', 'rxn687', 'rxn689', 'rxn691', 'rxn692', 'rxn693', 'rxn695']\n"
     ]
    }
   ],
   "source": [
    "nadph_reaction = []\n",
    "# nadph nadh fadh2\n",
    "\n",
    "for reaction in yeast8U_mod.reactions:\n",
    "    if 'rxn' in reaction.id:\n",
    "        tmp = {str(k.id):v for k,v in reaction.metabolites.items()}\n",
    "        if 's_1212' in tmp and tmp['s_1212']>0:  #NADPH\n",
    "            nadph_reaction.append(reaction.id)\n",
    "\n",
    "for reaction in yeast8U_mod.reactions:\n",
    "    if 'rxn' in reaction.id:\n",
    "        tmp = {str(k.id):v for k,v in reaction.metabolites.items()}\n",
    "        if 's_1203' in tmp and tmp['s_1203']>0:   #NADH\n",
    "            nadph_reaction.append(reaction.id)\n",
    "\n",
    "for reaction in yeast8U_mod.reactions:\n",
    "    if 'rxn' in reaction.id:\n",
    "        tmp = {str(k.id):v for k,v in reaction.metabolites.items()}\n",
    "        if 's_0689' in tmp and tmp['s_0689']>0:  #FADH2\n",
    "            nadph_reaction.append(reaction.id)\n",
    "\n",
    "print(len(nadph_reaction))\n",
    "print(nadph_reaction)\n"
   ]
  },
  {
   "cell_type": "code",
   "execution_count": 17,
   "metadata": {},
   "outputs": [
    {
     "name": "stdout",
     "output_type": "stream",
     "text": [
      "64\n",
      "['rxn21095', 'rxn21096', 'rxn21097', 'rxn21098', 'rxn21101', 'rxn21102', 'rxn21103', 'rxn34817', 'rxn34818', 'rxn26376', 'rxn26377', 'rxn26378', 'rxn26380', 'rxn26382', 'rxn26383', 'rxn68262', 'rxn68263', 'rxn68266', 'rxn68267', 'rxn69570', 'rxn69571', 'rxn69574', 'rxn69575', 'rxn69872', 'rxn69875', 'rxn82748', 'rxn82749', 'rxn82754', 'rxn82766', 'rxn82768', 'rxn5750', 'rxn27295', 'rxn27313', 'rxn27369', 'rxn27387', 'rxn28707', 'rxn28725', 'rxn37595', 'rxn25948', 'rxn25966', 'rxn25984', 'rxn26002', 'rxn26026', 'rxn26044', 'rxn26064', 'rxn26082', 'rxn26100', 'rxn26118', 'rxn12810', 'rxn12811', 'rxn12835', 'rxn12883', 'rxn12914', 'rxn12915', 'rxn12666', 'rxn12667', 'rxn12683', 'rxn12699', 'rxn12715', 'rxn12746', 'rxn12747', 'rxn82979', 'rxn12606', 'rxn81965']\n"
     ]
    }
   ],
   "source": [
    "# ['s_1360','s_0075','s_4092','s_1464'] \n",
    "\n",
    "yeast8_atp = []\n",
    "\n",
    "for reaction in yeast8U_mod.reactions:\n",
    "    if 'rxn' in reaction.id:\n",
    "        tmp = {str(k.id):v for k,v in reaction.metabolites.items()}\n",
    "        if 's_1360' in tmp and tmp['s_1360']>0:   #phosphoenolpyruvate\n",
    "            yeast8_atp.append(reaction.id)\n",
    "\n",
    "for reaction in yeast8U_mod.reactions:\n",
    "    if 'rxn' in reaction.id:\n",
    "        tmp = {str(k.id):v for k,v in reaction.metabolites.items()}\n",
    "        if 's_0075' in tmp and tmp['s_0075']>0:   #1,3-bisphospho-D-glycerate\n",
    "            yeast8_atp.append(reaction.id)\n",
    "\n",
    "for reaction in yeast8U_mod.reactions:\n",
    "    if 'rxn' in reaction.id:\n",
    "        tmp = {str(k.id):v for k,v in reaction.metabolites.items()}\n",
    "        if 's_4092' in tmp and tmp['s_4092']>0:  #N(omega)-phospho-L-arginine\n",
    "            yeast8_atp.append(reaction.id)\n",
    "\n",
    "for reaction in yeast8U_mod.reactions:\n",
    "    if 'rxn' in reaction.id:\n",
    "        tmp = {str(k.id):v for k,v in reaction.metabolites.items()}\n",
    "        if 's_1464' in tmp and tmp['s_1464']>0:  #succinyl-CoA\n",
    "            yeast8_atp.append(reaction.id)\n",
    "\n",
    "\n",
    "print(len(yeast8_atp))\n",
    "print(yeast8_atp)"
   ]
  },
  {
   "cell_type": "code",
   "execution_count": 18,
   "metadata": {},
   "outputs": [
    {
     "name": "stdout",
     "output_type": "stream",
     "text": [
      "244\n",
      "['rxn14363', 'rxn37249', 'rxn37594', 'rxn19684', 'rxn19688', 'rxn12804', 'rxn12805', 'rxn12830', 'rxn12878', 'rxn12908', 'rxn12909', 'rxn12978', 'rxn13080', 'rxn14062', 'rxn14080', 'rxn56569', 'rxn56573', 'rxn74656', 'rxn74672', 'rxn74688', 'rxn74704', 'rxn74720', 'rxn74736', 'rxn74752', 'rxn74768', 'rxn74784', 'rxn74800', 'rxn12660', 'rxn12661', 'rxn12680', 'rxn12696', 'rxn12712', 'rxn12740', 'rxn12741', 'rxn7808', 'rxn1661', 'rxn129', 'rxn139', 'rxn20696', 'rxn20697', 'rxn24263', 'rxn24844', 'rxn24846', 'rxn24847', 'rxn25241', 'rxn30677', 'rxn27048', 'rxn27523', 'rxn27543', 'rxn35646', 'rxn35801', 'rxn35953', 'rxn14647', 'rxn39625', 'rxn37407', 'rxn37495', 'rxn30960', 'rxn31155', 'rxn31892', 'rxn31901', 'rxn31913', 'rxn19126', 'rxn19127', 'rxn22992', 'rxn38301', 'rxn38839', 'rxn38914', 'rxn38915', 'rxn38916', 'rxn38918', 'rxn38920', 'rxn38923', 'rxn45305', 'rxn50643', 'rxn16460', 'rxn50076', 'rxn55458', 'rxn55459', 'rxn25704', 'rxn25876', 'rxn26178', 'rxn26185', 'rxn26314', 'rxn13535', 'rxn13537', 'rxn13538', 'rxn13539', 'rxn13541', 'rxn13544', 'rxn13545', 'rxn13546', 'rxn13547', 'rxn13548', 'rxn13549', 'rxn13550', 'rxn13664', 'rxn56474', 'rxn59132', 'rxn59134', 'rxn59138', 'rxn59140', 'rxn59142', 'rxn59146', 'rxn59148', 'rxn59150', 'rxn59152', 'rxn59154', 'rxn59156', 'rxn59158', 'rxn59160', 'rxn59162', 'rxn59164', 'rxn59166', 'rxn59168', 'rxn59170', 'rxn59172', 'rxn59174', 'rxn59176', 'rxn59178', 'rxn59180', 'rxn59182', 'rxn63698', 'rxn65124', 'rxn65125', 'rxn65128', 'rxn66201', 'rxn66203', 'rxn66205', 'rxn66207', 'rxn66208', 'rxn66209', 'rxn66210', 'rxn66211', 'rxn66212', 'rxn11081', 'rxn11082', 'rxn78000', 'rxn78087', 'rxn78094', 'rxn73202', 'rxn73204', 'rxn73205', 'rxn9611', 'rxn9614', 'rxn9615', 'rxn9616', 'rxn9617', 'rxn9618', 'rxn9676', 'rxn9679', 'rxn82146', 'rxn11444', 'rxn12064', 'rxn12226', 'rxn80300', 'rxn80410', 'rxn7217', 'rxn7221', 'rxn7225', 'rxn7226', 'rxn8072', 'rxn8151', 'rxn8428', 'rxn8430', 'rxn8431', 'rxn8432', 'rxn4708', 'rxn4709', 'rxn4710', 'rxn4713', 'rxn5017', 'rxn5045', 'rxn5341', 'rxn5342', 'rxn5343', 'rxn5820', 'rxn5821', 'rxn5832', 'rxn5842', 'rxn2967', 'rxn3700', 'rxn2634', 'rxn81', 'rxn82', 'rxn83', 'rxn84', 'rxn85', 'rxn587', 'rxn717', 'rxn723', 'rxn724', 'rxn726', 'rxn809', 'rxn820', 'rxn37599', 'rxn37600', 'rxn43518', 'rxn43519', 'rxn4604', 'rxn4605', 'rxn24706', 'rxn1822', 'rxn21280', 'rxn29155', 'rxn35812', 'rxn41654', 'rxn19079', 'rxn19187', 'rxn43942', 'rxn44300', 'rxn25324', 'rxn25326', 'rxn25328', 'rxn25329', 'rxn25454', 'rxn52848', 'rxn52878', 'rxn71437', 'rxn17479', 'rxn9634', 'rxn9635', 'rxn9636', 'rxn9637', 'rxn9714', 'rxn7634', 'rxn7635', 'rxn7636', 'rxn7637', 'rxn7638', 'rxn7640', 'rxn7642', 'rxn4928', 'rxn4929', 'rxn4930', 'rxn4931', 'rxn4932', 'rxn4934', 'rxn4936', 'rxn5822', 'rxn5823', 'rxn6639', 'rxn2925', 'rxn2927', 'rxn3210']\n"
     ]
    }
   ],
   "source": [
    "else_reaction = []\n",
    "\n",
    "for reaction in yeast8U_mod.reactions:\n",
    "    if 'rxn' in reaction.id:\n",
    "        tmp = {str(k.id):v for k,v in reaction.metabolites.items()}\n",
    "        if 's_0764' in tmp and tmp['s_0764']>0:     #glycerol\n",
    "            else_reaction.append(reaction.id)\n",
    "\n",
    "for reaction in yeast8U_mod.reactions:\n",
    "    if 'rxn' in reaction.id:\n",
    "        tmp = {str(k.id):v for k,v in reaction.metabolites.items()}\n",
    "        if 's_0362' in tmp and tmp['s_0362']<0:   #acetate\n",
    "            else_reaction.append(reaction.id)\n",
    "\n",
    "for reaction in yeast8U_mod.reactions:\n",
    "    if 'rxn' in reaction.id:\n",
    "        tmp = {str(k.id):v for k,v in reaction.metabolites.items()}\n",
    "        if 's_0140' in tmp and tmp['s_0140']>0:  #2,3-bisphospho-D-glyceric acid\n",
    "            else_reaction.append(reaction.id)\n",
    "\n",
    "for reaction in yeast8U_mod.reactions:\n",
    "    if 'rxn' in reaction.id:\n",
    "        tmp = {str(k.id):v for k,v in reaction.metabolites.items()}\n",
    "        if 's_0979' in tmp and tmp['s_0979']<0:  #L-citrulline\n",
    "            else_reaction.append(reaction.id)\n",
    "\n",
    "for reaction in yeast8U_mod.reactions:\n",
    "    if 'rxn' in reaction.id:\n",
    "        tmp = {str(k.id):v for k,v in reaction.metabolites.items()}\n",
    "        if 's_0373' in tmp and tmp['s_0373']>0:  #acetyl-CoA\n",
    "            else_reaction.append(reaction.id)\n",
    "\n",
    "print(len(else_reaction))\n",
    "print(else_reaction)"
   ]
  },
  {
   "cell_type": "markdown",
   "metadata": {},
   "source": [
    "# Calculate growth after preliminary screening"
   ]
  },
  {
   "cell_type": "code",
   "execution_count": 19,
   "metadata": {},
   "outputs": [],
   "source": [
    "reaction_id = []\n",
    "for i in yeast8U_mod.reactions:\n",
    "    if 'rxn' in i.id:\n",
    "        i.bounds = (0,0)\n",
    "        reaction_id.append(i.id)\n",
    "\n",
    "reaction_id = [x for x in reaction_id if x not in biomass_up_reaction]\n",
    "reaction_id = [x for x in reaction_id if x not in atp_reaction]\n",
    "reaction_id = [x for x in reaction_id if x not in atp_sim_reaction]\n",
    "reaction_id = [x for x in reaction_id if x not in co2_reaction]\n",
    "reaction_id = [x for x in reaction_id if x not in o2_reaction]\n",
    "reaction_id = [x for x in reaction_id if x not in nadph_reaction]\n",
    "reaction_id = [x for x in reaction_id if x not in yeast8_atp]\n",
    "reaction_id = [x for x in reaction_id if x not in else_reaction]\n",
    "\n",
    "\n",
    "# for seed_num in range(20,40):\n",
    "#     random.seed(seed_num)\n",
    "#     random.shuffle(reaction_id)\n",
    "#     with yeast8U_mod:\n",
    "#         error_reaction_4 = []\n",
    "#         for i in tqdm(reaction_id):\n",
    "#             reaction = yeast8U_mod.reactions.get_by_id(i)\n",
    "#             if 'rxn' in reaction.id:\n",
    "#                 reaction.bounds = (0,1000)\n",
    "#                 yeast8U_mod.solver = 'gurobi'\n",
    "#                 yeast8U_mod.optimize()\n",
    "#                 if yeast8U_mod.reactions.get_by_id('r_2111').flux > 0.1:\n",
    "#                     reaction.bounds = (0,0)\n",
    "#                     error_reaction_4.append(reaction.id)\n",
    "#         print(seed_num,len(error_reaction_4))\n",
    "#     # Store the list in a binary file\n",
    "#     filename = error_reaction_path + 'error_reaction_random'+str(seed_num)+'.pkl'\n",
    "#     with open(filename, 'wb') as file:\n",
    "#         pickle.dump(error_reaction_4, file)"
   ]
  },
  {
   "cell_type": "code",
   "execution_count": 21,
   "metadata": {},
   "outputs": [
    {
     "name": "stderr",
     "output_type": "stream",
     "text": [
      "  0%|          | 0/20 [00:00<?, ?it/s]"
     ]
    },
    {
     "name": "stdout",
     "output_type": "stream",
     "text": [
      "Read LP format model from file /tmp/tmpcslg98q6.lp\n",
      "Reading time = 0.04 seconds\n",
      ": 3261 rows, 21742 columns, 99128 nonzeros\n",
      "Read LP format model from file /tmp/tmpmupu50p5.lp\n",
      "Reading time = 0.04 seconds\n",
      ": 3261 rows, 21742 columns, 99128 nonzeros\n",
      "Read LP format model from file /tmp/tmpgof_l_cl.lp\n",
      "Reading time = 0.06 seconds\n",
      ": 3261 rows, 21742 columns, 99128 nonzeros\n",
      "Read LP format model from file /tmp/tmpidsvjxvr.lp\n",
      "Reading time = 0.04 seconds\n",
      ": 3261 rows, 21742 columns, 99128 nonzeros\n",
      "Read LP format model from file /tmp/tmpa4e507wn.lp\n",
      "Reading time = 0.04 seconds\n",
      ": 3261 rows, 21742 columns, 99128 nonzeros\n",
      "Read LP format model from file /tmp/tmpudyjqixg.lp\n",
      "Reading time = 0.04 seconds\n",
      ": 3261 rows, 21742 columns, 99128 nonzeros\n",
      "Read LP format model from file /tmp/tmpvhszsni7.lp\n",
      "Reading time = 0.04 seconds\n",
      ": 3261 rows, 21742 columns, 99128 nonzeros\n",
      "Read LP format model from file /tmp/tmpvm396v19.lp\n",
      "Reading time = 0.04 seconds\n",
      ": 3261 rows, 21742 columns, 99128 nonzeros\n",
      "Read LP format model from file /tmp/tmp84e70ylv.lp\n",
      "Reading time = 0.04 seconds\n",
      ": 3261 rows, 21742 columns, 99128 nonzeros\n",
      "Read LP format model from file /tmp/tmp7ctwjnvg.lp\n",
      "Reading time = 0.04 seconds\n",
      ": 3261 rows, 21742 columns, 99128 nonzeros\n",
      "Read LP format model from file /tmp/tmpd2weo9c2.lp\n",
      "Reading time = 0.04 seconds\n",
      ": 3261 rows, 21742 columns, 99128 nonzeros\n",
      "Read LP format model from file /tmp/tmpoih5zyqh.lp\n",
      "Reading time = 0.04 seconds\n",
      ": 3261 rows, 21742 columns, 99128 nonzeros\n",
      "Read LP format model from file /tmp/tmpk5g5sw06.lp\n",
      "Reading time = 0.04 seconds\n",
      ": 3261 rows, 21742 columns, 99128 nonzeros\n",
      "Read LP format model from file /tmp/tmpwezx8qdq.lp\n",
      "Reading time = 0.04 seconds\n",
      ": 3261 rows, 21742 columns, 99128 nonzeros\n",
      "Read LP format model from file /tmp/tmp2uh6_wu3.lp\n",
      "Reading time = 0.04 seconds\n",
      ": 3261 rows, 21742 columns, 99128 nonzeros\n",
      "Read LP format model from file /tmp/tmplr8jm19p.lp\n",
      "Reading time = 0.04 seconds\n",
      ": 3261 rows, 21742 columns, 99128 nonzeros\n",
      "Read LP format model from file /tmp/tmpfhvaqxjo.lp\n",
      "Reading time = 0.04 seconds\n",
      ": 3261 rows, 21742 columns, 99128 nonzeros\n",
      "Read LP format model from file /tmp/tmpazgn4sni.lp\n",
      "Reading time = 0.04 seconds\n",
      ": 3261 rows, 21742 columns, 99128 nonzeros\n"
     ]
    },
    {
     "name": "stderr",
     "output_type": "stream",
     "text": [
      "  0%|          | 2/3444 [00:00<17:10,  3.34it/s]"
     ]
    },
    {
     "name": "stdout",
     "output_type": "stream",
     "text": [
      "Read LP format model from file /tmp/tmpu40r24fc.lp\n",
      "Reading time = 0.04 seconds\n",
      ": 3261 rows, 21742 columns, 99128 nonzeros\n"
     ]
    },
    {
     "name": "stderr",
     "output_type": "stream",
     "text": [
      "  0%|          | 14/3444 [00:01<06:27,  8.85it/s]"
     ]
    },
    {
     "name": "stdout",
     "output_type": "stream",
     "text": [
      "Read LP format model from file /tmp/tmppto4g37u.lp\n",
      "Reading time = 0.04 seconds\n",
      ": 3261 rows, 21742 columns, 99128 nonzeros\n"
     ]
    },
    {
     "name": "stderr",
     "output_type": "stream",
     "text": [
      "100%|██████████| 3444/3444 [06:10<00:00,  9.29it/s]\n"
     ]
    },
    {
     "name": "stdout",
     "output_type": "stream",
     "text": [
      "31 67"
     ]
    },
    {
     "name": "stderr",
     "output_type": "stream",
     "text": [
      " 76%|███████▌  | 2624/3444 [04:59<01:31,  8.93it/s]"
     ]
    },
    {
     "name": "stdout",
     "output_type": "stream",
     "text": [
      "\n"
     ]
    },
    {
     "name": "stderr",
     "output_type": "stream",
     "text": [
      "100%|██████████| 3444/3444 [06:24<00:00,  8.96it/s]\n"
     ]
    },
    {
     "name": "stdout",
     "output_type": "stream",
     "text": [
      "23 86\n"
     ]
    },
    {
     "name": "stderr",
     "output_type": "stream",
     "text": [
      "100%|██████████| 3444/3444 [06:34<00:00,  8.73it/s]\n"
     ]
    },
    {
     "name": "stdout",
     "output_type": "stream",
     "text": [
      "27 "
     ]
    },
    {
     "name": "stderr",
     "output_type": "stream",
     "text": [
      " 98%|█████████▊| 3368/3444 [06:00<00:07, 10.29it/s]"
     ]
    },
    {
     "name": "stdout",
     "output_type": "stream",
     "text": [
      "119\n"
     ]
    },
    {
     "name": "stderr",
     "output_type": "stream",
     "text": [
      "100%|██████████| 3444/3444 [06:24<00:00,  8.96it/s]\n"
     ]
    },
    {
     "name": "stdout",
     "output_type": "stream",
     "text": [
      "35 71\n"
     ]
    },
    {
     "name": "stderr",
     "output_type": "stream",
     "text": [
      "100%|██████████| 3444/3444 [06:26<00:00,  8.90it/s]\n"
     ]
    },
    {
     "name": "stdout",
     "output_type": "stream",
     "text": [
      "29 87\n"
     ]
    },
    {
     "name": "stderr",
     "output_type": "stream",
     "text": [
      "100%|██████████| 3444/3444 [06:20<00:00,  9.05it/s]\n"
     ]
    },
    {
     "name": "stdout",
     "output_type": "stream",
     "text": [
      "38 80\n"
     ]
    },
    {
     "name": "stderr",
     "output_type": "stream",
     "text": [
      "100%|██████████| 3444/3444 [06:08<00:00,  9.33it/s]\n"
     ]
    },
    {
     "name": "stdout",
     "output_type": "stream",
     "text": [
      "32"
     ]
    },
    {
     "name": "stderr",
     "output_type": "stream",
     "text": [
      " 90%|████████▉ | 3083/3444 [05:51<00:38,  9.49it/s]"
     ]
    },
    {
     "name": "stdout",
     "output_type": "stream",
     "text": [
      " 104\n"
     ]
    },
    {
     "name": "stderr",
     "output_type": "stream",
     "text": [
      "100%|██████████| 3444/3444 [06:29<00:00,  8.84it/s]\n"
     ]
    },
    {
     "name": "stdout",
     "output_type": "stream",
     "text": [
      "24 114\n"
     ]
    },
    {
     "name": "stderr",
     "output_type": "stream",
     "text": [
      "100%|██████████| 3444/3444 [06:21<00:00,  9.03it/s]\n"
     ]
    },
    {
     "name": "stdout",
     "output_type": "stream",
     "text": [
      "21 89\n"
     ]
    },
    {
     "name": "stderr",
     "output_type": "stream",
     "text": [
      "100%|██████████| 3444/3444 [06:53<00:00,  8.33it/s]\n"
     ]
    },
    {
     "name": "stdout",
     "output_type": "stream",
     "text": [
      "36 75\n"
     ]
    },
    {
     "name": "stderr",
     "output_type": "stream",
     "text": [
      "100%|██████████| 3444/3444 [06:23<00:00,  8.98it/s]\n"
     ]
    },
    {
     "name": "stdout",
     "output_type": "stream",
     "text": [
      "39 53\n"
     ]
    },
    {
     "name": "stderr",
     "output_type": "stream",
     "text": [
      "100%|██████████| 3444/3444 [06:36<00:00,  8.69it/s]\n"
     ]
    },
    {
     "name": "stdout",
     "output_type": "stream",
     "text": [
      "22 61\n"
     ]
    },
    {
     "name": "stderr",
     "output_type": "stream",
     "text": [
      "100%|██████████| 3444/3444 [06:36<00:00,  8.68it/s]\n"
     ]
    },
    {
     "name": "stdout",
     "output_type": "stream",
     "text": [
      "33 101\n"
     ]
    },
    {
     "name": "stderr",
     "output_type": "stream",
     "text": [
      "100%|██████████| 3444/3444 [06:36<00:00,  8.69it/s]\n"
     ]
    },
    {
     "name": "stdout",
     "output_type": "stream",
     "text": [
      "34 48\n"
     ]
    },
    {
     "name": "stderr",
     "output_type": "stream",
     "text": [
      "100%|██████████| 3444/3444 [06:29<00:00,  8.85it/s]\n"
     ]
    },
    {
     "name": "stdout",
     "output_type": "stream",
     "text": [
      "30 75\n"
     ]
    },
    {
     "name": "stderr",
     "output_type": "stream",
     "text": [
      "100%|██████████| 3444/3444 [06:57<00:00,  8.25it/s]\n"
     ]
    },
    {
     "name": "stdout",
     "output_type": "stream",
     "text": [
      "20 57\n"
     ]
    },
    {
     "name": "stderr",
     "output_type": "stream",
     "text": [
      "100%|██████████| 3444/3444 [06:39<00:00,  8.62it/s]\n"
     ]
    },
    {
     "name": "stdout",
     "output_type": "stream",
     "text": [
      "26 107\n"
     ]
    },
    {
     "name": "stderr",
     "output_type": "stream",
     "text": [
      "100%|██████████| 3444/3444 [06:35<00:00,  8.70it/s]\n"
     ]
    },
    {
     "name": "stdout",
     "output_type": "stream",
     "text": [
      "25 136\n"
     ]
    },
    {
     "name": "stderr",
     "output_type": "stream",
     "text": [
      "100%|██████████| 3444/3444 [07:51<00:00,  7.31it/s]\n"
     ]
    },
    {
     "name": "stdout",
     "output_type": "stream",
     "text": [
      "28 148\n"
     ]
    },
    {
     "name": "stderr",
     "output_type": "stream",
     "text": [
      "100%|██████████| 3444/3444 [06:40<00:00,  8.60it/s]\n"
     ]
    },
    {
     "name": "stdout",
     "output_type": "stream",
     "text": [
      "37 84\n"
     ]
    },
    {
     "name": "stderr",
     "output_type": "stream",
     "text": [
      "100%|██████████| 20/20 [22:30<00:00, 67.50s/it]   \n"
     ]
    }
   ],
   "source": [
    "\n",
    "\n",
    "def process_seed(args):\n",
    "    seed_num, reaction_id, yeast8U_mod, error_reaction_path = args\n",
    "    random.seed(seed_num)\n",
    "    random.shuffle(reaction_id)\n",
    "    with yeast8U_mod:\n",
    "        error_reaction_4 = []\n",
    "        for i in tqdm(reaction_id):\n",
    "            reaction = yeast8U_mod.reactions.get_by_id(i)\n",
    "            if 'rxn' in reaction.id:\n",
    "                reaction.bounds = (0, 1000)\n",
    "                yeast8U_mod.solver = 'gurobi'\n",
    "                yeast8U_mod.optimize()\n",
    "                if yeast8U_mod.reactions.get_by_id('r_2111').flux > 0.09:\n",
    "                    reaction.bounds = (0, 0)\n",
    "                    error_reaction_4.append(reaction.id)\n",
    "        print(seed_num, len(error_reaction_4))\n",
    "    # Store the list in a binary file\n",
    "    filename = error_reaction_path + 'error_reaction_random' + str(seed_num) + '.pkl'\n",
    "    if not os.path.exists(error_reaction_path):\n",
    "        os.makedirs(error_reaction_path)\n",
    "    with open(filename, 'wb') as file:\n",
    "        pickle.dump(error_reaction_4, file)\n",
    "\n",
    "\n",
    "\n",
    "if __name__ == '__main__':\n",
    "    with Pool(20) as pool:\n",
    "        args = [(seed_num, reaction_id, yeast8U_mod, error_reaction_path) for seed_num in range(20, 40)]\n",
    "        results = list(tqdm(pool.imap(process_seed, args), total=len(args)))"
   ]
  },
  {
   "cell_type": "markdown",
   "metadata": {},
   "source": [
    "# Select and delete the pkl file with the fewest reactions"
   ]
  },
  {
   "cell_type": "code",
   "execution_count": 22,
   "metadata": {},
   "outputs": [
    {
     "name": "stdout",
     "output_type": "stream",
     "text": [
      "error_reaction_random34.pkl\n",
      "Loaded data length: 48\n"
     ]
    }
   ],
   "source": [
    "# error_reaction_path = \"../../Results/not_lipid/top50_0.3/error_reaction_random/\"\n",
    "files = os.listdir(error_reaction_path)\n",
    "\n",
    "# Find the file with the minimum error_reaction\n",
    "min_error_reaction = 1000\n",
    "min_error_reaction_file = None\n",
    "\n",
    "for file in files:\n",
    "    file_path = os.path.join(error_reaction_path, file)\n",
    "    with open(file_path, 'rb') as f:\n",
    "        error_reaction_data = pickle.load(f)\n",
    "        if len(error_reaction_data) < min_error_reaction:\n",
    "            min_error_reaction = len(error_reaction_data)\n",
    "            min_error_reaction_file = file  # Store the file name\n",
    "\n",
    "print(min_error_reaction_file)\n",
    "\n",
    "\n",
    "file_path = os.path.join(error_reaction_path, min_error_reaction_file)\n",
    "with open(file_path, 'rb') as f:\n",
    "    error_reaction_data = pickle.load(f)\n",
    "print(f\"Loaded data length: {len(error_reaction_data)}\")\n"
   ]
  },
  {
   "cell_type": "code",
   "execution_count": 23,
   "metadata": {},
   "outputs": [
    {
     "data": {
      "text/plain": [
       "['rxn11226',\n",
       " 'rxn6183',\n",
       " 'rxn44080',\n",
       " 'rxn1488',\n",
       " 'rxn13374',\n",
       " 'rxn12112',\n",
       " 'rxn65612',\n",
       " 'rxn2712',\n",
       " 'rxn1670',\n",
       " 'rxn2961',\n",
       " 'rxn11997',\n",
       " 'rxn24304',\n",
       " 'rxn38832',\n",
       " 'rxn3535',\n",
       " 'rxn70098',\n",
       " 'rxn21568',\n",
       " 'rxn1489',\n",
       " 'rxn45922',\n",
       " 'rxn6191',\n",
       " 'rxn11556',\n",
       " 'rxn566',\n",
       " 'rxn11166',\n",
       " 'rxn52860',\n",
       " 'rxn40192',\n",
       " 'rxn25539',\n",
       " 'rxn27478',\n",
       " 'rxn2231',\n",
       " 'rxn11186',\n",
       " 'rxn7809',\n",
       " 'rxn45913',\n",
       " 'rxn45915',\n",
       " 'rxn25475',\n",
       " 'rxn14067',\n",
       " 'rxn5927',\n",
       " 'rxn22936',\n",
       " 'rxn68634',\n",
       " 'rxn167',\n",
       " 'rxn11106',\n",
       " 'rxn26933',\n",
       " 'rxn83810',\n",
       " 'rxn11126',\n",
       " 'rxn5792',\n",
       " 'rxn3147',\n",
       " 'rxn70096',\n",
       " 'rxn846',\n",
       " 'rxn34014',\n",
       " 'rxn31540',\n",
       " 'rxn2950']"
      ]
     },
     "execution_count": 23,
     "metadata": {},
     "output_type": "execute_result"
    }
   ],
   "source": [
    "error_reaction_data"
   ]
  },
  {
   "cell_type": "code",
   "execution_count": 24,
   "metadata": {},
   "outputs": [
    {
     "name": "stdout",
     "output_type": "stream",
     "text": [
      "4023\n",
      "3344\n"
     ]
    }
   ],
   "source": [
    "del_reaction_lst = biomass_up_reaction + atp_reaction + atp_sim_reaction + co2_reaction + o2_reaction + nadph_reaction + yeast8_atp + else_reaction + error_reaction_data\n",
    "print(len(del_reaction_lst))\n",
    "del_reaction_lst = list(set(del_reaction_lst))\n",
    "print(len(del_reaction_lst))"
   ]
  },
  {
   "cell_type": "code",
   "execution_count": 25,
   "metadata": {},
   "outputs": [
    {
     "data": {
      "text/plain": [
       "['rxn11140',\n",
       " 'rxn2496',\n",
       " 'rxn24645',\n",
       " 'rxn2355',\n",
       " 'rxn63760',\n",
       " 'rxn17289',\n",
       " 'rxn2854',\n",
       " 'rxn15558',\n",
       " 'rxn8011',\n",
       " 'rxn4040',\n",
       " 'rxn4708',\n",
       " 'rxn72959',\n",
       " 'rxn78094',\n",
       " 'rxn4116',\n",
       " 'rxn68186',\n",
       " 'rxn81414',\n",
       " 'rxn1258',\n",
       " 'rxn6773',\n",
       " 'rxn30425',\n",
       " 'rxn13493',\n",
       " 'rxn62372',\n",
       " 'rxn1701',\n",
       " 'rxn11186',\n",
       " 'rxn11155',\n",
       " 'rxn5844',\n",
       " 'rxn20861',\n",
       " 'rxn64119',\n",
       " 'rxn24947',\n",
       " 'rxn73007',\n",
       " 'rxn52240',\n",
       " 'rxn33555',\n",
       " 'rxn24786',\n",
       " 'rxn26104',\n",
       " 'rxn2422',\n",
       " 'rxn27298',\n",
       " 'rxn80506',\n",
       " 'rxn27379',\n",
       " 'rxn3655',\n",
       " 'rxn2367',\n",
       " 'rxn2536',\n",
       " 'rxn13464',\n",
       " 'rxn12130',\n",
       " 'rxn29316',\n",
       " 'rxn1473',\n",
       " 'rxn4713',\n",
       " 'rxn2534',\n",
       " 'rxn21105',\n",
       " 'rxn79906',\n",
       " 'rxn74686',\n",
       " 'rxn29044',\n",
       " 'rxn4931',\n",
       " 'rxn27478',\n",
       " 'rxn633',\n",
       " 'rxn38915',\n",
       " 'rxn15395',\n",
       " 'rxn24511',\n",
       " 'rxn26100',\n",
       " 'rxn11193',\n",
       " 'rxn12609',\n",
       " 'rxn6763',\n",
       " 'rxn504',\n",
       " 'rxn17408',\n",
       " 'rxn5583',\n",
       " 'rxn24657',\n",
       " 'rxn2077',\n",
       " 'rxn83810',\n",
       " 'rxn531',\n",
       " 'rxn51667',\n",
       " 'rxn48214',\n",
       " 'rxn17180',\n",
       " 'rxn80567',\n",
       " 'rxn15529',\n",
       " 'rxn54621',\n",
       " 'rxn24537',\n",
       " 'rxn522',\n",
       " 'rxn2421',\n",
       " 'rxn11224',\n",
       " 'rxn54599',\n",
       " 'rxn52316',\n",
       " 'rxn18908',\n",
       " 'rxn731',\n",
       " 'rxn4491',\n",
       " 'rxn66239',\n",
       " 'rxn54591',\n",
       " 'rxn8245',\n",
       " 'rxn519',\n",
       " 'rxn8126',\n",
       " 'rxn606',\n",
       " 'rxn13135',\n",
       " 'rxn4932',\n",
       " 'rxn48263',\n",
       " 'rxn569',\n",
       " 'rxn54623',\n",
       " 'rxn48233',\n",
       " 'rxn33594',\n",
       " 'rxn74796',\n",
       " 'rxn37913',\n",
       " 'rxn66210',\n",
       " 'rxn48216',\n",
       " 'rxn28704',\n",
       " 'rxn52246',\n",
       " 'rxn498',\n",
       " 'rxn3308',\n",
       " 'rxn52282',\n",
       " 'rxn973',\n",
       " 'rxn18882',\n",
       " 'rxn3503',\n",
       " 'rxn26095',\n",
       " 'rxn27364',\n",
       " 'rxn18864',\n",
       " 'rxn52299',\n",
       " 'rxn4307',\n",
       " 'rxn44676',\n",
       " 'rxn8246',\n",
       " 'rxn80598',\n",
       " 'rxn66221',\n",
       " 'rxn1368',\n",
       " 'rxn5835',\n",
       " 'rxn1311',\n",
       " 'rxn11164',\n",
       " 'rxn59164',\n",
       " 'rxn691',\n",
       " 'rxn11550',\n",
       " 'rxn48288',\n",
       " 'rxn29100',\n",
       " 'rxn100',\n",
       " 'rxn46701',\n",
       " 'rxn491',\n",
       " 'rxn52876',\n",
       " 'rxn2613',\n",
       " 'rxn638',\n",
       " 'rxn54620',\n",
       " 'rxn31901',\n",
       " 'rxn20206',\n",
       " 'rxn52369',\n",
       " 'rxn13437',\n",
       " 'rxn6183',\n",
       " 'rxn28703',\n",
       " 'rxn204',\n",
       " 'rxn24740',\n",
       " 'rxn36977',\n",
       " 'rxn2851',\n",
       " 'rxn8215',\n",
       " 'rxn529',\n",
       " 'rxn4308',\n",
       " 'rxn66177',\n",
       " 'rxn52366',\n",
       " 'rxn37223',\n",
       " 'rxn3276',\n",
       " 'rxn5831',\n",
       " 'rxn52874',\n",
       " 'rxn26085',\n",
       " 'rxn23740',\n",
       " 'rxn48250',\n",
       " 'rxn28721',\n",
       " 'rxn3334',\n",
       " 'rxn1246',\n",
       " 'rxn74710',\n",
       " 'rxn534',\n",
       " 'rxn80378',\n",
       " 'rxn36245',\n",
       " 'rxn5820',\n",
       " 'rxn54513',\n",
       " 'rxn17781',\n",
       " 'rxn38626',\n",
       " 'rxn3259',\n",
       " 'rxn8042',\n",
       " 'rxn625',\n",
       " 'rxn657',\n",
       " 'rxn1670',\n",
       " 'rxn12741',\n",
       " 'rxn5726',\n",
       " 'rxn26045',\n",
       " 'rxn74741',\n",
       " 'rxn13503',\n",
       " 'rxn26380',\n",
       " 'rxn549',\n",
       " 'rxn11542',\n",
       " 'rxn36980',\n",
       " 'rxn52315',\n",
       " 'rxn6829',\n",
       " 'rxn37235',\n",
       " 'rxn951',\n",
       " 'rxn38831',\n",
       " 'rxn30735',\n",
       " 'rxn17148',\n",
       " 'rxn9732',\n",
       " 'rxn636',\n",
       " 'rxn65124',\n",
       " 'rxn33939',\n",
       " 'rxn59882',\n",
       " 'rxn7640',\n",
       " 'rxn18906',\n",
       " 'rxn626',\n",
       " 'rxn79802',\n",
       " 'rxn74679',\n",
       " 'rxn15538',\n",
       " 'rxn7634',\n",
       " 'rxn26119',\n",
       " 'rxn855',\n",
       " 'rxn66147',\n",
       " 'rxn65120',\n",
       " 'rxn27543',\n",
       " 'rxn22777',\n",
       " 'rxn22600',\n",
       " 'rxn27308',\n",
       " 'rxn616',\n",
       " 'rxn52262',\n",
       " 'rxn38405',\n",
       " 'rxn6715',\n",
       " 'rxn5051',\n",
       " 'rxn36246',\n",
       " 'rxn18874',\n",
       " 'rxn26040',\n",
       " 'rxn27539',\n",
       " 'rxn42737',\n",
       " 'rxn11178',\n",
       " 'rxn39408',\n",
       " 'rxn24790',\n",
       " 'rxn6783',\n",
       " 'rxn66135',\n",
       " 'rxn6775',\n",
       " 'rxn11219',\n",
       " 'rxn13596',\n",
       " 'rxn2807',\n",
       " 'rxn13586',\n",
       " 'rxn25997',\n",
       " 'rxn27306',\n",
       " 'rxn30909',\n",
       " 'rxn26038',\n",
       " 'rxn7638',\n",
       " 'rxn25971',\n",
       " 'rxn17119',\n",
       " 'rxn24735',\n",
       " 'rxn15012',\n",
       " 'rxn4179',\n",
       " 'rxn2371',\n",
       " 'rxn80786',\n",
       " 'rxn73102',\n",
       " 'rxn3889',\n",
       " 'rxn74663',\n",
       " 'rxn48270',\n",
       " 'rxn9676',\n",
       " 'rxn17253',\n",
       " 'rxn52253',\n",
       " 'rxn51677',\n",
       " 'rxn4811',\n",
       " 'rxn17240',\n",
       " 'rxn1600',\n",
       " 'rxn4322',\n",
       " 'rxn689',\n",
       " 'rxn514',\n",
       " 'rxn79864',\n",
       " 'rxn33576',\n",
       " 'rxn15494',\n",
       " 'rxn18876',\n",
       " 'rxn7217',\n",
       " 'rxn168',\n",
       " 'rxn53127',\n",
       " 'rxn1603',\n",
       " 'rxn38920',\n",
       " 'rxn29026',\n",
       " 'rxn27386',\n",
       " 'rxn12909',\n",
       " 'rxn1340',\n",
       " 'rxn21633',\n",
       " 'rxn481',\n",
       " 'rxn18890',\n",
       " 'rxn66186',\n",
       " 'rxn28702',\n",
       " 'rxn556',\n",
       " 'rxn74662',\n",
       " 'rxn4358',\n",
       " 'rxn32870',\n",
       " 'rxn44300',\n",
       " 'rxn948',\n",
       " 'rxn17169',\n",
       " 'rxn73067',\n",
       " 'rxn2826',\n",
       " 'rxn1621',\n",
       " 'rxn4331',\n",
       " 'rxn25943',\n",
       " 'rxn3499',\n",
       " 'rxn2506',\n",
       " 'rxn74697',\n",
       " 'rxn24650',\n",
       " 'rxn1284',\n",
       " 'rxn28226',\n",
       " 'rxn12608',\n",
       " 'rxn25704',\n",
       " 'rxn94',\n",
       " 'rxn3330',\n",
       " 'rxn36979',\n",
       " 'rxn66195',\n",
       " 'rxn56569',\n",
       " 'rxn7214',\n",
       " 'rxn2351',\n",
       " 'rxn52212',\n",
       " 'rxn52328',\n",
       " 'rxn12914',\n",
       " 'rxn79895',\n",
       " 'rxn6860',\n",
       " 'rxn13452',\n",
       " 'rxn54559',\n",
       " 'rxn11393',\n",
       " 'rxn51307',\n",
       " 'rxn13541',\n",
       " 'rxn31540',\n",
       " 'rxn15429',\n",
       " 'rxn74678',\n",
       " 'rxn6792',\n",
       " 'rxn24796',\n",
       " 'rxn52243',\n",
       " 'rxn26079',\n",
       " 'rxn74644',\n",
       " 'rxn22792',\n",
       " 'rxn17303',\n",
       " 'rxn1452',\n",
       " 'rxn74712',\n",
       " 'rxn24785',\n",
       " 'rxn81099',\n",
       " 'rxn54546',\n",
       " 'rxn45915',\n",
       " 'rxn74732',\n",
       " 'rxn3302',\n",
       " 'rxn1271',\n",
       " 'rxn22454',\n",
       " 'rxn65119',\n",
       " 'rxn12607',\n",
       " 'rxn30677',\n",
       " 'rxn6865',\n",
       " 'rxn79918',\n",
       " 'rxn18872',\n",
       " 'rxn5941',\n",
       " 'rxn24823',\n",
       " 'rxn12915',\n",
       " 'rxn17404',\n",
       " 'rxn79883',\n",
       " 'rxn66137',\n",
       " 'rxn27295',\n",
       " 'rxn26061',\n",
       " 'rxn13433',\n",
       " 'rxn8109',\n",
       " 'rxn24656',\n",
       " 'rxn17168',\n",
       " 'rxn52247',\n",
       " 'rxn4556',\n",
       " 'rxn7510',\n",
       " 'rxn13892',\n",
       " 'rxn51674',\n",
       " 'rxn27529',\n",
       " 'rxn52848',\n",
       " 'rxn99',\n",
       " 'rxn13482',\n",
       " 'rxn13544',\n",
       " 'rxn21098',\n",
       " 'rxn8212',\n",
       " 'rxn541',\n",
       " 'rxn17194',\n",
       " 'rxn68262',\n",
       " 'rxn6155',\n",
       " 'rxn17592',\n",
       " 'rxn38918',\n",
       " 'rxn26037',\n",
       " 'rxn13643',\n",
       " 'rxn17181',\n",
       " 'rxn5719',\n",
       " 'rxn73010',\n",
       " 'rxn54605',\n",
       " 'rxn15524',\n",
       " 'rxn36404',\n",
       " 'rxn80757',\n",
       " 'rxn52881',\n",
       " 'rxn5662',\n",
       " 'rxn6875',\n",
       " 'rxn78000',\n",
       " 'rxn69536',\n",
       " 'rxn52231',\n",
       " 'rxn13501',\n",
       " 'rxn48955',\n",
       " 'rxn80753',\n",
       " 'rxn686',\n",
       " 'rxn13476',\n",
       " 'rxn13099',\n",
       " 'rxn28725',\n",
       " 'rxn37843',\n",
       " 'rxn65143',\n",
       " 'rxn15461',\n",
       " 'rxn32932',\n",
       " 'rxn5838',\n",
       " 'rxn24756',\n",
       " 'rxn64111',\n",
       " 'rxn36416',\n",
       " 'rxn54610',\n",
       " 'rxn2418',\n",
       " 'rxn24792',\n",
       " 'rxn29023',\n",
       " 'rxn1468',\n",
       " 'rxn73083',\n",
       " 'rxn28711',\n",
       " 'rxn1329',\n",
       " 'rxn74699',\n",
       " 'rxn80576',\n",
       " 'rxn27515',\n",
       " 'rxn28706',\n",
       " 'rxn79924',\n",
       " 'rxn44080',\n",
       " 'rxn25241',\n",
       " 'rxn24733',\n",
       " 'rxn13471',\n",
       " 'rxn53122',\n",
       " 'rxn27048',\n",
       " 'rxn26093',\n",
       " 'rxn65135',\n",
       " 'rxn6767',\n",
       " 'rxn74744',\n",
       " 'rxn4354',\n",
       " 'rxn15087',\n",
       " 'rxn1646',\n",
       " 'rxn36415',\n",
       " 'rxn24543',\n",
       " 'rxn66244',\n",
       " 'rxn28056',\n",
       " 'rxn7636',\n",
       " 'rxn25941',\n",
       " 'rxn17222',\n",
       " 'rxn8428',\n",
       " 'rxn20697',\n",
       " 'rxn11234',\n",
       " 'rxn5883',\n",
       " 'rxn52318',\n",
       " 'rxn6760',\n",
       " 'rxn5341',\n",
       " 'rxn3211',\n",
       " 'rxn24652',\n",
       " 'rxn54613',\n",
       " 'rxn25539',\n",
       " 'rxn11478',\n",
       " 'rxn24729',\n",
       " 'rxn2617',\n",
       " 'rxn46129',\n",
       " 'rxn5832',\n",
       " 'rxn71048',\n",
       " 'rxn74773',\n",
       " 'rxn52268',\n",
       " 'rxn544',\n",
       " 'rxn9636',\n",
       " 'rxn28713',\n",
       " 'rxn68263',\n",
       " 'rxn36390',\n",
       " 'rxn6836',\n",
       " 'rxn26022',\n",
       " 'rxn25999',\n",
       " 'rxn52310',\n",
       " 'rxn32887',\n",
       " 'rxn73057',\n",
       " 'rxn38898',\n",
       " 'rxn1220',\n",
       " 'rxn69574',\n",
       " 'rxn2834',\n",
       " 'rxn48954',\n",
       " 'rxn82749',\n",
       " 'rxn22399',\n",
       " 'rxn26082',\n",
       " 'rxn81231',\n",
       " 'rxn17151',\n",
       " 'rxn63699',\n",
       " 'rxn11798',\n",
       " 'rxn532',\n",
       " 'rxn7808',\n",
       " 'rxn853',\n",
       " 'rxn8870',\n",
       " 'rxn17479',\n",
       " 'rxn50712',\n",
       " 'rxn600',\n",
       " 'rxn27055',\n",
       " 'rxn12908',\n",
       " 'rxn54514',\n",
       " 'rxn24536',\n",
       " 'rxn24836',\n",
       " 'rxn1245',\n",
       " 'rxn48278',\n",
       " 'rxn73202',\n",
       " 'rxn34248',\n",
       " 'rxn13445',\n",
       " 'rxn6156',\n",
       " 'rxn3212',\n",
       " 'rxn26060',\n",
       " 'rxn81248',\n",
       " 'rxn693',\n",
       " 'rxn25640',\n",
       " 'rxn11397',\n",
       " 'rxn3739',\n",
       " 'rxn24643',\n",
       " 'rxn1254',\n",
       " 'rxn24655',\n",
       " 'rxn507',\n",
       " 'rxn17747',\n",
       " 'rxn24634',\n",
       " 'rxn17209',\n",
       " 'rxn15448',\n",
       " 'rxn7149',\n",
       " 'rxn15473',\n",
       " 'rxn4330',\n",
       " 'rxn5842',\n",
       " 'rxn80752',\n",
       " 'rxn6668',\n",
       " 'rxn5976',\n",
       " 'rxn17142',\n",
       " 'rxn79908',\n",
       " 'rxn15518',\n",
       " 'rxn2828',\n",
       " 'rxn46536',\n",
       " 'rxn24838',\n",
       " 'rxn59168',\n",
       " 'rxn4314',\n",
       " 'rxn28726',\n",
       " 'rxn2832',\n",
       " 'rxn13554',\n",
       " 'rxn48661',\n",
       " 'rxn66163',\n",
       " 'rxn80582',\n",
       " 'rxn5836',\n",
       " 'rxn66234',\n",
       " 'rxn5839',\n",
       " 'rxn66236',\n",
       " 'rxn73093',\n",
       " 'rxn4359',\n",
       " 'rxn4320',\n",
       " 'rxn12683',\n",
       " 'rxn25944',\n",
       " 'rxn198',\n",
       " 'rxn8218',\n",
       " 'rxn15556',\n",
       " 'rxn902',\n",
       " 'rxn79923',\n",
       " 'rxn66164',\n",
       " 'rxn17120',\n",
       " 'rxn11198',\n",
       " 'rxn51680',\n",
       " 'rxn5723',\n",
       " 'rxn78459',\n",
       " 'rxn2411',\n",
       " 'rxn3305',\n",
       " 'rxn24661',\n",
       " 'rxn1269',\n",
       " 'rxn73005',\n",
       " 'rxn174',\n",
       " 'rxn34818',\n",
       " 'rxn3346',\n",
       " 'rxn39078',\n",
       " 'rxn11214',\n",
       " 'rxn27313',\n",
       " 'rxn35831',\n",
       " 'rxn3335',\n",
       " 'rxn23367',\n",
       " 'rxn1263',\n",
       " 'rxn1602',\n",
       " 'rxn17150',\n",
       " 'rxn15352',\n",
       " 'rxn32881',\n",
       " 'rxn11161',\n",
       " 'rxn24741',\n",
       " 'rxn1228',\n",
       " 'rxn603',\n",
       " 'rxn44675',\n",
       " 'rxn15516',\n",
       " 'rxn13495',\n",
       " 'rxn66141',\n",
       " 'rxn7673',\n",
       " 'rxn38944',\n",
       " 'rxn536',\n",
       " 'rxn24520',\n",
       " 'rxn54547',\n",
       " 'rxn31925',\n",
       " 'rxn2354',\n",
       " 'rxn66167',\n",
       " 'rxn24527',\n",
       " 'rxn48220',\n",
       " 'rxn59166',\n",
       " 'rxn81261',\n",
       " 'rxn11123',\n",
       " 'rxn6660',\n",
       " 'rxn6777',\n",
       " 'rxn27396',\n",
       " 'rxn3343',\n",
       " 'rxn33554',\n",
       " 'rxn1383',\n",
       " 'rxn27015',\n",
       " 'rxn25430',\n",
       " 'rxn2846',\n",
       " 'rxn17461',\n",
       " 'rxn24858',\n",
       " 'rxn13021',\n",
       " 'rxn73082',\n",
       " 'rxn74790',\n",
       " 'rxn25962',\n",
       " 'rxn24737',\n",
       " 'rxn32885',\n",
       " 'rxn18763',\n",
       " 'rxn3975',\n",
       " 'rxn73029',\n",
       " 'rxn44688',\n",
       " 'rxn9670',\n",
       " 'rxn26074',\n",
       " 'rxn17309',\n",
       " 'rxn2501',\n",
       " 'rxn65123',\n",
       " 'rxn66149',\n",
       " 'rxn15414',\n",
       " 'rxn11135',\n",
       " 'rxn44714',\n",
       " 'rxn66200',\n",
       " 'rxn2373',\n",
       " 'rxn32920',\n",
       " 'rxn74666',\n",
       " 'rxn3965',\n",
       " 'rxn9635',\n",
       " 'rxn51671',\n",
       " 'rxn13532',\n",
       " 'rxn7221',\n",
       " 'rxn13595',\n",
       " 'rxn25976',\n",
       " 'rxn28234',\n",
       " 'rxn45593',\n",
       " 'rxn50904',\n",
       " 'rxn54516',\n",
       " 'rxn43614',\n",
       " 'rxn52220',\n",
       " 'rxn66246',\n",
       " 'rxn31913',\n",
       " 'rxn48229',\n",
       " 'rxn16046',\n",
       " 'rxn46500',\n",
       " 'rxn628',\n",
       " 'rxn3936',\n",
       " 'rxn17258',\n",
       " 'rxn38849',\n",
       " 'rxn79936',\n",
       " 'rxn74683',\n",
       " 'rxn33561',\n",
       " 'rxn15550',\n",
       " 'rxn24851',\n",
       " 'rxn13537',\n",
       " 'rxn29831',\n",
       " 'rxn66187',\n",
       " 'rxn1601',\n",
       " 'rxn33581',\n",
       " 'rxn18870',\n",
       " 'rxn66233',\n",
       " 'rxn73053',\n",
       " 'rxn66219',\n",
       " 'rxn4180',\n",
       " 'rxn26106',\n",
       " 'rxn3322',\n",
       " 'rxn3700',\n",
       " 'rxn6778',\n",
       " 'rxn25996',\n",
       " 'rxn11490',\n",
       " 'rxn2825',\n",
       " 'rxn5840',\n",
       " 'rxn72998',\n",
       " 'rxn63698',\n",
       " 'rxn27381',\n",
       " 'rxn1661',\n",
       " 'rxn3918',\n",
       " 'rxn80933',\n",
       " 'rxn54608',\n",
       " 'rxn53101',\n",
       " 'rxn2560',\n",
       " 'rxn15525',\n",
       " 'rxn36394',\n",
       " 'rxn7766',\n",
       " 'rxn48275',\n",
       " 'rxn13572',\n",
       " 'rxn15428',\n",
       " 'rxn33563',\n",
       " 'rxn54575',\n",
       " 'rxn1298',\n",
       " 'rxn6772',\n",
       " 'rxn195',\n",
       " 'rxn662',\n",
       " 'rxn52248',\n",
       " 'rxn27547',\n",
       " 'rxn5818',\n",
       " 'rxn33583',\n",
       " 'rxn25940',\n",
       " 'rxn72957',\n",
       " 'rxn3258',\n",
       " 'rxn66174',\n",
       " 'rxn33596',\n",
       " 'rxn30617',\n",
       " 'rxn36400',\n",
       " 'rxn4313',\n",
       " 'rxn72961',\n",
       " 'rxn651',\n",
       " 'rxn6733',\n",
       " 'rxn73065',\n",
       " 'rxn31171',\n",
       " 'rxn25965',\n",
       " 'rxn33543',\n",
       " 'rxn8213',\n",
       " 'rxn12810',\n",
       " 'rxn12226',\n",
       " 'rxn25946',\n",
       " 'rxn24719',\n",
       " 'rxn17354',\n",
       " 'rxn7213',\n",
       " 'rxn44993',\n",
       " 'rxn65130',\n",
       " 'rxn5875',\n",
       " 'rxn54615',\n",
       " 'rxn28057',\n",
       " 'rxn10328',\n",
       " 'rxn539',\n",
       " 'rxn12606',\n",
       " 'rxn2721',\n",
       " 'rxn697',\n",
       " 'rxn48164',\n",
       " 'rxn21102',\n",
       " 'rxn74718',\n",
       " 'rxn5828',\n",
       " 'rxn17239',\n",
       " 'rxn1628',\n",
       " 'rxn726',\n",
       " 'rxn11484',\n",
       " 'rxn68634',\n",
       " 'rxn6893',\n",
       " 'rxn13510',\n",
       " 'rxn46890',\n",
       " 'rxn15724',\n",
       " 'rxn29320',\n",
       " 'rxn22546',\n",
       " 'rxn35540',\n",
       " 'rxn19913',\n",
       " 'rxn11304',\n",
       " 'rxn1740',\n",
       " 'rxn1348',\n",
       " 'rxn587',\n",
       " 'rxn11303',\n",
       " 'rxn74704',\n",
       " 'rxn630',\n",
       " 'rxn66248',\n",
       " 'rxn24739',\n",
       " 'rxn24547',\n",
       " 'rxn25432',\n",
       " 'rxn1241',\n",
       " 'rxn1369',\n",
       " 'rxn77326',\n",
       " 'rxn24649',\n",
       " 'rxn63700',\n",
       " 'rxn196',\n",
       " 'rxn13535',\n",
       " 'rxn857',\n",
       " 'rxn38404',\n",
       " 'rxn1614',\n",
       " 'rxn17132',\n",
       " 'rxn2420',\n",
       " 'rxn52245',\n",
       " 'rxn74779',\n",
       " 'rxn80758',\n",
       " 'rxn25983',\n",
       " 'rxn17147',\n",
       " 'rxn55521',\n",
       " 'rxn26076',\n",
       " 'rxn4185',\n",
       " 'rxn526',\n",
       " 'rxn6808',\n",
       " 'rxn74730',\n",
       " 'rxn52211',\n",
       " 'rxn13432',\n",
       " 'rxn34437',\n",
       " 'rxn27368',\n",
       " 'rxn51673',\n",
       " 'rxn3301',\n",
       " 'rxn25436',\n",
       " 'rxn33547',\n",
       " 'rxn43494',\n",
       " 'rxn8442',\n",
       " 'rxn81369',\n",
       " 'rxn6736',\n",
       " 'rxn72958',\n",
       " 'rxn24541',\n",
       " 'rxn449',\n",
       " 'rxn24748',\n",
       " 'rxn74062',\n",
       " 'rxn11492',\n",
       " 'rxn17114',\n",
       " 'rxn33538',\n",
       " 'rxn6746',\n",
       " 'rxn1240',\n",
       " 'rxn25947',\n",
       " 'rxn2950',\n",
       " 'rxn24726',\n",
       " 'rxn74647',\n",
       " 'rxn13521',\n",
       " 'rxn30627',\n",
       " 'rxn66212',\n",
       " 'rxn9728',\n",
       " 'rxn566',\n",
       " 'rxn34014',\n",
       " 'rxn508',\n",
       " 'rxn9616',\n",
       " 'rxn2561',\n",
       " 'rxn25429',\n",
       " 'rxn15557',\n",
       " 'rxn28230',\n",
       " 'rxn2451',\n",
       " 'rxn80515',\n",
       " 'rxn62375',\n",
       " 'rxn17122',\n",
       " 'rxn15470',\n",
       " 'rxn856',\n",
       " 'rxn73045',\n",
       " 'rxn66179',\n",
       " 'rxn13664',\n",
       " 'rxn41050',\n",
       " 'rxn48207',\n",
       " 'rxn525',\n",
       " 'rxn15437',\n",
       " 'rxn56478',\n",
       " 'rxn19958',\n",
       " 'rxn15725',\n",
       " 'rxn5724',\n",
       " 'rxn26049',\n",
       " 'rxn13513',\n",
       " 'rxn28700',\n",
       " 'rxn13562',\n",
       " 'rxn17157',\n",
       " 'rxn24724',\n",
       " 'rxn18924',\n",
       " 'rxn6750',\n",
       " 'rxn2460',\n",
       " 'rxn48281',\n",
       " 'rxn33580',\n",
       " 'rxn4467',\n",
       " 'rxn3260',\n",
       " 'rxn37594',\n",
       " 'rxn63692',\n",
       " 'rxn12128',\n",
       " 'rxn48294',\n",
       " 'rxn69523',\n",
       " 'rxn2513',\n",
       " 'rxn1237',\n",
       " 'rxn1741',\n",
       " 'rxn11244',\n",
       " 'rxn946',\n",
       " 'rxn13573',\n",
       " 'rxn46700',\n",
       " 'rxn3310',\n",
       " 'rxn45305',\n",
       " 'rxn6812',\n",
       " 'rxn101',\n",
       " 'rxn28730',\n",
       " 'rxn13512',\n",
       " 'rxn11238',\n",
       " 'rxn74791',\n",
       " 'rxn15506',\n",
       " 'rxn11242',\n",
       " 'rxn24731',\n",
       " 'rxn10338',\n",
       " 'rxn33577',\n",
       " 'rxn33541',\n",
       " 'rxn37956',\n",
       " 'rxn13558',\n",
       " 'rxn3253',\n",
       " 'rxn2295',\n",
       " 'rxn647',\n",
       " 'rxn13552',\n",
       " 'rxn43493',\n",
       " 'rxn27513',\n",
       " 'rxn37981',\n",
       " 'rxn1259',\n",
       " 'rxn12661',\n",
       " 'rxn3953',\n",
       " 'rxn79848',\n",
       " 'rxn18868',\n",
       " 'rxn8431',\n",
       " 'rxn540',\n",
       " 'rxn49452',\n",
       " 'rxn80498',\n",
       " 'rxn724',\n",
       " 'rxn24654',\n",
       " 'rxn54561',\n",
       " 'rxn5720',\n",
       " 'rxn27311',\n",
       " 'rxn24633',\n",
       " 'rxn2376',\n",
       " 'rxn2499',\n",
       " 'rxn19126',\n",
       " 'rxn54544',\n",
       " 'rxn34249',\n",
       " 'rxn15547',\n",
       " 'rxn13479',\n",
       " 'rxn41912',\n",
       " 'rxn79920',\n",
       " 'rxn80754',\n",
       " 'rxn11166',\n",
       " 'rxn6853',\n",
       " 'rxn17211',\n",
       " 'rxn63695',\n",
       " 'rxn5727',\n",
       " 'rxn21095',\n",
       " 'rxn17117',\n",
       " 'rxn639',\n",
       " 'rxn12878',\n",
       " 'rxn44700',\n",
       " 'rxn25963',\n",
       " 'rxn80592',\n",
       " 'rxn74664',\n",
       " 'rxn73079',\n",
       " 'rxn8378',\n",
       " 'rxn2306',\n",
       " 'rxn66243',\n",
       " 'rxn54556',\n",
       " 'rxn452',\n",
       " 'rxn80613',\n",
       " 'rxn15421',\n",
       " 'rxn3278',\n",
       " 'rxn13460',\n",
       " 'rxn24725',\n",
       " 'rxn199',\n",
       " 'rxn79896',\n",
       " 'rxn52852',\n",
       " 'rxn73090',\n",
       " 'rxn50076',\n",
       " 'rxn15495',\n",
       " 'rxn21568',\n",
       " 'rxn13583',\n",
       " 'rxn520',\n",
       " 'rxn24721',\n",
       " 'rxn658',\n",
       " 'rxn1330',\n",
       " 'rxn52308',\n",
       " 'rxn24846',\n",
       " 'rxn18884',\n",
       " 'rxn1325',\n",
       " 'rxn4364',\n",
       " 'rxn5725',\n",
       " 'rxn52782',\n",
       " 'rxn3345',\n",
       " 'rxn486',\n",
       " 'rxn24787',\n",
       " 'rxn9617',\n",
       " 'rxn3210',\n",
       " 'rxn1365',\n",
       " 'rxn27291',\n",
       " 'rxn13531',\n",
       " 'rxn5841',\n",
       " 'rxn17241',\n",
       " 'rxn13454',\n",
       " 'rxn85',\n",
       " 'rxn1451',\n",
       " 'rxn13470',\n",
       " 'rxn24831',\n",
       " 'rxn81232',\n",
       " 'rxn24847',\n",
       " 'rxn26056',\n",
       " 'rxn59160',\n",
       " 'rxn6710',\n",
       " 'rxn81228',\n",
       " 'rxn19079',\n",
       " 'rxn820',\n",
       " 'rxn492',\n",
       " 'rxn74668',\n",
       " 'rxn80581',\n",
       " 'rxn45008',\n",
       " 'rxn48292',\n",
       " 'rxn59138',\n",
       " 'rxn15472',\n",
       " 'rxn2688',\n",
       " 'rxn13467',\n",
       " 'rxn19127',\n",
       " 'rxn80647',\n",
       " 'rxn80476',\n",
       " 'rxn21103',\n",
       " 'rxn495',\n",
       " 'rxn13579',\n",
       " 'rxn13580',\n",
       " 'rxn66181',\n",
       " 'rxn66237',\n",
       " 'rxn78087',\n",
       " 'rxn72995',\n",
       " 'rxn2507',\n",
       " 'rxn2433',\n",
       " 'rxn15406',\n",
       " 'rxn38951',\n",
       " 'rxn69571',\n",
       " 'rxn73034',\n",
       " 'rxn61442',\n",
       " 'rxn13565',\n",
       " 'rxn22568',\n",
       " 'rxn38406',\n",
       " 'rxn24826',\n",
       " 'rxn4929',\n",
       " 'rxn18866',\n",
       " 'rxn1722',\n",
       " 'rxn52844',\n",
       " 'rxn27372',\n",
       " 'rxn15502',\n",
       " ...]"
      ]
     },
     "execution_count": 25,
     "metadata": {},
     "output_type": "execute_result"
    }
   ],
   "source": [
    "del_reaction_lst"
   ]
  },
  {
   "cell_type": "code",
   "execution_count": 26,
   "metadata": {},
   "outputs": [],
   "source": [
    "# filename = '../Data/analysis/error_reaction_all.pkl'\n",
    "with open(error_reaction_all_path, 'wb') as file:\n",
    "    pickle.dump(del_reaction_lst, file)"
   ]
  },
  {
   "cell_type": "code",
   "execution_count": 27,
   "metadata": {},
   "outputs": [],
   "source": [
    "# with open(error_reaction_all_path, 'rb') as file:\n",
    "#     del_reaction_lst_ = pickle.load(file)\n",
    "# del_reaction_lst_"
   ]
  },
  {
   "cell_type": "code",
   "execution_count": 28,
   "metadata": {},
   "outputs": [
    {
     "name": "stdout",
     "output_type": "stream",
     "text": [
      "(8114, 8)\n",
      "(4770, 8)\n"
     ]
    }
   ],
   "source": [
    "rxndb_total_info_to_model = pd.read_csv(rxndb_total_info_to_model_path)\n",
    "print(rxndb_total_info_to_model.shape)\n",
    "rxndb_total_info_to_model = rxndb_total_info_to_model[~rxndb_total_info_to_model['NO'].isin(del_reaction_lst)]\n",
    "print(rxndb_total_info_to_model.shape)\n",
    "rxndb_total_info_to_model.to_csv(rxndb_total_info_to_model_del_reaction_path, index=False)"
   ]
  },
  {
   "cell_type": "code",
   "execution_count": 29,
   "metadata": {},
   "outputs": [
    {
     "name": "stdout",
     "output_type": "stream",
     "text": [
      "(4337, 4)\n",
      "(4770, 8)\n",
      "(4770, 8)\n",
      "(3396, 8)\n"
     ]
    },
    {
     "name": "stderr",
     "output_type": "stream",
     "text": [
      "100%|██████████| 3396/3396 [03:01<00:00, 18.66it/s]\n"
     ]
    }
   ],
   "source": [
    "get_yeast8U(metabolites_info_to_GEM_path,rxndb_total_info_to_model_del_reaction_path,yeast8_reaction_in_rxndb_json,yeast870_path,yeast8U_del_path)\n"
   ]
  },
  {
   "cell_type": "code",
   "execution_count": 30,
   "metadata": {},
   "outputs": [
    {
     "data": {
      "text/html": [
       "<h3>Objective</h3><p>1.0 r_2111 = 0.08999878590665279</p><h4>Uptake</h4><table border=\"1\" class=\"dataframe\">\n",
       "  <thead>\n",
       "    <tr style=\"text-align: right;\">\n",
       "      <th>Metabolite</th>\n",
       "      <th>Reaction</th>\n",
       "      <th>Flux</th>\n",
       "      <th>C-Number</th>\n",
       "      <th>C-Flux</th>\n",
       "    </tr>\n",
       "  </thead>\n",
       "  <tbody>\n",
       "    <tr>\n",
       "      <td>s_0420</td>\n",
       "      <td>r_1654</td>\n",
       "      <td>0.6435</td>\n",
       "      <td>0</td>\n",
       "      <td>0.00%</td>\n",
       "    </tr>\n",
       "    <tr>\n",
       "      <td>s_0565</td>\n",
       "      <td>r_1714</td>\n",
       "      <td>1</td>\n",
       "      <td>6</td>\n",
       "      <td>100.00%</td>\n",
       "    </tr>\n",
       "    <tr>\n",
       "      <td>s_0796</td>\n",
       "      <td>r_1832</td>\n",
       "      <td>0.04552</td>\n",
       "      <td>0</td>\n",
       "      <td>0.00%</td>\n",
       "    </tr>\n",
       "    <tr>\n",
       "      <td>s_0925</td>\n",
       "      <td>r_1861</td>\n",
       "      <td>2.826E-06</td>\n",
       "      <td>0</td>\n",
       "      <td>0.00%</td>\n",
       "    </tr>\n",
       "    <tr>\n",
       "      <td>s_1277</td>\n",
       "      <td>r_1992</td>\n",
       "      <td>2.376</td>\n",
       "      <td>0</td>\n",
       "      <td>0.00%</td>\n",
       "    </tr>\n",
       "    <tr>\n",
       "      <td>s_1324</td>\n",
       "      <td>r_2005</td>\n",
       "      <td>0.04505</td>\n",
       "      <td>0</td>\n",
       "      <td>0.00%</td>\n",
       "    </tr>\n",
       "    <tr>\n",
       "      <td>s_1374</td>\n",
       "      <td>r_2020</td>\n",
       "      <td>0.0003267</td>\n",
       "      <td>0</td>\n",
       "      <td>0.00%</td>\n",
       "    </tr>\n",
       "    <tr>\n",
       "      <td>s_1438</td>\n",
       "      <td>r_2049</td>\n",
       "      <td>0.0003573</td>\n",
       "      <td>0</td>\n",
       "      <td>0.00%</td>\n",
       "    </tr>\n",
       "    <tr>\n",
       "      <td>s_1468</td>\n",
       "      <td>r_2060</td>\n",
       "      <td>0.007741</td>\n",
       "      <td>0</td>\n",
       "      <td>0.00%</td>\n",
       "    </tr>\n",
       "    <tr>\n",
       "      <td>s_4200</td>\n",
       "      <td>r_4593</td>\n",
       "      <td>0.0001161</td>\n",
       "      <td>0</td>\n",
       "      <td>0.00%</td>\n",
       "    </tr>\n",
       "    <tr>\n",
       "      <td>s_4201</td>\n",
       "      <td>r_4594</td>\n",
       "      <td>5.931E-05</td>\n",
       "      <td>0</td>\n",
       "      <td>0.00%</td>\n",
       "    </tr>\n",
       "    <tr>\n",
       "      <td>s_4202</td>\n",
       "      <td>r_4595</td>\n",
       "      <td>0.0002457</td>\n",
       "      <td>0</td>\n",
       "      <td>0.00%</td>\n",
       "    </tr>\n",
       "    <tr>\n",
       "      <td>s_4203</td>\n",
       "      <td>r_4596</td>\n",
       "      <td>6.732E-05</td>\n",
       "      <td>0</td>\n",
       "      <td>0.00%</td>\n",
       "    </tr>\n",
       "    <tr>\n",
       "      <td>s_4204</td>\n",
       "      <td>r_4597</td>\n",
       "      <td>0.0001118</td>\n",
       "      <td>0</td>\n",
       "      <td>0.00%</td>\n",
       "    </tr>\n",
       "    <tr>\n",
       "      <td>s_4199</td>\n",
       "      <td>r_4600</td>\n",
       "      <td>1.953E-05</td>\n",
       "      <td>0</td>\n",
       "      <td>0.00%</td>\n",
       "    </tr>\n",
       "  </tbody>\n",
       "</table><h4>Secretion</h4><table border=\"1\" class=\"dataframe\">\n",
       "  <thead>\n",
       "    <tr style=\"text-align: right;\">\n",
       "      <th>Metabolite</th>\n",
       "      <th>Reaction</th>\n",
       "      <th>Flux</th>\n",
       "      <th>C-Number</th>\n",
       "      <th>C-Flux</th>\n",
       "    </tr>\n",
       "  </thead>\n",
       "  <tbody>\n",
       "    <tr>\n",
       "      <td>s_0458</td>\n",
       "      <td>r_1672</td>\n",
       "      <td>-2.121</td>\n",
       "      <td>1</td>\n",
       "      <td>100.00%</td>\n",
       "    </tr>\n",
       "    <tr>\n",
       "      <td>s_0805</td>\n",
       "      <td>r_2100</td>\n",
       "      <td>-4.716</td>\n",
       "      <td>0</td>\n",
       "      <td>0.00%</td>\n",
       "    </tr>\n",
       "    <tr>\n",
       "      <td>s_0450</td>\n",
       "      <td>r_2111</td>\n",
       "      <td>-0.09</td>\n",
       "      <td>0</td>\n",
       "      <td>0.00%</td>\n",
       "    </tr>\n",
       "  </tbody>\n",
       "</table>"
      ],
      "text/plain": [
       "<cobra.summary.model_summary.ModelSummary at 0x7f1efa30d850>"
      ]
     },
     "execution_count": 30,
     "metadata": {},
     "output_type": "execute_result"
    }
   ],
   "source": [
    "yeast8U_del = cobra.io.load_yaml_model(yeast8U_del_path)\n",
    "yeast8U_del.summary()"
   ]
  },
  {
   "cell_type": "code",
   "execution_count": null,
   "metadata": {},
   "outputs": [
    {
     "name": "stderr",
     "output_type": "stream",
     "text": [
      "100%|██████████| 3531/3531 [00:58<00:00, 60.33it/s]\n"
     ]
    }
   ],
   "source": [
    "# for reaction_id in tqdm(del_reaction_lst):\n",
    "#     reaction = yeast8U_mod.reactions.get_by_id(reaction_id)\n",
    "#     yeast8U_mod.remove_reactions([reaction])"
   ]
  },
  {
   "cell_type": "code",
   "execution_count": null,
   "metadata": {},
   "outputs": [],
   "source": [
    "# yeast8U_del_path = '../Data/model/yeast8U_Final_mod_del.yml'\n",
    "\n",
    "# cobra.io.save_yaml_model(yeast8U_mod,yeast8U_del_path)"
   ]
  }
 ],
 "metadata": {
  "kernelspec": {
   "display_name": "kcat",
   "language": "python",
   "name": "python3"
  },
  "language_info": {
   "codemirror_mode": {
    "name": "ipython",
    "version": 3
   },
   "file_extension": ".py",
   "mimetype": "text/x-python",
   "name": "python",
   "nbconvert_exporter": "python",
   "pygments_lexer": "ipython3",
   "version": "3.8.18"
  },
  "orig_nbformat": 4
 },
 "nbformat": 4,
 "nbformat_minor": 2
}
