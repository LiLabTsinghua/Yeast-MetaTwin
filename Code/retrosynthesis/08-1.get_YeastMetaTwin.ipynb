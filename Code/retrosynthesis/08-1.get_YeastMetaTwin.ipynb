{
 "cells": [
  {
   "cell_type": "code",
   "execution_count": 39,
   "metadata": {},
   "outputs": [],
   "source": [
    "import pandas as pd\n",
    "import numpy as np\n",
    "import json\n",
    "import pandas as pd\n",
    "import re\n",
    "from rdkit import Chem\n",
    "from rdkit.Chem import AllChem\n",
    "from collections import Counter,defaultdict\n",
    "from ast import literal_eval\n",
    "import cobra\n",
    "from cobra import Metabolite,Reaction,Gene\n",
    "from tqdm import tqdm\n",
    "import random\n",
    "import pickle\n",
    "from multiprocessing import Pool\n",
    "\n",
    "import sys\n",
    "# sys.path.append('../Script/')\n",
    "from common import *\n",
    "# from check_newinfo_getyeast8U import *"
   ]
  },
  {
   "cell_type": "code",
   "execution_count": 40,
   "metadata": {},
   "outputs": [],
   "source": [
    "### input\n",
    "yeast870_path =  '../../Data/model/yeast-GEM.yml'\n",
    "cut_off = 0.3\n",
    "num = 50\n",
    "num_process = 5\n",
    "cut_off_path = f'../../Results/not_lipid/top{num}_{cut_off}_re/'\n",
    "metabolites_info_to_GEM_path = cut_off_path + f'metabolites_info_to_GEM_top{num}_{cut_off}.csv'\n",
    "rxndb_total_info_to_model_path = cut_off_path + f'rxndb_total_info_to_model_top{num}_{cut_off}.csv'\n",
    "yeast8_reaction_in_rxndb_json = cut_off_path + f'yeast8_reaction_in_rxndb_top{num}_{cut_off}.json'\n",
    "\n",
    "### output\n",
    "rxndb_total_info_to_model_del_reaction_path = '../../Results/not_lipid/top50_0.3_re/rxndb_total_info_to_model_del_reaction_top50_0.3.csv'\n",
    "error_reaction_path = '../../Results/not_lipid/top50_0.3_re/error_reaction_random/'\n",
    "error_reaction_all_path = '../../Results/not_lipid/top50_0.3_re/error_reaction_all.pickle'\n",
    "yeast8U_del_path = '../../Data/model/yeast8U_del_re.yml'\n",
    "yeast8U_mod_path = '../../Data/model/yeast8U_mod_re.yml'\n",
    "biomass_up_reaction_path = '../../Results/not_lipid/top50_0.3_re/biomass_up_reaction_top50_0.3.pickle'"
   ]
  },
  {
   "cell_type": "code",
   "execution_count": 41,
   "metadata": {},
   "outputs": [
    {
     "data": {
      "text/plain": [
       "(7889, 8)"
      ]
     },
     "execution_count": 41,
     "metadata": {},
     "output_type": "execute_result"
    }
   ],
   "source": [
    "rxndb_total_info_to_model = pd.read_csv(rxndb_total_info_to_model_path)\n",
    "rxndb_total_info_to_model.shape"
   ]
  },
  {
   "cell_type": "code",
   "execution_count": 11,
   "metadata": {},
   "outputs": [
    {
     "name": "stdout",
     "output_type": "stream",
     "text": [
      "(4151, 4)\n",
      "(7889, 8)\n",
      "(7889, 8)\n",
      "(6487, 8)\n"
     ]
    },
    {
     "name": "stderr",
     "output_type": "stream",
     "text": [
      "100%|██████████| 6487/6487 [00:30<00:00, 213.18it/s]\n"
     ]
    }
   ],
   "source": [
    "get_yeast8U(metabolites_info_to_GEM_path,rxndb_total_info_to_model_path,yeast8_reaction_in_rxndb_json,yeast870_path,yeast8U_mod_path)"
   ]
  },
  {
   "cell_type": "code",
   "execution_count": 12,
   "metadata": {},
   "outputs": [
    {
     "data": {
      "text/html": [
       "<h3>Objective</h3><p>1.0 r_2111 = 0.13919492724531368</p><h4>Uptake</h4><table border=\"1\" class=\"dataframe\">\n",
       "  <thead>\n",
       "    <tr style=\"text-align: right;\">\n",
       "      <th>Metabolite</th>\n",
       "      <th>Reaction</th>\n",
       "      <th>Flux</th>\n",
       "      <th>C-Number</th>\n",
       "      <th>C-Flux</th>\n",
       "    </tr>\n",
       "  </thead>\n",
       "  <tbody>\n",
       "    <tr>\n",
       "      <td>s_0420</td>\n",
       "      <td>r_1654</td>\n",
       "      <td>0.9952</td>\n",
       "      <td>0</td>\n",
       "      <td>0.00%</td>\n",
       "    </tr>\n",
       "    <tr>\n",
       "      <td>s_0565</td>\n",
       "      <td>r_1714</td>\n",
       "      <td>1</td>\n",
       "      <td>6</td>\n",
       "      <td>100.00%</td>\n",
       "    </tr>\n",
       "    <tr>\n",
       "      <td>s_0796</td>\n",
       "      <td>r_1832</td>\n",
       "      <td>0.07041</td>\n",
       "      <td>0</td>\n",
       "      <td>0.00%</td>\n",
       "    </tr>\n",
       "    <tr>\n",
       "      <td>s_0925</td>\n",
       "      <td>r_1861</td>\n",
       "      <td>0.01198</td>\n",
       "      <td>0</td>\n",
       "      <td>0.00%</td>\n",
       "    </tr>\n",
       "    <tr>\n",
       "      <td>s_1324</td>\n",
       "      <td>r_2005</td>\n",
       "      <td>0.06967</td>\n",
       "      <td>0</td>\n",
       "      <td>0.00%</td>\n",
       "    </tr>\n",
       "    <tr>\n",
       "      <td>s_1374</td>\n",
       "      <td>r_2020</td>\n",
       "      <td>0.0005053</td>\n",
       "      <td>0</td>\n",
       "      <td>0.00%</td>\n",
       "    </tr>\n",
       "    <tr>\n",
       "      <td>s_1438</td>\n",
       "      <td>r_2049</td>\n",
       "      <td>0.0005526</td>\n",
       "      <td>0</td>\n",
       "      <td>0.00%</td>\n",
       "    </tr>\n",
       "    <tr>\n",
       "      <td>s_4200</td>\n",
       "      <td>r_4593</td>\n",
       "      <td>0.0001796</td>\n",
       "      <td>0</td>\n",
       "      <td>0.00%</td>\n",
       "    </tr>\n",
       "    <tr>\n",
       "      <td>s_4201</td>\n",
       "      <td>r_4594</td>\n",
       "      <td>9.173E-05</td>\n",
       "      <td>0</td>\n",
       "      <td>0.00%</td>\n",
       "    </tr>\n",
       "    <tr>\n",
       "      <td>s_4202</td>\n",
       "      <td>r_4595</td>\n",
       "      <td>0.00038</td>\n",
       "      <td>0</td>\n",
       "      <td>0.00%</td>\n",
       "    </tr>\n",
       "    <tr>\n",
       "      <td>s_4203</td>\n",
       "      <td>r_4596</td>\n",
       "      <td>0.0001041</td>\n",
       "      <td>0</td>\n",
       "      <td>0.00%</td>\n",
       "    </tr>\n",
       "    <tr>\n",
       "      <td>s_4204</td>\n",
       "      <td>r_4597</td>\n",
       "      <td>0.000173</td>\n",
       "      <td>0</td>\n",
       "      <td>0.00%</td>\n",
       "    </tr>\n",
       "    <tr>\n",
       "      <td>s_4199</td>\n",
       "      <td>r_4600</td>\n",
       "      <td>3.021E-05</td>\n",
       "      <td>0</td>\n",
       "      <td>0.00%</td>\n",
       "    </tr>\n",
       "  </tbody>\n",
       "</table><h4>Secretion</h4><table border=\"1\" class=\"dataframe\">\n",
       "  <thead>\n",
       "    <tr style=\"text-align: right;\">\n",
       "      <th>Metabolite</th>\n",
       "      <th>Reaction</th>\n",
       "      <th>Flux</th>\n",
       "      <th>C-Number</th>\n",
       "      <th>C-Flux</th>\n",
       "    </tr>\n",
       "  </thead>\n",
       "  <tbody>\n",
       "    <tr>\n",
       "      <td>s_1277</td>\n",
       "      <td>r_1992</td>\n",
       "      <td>-0.3011</td>\n",
       "      <td>0</td>\n",
       "      <td>0.00%</td>\n",
       "    </tr>\n",
       "    <tr>\n",
       "      <td>s_0805</td>\n",
       "      <td>r_2100</td>\n",
       "      <td>-2.575</td>\n",
       "      <td>0</td>\n",
       "      <td>0.00%</td>\n",
       "    </tr>\n",
       "    <tr>\n",
       "      <td>s_0450</td>\n",
       "      <td>r_2111</td>\n",
       "      <td>-0.1392</td>\n",
       "      <td>0</td>\n",
       "      <td>0.00%</td>\n",
       "    </tr>\n",
       "  </tbody>\n",
       "</table>"
      ],
      "text/plain": [
       "<cobra.summary.model_summary.ModelSummary at 0x7fa0e23720d0>"
      ]
     },
     "execution_count": 12,
     "metadata": {},
     "output_type": "execute_result"
    }
   ],
   "source": [
    "yeast8U_mod = cobra.io.load_yaml_model(yeast8U_mod_path)\n",
    "yeast8U_mod.summary()"
   ]
  },
  {
   "cell_type": "code",
   "execution_count": 13,
   "metadata": {},
   "outputs": [],
   "source": [
    "yeast8 = cobra.io.load_yaml_model(yeast870_path)\n"
   ]
  },
  {
   "cell_type": "code",
   "execution_count": 14,
   "metadata": {},
   "outputs": [
    {
     "data": {
      "text/plain": [
       "'../../Data/model/yeast8U_mod_re.yml'"
      ]
     },
     "execution_count": 14,
     "metadata": {},
     "output_type": "execute_result"
    }
   ],
   "source": [
    "yeast8U_mod_path"
   ]
  },
  {
   "cell_type": "code",
   "execution_count": 15,
   "metadata": {},
   "outputs": [
    {
     "data": {
      "text/html": [
       "\n",
       "        <table>\n",
       "            <tr>\n",
       "                <td><strong>Name</strong></td>\n",
       "                <td>None</td>\n",
       "            </tr><tr>\n",
       "                <td><strong>Memory address</strong></td>\n",
       "                <td>7fa0504d9610</td>\n",
       "            </tr><tr>\n",
       "                <td><strong>Number of metabolites</strong></td>\n",
       "                <td>3224</td>\n",
       "            </tr><tr>\n",
       "                <td><strong>Number of reactions</strong></td>\n",
       "                <td>10618</td>\n",
       "            </tr><tr>\n",
       "                <td><strong>Number of genes</strong></td>\n",
       "                <td>2078</td>\n",
       "            </tr><tr>\n",
       "                <td><strong>Number of groups</strong></td>\n",
       "                <td>0</td>\n",
       "            </tr><tr>\n",
       "                <td><strong>Objective expression</strong></td>\n",
       "                <td>1.0*r_2111 - 1.0*r_2111_reverse_58b69</td>\n",
       "            </tr><tr>\n",
       "                <td><strong>Compartments</strong></td>\n",
       "                <td>cell envelope, cytoplasm, extracellular, mitochondrion, nucleus, peroxisome, endoplasmic reticulum, Golgi, lipid particle, vacuole, endoplasmic reticulum membrane, vacuolar membrane, Golgi membrane, mitochondrial membrane</td>\n",
       "            </tr>\n",
       "          </table>"
      ],
      "text/plain": [
       "<Model None at 0x7fa0504d9610>"
      ]
     },
     "execution_count": 15,
     "metadata": {},
     "output_type": "execute_result"
    }
   ],
   "source": [
    "yeast8U_mod"
   ]
  },
  {
   "cell_type": "markdown",
   "metadata": {},
   "source": [
    "# find reactions that affect biomass"
   ]
  },
  {
   "cell_type": "code",
   "execution_count": 16,
   "metadata": {},
   "outputs": [
    {
     "name": "stderr",
     "output_type": "stream",
     "text": [
      "  2%|▏         | 103/6487 [00:23<25:09,  4.23it/s]"
     ]
    },
    {
     "name": "stdout",
     "output_type": "stream",
     "text": [
      "rxn26590 error_reaction\n"
     ]
    },
    {
     "name": "stderr",
     "output_type": "stream",
     "text": [
      "  7%|▋         | 429/6487 [01:36<22:30,  4.49it/s]"
     ]
    },
    {
     "name": "stdout",
     "output_type": "stream",
     "text": [
      "rxn22365 error_reaction\n"
     ]
    },
    {
     "name": "stderr",
     "output_type": "stream",
     "text": [
      " 11%|█▏        | 743/6487 [02:49<21:55,  4.37it/s]"
     ]
    },
    {
     "name": "stdout",
     "output_type": "stream",
     "text": [
      "rxn17720 error_reaction\n"
     ]
    },
    {
     "name": "stderr",
     "output_type": "stream",
     "text": [
      " 17%|█▋        | 1130/6487 [04:19<21:11,  4.21it/s]"
     ]
    },
    {
     "name": "stdout",
     "output_type": "stream",
     "text": [
      "rxn22821 error_reaction\n"
     ]
    },
    {
     "name": "stderr",
     "output_type": "stream",
     "text": [
      " 23%|██▎       | 1498/6487 [05:43<21:00,  3.96it/s]"
     ]
    },
    {
     "name": "stdout",
     "output_type": "stream",
     "text": [
      "rxn14698 error_reaction\n"
     ]
    },
    {
     "name": "stderr",
     "output_type": "stream",
     "text": [
      " 23%|██▎       | 1499/6487 [05:44<27:44,  3.00it/s]"
     ]
    },
    {
     "name": "stdout",
     "output_type": "stream",
     "text": [
      "rxn14699 error_reaction\n"
     ]
    },
    {
     "name": "stderr",
     "output_type": "stream",
     "text": [
      " 24%|██▎       | 1533/6487 [05:52<20:43,  3.99it/s]"
     ]
    },
    {
     "name": "stdout",
     "output_type": "stream",
     "text": [
      "rxn15074 error_reaction\n"
     ]
    },
    {
     "name": "stderr",
     "output_type": "stream",
     "text": [
      " 24%|██▎       | 1538/6487 [05:54<23:38,  3.49it/s]"
     ]
    },
    {
     "name": "stdout",
     "output_type": "stream",
     "text": [
      "rxn15223 error_reaction\n"
     ]
    },
    {
     "name": "stderr",
     "output_type": "stream",
     "text": [
      " 26%|██▌       | 1680/6487 [06:28<18:33,  4.32it/s]"
     ]
    },
    {
     "name": "stdout",
     "output_type": "stream",
     "text": [
      "rxn49044 error_reaction\n"
     ]
    },
    {
     "name": "stderr",
     "output_type": "stream",
     "text": [
      " 26%|██▌       | 1693/6487 [06:31<18:09,  4.40it/s]"
     ]
    },
    {
     "name": "stdout",
     "output_type": "stream",
     "text": [
      "rxn49474 error_reaction\n"
     ]
    },
    {
     "name": "stderr",
     "output_type": "stream",
     "text": [
      " 26%|██▌       | 1694/6487 [06:32<30:43,  2.60it/s]"
     ]
    },
    {
     "name": "stdout",
     "output_type": "stream",
     "text": [
      "rxn49475 error_reaction\n"
     ]
    },
    {
     "name": "stderr",
     "output_type": "stream",
     "text": [
      " 32%|███▏      | 2059/6487 [07:59<17:56,  4.11it/s]"
     ]
    },
    {
     "name": "stdout",
     "output_type": "stream",
     "text": [
      "rxn53495 error_reaction\n"
     ]
    },
    {
     "name": "stderr",
     "output_type": "stream",
     "text": [
      " 33%|███▎      | 2142/6487 [08:18<18:58,  3.82it/s]"
     ]
    },
    {
     "name": "stdout",
     "output_type": "stream",
     "text": [
      "rxn47715 error_reaction\n"
     ]
    },
    {
     "name": "stderr",
     "output_type": "stream",
     "text": [
      " 33%|███▎      | 2148/6487 [08:20<21:27,  3.37it/s]"
     ]
    },
    {
     "name": "stdout",
     "output_type": "stream",
     "text": [
      "rxn47725 error_reaction\n"
     ]
    },
    {
     "name": "stderr",
     "output_type": "stream",
     "text": [
      " 33%|███▎      | 2157/6487 [08:23<18:22,  3.93it/s]"
     ]
    },
    {
     "name": "stdout",
     "output_type": "stream",
     "text": [
      "rxn47740 error_reaction\n"
     ]
    },
    {
     "name": "stderr",
     "output_type": "stream",
     "text": [
      " 38%|███▊      | 2494/6487 [09:41<16:08,  4.12it/s]"
     ]
    },
    {
     "name": "stdout",
     "output_type": "stream",
     "text": [
      "rxn16396 error_reaction\n"
     ]
    },
    {
     "name": "stderr",
     "output_type": "stream",
     "text": [
      " 40%|████      | 2610/6487 [10:08<14:28,  4.47it/s]"
     ]
    },
    {
     "name": "stdout",
     "output_type": "stream",
     "text": [
      "rxn13585 error_reaction\n"
     ]
    },
    {
     "name": "stderr",
     "output_type": "stream",
     "text": [
      " 40%|████      | 2621/6487 [10:12<15:59,  4.03it/s]"
     ]
    },
    {
     "name": "stdout",
     "output_type": "stream",
     "text": [
      "rxn13609 error_reaction\n"
     ]
    },
    {
     "name": "stderr",
     "output_type": "stream",
     "text": [
      " 41%|████      | 2633/6487 [10:15<13:59,  4.59it/s]"
     ]
    },
    {
     "name": "stdout",
     "output_type": "stream",
     "text": [
      "rxn13633 error_reaction\n"
     ]
    },
    {
     "name": "stderr",
     "output_type": "stream",
     "text": [
      " 41%|████      | 2639/6487 [10:17<17:15,  3.71it/s]"
     ]
    },
    {
     "name": "stdout",
     "output_type": "stream",
     "text": [
      "rxn13645 error_reaction\n"
     ]
    },
    {
     "name": "stderr",
     "output_type": "stream",
     "text": [
      " 41%|████      | 2645/6487 [10:19<17:06,  3.74it/s]"
     ]
    },
    {
     "name": "stdout",
     "output_type": "stream",
     "text": [
      "rxn13657 error_reaction\n"
     ]
    },
    {
     "name": "stderr",
     "output_type": "stream",
     "text": [
      " 41%|████      | 2651/6487 [10:21<17:44,  3.60it/s]"
     ]
    },
    {
     "name": "stdout",
     "output_type": "stream",
     "text": [
      "rxn13669 error_reaction\n"
     ]
    },
    {
     "name": "stderr",
     "output_type": "stream",
     "text": [
      " 41%|████      | 2657/6487 [10:23<18:54,  3.38it/s]"
     ]
    },
    {
     "name": "stdout",
     "output_type": "stream",
     "text": [
      "rxn13681 error_reaction\n"
     ]
    },
    {
     "name": "stderr",
     "output_type": "stream",
     "text": [
      " 41%|████      | 2663/6487 [10:25<18:33,  3.43it/s]"
     ]
    },
    {
     "name": "stdout",
     "output_type": "stream",
     "text": [
      "rxn13693 error_reaction\n"
     ]
    },
    {
     "name": "stderr",
     "output_type": "stream",
     "text": [
      " 41%|████      | 2669/6487 [10:27<16:29,  3.86it/s]"
     ]
    },
    {
     "name": "stdout",
     "output_type": "stream",
     "text": [
      "rxn13705 error_reaction\n"
     ]
    },
    {
     "name": "stderr",
     "output_type": "stream",
     "text": [
      " 41%|████      | 2675/6487 [10:29<16:53,  3.76it/s]"
     ]
    },
    {
     "name": "stdout",
     "output_type": "stream",
     "text": [
      "rxn13717 error_reaction\n"
     ]
    },
    {
     "name": "stderr",
     "output_type": "stream",
     "text": [
      " 44%|████▍     | 2841/6487 [11:08<14:55,  4.07it/s]"
     ]
    },
    {
     "name": "stdout",
     "output_type": "stream",
     "text": [
      "rxn49522 error_reaction\n"
     ]
    },
    {
     "name": "stderr",
     "output_type": "stream",
     "text": [
      " 50%|█████     | 3246/6487 [12:42<12:11,  4.43it/s]"
     ]
    },
    {
     "name": "stdout",
     "output_type": "stream",
     "text": [
      "rxn66844 error_reaction\n"
     ]
    },
    {
     "name": "stderr",
     "output_type": "stream",
     "text": [
      " 50%|█████     | 3248/6487 [12:43<16:16,  3.32it/s]"
     ]
    },
    {
     "name": "stdout",
     "output_type": "stream",
     "text": [
      "rxn66848 error_reaction\n"
     ]
    },
    {
     "name": "stderr",
     "output_type": "stream",
     "text": [
      " 50%|█████     | 3251/6487 [12:44<16:39,  3.24it/s]"
     ]
    },
    {
     "name": "stdout",
     "output_type": "stream",
     "text": [
      "rxn66854 error_reaction\n"
     ]
    },
    {
     "name": "stderr",
     "output_type": "stream",
     "text": [
      " 55%|█████▌    | 3583/6487 [14:03<12:59,  3.73it/s]"
     ]
    },
    {
     "name": "stdout",
     "output_type": "stream",
     "text": [
      "rxn9667 error_reaction\n"
     ]
    },
    {
     "name": "stderr",
     "output_type": "stream",
     "text": [
      " 55%|█████▌    | 3584/6487 [14:03<19:49,  2.44it/s]"
     ]
    },
    {
     "name": "stdout",
     "output_type": "stream",
     "text": [
      "rxn9668 error_reaction\n"
     ]
    },
    {
     "name": "stderr",
     "output_type": "stream",
     "text": [
      " 59%|█████▉    | 3855/6487 [15:06<10:21,  4.24it/s]"
     ]
    },
    {
     "name": "stdout",
     "output_type": "stream",
     "text": [
      "rxn7509 error_reaction\n"
     ]
    },
    {
     "name": "stderr",
     "output_type": "stream",
     "text": [
      " 66%|██████▋   | 4310/6487 [16:51<08:38,  4.20it/s]"
     ]
    },
    {
     "name": "stdout",
     "output_type": "stream",
     "text": [
      "rxn6111 error_reaction\n"
     ]
    },
    {
     "name": "stderr",
     "output_type": "stream",
     "text": [
      " 66%|██████▋   | 4311/6487 [16:52<13:10,  2.75it/s]"
     ]
    },
    {
     "name": "stdout",
     "output_type": "stream",
     "text": [
      "rxn6112 error_reaction\n"
     ]
    },
    {
     "name": "stderr",
     "output_type": "stream",
     "text": [
      " 70%|███████   | 4558/6487 [17:49<07:20,  4.38it/s]"
     ]
    },
    {
     "name": "stdout",
     "output_type": "stream",
     "text": [
      "rxn4566 error_reaction\n"
     ]
    },
    {
     "name": "stderr",
     "output_type": "stream",
     "text": [
      " 70%|███████   | 4560/6487 [17:50<11:27,  2.80it/s]"
     ]
    },
    {
     "name": "stdout",
     "output_type": "stream",
     "text": [
      "rxn4569 error_reaction\n"
     ]
    },
    {
     "name": "stderr",
     "output_type": "stream",
     "text": [
      " 70%|███████   | 4561/6487 [17:51<14:41,  2.19it/s]"
     ]
    },
    {
     "name": "stdout",
     "output_type": "stream",
     "text": [
      "rxn4570 error_reaction\n"
     ]
    },
    {
     "name": "stderr",
     "output_type": "stream",
     "text": [
      " 71%|███████   | 4599/6487 [18:01<07:52,  3.99it/s]"
     ]
    },
    {
     "name": "stdout",
     "output_type": "stream",
     "text": [
      "rxn4726 error_reaction\n"
     ]
    },
    {
     "name": "stderr",
     "output_type": "stream",
     "text": [
      " 77%|███████▋  | 5024/6487 [19:38<05:37,  4.33it/s]"
     ]
    },
    {
     "name": "stdout",
     "output_type": "stream",
     "text": [
      "rxn5754 error_reaction\n"
     ]
    },
    {
     "name": "stderr",
     "output_type": "stream",
     "text": [
      " 80%|████████  | 5203/6487 [20:20<05:13,  4.09it/s]"
     ]
    },
    {
     "name": "stdout",
     "output_type": "stream",
     "text": [
      "rxn3363 error_reaction\n"
     ]
    },
    {
     "name": "stderr",
     "output_type": "stream",
     "text": [
      " 80%|████████  | 5204/6487 [20:20<09:15,  2.31it/s]"
     ]
    },
    {
     "name": "stdout",
     "output_type": "stream",
     "text": [
      "rxn3366 error_reaction\n"
     ]
    },
    {
     "name": "stderr",
     "output_type": "stream",
     "text": [
      " 81%|████████  | 5225/6487 [20:26<05:14,  4.02it/s]"
     ]
    },
    {
     "name": "stdout",
     "output_type": "stream",
     "text": [
      "rxn3543 error_reaction\n"
     ]
    },
    {
     "name": "stderr",
     "output_type": "stream",
     "text": [
      " 81%|████████  | 5226/6487 [20:27<08:41,  2.42it/s]"
     ]
    },
    {
     "name": "stdout",
     "output_type": "stream",
     "text": [
      "rxn3544 error_reaction\n"
     ]
    },
    {
     "name": "stderr",
     "output_type": "stream",
     "text": [
      " 81%|████████  | 5227/6487 [20:27<08:59,  2.33it/s]"
     ]
    },
    {
     "name": "stdout",
     "output_type": "stream",
     "text": [
      "rxn3545 error_reaction\n"
     ]
    },
    {
     "name": "stderr",
     "output_type": "stream",
     "text": [
      " 81%|████████  | 5228/6487 [20:28<11:20,  1.85it/s]"
     ]
    },
    {
     "name": "stdout",
     "output_type": "stream",
     "text": [
      "rxn3546 error_reaction\n"
     ]
    },
    {
     "name": "stderr",
     "output_type": "stream",
     "text": [
      " 81%|████████  | 5229/6487 [20:29<10:47,  1.94it/s]"
     ]
    },
    {
     "name": "stdout",
     "output_type": "stream",
     "text": [
      "rxn3547 error_reaction\n"
     ]
    },
    {
     "name": "stderr",
     "output_type": "stream",
     "text": [
      " 83%|████████▎ | 5415/6487 [21:11<04:19,  4.14it/s]"
     ]
    },
    {
     "name": "stdout",
     "output_type": "stream",
     "text": [
      "rxn4260 error_reaction\n"
     ]
    },
    {
     "name": "stderr",
     "output_type": "stream",
     "text": [
      " 87%|████████▋ | 5617/6487 [21:57<03:12,  4.51it/s]"
     ]
    },
    {
     "name": "stdout",
     "output_type": "stream",
     "text": [
      "rxn1650 error_reaction\n"
     ]
    },
    {
     "name": "stderr",
     "output_type": "stream",
     "text": [
      " 87%|████████▋ | 5619/6487 [21:58<04:36,  3.13it/s]"
     ]
    },
    {
     "name": "stdout",
     "output_type": "stream",
     "text": [
      "rxn1652 error_reaction\n"
     ]
    },
    {
     "name": "stderr",
     "output_type": "stream",
     "text": [
      " 87%|████████▋ | 5623/6487 [22:00<04:38,  3.10it/s]"
     ]
    },
    {
     "name": "stdout",
     "output_type": "stream",
     "text": [
      "rxn1656 error_reaction\n"
     ]
    },
    {
     "name": "stderr",
     "output_type": "stream",
     "text": [
      " 88%|████████▊ | 5677/6487 [22:13<03:21,  4.02it/s]"
     ]
    },
    {
     "name": "stdout",
     "output_type": "stream",
     "text": [
      "rxn1861 error_reaction\n"
     ]
    },
    {
     "name": "stderr",
     "output_type": "stream",
     "text": [
      " 93%|█████████▎| 6024/6487 [23:31<01:44,  4.43it/s]"
     ]
    },
    {
     "name": "stdout",
     "output_type": "stream",
     "text": [
      "rxn95 error_reaction\n"
     ]
    },
    {
     "name": "stderr",
     "output_type": "stream",
     "text": [
      " 94%|█████████▍| 6123/6487 [23:54<01:21,  4.47it/s]"
     ]
    },
    {
     "name": "stdout",
     "output_type": "stream",
     "text": [
      "rxn377 error_reaction\n"
     ]
    },
    {
     "name": "stderr",
     "output_type": "stream",
     "text": [
      " 98%|█████████▊| 6368/6487 [24:51<00:29,  4.00it/s]"
     ]
    },
    {
     "name": "stdout",
     "output_type": "stream",
     "text": [
      "rxn1099 error_reaction\n"
     ]
    },
    {
     "name": "stderr",
     "output_type": "stream",
     "text": [
      "100%|██████████| 6487/6487 [25:18<00:00,  4.27it/s]\n"
     ]
    },
    {
     "data": {
      "text/plain": [
       "['rxn26590',\n",
       " 'rxn22365',\n",
       " 'rxn17720',\n",
       " 'rxn22821',\n",
       " 'rxn14698',\n",
       " 'rxn14699',\n",
       " 'rxn15074',\n",
       " 'rxn15223',\n",
       " 'rxn49044',\n",
       " 'rxn49474',\n",
       " 'rxn49475',\n",
       " 'rxn53495',\n",
       " 'rxn47715',\n",
       " 'rxn47725',\n",
       " 'rxn47740',\n",
       " 'rxn16396',\n",
       " 'rxn13585',\n",
       " 'rxn13609',\n",
       " 'rxn13633',\n",
       " 'rxn13645',\n",
       " 'rxn13657',\n",
       " 'rxn13669',\n",
       " 'rxn13681',\n",
       " 'rxn13693',\n",
       " 'rxn13705',\n",
       " 'rxn13717',\n",
       " 'rxn49522',\n",
       " 'rxn66844',\n",
       " 'rxn66848',\n",
       " 'rxn66854',\n",
       " 'rxn9667',\n",
       " 'rxn9668',\n",
       " 'rxn7509',\n",
       " 'rxn6111',\n",
       " 'rxn6112',\n",
       " 'rxn4566',\n",
       " 'rxn4569',\n",
       " 'rxn4570',\n",
       " 'rxn4726',\n",
       " 'rxn5754',\n",
       " 'rxn3363',\n",
       " 'rxn3366',\n",
       " 'rxn3543',\n",
       " 'rxn3544',\n",
       " 'rxn3545',\n",
       " 'rxn3546',\n",
       " 'rxn3547',\n",
       " 'rxn4260',\n",
       " 'rxn1650',\n",
       " 'rxn1652',\n",
       " 'rxn1656',\n",
       " 'rxn1861',\n",
       " 'rxn95',\n",
       " 'rxn377',\n",
       " 'rxn1099']"
      ]
     },
     "execution_count": 16,
     "metadata": {},
     "output_type": "execute_result"
    }
   ],
   "source": [
    "reaction_id = []\n",
    "for i in yeast8U_mod.reactions:\n",
    "    if 'rxn' in i.id:\n",
    "        i.bounds = (0,0)\n",
    "        reaction_id.append(i.id)\n",
    "\n",
    "biomass_up_reaction = []\n",
    "for i in tqdm(reaction_id,total=len(reaction_id)):\n",
    "    with yeast8U_mod:\n",
    "        yeast8U_mod.reactions.get_by_id(i).bounds = (0,1000)\n",
    "        yeast8U_mod.solver = 'gurobi'\n",
    "        yeast8U_mod.optimize()\n",
    "        if yeast8U_mod.reactions.get_by_id('r_2111').flux > 0.09:\n",
    "            biomass_up_reaction.append(i)\n",
    "            print(i,'error_reaction')\n",
    "        else: \n",
    "            pass\n",
    "        \n",
    "biomass_up_reaction"
   ]
  },
  {
   "cell_type": "code",
   "execution_count": 17,
   "metadata": {},
   "outputs": [],
   "source": [
    "# Save the list as a pickle file\n",
    "with open(biomass_up_reaction_path, 'wb') as f:\n",
    "    pickle.dump(biomass_up_reaction, f)"
   ]
  },
  {
   "cell_type": "code",
   "execution_count": 18,
   "metadata": {},
   "outputs": [
    {
     "name": "stdout",
     "output_type": "stream",
     "text": [
      "['rxn26590', 'rxn22365', 'rxn17720', 'rxn22821', 'rxn14698', 'rxn14699', 'rxn15074', 'rxn15223', 'rxn49044', 'rxn49474', 'rxn49475', 'rxn53495', 'rxn47715', 'rxn47725', 'rxn47740', 'rxn16396', 'rxn13585', 'rxn13609', 'rxn13633', 'rxn13645', 'rxn13657', 'rxn13669', 'rxn13681', 'rxn13693', 'rxn13705', 'rxn13717', 'rxn49522', 'rxn66844', 'rxn66848', 'rxn66854', 'rxn9667', 'rxn9668', 'rxn7509', 'rxn6111', 'rxn6112', 'rxn4566', 'rxn4569', 'rxn4570', 'rxn4726', 'rxn5754', 'rxn3363', 'rxn3366', 'rxn3543', 'rxn3544', 'rxn3545', 'rxn3546', 'rxn3547', 'rxn4260', 'rxn1650', 'rxn1652', 'rxn1656', 'rxn1861', 'rxn95', 'rxn377', 'rxn1099']\n"
     ]
    }
   ],
   "source": [
    "\n",
    "# # Load the pickle file\n",
    "with open(biomass_up_reaction_path, 'rb') as f:\n",
    "    biomass_up_reaction = pickle.load(f)\n",
    "\n",
    "# View the loaded data\n",
    "print(biomass_up_reaction)"
   ]
  },
  {
   "cell_type": "code",
   "execution_count": 19,
   "metadata": {},
   "outputs": [
    {
     "name": "stdout",
     "output_type": "stream",
     "text": [
      "99\n",
      "['rxn28200', 'rxn24686', 'rxn24920', 'rxn21496', 'rxn21497', 'rxn21498', 'rxn21592', 'rxn32939', 'rxn23184', 'rxn39117', 'rxn44269', 'rxn44270', 'rxn44271', 'rxn45307', 'rxn46595', 'rxn46596', 'rxn31322', 'rxn31339', 'rxn31356', 'rxn31373', 'rxn31395', 'rxn31404', 'rxn31423', 'rxn31462', 'rxn31497', 'rxn31654', 'rxn31655', 'rxn31656', 'rxn31658', 'rxn31659', 'rxn31660', 'rxn31791', 'rxn52685', 'rxn47319', 'rxn47825', 'rxn47826', 'rxn16466', 'rxn16728', 'rxn58872', 'rxn58873', 'rxn58878', 'rxn58880', 'rxn58882', 'rxn58883', 'rxn58886', 'rxn63373', 'rxn64593', 'rxn64594', 'rxn60705', 'rxn60855', 'rxn60963', 'rxn61150', 'rxn61179', 'rxn61338', 'rxn67231', 'rxn60424', 'rxn60676', 'rxn68760', 'rxn68765', 'rxn9383', 'rxn9534', 'rxn9535', 'rxn9947', 'rxn9948', 'rxn70470', 'rxn7962', 'rxn8388', 'rxn9982', 'rxn9983', 'rxn9985', 'rxn9986', 'rxn9987', 'rxn9994', 'rxn9995', 'rxn9997', 'rxn9999', 'rxn10011', 'rxn10013', 'rxn10015', 'rxn10025', 'rxn10027', 'rxn10035', 'rxn6111', 'rxn6141', 'rxn6176', 'rxn6194', 'rxn6215', 'rxn6230', 'rxn6250', 'rxn6261', 'rxn6282', 'rxn6314', 'rxn6605', 'rxn4875', 'rxn2800', 'rxn2802', 'rxn339', 'rxn687', 'rxn759']\n"
     ]
    }
   ],
   "source": [
    "atp_reaction = []\n",
    "\n",
    "for reaction in yeast8U_mod.reactions:\n",
    "    if 'rxn' in reaction.id:\n",
    "        tmp = {str(k.id):v for k,v in reaction.metabolites.items()}\n",
    "        if 's_0434' in tmp and tmp['s_0434']>0:\n",
    "            atp_reaction.append(reaction.id)\n",
    "            \n",
    "print(len(atp_reaction))\n",
    "print(atp_reaction)"
   ]
  },
  {
   "cell_type": "code",
   "execution_count": 20,
   "metadata": {},
   "outputs": [
    {
     "name": "stdout",
     "output_type": "stream",
     "text": [
      "s_1538 UDP UDP\n",
      "s_1545 UMP UMP\n",
      "s_1559 UTP UTP\n",
      "s_0652 dUDP dUDP\n",
      "s_0654 dUMP dUMP\n",
      "s_0656 dUTP dUTP\n",
      "s_0467 CDP CDP\n",
      "s_0526 CMP CMP\n",
      "s_0539 CTP CTP\n",
      "s_0587 dCDP dCDP\n",
      "s_0589 dCMP dCMP\n",
      "s_0590 dCTP dCTP\n",
      "s_1475 TDP TDP\n",
      "s_1497 TMP TMP\n",
      "s_0647 dTDP dTDP\n",
      "s_0649 dTMP dTMP\n",
      "s_0650 dTTP dTTP\n",
      "s_0739 GDP GDP\n",
      "s_0782 GMP GMP\n",
      "s_0785 GTP GTP\n",
      "s_0613 dGDP dGDP\n",
      "s_0615 dGMP dGMP\n",
      "s_0617 dGTP dGTP\n",
      "s_0846 IDP IDP\n",
      "s_0849 IMP IMP\n",
      "s_0950 ITP ITP\n",
      "s_0618 dIDP dIDP\n",
      "s_0639 dITP dITP\n",
      "1931\n",
      "['rxn20602', 'rxn29231', 'rxn26742', 'rxn26743', 'rxn26744', 'rxn26745', 'rxn26746', 'rxn26750', 'rxn26762', 'rxn26764', 'rxn26813', 'rxn26814', 'rxn26818', 'rxn26832', 'rxn26860', 'rxn26861', 'rxn26862', 'rxn26863', 'rxn26866', 'rxn26867', 'rxn26869', 'rxn26870', 'rxn26871', 'rxn26872', 'rxn26873', 'rxn26874', 'rxn26877', 'rxn26878', 'rxn26880', 'rxn26881', 'rxn23760', 'rxn23761', 'rxn23762', 'rxn23763', 'rxn23764', 'rxn23765', 'rxn23766', 'rxn23767', 'rxn23770', 'rxn23771', 'rxn23772', 'rxn23773', 'rxn23774', 'rxn23775', 'rxn23776', 'rxn23777', 'rxn23778', 'rxn23779', 'rxn23780', 'rxn23781', 'rxn23782', 'rxn23783', 'rxn23784', 'rxn23785', 'rxn23786', 'rxn23787', 'rxn23788', 'rxn23789', 'rxn23790', 'rxn23791', 'rxn23792', 'rxn23793', 'rxn23794', 'rxn23795', 'rxn23796', 'rxn23797', 'rxn23798', 'rxn23799', 'rxn23800', 'rxn24686', 'rxn25974', 'rxn25976', 'rxn25989', 'rxn25991', 'rxn26011', 'rxn26013', 'rxn26026', 'rxn26028', 'rxn26075', 'rxn26081', 'rxn26083', 'rxn26092', 'rxn26096', 'rxn26098', 'rxn26118', 'rxn26120', 'rxn26133', 'rxn26135', 'rxn26166', 'rxn26168', 'rxn26181', 'rxn26183', 'rxn22188', 'rxn18259', 'rxn18260', 'rxn18261', 'rxn18263', 'rxn18264', 'rxn18266', 'rxn18267', 'rxn19041', 'rxn29538', 'rxn29539', 'rxn30402', 'rxn18096', 'rxn18098', 'rxn18099', 'rxn18107', 'rxn18108', 'rxn18109', 'rxn18110', 'rxn18111', 'rxn18112', 'rxn18115', 'rxn18116', 'rxn18117', 'rxn18118', 'rxn18121', 'rxn18122', 'rxn18123', 'rxn18124', 'rxn18129', 'rxn18131', 'rxn18132', 'rxn18140', 'rxn18142', 'rxn18143', 'rxn18151', 'rxn18153', 'rxn18154', 'rxn18160', 'rxn18161', 'rxn18162', 'rxn18164', 'rxn18165', 'rxn18167', 'rxn18168', 'rxn18173', 'rxn18175', 'rxn18176', 'rxn18182', 'rxn18183', 'rxn18184', 'rxn18186', 'rxn18187', 'rxn18189', 'rxn18190', 'rxn18195', 'rxn18197', 'rxn18198', 'rxn18204', 'rxn18205', 'rxn18206', 'rxn18208', 'rxn18209', 'rxn18211', 'rxn18212', 'rxn18217', 'rxn18218', 'rxn18219', 'rxn18220', 'rxn18221', 'rxn18222', 'rxn18225', 'rxn18226', 'rxn18227', 'rxn18228', 'rxn18231', 'rxn18232', 'rxn18233', 'rxn18234', 'rxn18239', 'rxn18241', 'rxn18242', 'rxn18250', 'rxn18252', 'rxn18253', 'rxn35693', 'rxn35724', 'rxn35726', 'rxn32224', 'rxn32225', 'rxn32226', 'rxn32227', 'rxn32228', 'rxn32229', 'rxn32230', 'rxn32231', 'rxn32233', 'rxn32234', 'rxn32235', 'rxn32237', 'rxn32238', 'rxn32975', 'rxn32976', 'rxn32977', 'rxn32978', 'rxn32979', 'rxn32980', 'rxn32981', 'rxn32982', 'rxn32983', 'rxn32984', 'rxn32985', 'rxn32986', 'rxn33007', 'rxn33008', 'rxn33009', 'rxn33010', 'rxn33011', 'rxn33012', 'rxn33013', 'rxn33014', 'rxn33015', 'rxn33016', 'rxn33017', 'rxn33018', 'rxn33213', 'rxn33214', 'rxn33215', 'rxn33216', 'rxn33217', 'rxn33218', 'rxn33219', 'rxn33220', 'rxn33221', 'rxn33222', 'rxn33224', 'rxn33225', 'rxn33227', 'rxn33231', 'rxn33232', 'rxn33233', 'rxn33234', 'rxn33235', 'rxn33236', 'rxn33237', 'rxn33238', 'rxn33239', 'rxn33240', 'rxn33242', 'rxn33244', 'rxn33248', 'rxn33251', 'rxn33252', 'rxn33253', 'rxn33254', 'rxn33255', 'rxn33256', 'rxn33257', 'rxn33258', 'rxn33259', 'rxn33260', 'rxn33262', 'rxn33263', 'rxn33265', 'rxn33269', 'rxn33271', 'rxn33272', 'rxn33273', 'rxn33274', 'rxn33275', 'rxn33276', 'rxn33277', 'rxn33278', 'rxn33280', 'rxn33282', 'rxn33286', 'rxn38253', 'rxn38254', 'rxn22855', 'rxn22856', 'rxn22859', 'rxn22866', 'rxn22867', 'rxn22870', 'rxn22937', 'rxn22938', 'rxn22941', 'rxn22942', 'rxn22948', 'rxn22968', 'rxn22984', 'rxn22985', 'rxn22986', 'rxn22987', 'rxn22990', 'rxn22997', 'rxn22998', 'rxn23001', 'rxn23122', 'rxn23123', 'rxn23124', 'rxn23184', 'rxn23646', 'rxn23647', 'rxn23648', 'rxn23649', 'rxn23650', 'rxn23651', 'rxn23652', 'rxn23653', 'rxn23654', 'rxn23655', 'rxn23656', 'rxn23657', 'rxn23658', 'rxn23659', 'rxn23660', 'rxn23661', 'rxn23662', 'rxn23663', 'rxn23664', 'rxn23665', 'rxn23666', 'rxn23667', 'rxn23668', 'rxn23669', 'rxn23670', 'rxn23671', 'rxn23672', 'rxn23673', 'rxn23674', 'rxn23675', 'rxn23676', 'rxn23677', 'rxn23678', 'rxn23679', 'rxn23680', 'rxn23681', 'rxn23682', 'rxn23683', 'rxn23684', 'rxn23685', 'rxn23686', 'rxn23687', 'rxn23688', 'rxn23689', 'rxn23690', 'rxn23691', 'rxn23692', 'rxn23693', 'rxn23694', 'rxn23695', 'rxn23696', 'rxn23697', 'rxn23698', 'rxn23699', 'rxn23700', 'rxn23701', 'rxn23702', 'rxn23703', 'rxn23704', 'rxn23705', 'rxn23706', 'rxn23707', 'rxn23708', 'rxn23709', 'rxn23710', 'rxn23711', 'rxn23712', 'rxn23713', 'rxn23714', 'rxn23715', 'rxn23716', 'rxn23717', 'rxn23718', 'rxn23719', 'rxn23720', 'rxn23721', 'rxn23722', 'rxn23723', 'rxn23724', 'rxn23725', 'rxn23726', 'rxn23727', 'rxn23728', 'rxn23729', 'rxn23730', 'rxn23731', 'rxn23732', 'rxn23733', 'rxn23734', 'rxn23735', 'rxn23736', 'rxn23737', 'rxn23738', 'rxn23744', 'rxn23745', 'rxn23746', 'rxn23747', 'rxn23748', 'rxn23749', 'rxn23750', 'rxn23751', 'rxn23753', 'rxn37124', 'rxn37125', 'rxn37126', 'rxn37127', 'rxn37128', 'rxn37129', 'rxn37132', 'rxn37133', 'rxn37266', 'rxn40508', 'rxn40510', 'rxn40531', 'rxn40536', 'rxn40537', 'rxn40549', 'rxn40561', 'rxn40562', 'rxn40576', 'rxn40577', 'rxn40766', 'rxn40778', 'rxn43900', 'rxn14278', 'rxn14279', 'rxn14281', 'rxn14313', 'rxn14314', 'rxn14316', 'rxn14348', 'rxn14349', 'rxn14351', 'rxn14355', 'rxn14388', 'rxn14392', 'rxn14417', 'rxn14418', 'rxn14420', 'rxn14804', 'rxn14806', 'rxn15399', 'rxn15512', 'rxn15513', 'rxn15514', 'rxn15515', 'rxn15516', 'rxn39085', 'rxn39117', 'rxn39121', 'rxn49450', 'rxn49451', 'rxn44150', 'rxn44152', 'rxn44195', 'rxn44196', 'rxn44206', 'rxn44207', 'rxn44220', 'rxn45289', 'rxn45290', 'rxn45304', 'rxn45305', 'rxn45448', 'rxn45449', 'rxn51000', 'rxn31320', 'rxn31321', 'rxn31322', 'rxn31323', 'rxn31326', 'rxn31327', 'rxn31328', 'rxn31331', 'rxn31332', 'rxn31333', 'rxn31336', 'rxn31337', 'rxn31338', 'rxn31339', 'rxn31340', 'rxn31343', 'rxn31344', 'rxn31345', 'rxn31348', 'rxn31349', 'rxn31350', 'rxn31353', 'rxn31354', 'rxn31355', 'rxn31356', 'rxn31357', 'rxn31360', 'rxn31361', 'rxn31362', 'rxn31365', 'rxn31366', 'rxn31367', 'rxn31370', 'rxn31371', 'rxn31372', 'rxn31373', 'rxn31374', 'rxn31377', 'rxn31378', 'rxn31379', 'rxn31382', 'rxn31383', 'rxn31384', 'rxn31387', 'rxn31394', 'rxn31395', 'rxn31396', 'rxn31397', 'rxn31400', 'rxn31401', 'rxn31402', 'rxn31403', 'rxn31404', 'rxn31405', 'rxn31408', 'rxn31409', 'rxn31410', 'rxn31413', 'rxn31414', 'rxn31415', 'rxn31418', 'rxn31421', 'rxn31422', 'rxn31423', 'rxn31424', 'rxn31427', 'rxn31428', 'rxn31429', 'rxn31432', 'rxn31433', 'rxn31434', 'rxn31437', 'rxn31442', 'rxn31443', 'rxn31451', 'rxn31452', 'rxn31466', 'rxn31467', 'rxn31468', 'rxn31471', 'rxn31472', 'rxn31473', 'rxn31486', 'rxn31488', 'rxn31495', 'rxn31496', 'rxn31497', 'rxn31498', 'rxn31501', 'rxn31502', 'rxn31503', 'rxn31539', 'rxn31541', 'rxn31941', 'rxn31942', 'rxn31943', 'rxn53257', 'rxn53263', 'rxn53265', 'rxn53275', 'rxn53278', 'rxn53280', 'rxn53305', 'rxn53311', 'rxn53313', 'rxn53321', 'rxn53325', 'rxn53327', 'rxn53465', 'rxn53471', 'rxn53478', 'rxn53482', 'rxn53485', 'rxn53492', 'rxn53495', 'rxn53498', 'rxn53505', 'rxn53508', 'rxn53511', 'rxn53518', 'rxn53524', 'rxn53531', 'rxn53537', 'rxn53539', 'rxn53541', 'rxn53542', 'rxn53544', 'rxn53548', 'rxn53549', 'rxn53550', 'rxn53552', 'rxn53554', 'rxn53555', 'rxn53557', 'rxn53561', 'rxn53562', 'rxn53563', 'rxn53567', 'rxn53570', 'rxn53574', 'rxn53576', 'rxn53577', 'rxn53579', 'rxn53583', 'rxn53584', 'rxn53585', 'rxn11502', 'rxn11535', 'rxn12061', 'rxn12062', 'rxn12240', 'rxn12248', 'rxn12251', 'rxn12253', 'rxn15517', 'rxn15518', 'rxn15519', 'rxn15520', 'rxn15521', 'rxn15523', 'rxn15524', 'rxn15526', 'rxn15527', 'rxn15528', 'rxn15529', 'rxn15530', 'rxn15531', 'rxn15532', 'rxn15533', 'rxn15534', 'rxn15535', 'rxn15536', 'rxn15537', 'rxn15538', 'rxn15539', 'rxn15540', 'rxn15541', 'rxn15542', 'rxn15543', 'rxn15544', 'rxn15545', 'rxn15546', 'rxn15547', 'rxn15548', 'rxn15549', 'rxn15550', 'rxn15551', 'rxn15552', 'rxn15553', 'rxn15554', 'rxn15555', 'rxn15556', 'rxn15557', 'rxn15558', 'rxn15559', 'rxn15560', 'rxn15561', 'rxn15562', 'rxn15563', 'rxn15564', 'rxn15565', 'rxn15566', 'rxn15567', 'rxn15568', 'rxn15569', 'rxn15570', 'rxn15571', 'rxn15572', 'rxn15573', 'rxn15574', 'rxn15871', 'rxn16121', 'rxn16122', 'rxn16123', 'rxn16124', 'rxn16125', 'rxn16126', 'rxn16127', 'rxn16128', 'rxn16129', 'rxn16131', 'rxn16132', 'rxn16133', 'rxn16134', 'rxn16135', 'rxn16136', 'rxn16137', 'rxn16138', 'rxn16139', 'rxn16141', 'rxn16142', 'rxn16143', 'rxn16144', 'rxn16145', 'rxn16146', 'rxn16147', 'rxn16148', 'rxn16149', 'rxn16151', 'rxn16152', 'rxn16153', 'rxn16154', 'rxn16155', 'rxn16156', 'rxn16157', 'rxn16158', 'rxn16159', 'rxn16181', 'rxn16182', 'rxn16183', 'rxn16184', 'rxn16185', 'rxn16186', 'rxn16187', 'rxn16188', 'rxn16189', 'rxn16191', 'rxn16192', 'rxn16193', 'rxn16194', 'rxn16195', 'rxn16196', 'rxn16197', 'rxn16198', 'rxn16199', 'rxn13133', 'rxn13179', 'rxn13194', 'rxn55093', 'rxn55139', 'rxn56583', 'rxn56584', 'rxn56585', 'rxn56586', 'rxn56587', 'rxn56588', 'rxn56589', 'rxn56590', 'rxn56591', 'rxn56592', 'rxn57635', 'rxn53587', 'rxn53589', 'rxn53590', 'rxn53592', 'rxn53596', 'rxn53597', 'rxn53598', 'rxn54408', 'rxn54409', 'rxn54411', 'rxn49537', 'rxn49538', 'rxn49539', 'rxn49540', 'rxn49541', 'rxn49542', 'rxn49543', 'rxn49544', 'rxn49545', 'rxn49546', 'rxn49547', 'rxn49548', 'rxn49549', 'rxn49550', 'rxn49551', 'rxn49567', 'rxn49568', 'rxn49569', 'rxn49570', 'rxn49571', 'rxn49572', 'rxn49573', 'rxn49574', 'rxn49575', 'rxn49576', 'rxn49578', 'rxn49579', 'rxn49580', 'rxn49581', 'rxn49587', 'rxn49588', 'rxn49589', 'rxn49590', 'rxn49591', 'rxn49592', 'rxn49593', 'rxn49594', 'rxn49595', 'rxn49596', 'rxn58632', 'rxn58633', 'rxn58634', 'rxn58635', 'rxn58636', 'rxn58637', 'rxn58638', 'rxn58639', 'rxn58640', 'rxn58641', 'rxn58643', 'rxn58644', 'rxn58646', 'rxn58650', 'rxn58651', 'rxn58652', 'rxn58653', 'rxn58654', 'rxn58655', 'rxn58656', 'rxn58657', 'rxn58658', 'rxn58659', 'rxn58661', 'rxn58663', 'rxn58667', 'rxn58872', 'rxn58873', 'rxn58880', 'rxn58882', 'rxn58883', 'rxn58884', 'rxn62737', 'rxn60701', 'rxn60702', 'rxn60703', 'rxn60704', 'rxn60705', 'rxn60716', 'rxn60717', 'rxn60718', 'rxn60849', 'rxn60850', 'rxn60851', 'rxn60854', 'rxn60855', 'rxn60947', 'rxn60948', 'rxn60949', 'rxn60962', 'rxn60963', 'rxn60987', 'rxn60988', 'rxn60990', 'rxn60991', 'rxn61017', 'rxn61020', 'rxn61146', 'rxn61147', 'rxn61148', 'rxn61149', 'rxn61150', 'rxn61166', 'rxn61167', 'rxn61168', 'rxn61173', 'rxn61174', 'rxn61175', 'rxn61178', 'rxn61179', 'rxn61287', 'rxn61288', 'rxn61289', 'rxn61295', 'rxn61326', 'rxn61327', 'rxn61331', 'rxn61332', 'rxn61333', 'rxn61337', 'rxn61338', 'rxn61764', 'rxn61765', 'rxn61767', 'rxn61768', 'rxn61776', 'rxn61777', 'rxn61779', 'rxn61780', 'rxn61784', 'rxn61785', 'rxn61787', 'rxn61788', 'rxn61792', 'rxn61793', 'rxn61796', 'rxn61801', 'rxn61802', 'rxn61803', 'rxn61804', 'rxn61811', 'rxn61812', 'rxn61817', 'rxn61818', 'rxn61821', 'rxn61822', 'rxn61823', 'rxn61824', 'rxn61825', 'rxn61826', 'rxn61833', 'rxn61834', 'rxn61835', 'rxn61850', 'rxn61851', 'rxn61852', 'rxn61853', 'rxn61854', 'rxn61855', 'rxn61862', 'rxn61863', 'rxn61864', 'rxn61865', 'rxn61866', 'rxn61867', 'rxn61871', 'rxn61872', 'rxn61873', 'rxn61874', 'rxn61875', 'rxn61879', 'rxn61880', 'rxn61883', 'rxn61884', 'rxn61886', 'rxn61922', 'rxn61923', 'rxn61924', 'rxn61925', 'rxn61926', 'rxn61927', 'rxn61934', 'rxn61935', 'rxn61936', 'rxn59375', 'rxn59391', 'rxn59486', 'rxn59487', 'rxn59502', 'rxn59503', 'rxn60154', 'rxn60331', 'rxn60332', 'rxn60333', 'rxn60345', 'rxn60346', 'rxn60347', 'rxn60362', 'rxn60393', 'rxn60394', 'rxn60395', 'rxn60396', 'rxn60408', 'rxn60409', 'rxn60410', 'rxn60415', 'rxn60416', 'rxn60417', 'rxn60419', 'rxn60420', 'rxn60421', 'rxn60423', 'rxn60424', 'rxn60432', 'rxn60433', 'rxn60434', 'rxn60445', 'rxn60446', 'rxn60485', 'rxn60486', 'rxn60494', 'rxn60499', 'rxn60500', 'rxn60501', 'rxn60504', 'rxn60506', 'rxn60507', 'rxn60510', 'rxn60511', 'rxn60516', 'rxn60525', 'rxn60530', 'rxn60531', 'rxn60532', 'rxn60535', 'rxn60537', 'rxn60541', 'rxn60556', 'rxn60565', 'rxn60566', 'rxn60567', 'rxn60571', 'rxn60663', 'rxn60664', 'rxn60665', 'rxn60670', 'rxn60671', 'rxn60672', 'rxn60675', 'rxn60676', 'rxn60698', 'rxn60699', 'rxn60700', 'rxn8939', 'rxn8944', 'rxn8945', 'rxn8948', 'rxn8949', 'rxn8952', 'rxn8954', 'rxn8955', 'rxn8960', 'rxn8963', 'rxn8965', 'rxn8968', 'rxn8969', 'rxn8972', 'rxn8974', 'rxn8975', 'rxn8980', 'rxn8984', 'rxn8985', 'rxn8988', 'rxn8990', 'rxn8991', 'rxn8994', 'rxn8995', 'rxn9000', 'rxn9003', 'rxn9005', 'rxn9008', 'rxn9010', 'rxn9011', 'rxn9014', 'rxn9015', 'rxn9019', 'rxn9024', 'rxn9025', 'rxn9028', 'rxn9030', 'rxn9033', 'rxn9034', 'rxn9035', 'rxn9041', 'rxn9043', 'rxn9045', 'rxn9048', 'rxn9049', 'rxn9052', 'rxn9054', 'rxn9055', 'rxn9061', 'rxn9063', 'rxn9065', 'rxn9068', 'rxn9069', 'rxn9073', 'rxn9074', 'rxn9075', 'rxn9946', 'rxn9948', 'rxn9953', 'rxn9955', 'rxn7325', 'rxn7525', 'rxn7755', 'rxn7759', 'rxn7761', 'rxn7762', 'rxn7766', 'rxn7768', 'rxn7801', 'rxn7805', 'rxn7809', 'rxn7810', 'rxn7819', 'rxn7823', 'rxn7824', 'rxn7827', 'rxn7848', 'rxn7850', 'rxn7853', 'rxn7855', 'rxn7856', 'rxn7858', 'rxn7860', 'rxn7884', 'rxn7890', 'rxn7893', 'rxn7895', 'rxn7897', 'rxn7898', 'rxn7899', 'rxn7900', 'rxn7901', 'rxn7902', 'rxn7903', 'rxn7904', 'rxn7906', 'rxn7909', 'rxn7911', 'rxn7913', 'rxn7915', 'rxn7917', 'rxn8283', 'rxn8284', 'rxn8285', 'rxn8333', 'rxn8390', 'rxn8391', 'rxn10509', 'rxn10510', 'rxn10511', 'rxn10987', 'rxn10988', 'rxn10989', 'rxn10990', 'rxn10991', 'rxn10992', 'rxn10993', 'rxn10994', 'rxn10995', 'rxn10996', 'rxn10997', 'rxn10998', 'rxn10999', 'rxn11000', 'rxn11001', 'rxn11002', 'rxn11003', 'rxn11004', 'rxn11005', 'rxn11006', 'rxn11007', 'rxn11008', 'rxn11009', 'rxn11010', 'rxn11011', 'rxn11012', 'rxn11013', 'rxn11014', 'rxn11015', 'rxn11016', 'rxn11017', 'rxn11018', 'rxn11019', 'rxn11020', 'rxn11021', 'rxn11022', 'rxn11023', 'rxn11024', 'rxn11025', 'rxn11026', 'rxn11047', 'rxn11048', 'rxn11049', 'rxn11050', 'rxn11051', 'rxn11052', 'rxn11053', 'rxn11054', 'rxn11055', 'rxn11056', 'rxn11057', 'rxn11058', 'rxn11059', 'rxn11060', 'rxn11061', 'rxn11062', 'rxn11063', 'rxn11064', 'rxn11065', 'rxn11066', 'rxn6061', 'rxn6062', 'rxn6063', 'rxn6064', 'rxn6105', 'rxn6106', 'rxn6107', 'rxn6108', 'rxn6112', 'rxn6113', 'rxn6115', 'rxn6116', 'rxn6117', 'rxn6118', 'rxn6121', 'rxn6122', 'rxn6129', 'rxn6136', 'rxn6141', 'rxn6144', 'rxn6149', 'rxn6160', 'rxn6161', 'rxn6162', 'rxn6163', 'rxn6166', 'rxn6167', 'rxn6170', 'rxn6172', 'rxn6176', 'rxn6177', 'rxn6180', 'rxn6183', 'rxn6189', 'rxn6194', 'rxn6196', 'rxn6199', 'rxn6205', 'rxn6211', 'rxn6215', 'rxn6217', 'rxn6222', 'rxn6224', 'rxn6230', 'rxn6232', 'rxn6234', 'rxn6248', 'rxn6249', 'rxn6250', 'rxn6251', 'rxn6252', 'rxn6255', 'rxn6257', 'rxn6261', 'rxn6262', 'rxn6265', 'rxn6266', 'rxn6267', 'rxn6268', 'rxn6269', 'rxn6270', 'rxn6271', 'rxn6277', 'rxn6282', 'rxn6286', 'rxn6287', 'rxn6289', 'rxn6290', 'rxn6291', 'rxn6292', 'rxn6309', 'rxn6311', 'rxn6314', 'rxn6316', 'rxn6317', 'rxn6318', 'rxn6347', 'rxn6349', 'rxn6350', 'rxn6351', 'rxn6352', 'rxn6354', 'rxn6355', 'rxn6356', 'rxn6372', 'rxn6374', 'rxn6375', 'rxn6376', 'rxn6397', 'rxn6398', 'rxn6399', 'rxn6400', 'rxn6401', 'rxn6402', 'rxn6403', 'rxn6404', 'rxn6405', 'rxn6406', 'rxn6415', 'rxn6417', 'rxn6418', 'rxn6419', 'rxn6421', 'rxn6422', 'rxn6423', 'rxn6425', 'rxn6426', 'rxn6428', 'rxn6430', 'rxn6431', 'rxn6439', 'rxn6441', 'rxn6442', 'rxn6445', 'rxn6447', 'rxn6448', 'rxn6449', 'rxn6450', 'rxn6604', 'rxn6605', 'rxn6685', 'rxn7029', 'rxn7033', 'rxn4520', 'rxn4522', 'rxn4574', 'rxn4629', 'rxn4632', 'rxn4634', 'rxn4635', 'rxn4636', 'rxn4637', 'rxn4713', 'rxn4714', 'rxn4715', 'rxn4716', 'rxn4717', 'rxn4718', 'rxn4932', 'rxn4933', 'rxn4934', 'rxn4935', 'rxn4936', 'rxn4937', 'rxn4938', 'rxn4939', 'rxn4940', 'rxn4941', 'rxn4943', 'rxn4944', 'rxn4946', 'rxn4950', 'rxn4952', 'rxn4953', 'rxn4954', 'rxn4955', 'rxn4956', 'rxn4957', 'rxn4958', 'rxn4959', 'rxn4961', 'rxn4963', 'rxn4967', 'rxn4968', 'rxn4969', 'rxn4970', 'rxn4971', 'rxn4972', 'rxn4973', 'rxn4974', 'rxn4975', 'rxn4976', 'rxn4977', 'rxn4979', 'rxn4980', 'rxn4982', 'rxn4986', 'rxn4988', 'rxn4989', 'rxn4990', 'rxn4991', 'rxn4992', 'rxn4993', 'rxn4994', 'rxn4995', 'rxn4997', 'rxn4999', 'rxn5003', 'rxn5010', 'rxn5011', 'rxn5012', 'rxn5013', 'rxn5014', 'rxn5015', 'rxn5016', 'rxn5017', 'rxn5018', 'rxn5019', 'rxn5021', 'rxn5022', 'rxn5024', 'rxn5028', 'rxn5029', 'rxn5030', 'rxn5031', 'rxn5032', 'rxn5033', 'rxn5034', 'rxn5035', 'rxn5036', 'rxn5037', 'rxn5039', 'rxn5041', 'rxn5045', 'rxn5046', 'rxn5047', 'rxn5048', 'rxn5049', 'rxn5050', 'rxn5051', 'rxn5052', 'rxn5053', 'rxn5054', 'rxn5055', 'rxn5057', 'rxn5058', 'rxn5060', 'rxn5064', 'rxn5065', 'rxn5066', 'rxn5067', 'rxn5068', 'rxn5069', 'rxn5070', 'rxn5071', 'rxn5072', 'rxn5073', 'rxn5075', 'rxn5077', 'rxn5081', 'rxn5084', 'rxn5085', 'rxn5086', 'rxn5087', 'rxn5088', 'rxn5089', 'rxn5090', 'rxn5091', 'rxn5092', 'rxn5093', 'rxn5095', 'rxn5096', 'rxn5098', 'rxn5102', 'rxn5103', 'rxn5104', 'rxn5105', 'rxn5106', 'rxn5107', 'rxn5108', 'rxn5109', 'rxn5110', 'rxn5111', 'rxn5113', 'rxn5115', 'rxn5119', 'rxn5382', 'rxn5383', 'rxn5497', 'rxn5498', 'rxn5499', 'rxn5500', 'rxn5501', 'rxn5502', 'rxn5503', 'rxn5504', 'rxn5505', 'rxn5507', 'rxn5508', 'rxn5509', 'rxn5511', 'rxn5513', 'rxn5514', 'rxn5515', 'rxn5516', 'rxn5517', 'rxn5518', 'rxn5519', 'rxn5520', 'rxn5521', 'rxn5523', 'rxn5524', 'rxn5525', 'rxn5527', 'rxn5529', 'rxn5530', 'rxn5531', 'rxn5532', 'rxn5533', 'rxn5534', 'rxn5535', 'rxn5536', 'rxn5537', 'rxn5539', 'rxn5540', 'rxn5541', 'rxn5543', 'rxn5545', 'rxn5546', 'rxn5547', 'rxn5548', 'rxn5549', 'rxn5550', 'rxn5551', 'rxn5552', 'rxn5553', 'rxn5555', 'rxn5556', 'rxn5557', 'rxn5559', 'rxn5561', 'rxn5562', 'rxn5563', 'rxn5564', 'rxn5565', 'rxn5566', 'rxn5567', 'rxn5568', 'rxn5569', 'rxn5571', 'rxn5572', 'rxn5573', 'rxn5575', 'rxn5577', 'rxn5578', 'rxn5579', 'rxn5580', 'rxn5581', 'rxn5582', 'rxn5583', 'rxn5584', 'rxn5585', 'rxn5587', 'rxn5588', 'rxn5589', 'rxn5591', 'rxn5593', 'rxn5594', 'rxn5595', 'rxn5596', 'rxn5597', 'rxn5598', 'rxn5599', 'rxn5600', 'rxn5601', 'rxn5603', 'rxn5604', 'rxn5605', 'rxn5607', 'rxn5609', 'rxn5610', 'rxn5611', 'rxn5612', 'rxn5613', 'rxn5614', 'rxn5615', 'rxn5616', 'rxn5617', 'rxn5619', 'rxn5620', 'rxn5621', 'rxn5623', 'rxn5625', 'rxn5626', 'rxn5627', 'rxn5628', 'rxn5629', 'rxn5630', 'rxn5631', 'rxn5632', 'rxn5633', 'rxn5635', 'rxn5636', 'rxn5637', 'rxn5639', 'rxn5641', 'rxn5642', 'rxn5643', 'rxn5644', 'rxn5645', 'rxn5646', 'rxn5647', 'rxn5648', 'rxn5649', 'rxn5651', 'rxn5652', 'rxn5653', 'rxn5655', 'rxn3052', 'rxn3053', 'rxn3054', 'rxn3055', 'rxn3056', 'rxn3057', 'rxn3058', 'rxn3059', 'rxn3063', 'rxn3065', 'rxn3066', 'rxn3069', 'rxn3070', 'rxn3071', 'rxn3073', 'rxn3076', 'rxn3077', 'rxn3078', 'rxn3079', 'rxn3083', 'rxn3084', 'rxn3085', 'rxn3089', 'rxn3090', 'rxn3091', 'rxn3092', 'rxn3093', 'rxn3094', 'rxn3095', 'rxn3096', 'rxn3097', 'rxn3098', 'rxn3099', 'rxn3100', 'rxn3101', 'rxn3102', 'rxn3103', 'rxn3104', 'rxn3105', 'rxn3106', 'rxn3107', 'rxn3108', 'rxn3109', 'rxn3110', 'rxn3111', 'rxn3112', 'rxn3113', 'rxn3114', 'rxn3115', 'rxn3116', 'rxn3118', 'rxn3119', 'rxn3120', 'rxn3121', 'rxn3123', 'rxn3124', 'rxn3125', 'rxn3126', 'rxn3127', 'rxn3128', 'rxn3129', 'rxn3130', 'rxn3131', 'rxn3132', 'rxn3133', 'rxn3134', 'rxn3135', 'rxn3136', 'rxn3137', 'rxn3138', 'rxn3139', 'rxn3140', 'rxn3141', 'rxn3142', 'rxn3143', 'rxn3144', 'rxn3145', 'rxn3146', 'rxn3147', 'rxn3148', 'rxn3149', 'rxn3150', 'rxn3151', 'rxn3152', 'rxn3153', 'rxn3154', 'rxn3155', 'rxn3156', 'rxn3157', 'rxn3158', 'rxn3169', 'rxn3170', 'rxn3171', 'rxn3172', 'rxn3173', 'rxn3174', 'rxn3175', 'rxn3176', 'rxn3178', 'rxn3179', 'rxn3180', 'rxn3182', 'rxn3183', 'rxn3189', 'rxn3195', 'rxn3226', 'rxn3228', 'rxn3317', 'rxn3318', 'rxn3319', 'rxn3321', 'rxn3322', 'rxn3324', 'rxn3325', 'rxn3326', 'rxn3327', 'rxn3608', 'rxn3611', 'rxn3619', 'rxn3622', 'rxn3624', 'rxn3627', 'rxn3636', 'rxn3639', 'rxn3647', 'rxn3650', 'rxn3652', 'rxn3655', 'rxn3660', 'rxn3661', 'rxn3665', 'rxn3666', 'rxn3684', 'rxn3685', 'rxn3689', 'rxn3690', 'rxn3692', 'rxn3693', 'rxn3694', 'rxn3695', 'rxn3696', 'rxn3700', 'rxn3701', 'rxn3702', 'rxn3703', 'rxn3711', 'rxn3712', 'rxn3714', 'rxn3715', 'rxn3716', 'rxn3719', 'rxn3725', 'rxn3726', 'rxn3727', 'rxn3728', 'rxn3731', 'rxn3735', 'rxn3736', 'rxn3738', 'rxn3740', 'rxn3741', 'rxn3743', 'rxn3746', 'rxn3759', 'rxn3760', 'rxn3761', 'rxn3762', 'rxn3763', 'rxn3767', 'rxn3768', 'rxn3769', 'rxn3770', 'rxn3778', 'rxn3779', 'rxn3781', 'rxn3782', 'rxn3783', 'rxn3786', 'rxn3791', 'rxn3792', 'rxn3796', 'rxn3797', 'rxn3799', 'rxn3800', 'rxn3801', 'rxn3811', 'rxn3812', 'rxn3813', 'rxn3815', 'rxn3816', 'rxn3818', 'rxn3819', 'rxn3820', 'rxn3821', 'rxn3823', 'rxn3824', 'rxn3825', 'rxn3827', 'rxn3828', 'rxn3830', 'rxn3831', 'rxn3832', 'rxn3833', 'rxn4377', 'rxn4378', 'rxn4379', 'rxn1878', 'rxn1930', 'rxn1935', 'rxn2509', 'rxn2510', 'rxn2511', 'rxn2512', 'rxn2513', 'rxn2672', 'rxn2673', 'rxn2927', 'rxn2928', 'rxn2929', 'rxn2930', 'rxn2931', 'rxn2932', 'rxn2933', 'rxn2934', 'rxn2935', 'rxn2936', 'rxn2937', 'rxn2938', 'rxn2939', 'rxn2940', 'rxn2941', 'rxn2942', 'rxn2943', 'rxn2944', 'rxn2945', 'rxn2946', 'rxn2947', 'rxn2948', 'rxn2949', 'rxn2950', 'rxn2951', 'rxn2952', 'rxn2953', 'rxn2955', 'rxn2956', 'rxn2957', 'rxn2958', 'rxn2959', 'rxn2960', 'rxn2961', 'rxn2962', 'rxn2963', 'rxn2964', 'rxn2965', 'rxn2966', 'rxn2967', 'rxn2968', 'rxn2969', 'rxn2973', 'rxn2974', 'rxn2975', 'rxn2976', 'rxn2977', 'rxn2978', 'rxn2979', 'rxn2980', 'rxn2981', 'rxn2982', 'rxn2983', 'rxn2984', 'rxn2985', 'rxn2986', 'rxn2987', 'rxn2989', 'rxn2990', 'rxn2991', 'rxn2992', 'rxn2994', 'rxn2995', 'rxn2996', 'rxn2997', 'rxn2998', 'rxn2999', 'rxn3000', 'rxn3004', 'rxn3005', 'rxn3006', 'rxn3010', 'rxn3011', 'rxn3012', 'rxn3013', 'rxn3014', 'rxn3015', 'rxn3016', 'rxn3017', 'rxn3019', 'rxn3020', 'rxn3021', 'rxn3023', 'rxn3024', 'rxn3025', 'rxn3026', 'rxn3027', 'rxn3028', 'rxn3029', 'rxn3030', 'rxn3031', 'rxn3032', 'rxn3034', 'rxn3035', 'rxn3036', 'rxn3038', 'rxn3039', 'rxn3040', 'rxn3041', 'rxn3042', 'rxn3043', 'rxn3044', 'rxn3045', 'rxn3046', 'rxn3047', 'rxn29', 'rxn30', 'rxn31', 'rxn32', 'rxn33', 'rxn34', 'rxn35', 'rxn36', 'rxn37', 'rxn38', 'rxn40', 'rxn42', 'rxn45', 'rxn47', 'rxn49', 'rxn51', 'rxn53', 'rxn55', 'rxn199', 'rxn209', 'rxn210', 'rxn403', 'rxn404', 'rxn409', 'rxn414', 'rxn417', 'rxn418', 'rxn548', 'rxn562', 'rxn563', 'rxn564', 'rxn565', 'rxn566', 'rxn567', 'rxn568', 'rxn581', 'rxn583', 'rxn919', 'rxn1016']\n"
     ]
    }
   ],
   "source": [
    "atp_sim_name = ['UDP','UMP','UTP',\n",
    "                'dUDP','dUMP','dUTP',\n",
    "                'CDP','CMP','CTP',\n",
    "                'dCDP','dCMP','dCTP',\n",
    "                'TDP','TMP','TTP',\n",
    "                'dTDP','dTMP','dTTP',\n",
    "                'GDP','GMP','GTP',\n",
    "                'dGDP','dGMP','dGTP',\n",
    "                'IDP','IMP','ITP',\n",
    "                'dIDP','dIMP','dITP',\n",
    "                ]\n",
    "atp_sim_list = []\n",
    "for met in atp_sim_name:\n",
    "    for i in yeast8.metabolites:\n",
    "        if i.compartment == 'c':\n",
    "            if i.name == met:\n",
    "                print(i.id,i.name,met)\n",
    "                atp_sim_list.append(i.id)\n",
    "\n",
    "atp_sim_reaction = []\n",
    "\n",
    "for reaction in yeast8U_mod.reactions:\n",
    "    if 'rxn' in reaction.id:\n",
    "        tmp = {str(k.id):v for k,v in reaction.metabolites.items()}\n",
    "        if any(x in tmp for x in atp_sim_list):\n",
    "            atp_sim_reaction.append(reaction.id)\n",
    "print(len(atp_sim_reaction))\n",
    "print(atp_sim_reaction)"
   ]
  },
  {
   "cell_type": "code",
   "execution_count": 21,
   "metadata": {},
   "outputs": [
    {
     "name": "stdout",
     "output_type": "stream",
     "text": [
      "185\n",
      "['rxn24542', 'rxn24543', 'rxn22365', 'rxn22366', 'rxn22367', 'rxn22368', 'rxn22369', 'rxn22370', 'rxn22371', 'rxn22372', 'rxn22373', 'rxn18291', 'rxn18292', 'rxn19478', 'rxn19479', 'rxn19480', 'rxn19481', 'rxn19482', 'rxn19483', 'rxn19488', 'rxn19489', 'rxn19490', 'rxn19491', 'rxn19492', 'rxn19493', 'rxn30031', 'rxn30032', 'rxn30035', 'rxn30036', 'rxn30039', 'rxn30040', 'rxn30043', 'rxn30047', 'rxn30048', 'rxn30051', 'rxn30052', 'rxn30055', 'rxn30056', 'rxn30059', 'rxn30060', 'rxn30063', 'rxn30064', 'rxn30067', 'rxn30068', 'rxn33684', 'rxn17075', 'rxn17720', 'rxn38142', 'rxn38705', 'rxn22374', 'rxn22392', 'rxn22394', 'rxn22395', 'rxn22396', 'rxn22397', 'rxn22398', 'rxn22399', 'rxn22400', 'rxn22401', 'rxn22402', 'rxn22403', 'rxn22404', 'rxn22627', 'rxn22628', 'rxn22629', 'rxn22632', 'rxn22634', 'rxn22635', 'rxn22636', 'rxn36296', 'rxn42125', 'rxn42584', 'rxn15074', 'rxn15075', 'rxn15076', 'rxn48417', 'rxn49474', 'rxn49475', 'rxn49476', 'rxn49477', 'rxn44488', 'rxn51155', 'rxn51157', 'rxn51159', 'rxn51161', 'rxn51163', 'rxn51165', 'rxn51394', 'rxn47489', 'rxn47714', 'rxn47715', 'rxn47718', 'rxn47719', 'rxn47720', 'rxn47723', 'rxn47724', 'rxn47725', 'rxn47728', 'rxn47729', 'rxn47730', 'rxn47733', 'rxn47734', 'rxn47735', 'rxn47738', 'rxn47739', 'rxn47740', 'rxn47743', 'rxn11813', 'rxn16655', 'rxn16877', 'rxn16878', 'rxn16879', 'rxn16880', 'rxn16881', 'rxn16882', 'rxn12749', 'rxn12754', 'rxn13442', 'rxn13444', 'rxn54469', 'rxn49641', 'rxn50520', 'rxn50521', 'rxn50522', 'rxn50524', 'rxn50526', 'rxn50528', 'rxn50530', 'rxn50531', 'rxn50532', 'rxn65938', 'rxn65940', 'rxn66844', 'rxn66846', 'rxn66848', 'rxn66850', 'rxn66852', 'rxn66854', 'rxn66864', 'rxn66866', 'rxn66868', 'rxn66870', 'rxn66872', 'rxn66874', 'rxn67210', 'rxn9431', 'rxn9703', 'rxn9704', 'rxn9817', 'rxn7508', 'rxn7509', 'rxn7525', 'rxn6699', 'rxn6700', 'rxn6702', 'rxn6726', 'rxn6980', 'rxn7006', 'rxn7007', 'rxn4651', 'rxn4652', 'rxn4654', 'rxn4725', 'rxn4726', 'rxn4727', 'rxn4728', 'rxn4729', 'rxn5486', 'rxn5801', 'rxn3936', 'rxn2853', 'rxn785', 'rxn786', 'rxn787', 'rxn788', 'rxn791', 'rxn792', 'rxn793', 'rxn798', 'rxn808', 'rxn809', 'rxn860', 'rxn883', 'rxn884', 'rxn1186']\n"
     ]
    }
   ],
   "source": [
    "co2_reaction = []\n",
    "\n",
    "for reaction in yeast8U_mod.reactions:\n",
    "    if 'rxn' in reaction.id:\n",
    "        tmp = {str(k.id):v for k,v in reaction.metabolites.items()}\n",
    "        if 's_0456' in tmp and tmp['s_0456']<0:\n",
    "            co2_reaction.append(reaction.id)\n",
    "\n",
    "print(len(co2_reaction))\n",
    "print(co2_reaction)"
   ]
  },
  {
   "cell_type": "code",
   "execution_count": 22,
   "metadata": {},
   "outputs": [
    {
     "name": "stdout",
     "output_type": "stream",
     "text": [
      "293\n",
      "['rxn19747', 'rxn20546', 'rxn20889', 'rxn20893', 'rxn20922', 'rxn28148', 'rxn28338', 'rxn28448', 'rxn29020', 'rxn29021', 'rxn29022', 'rxn29023', 'rxn26587', 'rxn26588', 'rxn26589', 'rxn27630', 'rxn27633', 'rxn27635', 'rxn27637', 'rxn27639', 'rxn23857', 'rxn23858', 'rxn23859', 'rxn25397', 'rxn25403', 'rxn25435', 'rxn25436', 'rxn21499', 'rxn22021', 'rxn22343', 'rxn22344', 'rxn22345', 'rxn22346', 'rxn22365', 'rxn22366', 'rxn22367', 'rxn22368', 'rxn22369', 'rxn22370', 'rxn22371', 'rxn22372', 'rxn22373', 'rxn18955', 'rxn19478', 'rxn19479', 'rxn19480', 'rxn19481', 'rxn19482', 'rxn19483', 'rxn19488', 'rxn19489', 'rxn19490', 'rxn19491', 'rxn19492', 'rxn19493', 'rxn29570', 'rxn29611', 'rxn29612', 'rxn29613', 'rxn29614', 'rxn29615', 'rxn29616', 'rxn29617', 'rxn29745', 'rxn30031', 'rxn30032', 'rxn30035', 'rxn30036', 'rxn30039', 'rxn30040', 'rxn30043', 'rxn30047', 'rxn30048', 'rxn30051', 'rxn30052', 'rxn30055', 'rxn30056', 'rxn30059', 'rxn30060', 'rxn30063', 'rxn30064', 'rxn30067', 'rxn30068', 'rxn30267', 'rxn34028', 'rxn16977', 'rxn16978', 'rxn17185', 'rxn35605', 'rxn35606', 'rxn35607', 'rxn37771', 'rxn22374', 'rxn22392', 'rxn22394', 'rxn22395', 'rxn22396', 'rxn22397', 'rxn22398', 'rxn22399', 'rxn22400', 'rxn22401', 'rxn22402', 'rxn22403', 'rxn22404', 'rxn22558', 'rxn22560', 'rxn22562', 'rxn22563', 'rxn23273', 'rxn23350', 'rxn23388', 'rxn23619', 'rxn23624', 'rxn36296', 'rxn36748', 'rxn37041', 'rxn15074', 'rxn15075', 'rxn15076', 'rxn39892', 'rxn39893', 'rxn39894', 'rxn44406', 'rxn51155', 'rxn51157', 'rxn51159', 'rxn51161', 'rxn51163', 'rxn51165', 'rxn51394', 'rxn31761', 'rxn47714', 'rxn47715', 'rxn47718', 'rxn47719', 'rxn47720', 'rxn47723', 'rxn47724', 'rxn47725', 'rxn47728', 'rxn47729', 'rxn47730', 'rxn47733', 'rxn47734', 'rxn47735', 'rxn47738', 'rxn47739', 'rxn47740', 'rxn47743', 'rxn11470', 'rxn11633', 'rxn11928', 'rxn11975', 'rxn12667', 'rxn12669', 'rxn16521', 'rxn16542', 'rxn16546', 'rxn16548', 'rxn16550', 'rxn16877', 'rxn16878', 'rxn16879', 'rxn16880', 'rxn16881', 'rxn16882', 'rxn12963', 'rxn12964', 'rxn12965', 'rxn13325', 'rxn62453', 'rxn62469', 'rxn65815', 'rxn65816', 'rxn62302', 'rxn62307', 'rxn62310', 'rxn66844', 'rxn66846', 'rxn66848', 'rxn66850', 'rxn66852', 'rxn66854', 'rxn66864', 'rxn66866', 'rxn66868', 'rxn66870', 'rxn66872', 'rxn66874', 'rxn60292', 'rxn8886', 'rxn8889', 'rxn8896', 'rxn9348', 'rxn9703', 'rxn9704', 'rxn9964', 'rxn69403', 'rxn69504', 'rxn69505', 'rxn69507', 'rxn70735', 'rxn7301', 'rxn7302', 'rxn7508', 'rxn7509', 'rxn8402', 'rxn8522', 'rxn10474', 'rxn10502', 'rxn10506', 'rxn10548', 'rxn11244', 'rxn6627', 'rxn6714', 'rxn6980', 'rxn7172', 'rxn4725', 'rxn4726', 'rxn4727', 'rxn4728', 'rxn4729', 'rxn4730', 'rxn4731', 'rxn4866', 'rxn5349', 'rxn5359', 'rxn5378', 'rxn5379', 'rxn5381', 'rxn5753', 'rxn5754', 'rxn5801', 'rxn3270', 'rxn3278', 'rxn3400', 'rxn3561', 'rxn3562', 'rxn3563', 'rxn3869', 'rxn3928', 'rxn4291', 'rxn4316', 'rxn4396', 'rxn1749', 'rxn1751', 'rxn1753', 'rxn1754', 'rxn1755', 'rxn1768', 'rxn1769', 'rxn1931', 'rxn2336', 'rxn2338', 'rxn2340', 'rxn2342', 'rxn2344', 'rxn2346', 'rxn2347', 'rxn2364', 'rxn2366', 'rxn2368', 'rxn2370', 'rxn2372', 'rxn2373', 'rxn2392', 'rxn2394', 'rxn2396', 'rxn2398', 'rxn2399', 'rxn2420', 'rxn2422', 'rxn2424', 'rxn2425', 'rxn2450', 'rxn2451', 'rxn2476', 'rxn2477', 'rxn2490', 'rxn97', 'rxn98', 'rxn99', 'rxn100', 'rxn297', 'rxn301', 'rxn337', 'rxn338', 'rxn359', 'rxn545', 'rxn892', 'rxn1099', 'rxn1186']\n"
     ]
    }
   ],
   "source": [
    "o2_reaction = []\n",
    "\n",
    "for reaction in yeast8U_mod.reactions:\n",
    "    if 'rxn' in reaction.id:\n",
    "        tmp = {str(k.id):v for k,v in reaction.metabolites.items()}\n",
    "        if 's_1275' in tmp and tmp['s_1275']>0:\n",
    "            o2_reaction.append(reaction.id)\n",
    "\n",
    "print(len(o2_reaction))\n",
    "print(o2_reaction)"
   ]
  },
  {
   "cell_type": "code",
   "execution_count": 23,
   "metadata": {},
   "outputs": [
    {
     "name": "stdout",
     "output_type": "stream",
     "text": [
      "507\n",
      "['rxn20547', 'rxn20889', 'rxn20893', 'rxn20922', 'rxn26587', 'rxn26588', 'rxn26589', 'rxn26934', 'rxn26935', 'rxn26936', 'rxn26937', 'rxn23857', 'rxn23858', 'rxn23859', 'rxn24147', 'rxn24702', 'rxn25577', 'rxn25580', 'rxn25581', 'rxn21496', 'rxn21497', 'rxn21498', 'rxn18487', 'rxn18987', 'rxn29745', 'rxn34028', 'rxn34050', 'rxn16977', 'rxn16978', 'rxn17047', 'rxn32910', 'rxn32911', 'rxn37771', 'rxn22814', 'rxn22815', 'rxn22816', 'rxn22817', 'rxn22818', 'rxn22819', 'rxn22820', 'rxn22821', 'rxn23619', 'rxn23624', 'rxn37186', 'rxn40597', 'rxn42114', 'rxn15240', 'rxn45310', 'rxn46299', 'rxn31146', 'rxn47184', 'rxn47210', 'rxn47229', 'rxn47230', 'rxn11673', 'rxn11748', 'rxn11833', 'rxn11928', 'rxn12667', 'rxn15889', 'rxn15892', 'rxn16396', 'rxn16397', 'rxn16728', 'rxn13382', 'rxn13585', 'rxn13586', 'rxn13587', 'rxn13589', 'rxn13590', 'rxn13591', 'rxn13598', 'rxn13599', 'rxn13601', 'rxn13602', 'rxn13603', 'rxn13609', 'rxn13610', 'rxn13611', 'rxn13613', 'rxn13614', 'rxn13615', 'rxn13621', 'rxn13622', 'rxn13623', 'rxn13625', 'rxn13626', 'rxn13627', 'rxn13633', 'rxn13634', 'rxn13635', 'rxn13637', 'rxn13638', 'rxn13639', 'rxn13645', 'rxn13646', 'rxn13647', 'rxn13649', 'rxn13650', 'rxn13651', 'rxn13657', 'rxn13658', 'rxn13659', 'rxn13661', 'rxn13662', 'rxn13663', 'rxn13669', 'rxn13670', 'rxn13671', 'rxn13673', 'rxn13674', 'rxn13675', 'rxn13681', 'rxn13682', 'rxn13683', 'rxn13685', 'rxn13686', 'rxn13687', 'rxn13693', 'rxn13694', 'rxn13695', 'rxn13697', 'rxn13698', 'rxn13699', 'rxn13705', 'rxn13706', 'rxn13707', 'rxn13709', 'rxn13710', 'rxn13711', 'rxn13717', 'rxn13718', 'rxn13719', 'rxn13721', 'rxn13722', 'rxn13723', 'rxn13730', 'rxn13731', 'rxn13733', 'rxn13734', 'rxn13735', 'rxn13949', 'rxn55306', 'rxn55514', 'rxn55640', 'rxn55643', 'rxn55644', 'rxn57529', 'rxn62453', 'rxn62469', 'rxn63251', 'rxn62176', 'rxn8910', 'rxn9077', 'rxn9317', 'rxn9962', 'rxn9964', 'rxn9966', 'rxn69530', 'rxn69531', 'rxn69532', 'rxn69533', 'rxn69535', 'rxn69536', 'rxn69537', 'rxn69538', 'rxn69539', 'rxn70735', 'rxn7302', 'rxn8402', 'rxn8427', 'rxn8428', 'rxn8435', 'rxn10336', 'rxn10337', 'rxn10338', 'rxn10339', 'rxn10474', 'rxn10502', 'rxn10506', 'rxn10548', 'rxn10726', 'rxn10764', 'rxn10765', 'rxn5913', 'rxn5914', 'rxn5956', 'rxn5957', 'rxn5958', 'rxn5959', 'rxn5960', 'rxn5961', 'rxn5962', 'rxn5964', 'rxn5965', 'rxn5966', 'rxn5996', 'rxn6051', 'rxn6077', 'rxn6078', 'rxn4858', 'rxn4866', 'rxn4900', 'rxn5240', 'rxn5349', 'rxn5468', 'rxn5695', 'rxn5696', 'rxn5697', 'rxn3270', 'rxn3278', 'rxn3360', 'rxn3400', 'rxn3433', 'rxn3874', 'rxn3921', 'rxn3922', 'rxn3928', 'rxn4230', 'rxn4260', 'rxn4377', 'rxn4378', 'rxn4379', 'rxn4383', 'rxn4431', 'rxn1612', 'rxn1613', 'rxn1614', 'rxn1709', 'rxn1710', 'rxn1711', 'rxn1712', 'rxn1713', 'rxn1714', 'rxn1746', 'rxn2675', 'rxn2677', 'rxn2724', 'rxn2726', 'rxn2727', 'rxn2731', 'rxn2825', 'rxn2892', 'rxn2896', 'rxn2897', 'rxn95', 'rxn170', 'rxn218', 'rxn219', 'rxn220', 'rxn221', 'rxn222', 'rxn337', 'rxn338', 'rxn545', 'rxn579', 'rxn936', 'rxn1002', 'rxn1090', 'rxn1093', 'rxn1186', 'rxn19747', 'rxn19936', 'rxn19937', 'rxn19938', 'rxn19939', 'rxn28208', 'rxn28209', 'rxn28210', 'rxn28448', 'rxn29020', 'rxn29021', 'rxn29022', 'rxn29023', 'rxn23885', 'rxn24427', 'rxn25435', 'rxn25436', 'rxn21499', 'rxn21531', 'rxn22002', 'rxn18955', 'rxn29570', 'rxn30075', 'rxn30267', 'rxn30302', 'rxn17185', 'rxn35605', 'rxn35606', 'rxn35607', 'rxn32312', 'rxn32313', 'rxn32749', 'rxn22558', 'rxn22560', 'rxn22562', 'rxn22563', 'rxn37041', 'rxn37054', 'rxn14682', 'rxn44269', 'rxn44270', 'rxn44271', 'rxn45549', 'rxn46627', 'rxn46651', 'rxn46663', 'rxn46671', 'rxn46672', 'rxn46673', 'rxn46675', 'rxn46676', 'rxn46677', 'rxn46683', 'rxn46684', 'rxn46685', 'rxn46687', 'rxn46688', 'rxn46689', 'rxn46695', 'rxn46696', 'rxn46697', 'rxn46699', 'rxn46700', 'rxn46701', 'rxn46707', 'rxn46708', 'rxn46709', 'rxn46711', 'rxn46712', 'rxn46713', 'rxn46719', 'rxn46720', 'rxn46721', 'rxn46723', 'rxn46724', 'rxn46725', 'rxn46731', 'rxn46732', 'rxn46733', 'rxn46735', 'rxn46736', 'rxn46737', 'rxn46743', 'rxn46744', 'rxn46745', 'rxn46747', 'rxn46748', 'rxn46749', 'rxn46755', 'rxn46756', 'rxn46757', 'rxn46759', 'rxn46760', 'rxn46761', 'rxn46771', 'rxn11470', 'rxn11898', 'rxn11926', 'rxn11942', 'rxn12586', 'rxn16625', 'rxn12910', 'rxn13446', 'rxn13447', 'rxn13453', 'rxn13854', 'rxn55839', 'rxn56392', 'rxn56393', 'rxn50833', 'rxn63130', 'rxn64168', 'rxn64169', 'rxn64170', 'rxn64171', 'rxn64173', 'rxn64174', 'rxn64175', 'rxn64176', 'rxn64177', 'rxn65687', 'rxn65689', 'rxn62302', 'rxn62307', 'rxn62310', 'rxn60292', 'rxn9318', 'rxn69403', 'rxn70760', 'rxn7301', 'rxn7463', 'rxn10905', 'rxn11073', 'rxn5968', 'rxn6057', 'rxn6980', 'rxn4487', 'rxn5159', 'rxn5476', 'rxn5490', 'rxn5492', 'rxn5495', 'rxn5755', 'rxn5756', 'rxn5801', 'rxn3212', 'rxn3392', 'rxn3394', 'rxn3398', 'rxn3405', 'rxn3857', 'rxn3863', 'rxn3909', 'rxn4302', 'rxn4316', 'rxn4398', 'rxn4399', 'rxn4415', 'rxn1620', 'rxn1674', 'rxn1747', 'rxn1892', 'rxn1982', 'rxn1983', 'rxn1985', 'rxn1986', 'rxn1988', 'rxn1989', 'rxn1990', 'rxn1991', 'rxn1992', 'rxn1993', 'rxn1994', 'rxn1995', 'rxn2018', 'rxn2548', 'rxn2619', 'rxn2620', 'rxn2621', 'rxn2682', 'rxn96', 'rxn169', 'rxn297', 'rxn301', 'rxn331', 'rxn333', 'rxn335', 'rxn359', 'rxn631', 'rxn752', 'rxn754', 'rxn755', 'rxn756', 'rxn829', 'rxn831', 'rxn838', 'rxn842', 'rxn843', 'rxn844', 'rxn845', 'rxn872', 'rxn1082', 'rxn1086', 'rxn1103', 'rxn1105', 'rxn1106', 'rxn1177', 'rxn1208', 'rxn1209', 'rxn1210', 'rxn1211', 'rxn1212', 'rxn1213', 'rxn28338', 'rxn25397', 'rxn25403', 'rxn18717', 'rxn18721', 'rxn18725', 'rxn35851', 'rxn14732', 'rxn14733', 'rxn14734', 'rxn45048', 'rxn31891', 'rxn16542', 'rxn16546', 'rxn16548', 'rxn16550', 'rxn49500', 'rxn69105', 'rxn8522', 'rxn10278', 'rxn10279', 'rxn5378', 'rxn5379', 'rxn5381', 'rxn5833', 'rxn5836', 'rxn5837', 'rxn2681', 'rxn392', 'rxn394', 'rxn395', 'rxn397', 'rxn398']\n"
     ]
    }
   ],
   "source": [
    "nadph_reaction = []\n",
    "# nadph nadh fadh2\n",
    "\n",
    "for reaction in yeast8U_mod.reactions:\n",
    "    if 'rxn' in reaction.id:\n",
    "        tmp = {str(k.id):v for k,v in reaction.metabolites.items()}\n",
    "        if 's_1212' in tmp and tmp['s_1212']>0:  #NADPH\n",
    "            nadph_reaction.append(reaction.id)\n",
    "\n",
    "for reaction in yeast8U_mod.reactions:\n",
    "    if 'rxn' in reaction.id:\n",
    "        tmp = {str(k.id):v for k,v in reaction.metabolites.items()}\n",
    "        if 's_1203' in tmp and tmp['s_1203']>0:   #NADH\n",
    "            nadph_reaction.append(reaction.id)\n",
    "\n",
    "for reaction in yeast8U_mod.reactions:\n",
    "    if 'rxn' in reaction.id:\n",
    "        tmp = {str(k.id):v for k,v in reaction.metabolites.items()}\n",
    "        if 's_0689' in tmp and tmp['s_0689']>0:  #FADH2\n",
    "            nadph_reaction.append(reaction.id)\n",
    "\n",
    "print(len(nadph_reaction))\n",
    "print(nadph_reaction)\n"
   ]
  },
  {
   "cell_type": "code",
   "execution_count": 24,
   "metadata": {},
   "outputs": [
    {
     "name": "stdout",
     "output_type": "stream",
     "text": [
      "92\n",
      "['rxn37124', 'rxn37125', 'rxn37126', 'rxn37127', 'rxn37128', 'rxn37129', 'rxn37132', 'rxn37133', 'rxn15221', 'rxn15222', 'rxn15223', 'rxn15225', 'rxn15227', 'rxn15228', 'rxn40008', 'rxn11167', 'rxn11168', 'rxn11169', 'rxn11170', 'rxn11171', 'rxn11174', 'rxn11175', 'rxn11176', 'rxn11177', 'rxn11178', 'rxn11179', 'rxn11180', 'rxn11181', 'rxn11183', 'rxn11184', 'rxn11187', 'rxn11189', 'rxn3317', 'rxn3318', 'rxn3319', 'rxn3320', 'rxn3321', 'rxn3322', 'rxn3323', 'rxn3324', 'rxn3325', 'rxn3326', 'rxn3327', 'rxn33221', 'rxn33239', 'rxn33259', 'rxn33277', 'rxn42377', 'rxn58640', 'rxn58658', 'rxn4940', 'rxn4958', 'rxn4976', 'rxn4994', 'rxn5018', 'rxn5036', 'rxn5054', 'rxn5072', 'rxn5092', 'rxn5110', 'rxn1395', 'rxn1396', 'rxn1459', 'rxn1460', 'rxn1484', 'rxn1532', 'rxn1563', 'rxn1564', 'rxn1315', 'rxn1316', 'rxn1332', 'rxn1348', 'rxn1364', 'rxn32224', 'rxn32225', 'rxn32226', 'rxn32227', 'rxn32228', 'rxn32229', 'rxn32230', 'rxn32231', 'rxn32232', 'rxn32233', 'rxn32234', 'rxn32235', 'rxn32236', 'rxn32237', 'rxn32238', 'rxn28208', 'rxn65687', 'rxn8020', 'rxn8427']\n"
     ]
    }
   ],
   "source": [
    "# ['s_1360','s_0075','s_4092','s_1464'] \n",
    "\n",
    "yeast8_atp = []\n",
    "\n",
    "for reaction in yeast8U_mod.reactions:\n",
    "    if 'rxn' in reaction.id:\n",
    "        tmp = {str(k.id):v for k,v in reaction.metabolites.items()}\n",
    "        if 's_1360' in tmp and tmp['s_1360']>0:   #phosphoenolpyruvate\n",
    "            yeast8_atp.append(reaction.id)\n",
    "\n",
    "for reaction in yeast8U_mod.reactions:\n",
    "    if 'rxn' in reaction.id:\n",
    "        tmp = {str(k.id):v for k,v in reaction.metabolites.items()}\n",
    "        if 's_0075' in tmp and tmp['s_0075']>0:   #1,3-bisphospho-D-glycerate\n",
    "            yeast8_atp.append(reaction.id)\n",
    "\n",
    "for reaction in yeast8U_mod.reactions:\n",
    "    if 'rxn' in reaction.id:\n",
    "        tmp = {str(k.id):v for k,v in reaction.metabolites.items()}\n",
    "        if 's_4092' in tmp and tmp['s_4092']>0:  #N(omega)-phospho-L-arginine\n",
    "            yeast8_atp.append(reaction.id)\n",
    "\n",
    "for reaction in yeast8U_mod.reactions:\n",
    "    if 'rxn' in reaction.id:\n",
    "        tmp = {str(k.id):v for k,v in reaction.metabolites.items()}\n",
    "        if 's_1464' in tmp and tmp['s_1464']>0:  #succinyl-CoA\n",
    "            yeast8_atp.append(reaction.id)\n",
    "\n",
    "\n",
    "print(len(yeast8_atp))\n",
    "print(yeast8_atp)"
   ]
  },
  {
   "cell_type": "code",
   "execution_count": 25,
   "metadata": {},
   "outputs": [
    {
     "name": "stdout",
     "output_type": "stream",
     "text": [
      "227\n",
      "['rxn26590', 'rxn30426', 'rxn35425', 'rxn35429', 'rxn23330', 'rxn49872', 'rxn49876', 'rxn49881', 'rxn61384', 'rxn5856', 'rxn4468', 'rxn4769', 'rxn4787', 'rxn5509', 'rxn5525', 'rxn5541', 'rxn5557', 'rxn5573', 'rxn5589', 'rxn5605', 'rxn5621', 'rxn5637', 'rxn5653', 'rxn3366', 'rxn4458', 'rxn1389', 'rxn1390', 'rxn1453', 'rxn1454', 'rxn1479', 'rxn1527', 'rxn1557', 'rxn1558', 'rxn1309', 'rxn1310', 'rxn1329', 'rxn1345', 'rxn1361', 'rxn20834', 'rxn29265', 'rxn29266', 'rxn24443', 'rxn25752', 'rxn22371', 'rxn18382', 'rxn18848', 'rxn18854', 'rxn18855', 'rxn18892', 'rxn18893', 'rxn19480', 'rxn19490', 'rxn30055', 'rxn30056', 'rxn30417', 'rxn33608', 'rxn33610', 'rxn33611', 'rxn33612', 'rxn34426', 'rxn17634', 'rxn17635', 'rxn17637', 'rxn17639', 'rxn17640', 'rxn17720', 'rxn17990', 'rxn17998', 'rxn22384', 'rxn23006', 'rxn23015', 'rxn36749', 'rxn42895', 'rxn42897', 'rxn42898', 'rxn14488', 'rxn14490', 'rxn14492', 'rxn14494', 'rxn14496', 'rxn14498', 'rxn14500', 'rxn14502', 'rxn14504', 'rxn14506', 'rxn14508', 'rxn14510', 'rxn14512', 'rxn14514', 'rxn14516', 'rxn14518', 'rxn14520', 'rxn14522', 'rxn14524', 'rxn14526', 'rxn14528', 'rxn14530', 'rxn14532', 'rxn14534', 'rxn14536', 'rxn14538', 'rxn15475', 'rxn40106', 'rxn45076', 'rxn45313', 'rxn51159', 'rxn52103', 'rxn31204', 'rxn31207', 'rxn31572', 'rxn31668', 'rxn31675', 'rxn47724', 'rxn47725', 'rxn47728', 'rxn11813', 'rxn12370', 'rxn12371', 'rxn12372', 'rxn16879', 'rxn13205', 'rxn13206', 'rxn13207', 'rxn13564', 'rxn56232', 'rxn56345', 'rxn49629', 'rxn49863', 'rxn50878', 'rxn64582', 'rxn65559', 'rxn61569', 'rxn66848', 'rxn66868', 'rxn67799', 'rxn68077', 'rxn68078', 'rxn8917', 'rxn9772', 'rxn7471', 'rxn7635', 'rxn7636', 'rxn7842', 'rxn10538', 'rxn6994', 'rxn6995', 'rxn6996', 'rxn4672', 'rxn4673', 'rxn4674', 'rxn4678', 'rxn5400', 'rxn5407', 'rxn5410', 'rxn5411', 'rxn5412', 'rxn5414', 'rxn5415', 'rxn5416', 'rxn5790', 'rxn5793', 'rxn1646', 'rxn1647', 'rxn1648', 'rxn1649', 'rxn1650', 'rxn1651', 'rxn1652', 'rxn1653', 'rxn1654', 'rxn1655', 'rxn1656', 'rxn1657', 'rxn1960', 'rxn1973', 'rxn1977', 'rxn2555', 'rxn2795', 'rxn2', 'rxn5', 'rxn187', 'rxn188', 'rxn192', 'rxn194', 'rxn1280', 'rxn42381', 'rxn42382', 'rxn14698', 'rxn14699', 'rxn45355', 'rxn45356', 'rxn18980', 'rxn4662', 'rxn22012', 'rxn36127', 'rxn42202', 'rxn42205', 'rxn42206', 'rxn42210', 'rxn47430', 'rxn12323', 'rxn12326', 'rxn12327', 'rxn12329', 'rxn12331', 'rxn12568', 'rxn14065', 'rxn53981', 'rxn63130', 'rxn64173', 'rxn59568', 'rxn69535', 'rxn8435', 'rxn10574', 'rxn6637', 'rxn7122', 'rxn7123', 'rxn4488', 'rxn4489', 'rxn4315', 'rxn422', 'rxn423', 'rxn424', 'rxn425', 'rxn426', 'rxn427', 'rxn1209']\n"
     ]
    }
   ],
   "source": [
    "else_reaction = []\n",
    "\n",
    "for reaction in yeast8U_mod.reactions:\n",
    "    if 'rxn' in reaction.id:\n",
    "        tmp = {str(k.id):v for k,v in reaction.metabolites.items()}\n",
    "        if 's_0764' in tmp and tmp['s_0764']>0:     #glycerol\n",
    "            else_reaction.append(reaction.id)\n",
    "\n",
    "for reaction in yeast8U_mod.reactions:\n",
    "    if 'rxn' in reaction.id:\n",
    "        tmp = {str(k.id):v for k,v in reaction.metabolites.items()}\n",
    "        if 's_0362' in tmp and tmp['s_0362']<0:   #acetate\n",
    "            else_reaction.append(reaction.id)\n",
    "\n",
    "for reaction in yeast8U_mod.reactions:\n",
    "    if 'rxn' in reaction.id:\n",
    "        tmp = {str(k.id):v for k,v in reaction.metabolites.items()}\n",
    "        if 's_0140' in tmp and tmp['s_0140']>0:  #2,3-bisphospho-D-glyceric acid\n",
    "            else_reaction.append(reaction.id)\n",
    "\n",
    "for reaction in yeast8U_mod.reactions:\n",
    "    if 'rxn' in reaction.id:\n",
    "        tmp = {str(k.id):v for k,v in reaction.metabolites.items()}\n",
    "        if 's_0979' in tmp and tmp['s_0979']<0:  #L-citrulline\n",
    "            else_reaction.append(reaction.id)\n",
    "\n",
    "for reaction in yeast8U_mod.reactions:\n",
    "    if 'rxn' in reaction.id:\n",
    "        tmp = {str(k.id):v for k,v in reaction.metabolites.items()}\n",
    "        if 's_0373' in tmp and tmp['s_0373']>0:  #acetyl-CoA\n",
    "            else_reaction.append(reaction.id)\n",
    "\n",
    "print(len(else_reaction))\n",
    "print(else_reaction)"
   ]
  },
  {
   "cell_type": "markdown",
   "metadata": {},
   "source": [
    "# Calculate growth after preliminary screening"
   ]
  },
  {
   "cell_type": "code",
   "execution_count": 26,
   "metadata": {},
   "outputs": [],
   "source": [
    "reaction_id = []\n",
    "for i in yeast8U_mod.reactions:\n",
    "    if 'rxn' in i.id:\n",
    "        i.bounds = (0,0)\n",
    "        reaction_id.append(i.id)\n",
    "\n",
    "reaction_id = [x for x in reaction_id if x not in biomass_up_reaction]\n",
    "reaction_id = [x for x in reaction_id if x not in atp_reaction]\n",
    "reaction_id = [x for x in reaction_id if x not in atp_sim_reaction]\n",
    "reaction_id = [x for x in reaction_id if x not in co2_reaction]\n",
    "reaction_id = [x for x in reaction_id if x not in o2_reaction]\n",
    "reaction_id = [x for x in reaction_id if x not in nadph_reaction]\n",
    "reaction_id = [x for x in reaction_id if x not in yeast8_atp]\n",
    "reaction_id = [x for x in reaction_id if x not in else_reaction]\n",
    "\n",
    "\n",
    "# for seed_num in range(20,40):\n",
    "#     random.seed(seed_num)\n",
    "#     random.shuffle(reaction_id)\n",
    "#     with yeast8U_mod:\n",
    "#         error_reaction_4 = []\n",
    "#         for i in tqdm(reaction_id):\n",
    "#             reaction = yeast8U_mod.reactions.get_by_id(i)\n",
    "#             if 'rxn' in reaction.id:\n",
    "#                 reaction.bounds = (0,1000)\n",
    "#                 yeast8U_mod.solver = 'gurobi'\n",
    "#                 yeast8U_mod.optimize()\n",
    "#                 if yeast8U_mod.reactions.get_by_id('r_2111').flux > 0.1:\n",
    "#                     reaction.bounds = (0,0)\n",
    "#                     error_reaction_4.append(reaction.id)\n",
    "#         print(seed_num,len(error_reaction_4))\n",
    "#     # Store the list in a binary file\n",
    "#     filename = error_reaction_path + 'error_reaction_random'+str(seed_num)+'.pkl'\n",
    "#     with open(filename, 'wb') as file:\n",
    "#         pickle.dump(error_reaction_4, file)"
   ]
  },
  {
   "cell_type": "code",
   "execution_count": 27,
   "metadata": {},
   "outputs": [
    {
     "name": "stderr",
     "output_type": "stream",
     "text": [
      "  0%|          | 0/20 [00:00<?, ?it/s]"
     ]
    },
    {
     "name": "stdout",
     "output_type": "stream",
     "text": [
      "Read LP format model from file /tmp/tmpt2hlhv_p.lp\n",
      "Reading time = 0.04 seconds\n",
      ": 3224 rows, 21236 columns, 95324 nonzeros\n",
      "Read LP format model from file /tmp/tmp8j8ctjt1.lp\n",
      "Reading time = 0.04 seconds\n",
      ": 3224 rows, 21236 columns, 95324 nonzeros\n",
      "Read LP format model from file /tmp/tmpmzrim219.lp\n",
      "Reading time = 0.06 seconds\n",
      ": 3224 rows, 21236 columns, 95324 nonzeros\n",
      "Read LP format model from file /tmp/tmp81inflhc.lp\n",
      "Reading time = 0.04 seconds\n",
      ": 3224 rows, 21236 columns, 95324 nonzeros\n",
      "Read LP format model from file /tmp/tmp3l49v_fi.lp\n",
      "Reading time = 0.04 seconds\n",
      ": 3224 rows, 21236 columns, 95324 nonzeros\n",
      "Read LP format model from file /tmp/tmpqtp19lnn.lp\n",
      "Reading time = 0.04 seconds\n",
      ": 3224 rows, 21236 columns, 95324 nonzeros\n",
      "Read LP format model from file /tmp/tmpdgxi23ff.lp\n",
      "Reading time = 0.04 seconds\n",
      ": 3224 rows, 21236 columns, 95324 nonzeros\n",
      "Read LP format model from file /tmp/tmpwh5afkk7.lp\n",
      "Reading time = 0.04 seconds\n",
      ": 3224 rows, 21236 columns, 95324 nonzeros\n",
      "Read LP format model from file /tmp/tmpk1mm36mx.lp\n",
      "Reading time = 0.04 seconds\n",
      ": 3224 rows, 21236 columns, 95324 nonzeros\n",
      "Read LP format model from file /tmp/tmp_d52n07o.lp\n",
      "Reading time = 0.04 seconds\n",
      ": 3224 rows, 21236 columns, 95324 nonzeros\n",
      "Read LP format model from file /tmp/tmptf_zs1o5.lp\n",
      "Reading time = 0.04 seconds\n",
      ": 3224 rows, 21236 columns, 95324 nonzeros\n",
      "Read LP format model from file /tmp/tmpd821l8h1.lp\n",
      "Reading time = 0.04 seconds\n",
      ": 3224 rows, 21236 columns, 95324 nonzeros\n",
      "Read LP format model from file /tmp/tmp94o3bq0q.lp\n",
      "Reading time = 0.04 seconds\n",
      ": 3224 rows, 21236 columns, 95324 nonzeros\n",
      "Read LP format model from file /tmp/tmp4x6tw229.lp\n",
      "Reading time = 0.04 seconds\n",
      ": 3224 rows, 21236 columns, 95324 nonzeros\n",
      "Read LP format model from file /tmp/tmpb29fj3o7.lp\n",
      "Reading time = 0.04 seconds\n",
      ": 3224 rows, 21236 columns, 95324 nonzeros\n",
      "Read LP format model from file /tmp/tmpnxfcnsa0.lp\n",
      "Reading time = 0.04 seconds\n",
      ": 3224 rows, 21236 columns, 95324 nonzeros\n",
      "Read LP format model from file /tmp/tmpad2lodd1.lp\n",
      "Reading time = 0.04 seconds\n",
      ": 3224 rows, 21236 columns, 95324 nonzeros\n",
      "Read LP format model from file /tmp/tmpnojhnlt6.lp\n",
      "Reading time = 0.06 seconds\n",
      ": 3224 rows, 21236 columns, 95324 nonzeros\n",
      "Read LP format model from file /tmp/tmpimv708ia.lp\n",
      "Reading time = 0.05 seconds\n",
      ": 3224 rows, 21236 columns, 95324 nonzeros\n",
      "Read LP format model from file /tmp/tmphegf54au.lp\n",
      "Reading time = 0.04 seconds\n",
      ": 3224 rows, 21236 columns, 95324 nonzeros\n"
     ]
    },
    {
     "name": "stderr",
     "output_type": "stream",
     "text": [
      "  0%|          | 4/3457 [00:00<10:17,  5.59it/s]]"
     ]
    },
    {
     "name": "stderr",
     "output_type": "stream",
     "text": [
      "100%|██████████| 3457/3457 [06:42<00:00,  8.59it/s]\n"
     ]
    },
    {
     "name": "stdout",
     "output_type": "stream",
     "text": [
      "37 58\n"
     ]
    },
    {
     "name": "stderr",
     "output_type": "stream",
     "text": [
      "100%|██████████| 3457/3457 [06:56<00:00,  8.30it/s]\n"
     ]
    },
    {
     "name": "stdout",
     "output_type": "stream",
     "text": [
      "20 92\n"
     ]
    },
    {
     "name": "stderr",
     "output_type": "stream",
     "text": [
      "100%|██████████| 3457/3457 [06:59<00:00,  8.23it/s]\n"
     ]
    },
    {
     "name": "stdout",
     "output_type": "stream",
     "text": [
      "21 132\n"
     ]
    },
    {
     "name": "stderr",
     "output_type": "stream",
     "text": [
      "100%|██████████| 3457/3457 [06:57<00:00,  8.28it/s]\n"
     ]
    },
    {
     "name": "stdout",
     "output_type": "stream",
     "text": [
      "27 201"
     ]
    },
    {
     "name": "stderr",
     "output_type": "stream",
     "text": [
      " 89%|████████▉ | 3092/3457 [06:49<01:12,  5.03it/s]"
     ]
    },
    {
     "name": "stdout",
     "output_type": "stream",
     "text": [
      "\n"
     ]
    },
    {
     "name": "stderr",
     "output_type": "stream",
     "text": [
      "100%|██████████| 3457/3457 [06:53<00:00,  8.37it/s]\n"
     ]
    },
    {
     "name": "stdout",
     "output_type": "stream",
     "text": [
      "35 72\n"
     ]
    },
    {
     "name": "stderr",
     "output_type": "stream",
     "text": [
      "100%|██████████| 3457/3457 [06:59<00:00,  8.23it/s]\n"
     ]
    },
    {
     "name": "stdout",
     "output_type": "stream",
     "text": [
      "30 75"
     ]
    },
    {
     "name": "stderr",
     "output_type": "stream",
     "text": [
      " 99%|█████████▉| 3417/3457 [06:58<00:04,  9.41it/s]"
     ]
    },
    {
     "name": "stdout",
     "output_type": "stream",
     "text": [
      "\n"
     ]
    },
    {
     "name": "stderr",
     "output_type": "stream",
     "text": [
      "100%|██████████| 3457/3457 [07:02<00:00,  8.18it/s]\n"
     ]
    },
    {
     "name": "stdout",
     "output_type": "stream",
     "text": [
      "31 120\n"
     ]
    },
    {
     "name": "stderr",
     "output_type": "stream",
     "text": [
      "100%|██████████| 3457/3457 [07:04<00:00,  8.14it/s]\n"
     ]
    },
    {
     "name": "stdout",
     "output_type": "stream",
     "text": [
      "36 122\n"
     ]
    },
    {
     "name": "stderr",
     "output_type": "stream",
     "text": [
      "100%|██████████| 3457/3457 [07:13<00:00,  7.97it/s]\n"
     ]
    },
    {
     "name": "stdout",
     "output_type": "stream",
     "text": [
      "24 84"
     ]
    },
    {
     "name": "stderr",
     "output_type": "stream",
     "text": [
      " 99%|█████████▉| 3414/3457 [07:10<00:08,  4.80it/s]"
     ]
    },
    {
     "name": "stdout",
     "output_type": "stream",
     "text": [
      "\n"
     ]
    },
    {
     "name": "stderr",
     "output_type": "stream",
     "text": [
      "100%|██████████| 3457/3457 [07:09<00:00,  8.05it/s]\n"
     ]
    },
    {
     "name": "stdout",
     "output_type": "stream",
     "text": [
      "33 136\n"
     ]
    },
    {
     "name": "stderr",
     "output_type": "stream",
     "text": [
      "100%|██████████| 3457/3457 [07:17<00:00,  7.90it/s]\n"
     ]
    },
    {
     "name": "stdout",
     "output_type": "stream",
     "text": [
      "23 105\n"
     ]
    },
    {
     "name": "stderr",
     "output_type": "stream",
     "text": [
      "100%|██████████| 3457/3457 [07:16<00:00,  7.92it/s]\n"
     ]
    },
    {
     "name": "stdout",
     "output_type": "stream",
     "text": [
      "29 97\n"
     ]
    },
    {
     "name": "stderr",
     "output_type": "stream",
     "text": [
      "100%|██████████| 3457/3457 [07:16<00:00,  7.92it/s]\n"
     ]
    },
    {
     "name": "stdout",
     "output_type": "stream",
     "text": [
      "39 145\n"
     ]
    },
    {
     "name": "stderr",
     "output_type": "stream",
     "text": [
      "100%|██████████| 3457/3457 [07:25<00:00,  7.77it/s]\n"
     ]
    },
    {
     "name": "stdout",
     "output_type": "stream",
     "text": [
      "32 94\n"
     ]
    },
    {
     "name": "stderr",
     "output_type": "stream",
     "text": [
      "100%|██████████| 3457/3457 [07:33<00:00,  7.61it/s]\n"
     ]
    },
    {
     "name": "stdout",
     "output_type": "stream",
     "text": [
      "26 113\n"
     ]
    },
    {
     "name": "stderr",
     "output_type": "stream",
     "text": [
      "100%|██████████| 3457/3457 [07:28<00:00,  7.71it/s]\n"
     ]
    },
    {
     "name": "stdout",
     "output_type": "stream",
     "text": [
      "34 209\n"
     ]
    },
    {
     "name": "stderr",
     "output_type": "stream",
     "text": [
      "100%|██████████| 3457/3457 [07:39<00:00,  7.52it/s]\n"
     ]
    },
    {
     "name": "stdout",
     "output_type": "stream",
     "text": [
      "22 107\n"
     ]
    },
    {
     "name": "stderr",
     "output_type": "stream",
     "text": [
      "100%|██████████| 3457/3457 [07:35<00:00,  7.58it/s]\n"
     ]
    },
    {
     "name": "stdout",
     "output_type": "stream",
     "text": [
      "28 174\n"
     ]
    },
    {
     "name": "stderr",
     "output_type": "stream",
     "text": [
      "100%|██████████| 3457/3457 [07:38<00:00,  7.53it/s]\n"
     ]
    },
    {
     "name": "stdout",
     "output_type": "stream",
     "text": [
      "25 185\n"
     ]
    },
    {
     "name": "stderr",
     "output_type": "stream",
     "text": [
      "100%|██████████| 3457/3457 [07:44<00:00,  7.44it/s]\n"
     ]
    },
    {
     "name": "stdout",
     "output_type": "stream",
     "text": [
      "38 186\n"
     ]
    },
    {
     "name": "stderr",
     "output_type": "stream",
     "text": [
      "100%|██████████| 20/20 [30:40<00:00, 92.03s/it]   \n"
     ]
    }
   ],
   "source": [
    "def process_seed(args):\n",
    "    seed_num, reaction_id, yeast8U_mod, error_reaction_path = args\n",
    "    random.seed(seed_num)\n",
    "    random.shuffle(reaction_id)\n",
    "    with yeast8U_mod:\n",
    "        error_reaction_4 = []\n",
    "        for i in tqdm(reaction_id):\n",
    "            reaction = yeast8U_mod.reactions.get_by_id(i)\n",
    "            if 'rxn' in reaction.id:\n",
    "                reaction.bounds = (0, 1000)\n",
    "                yeast8U_mod.solver = 'gurobi'\n",
    "                yeast8U_mod.optimize()\n",
    "                if yeast8U_mod.reactions.get_by_id('r_2111').flux > 0.09:\n",
    "                    reaction.bounds = (0, 0)\n",
    "                    error_reaction_4.append(reaction.id)\n",
    "        print(seed_num, len(error_reaction_4))\n",
    "    # Store the list in a binary file\n",
    "    filename = error_reaction_path + 'error_reaction_random' + str(seed_num) + '.pkl'\n",
    "    if not os.path.exists(error_reaction_path):\n",
    "        os.makedirs(error_reaction_path)\n",
    "    with open(filename, 'wb') as file:\n",
    "        pickle.dump(error_reaction_4, file)\n",
    "\n",
    "\n",
    "\n",
    "if __name__ == '__main__':\n",
    "    with Pool(20) as pool:\n",
    "        args = [(seed_num, reaction_id, yeast8U_mod, error_reaction_path) for seed_num in range(20, 40)]\n",
    "        results = list(tqdm(pool.imap(process_seed, args), total=len(args)))"
   ]
  },
  {
   "cell_type": "markdown",
   "metadata": {},
   "source": [
    "# Select and delete the pkl file with the fewest reactions"
   ]
  },
  {
   "cell_type": "code",
   "execution_count": 28,
   "metadata": {},
   "outputs": [
    {
     "name": "stdout",
     "output_type": "stream",
     "text": [
      "error_reaction_random37.pkl\n",
      "Loaded data length: 58\n"
     ]
    }
   ],
   "source": [
    "# error_reaction_path = \"../../Results/not_lipid/top50_0.3/error_reaction_random/\"\n",
    "files = os.listdir(error_reaction_path)\n",
    "\n",
    "# Find the file with the minimum error_reaction\n",
    "min_error_reaction = 1000\n",
    "min_error_reaction_file = None\n",
    "\n",
    "for file in files:\n",
    "    file_path = os.path.join(error_reaction_path, file)\n",
    "    with open(file_path, 'rb') as f:\n",
    "        error_reaction_data = pickle.load(f)\n",
    "        if len(error_reaction_data) < min_error_reaction:\n",
    "            min_error_reaction = len(error_reaction_data)\n",
    "            min_error_reaction_file = file  # Store the file name\n",
    "\n",
    "print(min_error_reaction_file)\n",
    "\n",
    "\n",
    "file_path = os.path.join(error_reaction_path, min_error_reaction_file)\n",
    "with open(file_path, 'rb') as f:\n",
    "    error_reaction_data = pickle.load(f)\n",
    "print(f\"Loaded data length: {len(error_reaction_data)}\")\n"
   ]
  },
  {
   "cell_type": "code",
   "execution_count": 29,
   "metadata": {},
   "outputs": [
    {
     "data": {
      "text/plain": [
       "['rxn2698',\n",
       " 'rxn1196',\n",
       " 'rxn8936',\n",
       " 'rxn7358',\n",
       " 'rxn2739',\n",
       " 'rxn1184',\n",
       " 'rxn2834',\n",
       " 'rxn6114',\n",
       " 'rxn8956',\n",
       " 'rxn9056',\n",
       " 'rxn52080',\n",
       " 'rxn23970',\n",
       " 'rxn24812',\n",
       " 'rxn5464',\n",
       " 'rxn4214',\n",
       " 'rxn2701',\n",
       " 'rxn27263',\n",
       " 'rxn54521',\n",
       " 'rxn13266',\n",
       " 'rxn8372',\n",
       " 'rxn32159',\n",
       " 'rxn9721',\n",
       " 'rxn8593',\n",
       " 'rxn6360',\n",
       " 'rxn2506',\n",
       " 'rxn35426',\n",
       " 'rxn7324',\n",
       " 'rxn29113',\n",
       " 'rxn2770',\n",
       " 'rxn30507',\n",
       " 'rxn13820',\n",
       " 'rxn2508',\n",
       " 'rxn45306',\n",
       " 'rxn31804',\n",
       " 'rxn47421',\n",
       " 'rxn59253',\n",
       " 'rxn31538',\n",
       " 'rxn31800',\n",
       " 'rxn11543',\n",
       " 'rxn4212',\n",
       " 'rxn2601',\n",
       " 'rxn23225',\n",
       " 'rxn9016',\n",
       " 'rxn8996',\n",
       " 'rxn7342',\n",
       " 'rxn3362',\n",
       " 'rxn1197',\n",
       " 'rxn1671',\n",
       " 'rxn31537',\n",
       " 'rxn20876',\n",
       " 'rxn6330',\n",
       " 'rxn3191',\n",
       " 'rxn1675',\n",
       " 'rxn31947',\n",
       " 'rxn7343',\n",
       " 'rxn40253',\n",
       " 'rxn5860',\n",
       " 'rxn54517']"
      ]
     },
     "execution_count": 29,
     "metadata": {},
     "output_type": "execute_result"
    }
   ],
   "source": [
    "error_reaction_data"
   ]
  },
  {
   "cell_type": "code",
   "execution_count": 30,
   "metadata": {},
   "outputs": [
    {
     "name": "stdout",
     "output_type": "stream",
     "text": [
      "3447\n",
      "3088\n"
     ]
    }
   ],
   "source": [
    "del_reaction_lst = biomass_up_reaction + atp_reaction + atp_sim_reaction + co2_reaction + o2_reaction + nadph_reaction + yeast8_atp + else_reaction + error_reaction_data\n",
    "print(len(del_reaction_lst))\n",
    "del_reaction_lst = list(set(del_reaction_lst))\n",
    "print(len(del_reaction_lst))"
   ]
  },
  {
   "cell_type": "code",
   "execution_count": 31,
   "metadata": {},
   "outputs": [
    {
     "data": {
      "text/plain": [
       "['rxn7033',\n",
       " 'rxn55640',\n",
       " 'rxn1892',\n",
       " 'rxn12586',\n",
       " 'rxn2731',\n",
       " 'rxn6347',\n",
       " 'rxn5578',\n",
       " 'rxn58667',\n",
       " 'rxn28338',\n",
       " 'rxn33224',\n",
       " 'rxn1213',\n",
       " 'rxn60393',\n",
       " 'rxn1671',\n",
       " 'rxn61384',\n",
       " 'rxn53585',\n",
       " 'rxn16155',\n",
       " 'rxn56232',\n",
       " 'rxn56590',\n",
       " 'rxn33221',\n",
       " 'rxn3100',\n",
       " 'rxn18183',\n",
       " 'rxn5629',\n",
       " 'rxn3226',\n",
       " 'rxn9052',\n",
       " 'rxn6290',\n",
       " 'rxn16183',\n",
       " 'rxn61779',\n",
       " 'rxn45313',\n",
       " 'rxn14498',\n",
       " 'rxn3715',\n",
       " 'rxn21498',\n",
       " 'rxn2682',\n",
       " 'rxn13587',\n",
       " 'rxn3619',\n",
       " 'rxn6189',\n",
       " 'rxn26183',\n",
       " 'rxn33257',\n",
       " 'rxn15553',\n",
       " 'rxn8949',\n",
       " 'rxn1620',\n",
       " 'rxn20546',\n",
       " 'rxn44196',\n",
       " 'rxn22399',\n",
       " 'rxn221',\n",
       " 'rxn11064',\n",
       " 'rxn3700',\n",
       " 'rxn10726',\n",
       " 'rxn61167',\n",
       " 'rxn1364',\n",
       " 'rxn60408',\n",
       " 'rxn5383',\n",
       " 'rxn3796',\n",
       " 'rxn11179',\n",
       " 'rxn5045',\n",
       " 'rxn26866',\n",
       " 'rxn1002',\n",
       " 'rxn26935',\n",
       " 'rxn32982',\n",
       " 'rxn53583',\n",
       " 'rxn12326',\n",
       " 'rxn1714',\n",
       " 'rxn3823',\n",
       " 'rxn23696',\n",
       " 'rxn9383',\n",
       " 'rxn14806',\n",
       " 'rxn2936',\n",
       " 'rxn19491',\n",
       " 'rxn42125',\n",
       " 'rxn10994',\n",
       " 'rxn22558',\n",
       " 'rxn32226',\n",
       " 'rxn18228',\n",
       " 'rxn3157',\n",
       " 'rxn5019',\n",
       " 'rxn33015',\n",
       " 'rxn1749',\n",
       " 'rxn13591',\n",
       " 'rxn3070',\n",
       " 'rxn30063',\n",
       " 'rxn11059',\n",
       " 'rxn6249',\n",
       " 'rxn17639',\n",
       " 'rxn31336',\n",
       " 'rxn6354',\n",
       " 'rxn47735',\n",
       " 'rxn2937',\n",
       " 'rxn22370',\n",
       " 'rxn47723',\n",
       " 'rxn31488',\n",
       " 'rxn49587',\n",
       " 'rxn14518',\n",
       " 'rxn4726',\n",
       " 'rxn5616',\n",
       " 'rxn37124',\n",
       " 'rxn5102',\n",
       " 'rxn1994',\n",
       " 'rxn4315',\n",
       " 'rxn23706',\n",
       " 'rxn6167',\n",
       " 'rxn5790',\n",
       " 'rxn60494',\n",
       " 'rxn397',\n",
       " 'rxn2984',\n",
       " 'rxn13206',\n",
       " 'rxn8388',\n",
       " 'rxn15560',\n",
       " 'rxn49569',\n",
       " 'rxn58644',\n",
       " 'rxn10989',\n",
       " 'rxn5625',\n",
       " 'rxn5067',\n",
       " 'rxn61866',\n",
       " 'rxn9069',\n",
       " 'rxn26013',\n",
       " 'rxn31442',\n",
       " 'rxn10502',\n",
       " 'rxn5072',\n",
       " 'rxn13589',\n",
       " 'rxn63373',\n",
       " 'rxn11051',\n",
       " 'rxn403',\n",
       " 'rxn15227',\n",
       " 'rxn5378',\n",
       " 'rxn42206',\n",
       " 'rxn60716',\n",
       " 'rxn7897',\n",
       " 'rxn15529',\n",
       " 'rxn33274',\n",
       " 'rxn33214',\n",
       " 'rxn61863',\n",
       " 'rxn3113',\n",
       " 'rxn3005',\n",
       " 'rxn404',\n",
       " 'rxn18121',\n",
       " 'rxn43900',\n",
       " 'rxn11535',\n",
       " 'rxn4936',\n",
       " 'rxn6252',\n",
       " 'rxn8960',\n",
       " 'rxn7525',\n",
       " 'rxn30417',\n",
       " 'rxn6316',\n",
       " 'rxn1212',\n",
       " 'rxn4673',\n",
       " 'rxn422',\n",
       " 'rxn60963',\n",
       " 'rxn567',\n",
       " 'rxn5034',\n",
       " 'rxn427',\n",
       " 'rxn18153',\n",
       " 'rxn6248',\n",
       " 'rxn24812',\n",
       " 'rxn7471',\n",
       " 'rxn33009',\n",
       " 'rxn5069',\n",
       " 'rxn60670',\n",
       " 'rxn5793',\n",
       " 'rxn49573',\n",
       " 'rxn33220',\n",
       " 'rxn65559',\n",
       " 'rxn5964',\n",
       " 'rxn23784',\n",
       " 'rxn6311',\n",
       " 'rxn31403',\n",
       " 'rxn40549',\n",
       " 'rxn23781',\n",
       " 'rxn1710',\n",
       " 'rxn15533',\n",
       " 'rxn5647',\n",
       " 'rxn5159',\n",
       " 'rxn58656',\n",
       " 'rxn9005',\n",
       " 'rxn7755',\n",
       " 'rxn60410',\n",
       " 'rxn2979',\n",
       " 'rxn4986',\n",
       " 'rxn18261',\n",
       " 'rxn3746',\n",
       " 'rxn58654',\n",
       " 'rxn581',\n",
       " 'rxn46759',\n",
       " 'rxn6136',\n",
       " 'rxn1395',\n",
       " 'rxn13670',\n",
       " 'rxn23701',\n",
       " 'rxn6995',\n",
       " 'rxn51161',\n",
       " 'rxn14516',\n",
       " 'rxn3608',\n",
       " 'rxn14698',\n",
       " 'rxn19483',\n",
       " 'rxn18291',\n",
       " 'rxn8956',\n",
       " 'rxn2945',\n",
       " 'rxn31207',\n",
       " 'rxn4378',\n",
       " 'rxn2802',\n",
       " 'rxn3045',\n",
       " 'rxn51000',\n",
       " 'rxn13651',\n",
       " 'rxn3324',\n",
       " 'rxn14508',\n",
       " 'rxn33235',\n",
       " 'rxn15538',\n",
       " 'rxn3065',\n",
       " 'rxn3660',\n",
       " 'rxn61295',\n",
       " 'rxn23668',\n",
       " 'rxn13133',\n",
       " 'rxn18233',\n",
       " 'rxn15565',\n",
       " 'rxn59486',\n",
       " 'rxn3035',\n",
       " 'rxn53584',\n",
       " 'rxn49580',\n",
       " 'rxn1657',\n",
       " 'rxn61823',\n",
       " 'rxn60499',\n",
       " 'rxn26075',\n",
       " 'rxn5014',\n",
       " 'rxn845',\n",
       " 'rxn31791',\n",
       " 'rxn13681',\n",
       " 'rxn3172',\n",
       " 'rxn26863',\n",
       " 'rxn54469',\n",
       " 'rxn7007',\n",
       " 'rxn29616',\n",
       " 'rxn8333',\n",
       " 'rxn2420',\n",
       " 'rxn1315',\n",
       " 'rxn3126',\n",
       " 'rxn32985',\n",
       " 'rxn3151',\n",
       " 'rxn16135',\n",
       " 'rxn6217',\n",
       " 'rxn2928',\n",
       " 'rxn1650',\n",
       " 'rxn23692',\n",
       " 'rxn6269',\n",
       " 'rxn22404',\n",
       " 'rxn5753',\n",
       " 'rxn3768',\n",
       " 'rxn14417',\n",
       " 'rxn7901',\n",
       " 'rxn5573',\n",
       " 'rxn4520',\n",
       " 'rxn61922',\n",
       " 'rxn2938',\n",
       " 'rxn18160',\n",
       " 'rxn23712',\n",
       " 'rxn13719',\n",
       " 'rxn22867',\n",
       " 'rxn23798',\n",
       " 'rxn14496',\n",
       " 'rxn58650',\n",
       " 'rxn3627',\n",
       " 'rxn2964',\n",
       " 'rxn8965',\n",
       " 'rxn42381',\n",
       " 'rxn5523',\n",
       " 'rxn34050',\n",
       " 'rxn11026',\n",
       " 'rxn61925',\n",
       " 'rxn11052',\n",
       " 'rxn11061',\n",
       " 'rxn34426',\n",
       " 'rxn2955',\n",
       " 'rxn53981',\n",
       " 'rxn35607',\n",
       " 'rxn55514',\n",
       " 'rxn5627',\n",
       " 'rxn4672',\n",
       " 'rxn14281',\n",
       " 'rxn31333',\n",
       " 'rxn23697',\n",
       " 'rxn5518',\n",
       " 'rxn7324',\n",
       " 'rxn31361',\n",
       " 'rxn25974',\n",
       " 'rxn6078',\n",
       " 'rxn16197',\n",
       " 'rxn53305',\n",
       " 'rxn49578',\n",
       " 'rxn6105',\n",
       " 'rxn4968',\n",
       " 'rxn46733',\n",
       " 'rxn31362',\n",
       " 'rxn60510',\n",
       " 'rxn16185',\n",
       " 'rxn31472',\n",
       " 'rxn23792',\n",
       " 'rxn3318',\n",
       " 'rxn49863',\n",
       " 'rxn66866',\n",
       " 'rxn31383',\n",
       " 'rxn32234',\n",
       " 'rxn3561',\n",
       " 'rxn5996',\n",
       " 'rxn6224',\n",
       " 'rxn5028',\n",
       " 'rxn15521',\n",
       " 'rxn8975',\n",
       " 'rxn12667',\n",
       " 'rxn16521',\n",
       " 'rxn18855',\n",
       " 'rxn16396',\n",
       " 'rxn5379',\n",
       " 'rxn14530',\n",
       " 'rxn31668',\n",
       " 'rxn7893',\n",
       " 'rxn22365',\n",
       " 'rxn23782',\n",
       " 'rxn4969',\n",
       " 'rxn6222',\n",
       " 'rxn337',\n",
       " 'rxn5531',\n",
       " 'rxn13697',\n",
       " 'rxn7899',\n",
       " 'rxn8980',\n",
       " 'rxn53548',\n",
       " 'rxn3405',\n",
       " 'rxn2675',\n",
       " 'rxn62176',\n",
       " 'rxn45356',\n",
       " 'rxn61835',\n",
       " 'rxn3173',\n",
       " 'rxn31327',\n",
       " 'rxn5096',\n",
       " 'rxn5550',\n",
       " 'rxn23738',\n",
       " 'rxn3019',\n",
       " 'rxn3110',\n",
       " 'rxn50521',\n",
       " 'rxn5641',\n",
       " 'rxn9028',\n",
       " 'rxn3779',\n",
       " 'rxn36296',\n",
       " 'rxn60394',\n",
       " 'rxn2990',\n",
       " 'rxn2621',\n",
       " 'rxn7962',\n",
       " 'rxn42377',\n",
       " 'rxn60855',\n",
       " 'rxn23687',\n",
       " 'rxn5535',\n",
       " 'rxn46675',\n",
       " 'rxn13730',\n",
       " 'rxn14351',\n",
       " 'rxn1656',\n",
       " 'rxn10574',\n",
       " 'rxn32228',\n",
       " 'rxn61166',\n",
       " 'rxn6400',\n",
       " 'rxn22374',\n",
       " 'rxn11049',\n",
       " 'rxn45304',\n",
       " 'rxn26118',\n",
       " 'rxn31365',\n",
       " 'rxn60516',\n",
       " 'rxn13609',\n",
       " 'rxn4989',\n",
       " 'rxn3815',\n",
       " 'rxn23762',\n",
       " 'rxn31468',\n",
       " 'rxn16127',\n",
       " 'rxn69535',\n",
       " 'rxn8391',\n",
       " 'rxn1105',\n",
       " 'rxn1332',\n",
       " 'rxn5754',\n",
       " 'rxn16397',\n",
       " 'rxn3180',\n",
       " 'rxn60434',\n",
       " 'rxn6605',\n",
       " 'rxn33611',\n",
       " 'rxn22937',\n",
       " 'rxn9041',\n",
       " 'rxn31891',\n",
       " 'rxn14504',\n",
       " 'rxn6289',\n",
       " 'rxn56588',\n",
       " 'rxn60331',\n",
       " 'rxn2986',\n",
       " 'rxn26934',\n",
       " 'rxn61879',\n",
       " 'rxn2974',\n",
       " 'rxn7903',\n",
       " 'rxn4939',\n",
       " 'rxn4953',\n",
       " 'rxn3652',\n",
       " 'rxn15539',\n",
       " 'rxn9035',\n",
       " 'rxn18234',\n",
       " 'rxn3115',\n",
       " 'rxn32977',\n",
       " 'rxn54521',\n",
       " 'rxn23748',\n",
       " 'rxn31366',\n",
       " 'rxn16880',\n",
       " 'rxn16466',\n",
       " 'rxn13693',\n",
       " 'rxn37133',\n",
       " 'rxn100',\n",
       " 'rxn54517',\n",
       " 'rxn3073',\n",
       " 'rxn42202',\n",
       " 'rxn61796',\n",
       " 'rxn11063',\n",
       " 'rxn1532',\n",
       " 'rxn46720',\n",
       " 'rxn61818',\n",
       " 'rxn9010',\n",
       " 'rxn19936',\n",
       " 'rxn9704',\n",
       " 'rxn33227',\n",
       " 'rxn23725',\n",
       " 'rxn30507',\n",
       " 'rxn26832',\n",
       " 'rxn3171',\n",
       " 'rxn1935',\n",
       " 'rxn793',\n",
       " 'rxn16184',\n",
       " 'rxn5091',\n",
       " 'rxn18218',\n",
       " 'rxn8428',\n",
       " 'rxn23970',\n",
       " 'rxn23857',\n",
       " 'rxn16142',\n",
       " 'rxn60347',\n",
       " 'rxn5557',\n",
       " 'rxn23718',\n",
       " 'rxn18854',\n",
       " 'rxn2982',\n",
       " 'rxn58634',\n",
       " 'rxn50520',\n",
       " 'rxn4975',\n",
       " 'rxn9318',\n",
       " 'rxn3004',\n",
       " 'rxn20876',\n",
       " 'rxn32983',\n",
       " 'rxn16157',\n",
       " 'rxn32231',\n",
       " 'rxn4972',\n",
       " 'rxn47826',\n",
       " 'rxn23683',\n",
       " 'rxn22371',\n",
       " 'rxn5965',\n",
       " 'rxn96',\n",
       " 'rxn66864',\n",
       " 'rxn3228',\n",
       " 'rxn22984',\n",
       " 'rxn23766',\n",
       " 'rxn60333',\n",
       " 'rxn19478',\n",
       " 'rxn3797',\n",
       " 'rxn65815',\n",
       " 'rxn7301',\n",
       " 'rxn4971',\n",
       " 'rxn3278',\n",
       " 'rxn2366',\n",
       " 'rxn6431',\n",
       " 'rxn11057',\n",
       " 'rxn3767',\n",
       " 'rxn2510',\n",
       " 'rxn2511',\n",
       " 'rxn4937',\n",
       " 'rxn38',\n",
       " 'rxn31382',\n",
       " 'rxn22856',\n",
       " 'rxn53590',\n",
       " 'rxn13671',\n",
       " 'rxn26744',\n",
       " 'rxn4990',\n",
       " 'rxn1751',\n",
       " 'rxn2373',\n",
       " 'rxn23797',\n",
       " 'rxn46745',\n",
       " 'rxn11060',\n",
       " 'rxn38142',\n",
       " 'rxn6266',\n",
       " 'rxn15520',\n",
       " 'rxn5037',\n",
       " 'rxn16625',\n",
       " 'rxn5565',\n",
       " 'rxn6196',\n",
       " 'rxn69505',\n",
       " 'rxn15240',\n",
       " 'rxn31357',\n",
       " 'rxn24542',\n",
       " 'rxn38254',\n",
       " 'rxn56587',\n",
       " 'rxn33256',\n",
       " 'rxn58641',\n",
       " 'rxn47720',\n",
       " 'rxn69538',\n",
       " 'rxn9721',\n",
       " 'rxn8968',\n",
       " 'rxn31345',\n",
       " 'rxn8522',\n",
       " 'rxn5644',\n",
       " 'rxn23721',\n",
       " 'rxn5010',\n",
       " 'rxn31400',\n",
       " 'rxn15574',\n",
       " 'rxn23671',\n",
       " 'rxn5632',\n",
       " 'rxn792',\n",
       " 'rxn23646',\n",
       " 'rxn33272',\n",
       " 'rxn3760',\n",
       " 'rxn3084',\n",
       " 'rxn5503',\n",
       " 'rxn60949',\n",
       " 'rxn14699',\n",
       " 'rxn23688',\n",
       " 'rxn58886',\n",
       " 'rxn61884',\n",
       " 'rxn3363',\n",
       " 'rxn6282',\n",
       " 'rxn23744',\n",
       " 'rxn9997',\n",
       " 'rxn3014',\n",
       " 'rxn10548',\n",
       " 'rxn23723',\n",
       " 'rxn46761',\n",
       " 'rxn7358',\n",
       " 'rxn5046',\n",
       " 'rxn8283',\n",
       " 'rxn5645',\n",
       " 'rxn60665',\n",
       " 'rxn25397',\n",
       " 'rxn3366',\n",
       " 'rxn16128',\n",
       " 'rxn66852',\n",
       " 'rxn829',\n",
       " 'rxn15475',\n",
       " 'rxn5111',\n",
       " 'rxn46744',\n",
       " 'rxn42205',\n",
       " 'rxn1103',\n",
       " 'rxn46743',\n",
       " 'rxn14494',\n",
       " 'rxn13611',\n",
       " 'rxn6232',\n",
       " 'rxn6404',\n",
       " 'rxn31348',\n",
       " 'rxn5508',\n",
       " 'rxn23330',\n",
       " 'rxn10538',\n",
       " 'rxn18204',\n",
       " 'rxn61853',\n",
       " 'rxn11898',\n",
       " 'rxn26813',\n",
       " 'rxn6106',\n",
       " 'rxn1992',\n",
       " 'rxn49571',\n",
       " 'rxn28208',\n",
       " 'rxn2960',\n",
       " 'rxn2396',\n",
       " 'rxn1086',\n",
       " 'rxn3684',\n",
       " 'rxn31356',\n",
       " 'rxn4954',\n",
       " 'rxn31947',\n",
       " 'rxn4959',\n",
       " 'rxn32749',\n",
       " 'rxn60345',\n",
       " 'rxn5695',\n",
       " 'rxn7172',\n",
       " 'rxn3622',\n",
       " 'rxn18190',\n",
       " 'rxn3647',\n",
       " 'rxn15554',\n",
       " 'rxn23800',\n",
       " 'rxn60504',\n",
       " 'rxn13610',\n",
       " 'rxn13603',\n",
       " 'rxn23225',\n",
       " 'rxn4398',\n",
       " 'rxn1878',\n",
       " 'rxn53544',\n",
       " 'rxn3762',\n",
       " 'rxn58643',\n",
       " 'rxn3030',\n",
       " 'rxn3027',\n",
       " 'rxn64168',\n",
       " 'rxn64177',\n",
       " 'rxn61569',\n",
       " 'rxn15513',\n",
       " 'rxn5551',\n",
       " 'rxn44207',\n",
       " 'rxn32979',\n",
       " 'rxn22021',\n",
       " 'rxn4952',\n",
       " 'rxn4468',\n",
       " 'rxn7850',\n",
       " 'rxn32229',\n",
       " 'rxn31496',\n",
       " 'rxn5623',\n",
       " 'rxn6230',\n",
       " 'rxn19479',\n",
       " 'rxn1755',\n",
       " 'rxn2983',\n",
       " 'rxn4431',\n",
       " 'rxn7122',\n",
       " 'rxn9982',\n",
       " 'rxn32978',\n",
       " 'rxn3031',\n",
       " 'rxn6318',\n",
       " 'rxn6449',\n",
       " 'rxn58659',\n",
       " 'rxn4574',\n",
       " 'rxn11502',\n",
       " 'rxn6352',\n",
       " 'rxn53',\n",
       " 'rxn58657',\n",
       " 'rxn22400',\n",
       " 'rxn5524',\n",
       " 'rxn9056',\n",
       " 'rxn23703',\n",
       " 'rxn13447',\n",
       " 'rxn3394',\n",
       " 'rxn1746',\n",
       " 'rxn38705',\n",
       " 'rxn1646',\n",
       " 'rxn51394',\n",
       " 'rxn61768',\n",
       " 'rxn14420',\n",
       " 'rxn3097',\n",
       " 'rxn22990',\n",
       " 'rxn6356',\n",
       " 'rxn22396',\n",
       " 'rxn23785',\n",
       " 'rxn4944',\n",
       " 'rxn13590',\n",
       " 'rxn31354',\n",
       " 'rxn46719',\n",
       " 'rxn33254',\n",
       " 'rxn5077',\n",
       " 'rxn46708',\n",
       " 'rxn53482',\n",
       " 'rxn61811',\n",
       " 'rxn9946',\n",
       " 'rxn2966',\n",
       " 'rxn3052',\n",
       " 'rxn15572',\n",
       " 'rxn23388',\n",
       " 'rxn2896',\n",
       " 'rxn3134',\n",
       " 'rxn3782',\n",
       " 'rxn15517',\n",
       " 'rxn18848',\n",
       " 'rxn5581',\n",
       " 'rxn8936',\n",
       " 'rxn33280',\n",
       " 'rxn31321',\n",
       " 'rxn2340',\n",
       " 'rxn2998',\n",
       " 'rxn11673',\n",
       " 'rxn22634',\n",
       " 'rxn6714',\n",
       " 'rxn10339',\n",
       " 'rxn14492',\n",
       " 'rxn23710',\n",
       " 'rxn5033',\n",
       " 'rxn5106',\n",
       " 'rxn61852',\n",
       " 'rxn4717',\n",
       " 'rxn3029',\n",
       " 'rxn2422',\n",
       " 'rxn23767',\n",
       " 'rxn49872',\n",
       " 'rxn13718',\n",
       " 'rxn31353',\n",
       " 'rxn5513',\n",
       " 'rxn23704',\n",
       " 'rxn61146',\n",
       " 'rxn9043',\n",
       " 'rxn33233',\n",
       " 'rxn16181',\n",
       " 'rxn6447',\n",
       " 'rxn13633',\n",
       " 'rxn3047',\n",
       " 'rxn46699',\n",
       " 'rxn60433',\n",
       " 'rxn17720',\n",
       " 'rxn46747',\n",
       " 'rxn13674',\n",
       " 'rxn50526',\n",
       " 'rxn32230',\n",
       " 'rxn22395',\n",
       " 'rxn2892',\n",
       " 'rxn57529',\n",
       " 'rxn65816',\n",
       " 'rxn1973',\n",
       " 'rxn6177',\n",
       " 'rxn47725',\n",
       " 'rxn61017',\n",
       " 'rxn2930',\n",
       " 'rxn5030',\n",
       " 'rxn3069',\n",
       " 'rxn8593',\n",
       " 'rxn3152',\n",
       " 'rxn58873',\n",
       " 'rxn7006',\n",
       " 'rxn53531',\n",
       " 'rxn5621',\n",
       " 'rxn13638',\n",
       " 'rxn14522',\n",
       " 'rxn32984',\n",
       " 'rxn4654',\n",
       " 'rxn414',\n",
       " 'rxn10506',\n",
       " 'rxn33242',\n",
       " 'rxn3092',\n",
       " 'rxn46673',\n",
       " 'rxn22402',\n",
       " 'rxn49595',\n",
       " 'rxn6261',\n",
       " 'rxn194',\n",
       " 'rxn26750',\n",
       " 'rxn1711',\n",
       " 'rxn13705',\n",
       " 'rxn5119',\n",
       " 'rxn1655',\n",
       " 'rxn1977',\n",
       " 'rxn22188',\n",
       " 'rxn2933',\n",
       " 'rxn4214',\n",
       " 'rxn11025',\n",
       " 'rxn3109',\n",
       " 'rxn45290',\n",
       " 'rxn29022',\n",
       " 'rxn2620',\n",
       " 'rxn9075',\n",
       " 'rxn23774',\n",
       " 'rxn60416',\n",
       " 'rxn64169',\n",
       " 'rxn3624',\n",
       " 'rxn22373',\n",
       " 'rxn18167',\n",
       " 'rxn49451',\n",
       " 'rxn10990',\n",
       " 'rxn11053',\n",
       " 'rxn22560',\n",
       " 'rxn23649',\n",
       " 'rxn5349',\n",
       " 'rxn47719',\n",
       " 'rxn5060',\n",
       " 'rxn5501',\n",
       " 'rxn2338',\n",
       " 'rxn2508',\n",
       " 'rxn4991',\n",
       " 'rxn17635',\n",
       " 'rxn3128',\n",
       " 'rxn7805',\n",
       " 'rxn5070',\n",
       " 'rxn44195',\n",
       " 'rxn3821',\n",
       " 'rxn22627',\n",
       " 'rxn6374',\n",
       " 'rxn4943',\n",
       " 'rxn5556',\n",
       " 'rxn3028',\n",
       " 'rxn5468',\n",
       " 'rxn49474',\n",
       " 'rxn19492',\n",
       " 'rxn23124',\n",
       " 'rxn25581',\n",
       " 'rxn13706',\n",
       " 'rxn5089',\n",
       " 'rxn56392',\n",
       " 'rxn15547',\n",
       " 'rxn47421',\n",
       " 'rxn9948',\n",
       " 'rxn3145',\n",
       " 'rxn5486',\n",
       " 'rxn46755',\n",
       " 'rxn4995',\n",
       " 'rxn52103',\n",
       " 'rxn4787',\n",
       " 'rxn20547',\n",
       " 'rxn31387',\n",
       " 'rxn15540',\n",
       " 'rxn30040',\n",
       " 'rxn5697',\n",
       " 'rxn61824',\n",
       " 'rxn4935',\n",
       " 'rxn22820',\n",
       " 'rxn23746',\n",
       " 'rxn2368',\n",
       " 'rxn5615',\n",
       " 'rxn23707',\n",
       " 'rxn4976',\n",
       " 'rxn5585',\n",
       " 'rxn15543',\n",
       " 'rxn11015',\n",
       " 'rxn4932',\n",
       " 'rxn3714',\n",
       " 'rxn49044',\n",
       " 'rxn23676',\n",
       " 'rxn6129',\n",
       " 'rxn3041',\n",
       " 'rxn5593',\n",
       " 'rxn50833',\n",
       " 'rxn18129',\n",
       " 'rxn45289',\n",
       " 'rxn3026',\n",
       " 'rxn33262',\n",
       " 'rxn23686',\n",
       " 'rxn3095',\n",
       " 'rxn49544',\n",
       " 'rxn788',\n",
       " 'rxn26745',\n",
       " 'rxn26881',\n",
       " 'rxn18112',\n",
       " 'rxn6149',\n",
       " 'rxn23705',\n",
       " 'rxn13446',\n",
       " 'rxn69105',\n",
       " 'rxn26133',\n",
       " 'rxn31462',\n",
       " 'rxn29231',\n",
       " 'rxn14534',\n",
       " 'rxn3666',\n",
       " 'rxn18123',\n",
       " 'rxn61865',\n",
       " 'rxn9962',\n",
       " 'rxn1563',\n",
       " 'rxn2555',\n",
       " 'rxn791',\n",
       " 'rxn51',\n",
       " 'rxn15568',\n",
       " 'rxn5639',\n",
       " 'rxn3759',\n",
       " 'rxn4716',\n",
       " 'rxn2897',\n",
       " 'rxn31339',\n",
       " 'rxn37126',\n",
       " 'rxn28209',\n",
       " 'rxn23728',\n",
       " 'rxn60718',\n",
       " 'rxn23791',\n",
       " 'rxn16882',\n",
       " 'rxn60672',\n",
       " 'rxn23685',\n",
       " 'rxn14536',\n",
       " 'rxn10997',\n",
       " 'rxn59502',\n",
       " 'rxn65687',\n",
       " 'rxn3735',\n",
       " 'rxn6211',\n",
       " 'rxn61821',\n",
       " 'rxn5600',\n",
       " 'rxn31471',\n",
       " 'rxn2959',\n",
       " 'rxn53321',\n",
       " 'rxn2946',\n",
       " 'rxn3139',\n",
       " 'rxn12327',\n",
       " 'rxn11187',\n",
       " 'rxn6063',\n",
       " 'rxn2701',\n",
       " 'rxn3046',\n",
       " 'rxn842',\n",
       " 'rxn5050',\n",
       " 'rxn67210',\n",
       " 'rxn18206',\n",
       " 'rxn4629',\n",
       " 'rxn22397',\n",
       " 'rxn23619',\n",
       " 'rxn9817',\n",
       " 'rxn49546',\n",
       " 'rxn61337',\n",
       " 'rxn5566',\n",
       " 'rxn13615',\n",
       " 'rxn5110',\n",
       " 'rxn25435',\n",
       " 'rxn53492',\n",
       " 'rxn53597',\n",
       " 'rxn2336',\n",
       " 'rxn4956',\n",
       " 'rxn13599',\n",
       " 'rxn60362',\n",
       " 'rxn13675',\n",
       " 'rxn1316',\n",
       " 'rxn69532',\n",
       " 'rxn49641',\n",
       " 'rxn33014',\n",
       " 'rxn60991',\n",
       " 'rxn69507',\n",
       " 'rxn4489',\n",
       " 'rxn6277',\n",
       " 'rxn9068',\n",
       " 'rxn3694',\n",
       " 'rxn58639',\n",
       " 'rxn32',\n",
       " 'rxn1479',\n",
       " 'rxn4458',\n",
       " 'rxn8954',\n",
       " 'rxn8963',\n",
       " 'rxn564',\n",
       " 'rxn33271',\n",
       " 'rxn16546',\n",
       " 'rxn5011',\n",
       " 'rxn35429',\n",
       " 'rxn3079',\n",
       " 'rxn60424',\n",
       " 'rxn8996',\n",
       " 'rxn53275',\n",
       " 'rxn14512',\n",
       " 'rxn3696',\n",
       " 'rxn3712',\n",
       " 'rxn4302',\n",
       " 'rxn56585',\n",
       " 'rxn31204',\n",
       " 'rxn11543',\n",
       " 'rxn5563',\n",
       " 'rxn7809',\n",
       " 'rxn32238',\n",
       " 'rxn423',\n",
       " 'rxn33012',\n",
       " 'rxn60423',\n",
       " 'rxn23656',\n",
       " 'rxn57635',\n",
       " 'rxn18096',\n",
       " 'rxn23123',\n",
       " 'rxn60530',\n",
       " 'rxn6355',\n",
       " 'rxn23737',\n",
       " 'rxn3058',\n",
       " 'rxn15519',\n",
       " 'rxn3174',\n",
       " 'rxn62737',\n",
       " 'rxn23647',\n",
       " 'rxn3743',\n",
       " 'rxn3270',\n",
       " 'rxn61776',\n",
       " 'rxn15514',\n",
       " 'rxn5628',\n",
       " 'rxn16550',\n",
       " 'rxn2987',\n",
       " 'rxn50530',\n",
       " 'rxn18154',\n",
       " 'rxn15889',\n",
       " 'rxn3825',\n",
       " 'rxn50532',\n",
       " 'rxn11928',\n",
       " 'rxn53478',\n",
       " 'rxn53567',\n",
       " 'rxn297',\n",
       " 'rxn35',\n",
       " 'rxn18173',\n",
       " 'rxn45305',\n",
       " 'rxn61787',\n",
       " 'rxn809',\n",
       " 'rxn8886',\n",
       " 'rxn16548',\n",
       " 'rxn33011',\n",
       " 'rxn1709',\n",
       " 'rxn19482',\n",
       " 'rxn30068',\n",
       " 'rxn1345',\n",
       " 'rxn49575',\n",
       " 'rxn3071',\n",
       " 'rxn14388',\n",
       " 'rxn51165',\n",
       " 'rxn1186',\n",
       " 'rxn31402',\n",
       " 'rxn3857',\n",
       " 'rxn7509',\n",
       " 'rxn2726',\n",
       " 'rxn3175',\n",
       " 'rxn58640',\n",
       " 'rxn60421',\n",
       " 'rxn4769',\n",
       " 'rxn30036',\n",
       " 'rxn49572',\n",
       " 'rxn9061',\n",
       " 'rxn14488',\n",
       " 'rxn16126',\n",
       " 'rxn8995',\n",
       " 'rxn95',\n",
       " 'rxn33286',\n",
       " 'rxn5410',\n",
       " 'rxn5514',\n",
       " 'rxn53471',\n",
       " 'rxn22346',\n",
       " 'rxn60396',\n",
       " 'rxn10905',\n",
       " 'rxn5105',\n",
       " 'rxn26860',\n",
       " 'rxn16196',\n",
       " 'rxn16198',\n",
       " 'rxn8974',\n",
       " 'rxn3716',\n",
       " 'rxn11813',\n",
       " 'rxn6108',\n",
       " 'rxn31405',\n",
       " ...]"
      ]
     },
     "execution_count": 31,
     "metadata": {},
     "output_type": "execute_result"
    }
   ],
   "source": [
    "del_reaction_lst"
   ]
  },
  {
   "cell_type": "code",
   "execution_count": 32,
   "metadata": {},
   "outputs": [],
   "source": [
    "# filename = '../Data/analysis/error_reaction_all.pkl'\n",
    "with open(error_reaction_all_path, 'wb') as file:\n",
    "    pickle.dump(del_reaction_lst, file)"
   ]
  },
  {
   "cell_type": "code",
   "execution_count": 33,
   "metadata": {},
   "outputs": [],
   "source": [
    "# with open(error_reaction_all_path, 'rb') as file:\n",
    "#     del_reaction_lst_ = pickle.load(file)\n",
    "# del_reaction_lst_"
   ]
  },
  {
   "cell_type": "code",
   "execution_count": 34,
   "metadata": {},
   "outputs": [
    {
     "name": "stdout",
     "output_type": "stream",
     "text": [
      "(7889, 8)\n",
      "(4801, 8)\n"
     ]
    }
   ],
   "source": [
    "rxndb_total_info_to_model = pd.read_csv(rxndb_total_info_to_model_path)\n",
    "print(rxndb_total_info_to_model.shape)\n",
    "rxndb_total_info_to_model = rxndb_total_info_to_model[~rxndb_total_info_to_model['NO'].isin(del_reaction_lst)]\n",
    "print(rxndb_total_info_to_model.shape)\n",
    "rxndb_total_info_to_model.to_csv(rxndb_total_info_to_model_del_reaction_path, index=False)"
   ]
  },
  {
   "cell_type": "code",
   "execution_count": 35,
   "metadata": {},
   "outputs": [
    {
     "name": "stdout",
     "output_type": "stream",
     "text": [
      "(4151, 4)\n",
      "(4801, 8)\n",
      "(4801, 8)\n",
      "(3399, 8)\n"
     ]
    },
    {
     "name": "stderr",
     "output_type": "stream",
     "text": [
      " 68%|██████▊   | 2319/3399 [00:08<00:04, 264.99it/s]"
     ]
    },
    {
     "name": "stderr",
     "output_type": "stream",
     "text": [
      "100%|██████████| 3399/3399 [00:14<00:00, 239.87it/s]\n"
     ]
    }
   ],
   "source": [
    "get_yeast8U(metabolites_info_to_GEM_path,rxndb_total_info_to_model_del_reaction_path,yeast8_reaction_in_rxndb_json,yeast870_path,yeast8U_del_path)"
   ]
  },
  {
   "cell_type": "code",
   "execution_count": 36,
   "metadata": {},
   "outputs": [
    {
     "data": {
      "text/html": [
       "<h3>Objective</h3><p>1.0 r_2111 = 0.08995808143536634</p><h4>Uptake</h4><table border=\"1\" class=\"dataframe\">\n",
       "  <thead>\n",
       "    <tr style=\"text-align: right;\">\n",
       "      <th>Metabolite</th>\n",
       "      <th>Reaction</th>\n",
       "      <th>Flux</th>\n",
       "      <th>C-Number</th>\n",
       "      <th>C-Flux</th>\n",
       "    </tr>\n",
       "  </thead>\n",
       "  <tbody>\n",
       "    <tr>\n",
       "      <td>s_0420</td>\n",
       "      <td>r_1654</td>\n",
       "      <td>0.6432</td>\n",
       "      <td>0</td>\n",
       "      <td>0.00%</td>\n",
       "    </tr>\n",
       "    <tr>\n",
       "      <td>s_0565</td>\n",
       "      <td>r_1714</td>\n",
       "      <td>1</td>\n",
       "      <td>6</td>\n",
       "      <td>100.00%</td>\n",
       "    </tr>\n",
       "    <tr>\n",
       "      <td>s_0796</td>\n",
       "      <td>r_1832</td>\n",
       "      <td>0.0455</td>\n",
       "      <td>0</td>\n",
       "      <td>0.00%</td>\n",
       "    </tr>\n",
       "    <tr>\n",
       "      <td>s_0925</td>\n",
       "      <td>r_1861</td>\n",
       "      <td>0.005941</td>\n",
       "      <td>0</td>\n",
       "      <td>0.00%</td>\n",
       "    </tr>\n",
       "    <tr>\n",
       "      <td>s_1277</td>\n",
       "      <td>r_1992</td>\n",
       "      <td>1.978</td>\n",
       "      <td>0</td>\n",
       "      <td>0.00%</td>\n",
       "    </tr>\n",
       "    <tr>\n",
       "      <td>s_1324</td>\n",
       "      <td>r_2005</td>\n",
       "      <td>0.04503</td>\n",
       "      <td>0</td>\n",
       "      <td>0.00%</td>\n",
       "    </tr>\n",
       "    <tr>\n",
       "      <td>s_1374</td>\n",
       "      <td>r_2020</td>\n",
       "      <td>0.0003265</td>\n",
       "      <td>0</td>\n",
       "      <td>0.00%</td>\n",
       "    </tr>\n",
       "    <tr>\n",
       "      <td>s_1438</td>\n",
       "      <td>r_2049</td>\n",
       "      <td>0.0003571</td>\n",
       "      <td>0</td>\n",
       "      <td>0.00%</td>\n",
       "    </tr>\n",
       "    <tr>\n",
       "      <td>s_1468</td>\n",
       "      <td>r_2060</td>\n",
       "      <td>0.001799</td>\n",
       "      <td>0</td>\n",
       "      <td>0.00%</td>\n",
       "    </tr>\n",
       "    <tr>\n",
       "      <td>s_4200</td>\n",
       "      <td>r_4593</td>\n",
       "      <td>0.000116</td>\n",
       "      <td>0</td>\n",
       "      <td>0.00%</td>\n",
       "    </tr>\n",
       "    <tr>\n",
       "      <td>s_4201</td>\n",
       "      <td>r_4594</td>\n",
       "      <td>5.928E-05</td>\n",
       "      <td>0</td>\n",
       "      <td>0.00%</td>\n",
       "    </tr>\n",
       "    <tr>\n",
       "      <td>s_4202</td>\n",
       "      <td>r_4595</td>\n",
       "      <td>0.0002456</td>\n",
       "      <td>0</td>\n",
       "      <td>0.00%</td>\n",
       "    </tr>\n",
       "    <tr>\n",
       "      <td>s_4203</td>\n",
       "      <td>r_4596</td>\n",
       "      <td>6.729E-05</td>\n",
       "      <td>0</td>\n",
       "      <td>0.00%</td>\n",
       "    </tr>\n",
       "    <tr>\n",
       "      <td>s_4204</td>\n",
       "      <td>r_4597</td>\n",
       "      <td>0.0001118</td>\n",
       "      <td>0</td>\n",
       "      <td>0.00%</td>\n",
       "    </tr>\n",
       "    <tr>\n",
       "      <td>s_4199</td>\n",
       "      <td>r_4600</td>\n",
       "      <td>1.952E-05</td>\n",
       "      <td>0</td>\n",
       "      <td>0.00%</td>\n",
       "    </tr>\n",
       "  </tbody>\n",
       "</table><h4>Secretion</h4><table border=\"1\" class=\"dataframe\">\n",
       "  <thead>\n",
       "    <tr style=\"text-align: right;\">\n",
       "      <th>Metabolite</th>\n",
       "      <th>Reaction</th>\n",
       "      <th>Flux</th>\n",
       "      <th>C-Number</th>\n",
       "      <th>C-Flux</th>\n",
       "    </tr>\n",
       "  </thead>\n",
       "  <tbody>\n",
       "    <tr>\n",
       "      <td>s_0458</td>\n",
       "      <td>r_1672</td>\n",
       "      <td>-2.122</td>\n",
       "      <td>1</td>\n",
       "      <td>100.00%</td>\n",
       "    </tr>\n",
       "    <tr>\n",
       "      <td>s_0805</td>\n",
       "      <td>r_2100</td>\n",
       "      <td>-3.895</td>\n",
       "      <td>0</td>\n",
       "      <td>0.00%</td>\n",
       "    </tr>\n",
       "    <tr>\n",
       "      <td>s_0450</td>\n",
       "      <td>r_2111</td>\n",
       "      <td>-0.08996</td>\n",
       "      <td>0</td>\n",
       "      <td>0.00%</td>\n",
       "    </tr>\n",
       "  </tbody>\n",
       "</table>"
      ],
      "text/plain": [
       "<cobra.summary.model_summary.ModelSummary at 0x7fa09e8fdd50>"
      ]
     },
     "execution_count": 36,
     "metadata": {},
     "output_type": "execute_result"
    }
   ],
   "source": [
    "yeast8U_del = cobra.io.load_yaml_model(yeast8U_del_path)\n",
    "yeast8U_del.summary()"
   ]
  },
  {
   "cell_type": "code",
   "execution_count": 37,
   "metadata": {},
   "outputs": [],
   "source": [
    "# for reaction_id in tqdm(del_reaction_lst):\n",
    "#     reaction = yeast8U_mod.reactions.get_by_id(reaction_id)\n",
    "#     yeast8U_mod.remove_reactions([reaction])"
   ]
  },
  {
   "cell_type": "code",
   "execution_count": 38,
   "metadata": {},
   "outputs": [],
   "source": [
    "# yeast8U_del_path = '../Data/model/yeast8U_Final_mod_del.yml'\n",
    "\n",
    "# cobra.io.save_yaml_model(yeast8U_mod,yeast8U_del_path)"
   ]
  }
 ],
 "metadata": {
  "kernelspec": {
   "display_name": "kcat",
   "language": "python",
   "name": "python3"
  },
  "language_info": {
   "codemirror_mode": {
    "name": "ipython",
    "version": 3
   },
   "file_extension": ".py",
   "mimetype": "text/x-python",
   "name": "python",
   "nbconvert_exporter": "python",
   "pygments_lexer": "ipython3",
   "version": "3.7.16"
  },
  "orig_nbformat": 4
 },
 "nbformat": 4,
 "nbformat_minor": 2
}
