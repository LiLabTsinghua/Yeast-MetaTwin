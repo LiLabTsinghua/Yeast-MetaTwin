{
 "cells": [
  {
   "cell_type": "code",
   "execution_count": 11,
   "metadata": {},
   "outputs": [],
   "source": [
    "import pandas as pd\n",
    "import numpy as np\n",
    "import json\n",
    "import pandas as pd\n",
    "import re\n",
    "from rdkit import Chem\n",
    "from rdkit.Chem import AllChem\n",
    "from collections import Counter,defaultdict\n",
    "from ast import literal_eval\n",
    "import cobra\n",
    "from cobra import Metabolite,Reaction,Gene\n",
    "from tqdm import tqdm\n",
    "import random\n",
    "import pickle\n",
    "from multiprocessing import Pool\n",
    "\n",
    "import sys\n",
    "# sys.path.append('../Script/')\n",
    "from common import *\n",
    "# from check_newinfo_getyeast8U import *"
   ]
  },
  {
   "cell_type": "markdown",
   "metadata": {},
   "source": [
    "# get Yeast-MetaTwin without lipids"
   ]
  },
  {
   "cell_type": "code",
   "execution_count": 12,
   "metadata": {},
   "outputs": [],
   "source": [
    "### input\n",
    "yeast870_path =  '../../Data/model/Yeast-MetaTwin.yml'\n",
    "\n",
    "cut_off = 0.3\n",
    "num = 'all'\n",
    "num_process = 50\n",
    "cut_off_path = f'../../Results/lipid/top{num}_{cut_off}_re/'\n",
    "metabolites_info_to_GEM_path = cut_off_path + f'metabolites_info_to_GEM_top{num}_{cut_off}_del.csv'\n",
    "rxndb_total_info_to_model_path = cut_off_path + f'rxndb_total_info_to_model_top{num}_{cut_off}_del.csv'\n",
    "yeast8_reaction_in_rxndb_json = cut_off_path + f'yeast8_reaction_in_rxndb_top{num}_{cut_off}.json'\n",
    "\n",
    "### output\n",
    "yeast8U_withlipids_path = '../../Data/model/Yeast-MetaTwin-lipid.yml'"
   ]
  },
  {
   "cell_type": "code",
   "execution_count": 13,
   "metadata": {},
   "outputs": [
    {
     "data": {
      "text/plain": [
       "(51340, 8)"
      ]
     },
     "execution_count": 13,
     "metadata": {},
     "output_type": "execute_result"
    }
   ],
   "source": [
    "rxndb_total_info_to_model = pd.read_csv(rxndb_total_info_to_model_path)\n",
    "rxndb_total_info_to_model.shape"
   ]
  },
  {
   "cell_type": "code",
   "execution_count": 14,
   "metadata": {},
   "outputs": [
    {
     "name": "stdout",
     "output_type": "stream",
     "text": [
      "(37751, 4)\n"
     ]
    },
    {
     "data": {
      "text/html": [
       "<div>\n",
       "<style scoped>\n",
       "    .dataframe tbody tr th:only-of-type {\n",
       "        vertical-align: middle;\n",
       "    }\n",
       "\n",
       "    .dataframe tbody tr th {\n",
       "        vertical-align: top;\n",
       "    }\n",
       "\n",
       "    .dataframe thead th {\n",
       "        text-align: right;\n",
       "    }\n",
       "</style>\n",
       "<table border=\"1\" class=\"dataframe\">\n",
       "  <thead>\n",
       "    <tr style=\"text-align: right;\">\n",
       "      <th></th>\n",
       "      <th>new_met_smiles</th>\n",
       "      <th>sim_smile</th>\n",
       "      <th>ID</th>\n",
       "      <th>compartment</th>\n",
       "    </tr>\n",
       "  </thead>\n",
       "  <tbody>\n",
       "    <tr>\n",
       "      <th>0</th>\n",
       "      <td>CCCCCCCCCCCCCCCCCC(=O)OC(COC(=O)CCCCCCCCCCCCCC...</td>\n",
       "      <td></td>\n",
       "      <td>sl_1</td>\n",
       "      <td>c</td>\n",
       "    </tr>\n",
       "    <tr>\n",
       "      <th>1</th>\n",
       "      <td>CCCCC=CCCCCCCCC(=O)OC(COC(=O)CCCCCCCCCCCCC)COP...</td>\n",
       "      <td></td>\n",
       "      <td>sl_2</td>\n",
       "      <td>c</td>\n",
       "    </tr>\n",
       "    <tr>\n",
       "      <th>2</th>\n",
       "      <td>Nc1ncnc2c1ncn2C1OC(COP(=O)([O-])OP(=O)([O-])OC...</td>\n",
       "      <td>Nc1ncnc2c1ncn2C1OC(COP(=O)(O)OP(=O)(O)OCC2OC(O...</td>\n",
       "      <td>s_3760</td>\n",
       "      <td>c</td>\n",
       "    </tr>\n",
       "    <tr>\n",
       "      <th>3</th>\n",
       "      <td>CCCCCCCCCCCCCCCCCCCCCC(O)=NC(CO)C(O)C(O)CCCCCC...</td>\n",
       "      <td></td>\n",
       "      <td>sn_282</td>\n",
       "      <td>c</td>\n",
       "    </tr>\n",
       "    <tr>\n",
       "      <th>4</th>\n",
       "      <td>CCCC=CCCCCCCCCCC(=O)OC(COC(=O)CCCCCCC/C=C/CCCC...</td>\n",
       "      <td></td>\n",
       "      <td>sl_4</td>\n",
       "      <td>c</td>\n",
       "    </tr>\n",
       "  </tbody>\n",
       "</table>\n",
       "</div>"
      ],
      "text/plain": [
       "                                      new_met_smiles  \\\n",
       "0  CCCCCCCCCCCCCCCCCC(=O)OC(COC(=O)CCCCCCCCCCCCCC...   \n",
       "1  CCCCC=CCCCCCCCC(=O)OC(COC(=O)CCCCCCCCCCCCC)COP...   \n",
       "2  Nc1ncnc2c1ncn2C1OC(COP(=O)([O-])OP(=O)([O-])OC...   \n",
       "3  CCCCCCCCCCCCCCCCCCCCCC(O)=NC(CO)C(O)C(O)CCCCCC...   \n",
       "4  CCCC=CCCCCCCCCCC(=O)OC(COC(=O)CCCCCCC/C=C/CCCC...   \n",
       "\n",
       "                                           sim_smile      ID compartment  \n",
       "0                                                       sl_1           c  \n",
       "1                                                       sl_2           c  \n",
       "2  Nc1ncnc2c1ncn2C1OC(COP(=O)(O)OP(=O)(O)OCC2OC(O...  s_3760           c  \n",
       "3                                                     sn_282           c  \n",
       "4                                                       sl_4           c  "
      ]
     },
     "execution_count": 14,
     "metadata": {},
     "output_type": "execute_result"
    }
   ],
   "source": [
    "metabolites_info_to_GEM = pd.read_csv(metabolites_info_to_GEM_path)\n",
    "print(metabolites_info_to_GEM.shape)\n",
    "metabolites_info_to_GEM.head(5)"
   ]
  },
  {
   "cell_type": "code",
   "execution_count": 15,
   "metadata": {},
   "outputs": [
    {
     "name": "stdout",
     "output_type": "stream",
     "text": [
      "(37751, 4)\n",
      "(51340, 8)\n",
      "(51340, 8)\n",
      "(51340, 8)\n"
     ]
    },
    {
     "name": "stderr",
     "output_type": "stream",
     "text": [
      "100%|██████████| 51340/51340 [14:27<00:00, 59.18it/s]  \n"
     ]
    }
   ],
   "source": [
    "get_yeast8U(metabolites_info_to_GEM_path,rxndb_total_info_to_model_path,yeast8_reaction_in_rxndb_json,yeast870_path,yeast8U_withlipids_path)"
   ]
  },
  {
   "cell_type": "code",
   "execution_count": 16,
   "metadata": {},
   "outputs": [
    {
     "data": {
      "text/html": [
       "<h3>Objective</h3><p>1.0 r_2111 = 0.13919492724531365</p><h4>Uptake</h4><table border=\"1\" class=\"dataframe\">\n",
       "  <thead>\n",
       "    <tr style=\"text-align: right;\">\n",
       "      <th>Metabolite</th>\n",
       "      <th>Reaction</th>\n",
       "      <th>Flux</th>\n",
       "      <th>C-Number</th>\n",
       "      <th>C-Flux</th>\n",
       "    </tr>\n",
       "  </thead>\n",
       "  <tbody>\n",
       "    <tr>\n",
       "      <td>s_0420</td>\n",
       "      <td>r_1654</td>\n",
       "      <td>0.9952</td>\n",
       "      <td>0</td>\n",
       "      <td>0.00%</td>\n",
       "    </tr>\n",
       "    <tr>\n",
       "      <td>s_0565</td>\n",
       "      <td>r_1714</td>\n",
       "      <td>1</td>\n",
       "      <td>6</td>\n",
       "      <td>100.00%</td>\n",
       "    </tr>\n",
       "    <tr>\n",
       "      <td>s_0796</td>\n",
       "      <td>r_1832</td>\n",
       "      <td>0.07041</td>\n",
       "      <td>0</td>\n",
       "      <td>0.00%</td>\n",
       "    </tr>\n",
       "    <tr>\n",
       "      <td>s_0925</td>\n",
       "      <td>r_1861</td>\n",
       "      <td>4.371E-06</td>\n",
       "      <td>0</td>\n",
       "      <td>0.00%</td>\n",
       "    </tr>\n",
       "    <tr>\n",
       "      <td>s_1324</td>\n",
       "      <td>r_2005</td>\n",
       "      <td>0.06967</td>\n",
       "      <td>0</td>\n",
       "      <td>0.00%</td>\n",
       "    </tr>\n",
       "    <tr>\n",
       "      <td>s_1374</td>\n",
       "      <td>r_2020</td>\n",
       "      <td>0.0005053</td>\n",
       "      <td>0</td>\n",
       "      <td>0.00%</td>\n",
       "    </tr>\n",
       "    <tr>\n",
       "      <td>s_1438</td>\n",
       "      <td>r_2049</td>\n",
       "      <td>0.0005526</td>\n",
       "      <td>0</td>\n",
       "      <td>0.00%</td>\n",
       "    </tr>\n",
       "    <tr>\n",
       "      <td>s_1468</td>\n",
       "      <td>r_2060</td>\n",
       "      <td>0.01197</td>\n",
       "      <td>0</td>\n",
       "      <td>0.00%</td>\n",
       "    </tr>\n",
       "    <tr>\n",
       "      <td>s_4200</td>\n",
       "      <td>r_4593</td>\n",
       "      <td>0.0001796</td>\n",
       "      <td>0</td>\n",
       "      <td>0.00%</td>\n",
       "    </tr>\n",
       "    <tr>\n",
       "      <td>s_4201</td>\n",
       "      <td>r_4594</td>\n",
       "      <td>9.173E-05</td>\n",
       "      <td>0</td>\n",
       "      <td>0.00%</td>\n",
       "    </tr>\n",
       "    <tr>\n",
       "      <td>s_4202</td>\n",
       "      <td>r_4595</td>\n",
       "      <td>0.00038</td>\n",
       "      <td>0</td>\n",
       "      <td>0.00%</td>\n",
       "    </tr>\n",
       "    <tr>\n",
       "      <td>s_4203</td>\n",
       "      <td>r_4596</td>\n",
       "      <td>0.0001041</td>\n",
       "      <td>0</td>\n",
       "      <td>0.00%</td>\n",
       "    </tr>\n",
       "    <tr>\n",
       "      <td>s_4204</td>\n",
       "      <td>r_4597</td>\n",
       "      <td>0.000173</td>\n",
       "      <td>0</td>\n",
       "      <td>0.00%</td>\n",
       "    </tr>\n",
       "    <tr>\n",
       "      <td>s_4199</td>\n",
       "      <td>r_4600</td>\n",
       "      <td>3.021E-05</td>\n",
       "      <td>0</td>\n",
       "      <td>0.00%</td>\n",
       "    </tr>\n",
       "  </tbody>\n",
       "</table><h4>Secretion</h4><table border=\"1\" class=\"dataframe\">\n",
       "  <thead>\n",
       "    <tr style=\"text-align: right;\">\n",
       "      <th>Metabolite</th>\n",
       "      <th>Reaction</th>\n",
       "      <th>Flux</th>\n",
       "      <th>C-Number</th>\n",
       "      <th>C-Flux</th>\n",
       "    </tr>\n",
       "  </thead>\n",
       "  <tbody>\n",
       "    <tr>\n",
       "      <td>s_1277</td>\n",
       "      <td>r_1992</td>\n",
       "      <td>-0.389</td>\n",
       "      <td>0</td>\n",
       "      <td>0.00%</td>\n",
       "    </tr>\n",
       "    <tr>\n",
       "      <td>s_0805</td>\n",
       "      <td>r_2100</td>\n",
       "      <td>-2.447</td>\n",
       "      <td>0</td>\n",
       "      <td>0.00%</td>\n",
       "    </tr>\n",
       "    <tr>\n",
       "      <td>s_0450</td>\n",
       "      <td>r_2111</td>\n",
       "      <td>-0.1392</td>\n",
       "      <td>0</td>\n",
       "      <td>0.00%</td>\n",
       "    </tr>\n",
       "  </tbody>\n",
       "</table>"
      ],
      "text/plain": [
       "<cobra.summary.model_summary.ModelSummary at 0x7fadb88d6650>"
      ]
     },
     "execution_count": 16,
     "metadata": {},
     "output_type": "execute_result"
    }
   ],
   "source": [
    "yeast8U_mod = cobra.io.load_yaml_model(yeast8U_withlipids_path)\n",
    "yeast8U_mod.summary()"
   ]
  }
 ],
 "metadata": {
  "kernelspec": {
   "display_name": "kcat",
   "language": "python",
   "name": "python3"
  },
  "language_info": {
   "codemirror_mode": {
    "name": "ipython",
    "version": 3
   },
   "file_extension": ".py",
   "mimetype": "text/x-python",
   "name": "python",
   "nbconvert_exporter": "python",
   "pygments_lexer": "ipython3",
   "version": "3.7.16"
  },
  "orig_nbformat": 4
 },
 "nbformat": 4,
 "nbformat_minor": 2
}
