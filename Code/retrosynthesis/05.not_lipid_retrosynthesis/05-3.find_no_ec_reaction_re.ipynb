{
 "cells": [
  {
   "cell_type": "code",
   "execution_count": 9,
   "metadata": {},
   "outputs": [],
   "source": [
    "import pandas as pd\n",
    "import matplotlib.pyplot as plt\n",
    "import sys\n",
    "import re\n",
    "sys.path.append('../')\n",
    "from common import *\n",
    "from tqdm import tqdm\n",
    "import multiprocessing\n",
    "from functools import partial\n",
    "tqdm.pandas()"
   ]
  },
  {
   "cell_type": "markdown",
   "metadata": {},
   "source": [
    "# input and output"
   ]
  },
  {
   "cell_type": "code",
   "execution_count": 10,
   "metadata": {},
   "outputs": [],
   "source": [
    "###input\n",
    "YMDB_success_met_smile_path = '../../../Results/not_lipid/top50_0.3_re/YMDB_success_met_smile_top50_0.3.pickle'\n",
    "YMDB_success_met_smile_add_no_ec_path = '../../../Results/not_lipid/top50_0.3_add_no_ec_re/YMDB_success_met_smile_top50_0.3.pickle'\n",
    "# YMDB_success_met_smile_add_no_ec_uptake_file = '../../../Results/not_lipid/top50_0.3_add_no_ec_re/YMDB_success_met_smile_uptake_top50_0.3.pickle'\n",
    "# YMDB_success_met_smile_uptake_file = '../../../Results/not_lipid/top50_0.3_re/YMDB_success_met_smile_uptake_top50_0.3.pickle'\n",
    "rxndb_to_model_path = '../../../Results/not_lipid/top50_0.3_re/rxndb_to_model_top50_0.3.csv'\n",
    "rxndb_to_model_add_no_ec_path = '../../../Results/not_lipid/top50_0.3_add_no_ec_re/rxndb_to_model_top50_0.3.csv'\n",
    "ymdb_output_final = '../../../Data/ymdb/ymdb_final_result.xlsx'\n",
    "yeast8_metabolites_path = '../../../Data/model/yeast-GEM-final.csv'\n",
    "uptake_met_path = '../../../Data/ymdb/ymdb_uptake.csv'\n",
    "# lipid_YMDB_success_met_smile_file_remian ='../../../Results/lipid/topall_0.3_remain_re/YMDB_success_met_smile_topall_0.3_remain.pickle'\n",
    "# lipid_YMDB_success_met_smile_file = '../../../Results/lipid/topall_0.3_re/YMDB_success_met_smile_topall_0.3.pickle'\n",
    "\n",
    "###output\n",
    "rxndb_met_max_score_file = '../../../Results/rxndb_met_max_score_pd_top50_0.3_re.csv'\n",
    "rxndb_to_model_with_target_path = '../../../Results/not_lipid/top50_0.3_add_no_ec_re/rxndb_to_model_with_target_top50_0.3.csv'\n",
    "rxndb_to_model_with_target_success_path = '../../../Results/not_lipid/top50_0.3_add_no_ec_re/rxndb_to_model_with_target_top50_0.3_success.csv'"
   ]
  },
  {
   "cell_type": "code",
   "execution_count": 11,
   "metadata": {},
   "outputs": [],
   "source": [
    "def get_score_from_smiles(input_smiles,smile_max_score_pd): ###return highest similarity score\n",
    "    # input_smiles = normalize_smiles(input_smiles)\n",
    "    row = smile_max_score_pd[smile_max_score_pd['inchikey0'] == smiles2inchikey0(input_smiles)]\n",
    "    if not row.empty:\n",
    "        return row['score'].max()\n",
    "    else:\n",
    "        return 0\n",
    "def process_reaction_product(index_row,smile_max_score_pd):\n",
    "    index, row = index_row\n",
    "    reactant_smiles = row['rxn_smiles_basic'].split('>>')[0].split('.')\n",
    "    product_smiles = row['rxn_smiles_basic'].split('>>')[1].split('.')\n",
    "    scores = []\n",
    "\n",
    "    for i in product_smiles:\n",
    "        scores.append(get_score_from_smiles(i, smile_max_score_pd))\n",
    "\n",
    "    scores_all_0 = all(score == 1 for score in scores)\n",
    "\n",
    "    if scores_all_0 and len(reactant_smiles)>0:\n",
    "        return reactant_smiles, row['NO']\n",
    "    else:\n",
    "        return [], None\n",
    "def process_reaction_reactant(index_row,smile_max_score_pd):\n",
    "    index, row = index_row\n",
    "    reactant_smiles = row['rxn_smiles_basic'].split('>>')[0].split('.')\n",
    "    product_smiles = row['rxn_smiles_basic'].split('>>')[1].split('.')\n",
    "    scores = []\n",
    "\n",
    "    for i in reactant_smiles:\n",
    "        scores.append(get_score_from_smiles(i, smile_max_score_pd))\n",
    "\n",
    "    scores_all_0 = all(score == 1 for score in scores)\n",
    "\n",
    "    if scores_all_0 and len(product_smiles)>0:\n",
    "        return product_smiles, row['NO']\n",
    "    else:\n",
    "        return [], None\n",
    "def process_chunk_reactant(chunk_df,smile_max_score_pd):\n",
    "    smiles_success = []\n",
    "    success_rxndbid = []\n",
    "    for result in map(partial(process_reaction_reactant,smile_max_score_pd=smile_max_score_pd), chunk_df.iterrows()):\n",
    "        if result[0]:  # check whether the result is non-empty\n",
    "            smiles_success.extend(result[0])\n",
    "        if result[1] is not None:\n",
    "            success_rxndbid.append(result[1])\n",
    "    return smiles_success, success_rxndbid\n",
    "def process_chunk_product(chunk_df,smile_max_score_pd):\n",
    "    smiles_success = []\n",
    "    success_rxndbid = []\n",
    "    for result in map(partial(process_reaction_product,smile_max_score_pd=smile_max_score_pd), chunk_df.iterrows()):\n",
    "        if result[0]:  # check whether the result is non-empty\n",
    "            smiles_success.extend(result[0])\n",
    "        if result[1] is not None:\n",
    "            success_rxndbid.append(result[1])\n",
    "    return smiles_success, success_rxndbid\n",
    "def process_reactions_in_parallel_reactant(rxndb,origin_smile_max_score_pd, num_processes=100, num_iterations=1):\n",
    "    num = 0\n",
    "    tmp_smile_max_score_pd = origin_smile_max_score_pd\n",
    "    while num < num_iterations:\n",
    "        num+=1\n",
    "        # pool = multiprocessing.Pool(num_processes)\n",
    "        smiles_success = []\n",
    "        success_rxndbid = []\n",
    "        chunks = np.array_split(rxndb, 100)\n",
    "        with multiprocessing.Pool(num_processes) as pool:\n",
    "            for result in tqdm(pool.imap(partial(process_chunk_reactant,smile_max_score_pd=tmp_smile_max_score_pd), chunks), total=len(chunks)):\n",
    "                smiles_success.extend(result[0])\n",
    "                success_rxndbid.extend(result[1])\n",
    "            for result in tqdm(pool.imap(partial(process_chunk_product,smile_max_score_pd=tmp_smile_max_score_pd), chunks), total=len(chunks)):\n",
    "                smiles_success.extend(result[0])\n",
    "                success_rxndbid.extend(result[1])\n",
    "        # pool.close()\n",
    "        # pool.join()\n",
    "        \n",
    "        smiles_success = list(set(smiles_success))\n",
    "        success_rxndbid = list(set(success_rxndbid))\n",
    "        # Process cumulative successful SMILES\n",
    "        for smile in smiles_success:\n",
    "            if get_score_from_smiles(smile, tmp_smile_max_score_pd) < 1:\n",
    "                new_row = {'smile': smile, 'score': 1, 'sim_smile': 'sys', 'inchikey0': smiles2inchikey0(smile)}\n",
    "                # tmp_smile_max_score_pd = tmp_smile_max_score_pd._append(new_row, ignore_index=True)\n",
    "                tmp_smile_max_score_pd = tmp_smile_max_score_pd.append(new_row, ignore_index=True)\n",
    "\n",
    "        # smiles_success = [normalize_smiles(met) for met in smiles_success]\n",
    "        # smiles_success = list(set(smiles_success))\n",
    "\n",
    "        print(f'Iteration {num} - Current success count: {len(smiles_success)}')\n",
    "        print(f'Iteration {num} - Current success_rxndbid count: {len(success_rxndbid)}')\n",
    "        print('============================================================================')\n",
    "\n",
    "    print('final success', len(smiles_success))\n",
    "    print('final success_rxndbid', len(success_rxndbid))\n",
    "    # print(success_rxndbid)\n",
    "    return smiles_success, success_rxndbid,tmp_smile_max_score_pd"
   ]
  },
  {
   "cell_type": "markdown",
   "metadata": {},
   "source": [
    "# 无EC rule 连上的代谢物"
   ]
  },
  {
   "cell_type": "code",
   "execution_count": 12,
   "metadata": {},
   "outputs": [
    {
     "name": "stdout",
     "output_type": "stream",
     "text": [
      "1414\n"
     ]
    }
   ],
   "source": [
    "yeast8_total_smiles = get_all_smiles_in_model(yeast8_metabolites_path,ymdb_output_final)\n",
    "success_smiles = load_pickle(YMDB_success_met_smile_add_no_ec_path)\n",
    "uptake_met = pd.read_csv(uptake_met_path)   \n",
    "uptake_smiles = uptake_met['SMILES'].to_list()\n",
    "sink_smiles = yeast8_total_smiles + success_smiles + uptake_smiles\n",
    "sink_smiles = list(set(sink_smiles))\n",
    "sink0 = [smiles2inchikey0(x) for x in sink_smiles]\n",
    "sink0 = list(set(sink0))\n",
    "print(len(sink0))"
   ]
  },
  {
   "cell_type": "code",
   "execution_count": 13,
   "metadata": {},
   "outputs": [
    {
     "data": {
      "text/plain": [
       "['O=P(O)(O)OCC1OC(O)(CO)C(O)C(O)C1O',\n",
       " 'CC1=C(O)C(=O)OC1C',\n",
       " 'O=C(C=Cc1ccc(O)c(O)c1)OC(C(=O)O)C(O)C(=O)O',\n",
       " 'COc1cc(C=CC(=O)OC(C(=O)O)C(O)C(=O)O)ccc1O',\n",
       " 'O=C(O)C(CO)c1ccccc1',\n",
       " 'Cc1ccc(O)c([N+](=O)[O-])c1']"
      ]
     },
     "execution_count": 13,
     "metadata": {},
     "output_type": "execute_result"
    }
   ],
   "source": [
    "YMDB_success_met_smile = load_pickle(YMDB_success_met_smile_path)\n",
    "YMDB_success_met_smile_add_no_ec = load_pickle(YMDB_success_met_smile_add_no_ec_path)\n",
    "differenct_metabolites = [x for x in YMDB_success_met_smile_add_no_ec if x not in YMDB_success_met_smile]\n",
    "differenct_metabolites"
   ]
  },
  {
   "cell_type": "markdown",
   "metadata": {},
   "source": [
    "# 筛选包含差异代谢物的反应"
   ]
  },
  {
   "cell_type": "code",
   "execution_count": 14,
   "metadata": {},
   "outputs": [
    {
     "data": {
      "text/html": [
       "<div>\n",
       "<style scoped>\n",
       "    .dataframe tbody tr th:only-of-type {\n",
       "        vertical-align: middle;\n",
       "    }\n",
       "\n",
       "    .dataframe tbody tr th {\n",
       "        vertical-align: top;\n",
       "    }\n",
       "\n",
       "    .dataframe thead th {\n",
       "        text-align: right;\n",
       "    }\n",
       "</style>\n",
       "<table border=\"1\" class=\"dataframe\">\n",
       "  <thead>\n",
       "    <tr style=\"text-align: right;\">\n",
       "      <th></th>\n",
       "      <th>NO</th>\n",
       "      <th>EC number</th>\n",
       "      <th>templateID</th>\n",
       "      <th>rxn_smiles_basic</th>\n",
       "      <th>rxn_smiles_final</th>\n",
       "    </tr>\n",
       "  </thead>\n",
       "  <tbody>\n",
       "    <tr>\n",
       "      <th>0</th>\n",
       "      <td>rxn1</td>\n",
       "      <td>1.3.1.14;1.3.3.2</td>\n",
       "      <td>MNXR97424</td>\n",
       "      <td>O=C([O-])c1cc(=O)[nH]c(=O)[nH]1&gt;&gt;O=C1CC(C(=O)[...</td>\n",
       "      <td>O=C([O-])c1cc(=O)[nH]c(=O)[nH]1.NC(=O)C1=CN([C...</td>\n",
       "    </tr>\n",
       "    <tr>\n",
       "      <th>1</th>\n",
       "      <td>rxn2</td>\n",
       "      <td>4.1.1.96</td>\n",
       "      <td>MNXR153279</td>\n",
       "      <td>O=C=O.[NH3+]CCCCC[NH3+]&gt;&gt;[NH3+]CCCCC([NH3+])C(...</td>\n",
       "      <td>O=C=O.[NH3+]CCCCC[NH3+]&gt;&gt;[NH3+]CCCCC([NH3+])C(...</td>\n",
       "    </tr>\n",
       "    <tr>\n",
       "      <th>2</th>\n",
       "      <td>rxn3</td>\n",
       "      <td>4.1.1.96</td>\n",
       "      <td>MNXR153279</td>\n",
       "      <td>O=C=O.[NH3+]CCCC[NH3+]&gt;&gt;[NH3+]CCCC([NH3+])C(=O...</td>\n",
       "      <td>O=C=O.[NH3+]CCCC[NH3+]&gt;&gt;[NH3+]CCCC([NH3+])C(=O...</td>\n",
       "    </tr>\n",
       "    <tr>\n",
       "      <th>3</th>\n",
       "      <td>rxn4</td>\n",
       "      <td>1.14.13.-;1.14.15.-;1.14.15.3</td>\n",
       "      <td>MNXR110669</td>\n",
       "      <td>CCCCCCCCCCCCCCCC=O.O=O&gt;&gt;CCCCCCCCCCCCCCC(O)C=O.O</td>\n",
       "      <td>CCCCCCCCCCCCCCCC=O.O=O.NC(=O)C1=CN([C@@H]2O[C@...</td>\n",
       "    </tr>\n",
       "    <tr>\n",
       "      <th>4</th>\n",
       "      <td>rxn5</td>\n",
       "      <td>1.14.13.-;1.14.15.-;1.14.15.3</td>\n",
       "      <td>MNXR110669</td>\n",
       "      <td>CCCCCCCCCCCC(=O)[O-].O=O&gt;&gt;CCCCCCCCCC(O)CC(=O)[...</td>\n",
       "      <td>CCCCCCCCCCCC(=O)[O-].O=O.NC(=O)C1=CN([C@@H]2O[...</td>\n",
       "    </tr>\n",
       "  </tbody>\n",
       "</table>\n",
       "</div>"
      ],
      "text/plain": [
       "     NO                      EC number  templateID  \\\n",
       "0  rxn1               1.3.1.14;1.3.3.2   MNXR97424   \n",
       "1  rxn2                       4.1.1.96  MNXR153279   \n",
       "2  rxn3                       4.1.1.96  MNXR153279   \n",
       "3  rxn4  1.14.13.-;1.14.15.-;1.14.15.3  MNXR110669   \n",
       "4  rxn5  1.14.13.-;1.14.15.-;1.14.15.3  MNXR110669   \n",
       "\n",
       "                                    rxn_smiles_basic  \\\n",
       "0  O=C([O-])c1cc(=O)[nH]c(=O)[nH]1>>O=C1CC(C(=O)[...   \n",
       "1  O=C=O.[NH3+]CCCCC[NH3+]>>[NH3+]CCCCC([NH3+])C(...   \n",
       "2  O=C=O.[NH3+]CCCC[NH3+]>>[NH3+]CCCC([NH3+])C(=O...   \n",
       "3    CCCCCCCCCCCCCCCC=O.O=O>>CCCCCCCCCCCCCCC(O)C=O.O   \n",
       "4  CCCCCCCCCCCC(=O)[O-].O=O>>CCCCCCCCCC(O)CC(=O)[...   \n",
       "\n",
       "                                    rxn_smiles_final  \n",
       "0  O=C([O-])c1cc(=O)[nH]c(=O)[nH]1.NC(=O)C1=CN([C...  \n",
       "1  O=C=O.[NH3+]CCCCC[NH3+]>>[NH3+]CCCCC([NH3+])C(...  \n",
       "2  O=C=O.[NH3+]CCCC[NH3+]>>[NH3+]CCCC([NH3+])C(=O...  \n",
       "3  CCCCCCCCCCCCCCCC=O.O=O.NC(=O)C1=CN([C@@H]2O[C@...  \n",
       "4  CCCCCCCCCCCC(=O)[O-].O=O.NC(=O)C1=CN([C@@H]2O[...  "
      ]
     },
     "execution_count": 14,
     "metadata": {},
     "output_type": "execute_result"
    }
   ],
   "source": [
    "differenct_metabolites_inchikey0 = [smiles2inchikey0(x) for x in differenct_metabolites]\n",
    "rxndb_to_model_add_no_ec = pd.read_csv(rxndb_to_model_add_no_ec_path)\n",
    "rxndb_to_model_add_no_ec.head()"
   ]
  },
  {
   "cell_type": "code",
   "execution_count": 15,
   "metadata": {},
   "outputs": [],
   "source": [
    "def find_reaction_containing_metabolite(inchikey0, rxndb_to_model_add_no_ec):\n",
    "    rxndb_to_model_add_no_ec['product_inchikey0'] = rxndb_to_model_add_no_ec['rxn_smiles_basic'].apply(lambda x: [smiles2inchikey0(i) for i in x.split('>>')[1].split('.')])\n",
    "    rxndb_to_model_add_no_ec['target_num'] = rxndb_to_model_add_no_ec['product_inchikey0'].apply(lambda x: sum(i in inchikey0 for i in x))\n",
    "    return rxndb_to_model_add_no_ec[rxndb_to_model_add_no_ec['target_num'] > 0]\n",
    "def find_reaction_containing_metabolite_(inchikey0, rxndb_to_model_add_no_ec):\n",
    "    rxndb_to_model_add_no_ec['reactant_inchikey0'] = rxndb_to_model_add_no_ec['rxn_smiles_basic'].apply(lambda x: [smiles2inchikey0(i) for i in x.split('>>')[0].split('.')])\n",
    "    rxndb_to_model_add_no_ec['target_num'] = rxndb_to_model_add_no_ec['reactant_inchikey0'].apply(lambda x: sum(i in inchikey0 for i in x))\n",
    "    return rxndb_to_model_add_no_ec[rxndb_to_model_add_no_ec['target_num'] > 0]"
   ]
  },
  {
   "cell_type": "code",
   "execution_count": 16,
   "metadata": {},
   "outputs": [
    {
     "data": {
      "text/html": [
       "<div>\n",
       "<style scoped>\n",
       "    .dataframe tbody tr th:only-of-type {\n",
       "        vertical-align: middle;\n",
       "    }\n",
       "\n",
       "    .dataframe tbody tr th {\n",
       "        vertical-align: top;\n",
       "    }\n",
       "\n",
       "    .dataframe thead th {\n",
       "        text-align: right;\n",
       "    }\n",
       "</style>\n",
       "<table border=\"1\" class=\"dataframe\">\n",
       "  <thead>\n",
       "    <tr style=\"text-align: right;\">\n",
       "      <th></th>\n",
       "      <th>NO</th>\n",
       "      <th>EC number</th>\n",
       "      <th>templateID</th>\n",
       "      <th>rxn_smiles_basic</th>\n",
       "      <th>rxn_smiles_final</th>\n",
       "    </tr>\n",
       "  </thead>\n",
       "  <tbody>\n",
       "    <tr>\n",
       "      <th>0</th>\n",
       "      <td>rxn1</td>\n",
       "      <td>1.3.1.14;1.3.3.2</td>\n",
       "      <td>MNXR97424</td>\n",
       "      <td>O=C([O-])c1cc(=O)[nH]c(=O)[nH]1&gt;&gt;O=C1CC(C(=O)[...</td>\n",
       "      <td>O=C([O-])c1cc(=O)[nH]c(=O)[nH]1.NC(=O)C1=CN([C...</td>\n",
       "    </tr>\n",
       "    <tr>\n",
       "      <th>1</th>\n",
       "      <td>rxn2</td>\n",
       "      <td>4.1.1.96</td>\n",
       "      <td>MNXR153279</td>\n",
       "      <td>O=C=O.[NH3+]CCCCC[NH3+]&gt;&gt;[NH3+]CCCCC([NH3+])C(...</td>\n",
       "      <td>O=C=O.[NH3+]CCCCC[NH3+]&gt;&gt;[NH3+]CCCCC([NH3+])C(...</td>\n",
       "    </tr>\n",
       "    <tr>\n",
       "      <th>2</th>\n",
       "      <td>rxn3</td>\n",
       "      <td>4.1.1.96</td>\n",
       "      <td>MNXR153279</td>\n",
       "      <td>O=C=O.[NH3+]CCCC[NH3+]&gt;&gt;[NH3+]CCCC([NH3+])C(=O...</td>\n",
       "      <td>O=C=O.[NH3+]CCCC[NH3+]&gt;&gt;[NH3+]CCCC([NH3+])C(=O...</td>\n",
       "    </tr>\n",
       "    <tr>\n",
       "      <th>3</th>\n",
       "      <td>rxn4</td>\n",
       "      <td>1.14.13.-;1.14.15.-;1.14.15.3</td>\n",
       "      <td>MNXR110669</td>\n",
       "      <td>CCCCCCCCCCCCCCCC=O.O=O&gt;&gt;CCCCCCCCCCCCCCC(O)C=O.O</td>\n",
       "      <td>CCCCCCCCCCCCCCCC=O.O=O.NC(=O)C1=CN([C@@H]2O[C@...</td>\n",
       "    </tr>\n",
       "    <tr>\n",
       "      <th>4</th>\n",
       "      <td>rxn5</td>\n",
       "      <td>1.14.13.-;1.14.15.-;1.14.15.3</td>\n",
       "      <td>MNXR110669</td>\n",
       "      <td>CCCCCCCCCCCC(=O)[O-].O=O&gt;&gt;CCCCCCCCCC(O)CC(=O)[...</td>\n",
       "      <td>CCCCCCCCCCCC(=O)[O-].O=O.NC(=O)C1=CN([C@@H]2O[...</td>\n",
       "    </tr>\n",
       "  </tbody>\n",
       "</table>\n",
       "</div>"
      ],
      "text/plain": [
       "     NO                      EC number  templateID  \\\n",
       "0  rxn1               1.3.1.14;1.3.3.2   MNXR97424   \n",
       "1  rxn2                       4.1.1.96  MNXR153279   \n",
       "2  rxn3                       4.1.1.96  MNXR153279   \n",
       "3  rxn4  1.14.13.-;1.14.15.-;1.14.15.3  MNXR110669   \n",
       "4  rxn5  1.14.13.-;1.14.15.-;1.14.15.3  MNXR110669   \n",
       "\n",
       "                                    rxn_smiles_basic  \\\n",
       "0  O=C([O-])c1cc(=O)[nH]c(=O)[nH]1>>O=C1CC(C(=O)[...   \n",
       "1  O=C=O.[NH3+]CCCCC[NH3+]>>[NH3+]CCCCC([NH3+])C(...   \n",
       "2  O=C=O.[NH3+]CCCC[NH3+]>>[NH3+]CCCC([NH3+])C(=O...   \n",
       "3    CCCCCCCCCCCCCCCC=O.O=O>>CCCCCCCCCCCCCCC(O)C=O.O   \n",
       "4  CCCCCCCCCCCC(=O)[O-].O=O>>CCCCCCCCCC(O)CC(=O)[...   \n",
       "\n",
       "                                    rxn_smiles_final  \n",
       "0  O=C([O-])c1cc(=O)[nH]c(=O)[nH]1.NC(=O)C1=CN([C...  \n",
       "1  O=C=O.[NH3+]CCCCC[NH3+]>>[NH3+]CCCCC([NH3+])C(...  \n",
       "2  O=C=O.[NH3+]CCCC[NH3+]>>[NH3+]CCCC([NH3+])C(=O...  \n",
       "3  CCCCCCCCCCCCCCCC=O.O=O.NC(=O)C1=CN([C@@H]2O[C@...  \n",
       "4  CCCCCCCCCCCC(=O)[O-].O=O.NC(=O)C1=CN([C@@H]2O[...  "
      ]
     },
     "execution_count": 16,
     "metadata": {},
     "output_type": "execute_result"
    }
   ],
   "source": [
    "rxndb_to_model_add_no_ec.head()"
   ]
  },
  {
   "cell_type": "code",
   "execution_count": 17,
   "metadata": {},
   "outputs": [],
   "source": [
    "rxndb_to_model_add_no_ec_with_target = find_reaction_containing_metabolite(differenct_metabolites_inchikey0, rxndb_to_model_add_no_ec)\n",
    "rxndb_to_model_add_no_ec_with_target = rxndb_to_model_add_no_ec_with_target.drop(['product_inchikey0','target_num'],axis=1)"
   ]
  },
  {
   "cell_type": "code",
   "execution_count": 18,
   "metadata": {},
   "outputs": [],
   "source": [
    "rxndb_to_model_add_no_ec_with_target_ = find_reaction_containing_metabolite_(differenct_metabolites_inchikey0, rxndb_to_model_add_no_ec)\n",
    "rxndb_to_model_add_no_ec_with_target_ = rxndb_to_model_add_no_ec_with_target_.drop(['product_inchikey0','reactant_inchikey0','target_num'],axis=1)\n"
   ]
  },
  {
   "cell_type": "code",
   "execution_count": 19,
   "metadata": {},
   "outputs": [
    {
     "data": {
      "text/plain": [
       "(375, 5)"
      ]
     },
     "execution_count": 19,
     "metadata": {},
     "output_type": "execute_result"
    }
   ],
   "source": [
    "rxndb_to_model_add_no_ec_with_target = pd.concat([rxndb_to_model_add_no_ec_with_target, rxndb_to_model_add_no_ec_with_target_])\n",
    "rxndb_to_model_add_no_ec_with_target = rxndb_to_model_add_no_ec_with_target.drop_duplicates(subset=['NO'])\n",
    "rxndb_to_model_add_no_ec_with_target.shape"
   ]
  },
  {
   "cell_type": "code",
   "execution_count": 20,
   "metadata": {},
   "outputs": [],
   "source": [
    "rxndb_to_model_add_no_ec_with_target.to_csv(rxndb_to_model_with_target_path, index=False)\n"
   ]
  },
  {
   "cell_type": "code",
   "execution_count": 21,
   "metadata": {},
   "outputs": [],
   "source": [
    "rxndb_to_model_add_no_ec_with_target = pd.read_csv(rxndb_to_model_with_target_path)"
   ]
  },
  {
   "cell_type": "code",
   "execution_count": 22,
   "metadata": {},
   "outputs": [
    {
     "data": {
      "text/plain": [
       "(40, 5)"
      ]
     },
     "execution_count": 22,
     "metadata": {},
     "output_type": "execute_result"
    }
   ],
   "source": [
    "rxndb_to_model_add_no_ec_with_target = rxndb_to_model_add_no_ec_with_target[rxndb_to_model_add_no_ec_with_target['EC number'].isna()]\n",
    "rxndb_to_model_add_no_ec_with_target.shape"
   ]
  },
  {
   "cell_type": "markdown",
   "metadata": {},
   "source": [
    "# 检查可以link到Yeast8"
   ]
  },
  {
   "cell_type": "code",
   "execution_count": 23,
   "metadata": {},
   "outputs": [],
   "source": [
    "rxndb_met_max_score_pd = pd.DataFrame({'smile': sink_smiles})\n",
    "rxndb_met_max_score_pd['score'] = 1\n",
    "rxndb_met_max_score_pd['sim_smile'] = ''\n",
    "rxndb_met_max_score_pd['inchikey0'] = rxndb_met_max_score_pd['smile'].apply(smiles2inchikey0)\n",
    "rxndb_met_max_score_pd.to_csv(rxndb_met_max_score_file, index=False)"
   ]
  },
  {
   "cell_type": "code",
   "execution_count": 24,
   "metadata": {},
   "outputs": [],
   "source": [
    "rxndb_met_max_score_pd = pd.read_csv(rxndb_met_max_score_file)\n"
   ]
  },
  {
   "cell_type": "code",
   "execution_count": 25,
   "metadata": {},
   "outputs": [
    {
     "name": "stderr",
     "output_type": "stream",
     "text": [
      "100%|██████████| 100/100 [00:00<00:00, 1301.60it/s]\n",
      "100%|██████████| 100/100 [00:00<00:00, 1781.01it/s]\n"
     ]
    },
    {
     "name": "stdout",
     "output_type": "stream",
     "text": [
      "Iteration 1 - Current success count: 29\n",
      "Iteration 1 - Current success_rxndbid count: 40\n",
      "============================================================================\n"
     ]
    },
    {
     "name": "stderr",
     "output_type": "stream",
     "text": [
      "100%|██████████| 100/100 [00:00<00:00, 1460.65it/s]\n",
      "100%|██████████| 100/100 [00:00<00:00, 1889.65it/s]\n"
     ]
    },
    {
     "name": "stdout",
     "output_type": "stream",
     "text": [
      "Iteration 2 - Current success count: 29\n",
      "Iteration 2 - Current success_rxndbid count: 40\n",
      "============================================================================\n",
      "final success 29\n",
      "final success_rxndbid 40\n"
     ]
    }
   ],
   "source": [
    "smiles_success,success_rxndbid,smiles_max_score_tmp_pd = process_reactions_in_parallel_reactant(rxndb_to_model_add_no_ec_with_target, rxndb_met_max_score_pd, num_processes=5, num_iterations=2)"
   ]
  },
  {
   "cell_type": "code",
   "execution_count": 26,
   "metadata": {},
   "outputs": [
    {
     "data": {
      "text/plain": [
       "(40, 5)"
      ]
     },
     "execution_count": 26,
     "metadata": {},
     "output_type": "execute_result"
    }
   ],
   "source": [
    "rxndb_to_model_success = rxndb_to_model_add_no_ec_with_target[rxndb_to_model_add_no_ec_with_target['NO'].isin(success_rxndbid)]\n",
    "rxndb_to_model_success.shape"
   ]
  },
  {
   "cell_type": "code",
   "execution_count": 28,
   "metadata": {},
   "outputs": [],
   "source": [
    "rxndb_to_model_success.to_csv(rxndb_to_model_with_target_success_path, index=False)"
   ]
  }
 ],
 "metadata": {
  "kernelspec": {
   "display_name": "gurob",
   "language": "python",
   "name": "python3"
  },
  "language_info": {
   "codemirror_mode": {
    "name": "ipython",
    "version": 3
   },
   "file_extension": ".py",
   "mimetype": "text/x-python",
   "name": "python",
   "nbconvert_exporter": "python",
   "pygments_lexer": "ipython3",
   "version": "3.7.16"
  }
 },
 "nbformat": 4,
 "nbformat_minor": 2
}
