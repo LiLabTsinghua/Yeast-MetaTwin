{
 "cells": [
  {
   "cell_type": "code",
   "execution_count": 1,
   "metadata": {
    "metadata": {}
   },
   "outputs": [],
   "source": [
    "import pandas as pd\n",
    "import numpy as np\n",
    "\n",
    "import json\n",
    "from rdkit import Chem\n",
    "import pandas as pd\n",
    "import itertools\n",
    "import sys\n",
    "from tqdm import tqdm \n",
    "from itertools import chain, combinations\n",
    "import sys\n",
    "import multiprocessing as mp\n",
    "from functools import partial\n",
    "from collections import Counter\n",
    "tqdm.pandas()\n",
    "sys.path.append('../')\n",
    "from common import *"
   ]
  },
  {
   "cell_type": "markdown",
   "metadata": {},
   "source": [
    "### input and output"
   ]
  },
  {
   "cell_type": "code",
   "execution_count": 2,
   "metadata": {
    "metadata": {}
   },
   "outputs": [],
   "source": [
    "###input\n",
    "ymdb_output_final = '../../../Data/database/ymdb/ymdb_final_result.xlsx'\n",
    "mnxreac_smile_atom_mapping_rules_file_path = '../../../Results/rules/MNXreaction_smiles_atommap_rules_filter_add_no_ec.csv'\n",
    "target_smiles_path = '../../../Results/not_lipid/target_smiles_not_lipid_complex.pickle'\n",
    "target_model_smiles_path = '../../../Results/not_lipid/yeast_met_not_lipid.pickle'\n",
    "yeast8_metabolites_path = '../../../Data/yeast-GEM-final.csv'\n",
    "total_met_inchikey0_file = '../../../Results/analysis/total_met_inchikey0.pickle'\n",
    "uptake_met_path = '../../../Data/database/ymdb/ymdb_uptake.csv'\n",
    "cut_off = 0.3\n",
    "num = 5\n",
    "num_process = 60\n",
    "cut_off_retrosynthesis_path = f'../../../Data_retrosynthesis/not_lipid/top{num}_{cut_off}_add_no_ec_re/'\n",
    "cut_off_path = f'../../../Results/not_lipid/top{num}_{cut_off}_add_no_ec_re/'\n",
    "\n",
    "###output\n",
    "retrosys_smiles_calculate_similarity_file_path_all = f'../../../Data_retrosynthesis/not_lipid/retrosys_smiles_calculate_similarity_{cut_off}_add_no_ec_re.json'\n",
    "retrosys_smiles_calculate_similarity_file_path = cut_off_retrosynthesis_path + f'retrosys_smiles_calculate_similarity_top{num}_{cut_off}.json'\n",
    "retrosys_smiles_calculate_similarity_filter_file_path = cut_off_retrosynthesis_path + f'retrosys_smiles_calculate_similarity_filter_top{num}_{cut_off}.json'\n",
    "rxndb_path = cut_off_retrosynthesis_path + f'RXNdb_top{num}_{cut_off}/'\n",
    "failedrxn_path = cut_off_retrosynthesis_path + f'failedrxn_top{num}_{cut_off}.pickle' \n",
    "rxndb_all_path = cut_off_retrosynthesis_path + f'RXNdb_all_top{num}_{cut_off}.json'\n",
    "# rxndb_all_path = cut_off_path + f'RXNdb_all_top{num}_{cut_off}_all.csv'\n",
    "rxndb_drop_path = cut_off_retrosynthesis_path + f'RXNdb_drop_top{num}_{cut_off}/'\n",
    "rxndb_met_max_score_file = cut_off_path + f'rxndb_met_max_score_pd_top{num}_{cut_off}.csv'\n",
    "# rxndb_met_max_score_uptake_file = cut_off_path + f'rxndb_met_max_score_pd_top{num}_{cut_off}_uptake.csv'\n",
    "rxndb_to_model_path = cut_off_path + f'rxndb_to_model_top{num}_{cut_off}.csv'\n",
    "YMDB_success_met_smile_file = cut_off_path + f'YMDB_success_met_smile_top{num}_{cut_off}.pickle'\n",
    "# YMDB_success_met_smile_uptake_file = cut_off_path + f'YMDB_success_met_smile_uptake_top{num}_{cut_off}.pickle'\n",
    "YMDB_fail_met_smile_file = cut_off_path + f'YMDB_fail_met_smile_top{num}_{cut_off}.pickle'\n",
    "# YMDB_fail_met_smile_uptake_file = cut_off_path + f'YMDB_fail_met_smile_uptake_top{num}_{cut_off}.pickle'\n",
    "# rxndb_GPR_to_model_path = cut_off_path + f'rxndb_GPR_to_model_top{num}_{cut_off}.csv'\n",
    "# rxndb_met_max_score_met_annotation_file = cut_off_path + f'rxndb_met_max_score_met_annotation_top{num}_{cut_off}.csv'"
   ]
  },
  {
   "cell_type": "code",
   "execution_count": 3,
   "metadata": {},
   "outputs": [],
   "source": [
    "#check if the output folder exists\n",
    "if not os.path.exists(cut_off_path):\n",
    "    os.makedirs(cut_off_path)\n",
    "if not os.path.exists(cut_off_retrosynthesis_path):\n",
    "    os.makedirs(cut_off_retrosynthesis_path)\n",
    "if not os.path.exists(rxndb_path):\n",
    "    os.makedirs(rxndb_path)\n",
    "if not os.path.exists(rxndb_drop_path):\n",
    "    os.makedirs(rxndb_drop_path)"
   ]
  },
  {
   "cell_type": "code",
   "execution_count": 4,
   "metadata": {
    "metadata": {}
   },
   "outputs": [
    {
     "name": "stdout",
     "output_type": "stream",
     "text": [
      "total_smiles 3680\n",
      "total_smiles 3679\n",
      "total_smiles 3679\n",
      "total_smiles 2222\n"
     ]
    },
    {
     "name": "stderr",
     "output_type": "stream",
     "text": [
      "29161it [00:02, 9816.75it/s] \n"
     ]
    },
    {
     "name": "stdout",
     "output_type": "stream",
     "text": [
      "11134\n"
     ]
    },
    {
     "name": "stderr",
     "output_type": "stream",
     "text": [
      "29161it [00:03, 7318.49it/s] "
     ]
    },
    {
     "name": "stdout",
     "output_type": "stream",
     "text": [
      "16151\n"
     ]
    },
    {
     "name": "stderr",
     "output_type": "stream",
     "text": [
      "\n"
     ]
    }
   ],
   "source": [
    "yeast_total_smiles = process_yeast_smiles(target_model_smiles_path)\n",
    "# yeast_total_smiles = [neutralize_charge(x) for x in yeast_total_smiles]\n",
    "yeast_total_smiles = [x for x in yeast_total_smiles if Chem.MolFromSmiles(x)]\n",
    "retrorules = pd.read_csv(mnxreac_smile_atom_mapping_rules_file_path)\n",
    "rules_product_smiles_lst = process_retrorules(retrorules,s='product_smiles')\n",
    "rules_product_smarts_lst = process_retrorules(retrorules,s='ProductSMARTs')\n"
   ]
  },
  {
   "cell_type": "code",
   "execution_count": 5,
   "metadata": {},
   "outputs": [],
   "source": [
    "# retrosys_smiles_calculate_similarity_pd = pd.read_json(retrosys_smiles_calculate_similarity_file_path_all)\n",
    "# retrosys_smiles_calculate_similarity_pd = get_most_similar_smiles(retrosys_smiles_calculate_similarity_pd,num)\n",
    "# retrosys_smiles_calculate_similarity_pd.to_json(retrosys_smiles_calculate_similarity_file_path)"
   ]
  },
  {
   "cell_type": "code",
   "execution_count": 6,
   "metadata": {
    "metadata": {}
   },
   "outputs": [
    {
     "name": "stderr",
     "output_type": "stream",
     "text": [
      "100%|██████████| 11134/11134 [15:52<00:00, 11.69it/s]\n"
     ]
    }
   ],
   "source": [
    "retrosys_smiles_calculate_similarity = process_rules_with_multiprocessing(rules_product_smiles_lst, yeast_total_smiles,num_processes=num_process,cutoff=cut_off)\n",
    "\n",
    "retrosys_smiles_calculate_similarity_pd = pd.DataFrame(retrosys_smiles_calculate_similarity)\n",
    "retrosys_smiles_calculate_similarity_pd.to_json(retrosys_smiles_calculate_similarity_file_path_all)\n",
    "\n",
    "# choose top num similar metabolites\n",
    "retrosys_smiles_calculate_similarity_pd = pd.read_json(retrosys_smiles_calculate_similarity_file_path_all)\n",
    "retrosys_smiles_calculate_similarity_pd = get_most_similar_smiles(retrosys_smiles_calculate_similarity_pd,num)\n",
    "retrosys_smiles_calculate_similarity_pd.to_json(retrosys_smiles_calculate_similarity_file_path)"
   ]
  },
  {
   "cell_type": "markdown",
   "metadata": {},
   "source": [
    "### get rxndb"
   ]
  },
  {
   "cell_type": "code",
   "execution_count": 7,
   "metadata": {},
   "outputs": [
    {
     "name": "stderr",
     "output_type": "stream",
     "text": [
      "100%|██████████| 29161/29161 [01:52<00:00, 260.19it/s]\n"
     ]
    }
   ],
   "source": [
    "retrorules = merge_smiles_similarity_rule(retrorules, retrosys_smiles_calculate_similarity_pd)"
   ]
  },
  {
   "cell_type": "code",
   "execution_count": 8,
   "metadata": {},
   "outputs": [
    {
     "name": "stderr",
     "output_type": "stream",
     "text": [
      "100%|██████████| 60/60 [00:13<00:00,  4.41it/s]\n"
     ]
    }
   ],
   "source": [
    "filter_smiles_muti(retrorules,retrosys_smiles_calculate_similarity_filter_file_path,num_process=num_process)\n",
    "with open(retrosys_smiles_calculate_similarity_filter_file_path, 'r') as json_file:\n",
    "    retrorules = json.load(json_file) \n",
    "retrorules = pd.DataFrame(retrorules)"
   ]
  },
  {
   "cell_type": "code",
   "execution_count": 9,
   "metadata": {},
   "outputs": [
    {
     "name": "stderr",
     "output_type": "stream",
     "text": [
      "100%|██████████| 29161/29161 [09:46<00:00, 49.75it/s]  \n"
     ]
    }
   ],
   "source": [
    "process_retrorules_and_save(rxndb_path,failedrxn_path,retrorules,heterologous_met_smiles=None,num_process=num_process)"
   ]
  },
  {
   "cell_type": "markdown",
   "metadata": {},
   "source": [
    "### retrosynthesis result screen"
   ]
  },
  {
   "cell_type": "code",
   "execution_count": 10,
   "metadata": {},
   "outputs": [
    {
     "name": "stderr",
     "output_type": "stream",
     "text": [
      "100%|██████████| 29161/29161 [06:53<00:00, 70.51it/s] \n",
      "100%|██████████| 29161/29161 [00:07<00:00, 3948.34it/s]\n",
      "100%|██████████| 29161/29161 [00:06<00:00, 4475.65it/s]\n"
     ]
    },
    {
     "name": "stdout",
     "output_type": "stream",
     "text": [
      "rxndb: 11061301\n",
      "rxndb_drop: 123661\n"
     ]
    }
   ],
   "source": [
    "#drop metabolites that are not in the ymdb or yeast8\n",
    "drop_rxndb(rxndb_path, rxndb_drop_path, total_met_inchikey0_file, num_processes=num_process)\n",
    "#statistic the number of reactions \n",
    "statistic_reaction_num(rxndb_path,rxndb_drop_path)"
   ]
  },
  {
   "cell_type": "code",
   "execution_count": 11,
   "metadata": {},
   "outputs": [
    {
     "name": "stdout",
     "output_type": "stream",
     "text": [
      "(123661, 9)\n"
     ]
    }
   ],
   "source": [
    "#merge the rxndb\n",
    "rxndb = merge_rxndb(rxndb_drop_path,rxndb_all_path)\n",
    "rxndb_df = pd.DataFrame(rxndb).transpose()\n",
    "print(rxndb_df.shape)\n",
    "rxndb_df = rxndb_df.reset_index().rename(columns={'index':'NO'})\n"
   ]
  },
  {
   "cell_type": "code",
   "execution_count": 12,
   "metadata": {},
   "outputs": [
    {
     "name": "stdout",
     "output_type": "stream",
     "text": [
      "(123661, 9)\n"
     ]
    }
   ],
   "source": [
    "with open(rxndb_all_path,'r') as f:\n",
    "    rxndb = json.load(f)\n",
    "rxndb_df = pd.DataFrame(rxndb).transpose()\n",
    "print(rxndb_df.shape)\n",
    "rxndb_df = rxndb_df.reset_index().rename(columns={'index':'NO'})\n"
   ]
  },
  {
   "cell_type": "code",
   "execution_count": 13,
   "metadata": {},
   "outputs": [
    {
     "name": "stderr",
     "output_type": "stream",
     "text": [
      "100%|██████████| 100/100 [00:00<00:00, 154.03it/s]\n"
     ]
    },
    {
     "name": "stdout",
     "output_type": "stream",
     "text": [
      "number of metabolites in RXNDB: 5114\n"
     ]
    }
   ],
   "source": [
    "#get all the metabolites in the rxndb\n",
    "rxndb_all_smiles = parallel_process_rxn_smiles(rxndb_df, n_splits=100,num_process=num_process)"
   ]
  },
  {
   "cell_type": "code",
   "execution_count": 14,
   "metadata": {},
   "outputs": [],
   "source": [
    "\n",
    "#get all the smiles in the yeast8\n",
    "yeast8_total_smiles = get_GEM_all_smiles(yeast8_metabolites_path)"
   ]
  },
  {
   "cell_type": "code",
   "execution_count": 15,
   "metadata": {},
   "outputs": [
    {
     "name": "stderr",
     "output_type": "stream",
     "text": [
      "100%|██████████| 5114/5114 [04:53<00:00, 17.44it/s]\n"
     ]
    }
   ],
   "source": [
    "#calculate the similarity of the metabolites\n",
    "\n",
    "smile_max_score_pd = calculate_save_smiles_max_score(rxndb_all_smiles, yeast8_total_smiles,rxndb_met_max_score_file,num_processes=num_process)"
   ]
  },
  {
   "cell_type": "code",
   "execution_count": 16,
   "metadata": {},
   "outputs": [
    {
     "name": "stderr",
     "output_type": "stream",
     "text": [
      "100%|██████████| 100/100 [00:04<00:00, 20.09it/s]\n",
      "100%|██████████| 100/100 [00:04<00:00, 21.71it/s]\n"
     ]
    },
    {
     "name": "stdout",
     "output_type": "stream",
     "text": [
      "Iteration 1 - Current success count: 4367\n",
      "Iteration 1 - Current success_rxndbid count: 93576\n",
      "============================================================================\n"
     ]
    },
    {
     "name": "stderr",
     "output_type": "stream",
     "text": [
      "100%|██████████| 100/100 [00:05<00:00, 18.09it/s]\n",
      "100%|██████████| 100/100 [00:05<00:00, 19.25it/s]\n"
     ]
    },
    {
     "name": "stdout",
     "output_type": "stream",
     "text": [
      "Iteration 2 - Current success count: 4628\n",
      "Iteration 2 - Current success_rxndbid count: 98588\n",
      "============================================================================\n"
     ]
    },
    {
     "name": "stderr",
     "output_type": "stream",
     "text": [
      "100%|██████████| 100/100 [00:05<00:00, 19.39it/s]\n",
      "100%|██████████| 100/100 [00:05<00:00, 19.00it/s]\n"
     ]
    },
    {
     "name": "stdout",
     "output_type": "stream",
     "text": [
      "Iteration 3 - Current success count: 4656\n",
      "Iteration 3 - Current success_rxndbid count: 99996\n",
      "============================================================================\n"
     ]
    },
    {
     "name": "stderr",
     "output_type": "stream",
     "text": [
      "100%|██████████| 100/100 [00:05<00:00, 17.90it/s]\n",
      "100%|██████████| 100/100 [00:04<00:00, 20.01it/s]\n"
     ]
    },
    {
     "name": "stdout",
     "output_type": "stream",
     "text": [
      "Iteration 4 - Current success count: 4675\n",
      "Iteration 4 - Current success_rxndbid count: 100791\n",
      "============================================================================\n"
     ]
    },
    {
     "name": "stderr",
     "output_type": "stream",
     "text": [
      "100%|██████████| 100/100 [00:05<00:00, 18.36it/s]\n",
      "100%|██████████| 100/100 [00:05<00:00, 19.61it/s]\n"
     ]
    },
    {
     "name": "stdout",
     "output_type": "stream",
     "text": [
      "Iteration 5 - Current success count: 4683\n",
      "Iteration 5 - Current success_rxndbid count: 100995\n",
      "============================================================================\n"
     ]
    },
    {
     "name": "stderr",
     "output_type": "stream",
     "text": [
      "100%|██████████| 100/100 [00:05<00:00, 17.51it/s]\n",
      "100%|██████████| 100/100 [00:05<00:00, 18.54it/s]\n"
     ]
    },
    {
     "name": "stdout",
     "output_type": "stream",
     "text": [
      "Iteration 6 - Current success count: 4689\n",
      "Iteration 6 - Current success_rxndbid count: 101106\n",
      "============================================================================\n"
     ]
    },
    {
     "name": "stderr",
     "output_type": "stream",
     "text": [
      "100%|██████████| 100/100 [00:05<00:00, 18.41it/s]\n",
      "100%|██████████| 100/100 [00:05<00:00, 19.02it/s]\n"
     ]
    },
    {
     "name": "stdout",
     "output_type": "stream",
     "text": [
      "Iteration 7 - Current success count: 4689\n",
      "Iteration 7 - Current success_rxndbid count: 101106\n",
      "============================================================================\n",
      "final success 4689\n",
      "final success_rxndbid 101106\n"
     ]
    }
   ],
   "source": [
    "smiles_success,success_rxndbid,smiles_max_score_tmp_pd = process_reactions_in_parallel_reactant(rxndb_df, smile_max_score_pd, num_processes=num_process, num_iterations=7)\n",
    "smiles_max_score_tmp_pd.to_csv(rxndb_met_max_score_file,index=None)"
   ]
  },
  {
   "cell_type": "code",
   "execution_count": 17,
   "metadata": {},
   "outputs": [
    {
     "name": "stdout",
     "output_type": "stream",
     "text": [
      "success number: 221\n",
      "fail number: 354\n"
     ]
    }
   ],
   "source": [
    "save_success_fail_target_smiles(target_smiles_path,smiles_success,YMDB_success_met_smile_file,YMDB_fail_met_smile_file)"
   ]
  },
  {
   "cell_type": "code",
   "execution_count": 18,
   "metadata": {},
   "outputs": [
    {
     "name": "stdout",
     "output_type": "stream",
     "text": [
      "(101106, 10)\n",
      "(101106, 10)\n",
      "(101106, 5)\n",
      "(101106, 5)\n"
     ]
    }
   ],
   "source": [
    "save_rxndb_to_model(rxndb_df,success_rxndbid,rxndb_to_model_path)"
   ]
  }
 ],
 "metadata": {
  "kernelspec": {
   "display_name": "kcat",
   "language": "python",
   "name": "python3"
  },
  "language_info": {
   "codemirror_mode": {
    "name": "ipython",
    "version": 3
   },
   "file_extension": ".py",
   "mimetype": "text/x-python",
   "name": "python",
   "nbconvert_exporter": "python",
   "pygments_lexer": "ipython3",
   "version": "3.7.16"
  },
  "orig_nbformat": 4
 },
 "nbformat": 4,
 "nbformat_minor": 2
}
