{
 "cells": [
  {
   "cell_type": "code",
   "execution_count": 1,
   "metadata": {},
   "outputs": [],
   "source": [
    "import pandas as pd\n",
    "import numpy as np\n",
    "\n",
    "import json\n",
    "from rdkit import Chem\n",
    "import pandas as pd\n",
    "import itertools\n",
    "import sys\n",
    "from tqdm import tqdm \n",
    "from itertools import chain, combinations\n",
    "import sys\n",
    "import multiprocessing as mp\n",
    "from functools import partial\n",
    "from collections import Counter\n",
    "tqdm.pandas()\n",
    "sys.path.append('../')\n",
    "from common import *"
   ]
  },
  {
   "cell_type": "code",
   "execution_count": 2,
   "metadata": {},
   "outputs": [],
   "source": [
    "path = '../../../Results/not_lipid/top50_0.3_add_no_ec_re/'\n",
    "num = 50\n",
    "cut_off = 0.3\n",
    "not_lipid_rxndb_inteme_drop_duplicate_path = path + f'RXNdb_all_top40_0.3_all.csv'\n",
    "cut_off_path = f'../../../Results/not_lipid/top{num}_{cut_off}_add_no_ec_re/'\n",
    "ymdb_output_final = '../../../Data/ymdb/ymdb_final_result.xlsx'\n",
    "mnxmeta_smile_inchikey_dict_path = '../../../Data/database/mnxmeta_smile_inchikey_dict.json'\n",
    "\n",
    "# not_lipid_rxndb_all_path = '../Data/output/not_lipid/retrosynthesis/RXNdb_all_0.3.json'\n",
    "# not_lipid_rxndb_to_model_path = '../Data/output/not_lipid/retrosynthesis/rxndb_to_model.csv'\n",
    "# mnxmeta_smile_inchikey_dict_path = '../Data/output/database/mnxmeta_smile_inchikey_dict.json'\n",
    "YMDB_success_met_smile_uptake_file = cut_off_path + f'YMDB_success_met_smile_uptake_top{num}_{cut_off}.pickle'\n",
    "not_lipid_YMDB_fail_met_smile_uptake_file = cut_off_path + f'YMDB_fail_met_smile_uptake_top{num}_{cut_off}.pickle'\n",
    "\n",
    "not_lipid_rxndb_met_max_score_file = cut_off_path + f'rxndb_met_max_score_pd_top{num}_{cut_off}_uptake.csv'\n",
    "uptake_met_path = '../../../Data/ymdb/ymdb_uptake.csv'\n",
    "not_lipid_rxndb_inteme_only_one_new_target_path = path + 'RXNdb_inteme_only_one_new_target_top50.csv'\n",
    "total_met_inchikey0_file = '../../../Data/total_met_inchikey0.pickle'\n",
    "yeast_model_path = '../../../Data/model/yeast-GEM-final.csv'\n",
    "sink0_path = cut_off_path + 'sink0_new_met_only_new_one_top50.pickle'\n",
    "not_lipid_YMDB_fail_met_smile_final_file = cut_off_path + f'YMDB_fail_met_smile_final_top{num}_{cut_off}.pickle'\n",
    "not_lipid_fail_smiles2metnetx_path = cut_off_path + f'fail_smiles2metnetx_top{num}_{cut_off}.pickle'\n",
    "not_lipid_YMDB_fail_met_smile_final_expand_file = cut_off_path + f'YMDB_fail_met_smile_final_expand_top{num}_{cut_off}.pickle'\n",
    "not_lipid_YMDB_fail_met_smile_final_expand_txt_file = cut_off_path + f'YMDB_fail_met_smile_final_expand_top{num}_{cut_off}.txt'\n",
    "not_lipid_YMDB_fail_met_smile_final_expand_txt_file_ = cut_off_path + f'YMDB_fail_met_smile_final_expand_top{num}_{cut_off}_.txt'\n",
    "sink_inchi_path = cut_off_path + 'sink_inchi.csv'\n",
    "sink_smiles_path = cut_off_path + 'sink_smiles.csv'"
   ]
  },
  {
   "cell_type": "code",
   "execution_count": 3,
   "metadata": {},
   "outputs": [],
   "source": [
    "# with open(met_path, 'r') as f:\n",
    "#     met_inchikey = json.load(f)\n",
    "# print('met_inchikey', len(met_inchikey))"
   ]
  },
  {
   "cell_type": "code",
   "execution_count": 22,
   "metadata": {},
   "outputs": [
    {
     "data": {
      "text/plain": [
       "2011"
      ]
     },
     "execution_count": 22,
     "metadata": {},
     "output_type": "execute_result"
    }
   ],
   "source": [
    "sink0 = load_pickle(sink0_path)\n",
    "len(sink0)"
   ]
  },
  {
   "cell_type": "code",
   "execution_count": 3,
   "metadata": {},
   "outputs": [],
   "source": [
    "def myfunc_new(index_row,sink0,total_inchikey0):\n",
    "    row = index_row[1]\n",
    "    # reactantsmile = row['rxn_smiles_basic'].split('>>')[0].split('.')\n",
    "    # productsmile = row['rxn_smiles_basic'].split('>>')[1].split('.')\n",
    "    reactant_smile = row['reactant_inchikey0']\n",
    "    # productsmile = row['product_inchikey0']\n",
    "    productsmile = row['product_inchikey0'].split('.')\n",
    "\n",
    "    reactant_smile = ast.literal_eval(reactant_smile)\n",
    "    # productsmile = ast.literal_eval(productsmile)\n",
    "\n",
    "    productsmile_in_total = []\n",
    "    \n",
    "    add_inchikey0 = []\n",
    "    for i in productsmile:\n",
    "            #met_mol = Chem.MolFromSmiles(i)\n",
    "            #can_smiles = Chem.MolToSmiles(met_mol,True)\n",
    "        try:  \n",
    "          \n",
    "            if i in sink0:\n",
    "                productsmile_in_total.append(i)\n",
    "                #if i in NewdbSmiles_3:\n",
    "        except:\n",
    "            continue\n",
    "    #value['gem_pool_met'] = reactantsmile_in_total\n",
    "    if len(productsmile_in_total) == len(productsmile):\n",
    "        for i in reactant_smile:\n",
    "            if i in total_inchikey0:\n",
    "                \n",
    "              #if i not in sink_smiles:\n",
    "            #if inchikey0 not in sink0:\n",
    "                add_inchikey0.append(i)\n",
    "    return add_inchikey0\n",
    "def myfunc_reverse_new(index_row,sink0,total_inchikey0):\n",
    "    row = index_row[1]\n",
    "    # reactantsmile = row['rxn_smiles_basic'].split('>>')[0].split('.')\n",
    "    # productsmile = row['rxn_smiles_basic'].split('>>')[1].split('.')\n",
    "    # reactant_smile = row['reactant_smile'].split('.')\n",
    "    # productsmile = row['productsmile'].split('.')\n",
    "    reactant_smile = row['reactant_inchikey0']\n",
    "    productsmile = row['product_inchikey0'].split('.')\n",
    "\n",
    "    # productsmile = row['product_inchikey0']\n",
    "    reactant_smile = ast.literal_eval(reactant_smile)\n",
    "    # productsmile = ast.literal_eval(productsmile)\n",
    "\n",
    "\n",
    "    reactant_smile_in_total = []\n",
    "    \n",
    "    add_inchikey0 = []\n",
    "    for i in reactant_smile:\n",
    "            #met_mol = Chem.MolFromSmiles(i)\n",
    "            #can_smiles = Chem.MolToSmiles(met_mol,True)\n",
    "        try:   #    \n",
    "            if i not in total_inchikey0:\n",
    "                reactant_smile_in_total.append(i)\n",
    "            else:\n",
    "                if i in sink0:\n",
    "                # if smiles2inchikey0(i) in sink0:\n",
    "                    reactant_smile_in_total.append(i)\n",
    "                #if i in NewdbSmiles_3:\n",
    "        except:\n",
    "            continue\n",
    "    #value['gem_pool_met'] = reactantsmile_in_total\n",
    "    if len(reactant_smile_in_total) == len(reactant_smile):\n",
    "        for i in productsmile:\n",
    "                \n",
    "              #if i not in sink_smiles:\n",
    "            # inchikey0 = smiles2inchikey0(i)\n",
    "            #if inchikey0 not in sink0:\n",
    "            add_inchikey0.append(i)\n",
    "    return add_inchikey0\n",
    "    \n",
    "\n",
    "             \n",
    "        "
   ]
  },
  {
   "cell_type": "code",
   "execution_count": 4,
   "metadata": {},
   "outputs": [
    {
     "name": "stdout",
     "output_type": "stream",
     "text": [
      "1669\n"
     ]
    }
   ],
   "source": [
    "yeast8_total_smiles = get_all_smiles_in_model(yeast_model_path,ymdb_output_final)\n",
    "\n",
    "success_smiles = load_pickle(YMDB_success_met_smile_uptake_file)\n",
    "uptake_met = pd.read_csv(uptake_met_path)   \n",
    "uptake_smiles = uptake_met['SMILES'].to_list()\n",
    "sink_smiles = yeast8_total_smiles + success_smiles + uptake_smiles\n",
    "sink0 = [smiles2inchikey0(i) for i in sink_smiles]\n",
    "not_lipid_rxndb_met_max_score = pd.read_csv(not_lipid_rxndb_met_max_score_file)\n",
    "not_lipid_rxndb_met_max_score = not_lipid_rxndb_met_max_score[not_lipid_rxndb_met_max_score['score']==1]\n",
    "not_lipid_rxndb_met_max_smiles = not_lipid_rxndb_met_max_score['smile'].tolist()\n",
    "not_lipid_rxndb_met_max_inchikey0 = [smiles2inchikey0(i) for i in not_lipid_rxndb_met_max_smiles]\n",
    "sink0 = sink0 + not_lipid_rxndb_met_max_inchikey0\n",
    "sink0 = list(set(sink0))\n",
    "print(len(sink0))\n"
   ]
  },
  {
   "cell_type": "code",
   "execution_count": 5,
   "metadata": {},
   "outputs": [
    {
     "name": "stdout",
     "output_type": "stream",
     "text": [
      "(106740, 14)\n"
     ]
    }
   ],
   "source": [
    "not_lipid_rxndb_inteme_only_one_new = pd.read_csv(not_lipid_rxndb_inteme_only_one_new_target_path)\n",
    "print(not_lipid_rxndb_inteme_only_one_new.shape)\n",
    "# sink0 = load_pickle(sink0_path)"
   ]
  },
  {
   "cell_type": "code",
   "execution_count": 6,
   "metadata": {},
   "outputs": [
    {
     "data": {
      "text/html": [
       "<div>\n",
       "<style scoped>\n",
       "    .dataframe tbody tr th:only-of-type {\n",
       "        vertical-align: middle;\n",
       "    }\n",
       "\n",
       "    .dataframe tbody tr th {\n",
       "        vertical-align: top;\n",
       "    }\n",
       "\n",
       "    .dataframe thead th {\n",
       "        text-align: right;\n",
       "    }\n",
       "</style>\n",
       "<table border=\"1\" class=\"dataframe\">\n",
       "  <thead>\n",
       "    <tr style=\"text-align: right;\">\n",
       "      <th></th>\n",
       "      <th>Unnamed: 0.1</th>\n",
       "      <th>Unnamed: 0</th>\n",
       "      <th>EC number</th>\n",
       "      <th>rule</th>\n",
       "      <th>templateID</th>\n",
       "      <th>templateSubstrate</th>\n",
       "      <th>rxn_smiles_basic</th>\n",
       "      <th>rxn_smiles_final</th>\n",
       "      <th>reactant_smile</th>\n",
       "      <th>productsmile</th>\n",
       "      <th>similarity</th>\n",
       "      <th>reactant_inchikey0</th>\n",
       "      <th>product_inchikey0</th>\n",
       "      <th>new_num</th>\n",
       "    </tr>\n",
       "  </thead>\n",
       "  <tbody>\n",
       "    <tr>\n",
       "      <th>0</th>\n",
       "      <td>0</td>\n",
       "      <td>0</td>\n",
       "      <td>2.4.1.170</td>\n",
       "      <td>[#8;a:1]:[c:2]1:[c:3]:[c:4](-[O-;H0;D1:5]):[c:...</td>\n",
       "      <td>MNXR152429</td>\n",
       "      <td>['O=c1ccn([C@@H]2O[C@H](COP(=O)([O-])OP(=O)([O...</td>\n",
       "      <td>COc1cc(-c2oc3cc(OC4OCC([NH3+])C(O)C4O)cc([O-])...</td>\n",
       "      <td>COc1cc(-c2oc3cc(OC4OCC([NH3+])C(O)C4O)cc([O-])...</td>\n",
       "      <td>COc1cc(-c2oc3cc(OC4OCC([NH3+])C(O)C4O)cc([O-])...</td>\n",
       "      <td>[NH3+]C1COC(OP(=O)([O-])OP(=O)([O-])OCC2OC(n3c...</td>\n",
       "      <td>[0.9571428571, 0.9354838710000001]</td>\n",
       "      <td>['CVOGVDQKJUPDIG', 'XCCTYIAWTASOJW']</td>\n",
       "      <td>GWBAKYBSWHQNMQ.IZQSVPBOUDKVDZ</td>\n",
       "      <td>1</td>\n",
       "    </tr>\n",
       "    <tr>\n",
       "      <th>1</th>\n",
       "      <td>1</td>\n",
       "      <td>1</td>\n",
       "      <td>2.4.1.170</td>\n",
       "      <td>[#8;a:1]:[c:2]1:[c:3]:[c:4](-[O-;H0;D1:5]):[c:...</td>\n",
       "      <td>MNXR152429</td>\n",
       "      <td>['O=c1ccn([C@@H]2O[C@H](COP(=O)([O-])OP(=O)([O...</td>\n",
       "      <td>COc1cc(-c2[o+]c3cc([O-])cc(OC4OCC([NH3+])C(O)C...</td>\n",
       "      <td>COc1cc(-c2[o+]c3cc([O-])cc(OC4OCC([NH3+])C(O)C...</td>\n",
       "      <td>COc1cc(-c2[o+]c3cc([O-])cc(OC4OCC([NH3+])C(O)C...</td>\n",
       "      <td>[NH3+]C1COC(OP(=O)([O-])OP(=O)([O-])OCC2OC(n3c...</td>\n",
       "      <td>[0.9571428571, 0.9032258065000001]</td>\n",
       "      <td>['WOZOLHAMDXZBPE', 'XCCTYIAWTASOJW']</td>\n",
       "      <td>GWBAKYBSWHQNMQ.XFDQJKDGGOEYPI</td>\n",
       "      <td>1</td>\n",
       "    </tr>\n",
       "    <tr>\n",
       "      <th>2</th>\n",
       "      <td>2</td>\n",
       "      <td>2</td>\n",
       "      <td>2.4.1.170</td>\n",
       "      <td>[#8;a:1]:[c:2]1:[c:3]:[c:4](-[O-;H0;D1:5]):[c:...</td>\n",
       "      <td>MNXR152429</td>\n",
       "      <td>['O=c1ccn([C@@H]2O[C@H](COP(=O)([O-])OP(=O)([O...</td>\n",
       "      <td>COc1cc(-c2[o+]c3cc([O-])cc(OC4OCC([NH3+])C(O)C...</td>\n",
       "      <td>COc1cc(-c2[o+]c3cc([O-])cc(OC4OCC([NH3+])C(O)C...</td>\n",
       "      <td>COc1cc(-c2[o+]c3cc([O-])cc(OC4OCC([NH3+])C(O)C...</td>\n",
       "      <td>[NH3+]C1COC(OP(=O)([O-])OP(=O)([O-])OCC2OC(n3c...</td>\n",
       "      <td>[0.9571428571, 0.875]</td>\n",
       "      <td>['LDUQPOYRHHKVOL', 'XCCTYIAWTASOJW']</td>\n",
       "      <td>GWBAKYBSWHQNMQ.KZMACGJDUUWFCH</td>\n",
       "      <td>1</td>\n",
       "    </tr>\n",
       "    <tr>\n",
       "      <th>3</th>\n",
       "      <td>3</td>\n",
       "      <td>3</td>\n",
       "      <td>2.4.1.170</td>\n",
       "      <td>[#8;a:1]:[c:2]1:[c:3]:[c:4](-[O-;H0;D1:5]):[c:...</td>\n",
       "      <td>MNXR152429</td>\n",
       "      <td>['O=c1ccn([C@@H]2O[C@H](COP(=O)([O-])OP(=O)([O...</td>\n",
       "      <td>O=c1ccn(C2OC(COP(=O)([O-])OP(=O)([O-])[O-])C(O...</td>\n",
       "      <td>O=c1ccn(C2OC(COP(=O)([O-])OP(=O)([O-])[O-])C(O...</td>\n",
       "      <td>O=c1ccn(C2OC(COP(=O)([O-])OP(=O)([O-])[O-])C(O...</td>\n",
       "      <td>[NH3+]C1COC(OP(=O)([O-])OP(=O)([O-])OCC2OC(n3c...</td>\n",
       "      <td>[0.9571428571, 0.8125]</td>\n",
       "      <td>['BKDLQQDXPKEIAZ', 'XCCTYIAWTASOJW']</td>\n",
       "      <td>GWBAKYBSWHQNMQ.REFJWTPEDVJJIY</td>\n",
       "      <td>1</td>\n",
       "    </tr>\n",
       "    <tr>\n",
       "      <th>4</th>\n",
       "      <td>4</td>\n",
       "      <td>4</td>\n",
       "      <td>2.4.1.170</td>\n",
       "      <td>[#8;a:1]:[c:2]1:[c:3]:[c:4](-[O-;H0;D1:5]):[c:...</td>\n",
       "      <td>MNXR152429</td>\n",
       "      <td>['O=c1ccn([C@@H]2O[C@H](COP(=O)([O-])OP(=O)([O...</td>\n",
       "      <td>O=c1ccn(C2OC(COP(=O)([O-])OP(=O)([O-])[O-])C(O...</td>\n",
       "      <td>O=c1ccn(C2OC(COP(=O)([O-])OP(=O)([O-])[O-])C(O...</td>\n",
       "      <td>O=c1ccn(C2OC(COP(=O)([O-])OP(=O)([O-])[O-])C(O...</td>\n",
       "      <td>[NH3+]C1COC(OP(=O)([O-])OP(=O)([O-])OCC2OC(n3c...</td>\n",
       "      <td>[0.9571428571, 0.7812500000000001]</td>\n",
       "      <td>['JGLBPBXASDDKBL', 'XCCTYIAWTASOJW']</td>\n",
       "      <td>GWBAKYBSWHQNMQ.VEVZSMAEJFVWIL</td>\n",
       "      <td>1</td>\n",
       "    </tr>\n",
       "  </tbody>\n",
       "</table>\n",
       "</div>"
      ],
      "text/plain": [
       "   Unnamed: 0.1  Unnamed: 0  EC number  \\\n",
       "0             0           0  2.4.1.170   \n",
       "1             1           1  2.4.1.170   \n",
       "2             2           2  2.4.1.170   \n",
       "3             3           3  2.4.1.170   \n",
       "4             4           4  2.4.1.170   \n",
       "\n",
       "                                                rule  templateID  \\\n",
       "0  [#8;a:1]:[c:2]1:[c:3]:[c:4](-[O-;H0;D1:5]):[c:...  MNXR152429   \n",
       "1  [#8;a:1]:[c:2]1:[c:3]:[c:4](-[O-;H0;D1:5]):[c:...  MNXR152429   \n",
       "2  [#8;a:1]:[c:2]1:[c:3]:[c:4](-[O-;H0;D1:5]):[c:...  MNXR152429   \n",
       "3  [#8;a:1]:[c:2]1:[c:3]:[c:4](-[O-;H0;D1:5]):[c:...  MNXR152429   \n",
       "4  [#8;a:1]:[c:2]1:[c:3]:[c:4](-[O-;H0;D1:5]):[c:...  MNXR152429   \n",
       "\n",
       "                                   templateSubstrate  \\\n",
       "0  ['O=c1ccn([C@@H]2O[C@H](COP(=O)([O-])OP(=O)([O...   \n",
       "1  ['O=c1ccn([C@@H]2O[C@H](COP(=O)([O-])OP(=O)([O...   \n",
       "2  ['O=c1ccn([C@@H]2O[C@H](COP(=O)([O-])OP(=O)([O...   \n",
       "3  ['O=c1ccn([C@@H]2O[C@H](COP(=O)([O-])OP(=O)([O...   \n",
       "4  ['O=c1ccn([C@@H]2O[C@H](COP(=O)([O-])OP(=O)([O...   \n",
       "\n",
       "                                    rxn_smiles_basic  \\\n",
       "0  COc1cc(-c2oc3cc(OC4OCC([NH3+])C(O)C4O)cc([O-])...   \n",
       "1  COc1cc(-c2[o+]c3cc([O-])cc(OC4OCC([NH3+])C(O)C...   \n",
       "2  COc1cc(-c2[o+]c3cc([O-])cc(OC4OCC([NH3+])C(O)C...   \n",
       "3  O=c1ccn(C2OC(COP(=O)([O-])OP(=O)([O-])[O-])C(O...   \n",
       "4  O=c1ccn(C2OC(COP(=O)([O-])OP(=O)([O-])[O-])C(O...   \n",
       "\n",
       "                                    rxn_smiles_final  \\\n",
       "0  COc1cc(-c2oc3cc(OC4OCC([NH3+])C(O)C4O)cc([O-])...   \n",
       "1  COc1cc(-c2[o+]c3cc([O-])cc(OC4OCC([NH3+])C(O)C...   \n",
       "2  COc1cc(-c2[o+]c3cc([O-])cc(OC4OCC([NH3+])C(O)C...   \n",
       "3  O=c1ccn(C2OC(COP(=O)([O-])OP(=O)([O-])[O-])C(O...   \n",
       "4  O=c1ccn(C2OC(COP(=O)([O-])OP(=O)([O-])[O-])C(O...   \n",
       "\n",
       "                                      reactant_smile  \\\n",
       "0  COc1cc(-c2oc3cc(OC4OCC([NH3+])C(O)C4O)cc([O-])...   \n",
       "1  COc1cc(-c2[o+]c3cc([O-])cc(OC4OCC([NH3+])C(O)C...   \n",
       "2  COc1cc(-c2[o+]c3cc([O-])cc(OC4OCC([NH3+])C(O)C...   \n",
       "3  O=c1ccn(C2OC(COP(=O)([O-])OP(=O)([O-])[O-])C(O...   \n",
       "4  O=c1ccn(C2OC(COP(=O)([O-])OP(=O)([O-])[O-])C(O...   \n",
       "\n",
       "                                        productsmile  \\\n",
       "0  [NH3+]C1COC(OP(=O)([O-])OP(=O)([O-])OCC2OC(n3c...   \n",
       "1  [NH3+]C1COC(OP(=O)([O-])OP(=O)([O-])OCC2OC(n3c...   \n",
       "2  [NH3+]C1COC(OP(=O)([O-])OP(=O)([O-])OCC2OC(n3c...   \n",
       "3  [NH3+]C1COC(OP(=O)([O-])OP(=O)([O-])OCC2OC(n3c...   \n",
       "4  [NH3+]C1COC(OP(=O)([O-])OP(=O)([O-])OCC2OC(n3c...   \n",
       "\n",
       "                           similarity                    reactant_inchikey0  \\\n",
       "0  [0.9571428571, 0.9354838710000001]  ['CVOGVDQKJUPDIG', 'XCCTYIAWTASOJW']   \n",
       "1  [0.9571428571, 0.9032258065000001]  ['WOZOLHAMDXZBPE', 'XCCTYIAWTASOJW']   \n",
       "2               [0.9571428571, 0.875]  ['LDUQPOYRHHKVOL', 'XCCTYIAWTASOJW']   \n",
       "3              [0.9571428571, 0.8125]  ['BKDLQQDXPKEIAZ', 'XCCTYIAWTASOJW']   \n",
       "4  [0.9571428571, 0.7812500000000001]  ['JGLBPBXASDDKBL', 'XCCTYIAWTASOJW']   \n",
       "\n",
       "               product_inchikey0  new_num  \n",
       "0  GWBAKYBSWHQNMQ.IZQSVPBOUDKVDZ        1  \n",
       "1  GWBAKYBSWHQNMQ.XFDQJKDGGOEYPI        1  \n",
       "2  GWBAKYBSWHQNMQ.KZMACGJDUUWFCH        1  \n",
       "3  GWBAKYBSWHQNMQ.REFJWTPEDVJJIY        1  \n",
       "4  GWBAKYBSWHQNMQ.VEVZSMAEJFVWIL        1  "
      ]
     },
     "execution_count": 6,
     "metadata": {},
     "output_type": "execute_result"
    }
   ],
   "source": [
    "not_lipid_rxndb_inteme_only_one_new.head()"
   ]
  },
  {
   "cell_type": "code",
   "execution_count": 7,
   "metadata": {},
   "outputs": [],
   "source": [
    "def pool_func(df,sink0,total_inchikey0):\n",
    "    add_inchikey0 = list(map(partial(myfunc_new,sink0=sink0,total_inchikey0 = total_inchikey0),df.iterrows()))\n",
    "    add_inchikey0_ = list(map(partial(myfunc_reverse_new,sink0=sink0,total_inchikey0 = total_inchikey0),df.iterrows()))\n",
    "    #flatten\n",
    "    add_inchikey0 = [j for i in add_inchikey0 for j in i]\n",
    "    add_inchikey0_ = [j for i in add_inchikey0_ for j in i]\n",
    "    return (add_inchikey0,add_inchikey0_)"
   ]
  },
  {
   "cell_type": "code",
   "execution_count": 8,
   "metadata": {},
   "outputs": [],
   "source": [
    "total_inchikey0 = load_pickle(total_met_inchikey0_file)\n"
   ]
  },
  {
   "cell_type": "code",
   "execution_count": 11,
   "metadata": {},
   "outputs": [
    {
     "name": "stderr",
     "output_type": "stream",
     "text": [
      "100%|██████████| 100/100 [00:03<00:00, 30.42it/s]\n"
     ]
    },
    {
     "name": "stdout",
     "output_type": "stream",
     "text": [
      "1943\n"
     ]
    }
   ],
   "source": [
    "chunks = np.array_split(not_lipid_rxndb_inteme_only_one_new, 100)\n",
    "with mp.Pool(40) as pool:\n",
    "    results = list(tqdm(pool.imap(partial(pool_func,sink0 = sink0,total_inchikey0 = total_inchikey0), chunks), total=len(chunks)))\n",
    "for i in results:\n",
    "        if i[0]:\n",
    "            sink0 += i[0]\n",
    "        if i[1]:\n",
    "            sink0 += i[1]\n",
    "sink0 = list(set(sink0))\n",
    "print(len(sink0))\n"
   ]
  },
  {
   "cell_type": "code",
   "execution_count": 24,
   "metadata": {},
   "outputs": [
    {
     "data": {
      "text/plain": [
       "2011"
      ]
     },
     "execution_count": 24,
     "metadata": {},
     "output_type": "execute_result"
    }
   ],
   "source": [
    "sink0 = load_pickle(sink0_path)\n",
    "len(list(set(sink0)))"
   ]
  },
  {
   "cell_type": "code",
   "execution_count": 12,
   "metadata": {},
   "outputs": [
    {
     "data": {
      "text/html": [
       "<div>\n",
       "<style scoped>\n",
       "    .dataframe tbody tr th:only-of-type {\n",
       "        vertical-align: middle;\n",
       "    }\n",
       "\n",
       "    .dataframe tbody tr th {\n",
       "        vertical-align: top;\n",
       "    }\n",
       "\n",
       "    .dataframe thead th {\n",
       "        text-align: right;\n",
       "    }\n",
       "</style>\n",
       "<table border=\"1\" class=\"dataframe\">\n",
       "  <thead>\n",
       "    <tr style=\"text-align: right;\">\n",
       "      <th></th>\n",
       "      <th>Unnamed: 0.1</th>\n",
       "      <th>Unnamed: 0</th>\n",
       "      <th>EC number</th>\n",
       "      <th>rule</th>\n",
       "      <th>templateID</th>\n",
       "      <th>templateSubstrate</th>\n",
       "      <th>rxn_smiles_basic</th>\n",
       "      <th>rxn_smiles_final</th>\n",
       "      <th>reactant_smile</th>\n",
       "      <th>productsmile</th>\n",
       "      <th>similarity</th>\n",
       "      <th>reactant_inchikey0</th>\n",
       "      <th>product_inchikey0</th>\n",
       "      <th>new_num</th>\n",
       "    </tr>\n",
       "  </thead>\n",
       "  <tbody>\n",
       "    <tr>\n",
       "      <th>0</th>\n",
       "      <td>0</td>\n",
       "      <td>0</td>\n",
       "      <td>2.4.1.170</td>\n",
       "      <td>[#8;a:1]:[c:2]1:[c:3]:[c:4](-[O-;H0;D1:5]):[c:...</td>\n",
       "      <td>MNXR152429</td>\n",
       "      <td>['O=c1ccn([C@@H]2O[C@H](COP(=O)([O-])OP(=O)([O...</td>\n",
       "      <td>COc1cc(-c2oc3cc(OC4OCC([NH3+])C(O)C4O)cc([O-])...</td>\n",
       "      <td>COc1cc(-c2oc3cc(OC4OCC([NH3+])C(O)C4O)cc([O-])...</td>\n",
       "      <td>COc1cc(-c2oc3cc(OC4OCC([NH3+])C(O)C4O)cc([O-])...</td>\n",
       "      <td>[NH3+]C1COC(OP(=O)([O-])OP(=O)([O-])OCC2OC(n3c...</td>\n",
       "      <td>[0.9571428571, 0.9354838710000001]</td>\n",
       "      <td>['CVOGVDQKJUPDIG', 'XCCTYIAWTASOJW']</td>\n",
       "      <td>GWBAKYBSWHQNMQ.IZQSVPBOUDKVDZ</td>\n",
       "      <td>1</td>\n",
       "    </tr>\n",
       "    <tr>\n",
       "      <th>1</th>\n",
       "      <td>1</td>\n",
       "      <td>1</td>\n",
       "      <td>2.4.1.170</td>\n",
       "      <td>[#8;a:1]:[c:2]1:[c:3]:[c:4](-[O-;H0;D1:5]):[c:...</td>\n",
       "      <td>MNXR152429</td>\n",
       "      <td>['O=c1ccn([C@@H]2O[C@H](COP(=O)([O-])OP(=O)([O...</td>\n",
       "      <td>COc1cc(-c2[o+]c3cc([O-])cc(OC4OCC([NH3+])C(O)C...</td>\n",
       "      <td>COc1cc(-c2[o+]c3cc([O-])cc(OC4OCC([NH3+])C(O)C...</td>\n",
       "      <td>COc1cc(-c2[o+]c3cc([O-])cc(OC4OCC([NH3+])C(O)C...</td>\n",
       "      <td>[NH3+]C1COC(OP(=O)([O-])OP(=O)([O-])OCC2OC(n3c...</td>\n",
       "      <td>[0.9571428571, 0.9032258065000001]</td>\n",
       "      <td>['WOZOLHAMDXZBPE', 'XCCTYIAWTASOJW']</td>\n",
       "      <td>GWBAKYBSWHQNMQ.XFDQJKDGGOEYPI</td>\n",
       "      <td>1</td>\n",
       "    </tr>\n",
       "    <tr>\n",
       "      <th>2</th>\n",
       "      <td>2</td>\n",
       "      <td>2</td>\n",
       "      <td>2.4.1.170</td>\n",
       "      <td>[#8;a:1]:[c:2]1:[c:3]:[c:4](-[O-;H0;D1:5]):[c:...</td>\n",
       "      <td>MNXR152429</td>\n",
       "      <td>['O=c1ccn([C@@H]2O[C@H](COP(=O)([O-])OP(=O)([O...</td>\n",
       "      <td>COc1cc(-c2[o+]c3cc([O-])cc(OC4OCC([NH3+])C(O)C...</td>\n",
       "      <td>COc1cc(-c2[o+]c3cc([O-])cc(OC4OCC([NH3+])C(O)C...</td>\n",
       "      <td>COc1cc(-c2[o+]c3cc([O-])cc(OC4OCC([NH3+])C(O)C...</td>\n",
       "      <td>[NH3+]C1COC(OP(=O)([O-])OP(=O)([O-])OCC2OC(n3c...</td>\n",
       "      <td>[0.9571428571, 0.875]</td>\n",
       "      <td>['LDUQPOYRHHKVOL', 'XCCTYIAWTASOJW']</td>\n",
       "      <td>GWBAKYBSWHQNMQ.KZMACGJDUUWFCH</td>\n",
       "      <td>1</td>\n",
       "    </tr>\n",
       "    <tr>\n",
       "      <th>3</th>\n",
       "      <td>3</td>\n",
       "      <td>3</td>\n",
       "      <td>2.4.1.170</td>\n",
       "      <td>[#8;a:1]:[c:2]1:[c:3]:[c:4](-[O-;H0;D1:5]):[c:...</td>\n",
       "      <td>MNXR152429</td>\n",
       "      <td>['O=c1ccn([C@@H]2O[C@H](COP(=O)([O-])OP(=O)([O...</td>\n",
       "      <td>O=c1ccn(C2OC(COP(=O)([O-])OP(=O)([O-])[O-])C(O...</td>\n",
       "      <td>O=c1ccn(C2OC(COP(=O)([O-])OP(=O)([O-])[O-])C(O...</td>\n",
       "      <td>O=c1ccn(C2OC(COP(=O)([O-])OP(=O)([O-])[O-])C(O...</td>\n",
       "      <td>[NH3+]C1COC(OP(=O)([O-])OP(=O)([O-])OCC2OC(n3c...</td>\n",
       "      <td>[0.9571428571, 0.8125]</td>\n",
       "      <td>['BKDLQQDXPKEIAZ', 'XCCTYIAWTASOJW']</td>\n",
       "      <td>GWBAKYBSWHQNMQ.REFJWTPEDVJJIY</td>\n",
       "      <td>1</td>\n",
       "    </tr>\n",
       "    <tr>\n",
       "      <th>4</th>\n",
       "      <td>4</td>\n",
       "      <td>4</td>\n",
       "      <td>2.4.1.170</td>\n",
       "      <td>[#8;a:1]:[c:2]1:[c:3]:[c:4](-[O-;H0;D1:5]):[c:...</td>\n",
       "      <td>MNXR152429</td>\n",
       "      <td>['O=c1ccn([C@@H]2O[C@H](COP(=O)([O-])OP(=O)([O...</td>\n",
       "      <td>O=c1ccn(C2OC(COP(=O)([O-])OP(=O)([O-])[O-])C(O...</td>\n",
       "      <td>O=c1ccn(C2OC(COP(=O)([O-])OP(=O)([O-])[O-])C(O...</td>\n",
       "      <td>O=c1ccn(C2OC(COP(=O)([O-])OP(=O)([O-])[O-])C(O...</td>\n",
       "      <td>[NH3+]C1COC(OP(=O)([O-])OP(=O)([O-])OCC2OC(n3c...</td>\n",
       "      <td>[0.9571428571, 0.7812500000000001]</td>\n",
       "      <td>['JGLBPBXASDDKBL', 'XCCTYIAWTASOJW']</td>\n",
       "      <td>GWBAKYBSWHQNMQ.VEVZSMAEJFVWIL</td>\n",
       "      <td>1</td>\n",
       "    </tr>\n",
       "  </tbody>\n",
       "</table>\n",
       "</div>"
      ],
      "text/plain": [
       "   Unnamed: 0.1  Unnamed: 0  EC number  \\\n",
       "0             0           0  2.4.1.170   \n",
       "1             1           1  2.4.1.170   \n",
       "2             2           2  2.4.1.170   \n",
       "3             3           3  2.4.1.170   \n",
       "4             4           4  2.4.1.170   \n",
       "\n",
       "                                                rule  templateID  \\\n",
       "0  [#8;a:1]:[c:2]1:[c:3]:[c:4](-[O-;H0;D1:5]):[c:...  MNXR152429   \n",
       "1  [#8;a:1]:[c:2]1:[c:3]:[c:4](-[O-;H0;D1:5]):[c:...  MNXR152429   \n",
       "2  [#8;a:1]:[c:2]1:[c:3]:[c:4](-[O-;H0;D1:5]):[c:...  MNXR152429   \n",
       "3  [#8;a:1]:[c:2]1:[c:3]:[c:4](-[O-;H0;D1:5]):[c:...  MNXR152429   \n",
       "4  [#8;a:1]:[c:2]1:[c:3]:[c:4](-[O-;H0;D1:5]):[c:...  MNXR152429   \n",
       "\n",
       "                                   templateSubstrate  \\\n",
       "0  ['O=c1ccn([C@@H]2O[C@H](COP(=O)([O-])OP(=O)([O...   \n",
       "1  ['O=c1ccn([C@@H]2O[C@H](COP(=O)([O-])OP(=O)([O...   \n",
       "2  ['O=c1ccn([C@@H]2O[C@H](COP(=O)([O-])OP(=O)([O...   \n",
       "3  ['O=c1ccn([C@@H]2O[C@H](COP(=O)([O-])OP(=O)([O...   \n",
       "4  ['O=c1ccn([C@@H]2O[C@H](COP(=O)([O-])OP(=O)([O...   \n",
       "\n",
       "                                    rxn_smiles_basic  \\\n",
       "0  COc1cc(-c2oc3cc(OC4OCC([NH3+])C(O)C4O)cc([O-])...   \n",
       "1  COc1cc(-c2[o+]c3cc([O-])cc(OC4OCC([NH3+])C(O)C...   \n",
       "2  COc1cc(-c2[o+]c3cc([O-])cc(OC4OCC([NH3+])C(O)C...   \n",
       "3  O=c1ccn(C2OC(COP(=O)([O-])OP(=O)([O-])[O-])C(O...   \n",
       "4  O=c1ccn(C2OC(COP(=O)([O-])OP(=O)([O-])[O-])C(O...   \n",
       "\n",
       "                                    rxn_smiles_final  \\\n",
       "0  COc1cc(-c2oc3cc(OC4OCC([NH3+])C(O)C4O)cc([O-])...   \n",
       "1  COc1cc(-c2[o+]c3cc([O-])cc(OC4OCC([NH3+])C(O)C...   \n",
       "2  COc1cc(-c2[o+]c3cc([O-])cc(OC4OCC([NH3+])C(O)C...   \n",
       "3  O=c1ccn(C2OC(COP(=O)([O-])OP(=O)([O-])[O-])C(O...   \n",
       "4  O=c1ccn(C2OC(COP(=O)([O-])OP(=O)([O-])[O-])C(O...   \n",
       "\n",
       "                                      reactant_smile  \\\n",
       "0  COc1cc(-c2oc3cc(OC4OCC([NH3+])C(O)C4O)cc([O-])...   \n",
       "1  COc1cc(-c2[o+]c3cc([O-])cc(OC4OCC([NH3+])C(O)C...   \n",
       "2  COc1cc(-c2[o+]c3cc([O-])cc(OC4OCC([NH3+])C(O)C...   \n",
       "3  O=c1ccn(C2OC(COP(=O)([O-])OP(=O)([O-])[O-])C(O...   \n",
       "4  O=c1ccn(C2OC(COP(=O)([O-])OP(=O)([O-])[O-])C(O...   \n",
       "\n",
       "                                        productsmile  \\\n",
       "0  [NH3+]C1COC(OP(=O)([O-])OP(=O)([O-])OCC2OC(n3c...   \n",
       "1  [NH3+]C1COC(OP(=O)([O-])OP(=O)([O-])OCC2OC(n3c...   \n",
       "2  [NH3+]C1COC(OP(=O)([O-])OP(=O)([O-])OCC2OC(n3c...   \n",
       "3  [NH3+]C1COC(OP(=O)([O-])OP(=O)([O-])OCC2OC(n3c...   \n",
       "4  [NH3+]C1COC(OP(=O)([O-])OP(=O)([O-])OCC2OC(n3c...   \n",
       "\n",
       "                           similarity                    reactant_inchikey0  \\\n",
       "0  [0.9571428571, 0.9354838710000001]  ['CVOGVDQKJUPDIG', 'XCCTYIAWTASOJW']   \n",
       "1  [0.9571428571, 0.9032258065000001]  ['WOZOLHAMDXZBPE', 'XCCTYIAWTASOJW']   \n",
       "2               [0.9571428571, 0.875]  ['LDUQPOYRHHKVOL', 'XCCTYIAWTASOJW']   \n",
       "3              [0.9571428571, 0.8125]  ['BKDLQQDXPKEIAZ', 'XCCTYIAWTASOJW']   \n",
       "4  [0.9571428571, 0.7812500000000001]  ['JGLBPBXASDDKBL', 'XCCTYIAWTASOJW']   \n",
       "\n",
       "               product_inchikey0  new_num  \n",
       "0  GWBAKYBSWHQNMQ.IZQSVPBOUDKVDZ        1  \n",
       "1  GWBAKYBSWHQNMQ.XFDQJKDGGOEYPI        1  \n",
       "2  GWBAKYBSWHQNMQ.KZMACGJDUUWFCH        1  \n",
       "3  GWBAKYBSWHQNMQ.REFJWTPEDVJJIY        1  \n",
       "4  GWBAKYBSWHQNMQ.VEVZSMAEJFVWIL        1  "
      ]
     },
     "execution_count": 12,
     "metadata": {},
     "output_type": "execute_result"
    }
   ],
   "source": [
    "not_lipid_rxndb_inteme_only_one_new.head()"
   ]
  },
  {
   "cell_type": "code",
   "execution_count": 13,
   "metadata": {},
   "outputs": [],
   "source": [
    "dump_file(sink0, sink0_path)"
   ]
  },
  {
   "cell_type": "code",
   "execution_count": 14,
   "metadata": {},
   "outputs": [],
   "source": [
    "def calculate_success_fail_target_smiles(target_smiles_file,sink0,uptake_met_path):\n",
    "    target_smiles = load_pickle(target_smiles_file)\n",
    "    uptake_smiles = pd.read_csv(uptake_met_path)['SMILES'].tolist()\n",
    "    uptake_inchikey0 = [smiles2inchikey0(i) for i in uptake_smiles]\n",
    "    target_smiles = [i for i in target_smiles if smiles2inchikey0(i) not in uptake_inchikey0]\n",
    "    # smiles_success = smiles_success + uptake_smiles\n",
    "    success_target_smiles = []\n",
    "    for i in tqdm(target_smiles,total=len(target_smiles)):\n",
    "        if smiles2inchikey0(i) in sink0:\n",
    "            success_target_smiles.append(i)\n",
    "            \n",
    "    print('success number:',len(success_target_smiles))\n",
    "    fail_target_smiles = [i for i in target_smiles if i not in success_target_smiles]\n",
    "    print('fail number:',len(fail_target_smiles))\n",
    "    return success_target_smiles,fail_target_smiles"
   ]
  },
  {
   "cell_type": "code",
   "execution_count": 15,
   "metadata": {},
   "outputs": [
    {
     "name": "stderr",
     "output_type": "stream",
     "text": [
      "100%|██████████| 305/305 [00:00<00:00, 2811.49it/s]"
     ]
    },
    {
     "name": "stdout",
     "output_type": "stream",
     "text": [
      "success number: 283\n",
      "fail number: 22\n"
     ]
    },
    {
     "name": "stderr",
     "output_type": "stream",
     "text": [
      "\n"
     ]
    }
   ],
   "source": [
    "success_smiles,fail_smiles = calculate_success_fail_target_smiles(not_lipid_YMDB_fail_met_smile_uptake_file,sink0,uptake_met_path)"
   ]
  },
  {
   "cell_type": "code",
   "execution_count": 16,
   "metadata": {},
   "outputs": [],
   "source": [
    "dump_file(fail_smiles,not_lipid_YMDB_fail_met_smile_final_file)"
   ]
  },
  {
   "cell_type": "code",
   "execution_count": 17,
   "metadata": {},
   "outputs": [],
   "source": [
    "fail_target_smiles = load_pickle(not_lipid_YMDB_fail_met_smile_final_file)"
   ]
  },
  {
   "cell_type": "code",
   "execution_count": 18,
   "metadata": {},
   "outputs": [
    {
     "data": {
      "image/png": "[encoded data removed]",
      "text/plain": [
       "<rdkit.Chem.rdchem.Mol at 0x7f70c67d0ba0>"
      ]
     },
     "metadata": {},
     "output_type": "display_data"
    },
    {
     "data": {
      "image/png": "[encoded data removed]",
      "text/plain": [
       "<rdkit.Chem.rdchem.Mol at 0x7f70c67d0970>"
      ]
     },
     "metadata": {},
     "output_type": "display_data"
    },
    {
     "data": {
      "image/png": "[encoded data removed]",
      "text/plain": [
       "<rdkit.Chem.rdchem.Mol at 0x7f70c67d0890>"
      ]
     },
     "metadata": {},
     "output_type": "display_data"
    },
    {
     "data": {
      "image/png": "[encoded data removed]",
      "text/plain": [
       "<rdkit.Chem.rdchem.Mol at 0x7f70c67d0cf0>"
      ]
     },
     "metadata": {},
     "output_type": "display_data"
    },
    {
     "data": {
      "image/png": "[encoded data removed]",
      "text/plain": [
       "<rdkit.Chem.rdchem.Mol at 0x7f70c67d06d0>"
      ]
     },
     "metadata": {},
     "output_type": "display_data"
    },
    {
     "data": {
      "image/png": "[encoded data removed]",
      "text/plain": [
       "<rdkit.Chem.rdchem.Mol at 0x7f70c67d0ba0>"
      ]
     },
     "metadata": {},
     "output_type": "display_data"
    },
    {
     "data": {
      "image/png": "[encoded data removed]",
      "text/plain": [
       "<rdkit.Chem.rdchem.Mol at 0x7f70c67d0820>"
      ]
     },
     "metadata": {},
     "output_type": "display_data"
    },
    {
     "data": {
      "image/png": "[encoded data removed]",
      "text/plain": [
       "<rdkit.Chem.rdchem.Mol at 0x7f70c67d0970>"
      ]
     },
     "metadata": {},
     "output_type": "display_data"
    },
    {
     "data": {
      "image/png": "[encoded data removed]",
      "text/plain": [
       "<rdkit.Chem.rdchem.Mol at 0x7f70c67d0cf0>"
      ]
     },
     "metadata": {},
     "output_type": "display_data"
    },
    {
     "data": {
      "image/png": "[encoded data removed]",
      "text/plain": [
       "<rdkit.Chem.rdchem.Mol at 0x7f70c67d06d0>"
      ]
     },
     "metadata": {},
     "output_type": "display_data"
    },
    {
     "data": {
      "image/png": "[encoded data removed]",
      "text/plain": [
       "<rdkit.Chem.rdchem.Mol at 0x7f70c67d0890>"
      ]
     },
     "metadata": {},
     "output_type": "display_data"
    },
    {
     "data": {
      "image/png": "[encoded data removed]",
      "text/plain": [
       "<rdkit.Chem.rdchem.Mol at 0x7f70c67d0820>"
      ]
     },
     "metadata": {},
     "output_type": "display_data"
    },
    {
     "data": {
      "image/png": "[encoded data removed]",
      "text/plain": [
       "<rdkit.Chem.rdchem.Mol at 0x7f70c67d0970>"
      ]
     },
     "metadata": {},
     "output_type": "display_data"
    },
    {
     "data": {
      "image/png": "[encoded data removed]",
      "text/plain": [
       "<rdkit.Chem.rdchem.Mol at 0x7f70c67d0cf0>"
      ]
     },
     "metadata": {},
     "output_type": "display_data"
    },
    {
     "data": {
      "image/png": "[encoded data removed]",
      "text/plain": [
       "<rdkit.Chem.rdchem.Mol at 0x7f70c67d06d0>"
      ]
     },
     "metadata": {},
     "output_type": "display_data"
    },
    {
     "data": {
      "image/png": "[encoded data removed]",
      "text/plain": [
       "<rdkit.Chem.rdchem.Mol at 0x7f70c67d0ba0>"
      ]
     },
     "metadata": {},
     "output_type": "display_data"
    },
    {
     "data": {
      "image/png": "[encoded data removed]",
      "text/plain": [
       "<rdkit.Chem.rdchem.Mol at 0x7f70c67d0820>"
      ]
     },
     "metadata": {},
     "output_type": "display_data"
    },
    {
     "data": {
      "image/png": "[encoded data removed]",
      "text/plain": [
       "<rdkit.Chem.rdchem.Mol at 0x7f70c67d0970>"
      ]
     },
     "metadata": {},
     "output_type": "display_data"
    },
    {
     "data": {
      "image/png": "[encoded data removed]",
      "text/plain": [
       "<rdkit.Chem.rdchem.Mol at 0x7f70c67d0cf0>"
      ]
     },
     "metadata": {},
     "output_type": "display_data"
    },
    {
     "data": {
      "image/png": "[encoded data removed]",
      "text/plain": [
       "<rdkit.Chem.rdchem.Mol at 0x7f70c67d0890>"
      ]
     },
     "metadata": {},
     "output_type": "display_data"
    },
    {
     "data": {
      "image/png": "[encoded data removed]",
      "text/plain": [
       "<rdkit.Chem.rdchem.Mol at 0x7f70c67d0ba0>"
      ]
     },
     "metadata": {},
     "output_type": "display_data"
    },
    {
     "data": {
      "image/png": "[encoded data removed]",
      "text/plain": [
       "<rdkit.Chem.rdchem.Mol at 0x7f70c67d0820>"
      ]
     },
     "metadata": {},
     "output_type": "display_data"
    }
   ],
   "source": [
    "for i in fail_target_smiles:\n",
    "    mol = Chem.MolFromSmiles(i)\n",
    "    display(mol)"
   ]
  },
  {
   "cell_type": "code",
   "execution_count": 19,
   "metadata": {},
   "outputs": [
    {
     "name": "stdout",
     "output_type": "stream",
     "text": [
      "19\n"
     ]
    }
   ],
   "source": [
    "print(len(list(set(fail_target_smiles))))"
   ]
  },
  {
   "cell_type": "code",
   "execution_count": 20,
   "metadata": {},
   "outputs": [],
   "source": [
    "with open(mnxmeta_smile_inchikey_dict_path, 'r') as f:\n",
    "    mnxmeta_smile_inchikey_dict = json.load(f)"
   ]
  },
  {
   "cell_type": "code",
   "execution_count": 21,
   "metadata": {},
   "outputs": [
    {
     "name": "stderr",
     "output_type": "stream",
     "text": [
      "100%|██████████| 906669/906669 [00:02<00:00, 349031.69it/s]\n",
      "100%|██████████| 906669/906669 [00:00<00:00, 5487788.58it/s]\n",
      "100%|██████████| 22/22 [00:00<00:00, 35.59it/s]\n",
      "100%|██████████| 19/19 [00:00<00:00, 184899.71it/s]\n"
     ]
    },
    {
     "name": "stdout",
     "output_type": "stream",
     "text": [
      "22\n"
     ]
    },
    {
     "name": "stderr",
     "output_type": "stream",
     "text": [
      "100%|██████████| 19/19 [00:00<00:00, 388740.37it/s]"
     ]
    },
    {
     "name": "stdout",
     "output_type": "stream",
     "text": [
      "21\n"
     ]
    },
    {
     "name": "stderr",
     "output_type": "stream",
     "text": [
      "\n"
     ]
    }
   ],
   "source": [
    "total_inchikey0 = [smiles2inchikey0(x) for x in fail_target_smiles]\n",
    "get_smiles2metnetx(list(mnxmeta_smile_inchikey_dict.keys()), total_inchikey0,not_lipid_fail_smiles2metnetx_path,num_processes=30)\n",
    "smiles_metnetx_reverse(not_lipid_fail_smiles2metnetx_path,total_inchikey0,mnxmeta_smile_inchikey_dict)\n",
    "merge_metnetx_smiles(fail_target_smiles,not_lipid_fail_smiles2metnetx_path,not_lipid_YMDB_fail_met_smile_final_expand_file)"
   ]
  },
  {
   "cell_type": "code",
   "execution_count": 22,
   "metadata": {},
   "outputs": [],
   "source": [
    "not_lipid_YMDB_fail_met_smile_final_expand = load_pickle(not_lipid_YMDB_fail_met_smile_final_expand_file)\n",
    "#save to txt file\n",
    "with open(not_lipid_YMDB_fail_met_smile_final_expand_txt_file, 'w') as f:\n",
    "   \n",
    "    for i in not_lipid_YMDB_fail_met_smile_final_expand:\n",
    "        f.write(i+'\\n')"
   ]
  },
  {
   "cell_type": "code",
   "execution_count": 23,
   "metadata": {},
   "outputs": [
    {
     "data": {
      "text/plain": [
       "4436"
      ]
     },
     "execution_count": 23,
     "metadata": {},
     "output_type": "execute_result"
    }
   ],
   "source": [
    "yeast8_total_smiles = get_all_smiles_in_model(yeast_model_path,ymdb_output_final)\n",
    "success_smiles = load_pickle(YMDB_success_met_smile_uptake_file)\n",
    "uptake_met = pd.read_csv(uptake_met_path)   \n",
    "uptake_smiles = uptake_met['SMILES'].to_list()\n",
    "sink_smiles = yeast8_total_smiles + success_smiles + uptake_smiles\n",
    "not_lipid_rxndb_met_max_score = pd.read_csv(not_lipid_rxndb_met_max_score_file)\n",
    "not_lipid_rxndb_met_max_score = not_lipid_rxndb_met_max_score[not_lipid_rxndb_met_max_score['score']==1]\n",
    "not_lipid_rxndb_met_max_smiles = not_lipid_rxndb_met_max_score['smile'].tolist()\n",
    "sink_smiles = sink_smiles + not_lipid_rxndb_met_max_smiles\n",
    "sink_inchi = [Chem.MolToInchi(Chem.MolFromSmiles(i)) for i in sink_smiles if Chem.MolFromSmiles(i)]\n",
    "sink_inchi = list(set(sink_inchi))\n",
    "len(sink_inchi)\n"
   ]
  },
  {
   "cell_type": "code",
   "execution_count": 24,
   "metadata": {},
   "outputs": [],
   "source": [
    "#save sink_inchi to csv\n",
    "sink_inchi_pd = pd.DataFrame(sink_inchi,columns=['inchi'])\n",
    "sink_inchi_pd.to_csv(sink_inchi_path,index=False)"
   ]
  },
  {
   "cell_type": "code",
   "execution_count": 25,
   "metadata": {},
   "outputs": [
    {
     "data": {
      "text/html": [
       "<div>\n",
       "<style scoped>\n",
       "    .dataframe tbody tr th:only-of-type {\n",
       "        vertical-align: middle;\n",
       "    }\n",
       "\n",
       "    .dataframe tbody tr th {\n",
       "        vertical-align: top;\n",
       "    }\n",
       "\n",
       "    .dataframe thead th {\n",
       "        text-align: right;\n",
       "    }\n",
       "</style>\n",
       "<table border=\"1\" class=\"dataframe\">\n",
       "  <thead>\n",
       "    <tr style=\"text-align: right;\">\n",
       "      <th></th>\n",
       "      <th>inchi</th>\n",
       "    </tr>\n",
       "  </thead>\n",
       "  <tbody>\n",
       "    <tr>\n",
       "      <th>0</th>\n",
       "      <td>InChI=1S/C75H138O17P2/c1-5-9-13-17-21-25-29-33...</td>\n",
       "    </tr>\n",
       "    <tr>\n",
       "      <th>1</th>\n",
       "      <td>InChI=1S/C14H28O3/c1-2-3-4-5-6-7-8-9-10-11-13(...</td>\n",
       "    </tr>\n",
       "    <tr>\n",
       "      <th>2</th>\n",
       "      <td>InChI=1S/C5H11O8P/c6-1-3(7)5(9)4(8)2-13-14(10,...</td>\n",
       "    </tr>\n",
       "    <tr>\n",
       "      <th>3</th>\n",
       "      <td>InChI=1S/C19H40NO7P/c1-2-3-4-5-6-7-8-9-10-11-1...</td>\n",
       "    </tr>\n",
       "    <tr>\n",
       "      <th>4</th>\n",
       "      <td>InChI=1S/C31H54N7O17P3S/c1-4-5-6-7-8-9-10-11-2...</td>\n",
       "    </tr>\n",
       "  </tbody>\n",
       "</table>\n",
       "</div>"
      ],
      "text/plain": [
       "                                               inchi\n",
       "0  InChI=1S/C75H138O17P2/c1-5-9-13-17-21-25-29-33...\n",
       "1  InChI=1S/C14H28O3/c1-2-3-4-5-6-7-8-9-10-11-13(...\n",
       "2  InChI=1S/C5H11O8P/c6-1-3(7)5(9)4(8)2-13-14(10,...\n",
       "3  InChI=1S/C19H40NO7P/c1-2-3-4-5-6-7-8-9-10-11-1...\n",
       "4  InChI=1S/C31H54N7O17P3S/c1-4-5-6-7-8-9-10-11-2..."
      ]
     },
     "execution_count": 25,
     "metadata": {},
     "output_type": "execute_result"
    }
   ],
   "source": [
    "# sink_inchi_pd = pd.read_csv(sink_inchi_path)\n",
    "sink_inchi_pd.head()"
   ]
  },
  {
   "cell_type": "code",
   "execution_count": 26,
   "metadata": {},
   "outputs": [
    {
     "name": "stderr",
     "output_type": "stream",
     "text": [
      "100%|██████████| 4436/4436 [00:03<00:00, 1414.31it/s]\n"
     ]
    }
   ],
   "source": [
    "sink_inchi_pd['mol'] = sink_inchi_pd['inchi'].progress_apply(lambda x: Chem.MolToSmiles(Chem.MolFromInchi(x)))"
   ]
  },
  {
   "cell_type": "code",
   "execution_count": 27,
   "metadata": {},
   "outputs": [],
   "source": [
    "sink_inchi_pd = sink_inchi_pd.drop(columns=['inchi'])\n",
    "sink_inchi_pd.to_csv(sink_smiles_path,index=False)"
   ]
  },
  {
   "cell_type": "code",
   "execution_count": 7,
   "metadata": {},
   "outputs": [
    {
     "data": {
      "text/html": [
       "<div>\n",
       "<style scoped>\n",
       "    .dataframe tbody tr th:only-of-type {\n",
       "        vertical-align: middle;\n",
       "    }\n",
       "\n",
       "    .dataframe tbody tr th {\n",
       "        vertical-align: top;\n",
       "    }\n",
       "\n",
       "    .dataframe thead th {\n",
       "        text-align: right;\n",
       "    }\n",
       "</style>\n",
       "<table border=\"1\" class=\"dataframe\">\n",
       "  <thead>\n",
       "    <tr style=\"text-align: right;\">\n",
       "      <th></th>\n",
       "      <th>SMILES</th>\n",
       "    </tr>\n",
       "  </thead>\n",
       "  <tbody>\n",
       "    <tr>\n",
       "      <th>0</th>\n",
       "      <td>CCOC=O</td>\n",
       "    </tr>\n",
       "    <tr>\n",
       "      <th>1</th>\n",
       "      <td>C/C=C/SC</td>\n",
       "    </tr>\n",
       "    <tr>\n",
       "      <th>2</th>\n",
       "      <td>c1ccsc1</td>\n",
       "    </tr>\n",
       "    <tr>\n",
       "      <th>3</th>\n",
       "      <td>C/C=C\\SC</td>\n",
       "    </tr>\n",
       "    <tr>\n",
       "      <th>4</th>\n",
       "      <td>C=C(C)C(=O)OCC</td>\n",
       "    </tr>\n",
       "  </tbody>\n",
       "</table>\n",
       "</div>"
      ],
      "text/plain": [
       "           SMILES\n",
       "0          CCOC=O\n",
       "1        C/C=C/SC\n",
       "2         c1ccsc1\n",
       "3        C/C=C\\SC\n",
       "4  C=C(C)C(=O)OCC"
      ]
     },
     "execution_count": 7,
     "metadata": {},
     "output_type": "execute_result"
    }
   ],
   "source": [
    "# not_lipid_YMDB_fail_met_smile_final_expand = pd.read_csv(not_lipid_YMDB_fail_met_smile_final_expand_txt_file,sep='\\t',header=None)\n",
    "# not_lipid_YMDB_fail_met_smile_final_expand.columns = ['SMILES']\n",
    "# not_lipid_YMDB_fail_met_smile_final_expand.head()\n"
   ]
  },
  {
   "cell_type": "code",
   "execution_count": 8,
   "metadata": {},
   "outputs": [
    {
     "data": {
      "text/html": [
       "<div>\n",
       "<style scoped>\n",
       "    .dataframe tbody tr th:only-of-type {\n",
       "        vertical-align: middle;\n",
       "    }\n",
       "\n",
       "    .dataframe tbody tr th {\n",
       "        vertical-align: top;\n",
       "    }\n",
       "\n",
       "    .dataframe thead th {\n",
       "        text-align: right;\n",
       "    }\n",
       "</style>\n",
       "<table border=\"1\" class=\"dataframe\">\n",
       "  <thead>\n",
       "    <tr style=\"text-align: right;\">\n",
       "      <th></th>\n",
       "      <th>SMILES</th>\n",
       "    </tr>\n",
       "  </thead>\n",
       "  <tbody>\n",
       "    <tr>\n",
       "      <th>0</th>\n",
       "      <td>CSSSSC</td>\n",
       "    </tr>\n",
       "    <tr>\n",
       "      <th>1</th>\n",
       "      <td>CC1SSC(C)S1</td>\n",
       "    </tr>\n",
       "    <tr>\n",
       "      <th>2</th>\n",
       "      <td>C/C=C\\SC</td>\n",
       "    </tr>\n",
       "    <tr>\n",
       "      <th>3</th>\n",
       "      <td>CC=CSC</td>\n",
       "    </tr>\n",
       "    <tr>\n",
       "      <th>4</th>\n",
       "      <td>CSSc1ccoc1C</td>\n",
       "    </tr>\n",
       "  </tbody>\n",
       "</table>\n",
       "</div>"
      ],
      "text/plain": [
       "        SMILES\n",
       "0       CSSSSC\n",
       "1  CC1SSC(C)S1\n",
       "2     C/C=C\\SC\n",
       "3       CC=CSC\n",
       "4  CSSc1ccoc1C"
      ]
     },
     "execution_count": 8,
     "metadata": {},
     "output_type": "execute_result"
    }
   ],
   "source": [
    "# not_lipid_YMDB_fail_met_smile_final_expand_ = pd.read_csv(not_lipid_YMDB_fail_met_smile_final_expand_txt_file_,sep='\\t',header=None)\n",
    "# not_lipid_YMDB_fail_met_smile_final_expand_.columns = ['SMILES']\n",
    "# not_lipid_YMDB_fail_met_smile_final_expand_.head()\n"
   ]
  },
  {
   "cell_type": "code",
   "execution_count": 10,
   "metadata": {},
   "outputs": [
    {
     "name": "stdout",
     "output_type": "stream",
     "text": [
      "21\n",
      "21\n",
      "0\n"
     ]
    }
   ],
   "source": [
    "# not_lipid_YMDB_fail_met_smile_final_expand_smiles_ = set(not_lipid_YMDB_fail_met_smile_final_expand_['SMILES'].tolist())\n",
    "# print(len(not_lipid_YMDB_fail_met_smile_final_expand_smiles_))\n",
    "# not_lipid_YMDB_fail_met_smile_final_expand_smiles = set(not_lipid_YMDB_fail_met_smile_final_expand['SMILES'].tolist())\n",
    "# print(len(not_lipid_YMDB_fail_met_smile_final_expand_smiles))\n",
    "# not_lipid_YMDB_fail_met_smile_final_expand_smiles_diff = not_lipid_YMDB_fail_met_smile_final_expand_smiles.difference(not_lipid_YMDB_fail_met_smile_final_expand_smiles_)\n",
    "# print(len(not_lipid_YMDB_fail_met_smile_final_expand_smiles_diff))\n"
   ]
  }
 ],
 "metadata": {
  "kernelspec": {
   "display_name": "gurob",
   "language": "python",
   "name": "python3"
  },
  "language_info": {
   "codemirror_mode": {
    "name": "ipython",
    "version": 3
   },
   "file_extension": ".py",
   "mimetype": "text/x-python",
   "name": "python",
   "nbconvert_exporter": "python",
   "pygments_lexer": "ipython3",
   "version": "3.8.18"
  }
 },
 "nbformat": 4,
 "nbformat_minor": 2
}
