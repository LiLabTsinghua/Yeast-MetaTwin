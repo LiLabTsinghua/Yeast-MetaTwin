{
 "cells": [
  {
   "cell_type": "code",
   "execution_count": 1,
   "metadata": {
    "metadata": {}
   },
   "outputs": [],
   "source": [
    "import pandas as pd\n",
    "import numpy as np\n",
    "\n",
    "import json\n",
    "from rdkit import Chem\n",
    "import pandas as pd\n",
    "import itertools\n",
    "import sys\n",
    "from tqdm import tqdm \n",
    "from itertools import chain, combinations\n",
    "import sys\n",
    "import multiprocessing as mp\n",
    "from functools import partial\n",
    "from collections import Counter\n",
    "tqdm.pandas()\n",
    "sys.path.append('../')\n",
    "from common import *"
   ]
  },
  {
   "cell_type": "markdown",
   "metadata": {},
   "source": [
    "### input and output"
   ]
  },
  {
   "cell_type": "code",
   "execution_count": 2,
   "metadata": {
    "metadata": {}
   },
   "outputs": [],
   "source": [
    "###input\n",
    "ymdb_output_final = '../../../Data/ymdb/ymdb_final_result.xlsx'\n",
    "mnxreac_smile_atom_mapping_rules_file_path = '../../../Data/rules/MNXreaction_smiles_atommap_rules_filter.csv'\n",
    "target_smiles_path = '../../../Results/not_lipid/target_smiles_not_lipid_complex.pickle'\n",
    "target_model_smiles_path = '../../../Results/not_lipid/yeast_met_not_lipid.pickle'\n",
    "yeast_model_path = '../../../Data/model/yeast-GEM-final.csv'\n",
    "total_met_inchikey0_file = '../../../Data/total_met_inchikey0.pickle'\n",
    "uptake_met_path = '../../../Data/ymdb/ymdb_uptake.csv'\n",
    "cut_off = 0.3\n",
    "num = 70\n",
    "num_process = 60\n",
    "cut_off_path = f'../../../Results/not_lipid/top{num}_{cut_off}/'\n",
    "sce_gene_clean_ec = '../../../Data/Saccharomyces_cerevisiae_teacher_maxsep.csv'\n",
    "DeepEC_path = '../../../Data/Sce_DeepECv2.txt'\n",
    "sce_uniprot_path = '../../../Data/uniprotkb_organism_id_559292_2023_11_08.tsv'\n",
    "yeast870_path =  '../../../Data/model/yeast-GEM.yml'\n",
    "miss_met_id_file = '../../../Data/model/miss_met_id.json'\n",
    "\n",
    "###output\n",
    "retrosys_smiles_calculate_similarity_file_path_all = '../../../Results/not_lipid/retrosys_smiles_calculate_similarity_0.3.json'\n",
    "\n",
    "retrosys_smiles_calculate_similarity_file_path = cut_off_path + f'retrosys_smiles_calculate_similarity_top{num}_{cut_off}.json'\n",
    "retrosys_smiles_calculate_similarity_filter_file_path = cut_off_path + f'retrosys_smiles_calculate_similarity_filter_top{num}_{cut_off}.json'\n",
    "rxndb_path = cut_off_path + f'RXNdb_top{num}_{cut_off}/'\n",
    "failedrxn_path = cut_off_path + f'failedrxn_top{num}_{cut_off}.pickle' \n",
    "rxndb_all_path = cut_off_path + f'RXNdb_all_top{num}_{cut_off}.json'\n",
    "# rxndb_all_path = cut_off_path + f'RXNdb_all_top{num}_{cut_off}_all.csv'\n",
    "rxndb_drop_path = cut_off_path + f'RXNdb_drop_top{num}_{cut_off}/'\n",
    "rxndb_met_max_score_file = cut_off_path + f'rxndb_met_max_score_pd_top{num}_{cut_off}.csv'\n",
    "rxndb_met_max_score_uptake_file = cut_off_path + f'rxndb_met_max_score_pd_top{num}_{cut_off}_uptake.csv'\n",
    "rxndb_to_model_path = cut_off_path + f'rxndb_to_model_top{num}_{cut_off}.csv'\n",
    "YMDB_success_met_smile_file = cut_off_path + f'YMDB_success_met_smile_top{num}_{cut_off}.pickle'\n",
    "YMDB_success_met_smile_uptake_file = cut_off_path + f'YMDB_success_met_smile_uptake_top{num}_{cut_off}.pickle'\n",
    "YMDB_fail_met_smile_file = cut_off_path + f'YMDB_fail_met_smile_top{num}_{cut_off}.pickle'\n",
    "YMDB_fail_met_smile_uptake_file = cut_off_path + f'YMDB_fail_met_smile_uptake_top{num}_{cut_off}.pickle'\n",
    "rxndb_GPR_to_model_path = cut_off_path + f'rxndb_GPR_to_model_top{num}_{cut_off}.csv'\n",
    "rxndb_met_max_score_met_annotation_file = cut_off_path + f'rxndb_met_max_score_met_annotation_top{num}_{cut_off}.csv'\n",
    "metabolites_info_to_GEM_path = cut_off_path + f'metabolites_info_to_GEM_top{num}_{cut_off}.csv'\n",
    "rxndb_total_info_to_model_path = cut_off_path + f'rxndb_total_info_to_model_top{num}_{cut_off}.csv'\n",
    "yeast8_reaction_in_rxndb_json = cut_off_path + f'yeast8_reaction_in_rxndb_top{num}_{cut_off}.json'\n",
    "\n",
    "\n"
   ]
  },
  {
   "cell_type": "code",
   "execution_count": 3,
   "metadata": {},
   "outputs": [],
   "source": [
    "#check if the output folder exists\n",
    "if not os.path.exists(cut_off_path):\n",
    "    os.makedirs(cut_off_path)\n",
    "if not os.path.exists(rxndb_path):\n",
    "    os.makedirs(rxndb_path)\n",
    "if not os.path.exists(rxndb_drop_path):\n",
    "    os.makedirs(rxndb_drop_path)"
   ]
  },
  {
   "cell_type": "code",
   "execution_count": 4,
   "metadata": {
    "metadata": {}
   },
   "outputs": [
    {
     "name": "stdout",
     "output_type": "stream",
     "text": [
      "total_smiles 4197\n",
      "total_smiles 4196\n",
      "total_smiles 4196\n",
      "total_smiles 2563\n"
     ]
    },
    {
     "name": "stderr",
     "output_type": "stream",
     "text": [
      "20210it [00:01, 12275.84it/s]\n"
     ]
    },
    {
     "name": "stdout",
     "output_type": "stream",
     "text": [
      "8254\n"
     ]
    },
    {
     "name": "stderr",
     "output_type": "stream",
     "text": [
      "20210it [00:01, 10233.88it/s]"
     ]
    },
    {
     "name": "stdout",
     "output_type": "stream",
     "text": [
      "11257\n"
     ]
    },
    {
     "name": "stderr",
     "output_type": "stream",
     "text": [
      "\n"
     ]
    }
   ],
   "source": [
    "yeast_total_smiles = process_yeast_smiles(target_model_smiles_path)\n",
    "# yeast_total_smiles = [neutralize_charge(x) for x in yeast_total_smiles]\n",
    "yeast_total_smiles = [x for x in yeast_total_smiles if Chem.MolFromSmiles(x)]\n",
    "retrorules = pd.read_csv(mnxreac_smile_atom_mapping_rules_file_path)\n",
    "rules_product_smiles_lst = process_retrorules(retrorules,s='product_smiles')\n",
    "rules_product_smarts_lst = process_retrorules(retrorules,s='ProductSMARTs')\n"
   ]
  },
  {
   "cell_type": "code",
   "execution_count": 5,
   "metadata": {},
   "outputs": [],
   "source": [
    "retrosys_smiles_calculate_similarity_pd = pd.read_json(retrosys_smiles_calculate_similarity_file_path_all)\n",
    "retrosys_smiles_calculate_similarity_pd = get_most_similar_smiles(retrosys_smiles_calculate_similarity_pd,num)\n",
    "retrosys_smiles_calculate_similarity_pd.to_json(retrosys_smiles_calculate_similarity_file_path)"
   ]
  },
  {
   "cell_type": "code",
   "execution_count": 6,
   "metadata": {
    "metadata": {}
   },
   "outputs": [],
   "source": [
    "# retrosys_smiles_calculate_similarity = process_rules_with_multiprocessing(rules_product_smiles_lst, yeast_total_smiles,num_processes=num_process,cutoff=cut_off)\n",
    "\n",
    "# retrosys_smiles_calculate_similarity_pd = pd.DataFrame(retrosys_smiles_calculate_similarity)\n",
    "# retrosys_smiles_calculate_similarity_pd.to_json(retrosys_smiles_calculate_similarity_file_path_all)\n",
    "\n",
    "# # choose top num similar metabolites\n",
    "# retrosys_smiles_calculate_similarity_pd = pd.read_json(retrosys_smiles_calculate_similarity_file_path_all)\n",
    "# retrosys_smiles_calculate_similarity_pd = get_most_similar_smiles(retrosys_smiles_calculate_similarity_pd,num)\n",
    "# retrosys_smiles_calculate_similarity_pd.to_json(retrosys_smiles_calculate_similarity_file_path)"
   ]
  },
  {
   "cell_type": "markdown",
   "metadata": {},
   "source": [
    "### get rxndb"
   ]
  },
  {
   "cell_type": "code",
   "execution_count": 7,
   "metadata": {},
   "outputs": [
    {
     "name": "stderr",
     "output_type": "stream",
     "text": [
      "100%|██████████| 20210/20210 [00:58<00:00, 342.86it/s]\n"
     ]
    }
   ],
   "source": [
    "retrorules = merge_smiles_similarity_rule(retrorules, retrosys_smiles_calculate_similarity_pd)\n"
   ]
  },
  {
   "cell_type": "code",
   "execution_count": 8,
   "metadata": {},
   "outputs": [
    {
     "name": "stderr",
     "output_type": "stream",
     "text": [
      "100%|██████████| 60/60 [00:06<00:00,  9.24it/s]\n"
     ]
    }
   ],
   "source": [
    "filter_smiles_muti(retrorules,retrosys_smiles_calculate_similarity_filter_file_path,num_process=num_process)\n",
    "with open(retrosys_smiles_calculate_similarity_filter_file_path, 'r') as json_file:\n",
    "    retrorules = json.load(json_file) \n",
    "retrorules = pd.DataFrame(retrorules)"
   ]
  },
  {
   "cell_type": "code",
   "execution_count": 9,
   "metadata": {},
   "outputs": [
    {
     "name": "stderr",
     "output_type": "stream",
     "text": [
      "100%|██████████| 20210/20210 [07:09<00:00, 47.07it/s] \n"
     ]
    }
   ],
   "source": [
    "process_retrorules_and_save(rxndb_path,failedrxn_path,retrorules,heterologous_met_smiles=None,num_process=num_process)"
   ]
  },
  {
   "cell_type": "markdown",
   "metadata": {},
   "source": [
    "### retrosynthesis result screen"
   ]
  },
  {
   "cell_type": "code",
   "execution_count": 10,
   "metadata": {},
   "outputs": [
    {
     "name": "stderr",
     "output_type": "stream",
     "text": [
      "100%|██████████| 12652/12652 [06:31<00:00, 32.35it/s] \n",
      "100%|██████████| 12652/12652 [00:07<00:00, 1618.40it/s]\n",
      "100%|██████████| 12652/12652 [00:02<00:00, 5558.90it/s]\n"
     ]
    },
    {
     "name": "stdout",
     "output_type": "stream",
     "text": [
      "rxndb: 6741177\n",
      "rxndb_drop: 120852\n"
     ]
    }
   ],
   "source": [
    "#drop metabolites that are not in the ymdb or yeast8\n",
    "drop_rxndb(rxndb_path, rxndb_drop_path, total_met_inchikey0_file, num_processes=num_process)\n",
    "#statistic the number of reactions \n",
    "statistic_reaction_num(rxndb_path,rxndb_drop_path)"
   ]
  },
  {
   "cell_type": "code",
   "execution_count": 11,
   "metadata": {},
   "outputs": [
    {
     "name": "stdout",
     "output_type": "stream",
     "text": [
      "(120852, 9)\n"
     ]
    }
   ],
   "source": [
    "#merge the rxndb\n",
    "rxndb = merge_rxndb(rxndb_drop_path,rxndb_all_path)\n",
    "rxndb_df = pd.DataFrame(rxndb).transpose()\n",
    "print(rxndb_df.shape)\n",
    "rxndb_df = rxndb_df.reset_index().rename(columns={'index':'NO'})\n"
   ]
  },
  {
   "cell_type": "code",
   "execution_count": 12,
   "metadata": {},
   "outputs": [],
   "source": [
    "# #merge the rxndb\n",
    "# # rxndb = merge_rxndb(rxndb_path,rxndb_all_path)\n",
    "# with open(rxndb_all_path,'r') as f:\n",
    "#     rxndb = json.load(f)\n",
    "# rxndb_df = pd.DataFrame(rxndb).transpose()\n",
    "# print(rxndb_df.shape)\n",
    "# rxndb_df = rxndb_df.reset_index().rename(columns={'index':'NO'})\n"
   ]
  },
  {
   "cell_type": "code",
   "execution_count": 13,
   "metadata": {},
   "outputs": [
    {
     "name": "stderr",
     "output_type": "stream",
     "text": [
      "100%|██████████| 100/100 [00:00<00:00, 160.40it/s]\n"
     ]
    },
    {
     "name": "stdout",
     "output_type": "stream",
     "text": [
      "number of metabolites in RXNDB: 5286\n"
     ]
    }
   ],
   "source": [
    "#get all the metabolites in the rxndb\n",
    "rxndb_all_smiles = parallel_process_rxn_smiles(rxndb_df, n_splits=100,num_process=num_process)"
   ]
  },
  {
   "cell_type": "code",
   "execution_count": 14,
   "metadata": {},
   "outputs": [],
   "source": [
    "#get all the smiles in the yeast8\n",
    "yeast8_total_smiles = get_all_smiles_in_model(yeast_model_path,ymdb_output_final)"
   ]
  },
  {
   "cell_type": "code",
   "execution_count": 15,
   "metadata": {},
   "outputs": [
    {
     "name": "stderr",
     "output_type": "stream",
     "text": [
      "100%|██████████| 5286/5286 [05:17<00:00, 16.67it/s]\n"
     ]
    }
   ],
   "source": [
    "#calculate the similarity of the metabolites\n",
    "\n",
    "smile_max_score_pd = calculate_save_smiles_max_score(rxndb_all_smiles, yeast8_total_smiles,rxndb_met_max_score_file,num_processes=num_process)"
   ]
  },
  {
   "cell_type": "code",
   "execution_count": 16,
   "metadata": {},
   "outputs": [],
   "source": [
    "# smile_max_score_pd = pd.read_csv(rxndb_met_max_score_file)"
   ]
  },
  {
   "cell_type": "code",
   "execution_count": 17,
   "metadata": {},
   "outputs": [
    {
     "name": "stderr",
     "output_type": "stream",
     "text": [
      "100%|██████████| 100/100 [00:03<00:00, 25.56it/s]\n",
      "100%|██████████| 100/100 [00:03<00:00, 31.91it/s]\n"
     ]
    },
    {
     "name": "stdout",
     "output_type": "stream",
     "text": [
      "Iteration 1 - Current success count: 4608\n",
      "Iteration 1 - Current success_rxndbid count: 85570\n",
      "============================================================================\n"
     ]
    },
    {
     "name": "stderr",
     "output_type": "stream",
     "text": [
      "100%|██████████| 100/100 [00:03<00:00, 26.24it/s]\n",
      "100%|██████████| 100/100 [00:03<00:00, 28.66it/s]\n"
     ]
    },
    {
     "name": "stdout",
     "output_type": "stream",
     "text": [
      "Iteration 2 - Current success count: 4825\n",
      "Iteration 2 - Current success_rxndbid count: 91047\n",
      "============================================================================\n"
     ]
    },
    {
     "name": "stderr",
     "output_type": "stream",
     "text": [
      "100%|██████████| 100/100 [00:03<00:00, 26.65it/s]\n",
      "100%|██████████| 100/100 [00:03<00:00, 29.45it/s]\n"
     ]
    },
    {
     "name": "stdout",
     "output_type": "stream",
     "text": [
      "Iteration 3 - Current success count: 4846\n",
      "Iteration 3 - Current success_rxndbid count: 92681\n",
      "============================================================================\n"
     ]
    },
    {
     "name": "stderr",
     "output_type": "stream",
     "text": [
      "100%|██████████| 100/100 [00:03<00:00, 25.99it/s]\n",
      "100%|██████████| 100/100 [00:03<00:00, 28.18it/s]\n"
     ]
    },
    {
     "name": "stdout",
     "output_type": "stream",
     "text": [
      "Iteration 4 - Current success count: 4864\n",
      "Iteration 4 - Current success_rxndbid count: 93186\n",
      "============================================================================\n"
     ]
    },
    {
     "name": "stderr",
     "output_type": "stream",
     "text": [
      "100%|██████████| 100/100 [00:03<00:00, 27.20it/s]\n",
      "100%|██████████| 100/100 [00:03<00:00, 29.72it/s]\n"
     ]
    },
    {
     "name": "stdout",
     "output_type": "stream",
     "text": [
      "Iteration 5 - Current success count: 4873\n",
      "Iteration 5 - Current success_rxndbid count: 93289\n",
      "============================================================================\n"
     ]
    },
    {
     "name": "stderr",
     "output_type": "stream",
     "text": [
      "100%|██████████| 100/100 [00:04<00:00, 24.99it/s]\n",
      "100%|██████████| 100/100 [00:03<00:00, 28.01it/s]\n"
     ]
    },
    {
     "name": "stdout",
     "output_type": "stream",
     "text": [
      "Iteration 6 - Current success count: 4879\n",
      "Iteration 6 - Current success_rxndbid count: 93887\n",
      "============================================================================\n"
     ]
    },
    {
     "name": "stderr",
     "output_type": "stream",
     "text": [
      "100%|██████████| 100/100 [00:04<00:00, 24.79it/s]\n",
      "100%|██████████| 100/100 [00:03<00:00, 28.39it/s]\n"
     ]
    },
    {
     "name": "stdout",
     "output_type": "stream",
     "text": [
      "Iteration 7 - Current success count: 4880\n",
      "Iteration 7 - Current success_rxndbid count: 93889\n",
      "============================================================================\n",
      "final success 4880\n",
      "final success_rxndbid 93889\n"
     ]
    }
   ],
   "source": [
    "\n",
    "smiles_success,success_rxndbid,smiles_max_score_tmp_pd = process_reactions_in_parallel_reactant(rxndb_df, smile_max_score_pd, num_processes=num_process, num_iterations=7)\n",
    "smiles_max_score_tmp_pd.to_csv(rxndb_met_max_score_file,index=None)\n",
    "\n",
    "\n",
    "\n"
   ]
  },
  {
   "cell_type": "code",
   "execution_count": 18,
   "metadata": {},
   "outputs": [],
   "source": [
    "# smiles_success,success_rxndbid,smiles_max_score_tmp_pd = process_reactions_in_parallel_reactant(rxndb_df, smiles_max_score_tmp_pd, num_processes=num_process, num_iterations=2)\n",
    "# smiles_max_score_tmp_pd.to_csv(rxndb_met_max_score_file,index=None)"
   ]
  },
  {
   "cell_type": "code",
   "execution_count": 19,
   "metadata": {},
   "outputs": [],
   "source": [
    "# smiles_max_score_tmp_pd = pd.read_csv(rxndb_met_max_score_file)"
   ]
  },
  {
   "cell_type": "code",
   "execution_count": 20,
   "metadata": {},
   "outputs": [
    {
     "name": "stdout",
     "output_type": "stream",
     "text": [
      "success number: 215\n",
      "fail number: 360\n"
     ]
    }
   ],
   "source": [
    "\n",
    "save_success_fail_target_smiles(target_smiles_path,smiles_success,YMDB_success_met_smile_file,YMDB_fail_met_smile_file)\n",
    "\n",
    "\n"
   ]
  },
  {
   "cell_type": "code",
   "execution_count": 21,
   "metadata": {},
   "outputs": [],
   "source": [
    "#get all the smiles in the yeast8\n",
    "yeast8_total_smiles = get_all_smiles_in_model(yeast_model_path,ymdb_output_final)\n",
    "\n",
    "# consider uptake metabolites\n",
    "uptake = pd.read_csv(uptake_met_path)\n",
    "uptake_smiles = uptake['SMILES'].values\n",
    "uptake_smiles = [normalize_smiles(i) for i in uptake_smiles]\n",
    "yeast8_total_smiles = yeast8_total_smiles + uptake_smiles"
   ]
  },
  {
   "cell_type": "code",
   "execution_count": 22,
   "metadata": {},
   "outputs": [
    {
     "name": "stderr",
     "output_type": "stream",
     "text": [
      "100%|██████████| 5286/5286 [05:34<00:00, 15.79it/s]\n",
      "100%|██████████| 100/100 [00:03<00:00, 28.00it/s]\n",
      "100%|██████████| 100/100 [00:03<00:00, 32.42it/s]\n"
     ]
    },
    {
     "name": "stdout",
     "output_type": "stream",
     "text": [
      "Iteration 1 - Current success count: 4854\n",
      "Iteration 1 - Current success_rxndbid count: 108032\n",
      "============================================================================\n"
     ]
    },
    {
     "name": "stderr",
     "output_type": "stream",
     "text": [
      "100%|██████████| 100/100 [00:04<00:00, 24.01it/s]\n",
      "100%|██████████| 100/100 [00:03<00:00, 27.52it/s]\n"
     ]
    },
    {
     "name": "stdout",
     "output_type": "stream",
     "text": [
      "Iteration 2 - Current success count: 5068\n",
      "Iteration 2 - Current success_rxndbid count: 111826\n",
      "============================================================================\n"
     ]
    },
    {
     "name": "stderr",
     "output_type": "stream",
     "text": [
      "100%|██████████| 100/100 [00:04<00:00, 21.55it/s]\n",
      "100%|██████████| 100/100 [00:03<00:00, 27.28it/s]\n"
     ]
    },
    {
     "name": "stdout",
     "output_type": "stream",
     "text": [
      "Iteration 3 - Current success count: 5083\n",
      "Iteration 3 - Current success_rxndbid count: 112159\n",
      "============================================================================\n"
     ]
    },
    {
     "name": "stderr",
     "output_type": "stream",
     "text": [
      "100%|██████████| 100/100 [00:04<00:00, 24.25it/s]\n",
      "100%|██████████| 100/100 [00:03<00:00, 27.12it/s]\n"
     ]
    },
    {
     "name": "stdout",
     "output_type": "stream",
     "text": [
      "Iteration 4 - Current success count: 5090\n",
      "Iteration 4 - Current success_rxndbid count: 112242\n",
      "============================================================================\n"
     ]
    },
    {
     "name": "stderr",
     "output_type": "stream",
     "text": [
      "100%|██████████| 100/100 [00:03<00:00, 26.49it/s]\n",
      "100%|██████████| 100/100 [00:03<00:00, 27.88it/s]\n"
     ]
    },
    {
     "name": "stdout",
     "output_type": "stream",
     "text": [
      "Iteration 5 - Current success count: 5095\n",
      "Iteration 5 - Current success_rxndbid count: 112318\n",
      "============================================================================\n"
     ]
    },
    {
     "name": "stderr",
     "output_type": "stream",
     "text": [
      "100%|██████████| 100/100 [00:04<00:00, 24.02it/s]\n",
      "100%|██████████| 100/100 [00:03<00:00, 28.52it/s]\n"
     ]
    },
    {
     "name": "stdout",
     "output_type": "stream",
     "text": [
      "Iteration 6 - Current success count: 5097\n",
      "Iteration 6 - Current success_rxndbid count: 112345\n",
      "============================================================================\n"
     ]
    },
    {
     "name": "stderr",
     "output_type": "stream",
     "text": [
      "100%|██████████| 100/100 [00:04<00:00, 23.39it/s]\n",
      "100%|██████████| 100/100 [00:03<00:00, 28.22it/s]\n"
     ]
    },
    {
     "name": "stdout",
     "output_type": "stream",
     "text": [
      "Iteration 7 - Current success count: 5097\n",
      "Iteration 7 - Current success_rxndbid count: 112345\n",
      "============================================================================\n",
      "final success 5097\n",
      "final success_rxndbid 112345\n"
     ]
    }
   ],
   "source": [
    "smile_max_score_pd = calculate_save_smiles_max_score(rxndb_all_smiles, yeast8_total_smiles,rxndb_met_max_score_file,num_processes=num_process)\n",
    "# smiles_max_score_tmp_pd = pd.read_csv(rxndb_met_max_score_uptake_file)\n",
    "\n",
    "smiles_success,success_rxndbid,smiles_max_score_tmp_pd = process_reactions_in_parallel_reactant(rxndb_df, smile_max_score_pd, num_processes=num_process, num_iterations=7)\n",
    "smiles_max_score_tmp_pd.to_csv(rxndb_met_max_score_uptake_file,index=None)\n",
    "\n",
    "\n",
    "\n"
   ]
  },
  {
   "cell_type": "code",
   "execution_count": 23,
   "metadata": {},
   "outputs": [
    {
     "name": "stdout",
     "output_type": "stream",
     "text": [
      "success number: 254\n",
      "fail number: 321\n"
     ]
    }
   ],
   "source": [
    "save_success_fail_target_smiles(target_smiles_path,smiles_success,YMDB_success_met_smile_uptake_file,YMDB_fail_met_smile_uptake_file)\n"
   ]
  },
  {
   "cell_type": "code",
   "execution_count": 24,
   "metadata": {},
   "outputs": [
    {
     "name": "stdout",
     "output_type": "stream",
     "text": [
      "(112345, 10)\n",
      "(112345, 10)\n",
      "(112345, 5)\n",
      "(112345, 5)\n"
     ]
    }
   ],
   "source": [
    "save_rxndb_to_model(rxndb_df,success_rxndbid,rxndb_to_model_path)\n"
   ]
  },
  {
   "cell_type": "code",
   "execution_count": 25,
   "metadata": {},
   "outputs": [
    {
     "name": "stdout",
     "output_type": "stream",
     "text": [
      "4\n"
     ]
    }
   ],
   "source": [
    "smiles_success = load_pickle(YMDB_success_met_smile_file)\n",
    "smiles_success_uptake = load_pickle(YMDB_success_met_smile_uptake_file)\n",
    "diff = [x for x in smiles_success_uptake if x not in smiles_success]\n",
    "uptake_synthesis = [x for x in diff if x not in uptake_smiles]\n",
    "print(len(uptake_synthesis))"
   ]
  },
  {
   "cell_type": "markdown",
   "metadata": {},
   "source": [
    "### RXNDB gene annotation"
   ]
  },
  {
   "cell_type": "code",
   "execution_count": 26,
   "metadata": {},
   "outputs": [
    {
     "name": "stdout",
     "output_type": "stream",
     "text": [
      "data: (112345, 5)\n"
     ]
    }
   ],
   "source": [
    "data = pd.read_csv(rxndb_to_model_path)\n",
    "print('data:',data.shape)"
   ]
  },
  {
   "cell_type": "markdown",
   "metadata": {},
   "source": [
    "### CLEAN"
   ]
  },
  {
   "cell_type": "code",
   "execution_count": 27,
   "metadata": {},
   "outputs": [],
   "source": [
    "clean_gene2ec_dict = get_gene2ec_dict_clean(sce_gene_clean_ec)"
   ]
  },
  {
   "cell_type": "markdown",
   "metadata": {},
   "source": [
    "### DeepECv2"
   ]
  },
  {
   "cell_type": "code",
   "execution_count": 28,
   "metadata": {},
   "outputs": [],
   "source": [
    "DeepEC_gene2ec_dict = get_gene2ec_dict_DeepEC(DeepEC_path)"
   ]
  },
  {
   "cell_type": "code",
   "execution_count": 29,
   "metadata": {},
   "outputs": [
    {
     "name": "stdout",
     "output_type": "stream",
     "text": [
      "154\n"
     ]
    }
   ],
   "source": [
    "clean_deepec_gene2ec_dict = {}\n",
    "for k,v in clean_gene2ec_dict.items():\n",
    "    if k in DeepEC_gene2ec_dict:\n",
    "        clean_deepec_gene2ec_dict[k] = v\n",
    "clean_deepec_ec2gene_dict = get_ec2gene_dict_clean(clean_deepec_gene2ec_dict)\n",
    "print(len(clean_deepec_ec2gene_dict))"
   ]
  },
  {
   "cell_type": "code",
   "execution_count": 30,
   "metadata": {},
   "outputs": [
    {
     "name": "stdout",
     "output_type": "stream",
     "text": [
      "rxndb all ec num 148\n",
      "rxndb with GPR: (112004, 6)\n"
     ]
    }
   ],
   "source": [
    "rxndb_with_GPR = rxndb_gene_annotation(rxndb_to_model_path,clean_deepec_ec2gene_dict)\n",
    "rxndb_with_GPR = rxndb_with_GPR[rxndb_with_GPR['GENE'].apply(lambda x: len(x) > 0)]\n",
    "rxndb_with_GPR.to_csv(rxndb_GPR_to_model_path,index=None)\n",
    "print('rxndb with GPR:',rxndb_with_GPR.shape)\n"
   ]
  },
  {
   "cell_type": "code",
   "execution_count": 31,
   "metadata": {},
   "outputs": [
    {
     "data": {
      "text/html": [
       "<div>\n",
       "<style scoped>\n",
       "    .dataframe tbody tr th:only-of-type {\n",
       "        vertical-align: middle;\n",
       "    }\n",
       "\n",
       "    .dataframe tbody tr th {\n",
       "        vertical-align: top;\n",
       "    }\n",
       "\n",
       "    .dataframe thead th {\n",
       "        text-align: right;\n",
       "    }\n",
       "</style>\n",
       "<table border=\"1\" class=\"dataframe\">\n",
       "  <thead>\n",
       "    <tr style=\"text-align: right;\">\n",
       "      <th></th>\n",
       "      <th>NO</th>\n",
       "      <th>EC number</th>\n",
       "      <th>templateID</th>\n",
       "      <th>rxn_smiles_basic</th>\n",
       "      <th>rxn_smiles_final</th>\n",
       "      <th>GENE</th>\n",
       "    </tr>\n",
       "  </thead>\n",
       "  <tbody>\n",
       "    <tr>\n",
       "      <th>0</th>\n",
       "      <td>rxn1</td>\n",
       "      <td>[1.1.1, 1.3.1]</td>\n",
       "      <td>MNXR100327_reverse</td>\n",
       "      <td>OCC(O)CO&gt;&gt;O=C(CO)CO</td>\n",
       "      <td>OCC(O)CO.NC(=O)c1ccc[n+]([C@@H]2O[C@H](COP(=O)...</td>\n",
       "      <td>[YLR174W, YHR183W, YJR096W, YNL241C, YIL074C, ...</td>\n",
       "    </tr>\n",
       "    <tr>\n",
       "      <th>1</th>\n",
       "      <td>rxn2</td>\n",
       "      <td>[1.1.1, 1.3.1]</td>\n",
       "      <td>MNXR100327_reverse</td>\n",
       "      <td>OCC(O)C(O)C(O)C(O)CO&gt;&gt;O=C(CO)C(O)C(O)C(O)CO</td>\n",
       "      <td>OCC(O)C(O)C(O)C(O)CO.NC(=O)c1ccc[n+]([C@@H]2O[...</td>\n",
       "      <td>[YLR174W, YHR183W, YJR096W, YNL241C, YIL074C, ...</td>\n",
       "    </tr>\n",
       "    <tr>\n",
       "      <th>2</th>\n",
       "      <td>rxn3</td>\n",
       "      <td>[1.1.1, 1.3.1]</td>\n",
       "      <td>MNXR100327_reverse</td>\n",
       "      <td>OCC(O)C(O)C(O)CO&gt;&gt;O=C(CO)C(O)C(O)CO</td>\n",
       "      <td>OCC(O)C(O)C(O)CO.NC(=O)c1ccc[n+]([C@@H]2O[C@H]...</td>\n",
       "      <td>[YLR174W, YHR183W, YJR096W, YNL241C, YIL074C, ...</td>\n",
       "    </tr>\n",
       "    <tr>\n",
       "      <th>3</th>\n",
       "      <td>rxn4</td>\n",
       "      <td>[1.1.1, 1.3.1]</td>\n",
       "      <td>MNXR100327_reverse</td>\n",
       "      <td>O=C([O-])C(O)C(O)C(O)C(O)CO&gt;&gt;O=C([O-])C(O)C(O)...</td>\n",
       "      <td>O=C([O-])C(O)C(O)C(O)C(O)CO.NC(=O)c1ccc[n+]([C...</td>\n",
       "      <td>[YLR174W, YHR183W, YJR096W, YNL241C, YIL074C, ...</td>\n",
       "    </tr>\n",
       "    <tr>\n",
       "      <th>4</th>\n",
       "      <td>rxn5</td>\n",
       "      <td>[1.1.1, 1.3.1]</td>\n",
       "      <td>MNXR100327_reverse</td>\n",
       "      <td>O=C(O)C(O)C(O)C(O)C(O)CO&gt;&gt;O=C(O)C(=O)C(O)C(O)C...</td>\n",
       "      <td>O=C(O)C(O)C(O)C(O)C(O)CO.NC(=O)c1ccc[n+]([C@@H...</td>\n",
       "      <td>[YLR174W, YHR183W, YJR096W, YNL241C, YIL074C, ...</td>\n",
       "    </tr>\n",
       "  </tbody>\n",
       "</table>\n",
       "</div>"
      ],
      "text/plain": [
       "     NO       EC number          templateID  \\\n",
       "0  rxn1  [1.1.1, 1.3.1]  MNXR100327_reverse   \n",
       "1  rxn2  [1.1.1, 1.3.1]  MNXR100327_reverse   \n",
       "2  rxn3  [1.1.1, 1.3.1]  MNXR100327_reverse   \n",
       "3  rxn4  [1.1.1, 1.3.1]  MNXR100327_reverse   \n",
       "4  rxn5  [1.1.1, 1.3.1]  MNXR100327_reverse   \n",
       "\n",
       "                                    rxn_smiles_basic  \\\n",
       "0                                OCC(O)CO>>O=C(CO)CO   \n",
       "1        OCC(O)C(O)C(O)C(O)CO>>O=C(CO)C(O)C(O)C(O)CO   \n",
       "2                OCC(O)C(O)C(O)CO>>O=C(CO)C(O)C(O)CO   \n",
       "3  O=C([O-])C(O)C(O)C(O)C(O)CO>>O=C([O-])C(O)C(O)...   \n",
       "4  O=C(O)C(O)C(O)C(O)C(O)CO>>O=C(O)C(=O)C(O)C(O)C...   \n",
       "\n",
       "                                    rxn_smiles_final  \\\n",
       "0  OCC(O)CO.NC(=O)c1ccc[n+]([C@@H]2O[C@H](COP(=O)...   \n",
       "1  OCC(O)C(O)C(O)C(O)CO.NC(=O)c1ccc[n+]([C@@H]2O[...   \n",
       "2  OCC(O)C(O)C(O)CO.NC(=O)c1ccc[n+]([C@@H]2O[C@H]...   \n",
       "3  O=C([O-])C(O)C(O)C(O)C(O)CO.NC(=O)c1ccc[n+]([C...   \n",
       "4  O=C(O)C(O)C(O)C(O)C(O)CO.NC(=O)c1ccc[n+]([C@@H...   \n",
       "\n",
       "                                                GENE  \n",
       "0  [YLR174W, YHR183W, YJR096W, YNL241C, YIL074C, ...  \n",
       "1  [YLR174W, YHR183W, YJR096W, YNL241C, YIL074C, ...  \n",
       "2  [YLR174W, YHR183W, YJR096W, YNL241C, YIL074C, ...  \n",
       "3  [YLR174W, YHR183W, YJR096W, YNL241C, YIL074C, ...  \n",
       "4  [YLR174W, YHR183W, YJR096W, YNL241C, YIL074C, ...  "
      ]
     },
     "execution_count": 31,
     "metadata": {},
     "output_type": "execute_result"
    }
   ],
   "source": [
    "rxndb_with_GPR.head()\n"
   ]
  },
  {
   "cell_type": "markdown",
   "metadata": {},
   "source": [
    "### rxndb metabolite annotation"
   ]
  },
  {
   "cell_type": "code",
   "execution_count": 32,
   "metadata": {},
   "outputs": [
    {
     "name": "stderr",
     "output_type": "stream",
     "text": [
      "100%|██████████| 112004/112004 [00:02<00:00, 37768.28it/s]"
     ]
    },
    {
     "name": "stdout",
     "output_type": "stream",
     "text": [
      "5096\n"
     ]
    },
    {
     "name": "stderr",
     "output_type": "stream",
     "text": [
      "\n"
     ]
    }
   ],
   "source": [
    "#rxndb all metabolites\n",
    "rxndb_all_smile = get_all_met_smile(rxndb_GPR_to_model_path)\n"
   ]
  },
  {
   "cell_type": "code",
   "execution_count": 33,
   "metadata": {},
   "outputs": [
    {
     "name": "stderr",
     "output_type": "stream",
     "text": [
      "100%|██████████| 5096/5096 [02:09<00:00, 39.26it/s]\n"
     ]
    }
   ],
   "source": [
    "#metabolite comparison\n",
    "yeast8_total_smiles = get_GEM_all_smiles(yeast_model_path)\n",
    "smile_max_score = calculate_smile_max_score_annotation(rxndb_all_smile,yeast8_total_smiles,num_process=num_process)\n",
    "smile_max_score_pd = pd.DataFrame(smile_max_score)\n",
    "smile_max_score_pd.to_csv(rxndb_met_max_score_met_annotation_file,index=None)\n"
   ]
  },
  {
   "cell_type": "code",
   "execution_count": 34,
   "metadata": {},
   "outputs": [
    {
     "name": "stderr",
     "output_type": "stream",
     "text": [
      "/home/haohao/underground/Underground_workflow/Code/retrosynthesis/not_lipid_retrosynthesis/../common.py:1353: SettingWithCopyWarning: \n",
      "A value is trying to be set on a copy of a slice from a DataFrame.\n",
      "Try using .loc[row_indexer,col_indexer] = value instead\n",
      "\n",
      "See the caveats in the documentation: https://pandas.pydata.org/pandas-docs/stable/user_guide/indexing.html#returning-a-view-versus-a-copy\n",
      "  yeast_id_mapping['smiles'] = yeast_id_mapping['smiles'].apply(normalize_smiles)\n",
      "/home/haohao/underground/Underground_workflow/Code/retrosynthesis/not_lipid_retrosynthesis/../common.py:1354: SettingWithCopyWarning: \n",
      "A value is trying to be set on a copy of a slice from a DataFrame.\n",
      "Try using .loc[row_indexer,col_indexer] = value instead\n",
      "\n",
      "See the caveats in the documentation: https://pandas.pydata.org/pandas-docs/stable/user_guide/indexing.html#returning-a-view-versus-a-copy\n",
      "  yeast_id_mapping['inchikey0'] = yeast_id_mapping['smiles'].apply(smiles2inchikey0)\n",
      "100%|██████████| 5096/5096 [00:03<00:00, 1559.08it/s]\n"
     ]
    }
   ],
   "source": [
    "#assign ID\n",
    "yeast8_id_smiles_mapping = get_yeast8_id_smiles_mapping(yeast_model_path)\n",
    "smile_max_score_pd_with_ID = assign_ID_to_RXNDB_met(smile_max_score_pd,yeast8_id_smiles_mapping,s = 'not_lipid')\n",
    "metabolites_info_to_GEM = get_new_met_smile_list(smile_max_score_pd_with_ID)\n",
    "metabolites_info_to_GEM.to_csv(metabolites_info_to_GEM_path,index=None)\n",
    "\n"
   ]
  },
  {
   "cell_type": "markdown",
   "metadata": {},
   "source": [
    "### Generate equation according to metabolite ID"
   ]
  },
  {
   "cell_type": "code",
   "execution_count": 35,
   "metadata": {},
   "outputs": [
    {
     "name": "stdout",
     "output_type": "stream",
     "text": [
      "5096\n"
     ]
    }
   ],
   "source": [
    "smiles_to_id_mapping = get_smiles_to_id_mapping(metabolites_info_to_GEM_path)\n",
    "print(len(smiles_to_id_mapping))"
   ]
  },
  {
   "cell_type": "code",
   "execution_count": 36,
   "metadata": {},
   "outputs": [
    {
     "name": "stdout",
     "output_type": "stream",
     "text": [
      "(103543, 8)\n"
     ]
    }
   ],
   "source": [
    "rxndb_total_info_to_model = get_rxndb_to_model_total_info(rxndb_GPR_to_model_path,smiles_to_id_mapping)\n",
    "rxndb_total_info_to_model = rxndb_total_info_to_model[['NO','EC_number','templateID','rxn_smiles_basic','rxn_smiles_final','GPR','equation_dict','equation']]\n",
    "rxndb_total_info_to_model.to_csv(rxndb_total_info_to_model_path,index=None)\n",
    "print(rxndb_total_info_to_model.shape)"
   ]
  },
  {
   "cell_type": "markdown",
   "metadata": {},
   "source": [
    "### check the formula of the model metabolites in the predicted reaction"
   ]
  },
  {
   "cell_type": "code",
   "execution_count": 37,
   "metadata": {},
   "outputs": [
    {
     "name": "stdout",
     "output_type": "stream",
     "text": [
      "formula error_met set()\n"
     ]
    },
    {
     "name": "stderr",
     "output_type": "stream",
     "text": [
      "0it [00:00, ?it/s]\n"
     ]
    },
    {
     "name": "stdout",
     "output_type": "stream",
     "text": [
      "(103543, 8)\n"
     ]
    }
   ],
   "source": [
    "metabolites_info_to_GEM,rxndb_total_info_to_model = check_met_and_reaction_formula(yeast_model_path,metabolites_info_to_GEM_path,rxndb_total_info_to_model_path)\n",
    "metabolites_info_to_GEM.to_csv(metabolites_info_to_GEM_path,index=None)\n",
    "rxndb_total_info_to_model.to_csv(rxndb_total_info_to_model_path,index=None)\n",
    "print(rxndb_total_info_to_model.shape)"
   ]
  },
  {
   "cell_type": "markdown",
   "metadata": {},
   "source": [
    "### remove duplicate reactions and existing reactions"
   ]
  },
  {
   "cell_type": "code",
   "execution_count": 38,
   "metadata": {},
   "outputs": [
    {
     "name": "stdout",
     "output_type": "stream",
     "text": [
      "(103543, 8)\n"
     ]
    },
    {
     "name": "stderr",
     "output_type": "stream",
     "text": [
      "100%|██████████| 103543/103543 [00:04<00:00, 24477.26it/s]\n",
      "100%|██████████| 103543/103543 [06:19<00:00, 273.14it/s]\n",
      "100%|██████████| 103543/103543 [00:03<00:00, 26086.90it/s]\n"
     ]
    },
    {
     "name": "stdout",
     "output_type": "stream",
     "text": [
      "(9377, 8)\n"
     ]
    }
   ],
   "source": [
    "same_rxndb_reaction = get_same_rxndb_reaction_mapping(rxndb_total_info_to_model_path)\n",
    "rxndb_total_info_to_model = get_no_same_rxndb_reaction_parallelize(rxndb_total_info_to_model_path,get_no_same_rxndb_reaction,same_rxndb_reaction,n_cores=num_process)\n",
    "rxndb_total_info_to_model.to_csv(rxndb_total_info_to_model_path,index=None)\n",
    "print(rxndb_total_info_to_model.shape)"
   ]
  },
  {
   "cell_type": "code",
   "execution_count": 39,
   "metadata": {},
   "outputs": [],
   "source": [
    "met_info = pd.read_csv(metabolites_info_to_GEM_path)\n",
    "rxndb_to_model_total_info = pd.read_csv(rxndb_total_info_to_model_path)"
   ]
  },
  {
   "cell_type": "markdown",
   "metadata": {},
   "source": [
    "### Find out the reactions that already exist in the model"
   ]
  },
  {
   "cell_type": "code",
   "execution_count": 40,
   "metadata": {},
   "outputs": [],
   "source": [
    "with open(miss_met_id_file) as f:\n",
    "    miss_met_id = json.load(f) \n",
    "model = cobra.io.load_yaml_model(yeast870_path)\n"
   ]
  },
  {
   "cell_type": "markdown",
   "metadata": {},
   "source": [
    "### yeast8_smiles_list, ID with smiles"
   ]
  },
  {
   "cell_type": "code",
   "execution_count": 41,
   "metadata": {},
   "outputs": [
    {
     "name": "stdout",
     "output_type": "stream",
     "text": [
      "2124\n",
      "['s_0006', 's_0007', 's_0008', 's_0009', 's_0010', 's_0011', 's_0012', 's_0013', 's_0014', 's_0015', 's_0016', 's_0017', 's_0018', 's_0019', 's_0020', 's_0021', 's_0022', 's_0023', 's_0024', 's_0025', 's_0026', 's_0027', 's_0028', 's_0029', 's_0030', 's_0031', 's_0032', 's_0033', 's_0034', 's_0035', 's_0036', 's_0037', 's_0038', 's_0039', 's_0042', 's_0045', 's_0048', 's_0051', 's_0054', 's_0056', 's_0058', 's_0060', 's_0061', 's_0062', 's_0063', 's_0064', 's_0065', 's_0066', 's_0067', 's_0068', 's_0069', 's_0075', 's_0076', 's_0077', 's_0078', 's_0079', 's_0080', 's_0086', 's_0087', 's_0116', 's_0117', 's_0118', 's_0119', 's_0120', 's_0121', 's_0122', 's_0123', 's_0124', 's_0125', 's_0126', 's_0127', 's_0129', 's_0131', 's_0132', 's_0133', 's_0134', 's_0135', 's_0136', 's_0137', 's_0138', 's_0139', 's_0140', 's_0141', 's_0142', 's_0143', 's_0144', 's_0145', 's_0146', 's_0147', 's_0148', 's_0149', 's_0150', 's_0152', 's_0153', 's_0154', 's_0155', 's_0156', 's_0157', 's_0158', 's_0161', 's_0162', 's_0163', 's_0164', 's_0165', 's_0166', 's_0167', 's_0168', 's_0169', 's_0170', 's_0171', 's_0172', 's_0173', 's_0174', 's_0176', 's_0177', 's_0178', 's_0179', 's_0180', 's_0181', 's_0182', 's_0183', 's_0184', 's_0185', 's_0186', 's_0187', 's_0188', 's_0189', 's_0190', 's_0191', 's_0192', 's_0193', 's_0194', 's_0195', 's_0196', 's_0197', 's_0200', 's_0201', 's_0204', 's_0206', 's_0207', 's_0208', 's_0209', 's_0210', 's_0211', 's_0212', 's_0213', 's_0214', 's_0215', 's_0216', 's_0217', 's_0218', 's_0221', 's_0222', 's_0224', 's_0229', 's_0231', 's_0232', 's_0233', 's_0234', 's_0235', 's_0236', 's_0239', 's_0243', 's_0247', 's_0250', 's_0253', 's_0257', 's_0258', 's_0259', 's_0260', 's_0261', 's_0262', 's_0263', 's_0264', 's_0267', 's_0268', 's_0269', 's_0270', 's_0271', 's_0272', 's_0273', 's_0274', 's_0275', 's_0279', 's_0280', 's_0281', 's_0282', 's_0283', 's_0284', 's_0285', 's_0286', 's_0287', 's_0290', 's_0291', 's_0292', 's_0293', 's_0294', 's_0295', 's_0296', 's_0297', 's_0298', 's_0299', 's_0300', 's_0301', 's_0302', 's_0303', 's_0304', 's_0305', 's_0306', 's_0307', 's_0308', 's_0309', 's_0310', 's_0311', 's_0312', 's_0313', 's_0314', 's_0315', 's_0316', 's_0317', 's_0318', 's_0319', 's_0320', 's_0321', 's_0322', 's_0323', 's_0324', 's_0325', 's_0326', 's_0327', 's_0328', 's_0329', 's_0333', 's_0335', 's_0340', 's_0341', 's_0342', 's_0343', 's_0344', 's_0345', 's_0346', 's_0347', 's_0348', 's_0349', 's_0350', 's_0352', 's_0354', 's_0357', 's_0358', 's_0359', 's_0360', 's_0361', 's_0362', 's_0363', 's_0364', 's_0365', 's_0366', 's_0367', 's_0370', 's_0373', 's_0376', 's_0377', 's_0378', 's_0383', 's_0384', 's_0385', 's_0386', 's_0387', 's_0389', 's_0390', 's_0391', 's_0392', 's_0393', 's_0394', 's_0395', 's_0397', 's_0398', 's_0399', 's_0402', 's_0403', 's_0405', 's_0406', 's_0407', 's_0408', 's_0409', 's_0410', 's_0411', 's_0412', 's_0413', 's_0415', 's_0416', 's_0417', 's_0418', 's_0419', 's_0420', 's_0421', 's_0423', 's_0424', 's_0425', 's_0426', 's_0427', 's_0434', 's_0435', 's_0437', 's_0438', 's_0439', 's_0441', 's_0442', 's_0445', 's_0446', 's_0447', 's_0448', 's_0451', 's_0452', 's_0453', 's_0454', 's_0455', 's_0456', 's_0457', 's_0458', 's_0460', 's_0461', 's_0462', 's_0467', 's_0468', 's_0469', 's_0474', 's_0475', 's_0476', 's_0477', 's_0478', 's_0479', 's_0480', 's_0481', 's_0482', 's_0483', 's_0484', 's_0485', 's_0486', 's_0487', 's_0488', 's_0489', 's_0490', 's_0491', 's_0492', 's_0493', 's_0494', 's_0495', 's_0496', 's_0497', 's_0498', 's_0499', 's_0500', 's_0501', 's_0502', 's_0503', 's_0504', 's_0507', 's_0511', 's_0512', 's_0513', 's_0514', 's_0515', 's_0516', 's_0517', 's_0522', 's_0523', 's_0524', 's_0525', 's_0526', 's_0528', 's_0529', 's_0530', 's_0531', 's_0532', 's_0533', 's_0534', 's_0538', 's_0539', 's_0541', 's_0543', 's_0544', 's_0545', 's_0546', 's_0547', 's_0548', 's_0549', 's_0550', 's_0551', 's_0552', 's_0553', 's_0554', 's_0555', 's_0556', 's_0557', 's_0558', 's_0559', 's_0560', 's_0561', 's_0562', 's_0563', 's_0565', 's_0566', 's_0567', 's_0568', 's_0570', 's_0571', 's_0572', 's_0573', 's_0574', 's_0575', 's_0576', 's_0577', 's_0578', 's_0579', 's_0580', 's_0581', 's_0582', 's_0583', 's_0584', 's_0585', 's_0586', 's_0587', 's_0588', 's_0589', 's_0590', 's_0591', 's_0593', 's_0595', 's_0597', 's_0600', 's_0605', 's_0606', 's_0607', 's_0608', 's_0609', 's_0610', 's_0611', 's_0612', 's_0613', 's_0614', 's_0615', 's_0616', 's_0617', 's_0618', 's_0625', 's_0626', 's_0627', 's_0629', 's_0631', 's_0632', 's_0633', 's_0635', 's_0636', 's_0637', 's_0638', 's_0639', 's_0640', 's_0641', 's_0647', 's_0649', 's_0650', 's_0651', 's_0652', 's_0653', 's_0654', 's_0655', 's_0656', 's_0657', 's_0659', 's_0662', 's_0663', 's_0664', 's_0665', 's_0666', 's_0667', 's_0668', 's_0669', 's_0670', 's_0677', 's_0678', 's_0679', 's_0680', 's_0681', 's_0682', 's_0683', 's_0684', 's_0685', 's_0686', 's_0687', 's_0688', 's_0689', 's_0690', 's_0692', 's_0699', 's_0700', 's_0702', 's_0703', 's_0712', 's_0714', 's_0715', 's_0716', 's_0717', 's_0719', 's_0720', 's_0721', 's_0722', 's_0723', 's_0724', 's_0725', 's_0726', 's_0727', 's_0734', 's_0736', 's_0738', 's_0739', 's_0740', 's_0741', 's_0742', 's_0743', 's_0744', 's_0745', 's_0746', 's_0750', 's_0751', 's_0752', 's_0753', 's_0754', 's_0755', 's_0756', 's_0764', 's_0765', 's_0766', 's_0767', 's_0769', 's_0770', 's_0771', 's_0775', 's_0776', 's_0777', 's_0779', 's_0780', 's_0781', 's_0782', 's_0783', 's_0785', 's_0786', 's_0787', 's_0788', 's_0789', 's_0790', 's_0791', 's_0792', 's_0793', 's_0794', 's_0795', 's_0796', 's_0797', 's_0798', 's_0799', 's_0800', 's_0801', 's_0802', 's_0803', 's_0804', 's_0805', 's_0806', 's_0807', 's_0808', 's_0809', 's_0810', 's_0811', 's_0812', 's_0813', 's_0814', 's_0815', 's_0816', 's_0817', 's_0819', 's_0823', 's_0825', 's_0826', 's_0829', 's_0830', 's_0831', 's_0834', 's_0835', 's_0836', 's_0837', 's_0838', 's_0839', 's_0840', 's_0841', 's_0843', 's_0844', 's_0845', 's_0846', 's_0849', 's_0850', 's_0851', 's_0852', 's_0853', 's_0854', 's_0855', 's_0856', 's_0857', 's_0861', 's_0862', 's_0863', 's_0864', 's_0865', 's_0866', 's_0867', 's_0868', 's_0869', 's_0870', 's_0871', 's_0872', 's_0873', 's_0874', 's_0875', 's_0876', 's_0877', 's_0878', 's_0879', 's_0880', 's_0881', 's_0882', 's_0883', 's_0884', 's_0885', 's_0886', 's_0887', 's_0888', 's_0889', 's_0890', 's_0894', 's_0895', 's_0896', 's_0897', 's_0898', 's_0899', 's_0900', 's_0901', 's_0902', 's_0903', 's_0904', 's_0905', 's_0906', 's_0907', 's_0908', 's_0909', 's_0910', 's_0911', 's_0912', 's_0913', 's_0914', 's_0915', 's_0916', 's_0917', 's_0918', 's_0919', 's_0920', 's_0921', 's_0922', 's_0923', 's_0924', 's_0925', 's_0926', 's_0927', 's_0928', 's_0929', 's_0930', 's_0931', 's_0932', 's_0933', 's_0934', 's_0935', 's_0936', 's_0937', 's_0938', 's_0939', 's_0940', 's_0941', 's_0942', 's_0943', 's_0944', 's_0945', 's_0946', 's_0949', 's_0950', 's_0951', 's_0952', 's_0953', 's_0954', 's_0955', 's_0956', 's_0957', 's_0958', 's_0959', 's_0960', 's_0961', 's_0962', 's_0963', 's_0964', 's_0965', 's_0966', 's_0967', 's_0968', 's_0969', 's_0970', 's_0971', 's_0972', 's_0973', 's_0974', 's_0975', 's_0976', 's_0977', 's_0978', 's_0979', 's_0980', 's_0981', 's_0982', 's_0983', 's_0984', 's_0985', 's_0986', 's_0987', 's_0988', 's_0989', 's_0990', 's_0991', 's_0992', 's_0993', 's_0994', 's_0995', 's_0996', 's_0997', 's_0999', 's_1000', 's_1001', 's_1002', 's_1003', 's_1004', 's_1005', 's_1006', 's_1007', 's_1008', 's_1009', 's_1010', 's_1011', 's_1012', 's_1014', 's_1015', 's_1016', 's_1017', 's_1018', 's_1019', 's_1020', 's_1021', 's_1022', 's_1023', 's_1024', 's_1025', 's_1026', 's_1027', 's_1028', 's_1029', 's_1030', 's_1031', 's_1032', 's_1033', 's_1034', 's_1035', 's_1036', 's_1037', 's_1038', 's_1039', 's_1040', 's_1041', 's_1042', 's_1043', 's_1044', 's_1045', 's_1046', 's_1047', 's_1048', 's_1049', 's_1050', 's_1051', 's_1052', 's_1053', 's_1054', 's_1055', 's_1056', 's_1057', 's_1058', 's_1059', 's_1061', 's_1065', 's_1067', 's_1070', 's_1073', 's_1076', 's_1079', 's_1080', 's_1081', 's_1082', 's_1085', 's_1097', 's_1101', 's_1104', 's_1105', 's_1106', 's_1109', 's_1110', 's_1111', 's_1112', 's_1116', 's_1117', 's_1118', 's_1119', 's_1120', 's_1121', 's_1122', 's_1123', 's_1124', 's_1125', 's_1126', 's_1127', 's_1128', 's_1129', 's_1130', 's_1131', 's_1132', 's_1133', 's_1134', 's_1135', 's_1136', 's_1137', 's_1138', 's_1139', 's_1140', 's_1141', 's_1142', 's_1143', 's_1144', 's_1145', 's_1150', 's_1151', 's_1153', 's_1154', 's_1156', 's_1157', 's_1158', 's_1159', 's_1161', 's_1163', 's_1166', 's_1176', 's_1179', 's_1180', 's_1181', 's_1182', 's_1183', 's_1185', 's_1186', 's_1187', 's_1188', 's_1189', 's_1190', 's_1191', 's_1192', 's_1193', 's_1194', 's_1195', 's_1196', 's_1198', 's_1199', 's_1200', 's_1201', 's_1202', 's_1203', 's_1204', 's_1205', 's_1206', 's_1207', 's_1208', 's_1210', 's_1211', 's_1212', 's_1213', 's_1214', 's_1215', 's_1216', 's_1217', 's_1218', 's_1219', 's_1220', 's_1221', 's_1222', 's_1223', 's_1224', 's_1225', 's_1227', 's_1228', 's_1229', 's_1230', 's_1231', 's_1232', 's_1233', 's_1234', 's_1235', 's_1236', 's_1237', 's_1238', 's_1239', 's_1240', 's_1241', 's_1246', 's_1248', 's_1250', 's_1253', 's_1258', 's_1259', 's_1260', 's_1262', 's_1265', 's_1266', 's_1267', 's_1268', 's_1269', 's_1270', 's_1271', 's_1272', 's_1273', 's_1274', 's_1275', 's_1276', 's_1277', 's_1278', 's_1279', 's_1282', 's_1283', 's_1284', 's_1286', 's_1288', 's_1291', 's_1293', 's_1295', 's_1298', 's_1302', 's_1303', 's_1305', 's_1307', 's_1308', 's_1310', 's_1311', 's_1312', 's_1313', 's_1316', 's_1317', 's_1318', 's_1319', 's_1320', 's_1321', 's_1322', 's_1323', 's_1324', 's_1325', 's_1326', 's_1329', 's_1360', 's_1361', 's_1364', 's_1365', 's_1366', 's_1367', 's_1368', 's_1371', 's_1372', 's_1373', 's_1374', 's_1375', 's_1376', 's_1377', 's_1378', 's_1382', 's_1383', 's_1384', 's_1385', 's_1386', 's_1387', 's_1388', 's_1389', 's_1390', 's_1391', 's_1392', 's_1393', 's_1394', 's_1395', 's_1396', 's_1397', 's_1398', 's_1399', 's_1400', 's_1401', 's_1403', 's_1404', 's_1405', 's_1406', 's_1407', 's_1408', 's_1409', 's_1411', 's_1412', 's_1413', 's_1415', 's_1416', 's_1418', 's_1419', 's_1420', 's_1421', 's_1422', 's_1423', 's_1424', 's_1425', 's_1426', 's_1427', 's_1429', 's_1430', 's_1431', 's_1432', 's_1433', 's_1435', 's_1439', 's_1440', 's_1441', 's_1442', 's_1443', 's_1444', 's_1445', 's_1446', 's_1447', 's_1448', 's_1449', 's_1450', 's_1451', 's_1454', 's_1457', 's_1458', 's_1459', 's_1460', 's_1461', 's_1464', 's_1466', 's_1467', 's_1468', 's_1469', 's_1470', 's_1471', 's_1472', 's_1473', 's_1474', 's_1475', 's_1476', 's_1477', 's_1479', 's_1480', 's_1482', 's_1483', 's_1486', 's_1487', 's_1488', 's_1489', 's_1490', 's_1493', 's_1494', 's_1497', 's_1498', 's_1503', 's_1504', 's_1507', 's_1510', 's_1513', 's_1516', 's_1519', 's_1520', 's_1521', 's_1522', 's_1523', 's_1526', 's_1529', 's_1530', 's_1531', 's_1532', 's_1535', 's_1537', 's_1538', 's_1539', 's_1540', 's_1541', 's_1542', 's_1543', 's_1544', 's_1545', 's_1546', 's_1547', 's_1548', 's_1549', 's_1550', 's_1551', 's_1552', 's_1553', 's_1554', 's_1555', 's_1556', 's_1557', 's_1558', 's_1559', 's_1560', 's_1563', 's_1564', 's_1565', 's_1566', 's_1567', 's_1568', 's_1569', 's_1571', 's_1572', 's_1576', 's_1577', 's_1579', 's_2763', 's_2764', 's_2766', 's_2768', 's_2781', 's_2782', 's_2783', 's_2784', 's_2785', 's_2786', 's_2787', 's_2788', 's_2789', 's_2790', 's_2791', 's_2792', 's_2793', 's_2794', 's_2795', 's_2796', 's_2797', 's_2798', 's_2799', 's_2800', 's_2801', 's_2802', 's_2803', 's_2804', 's_2805', 's_2806', 's_2807', 's_2808', 's_2809', 's_2810', 's_2811', 's_2812', 's_2813', 's_2814', 's_2815', 's_2816', 's_2817', 's_2818', 's_2819', 's_2820', 's_2821', 's_2822', 's_2824', 's_2826', 's_2828', 's_2829', 's_2831', 's_2832', 's_2833', 's_2834', 's_2835', 's_2836', 's_2837', 's_2838', 's_2839', 's_2840', 's_2841', 's_2842', 's_2843', 's_2844', 's_2845', 's_2846', 's_2847', 's_2848', 's_2849', 's_2850', 's_2851', 's_2852', 's_2853', 's_2854', 's_2855', 's_2856', 's_2857', 's_2858', 's_2859', 's_2860', 's_2861', 's_2862', 's_2863', 's_2864', 's_2865', 's_2866', 's_2867', 's_2868', 's_2869', 's_2870', 's_2871', 's_2872', 's_2873', 's_2874', 's_2875', 's_2876', 's_2877', 's_2878', 's_2879', 's_2880', 's_2881', 's_2882', 's_2883', 's_2884', 's_2885', 's_2886', 's_2887', 's_2888', 's_2889', 's_2890', 's_2891', 's_2892', 's_2894', 's_2897', 's_2898', 's_2899', 's_2900', 's_2902', 's_2903', 's_2904', 's_2905', 's_2906', 's_2907', 's_2911', 's_2912', 's_2913', 's_2914', 's_2915', 's_2916', 's_2917', 's_2918', 's_2919', 's_2924', 's_2925', 's_2927', 's_2928', 's_2930', 's_2931', 's_2932', 's_2933', 's_2934', 's_2935', 's_2936', 's_2937', 's_2938', 's_2939', 's_2940', 's_2942', 's_2943', 's_2944', 's_2945', 's_2946', 's_2947', 's_2948', 's_2950', 's_2951', 's_2952', 's_2953', 's_2954', 's_2955', 's_2956', 's_2957', 's_2958', 's_2959', 's_2960', 's_2961', 's_2962', 's_2963', 's_2964', 's_2965', 's_2966', 's_2967', 's_2968', 's_2969', 's_2970', 's_2971', 's_2972', 's_2973', 's_2974', 's_2975', 's_2976', 's_2977', 's_2978', 's_2979', 's_2980', 's_2981', 's_2982', 's_2983', 's_2984', 's_2985', 's_2986', 's_2987', 's_2988', 's_2989', 's_2990', 's_2991', 's_2992', 's_2993', 's_2994', 's_2995', 's_2996', 's_2997', 's_2998', 's_2999', 's_3000', 's_3001', 's_3002', 's_3003', 's_3004', 's_3005', 's_3006', 's_3007', 's_3008', 's_3009', 's_3010', 's_3011', 's_3012', 's_3016', 's_3018', 's_3019', 's_3021', 's_3023', 's_3027', 's_3028', 's_3031', 's_3037', 's_3038', 's_3041', 's_3042', 's_3043', 's_3044', 's_3045', 's_3046', 's_3047', 's_3049', 's_3051', 's_3053', 's_3054', 's_3055', 's_3057', 's_3058', 's_3059', 's_3061', 's_3063', 's_3067', 's_3068', 's_3071', 's_3077', 's_3078', 's_3081', 's_3082', 's_3083', 's_3085', 's_3088', 's_3091', 's_3092', 's_3093', 's_3094', 's_3095', 's_3097', 's_3098', 's_3099', 's_3101', 's_3103', 's_3104', 's_3105', 's_3107', 's_3108', 's_3109', 's_3110', 's_3111', 's_3112', 's_3113', 's_3114', 's_3115', 's_3116', 's_3117', 's_3118', 's_3120', 's_3122', 's_3124', 's_3126', 's_3128', 's_3129', 's_3131', 's_3132', 's_3133', 's_3135', 's_3136', 's_3137', 's_3139', 's_3141', 's_3143', 's_3145', 's_3146', 's_3147', 's_3149', 's_3150', 's_3151', 's_3153', 's_3154', 's_3155', 's_3157', 's_3159', 's_3161', 's_3163', 's_3164', 's_3165', 's_3167', 's_3168', 's_3169', 's_3171', 's_3172', 's_3173', 's_3175', 's_3177', 's_3179', 's_3182', 's_3183', 's_3185', 's_3189', 's_3198', 's_3206', 's_3208', 's_3209', 's_3210', 's_3212', 's_3213', 's_3214', 's_3215', 's_3216', 's_3217', 's_3218', 's_3219', 's_3224', 's_3226', 's_3228', 's_3232', 's_3234', 's_3235', 's_3236', 's_3237', 's_3238', 's_3239', 's_3241', 's_3243', 's_3245', 's_3259', 's_3261', 's_3263', 's_3271', 's_3277', 's_3297', 's_3298', 's_3299', 's_3300', 's_3301', 's_3302', 's_3303', 's_3305', 's_3306', 's_3307', 's_3320', 's_3321', 's_3322', 's_3323', 's_3324', 's_3328', 's_3332', 's_3336', 's_3337', 's_3340', 's_3341', 's_3342', 's_3346', 's_3350', 's_3354', 's_3355', 's_3358', 's_3359', 's_3360', 's_3364', 's_3368', 's_3372', 's_3373', 's_3376', 's_3380', 's_3384', 's_3388', 's_3389', 's_3398', 's_3399', 's_3406', 's_3414', 's_3428', 's_3429', 's_3430', 's_3431', 's_3432', 's_3433', 's_3434', 's_3435', 's_3436', 's_3437', 's_3438', 's_3439', 's_3440', 's_3441', 's_3442', 's_3443', 's_3444', 's_3445', 's_3446', 's_3447', 's_3449', 's_3450', 's_3451', 's_3452', 's_3453', 's_3454', 's_3455', 's_3456', 's_3457', 's_3459', 's_3460', 's_3461', 's_3462', 's_3463', 's_3464', 's_3467', 's_3471', 's_3477', 's_3478', 's_3479', 's_3480', 's_3481', 's_3482', 's_3483', 's_3484', 's_3485', 's_3486', 's_3487', 's_3488', 's_3489', 's_3490', 's_3491', 's_3492', 's_3493', 's_3494', 's_3495', 's_3497', 's_3498', 's_3500', 's_3502', 's_3504', 's_3506', 's_3508', 's_3509', 's_3510', 's_3512', 's_3513', 's_3514', 's_3515', 's_3516', 's_3517', 's_3518', 's_3519', 's_3520', 's_3521', 's_3522', 's_3523', 's_3524', 's_3525', 's_3526', 's_3527', 's_3528', 's_3529', 's_3530', 's_3531', 's_3532', 's_3533', 's_3534', 's_3536', 's_3542', 's_3543', 's_3545', 's_3549', 's_3553', 's_3556', 's_3557', 's_3558', 's_3566', 's_3567', 's_3574', 's_3575', 's_3582', 's_3590', 's_3614', 's_3620', 's_3628', 's_3632', 's_3634', 's_3636', 's_3638', 's_3640', 's_3642', 's_3644', 's_3646', 's_3648', 's_3650', 's_3652', 's_3654', 's_3656', 's_3657', 's_3658', 's_3659', 's_3660', 's_3661', 's_3662', 's_3663', 's_3664', 's_3665', 's_3666', 's_3667', 's_3668', 's_3669', 's_3670', 's_3675', 's_3677', 's_3678', 's_3680', 's_3682', 's_3684', 's_3694', 's_3695', 's_3696', 's_3697', 's_3698', 's_3699', 's_3700', 's_3702', 's_3703', 's_3704', 's_3706', 's_3708', 's_3714', 's_3715', 's_3716', 's_3750', 's_3751', 's_3752', 's_3753', 's_3755', 's_3757', 's_3758', 's_3759', 's_3760', 's_3761', 's_3762', 's_3763', 's_3764', 's_3766', 's_3768', 's_3769', 's_3770', 's_3772', 's_3776', 's_3779', 's_3780', 's_3781', 's_3785', 's_3787', 's_3788', 's_3789', 's_3790', 's_3791', 's_3792', 's_3793', 's_3794', 's_3795', 's_3796', 's_3797', 's_3798', 's_3799', 's_3800', 's_3801', 's_3802', 's_3805', 's_3806', 's_3807', 's_3810', 's_3811', 's_3812', 's_3813', 's_3814', 's_3815', 's_3818', 's_3820', 's_3822', 's_3823', 's_3828', 's_3829', 's_3831', 's_3837', 's_3838', 's_3839', 's_3840', 's_3841', 's_3843', 's_3846', 's_3847', 's_3848', 's_3849', 's_3850', 's_3851', 's_3852', 's_3855', 's_3858', 's_3859', 's_3860', 's_3861', 's_3862', 's_3863', 's_3864', 's_3867', 's_3868', 's_3871', 's_3872', 's_3873', 's_3874', 's_3875', 's_3881', 's_3883', 's_3890', 's_3892', 's_3897', 's_3898', 's_3899', 's_3900', 's_3901', 's_3903', 's_3904', 's_3905', 's_3906', 's_3910', 's_3913', 's_3914', 's_3915', 's_3916', 's_3923', 's_3924', 's_3925', 's_3931', 's_3933', 's_3934', 's_3935', 's_3936', 's_3942', 's_3943', 's_3948', 's_3949', 's_3950', 's_3951', 's_3952', 's_3953', 's_3954', 's_3958', 's_3959', 's_3960', 's_3961', 's_3962', 's_3963', 's_3964', 's_3965', 's_3966', 's_3967', 's_3968', 's_3969', 's_3970', 's_3971', 's_3972', 's_3973', 's_3974', 's_3975', 's_3976', 's_3977', 's_3978', 's_3979', 's_3980', 's_3981', 's_3982', 's_3983', 's_3984', 's_3987', 's_3988', 's_3991', 's_3992', 's_3997', 's_3998', 's_3999', 's_4005', 's_4009', 's_4010', 's_4011', 's_4012', 's_4013', 's_4014', 's_4015', 's_4016', 's_4017', 's_4021', 's_4022', 's_4023', 's_4025', 's_4026', 's_4027', 's_4031', 's_4034', 's_4035', 's_4036', 's_4037', 's_4038', 's_4039', 's_4040', 's_4041', 's_4042', 's_4043', 's_4044', 's_4045', 's_4046', 's_4047', 's_4048', 's_4049', 's_4050', 's_4051', 's_4052', 's_4053', 's_4054', 's_4055', 's_4056', 's_4057', 's_4058', 's_4059', 's_4060', 's_4061', 's_4062', 's_4063', 's_4064', 's_4065', 's_4066', 's_4067', 's_4068', 's_4069', 's_4070', 's_4071', 's_4072', 's_4073', 's_4074', 's_4075', 's_4076', 's_4077', 's_4078', 's_4079', 's_4080', 's_4081', 's_4082', 's_4083', 's_4084', 's_4085', 's_4086', 's_4087', 's_4088', 's_4089', 's_4090', 's_4091', 's_4092', 's_4093', 's_4094', 's_4095', 's_4096', 's_4097', 's_4098', 's_4099', 's_4100', 's_4101', 's_4102', 's_4103', 's_4104', 's_4105', 's_4106', 's_4107', 's_4108', 's_4109', 's_4110', 's_4111', 's_4112', 's_4113', 's_4114', 's_4115', 's_4116', 's_4117', 's_4118', 's_4119', 's_4120', 's_4121', 's_4122', 's_4123', 's_4124', 's_4125', 's_4126', 's_4127', 's_4128', 's_4129', 's_4130', 's_4131', 's_4132', 's_4133', 's_4134', 's_4135', 's_4136', 's_4137', 's_4138', 's_4139', 's_4140', 's_4141', 's_4142', 's_4143', 's_4144', 's_4145', 's_4146', 's_4147', 's_4148', 's_4149', 's_4150', 's_4151', 's_4152', 's_4153', 's_4154', 's_4155', 's_4156', 's_4157', 's_4158', 's_4159', 's_4160', 's_4161', 's_4162', 's_4163', 's_4164', 's_4165', 's_4166', 's_4167', 's_4168', 's_4169', 's_4170', 's_4171', 's_4172', 's_4173', 's_4174', 's_4175', 's_4176', 's_4177', 's_4178', 's_4179', 's_4180', 's_4181', 's_4182', 's_4183', 's_4184', 's_4189', 's_4190', 's_4191', 's_4192', 's_4193', 's_4194', 's_4195', 's_4196', 's_4198', 's_4202', 's_4203', 's_4204', 's_4207', 's_4212', 's_4213', 's_4214', 's_4215', 's_4216', 's_4217', 's_4218', 's_4219', 's_4220', 's_4221', 's_4222', 's_4223', 's_4224', 's_4225', 's_4226', 's_4227', 's_4228', 's_4229', 's_4230', 's_4231', 's_4232', 's_4233', 's_4234', 's_4235', 's_4236', 's_4237', 's_4238', 's_4239', 's_4240', 's_4241', 's_4242', 's_4243', 's_4244', 's_4245', 's_4246', 's_4247', 's_4248', 's_4249', 's_4250', 's_4251', 's_4252', 's_4253', 's_4258', 's_4259', 's_4261', 's_4262', 's_4263', 's_4264', 's_4267', 's_4268', 's_4269', 's_4270', 's_4271', 's_4272', 's_4273', 's_4274', 's_4275', 's_4276', 's_4277', 's_4278', 's_4279', 's_4280', 's_4281', 's_4282', 's_4283', 's_4284', 's_4285', 's_4286', 's_4287', 's_4288', 's_4289', 's_4293', 's_4294', 's_4295', 's_4296', 's_4297', 's_4298', 's_4299', 's_4300', 's_4301', 's_4302', 's_4303', 's_4304', 's_4305', 's_4306', 's_4307', 's_4308', 's_4309', 's_4310', 's_4311', 's_4312', 's_4313', 's_4314', 's_4315', 's_4316', 's_4317', 's_4318', 's_4319', 's_4320', 's_4321', 's_4322', 's_4323', 's_4324', 's_4325', 's_4326', 's_4327', 's_4328', 's_4329', 's_4330', 's_4331']\n",
      "945\n",
      "['CCCCCC/C=C\\\\CCCCCCCC(=O)O[C@@H](CO)COC(=O)CCCCCCCCCCCCCCC', 'O=CCC(O)C(O)CO', 'NC(Cc1ccc(O)cc1)C(=O)O', 'CC(=O)Oc1ccc(O)cc1', 'CC(C)C=O', 'Nc1nc2c(ncn2C2OC3COP(=O)(O)OC3C2O)c(=O)[nH]1', 'OCC(O)CO', 'CCCCC/C=C\\\\C/C=C\\\\CC(=O)SCCNC(=O)CCNC(=O)[C@H](O)C(C)(C)COP(=O)(O)OP(=O)(O)OC[C@H]1O[C@@H](n2cnc3c(N)ncnc32)[C@H](O)[C@@H]1OP(=O)(O)O', 'Cc1cn(C2CC(O)C(COP(=O)(O)OP(=O)(O)O)O2)c(=O)[nH]c1=O', 'O=P(O)(OCC(O)CO)OC1C(O)C(O)C(O)C(O)C1O', 'CC(=O)OCCC(N)C(=O)O', 'O=CC(O)C(O)C(O)C(O)COP(=O)(O)O', 'C=CC1=C(C)c2cc3[n-]c(cc4nc(cc5[n-]c(cc1n2)c(C)c5CCC(=O)O)C(CCC(=O)O)=C4C)c(C)c3C(O)CCC=C(C)CCC=C(C)CCC=C(C)C.[Fe+2]', 'CCCCCCCCCCCCCCCCCCCCCCCC(O)C(O)C(=O)NC(CO)C(O)C(O)CCCCCCCCCCCCCC', 'NC(=O)CCCN=C(N)N', 'CCCCCCCC=CC(=O)SCCNC(=O)CCNC(=O)C(O)C(C)(C)COP(=O)(O)OP(=O)(O)OCC1OC(n2cnc3c(N)ncnc32)C(O)C1OP(=O)(O)O', 'NCC(=O)CCC(=O)O', 'CCCCCCCC/C=C\\\\CCCCCCCC(=O)OC[C@H](COP(=O)(O)OCCN(C)C)OC(=O)CCCCCCC/C=C\\\\CCCCCCCC', 'CN1CC(=O)N=C1N', 'NC(CC(=O)OP(=O)(O)O)C(=O)O', 'O=C1OC(CO)C(O)=C1O', 'NC(Cc1ccc(OP(=O)(O)O)cc1)C(=O)O', 'C=C(CCC(C)C1CCC2C3=CCC4CC(OC(=O)CCCCCCCC=CCCCCCCCC)CCC4(C)C3CCC21C)C(C)C', 'CC=CC(=O)SCCNC(=O)CCNC(=O)C(O)C(C)(C)COP(=O)(O)OP(=O)(O)OCC1OC(n2cnc3c(N)ncnc32)C(O)C1OP(=O)(O)O', 'CCCCCCCCC=CCCCC(=O)SCCNC(=O)CCNC(=O)C(O)C(C)(C)COP(=O)(O)OP(=O)(O)OCC1OC(n2cnc3c(N)ncnc32)C(O)C1OP(=O)(O)O', 'O=C(O)CC(=O)C(=O)O', 'CCCCCCCC/C=C\\\\CCCCC[C@H](O)CC(=O)SCCNC(=O)CCNC(=O)[C@H](O)C(C)(C)COP(=O)(O)OP(=O)(O)OC[C@H]1O[C@@H](n2cnc3c(N)ncnc32)[C@H](O)[C@@H]1OP(=O)(O)O', 'O=C([O-])CCCCC1CCSS1', 'NC(=O)c1ncn([C@@H]2O[C@H](COP(=O)([O-])[O-])[C@@H](O)[C@H]2O)c1NC=O', 'NC(COP(=O)(O)O)Cc1cnc[nH]1', 'CCC(=O)C(=O)[O-]', 'CC(C)=CCCC(C)=CCCC(C)=CCCC(C)=CCCC(C)=CCCC(C)=CCCC(C)=CCCC(C)=CCCC(C)=CCCC(C)=CCCC(C)=CCCC(C)=CCCC(C)=CCCC(C)=CCCC(C)=CCCC(C)=CCCC(C)=CCOP(=O)(O)OP(=O)(O)O', 'CCCCCC=CCC(O)C=CC=CC=CC(O)CCCC(=O)O', 'Nc1ncnc2c1ncn2C1OC(COP(=O)(O)OC(=O)CCCCC2CCSS2)C(O)C1O', 'O=C(CO)C(O)C(O)C(O)COP(=O)(O)O', 'CC(N)C(=O)CCCCCC(=O)[O-]', 'NCCCN', 'O=CC(O)C(O)C(O)CO', 'O=C(O)CO', 'O=S([O-])([O-])=S', 'CCCCCCCCCCCC(=O)CC(=O)SCCNC(=O)CCNC(=O)C(O)C(C)(C)COP(=O)(O)OP(=O)(O)OCC1OC(n2cnc3c(N)ncnc32)C(O)C1OP(=O)(O)O', 'CCCCCCCCC=CCCCCCCCC(=O)OCC(O)CO', 'O=C([O-])C(=O)COP(=O)([O-])[O-]', 'NCCCCCNCCCN', 'CCCCCC/C=C\\\\CCCCCCCCCC(=O)O[C@@H](CO)COC(=O)CCCCCCCCCCCCCCC', 'OCC1OC(OCC2OC(O)(CO)C(O)C2O)C(O)C(O)C1O', 'O=CNC(Cc1ccc(O)c(-c2cc(CC(NC=O)C(=O)O)ccc2O)c1)C(=O)O', 'CCCCCC/C=C\\\\CCCCCCCC(=O)OC[C@H](COP(=O)(O)OC[C@H](N)C(=O)O)OC(=O)CCCCCCC/C=C\\\\CCCCCCCC', 'NC(C(=O)O)C(O)COP(=O)(O)O', 'O=C(O)C=C(CCC(=O)O)C(=O)O', 'COc1c(O)c(C)c(CC=C(C)CCC=C(C)CCC=C(C)CCC=C(C)CCC=C(C)CCC=C(C)C)c(O)c1OC', 'NCC=O', 'NCCCCC(N)C(=O)O', 'C=Cc1c(C)c2cc3nc(cc4[n-]c(cc5nc(cc1[n-]2)C(C)=C5CCC(=O)O)c(CCC(=O)O)c4C=O)C(C)=C3C(O)CCC=C(C)CCC=C(C)CCC=C(C)C.[Fe]', 'O=c1ccn(C2OC(COP(=O)(O)O)C(O)C2O)c(=O)[nH]1', 'CCCCCCCC(=O)[O-]', 'CCCCCC/C=C\\\\CCCCCCCC(=O)O[C@H](COC(=O)CCCCCCC/C=C\\\\CCCCCCCC)COP(=O)(O)O', 'NC1C(OC2C(O)C(O)C(O)C(O)C2OP(=O)(O)OCC(COC=O)OC=O)OC(CO)C(O)C1O', 'CCCCCC/C=C\\\\CCCCCCCC(=O)O[C@@H](CO)COC(=O)CCCCCCC/C=C\\\\CCCCCCCC', 'CC(C)C(=O)O', 'CCCC=CC(=O)SCCNC(=O)CCNC(=O)C(O)C(C)(C)COP(=O)(O)OP(=O)(O)OCC1OC(n2cnc3c(N)ncnc32)C(O)C1OP(=O)(O)O', 'O=P(O)(O)OC1C(O)C(O)C(O)C(O)C1OC1OC(COP(=O)(O)OC2C(O)C(O)C(O)C(O)C2O)C(O)C(O)C1O', 'CC(C)c1ccc(C=O)cc1', 'Nc1ccn(C2CC(O)C(COP(=O)(O)O)O2)c(=O)n1', 'NC(CCS)C(=O)O', 'CCCCCC/C=C\\\\CCCCCCCC(=O)OC[C@@H](O)COP(=O)([O-])OCC[N+](C)(C)C', 'CCCCCC/C=C\\\\CCCCCCCC(=O)OC[C@H](COP(=O)(O)OC[C@H](O)COP(=O)(O)OC[C@@H](COC(=O)CCCCCCC/C=C\\\\CCCCCC)OC(=O)CCCCCCC/C=C\\\\CCCCCCCC)OC(=O)CCCCCCC/C=C\\\\CCCCCC', 'O=c1ccn(C2CC(O)C(COP(=O)(O)OP(=O)(O)OP(=O)(O)O)O2)c(=O)[nH]1', 'NC(Cc1c[nH]c2ccccc12)C(=O)O', 'NCC(=O)O', 'O=C(O)CC(O)C(=O)O', 'O=c1[nH]cnc2c1ncn2C1OC(COP(=O)(O)OP(=O)(O)OP(=O)(O)O)C(O)C1O', 'CCCCCC=CCC=CC=CC=CC1OC1CCCC(=O)O', 'NC(=O)c1ccc[n+](C2OC(COP(=O)([O-])OP(=O)(O)OCC3OC(n4cnc5c(N)ncnc54)C(O)C3O)C(O)C2O)c1', 'CC(C)=CCCC(C)=CCCC(C)=CCCC(C)=CCCC(C)=CCCC(C)=CCCC(C)=CCCC(C)=CCCC(C)=CCCC(C)=CCCC(C)=CCCC(C)=CCCC(C)=CCCC(C)=CCOP(=O)(O)OP(=O)(O)O', '[NH3+]C(COP(=O)([O-])[O-])C(=O)[O-]', 'CCOC(=O)c1ccccc1', 'CCCCCCCCCCCCCCCCCCCCCCC(O)C(=O)NC(CO)C(O)CCCCCCCCCCCCCCC', 'Cn1cncc1CC(NC(=O)CCN)C(=O)O', 'O=C([O-])C(O)CO', 'CC(C)CC=O', 'Nc1ncnc2c1ncn2C1CC(O)C(COP(=O)(O)O)O1', 'CC(C)C(C)C=CC(C)C1CCC2C3=CC=C4CC(O)CCC4(C)C3CCC21C', 'CC(C)=CCCC(C)C1CCC2C3=C(CCC21C)C1(C)CCC(O)C(C)(C)C1CC3', 'Cc1ncc(CO)c(N)n1', 'Cc1cn(C2CC(O)C(CO)O2)c(=O)[nH]c1=O', 'CCCCCC(=O)[O-]', 'CC(C)=CCCC(C)=CCCC(C)=CC=O', 'O=C1OC(COP(=O)(O)O)C(O)C(O)C1O', 'C=Cc1c2[nH]c(c1C)Cc1[nH]c(c(CCC(=O)O)c1C)Cc1[nH]c(c(C)c1CCC(=O)O)Cc1[nH]c(c(C)c1C=C)C2', 'CCCCCCCCCCCCCCCCCCCCCCCC(=O)NC(COP(=O)(O)OC1C(O)C(O)C(O)C(O)C1OC1OC(CO)C(O)C(O)C1O)C(O)CCCCCCCCCCCCCCC', 'NC(=O)Cc1c[nH]c2ccccc12', 'CCCCCCCCC=CCCCCCCCC(=O)O', 'CCCCCC/C=C\\\\CCCCCCCC(=O)O[C@H](COC(=O)CCCCCCCCCCCCCCCCC)COP(=O)(O)OC[C@H](N)C(=O)O', 'NC(N)=NCCCC(=O)O', 'CC(C)CC(NC(=O)C(C)N)C(=O)O', 'COC(=O)C(O)C(C(=O)[O-])C(C)C', 'CCC=O', 'NCC(=O)NC(CCC(=O)O)C(=O)O', 'CCCCCCCC/C=C\\\\CCCCCCCC(=O)O[C@H](COC(=O)CCCCCCCCCCCCCCC)COP(=O)(O)OCC(O)CO', 'NC(CC(O)C=O)C(=O)O', 'NC(COP(=O)(O)OCC(O)CO)C(=O)O', 'CCCCCCCCCCCC=CC(=O)SCCNC(=O)CCNC(=O)C(O)C(C)(C)COP(=O)(O)OP(=O)(O)OCC1OC(n2cnc3c(N)ncnc32)C(O)C1OP(=O)(O)O', 'CCCCCCCCCCCCCCCCCCCCCCCCC(O)C(=O)NC(COP(=O)(O)OC1C(O)C(O)C(O)C(O)C1O)C(O)CCCCCCCCCCCCCCC', 'O=P(O)(O)OC1C(O)C(O)C(O)C(O)C1O', 'CC(C(=O)O)C(O)(CC(=O)O)C(=O)O', 'CC(C)(COP(=O)(O)OP(=O)(O)OCC1OC(n2cnc3c(N)ncnc32)C(O)C1OP(=O)(O)O)C(O)C(=O)NCCC(=O)NCCSC(=O)CCC(=O)O', 'CCCCCC/C=C\\\\CCCCCCCC(=O)OC[C@H](COP(=O)([O-])OCC[N+](C)(C)C)OC(=O)CCCCCCC/C=C\\\\CCCCCC', 'CC(C)[C@@H](C)/C=C/[C@@H](C)[C@H]1CC[C@H]2C3=CC=C4C[C@@H](O[C@@H]5O[C@H](CO)[C@@H](O)[C@H](O)[C@H]5O)CC[C@]4(C)[C@H]3CC[C@]12C', 'OCC1OC(OCC2OC(O)C(O)C(O)C2O)C(O)C(O)C1O', 'CC(=O)NCCCNCCCCNCCCN', 'O=C=O', 'O=C(O)C(O)C(O)C(O)C(O)C(=O)O', 'NC(=O)c1ncn([C@@H]2O[C@H](COP(=O)([O-])[O-])[C@@H](O)[C@H]2O)c1/N=C/N[C@@H]1O[C@H](COP(=O)([O-])[O-])[C@@H](O)[C@H]1O', 'C[S+](CCC(N)C(=O)[O-])CC1OC(n2cnc3c(N)ncnc32)C(O)C1O', 'CCCCCCCC(=O)SCCNC(=O)CCNC(=O)C(O)C(C)(C)COP(=O)(O)OP(=O)(O)OCC1OC(n2cnc3c(N)ncnc32)C(O)C1OP(=O)(O)O', 'NCc1[nH]cc(CCC(=O)O)c1CC(=O)O', 'NC(CCC(=O)NC(CSC=O)C(=O)NCC(=O)O)C(=O)O', 'Cc1ncc(COP(=O)(O)O)c(C=O)c1O', 'NC(CCSCC(N)C(=O)O)C(=O)O', 'CCCCCC/C=C\\\\CCCCCCCC(=O)OC[C@H](CO)OC(=O)CCCCCCC/C=C\\\\CCCCCCCC', 'NCCCCCN', 'CCCCCCCCCCCCCCCCCCCCCCCC(=O)NC(COP(=O)(O)OC1C(O)C(O)C(O)C(O)C1O)C(O)C(O)CCCCCCCCCCCCCC', 'CC(N)C(=O)O', 'CCCCCCCCCCCCCCCCC/C=C/C(=O)SCCNC(=O)CCNC(=O)[C@H](O)C(C)(C)COP(=O)([O-])OP(=O)([O-])OC[C@H]1O[C@@H](n2cnc3c(N)ncnc32)[C@H](O)[C@@H]1OP(=O)([O-])[O-]', 'NC1C(OP(=O)(O)O)OC(CO)C(O)C1O', 'CC(O)C(O)C1CN=C2N=C(N)NC(=O)C2(O)N1', 'CC(=O)C(O)COP(=O)(O)O', 'CCCCCCCC/C=C\\\\CCCCCCCC(=O)OC[C@H](COP(=O)(O)OCCNC)OC(=O)CCCCCCC/C=C\\\\CCCCCCCC', 'CC(C)=CCCC(C)=CCCC(C)=CC(=O)O', 'Nc1nc2c(ncn2C2OC(CO)C(OP(=O)(O)O)C2O)c(=O)[nH]1', 'CC(C(=O)O)C(O)C(=O)O', 'COc1cccc(CC=C(C)CCC=C(C)CCC=C(C)CCC=C(C)CCC=C(C)CCC=C(C)C)c1O', 'NCCS', 'C=C(OC1CC(C(=O)O)=CC(OP(=O)(O)O)C1O)C(=O)O', 'CCCCCCCCCCCCCCCCCCCCCCCCC(O)C(=O)NC(COP(=O)(O)OC1C(O)C(O)C(O)C(O)C1O)C(O)C(O)CCCCCCCCCCCCCC', 'O=C(CO)C(O)C(O)C(O)C(O)COP(=O)(O)O', 'Nc1c(O)cccc1C(=O)O', 'O=C1CC(O)(C(=O)[O-])CC(O)C1O', 'Nc1nc2c(ncn2C2OC(COP(=O)(O)OP(=O)(O)OP(=O)(O)O)C(O)C2O)c(=O)[nH]1', 'O=C(O)c1ccc([O-])cc1', 'CC(=O)NCCCCN', 'NC(Cc1ccccc1)C(=O)O', 'O=O', 'O=P(O)(O)OCC1OC(OP(=O)(O)OP(=O)(O)O)C(O)C1O', 'CC(C)=CCCC(C)C1CCC2(C)C3=C(CCC12C)C1(C)CCC(O)C(C)(C)C1CC3', 'O=C([O-])Cc1c[nH]c2ccccc12', 'O=S(=O)(O)CCO', 'CC(C)=CCCC(C)=CCCC(C)=CCCC(C)=CCCC(C)=CCCC(C)=CCCC(C)=CCCC(C)=CCCC(C)=CCCC(C)=CCCC(C)=CCCC(C)=CCCC(C)=CCCC(C)=CCCC(C)=CCCC(C)=CCCC(C)=CCCC(C)=CCCC(C)=CCCC(C)=CCCC(C)=CCOP(=O)(O)OP(=O)(O)O', 'CCCCCCCCCCCCCCCC(=O)OC[C@@H](O)COP(=O)(O)O', 'CCCC(=O)OCC', 'CC(C)(COP(=O)(O)OP(=O)(O)OCC1OC(n2cnc3c(N)ncnc32)C(O)C1OP(=O)(O)O)C(O)C(=O)NCCC(=O)NCCSC(=O)CC(=O)O', 'CC(=O)C(N)C(=O)O', 'Nc1ncnc2c1ncn2C1OC(CO)C2OP(=O)(O)OC21', 'CCCCCCCCCCCC(=O)[O-]', 'CC(C)=CCCC(C)=CCCC(C)=CCCC(C)=CCCC(C)=CCCC(C)=CCOP(=O)(O)OP(=O)(O)O', 'CCCCCCCCCCCCCCCC(=O)SCCNC(=O)CCNC(=O)C(O)C(C)(C)COP(=O)(O)OP(=O)(O)OCC1OC(n2cnc3c(N)ncnc32)C(O)C1OP(=O)(O)O', 'CCCCCCCC/C=C\\\\CCCCCCCC(=O)O[C@H](COC(=O)CCCCCCCCCCCCCCCCC)COP(=O)(O)OC[C@H](N)C(=O)O', 'CC(O)C(=O)O', 'O=P(O)(O)OCC(O)C(O)c1c[nH]c2ccccc12', 'CCCCCCCCCCCCCCCC=CC(=O)SCCNC(=O)CCNC(=O)C(O)C(C)(C)COP(=O)(O)OP(=O)(O)OCC1OC(n2cnc3c(N)ncnc32)C(O)C1OP(=O)(O)O', 'Nc1ncnc2c1ncn2C1OC(CO)C(O)C1OP(=O)(O)O', 'O=P(O)(O)OC1C(O)C(OP(=O)(O)O)C(OP(=O)(O)O)C(OP(=O)(O)O)C1OP(=O)(O)O', 'CCCCCCCCCCCCCCCCCCCCCCCC(=O)SCCNC(=O)CCNC(=O)C(O)C(C)(C)COP(=O)(O)OP(=O)(O)OCC1OC(n2cnc3c(N)ncnc32)C(O)C1OP(=O)(O)O', 'CC(C)=CCCC(C)C1CCC2C3=C(CCC21C)C1(C)CCC(O)C(CO)C1CC3', 'CCCCCCCCCCCCCCCCCCCCCC(O)CC(=O)SCCNC(=O)CCNC(=O)C(O)C(C)(C)COP(=O)(O)OP(=O)(O)OCC1OC(n2cnc3c(N)ncnc32)C(O)C1OP(=O)(O)O', 'CSCCC(=O)C(=O)COP(=O)(O)O', 'CC(C)=CCCC(C)=CCCC(C)=CCCC(C)=CCCC(C)=CCCC(C)=CCCC(C)=CCCC(C)=CCCC(C)=CCCC(C)=CCCC(C)=CCCC(C)=CCCC(C)=CCCC(C)=CCCC(C)=CCOP(=O)(O)OP(=O)(O)O', 'NCCCCNCCCN', 'CC(C(=O)O)C(=O)O', 'C=C(CCC(C)C1CCC2C3=CCC4CC(O)CCC4(C)C3CCC21C)C(C)C', 'O=C([O-])C(=O)C(C(=O)[O-])C(O)C(=O)[O-]', 'O=CCc1c[nH]c2ccccc12', 'CCCCCCCCCCCCCCCCCC(=O)OC[C@@H](O)COP(=O)(O)O[C@@H]1[C@H](O)[C@H](O)[C@@H](O)[C@H](O)[C@H]1O', 'CCOC(=O)CC', 'O=c1ccn(C2CC(O)C(COP(=O)(O)O)O2)c(=O)[nH]1', 'O=P(O)(O)OC1C(O)C(O)C(OP(=O)(O)O)C(OP(=O)(O)O)C1O', 'O=C(O)C(=O)CS', '[NH4+]', 'CC(C)(COP(=O)(O)O)C(O)C(=O)NCCC(=O)O', 'CCCCCCCCCCCCCCCCCCCCCC(=O)CC(=O)SCCNC(=O)CCNC(=O)C(O)C(C)(C)COP(=O)(O)OP(=O)(O)OCC1OC(n2cnc3c(N)ncnc32)C(O)C1OP(=O)(O)O', '[NH2+]=C(CNC=O)NC1O[C@H](COP(=O)([O-])[O-])[C@@H](O)[C@H]1O', 'O=c1ccn(C2OC(CO)C(OP(=O)(O)O)C2O)c(=O)[nH]1', 'Nc1ncnc2c1ncn2C1OC(COP(=O)(O)O)C(O)C1O', 'O=C([O-])C(=O)Cc1ccccc1', 'NC(CC(=O)O)C(=O)O', 'O=CCC(=O)[O-]', 'O=C(CO)C(O)C(O)COP(=O)(O)O', 'CCCCCC/C=C\\\\CCCCCCCC(=O)OC[C@H](COP(=O)(O)O)OC(=O)CCCCCCC/C=C\\\\CCCCCC', 'CC(C)(COP(=O)([O-])[O-])[C@@H](O)C(=O)NCCC(=O)N[C@@H](CS)C(=O)[O-]', 'O=C(O)CCc1c2[nH]c(c1CC(=O)O)Cc1[nH]c(c(CC(=O)O)c1CCC(=O)O)Cc1[nH]c(c(CC(=O)O)c1CCC(=O)O)Cc1[nH]c(c(CCC(=O)O)c1CC(=O)O)C2', 'Nc1ccnc(=O)[nH]1', 'O=C([O-])CC(O)(CC(=O)[O-])C(=O)[O-]', 'CCCCCCCCCCCCCCCCCCCCCCC(O)C(=O)NC(COP(=O)(O)OC1C(O)C(O)C(O)C(O)C1O)C(O)CCCCCCCCCCCCCCC', 'Oc1ccc(O)cc1', 'CCOC(=O)C(C)=O', 'CC1(CC(=O)O)c2cc3nc(cc4[nH]c(cc5[nH]c(cc(n2)C1CCC(=O)O)c(CC(=O)O)c5CCC(=O)O)c(CCC(=O)O)c4CC(=O)O)C(C)(CC(=O)O)C3CCC(=O)O', 'C=CC(N)=O', 'Nc1ncnc2c1ncn2C1OC(COP(=O)(O)OP(=O)(O)OCC2OC(OP(=O)(O)O)C(O)C2O)C(O)C1O', 'CCCCCCCC/C=C\\\\C[C@H](O)CC(=O)SCCNC(=O)CCNC(=O)[C@H](O)C(C)(C)COP(=O)(O)OP(=O)(O)OC[C@H]1O[C@@H](n2cnc3c(N)ncnc32)[C@H](O)[C@@H]1OP(=O)(O)O', 'O=C[C@H](O)[C@H]1OC(=O)[C@@H](O)[C@H]1O', 'CCCCCCCCCCCCCCCCCCCCCCCCCC(=O)NC(COP(=O)(O)OC1C(O)C(O)C(O)C(O)C1O)C(O)CCCCCCCCCCCCCCC', 'Nc1nc2c([nH]c(=O)n2C2CC(O)C(COP(=O)(O)O)O2)c(=O)[nH]1', 'CCCCCCCCCCCCCCCCCCCCCCCC(=O)O', 'CC(C)=CCCC(C)=CCCC(C)=CCCC(C)=CCCC(C)=CCCC(C)=CCCC(C)=CCCC(C)=CCCC(C)=CCCC(C)=CCCC(C)=CCCC(C)=CCCC(C)=CCCC(C)=CCCC(C)=CCCC(C)=CCOP(=O)(O)OP(=O)(O)O', 'O=C(O)C1=CC(OP(=O)(O)O)C(O)C(O)C1', 'CC(C)=CCCC(C)=CCCC(C)=CCCC(C)=CCCC(C)=CCCC(C)=CCCC(C)=CCCC(C)=CCCC(C)=CCOP(=O)(O)OP(=O)(O)O', 'CCCCCCCCCCCCCCCCCC(=O)[O-]', 'CC(C)(COP(=O)(O)OP(=O)(O)OCC1OC(n2cnc3c(N)ncnc32)C(O)C1O)C(O)C(=O)NCCC(=O)NCCS', 'C=C(OP(=O)(O)O)C(=O)O', 'CC(=O)OCC(C)C', 'CC(=O)NC(CCC(=O)OP(=O)(O)O)C(=O)O', 'NC(C(=O)O)C(O)CO', 'O=C([O-])C=CC(=O)[O-]', 'CCCCCCCCCCCCCCCCCCCCCCCCCC(=O)N[C@@H](COP(=O)(O)O[C@@H]1[C@H](O)[C@H](O)[C@@H](O)[C@H](O)[C@H]1OC1O[C@H](CO)[C@@H](O)[C@H](O)[C@@H]1O)[C@H](O)CCCCCCCCCCCCCCC', 'CC(O)CC(=O)SCCNC(=O)CCNC(=O)C(O)C(C)(C)COP(=O)(O)OP(=O)(O)OCC1OC(n2cnc3c(N)ncnc32)C(O)C1OP(=O)(O)O', 'C=C(CCC(C)C1CCC2C3=C(CCC21C)C1(C)CCC(OC(=O)CCCCCCCC=CCCCCCCCC)CC1CC3)C(C)C', 'CC(=O)NC(CS)C(=O)O', 'CCCCCCCC/C=C\\\\CCCCCCCC(=O)OC[C@H](CO)OC(=O)CCCCCCC/C=C\\\\CCCCCCCC', 'CCCCCC/C=C\\\\CCCCCCCC(=O)OC[C@H](COP(=O)([O-])OC[C@H]([NH3+])C(=O)[O-])OC(=O)CCCCCCC/C=C\\\\CCCCCC', 'COC1=C(O)C(=O)C(C)=C(CC=C(C)CCC=C(C)CCC=C(C)CCC=C(C)CCC=C(C)CCC=C(C)C)C1=O', 'CCCCCC/C=C\\\\CCCCCCCCCC(=O)OC[C@H](COC(=O)CCCCCCC/C=C\\\\CCCCCCCC)OC(=O)CCCCCCCCCCCCCCC', 'CCCCCCCCCCCCCCCCCCCCCCCCC(O)C(=O)N[C@@H](CO)[C@H](O)CCCCCCCCCCCCCCC', 'CCCCCCCCCCCCCCCCCCCCCCCCCC(=O)N[C@@H](COP(=O)(O)O[C@@H]1[C@H](O)[C@H](O)[C@@H](O)[C@H](O)[C@H]1OC1O[C@H](COP(=O)(O)O[C@@H]2[C@H](O)[C@H](O)[C@@H](O)[C@H](O)[C@H]2O)[C@@H](O)[C@H](O)[C@@H]1O)[C@H](O)CCCCCCCCCCCCCCC', 'Nc1ncnc2c1ncn2C1OC(COP(=O)(O)OP(=O)(O)OP(=O)(O)OP(=O)(O)OCC2OC(n3cnc4c(N)ncnc43)C(O)C2O)C(O)C1O', 'O=C(O)C1CCCN1', 'CC(=O)CN', 'Cc1cn(C2CC(O)C(COP(=O)(O)OP(=O)(O)OP(=O)(O)O)O2)c(=O)[nH]c1=O', 'COC1=CC(=O)C(C)=C(CC=C(C)CCC=C(C)CCC=C(C)CCC=C(C)CCC=C(C)CCC=C(C)C)C1=O', 'O=C(CO)C(OC1OC(CO)C(O)C(O)C1O)C(O)C(O)CO', 'CCCCCC/C=C\\\\CCCCCCCC(=O)O[C@H](COC(=O)CCCCCCC/C=C\\\\CCCCCCCC)COP(=O)(O)OCCN', 'CCCCCCCCCCCCCCCCCCCCCCCCCC(=O)SCCNC(=O)CCNC(=O)C(O)C(C)(C)COP(=O)(O)OP(=O)(O)OCC1OC(n2cnc3c(N)ncnc32)C(O)C1OP(=O)(O)O', 'O=C(COP(=O)(O)O)C(O)C(O)C(O)C(O)COP(=O)(O)O', 'CCCCCCCC/C=C\\\\CCCCCCCC(=O)O[C@H](COC(=O)CCCCCCCCCCCCCCCCC)COP(=O)(O)O[C@@H]1[C@H](O)[C@H](O)[C@@H](O)[C@H](O)[C@H]1O', 'CCCCCCCC/C=C\\\\CCCCCCCC(=O)O[C@H](COC(=O)CCCCCCCCCCCCCCCCC)COP(=O)([O-])OCC[N+](C)(C)C', 'CC(=O)C(C)=O', 'CCCCCCCC(O)CC(=O)SCCNC(=O)CCNC(=O)C(O)C(C)(C)COP(=O)(O)OP(=O)(O)OCC1OC(n2cnc3c(N)ncnc32)C(O)C1OP(=O)(O)O', 'O=CCc1ccccc1', 'CCOC(=O)C(C)O', 'CC(C)=CCCC(C)C1CCC2C3=C(CCC21C)C1(C)CCC(=O)C(C)C1CC3', 'O=c1[nH]cnc2c1ncn2C1CC(O)C(CO)O1', 'O=P(O)(O)OC1CC(O)C(CO)O1', 'CCCCCCCCCCCCCCCCCCCCCCCCCC(=O)N[C@@H](COP(=O)(O)O[C@@H]1[C@H](O)[C@H](O)[C@@H](O)[C@H](O)[C@H]1OC1O[C@H](CO)[C@@H](O)[C@H](O)[C@@H]1O)[C@H](O)C(O)CCCCCCCCCCCCCC', 'CCCCCCCC/C=C\\\\CCCC(=O)CC(=O)SCCNC(=O)CCNC(=O)[C@H](O)C(C)(C)COP(=O)(O)OP(=O)(O)OC[C@H]1O[C@@H](n2cnc3c(N)ncnc32)[C@H](O)[C@@H]1OP(=O)(O)O', 'CCCCCCCC/C=C\\\\CCCCCCCC(=O)O[C@H](COC(=O)CCCCCCCCCCCCCCC)COP(=O)([O-])OP(=O)([O-])OC[C@H]1O[C@@H](n2ccc(N)nc2=O)[C@H](O)[C@@H]1O', 'NC(=O)c1ccc[n+](C2OC(COP(=O)([O-])O)C(O)C2O)c1', 'NC(N)=O', 'CC1OC(n2cnc3c(N)ncnc32)C(O)C1O', 'Nc1nc2c(ncn2C2OC(CO)C3OP(=O)(O)OC32)c(=O)[nH]1', 'Nc1ccn(C2OC3COP(=O)(O)OC3C2O)c(=O)n1', 'CSCCC(NC(C)=O)C(=O)[O-]', 'O=c1ccn(C2OC(COP(=O)(O)OP(=O)(O)OP(=O)(O)O)C(O)C2O)c(=O)[nH]1', 'CCCCCC/C=C\\\\CCCCCCCC(=O)O[C@H](COC(=O)CCCCCCC/C=C\\\\CCCCCCCC)COP(=O)(O)OC[C@@H](O)COP(=O)(O)OC[C@@H](COC(=O)CCCCCCCCCCCCCCC)OC(=O)CCCCCCC/C=C\\\\CCCCCCCC', 'O=C1OC(C(O)CO)C(=O)C1=O', 'O=P([O-])([O-])OP(=O)([O-])[O-]', 'CC(=O)OC(CC(=O)[O-])C[N+](C)(C)C', 'CC(=O)NC(Cc1ccccc1)C(=O)O', 'Cn1cncc1CC(N)C(=O)O', 'CCCCCCCC/C=C\\\\CCCCCCCC(=O)O[C@H](COC(=O)CCCCCCCCCCCCCCCCC)COP(=O)(O)O[C@@H]1[C@H](O)[C@H](O)[C@@H](OP(=O)(O)O)[C@H](OP(=O)(O)O)[C@H]1O', 'O=C([O-])C(CO)OC1OC(COP(=O)([O-])[O-])C(O)C(O)C1O', 'C=C(CC(=O)SCCNC(=O)CCNC(=O)C(O)C(C)(C)COP(=O)(O)OP(=O)(O)OCC1OC(n2cnc3c(N)ncnc32)C(O)C1OP(=O)(O)O)C(=O)O', 'O=c1cc[nH]c(=O)[nH]1', 'Cc1c2[nH]c(c1CCC(=O)O)Cc1[nH]c(c(CCC(=O)O)c1C)Cc1[nH]c(c(CCC(=O)O)c1C)Cc1[nH]c(c(C)c1CCC(=O)O)C2', 'NC(N)=NCCCC(N)C(=O)O', 'CCCCCCCCCCCCCCCCCCCCCCCC(O)C(O)C(=O)N[C@@H](COP(=O)(O)O[C@@H]1[C@H](O)[C@H](O)[C@@H](O)[C@H](O)[C@H]1OC1O[C@H](CO)[C@@H](O)[C@H](O)[C@@H]1O)[C@H](O)C(O)CCCCCCCCCCCCCC', 'CC(C)(COP(=O)(O)OP(=O)(O)OCC1OC(n2cnc3c(N)ncnc32)C(O)C1OP(=O)(O)O)C(O)C(=O)NCCC(=O)NCCS', 'CC(C)C(=CC(=O)O)C(=O)O', 'CN1c2c(nc(N)[nH]c2=O)NCC1CNc1ccc(C(=O)NC(CCC(=O)NC(CCC(=O)NC(CCC(=O)O)C(=O)O)C(=O)O)C(=O)O)cc1', 'Nc1nc2c(ncn2C2OC(COP(=O)(O)OP(=O)(O)OP(=O)(O)OP(=O)(O)OCC3OC(n4cnc5c(=O)[nH]c(N)nc54)C(O)C3O)C(O)C2O)c(=O)[nH]1', 'OCC1OC(O)C(O)C(O)C1O', 'NC(CCC(=O)O)C(=O)O', 'NC(=O)OP(=O)(O)O', 'O=C(O)C(=O)Cc1c[nH]c2ccccc12', 'CCCCCCCCCCCCCCCCCCCCCCCCCC(=O)O', 'N#C[S-]', 'CCCCCC/C=C\\\\CCCCCCCC(=O)OC[C@H](COC(=O)CCCCCCC/C=C\\\\CCCCCCCC)OC(=O)CCCCCCC/C=C\\\\CCCCCC', 'C#CC=O', 'CC(=O)C(C)(O)C(=O)O', 'CCCCCCCC/C=C\\\\CCCCCCCC(=O)OC[C@H](COP(=O)(O)OC[C@H](N)C(=O)O)OC(=O)CCCCCCC/C=C\\\\CCCCCCCC', 'CCCCCCCC/C=C\\\\CCCCCCCC(=O)OC[C@H](COP(=O)(O)O)OC(=O)CCCCCCC/C=C\\\\CCCCCCCC', '[K]', 'Nc1ncnc2c1ncn2C1CC(O)C(COP(=O)(O)OP(=O)(O)O)O1', 'CC(C)=CCCC(C)=CCCC(C)=CCCC(C)=CCCC(C)=CCCC(C)=CCCC(C)=CCCC(C)=CCCC(C)=CCCC(C)=CCCC(C)=CCCC(C)=CCCC(C)=CCCC(C)=CCCC(C)=CCCC(C)=CCCC(C)=CCCC(C)=CCOP(=O)(O)OP(=O)(O)O', 'NC(CS(=O)(=O)O)C(=O)[O-]', 'O=CC(=O)[O-]', 'CCCCCCCCCCCCCCCCCCCCCCCC(O)C(O)C(=O)NC(COP(=O)([O-])OC1C(O)C(O)C(O)C(O)C1O)C(O)C(O)CCCCCCCCCCCCCC', 'O=P(O)(O)OCC1OC(O)C(O)C(O)C1O', 'Nc1ncnc2c1ncn2C1OC(COP(=O)(O)OP(=O)(O)OP(=O)(O)OCC2OC(n3cnc4c(N)ncnc43)C(O)C2O)C(O)C1O', 'CC(O)(CCO)CC(=O)[O-]', 'CCCCCCCCC=CCCCCCCCC(=O)OC1CCC2(C)C3=C(CCC2C1(C)C)C1(C)CCC(C(C)CCC=C(C)C)C1(C)CC3', 'O=P([O-])([O-])OC1OC(CO)C(O)C1O', 'O=P(O)(O)OC1C(O)C(OP(=O)(O)O)C(OP(=O)(O)O)C(OP(=O)(O)O)C1O', 'OCc1cccc(O)c1', 'Nc1nc2c([nH]c(=O)n2C2CC(O)C(COP(=O)(O)OP(=O)(O)OP(=O)(O)O)O2)c(=O)[nH]1', 'CCCCCCCCCCCCCCC(O)C=O', 'O=C(O)c1cccnc1C(=O)O', 'CC(C)=CCCC(C)C1CCC2C3=C(CCC21C)C1(C)CCC(O)CC1CC3', 'Nc1ncnc2c1ncn2C1OC(COP(=O)(O)OP(=O)(O)OCC2OC([n+]3cccc(C(=O)O)c3)C(O)C2O)C(O)C1O', 'OCC1OC(OCC2OC(OC3(CO)OC(CO)C(O)C3O)C(O)C(O)C2O)C(O)C(O)C1O', 'CCCCCCCCCCCCCCCCCCCCCCCCCC(=O)NC(COP(=O)(O)OC1C(O)C(O)C(O)C(O)C1O)C(O)C(O)CCCCCCCCCCCCCC', 'CCCCCCCCCC(=O)CC(=O)SCCNC(=O)CCNC(=O)C(O)C(C)(C)COP(=O)(O)OP(=O)(O)OCC1OC(n2cnc3c(N)ncnc32)C(O)C1OP(=O)(O)O', 'CC(CO)C(=O)[O-]', 'C#CC(=O)[O-]', 'O=C(O)CC(C(=O)O)C(O)C(=O)O', 'C[S+](C)CCC(N)C(=O)O', 'CC(C)=CCCC(C)=CCCC(C)=CCOP(=O)(O)OP(=O)(O)O', 'CCCCCCCCCCCCCCCCCC(O)CC(=O)SCCNC(=O)CCNC(=O)C(O)C(C)(C)COP(=O)(O)OP(=O)(O)OCC1OC(n2cnc3c(N)ncnc32)C(O)C1OP(=O)(O)O', 'NC(=O)NC(O)C(=O)O', 'NC(CSSCC(N)C(=O)O)C(=O)O', 'CCCCCC/C=C\\\\CCCCCCCC(=O)O[C@H](COC(=O)CCCCCCCCCCCCCCC)COP(=O)([O-])OCC(O)COP(=O)([O-])OC[C@@H](COC(=O)CCCCCCCCCCCCCCC)OC(=O)CCCCCCC/C=C\\\\CCCCCC', 'O=c1[nH]cnc2c1ncn2C1OC(COP(=O)(O)O)C(O)C1O', 'CC(O)(CCOP(=O)(O)OP(=O)(O)O)CC(=O)O', 'CCCCCC/C=C\\\\CCCCCCCC(=O)O[C@H](COC(=O)CCCCCCCCCCCCCCC)COC(=O)CCCCCCCCCCCCCCCCC', 'NC(=O)c1ccccc1', 'CCCCCCCCCCCCCCCCCCCCCCCC(=O)NC(COP(=O)(O)OC1C(O)C(O)C(O)C(O)C1OC1OC(CO)C(O)C(O)C1O)C(O)C(O)CCCCCCCCCCCCCC', 'O=c1ccn(C2OC(COP(=O)(O)OP(=O)(O)OC3OC(CO)C(O)C(O)C3O)C(O)C2O)c(=O)[nH]1', 'CC(C)C(C(=O)[O-])C(O)C(=O)[O-]', 'C[N+](C)(C)CC(O)CC(=O)[O-]', 'NCCCNCCCCNCCCN', 'O=P(O)(O)OC1C(O)C(O)C(O)C(O)C1OC1OC(CO)C(O)C(O)C1O', 'N=c1c2ncn([C@@H]3O[C@H](COP(=O)([O-])[O-])[C@@H](O)[C@H]3O)c2ncn1[C@@H]1O[C@H](COP(=O)([O-])[O-])[C@@H](O)[C@H]1O', 'O=C(O)C=C(CC(=O)O)C(=O)O', 'O=CNC(Cc1ccc(O)cc1)C(=O)O', 'Nc1ncnc2c1ncn2C1OC(COP(=O)(O)OS(=O)(=O)O)C(O)C1O', 'C[n+]1cccc(C(N)=O)c1', 'CC(NC(=O)CCC(N)C(=O)O)C(=O)O', 'NCCO', 'CC(C)(CO)C(O)C(=O)NCCC(=O)O', 'NC(=O)CCC(N)C(=O)O', 'CCC(=O)SCCNC(=O)CCNC(=O)C(O)C(C)(C)COP(=O)(O)OP(=O)(O)OCC1OC(n2cnc3c(N)ncnc32)C(O)C1OP(=O)(O)O', 'CCCCCC/C=C\\\\CCCCCCCC(=O)O[C@H](COC(=O)CCCCCCCCCCCCCCCCC)COP(=O)(O)O', 'NCCC(=O)NC(Cc1cnc[nH]1)C(=O)O', 'NC1C(O)OC(COP(=O)(O)O)C(O)C1O', 'CCCCCC=CC(=O)SCCNC(=O)CCNC(=O)C(O)C(C)(C)COP(=O)(O)OP(=O)(O)OCC1OC(n2cnc3c(N)ncnc32)C(O)C1OP(=O)(O)O', 'O=CCC(O)C(O)C(O)CO', 'CCCCCCCC/C=C\\\\CCCCCCCC(=O)OC[C@@H](COC(=O)CCCCCCCCCCCCCCC)OC(=O)CCCCCCCCCCCCCCC', 'CCCCCCCCCCCCCCCCCCCCCCC(O)C(=O)NC(COP(=O)(O)OC1C(O)C(O)C(O)C(O)C1OC1OC(COP(=O)(O)OC2C(O)C(O)C(O)C(O)C2O)C(O)C(O)C1O)C(O)C(O)CCCCCCCCCCCCCC', 'CC(C)=CCOP(=O)([O-])OP(=O)([O-])[O-]', 'CCCCCC(=O)SCCNC(=O)CCNC(=O)C(O)C(C)(C)COP(=O)(O)OP(=O)(O)OCC1OC(n2cnc3c(N)ncnc32)C(O)C1OP(=O)(O)O', 'CCCCCCCCCCCCCCCCCCCCCCCCC(O)C(=O)NC(CO)C(O)C(O)CCCCCCCCCCCCCC', 'CCCCCCC=CCCCCCCCC(=O)[O-]', 'O=S(=O)([O-])SS(=O)(=O)[O-]', 'COC1=C(OC)C(=O)C(CC=C(C)CCC=C(C)CCC=C(C)CCC=C(C)CCC=C(C)CCC=C(C)C)=C(C)C1=O', 'CCCCCCCCCCCCCCCCCCCCCCCC(O)C(O)C(=O)N[C@@H](COP(=O)(O)O[C@@H]1[C@H](O)[C@H](O)[C@@H](O)[C@H](O)[C@H]1OC1O[C@H](COP(=O)(O)O[C@@H]2[C@H](O)[C@H](O)[C@@H](O)[C@H](O)[C@H]2O)[C@@H](O)[C@H](O)[C@@H]1O)[C@H](O)C(O)CCCCCCCCCCCCCC', 'CCCCCC/C=C\\\\C=C\\\\CC(=O)SCCNC(=O)CCNC(=O)[C@H](O)C(C)(C)COP(=O)(O)OP(=O)(O)OC[C@H]1O[C@@H](n2cnc3c(N)ncnc32)[C@H](O)[C@@H]1OP(=O)(O)O', 'O=C([O-])c1cccnc1', 'O=P(O)(O)OCC1OC(CO)(OP(=O)(O)O)C(O)C1O', 'Cc1c[nH]c(=O)[nH]c1=O', 'Cc1ccc(CO)cc1', 'CCCC(=O)CC(=O)SCCNC(=O)CCNC(=O)C(O)C(C)(C)COP(=O)(O)OP(=O)(O)OCC1OC(n2cnc3c(N)ncnc32)C(O)C1OP(=O)(O)O', 'CC(C)=CCCC(C)=CCCC(C)=CCCC=C(C)CCC=C(C)CCC1OC1(C)C', 'CC(C)=CCCC(C)=CCCC(C)=CCCC(C)=CCCC(C)=CCCC(C)=CCc1cc(C(=O)O)cc(O)c1O', 'CCCCCCCCCC=CC(=O)SCCNC(=O)CCNC(=O)C(O)C(C)(C)COP(=O)(O)OP(=O)(O)OCC1OC(n2cnc3c(N)ncnc32)C(O)C1OP(=O)(O)O', 'NCCOP(=O)(O)OCC(O)CO', 'CCCCCCC=CCCCCCCCC(=O)OC1CCC2(C)C3=C(CCC2C1)C1CCC(C(C)CCC=C(C)C)C1(C)CC3', 'O=CC(O)C(O)C(O)COP(=O)(O)O', 'CCCCCC/C=C\\\\CCCCCCCC(=O)OC[C@@H](O)COP(=O)(O)OC[C@H](N)C(=O)O', 'CCCCCCCC/C=C\\\\CCCCCCCC(=O)OC[C@@H](O)COP(=O)(O)O[C@@H]1[C@H](O)[C@H](O)[C@@H](O)[C@H](O)[C@H]1O', 'CCCCCCCCC=CCCCCCCCC(=O)SCCNC(=O)CCNC(=O)C(O)C(C)(C)COP(=O)(O)OP(=O)(O)OCC1OC(n2cnc3c(N)ncnc32)C(O)C1OP(=O)(O)O', 'CC(=O)SCCNC(=O)CCNC(=O)C(O)C(C)(C)COP(=O)(O)OP(=O)(O)OCC1OC(n2cnc3c(N)ncnc32)C(O)C1OP(=O)(O)O', 'CCCCCCCC/C=C\\\\C/C=C/C(=O)SCCNC(=O)CCNC(=O)[C@H](O)C(C)(C)COP(=O)(O)OP(=O)(O)OC[C@H]1O[C@@H](n2cnc3c(N)ncnc32)[C@H](O)[C@@H]1OP(=O)(O)O', 'CC(N)C(=O)NC(CCC(=O)O)C(=O)O', 'CC(=O)[O-]', 'Cc1ccc(C=O)cc1', 'NC1OC(COP(=O)(O)O)C(O)C1O', 'Cc1ncc(COP(=O)(O)O)c(CO)c1O', 'CS', 'CC(=O)OCc1ccccc1', 'NC(=O)NC(NC(N)=O)C(=O)[O-]', 'Nc1ncnc2c1ncn2C1OC(COP(=O)(O)O)C(OP(=O)(O)O)C1O', 'CCCCCCCCCCCCCCCC(O)C(N)COP(=O)(O)O', 'O=P(O)(O)OCC1OC(O)(CO)C(O)C1O', 'CCCCCCCCC/C=C/C=C/C(=O)SCCNC(=O)CCNC(=O)[C@H](O)C(C)(C)COP(=O)(O)OP(=O)(O)OC[C@H]1O[C@@H](n2cnc3c(N)ncnc32)[C@H](O)[C@@H]1OP(=O)(O)O', 'CCCCCCCCCCCC(=O)SCCNC(=O)CCNC(=O)C(O)C(C)(C)COP(=O)(O)OP(=O)(O)OCC1OC(n2cnc3c(N)ncnc32)C(O)C1OP(=O)(O)O', 'CCCCCCCCCCCCCCCC(=O)CC(=O)SCCNC(=O)CCNC(=O)C(O)C(C)(C)COP(=O)(O)OP(=O)(O)OCC1OC(n2cnc3c(N)ncnc32)C(O)C1OP(=O)(O)O', 'CCCCCCCCCCCCCCCCCCCCCCCCC(O)C(=O)N[C@@H](COP(=O)(O)O[C@@H]1[C@H](O)[C@H](O)[C@@H](O)[C@H](O)[C@H]1OC1O[C@H](COP(=O)(O)O[C@@H]2[C@H](O)[C@H](O)[C@@H](O)[C@H](O)[C@H]2O)[C@@H](O)[C@H](O)[C@@H]1O)[C@H](O)CCCCCCCCCCCCCCC', 'O=C1CCC(C(=O)O)N1', 'CCCCCCCCCCCCCCCCCC(=O)CC(=O)SCCNC(=O)CCNC(=O)C(O)C(C)(C)COP(=O)(O)OP(=O)(O)OCC1OC(n2cnc3c(N)ncnc32)C(O)C1OP(=O)(O)O', 'CCCCCCCC/C=C\\\\CCCCCCCC(=O)O[C@H](COC(=O)CCCCCCCCCCCCCCCCC)COP(=O)(O)O[C@H]1[C@H](O)[C@@H](OP(=O)(O)O)[C@H](O)[C@@H](O)[C@H]1O', 'Nc1ccn(C2CC(O)C(COP(=O)(O)OP(=O)(O)OP(=O)(O)O)O2)c(=O)n1', 'CCCCCCCCCC(=O)[O-]', 'C=C(C=CC(C)C1CCC2C3=CC=C4CC(O)CCC4(C)C3CCC21C)C(C)C', 'O=c1[nH]c(=O)c2ncn(C3OC(CO)C(O)C3O)c2[nH]1', 'N=c1c2ncn(C3OC(COP(=O)([O-])OP(=O)([O-])OP(=O)([O-])[O-])C(O)C3O)c2ncn1C1OC(COP(=O)([O-])[O-])C(O)C1O', 'CC(=O)NC(CCC(=O)O)C(=O)O', 'CCCCCCC=CCCCCCCCC(=O)SCCNC(=O)CCNC(=O)C(O)C(C)(C)COP(=O)([O-])OP(=O)([O-])OCC1OC(n2cnc3c(N)ncnc32)C(O)C1OP(=O)([O-])[O-]', 'CCC(O)(C(C)=O)C(=O)[O-]', 'CC(=O)C=O', 'CCCCCCCCCCCCCCCCCCCCCCCCCC(=O)NC(CO)C(O)C(O)CCCCCCCCCCCCCC', 'CC(=O)OCCc1ccccc1', 'Nc1ccccc1C(=O)O', 'Nc1c(C(=O)[O-])ncn1C1OC(COP(=O)([O-])[O-])C(O)C1O', 'CC(=O)CC(=O)SCCNC(=O)CCNC(=O)C(O)C(C)(C)COP(=O)(O)OP(=O)(O)OCC1OC(n2cnc3c(N)ncnc32)C(O)C1OP(=O)(O)O', 'O=P(O)(O)OCC(O)C(O)c1cnc[nH]1', 'O=C([O-])C(=O)[O-]', 'NCCSP(=O)(O)O', 'CC(=O)CC(=O)[O-]', 'Cc1ncc(C[n+]2csc(CCO)c2C)c(N)n1', 'CCCCCCCC/C=C\\\\CCCCCCCC(=O)O[C@@H](CO)COC(=O)CCCCCCCCCCCCCCCCC', 'NCCCC(N)C(=O)O', 'Nc1ncnc2nc[nH]c12', 'NC(COP(=O)(O)O)C(=O)O', 'O=C(O)C(=O)CC1(C(=O)O)C=CC(O)C=C1', 'CCCCCCCCCCCCCCCCCCCCCC(O)C(O)C(=O)NC(CO)C(O)C(O)CCCCCCCCCCCCCC', 'NC(CCC(=O)NC(CSSCC(NC(=O)CCC(N)C(=O)O)C(=O)NCC(=O)O)C(=O)NCC(=O)O)C(=O)O', 'CCCCCCCC/C=C\\\\CCC[C@H](O)CC(=O)SCCNC(=O)CCNC(=O)[C@H](O)C(C)(C)COP(=O)(O)OP(=O)(O)OC[C@H]1O[C@@H](n2cnc3c(N)ncnc32)[C@H](O)[C@@H]1OP(=O)(O)O', 'CC(C)=CCCC(C)=CCCC(C)=CCCC=C(C)CCC=C(C)CCC=C(C)C', 'O=Cc1ccccc1', 'O=C(O)CCC(=O)C(=O)O', 'Nc1nc2c(ncn2C2CC(O)C(COP(=O)(O)OP(=O)(O)OP(=O)(O)O)O2)c(=O)[nH]1', 'Nc1nc(NCC(O)C(O)C(O)COP(=O)(O)O)c(N)c(=O)[nH]1', 'CCCCCCCCCCCCCCCC(O)C(N)CO', 'O=C(O)C1=CC(=O)C(O)C(O)C1', 'O=C(O)c1cc(=O)c2ccccc2[nH]1', 'C1=Cc2cc3ccc(cc4ccc(cc5nc(cc1n2)C=C5)[nH]4)[nH]3', 'CC(C)CO', 'Cc1cc2c(cc1C)N(CC(O)C(O)C(O)COP(=O)(O)OP(=O)(O)OCC1OC(n3cnc4c(N)ncnc43)C(O)C1O)c1[nH]c(=O)[nH]c(=O)c1N2', 'NCCOP(=O)(O)OP(=O)(O)OCC1OC(n2ccc(N)nc2=O)C(O)C1O', 'NCC(=O)NC(CC(N)=O)C(=O)O', 'CCCOC(C)=O', 'O=CCc1ccc(O)cc1', 'O=C(O)C1OC(O)C(O)C(O)C1O', 'CCCCCCCCCCCCCCCC=O', 'Nc1nc2c(c(=O)[nH]1)N=C(C(O)C(O)COP(=O)(O)O)CN2', 'Cc1cnc(=O)[nH]c1N', 'CC(=O)NC1C(OP(=O)(O)OP(=O)(O)OCC2OC(n3ccc(=O)[nH]c3=O)C(O)C2O)OC(CO)C(O)C1O', 'CCCCCCC=CCCCCCCCC(=O)OC1CCC2(C)C3=C(CCC2C1(C)C)C1(C)CCC(C(C)CCC=C(C)C)C1(C)CC3', 'CC(C)(COP(=O)(O)OP(=O)(O)OCC1OC(n2cnc3c(N)ncnc32)C(O)C1OP(=O)(O)O)C(O)C(=O)NCCC(=O)NCCSC(=O)C(=O)O', 'NC(=O)Cc1ccccc1', 'CC(C)C(C(=O)O)C(=O)C(=O)O', 'O=C(O)CCC(O)C(=O)O', 'CC(C)=CCCC(C)C1CCC2C3=C(CCC21C)C1(C)CCC(O)C(C)C1CC3', 'CC(=O)NCCCC=O', 'CCCCCCCC/C=C\\\\CCCCCCCC(=O)OC[C@@H](O)COP(=O)(O)O', 'CCCCCCC=CCCCCCCCC(=O)OC[C@H](COP(=O)(O)OCC(O)COP(=O)(O)OC[C@@H](COC(=O)CCCCCCCC=CCCCCCC)OC(=O)CCCCCCCC=CCCCCCC)OC(=O)CCCCCCCC=CCCCCCC', 'C=C(CCC(C)C1CCC2C3=CC=C4CC(O)CCC4(C)C3CCC21C)C(C)C', 'NC(C=O)C(=O)O', 'C[NH2+]C(CCc1ncc(CC(N)C(=O)O)[nH]1)C(=O)O', 'CC(O)C(C)O', 'OCCc1ccccc1', 'O=P(O)(O)OC1C(OP(=O)(O)O)C(OP(=O)(O)O)C(OP(=O)(O)OP(=O)(O)O)C(OP(=O)(O)OP(=O)(O)O)C1OP(=O)(O)O', 'Nc1c(C(=O)NC(CC(=O)O)C(=O)O)ncn1C1OC(COP(=O)(O)O)C(O)C1O', 'CC(C)(O)C(O)C(=O)[O-]', 'Nc1ccn(C2OC(COP(=O)(O)OP(=O)(O)O)C(O)C2O)c(=O)n1', 'CCCCCCCC/C=C\\\\CCCCCCCC(=O)O[C@H](COC(=O)CCCCCCCCCCCCCCC)COP(=O)(O)O', 'CC(C)=CCCC(C)=CCCC(C)=CCCC(C)=CCCC(C)=CCCC(C)=CCCC(C)=CCCC(C)=CCCC(C)=CCCC(C)=CCCC(C)=CCCC(C)=CCCC(C)=CCCC(C)=CCCC(C)=CCCC(C)=CCCC(C)=CCCC(C)=CCCC(C)=CCCC(C)=CCOP(=O)(O)OP(=O)(O)O', 'CCCCCCOC(C)=O', 'O=CC(O)CO', 'O=C(O)Cc1c[nH]c2ccc(O)cc12', 'O=CC[C@H](O)[C@H](O)COP(=O)([O-])[O-]', 'CCCCCC/C=C\\\\CCCCCCCC(=O)O[C@H](COC(=O)CCCCCCCCCCCCCCC)COP(=O)([O-])[O-]', 'CCCCCCCCCCCCCC(=O)O', 'CC(C)=CCCC(C)=CCCC(C)=CCCC(C)=CCCC(C)=CCCC(C)=CCc1cc(C(=O)O)ccc1O', 'CC(C)C(O)(CC(=O)O)C(=O)O', 'C=C(C)CCOP(=O)(O)OP(=O)(O)O', 'C=C(OC1C=C(C(=O)O)C=CC1O)C(=O)O', 'CCCCCC/C=C\\\\CCCCCCCC(=O)O[C@H](COC(=O)CCCCCCCCCCCCCCCCC)COP(=O)([O-])O[C@@H]1[C@H](O)[C@H](O)[C@@H](O)[C@H](O)[C@H]1O', 'O=CC=CCl', 'CC(C)=CCCC(C)=CCCC(C)=CCCC(C)=CCCC(C)=CCCC(C)=CCCC(C)=CCCC(C)=CCCC(C)=CCOC(=O)c1ccc(O)cc1', 'O=C([O-])C(O)C(O)C(O)C(O)CO', 'CCCCCCCCCCCCCCCCCCCCCCCC(=O)CC(=O)SCCNC(=O)CCNC(=O)C(O)C(C)(C)COP(=O)(O)OP(=O)(O)OCC1OC(n2cnc3c(N)ncnc32)C(O)C1OP(=O)(O)O', 'O=C1C=CC(=O)C=C1', 'OCC(O)C(O)C(O)CO', 'CCCCCCCC/C=C\\\\CC(=O)CC(=O)SCCNC(=O)CCNC(=O)[C@H](O)C(C)(C)COP(=O)(O)OP(=O)(O)OC[C@H]1O[C@@H](n2cnc3c(N)ncnc32)[C@H](O)[C@@H]1OP(=O)(O)O', 'CSCCC=O', 'C[N+](C)(C)CCOP(=O)([O-])OCC(O)CO', 'NC(=O)CCC(=O)C(=O)O', 'CCCCCCCCCC(=O)SCCNC(=O)CCNC(=O)C(O)C(C)(C)COP(=O)(O)OP(=O)(O)OCC1OC(n2cnc3c(N)ncnc32)C(O)C1OP(=O)(O)O', 'CCCCCC/C=C\\\\CCCCCCCC(=O)OC[C@H](COP(=O)([O-])[O-])OC(=O)CCCCCCC/C=C\\\\CCCCCCCC', 'O=c1[nH]cnc2c1ncn2[C@H]1C[C@H](O)[C@@H](COP(=O)(O)OP(=O)(O)O)O1', 'CC(CO)C(=O)SCCNC(=O)CCNC(=O)C(O)C(C)(C)COP(=O)(O)OP(=O)(O)OCC1OC(n2cnc3c(N)ncnc32)C(O)C1OP(=O)(O)O', 'OCc1cccc(Cl)c1', 'OCC1OC(OC2C(CO)OC(OC3C(CO)OC(O)C(O)C3O)C(O)C2O)C(O)C(O)C1O', 'CCOC(C)=O', 'CCOC(=O)CCC(=O)O', 'O=C(O)c1ccc2ccccc2n1', 'C[N+](C)(C)CCOP(=O)([O-])OP(=O)(O)OCC1OC(n2ccc(N)nc2=O)C(O)C1O', 'CCCCCC/C=C\\\\CCCCCCCCCC(=O)OC[C@H](COC(=O)CCCCCCC/C=C\\\\CCCCCCCC)OC(=O)CCCCCCC/C=C\\\\CCCCCC', 'CCCCCCCCCCCCCCCCCCCCCCCCCC(=O)NC(CO)C(O)CCCCCCCCCCCCCCC', 'CCCCCCCCCCCCCCCCCCCC(=O)CC(=O)SCCNC(=O)CCNC(=O)C(O)C(C)(C)COP(=O)(O)OP(=O)(O)OCC1OC(n2cnc3c(N)ncnc32)C(O)C1OP(=O)(O)O', 'OCC1OC(OCC2OC(OCC3OC(OC4(CO)OC(CO)C(O)C4O)C(O)C(O)C3O)C(O)C(O)C2O)C(O)C(O)C1O', 'Nc1ncnc2c1ncn2C1CC2OP(=O)(O)OCC2O1', 'O=CCO', 'NC(Cc1cnc[nH]1)C(=O)O', 'CC(C)=CCCC(C)C1CCC2C3=C(CCC21C)C1(C)CCC(O)C(C)(C(=O)O)C1CC3', 'CSCCC(N)C(=O)NC(C)C(=O)O', 'CCCCCCCCCCCCCCCCCCCCCC(O)C(O)C(=O)NC(COP(=O)(O)OC1C(O)C(O)C(O)C(O)C1OC1OC(COP(=O)(O)OC2C(O)C(O)C(O)C(O)C2O)C(O)C(O)C1O)C(O)C(O)CCCCCCCCCCCCCC', 'CCCC(O)CC(=O)SCCNC(=O)CCNC(=O)C(O)C(C)(C)COP(=O)([O-])OP(=O)([O-])OCC1OC(n2cnc3c(N)ncnc32)C(O)C1OP(=O)([O-])[O-]', 'NC(=NCCCC(N)C(=O)O)NP(=O)(O)O', 'CC1(CC(=O)O)C2=Cc3[nH]c(c(CCC(=O)O)c3CC(=O)O)Cc3[nH]c(c(CC(=O)O)c3CCC(=O)O)C=C3N=C(C=C(N2)C1CCC(=O)O)C(C)(CC(=O)O)C3CCC(=O)O', 'C[S+](CCCN)CC1OC(n2cnc3c(N)ncnc32)C(O)C1O', 'NC(=O)c1cccnc1', 'Cc1nc2c(=O)[nH]c(=O)nc-2n(CC(O)C(O)C(O)CO)c1C', 'Cc1cn(C2CC(OP(=O)(O)O)C(CO)O2)c(=O)[nH]c1=O', 'O=N[O-]', 'NC(CCC(=O)NC(CS)C(=O)O)C(=O)O', 'CCCCCC/C=C\\\\CCCCCCCC(=O)OC[C@@H](COC(=O)CCCCCCCCCCCCCCC)OC(=O)CCCCCCC/C=C\\\\CCCCCC', 'CC(C)C(N)C(=O)O', 'CCCCCCCCCCCCCCC(O)C(O)C(N)CO', 'CCOC(=O)C(C)C', 'O=C([O-])c1ccccc1', 'Nc1nc2c(ncn2C2OC(CO)C(O)C2OP(=O)(O)O)c(=O)[nH]1', 'O=C(O)Cc1cc(O)ccc1O', 'Nc1c(O)cccc1C(=O)CC(N)C(=O)O', 'CCCO', 'Nc1nc2ncc(CNc3ccc(C(=O)NC(CCC(=O)O)C(=O)O)cc3)nc2c(=O)[nH]1', 'CCCCCCCC(=O)CC(=O)SCCNC(=O)CCNC(=O)C(O)C(C)(C)COP(=O)(O)OP(=O)(O)OCC1OC(n2cnc3c(N)ncnc32)C(O)C1OP(=O)(O)O', 'CCCCCC/C=C\\\\CCCCCCCC(=O)OCC(COC(=O)CCCCCCC/C=C\\\\CCCCCC)OC(=O)CCCCCCC/C=C\\\\CCCCCC', 'CC(C)CCCC(C)C1CCC2C3CC=C4CC(O)CCC4(C)C3CCC12C', 'Nc1nc2nc[nH]c2c(=O)[nH]1', 'C=CC(=O)O', 'O=C(O)CCCC(=O)C(=O)O', 'NC(CC(O)C(=O)O)C(=O)O', 'CCCCCCCCCCCCCCCCCCCC=CC(=O)SCCNC(=O)CCNC(=O)C(O)C(C)(C)COP(=O)([O-])OP(=O)([O-])OCC1OC(n2cnc3c(N)ncnc32)C(O)C1OP(=O)([O-])[O-]', 'O=[N+]([O-])c1ccc(OP(=O)(O)O)cc1', 'Nc1nc2c(c(=O)[nH]1)NC(CNc1ccc(C(=O)NC(CCC(=O)NC(CCC(=O)O)C(=O)O)C(=O)O)cc1)CN2', 'O=c1ccn(C2CC(O)C(COP(=O)(O)OP(=O)(O)O)O2)c(=O)[nH]1', 'O=S(=O)([O-])[O-]', 'CC(O)C(NC(=O)OP(=O)(O)OCC1OC(n2cnc3c(N)ncnc32)C(O)C1O)C(=O)O', 'NC(CO)Cc1cnc[nH]1', 'Nc1ccc(C(=O)[O-])cc1', 'O=C(O)C(=O)CC(O)C(O)C(O)COP(=O)(O)O', 'CCCCCCCC/C=C\\\\CCCCCCCC(=O)O[C@H](COC(=O)CCCCCCCCCCCCCCC)COP(=O)(O)O[C@@H]1[C@H](O)[C@H](O)[C@@H](O)[C@H](O)[C@H]1O', 'O=P(O)(O)OC1OC(CO)C(O)C(O)C1O', 'Nc1nc2c(c(=O)[nH]1)NC(CNc1ccc(C(=O)NC(CCC(=O)NC(CCC(=O)NC(CCC(=O)O)C(=O)O)C(=O)O)C(=O)O)cc1)CN2', 'Nc1nc2c(ncn2C2OC(CO)C(O)C2O)c(=O)[nH]1', 'CCCCCCCCCCCCCCCC(=O)OC[C@@H](O)COP(=O)([O-])OCC[N+](C)(C)C', 'O=c1[nH]cnc2nc[nH]c12', 'C=C(CC(=O)O)C(=O)O', 'O=c1[nH]cnc2c1ncn2C1CC(O)C(COP(=O)(O)OP(=O)(O)OP(=O)(O)O)O1', 'O=C(COP(=O)(O)O)C(O)C(O)C(O)CO', 'CCCCCCCCCCCCCC=CC(=O)SCCNC(=O)CCNC(=O)C(O)C(C)(C)COP(=O)(O)OP(=O)(O)OCC1OC(n2cnc3c(N)ncnc32)C(O)C1OP(=O)(O)O', 'CCCCCC/C=C\\\\CCCCCCCC(=O)OC[C@H](COP(=O)(O)OC[C@H](O)COP(=O)(O)OC[C@@H](COC(=O)CCCCCCC/C=C\\\\CCCCCCCC)OC(=O)CCCCCCC/C=C\\\\CCCCCC)OC(=O)CCCCCCC/C=C\\\\CCCCCC', 'NC(=O)NCCCC(N)C(=O)O', 'N#CN', 'Cc1cccc(C=O)c1', 'Nc1nc2c(ncn2C2OC(COP(=O)(O)O)C(O)C2O)c(=O)[nH]1', 'CCCCCCCC/C=C\\\\CCCCCCCC(=O)O[C@H](COC(=O)CCCCCCCCCCCCCCC)COP(=O)(O)OP(=O)(O)O', 'Cc1ncc(COP(=O)(O)OP(=O)(O)O)c(N)n1', 'CCCCCCCCCCCCCCCC(=O)O', 'Cc1ncc(COP(=O)(O)O)c(CN)c1O', 'CCCCCCCC/C=C\\\\CCCCCCCC(=O)O[C@H](COC(=O)CCCCCCCCCCCCCCC)COP(=O)(O)OC[C@H](N)C(=O)O', 'O=C(O)c1ccc[n+](C2OC(COP(=O)(O)O)C(O)C2O)c1', 'CC(=O)C(=O)[O-]', 'CCCCCCCC/C=C\\\\CCCCCCCC(=O)OC[C@@H](COC(=O)CCCCCCCCCCCCCCC)OC(=O)CCCCCCCCCCCCCCCCC', 'NC(=O)CCCCC(S)CCS', 'CCCCCC/C=C\\\\CCCCCCCC(=O)OC[C@H](CO)OC(=O)CCCCCCC/C=C\\\\CCCCCC', 'CC(CCC(=O)NCCS(=O)(=O)O)C1CCC2C3C(O)CC4CC(O)CCC4(C)C3CC(O)C12C', 'CCCCCCC=CCCCCCCCC(=O)OC[C@H](COP(=O)(O)OP(=O)(O)OC[C@H]1O[C@@H](n2ccc(N)nc2=O)[C@H](O)[C@@H]1O)OC(=O)CCCCCCCC=CCCCCCC', 'NC(=O)CC(N)C(=O)O', 'Cc1ncc(CO)c(C=O)c1O', 'O=C(COP(=O)(O)O)Cc1cnc[nH]1', 'OCCc1c[nH]c2ccccc12', 'Nc1c(NCC(O)C(O)C(O)COP(=O)(O)O)[nH]c(=O)[nH]c1=O', 'Nc1c(NCC(O)C(O)C(O)CO)[nH]c(=O)[nH]c1=O', 'Cc1ncc(CO)c(CO)c1O', 'Cc1ncsc1CCO', 'O=CNCC(=O)NC1OC(COP(=O)(O)O)C(O)C1O', 'Nc1ncnc2c1ncn2C1OC(CO)C(OP(=O)(O)O)C1O', 'O=C(O)C(=O)CC(O)C(=O)O', 'O=C(O)C(COP(=O)(O)O)OP(=O)(O)O', 'CCCCCC/C=C\\\\CCCCCCCC(=O)O[C@H](COC(=O)CCCCCCC/C=C\\\\CCCCCCCC)COP(=O)(O)OC[C@H](N)C(=O)O', 'CCCCCCCCCC/C=C/CC(=O)SCCNC(=O)CCNC(=O)[C@H](O)C(C)(C)COP(=O)(O)OP(=O)(O)OC[C@H]1O[C@@H](n2cnc3c(N)ncnc32)[C@H](O)[C@@H]1OP(=O)(O)O', 'CCCCCCCCCCCCCCCCCC(=O)OC[C@@H](O)COP(=O)([O-])OCC[N+](C)(C)C', 'CC(C)=CCCC(C)=CCCC(C)=CCCC(C)=CCCC(C)=CCCC(C)=CCCC(C)=CCCC(C)=CCCC(C)=CCCC(C)=CCOP(=O)(O)OP(=O)(O)O', 'O=c1[nH]cnc2c1ncn2C1OC(COP(=O)(O)OP(=O)(O)O)C(O)C1O', 'OCC1OC(O)(CO)C(O)C1O', 'O=C(COP(=O)(O)O)[C@@H](O)[C@H](O)[C@H](O)COP(=O)(O)O', 'O=c1[nH]cnc2c1ncn2C1OC(CO)C(O)C1O', 'CCCCCCCCCCCCCCCCCCCCCC(O)C(O)C(=O)NC(COP(=O)(O)OC1C(O)C(O)C(O)C(O)C1OC1OC(CO)C(O)C(O)C1O)C(O)C(O)CCCCCCCCCCCCCC', 'O=C1OC(C(O)CO)C(O)=C1O', 'OO', 'O=C(O)CCl', 'O=C(O)C1=CC(O)C(O)C(O)C1', 'CCCCCC/C=C\\\\CCCCCCCC(=O)OC[C@H](COC(=O)CCCCCCCCCCCCCCCCC)OC(=O)CCCCCCC/C=C\\\\CCCCCC', 'CC(=O)NC1C(OP(=O)(O)O)OC(CO)C(O)C1O', 'Nc1nc2c(ncn2C2CC(O)C(COP(=O)(O)OP(=O)(O)O)O2)c(=O)[nH]1', 'CC(C)=CCCC(C)=CCCC(C)=CCCC(C)=CCCC(C)=CCCC(C)=CCCC(C)=CCCC(C)=CCCC(C)=CCCC(C)=CCCC(C)=CCOP(=O)(O)OP(=O)(O)O', 'CC(N)C(=O)NC(Cc1cnc[nH]1)C(=O)O', 'CCO', 'CC(=O)C(C)O', 'NC(=O)NC(CC(=O)O)C(=O)O', 'NC(=O)NC1NC(=O)NC1=O', 'Cc1ncc(C[n+]2csc(CCOP(=O)(O)OP(=O)([O-])O)c2C)c(N)n1', 'COC1OC(CO)C(O)C(O)C1O', 'O=C[O-]', 'Nc1nc2c(c(=O)[nH]1)N=C(C(O)C(O)COP(=O)(O)OP(=O)(O)OP(=O)(O)O)CN2', 'CSCCC(NC(=O)CN)C(=O)O', 'CCCCCCCCC=CCC(=O)SCCNC(=O)CCNC(=O)C(O)C(C)(C)COP(=O)(O)OP(=O)(O)OCC1OC(n2cnc3c(N)ncnc32)C(O)C1OP(=O)(O)O', 'CCCCCCCCCCCCCCCCCCCC(=O)SCCNC(=O)CCNC(=O)C(O)C(C)(C)COP(=O)(O)OP(=O)(O)OCC1OC(n2cnc3c(N)ncnc32)C(O)C1OP(=O)(O)O', 'CCCCCC/C=C\\\\CCCCCCCC(=O)OC[C@H](COP(=O)(O)OCCN)OC(=O)CCCCCCC/C=C\\\\CCCCCC', 'Cc1nc(C(=O)[O-])sc1CCOP(=O)([O-])OP(=O)([O-])OCC1OC(n2cnc3c(N)ncnc32)C(O)C1O', 'Cc1cn(C2CC(O)C(COP(=O)(O)O)O2)c(=O)[nH]c1=O', 'O=C(CO)COP(=O)(O)O', 'CC(N)C(=O)NCC(=O)O', 'NC(CS)C(=O)NCC(=O)O', 'CCCCCCCCCCCCCC(O)CC(=O)SCCNC(=O)CCNC(=O)C(O)C(C)(C)COP(=O)(O)OP(=O)(O)OCC1OC(n2cnc3c(N)ncnc32)C(O)C1OP(=O)(O)O', 'CCCCCCCC/C=C\\\\CCCCCCCC(=O)OC[C@@H](O)COP(=O)(O)OC[C@H](N)C(=O)O', 'O=C(O)Cc1cnc[nH]1', 'O=C1OC(CO)C(O)C1O', 'CCCCCCCCCCCCCCCC(O)CC(=O)SCCNC(=O)CCNC(=O)C(O)C(C)(C)COP(=O)(O)OP(=O)(O)OCC1OC(n2cnc3c(N)ncnc32)C(O)C1OP(=O)(O)O', 'NC(CCOP(=O)(O)O)C(=O)O', 'CO', 'CCCCCCCCC=CCCCCCCCC(=O)OC1CCC2(C)C(=CC=C3C2CCC2(C)C3CCC2C(C)C=CC(C)C(C)C)C1', 'CCCCCCCCCCCCCCCCCC(=O)OCC(=O)COP(=O)(O)O', 'CC(C)=CCCC(C)=CCCC(C)=CCCC(C)=CCCC(C)=CCCC(C)=CCCC(C)=CCCC(C)=CCOP(=O)(O)OP(=O)(O)O', 'CCCCCC/C=C\\\\CCCCCCCC(=O)O[C@H](COC(=O)CCCCCCCCCCCCCCCCC)COP(=O)([O-])OCC[N+](C)(C)C', 'O=c1ccn(C2OC(CO)C3OP(=O)(O)OC32)c(=O)[nH]1', 'O=C(O)C1CC(O)CN1', 'CCCCCCCCCC(O)CC(=O)SCCNC(=O)CCNC(=O)C(O)C(C)(C)COP(=O)(O)OP(=O)(O)OCC1OC(n2cnc3c(N)ncnc32)C(O)C1OP(=O)(O)O', 'CCCCCC/C=C\\\\CCCCCCCC(=O)OC[C@H](COP(=O)([O-])OCC[N+](C)(C)C)OC(=O)CCCCCCC/C=C\\\\CCCCCCCC', 'C=C(CCC(C)C1CCC2C3=CCC4CC(OC(=O)CCCCCCCC=CCCCCCC)CCC4(C)C3CCC21C)C(C)C', 'CCCCCCCC/C=C\\\\CCCCCCCC(=O)O[C@H](COC(=O)CCCCCCCCCCCCCCC)COP(=O)([O-])OC[C@@H](O)COP(=O)([O-])[O-]', 'CCCCCCCCCCCCCCCCCCCCCCCC(=O)NC(COP(=O)(O)OC1C(O)C(O)C(O)C(O)C1OC1OC(COP(=O)(O)OC2C(O)C(O)C(O)C(O)C2O)C(O)C(O)C1O)C(O)CCCCCCCCCCCCCCC', 'OCc1ccccc1', 'CCCCCCCCCCCCCCCCCCCCCCCC(=O)N[C@@H](CO)[C@H](O)CCCCCCCCCCCCCCC', 'CC(N)C(N)CCCCCC(=O)O', 'O=C([O-])CC(Nc1ncnc2c1ncn2C1OC(COP(=O)([O-])[O-])C(O)C1O)C(=O)[O-]', 'Nc1ccn(C2CC(O)C(COP(=O)(O)OP(=O)(O)O)O2)c(=O)n1', 'O=c1ccn(C2OC(CO)C(O)C2O)c(=O)[nH]1', 'NCCS(=O)(=O)O', 'O=CCCl', 'OC1COC(O)C(O)C1O', 'CCCCC/C=C\\\\C/C=C\\\\CCCCCCCC(=O)SCCNC(=O)CCNC(=O)[C@H](O)C(C)(C)COP(=O)(O)OP(=O)(O)OC[C@H]1O[C@@H](n2cnc3c(N)ncnc32)[C@H](O)[C@@H]1OP(=O)(O)O', 'NCSCCC(S)CCCCC(N)=O', 'CSCC(O)C(O)C(=O)COP(=O)(O)O', 'Nc1nc(NC2OC(COP(=O)(O)O)C(O)C2O)c(N)c(=O)[nH]1', 'CCCCCC/C=C\\\\CCCCCCCC(=O)OC[C@H](COC(=O)CCCCCCCCCCCCCCCCC)OC(=O)CCCCCCCCCCCCCCCCC', 'Nc1ccn(C2OC(COP(=O)(O)O)C(O)C2O)c(=O)n1', 'CCCCCCCCCCCCCCCCCCCCCCCCC(O)C(=O)N[C@@H](COP(=O)(O)O[C@@H]1[C@H](O)[C@H](O)[C@@H](O)[C@H](O)[C@H]1OC1O[C@H](CO)[C@@H](O)[C@H](O)[C@@H]1O)[C@H](O)C(O)CCCCCCCCCCCCCC', 'CCCCCCCCCCCCCCCC(=O)OC[C@@H](O)COP(=O)(O)O[C@@H]1[C@H](O)[C@H](O)[C@@H](O)[C@H](O)[C@H]1O', 'O=P([O-])([O-])OC(CO)CO', 'O=Cc1cccc(O)c1', 'Nc1ncnc2c1ncn2C1OC(COP(=O)(O)OS(=O)(=O)O)C(OP(=O)(O)O)C1O', 'NCCC=O', 'Nc1nc2c(ncn2C2CC(O)C(COP(=O)(O)O)O2)c(=O)[nH]1', 'O=C(O)c1cc(=O)[nH]c(=O)n1C1OC(COP(=O)(O)O)C(O)C1O', 'CC(O)C=O', '[NH3+]CC(=O)NC1O[C@H](COP(=O)([O-])[O-])[C@@H](O)[C@H]1O', 'O=P(O)(O)OCC1OC(O)C(O)C1O', 'CCCCCCCCCCCCCCCCCCCCCCC(O)C(=O)NC(CO)C(O)C(O)CCCCCCCCCCCCCC', 'O=CCc1cnc[nH]1', 'CCCCC/C=C\\\\C/C=C\\\\CCCCCCCC(=O)SCCNC(=O)CCNC(=O)[C@H](O)C(C)(C)COP(=O)([O-])OP(=O)([O-])OC[C@H]1O[C@@H](n2cnc3c(N)ncnc32)[C@H](O)[C@@H]1OP(=O)([O-])[O-]', 'Nc1ccn(C2OC(CO)C(O)C2OP(=O)(O)O)c(=O)n1', 'CCOC(=O)CCC(=O)OCC', 'O=C(O)C1CC(O)C=N1', 'CC(C)(COP(=O)(O)O)C(O)C(=O)NCCC(=O)NCCS', 'O=C(O)C=CCl', 'O=c1[nH]cc(C2OC(COP(=O)(O)O)C(O)C2O)c(=O)[nH]1', 'CC(C)=CCCC(C)=CCCC(C)=CCCC(C)=CCCC(C)=CCOP(=O)(O)OP(=O)(O)O', '[Fe+2]', 'Nc1ccn(C2OC(CO)C3OP(=O)([O-])OC32)c(=O)n1', 'CCC([NH3+])C(=O)[O-]', 'O=C(OP(=O)(O)O)C(O)COP(=O)(O)O', 'CCC(C)CO', 'O=C(O)c1ccccc1NCC(=O)C(O)C(O)COP(=O)(O)O', 'O=c1ccn(C2OC(CO)C(O)C2OP(=O)(O)O)c(=O)[nH]1', 'Cc1cc2c3c(c1C)C(C)(C)CCN3c1c([nH]c(=O)[nH]c1=O)N2C[C@H](O)[C@H](O)[C@H](O)COP(=O)(O)O', 'C=C(C)C1CC=C(C(=O)O)CC1', 'CCCCCC/C=C\\\\CCCCCCCC(=O)O[C@H](CO)COP(=O)(O)O[C@@H]1[C@H](O)[C@H](O)[C@@H](O)[C@H](O)[C@H]1O', 'Nc1nc2c(c(=O)[nH]1)N1CN(c3ccc(C(=O)NC(CCC(=O)O)C(=O)O)cc3)CC1CN2', 'NC(CCCC=O)C(=O)O', 'C[S+](CCC(=O)C(=O)O)CC1OC(n2cnc3c(N)ncnc32)C(O)C1O', 'OCC1OC(OC2C(CO)OC(O)C(O)C2O)C(O)C(O)C1O', 'CCCCCCCCCCCCCCCCCCCCCCC(O)C(=O)NC(COP(=O)(O)OC1C(O)C(O)C(O)C(O)C1OC1OC(CO)C(O)C(O)C1O)C(O)C(O)CCCCCCCCCCCCCC', 'NC(CCC=O)C(=O)O', 'CCCCCCCCCCCCCC(=O)CC(=O)SCCNC(=O)CCNC(=O)C(O)C(C)(C)COP(=O)(O)OP(=O)(O)OCC1OC(n2cnc3c(N)ncnc32)C(O)C1OP(=O)(O)O', 'CCCCCCCCCCCCCCCCCCCCCC(=O)SCCNC(=O)CCNC(=O)C(O)C(C)(C)COP(=O)(O)OP(=O)(O)OCC1OC(n2cnc3c(N)ncnc32)C(O)C1OP(=O)(O)O', 'Nc1ccn(C2CC(O)C(CO)O2)c(=O)n1', 'OCCc1ccc(O)cc1', 'CC(C)=CCCC(C)C1CCC2C3=C(CCC21C)C1(C)CCC(=O)CC1CC3', 'NC(=O)NC(=O)O', 'CCCCCC/C=C\\\\CCCCCCCC(=O)O[C@H](COC(=O)CCCCCCC/C=C\\\\CCCCCCCC)COP(=O)(O)OC[C@@H](O)COP(=O)(O)OC[C@@H](COC(=O)CCCCCCCCCCCCCCC)OC(=O)CCCCCCC/C=C\\\\CCCCCC', 'O=C(O)c1ccccc1NC1OC(COP(=O)(O)O)C(O)C1O', 'Cc1cccc(CO)c1', 'CC(C)c1ccc(CO)cc1', 'Cc1cc2nc3c(=O)[nH]c(=O)nc-3n(CC(O)C(O)C(O)COP(=O)(O)OP(=O)(O)OCC3OC(n4cnc5c(N)ncnc54)C(O)C3O)c2cc1C', '[H+]', 'CCCCCCCCCCCCCCCCCCCCCCCC(=O)NC(CO)C(O)C(O)CCCCCCCCCCCCCC', 'O=c1[nH]c(=O)c2[nH]cnc2[nH]1', 'O=C1CC(C(=O)O)NC(=O)N1', 'NCCCC(=O)O', 'CCCCCCCCCCCCCCCCCC(=O)SCCNC(=O)CCNC(=O)C(O)C(C)(C)COP(=O)(O)OP(=O)(O)OCC1OC(n2cnc3c(N)ncnc32)C(O)C1OP(=O)(O)O', 'O=C(O)CCC(C(=O)O)C(O)C(=O)O', 'O=C(CO)CO', 'CC(C)CC(N)C(=O)O', 'CCCCCC=CCC=CCCCCCCCC(=O)[O-]', 'O=[N+]([O-])[O-]', 'Nc1ncnc2c1ncn2C1OC2COP(=O)(O)OC2C1O', '[O][O-]', 'CCCCCCCCCCCCCCCC(=O)OC[C@@H](O)COP(=O)([O-])OC[C@H]([NH3+])C(=O)[O-]', 'Nc1cncn1C1OC(COP(=O)(O)O)C(O)C1O', 'O=C(O)C=CC(=O)CC(=O)CC(=O)O', 'CCCCCCCCCC(=O)OCC', 'Nc1nc2c(c(=O)[nH]1)N(C=O)C(CNc1ccc(C(=O)NC(CCC(=O)O)C(=O)O)cc1)CN2', 'CCCCCCCCCCCCCCCCCCCCCCCC=CC(=O)SCCNC(=O)CCNC(=O)C(O)C(C)(C)COP(=O)(O)OP(=O)(O)OCC1OC(n2cnc3c(N)ncnc32)C(O)C1OP(=O)(O)O', 'CC(C)C(=O)C(=O)O', 'NC(CCc1ncc(CC(N)C(=O)O)[nH]1)C(=O)O', 'O=C(O)C(O)C(O)C(O)C(O)COP(=O)(O)O', 'CCCCCCCC/C=C\\\\CCCCCCCC(=O)OCC(=O)COP(=O)(O)O', 'CCCCCCCCCCCCCCCCCC(=O)OC[C@@H](O)COP(=O)(O)O', 'O=C([O-])CCC(=O)[O-]', 'O=C([O-])C(O)C(O)C(O)C(=O)CO', 'CC(N)C(=O)NC(CC(=O)O)C(=O)O', 'C[N+](C)(C)CCO', 'CCCCCCCCCCCCCCCCCCCCCCCCC(O)C(=O)N[C@@H](COP(=O)(O)O[C@@H]1[C@H](O)[C@H](O)[C@@H](O)[C@H](O)[C@H]1OC1O[C@H](CO)[C@@H](O)[C@H](O)[C@@H]1O)[C@H](O)CCCCCCCCCCCCCCC', 'C=CC1=C(C)c2cc3[n-]c(cc4nc(cc5[n-]c(cc1n2)c(C)c5CCC(=O)O)C(CCC(=O)O)=C4C)c(C)c3C=C.[Fe]', 'NCCOP(=O)(O)O', '[Mn+2]', 'CCCCCC=CCC=CC=CC=CC(O)C(O)CCCC(=O)O', 'O=P(O)(O)OC1C(OP(=O)(O)O)C(OP(=O)(O)O)C(OP(=O)(O)OP(=O)(O)O)C(OP(=O)(O)O)C1OP(=O)(O)O', 'CCCCCCCCCCCCCCCCCC(=O)OC[C@@H](O)COP(=O)(O)OC[C@H](N)C(=O)O', 'CCCCCC/C=C\\\\CCCCCCCC(=O)OC[C@H](COP(=O)(O)OC[C@@H](O)COP(=O)(O)OC[C@@H](COC(=O)CCCCCCCCCCCCCCC)OC(=O)CCCCCCC/C=C\\\\CCCCCCCC)OC(=O)CCCCCCC/C=C\\\\CCCCCC', 'CC(=O)NC1C(O)OC(CO)C(O)C1O', 'CCCCCCCCCCCC(O)CC(=O)SCCNC(=O)CCNC(=O)C(O)C(C)(C)COP(=O)(O)OP(=O)(O)OCC1OC(n2cnc3c(N)ncnc32)C(O)C1OP(=O)(O)O', 'OCC(O)C(O)C(O)C(O)CO', 'CCOC(=O)C(C)CC', 'CCC(C)(O)C(O)C(=O)[O-]', 'CC(O)C(=O)SCC(NC(=O)CCC(N)C(=O)O)C(=O)NCC(=O)O', 'NC(CCCC(=O)O)C(=O)O', 'CSCCC(N)C(=O)O', 'CC(C)=CCCC(C)C1CCC2C3=C(CCC21C)C1(C)CCC(O)C(C=O)C1CC3', 'O=C([O-])CNC(=O)[C@H](CS)NC(=O)CCC(=O)C(=O)[O-]', 'CCCCCCCCCCCCCCCC(=O)C(N)CO', 'Cc1ncc(C[n+]2csc(CCOP(=O)(O)O)c2C)c(N)n1', 'Nc1nc2c(c(=O)[nH]1)N=C(CNc1ccc(C(=O)NC(CCC(=O)O)C(=O)O)cc1)CN2', 'CCCCCC/C=C\\\\CCCCCCCC(=O)OC[C@@H](COC(=O)CCCCCCCCCCCCCCC)OC(=O)CCCCCCCCCCCCCCC', 'NC1C(O)OC(CO)C(O)C1O', 'NCCCCN', 'CC(O)(CCOP(=O)(O)O)CC(=O)O', 'CC(CCCC(C)C1CCC2C3C(O)CC4CC(O)CCC4(C)C3CCC12C)C(=O)O', 'Cc1ncsc1CCOP(=O)(O)O', 'O=C(O)C1CCC=N1', 'NC(CCOC(=O)CCC(=O)O)C(=O)O', 'CC(O)(CC(=O)C(=O)[O-])C(=O)[O-]', 'C#N', 'Nc1nc2c(ncn2C2OC(COP(=O)(O)OP(=O)(O)OC3OC(CO)C(O)C(O)C3O)C(O)C2O)c(=O)[nH]1', 'CC(=O)OCC(N)C(=O)O', 'CCCCCCCCCCCCCCCC(=O)OCC(=O)COP(=O)(O)O', 'CC(O)(C(=O)O)C(CC(=O)O)C(=O)O', 'O=C([O-])O', 'CCCCCCCC/C=C\\\\CCCCCCCC(=O)O[C@H](COC(=O)CCCCCCCCCCCCCCCCC)COP(=O)(O)O[C@H]1[C@H](O)[C@@H](O)[C@H](OP(=O)(O)O)[C@@H](O)[C@H]1O', 'C[N+](C)(C)CCOP(=O)(O)O.[Cl-]', 'Nc1ncnc2c1ncn2C1CC(O)C(CO)O1', 'Cc1nc(C(=O)O)sc1CCOP(=O)(O)O', 'NC(=O)C1=CN(C2OC(COP(=O)(O)OP(=O)(O)OCC3OC(n4cnc5c(N)ncnc54)C(O)C3O)C(O)C2O)C=CC1', 'CCCCCC/C=C\\\\CCCCCCCC(=O)OC[C@H](COP(=O)(O)OC[C@@H](O)COP(=O)(O)OC[C@@H](COC(=O)CCCCCCCCCCCCCCC)OC(=O)CCCCCCC/C=C\\\\CCCCCCCC)OC(=O)CCCCCCC/C=C\\\\CCCCCCCC', 'O=C([O-])C(=O)Cc1ccc(O)cc1', 'CC(O)(CC(=O)O)CC(=O)SCCNC(=O)CCNC(=O)C(O)C(C)(C)COP(=O)(O)OP(=O)(O)OCC1OC(n2cnc3c(N)ncnc32)C(O)C1OP(=O)(O)O', 'CCCCCCCCCCCCCCCCCCCCCCCC(=O)NC(COP(=O)([O-])OC1C(O)C(O)C(O)C(O)C1O)C(O)CCCCCCCCCCCCCCC', 'CCCCCCCC/C=C\\\\C=C\\\\CC(=O)SCCNC(=O)CCNC(=O)[C@H](O)C(C)(C)COP(=O)(O)OP(=O)(O)OC[C@H]1O[C@@H](n2cnc3c(N)ncnc32)[C@H](O)[C@@H]1OP(=O)(O)O', 'NC(=O)c1ncn([C@@H]2O[C@H](COP(=O)([O-])[O-])[C@@H](O)[C@H]2O)c1NC=NCC(=O)[C@H](O)[C@H](O)COP(=O)([O-])[O-]', 'NC(=O)c1ccc[n+](C2OC(CO)C(O)C2O)c1', 'CC(C)=CCCC(C)=CCCC(C)=CCCC(C)=CCCC(C)=CCCC(C)=CCCC(C)=CCOP(=O)(O)OP(=O)(O)O', 'CCCCCCCCCCCCCCCCCCCC(O)CC(=O)SCCNC(=O)CCNC(=O)C(O)C(C)(C)COP(=O)(O)OP(=O)(O)OCC1OC(n2cnc3c(N)ncnc32)C(O)C1OP(=O)(O)O', 'O=P(O)(O)OCC1OC(O)CC(O)C1O', 'CCCCCCCCCCCCCCCCCCCCCCCCC(O)C(=O)NC(COP(=O)([O-])OC1C(O)C(O)C(O)C(O)C1OC1OC(COP(=O)([O-])OC2C(O)C(O)C(O)C(O)C2O)C(O)C(O)C1O)C(O)C(O)CCCCCCCCCCCCCC', 'C=Cc1c(C)c2cc3[nH]c(cc4nc(cc5nc(cc1[nH]2)C(C)=C5CCC(=O)O)C(CCC(=O)O)=C4C)c(C)c3C=C', 'Nc1ncnc2c1ncn2C1CC(O)C(COP(=O)(O)OP(=O)(O)OP(=O)(O)O)O1', 'CCCCCCCC(=O)OCC', 'CC1NC(=O)NC1CCCCCC(=O)O', 'O=C(c1ccccc1)C(O)c1ccccc1', 'CC(O)C(O)C1=Nc2c(nc(N)[nH]c2=O)NC1', 'CCCCCC/C=C\\\\CCCCCCCC(=O)O[C@@H](CO)COC(=O)CCCCCCCCCCCCCCCCC', 'CC(C)CC(=O)C(=O)O', 'CC(=O)NCCCNCCCCN', 'O=C(CO)C(O)C(O)CO', 'O=C(O)C(CO)OP(=O)(O)O', 'CCCCCCCCCCCCCCCCCCCC(=O)O', 'CC(=O)NC1C(O)OC(COP(=O)(O)O)C(O)C1O', 'CN1c2c(nc(N)[nH]c2=O)NCC1CNc1ccc(C(=O)NC(CCC(=O)O)C(=O)O)cc1', 'O=CC(O)C(O)C(O)COP(=O)([O-])[O-]', 'CC(C)=CCCC(C)=CCCC(C)=CCCC(C)=CCCC(C)=CCCC(C)=CCCC(C)=CCCC(C)=CCCC(C)=CCCC(C)=CCCC(C)=CCCC(C)=CCCC(C)=CCOP(=O)(O)OP(=O)(O)O', 'NC(CCC(=O)OP(=O)(O)O)C(=O)O', 'O=C(O)Cc1ccccc1', 'C=C(CCC(C)C1CCC2C3=C(CCC21C)C1(C)CCC(O)CC1CC3)C(C)C', 'CCCCCCCCCCCCCCCCCCCCCCC(O)C(=O)NC(COP(=O)(O)OC1C(O)C(O)C(O)C(O)C1OC1OC(CO)C(O)C(O)C1O)C(O)CCCCCCCCCCCCCCC', 'C=O', 'Nc1nc2c(c(=O)[nH]1)N=C(C(O)C(O)CO)CN2', 'Nc1nc2c(ncn2C2OC(COP(=O)(O)OP(=O)(O)O)C(O)C2O)c(=O)[nH]1', 'OC1C(O)C(O)C(O)C(O)C1O', 'CC=O', 'NCCC(=O)O', 'CCCCCC/C=C\\\\CCCCCCCC(=O)OC[C@H](COC(=O)CCCCCCC/C=C\\\\CCCCCCCC)OC(=O)CCCCCCC/C=C\\\\CCCCCCCC', 'CC(N)C(=O)NC(CCC(N)=O)C(=O)O', 'NC(CCO)C(=O)O', 'CCCCCCCCCCCCCCCCCCCCCCCCCC(=O)N[C@@H](COP(=O)(O)O[C@@H]1[C@H](O)[C@H](O)[C@@H](O)[C@H](O)[C@H]1OC1O[C@H](COP(=O)(O)O[C@@H]2[C@H](O)[C@H](O)[C@@H](O)[C@H](O)[C@H]2O)[C@@H](O)[C@H](O)[C@@H]1O)[C@H](O)C(O)CCCCCCCCCCCCCC', 'CC(O)C(N)C(=O)O', 'CCCCCCCCCCCCCCC(O)C(O)C(N)COP(=O)(O)O', 'S=S=S', 'CC(C)(COP(=O)(O)OP(=O)(O)OCC1OC(n2cnc3c(N)ncnc32)C(O)C1OP(=O)(O)O)C(O)C(=O)NCCC(=O)NCCSC(=O)CCCCCC(=O)O', 'O=c1ccn(C2CC(O)C(CO)O2)c(=O)[nH]1', 'OCC1OC(OC2(CO)OC(CO)C(O)C2O)C(O)C(O)C1O', 'CCCCCC/C=C\\\\CCCCCCCCCC(=O)OC[C@@H](COC(=O)CCCCCCCCCCCCCCCCC)OC(=O)CCCCCCCCCCCCCCC', 'O=CCc1c[nH]c2ccc(O)cc12', '[NH3+]C(CC=O)C(=O)[O-]', 'O=P(O)(O)OP(=O)(O)OP(=O)(O)O', 'Nc1ncnc2c1ncn2C1OC(CO)C(O)C1O', 'Nc1ccccc1C(=O)CC(N)C(=O)O', 'C=C(C)C1CC=C(C=O)CC1', 'CCCCCCCCCCCCCCCCCCCCCCC(O)C(=O)NC(COP(=O)(O)OC1C(O)C(O)C(O)C(O)C1O)C(O)C(O)CCCCCCCCCCCCCC', 'O=c1ccn(C2OC(COP(=O)(O)OP(=O)(O)O)C(O)C2O)c(=O)[nH]1', 'NC(C(=O)O)=C(C=CC=O)C(=O)O', '[Fe+3]', 'NC(=O)CCCCC(S)CCSC(=O)CCC(=O)O', '[O]c1ccc(O)cc1', 'CSCCCO', 'O=C(O)CCCCC1SCC2NC(=O)NC21', 'CC(C)=CCCC(C)C1CC=C2C3=C(CCC21C)C1(C)CCC(O)C(C)(C)C1CC3', 'NCCS(=O)O', 'CCC(C)C(=O)C(=O)O', 'Cc1ncc(CO)c(CN)c1O', '[Zn+2]', 'Nc1nc2c(c(=O)[nH]1)N=C(COP(=O)(O)OP(=O)(O)O)CN2', 'Cc1cc2c(cc1C)N(CC(O)C(O)C(O)COP(=O)(O)O)c1[nH]c(=O)[nH]c(=O)c1N2', 'O=P(O)(O)OC1C(O)C(O)C(OP(=O)(O)O)C(OP(=O)(O)O)C1OP(=O)(O)O', 'CC(C)=CCCC(C)=CCOP(=O)(O)OP(=O)(O)O', 'CCCCCCCC/C=C\\\\CCCCCCCC(=O)O[C@H](COC(=O)CCCCCCCCCCCCCCCCC)COP(=O)(O)O', 'O=C([O-])COP(=O)([O-])[O-]', 'Nc1nc2c(ncn2C2CC(O)C(CO)O2)c(=O)[nH]1', 'CC1(CC(=O)O)c2cc3[n-]c(cc4nc(cc5[n-]c(cc(n2)C1CCC(=O)O)C(C)(CC(=O)O)C5CCC(=O)O)C(CC(=O)O)=C4CCC(=O)O)c(CCC(=O)O)c3CC(=O)O.[Fe+2]', 'CCCC(=O)[O-]', 'CCCCCC/C=C\\\\CCCCCCCC(=O)O[C@H](COC(=O)CCCCCCC/C=C\\\\CCCCCCCC)COP(=O)([O-])OCC[N+](C)(C)C', 'NC(=NCCCC(N)C(=O)O)NC(CC(=O)O)C(=O)O', 'CC=[N+]([O-])[O-]', 'Nc1ccn(C2OC(COP(=O)(O)OP(=O)(O)OP(=O)(O)O)C(O)C2O)c(=O)n1', 'COC1=CC(=O)C=C(CC=C(C)CCC=C(C)CCC=C(C)CCC=C(C)CCC=C(C)CCC=C(C)C)C1=O', 'CCC(C)COC(C)=O', 'CC(C)=CCCC(C)=CCCC(C)=CCCC(C)=CCOP(=O)(O)OP(=O)(O)O', 'CCC(=O)[O-]', 'O=C(O)c1cc(=O)c2cccc(O)c2[nH]1', 'Cc1cc2nc3c(=O)[nH]c(=O)nc-3n(CC(O)C(O)C(O)COP(=O)(O)O)c2cc1C', 'CCCCCCCCCCCCCCCCCCCCCCC(O)C(=O)NC(COP(=O)(O)OC1C(O)C(O)C(O)C(O)C1OC1OC(COP(=O)(O)OC2C(O)C(O)C(O)C(O)C2O)C(O)C(O)C1O)C(O)CCCCCCCCCCCCCCC', 'CC(C)CCO', 'O=P(O)(O)OCC(O)CO', 'NC(CCC(=O)NC(CS)C(=O)NCC(=O)O)C(=O)O', 'Nc1ncnc2c1ncn2C1OC(COP(=O)(O)OP(=O)(O)OP(=O)(O)O)C(O)C1O', 'OCC1OC(OC2OC(CO)C(O)C(O)C2O)C(O)C(O)C1O', 'NCC(=O)NC(CCC(N)=O)C(=O)O', 'CN(CC(=O)O)C(N)=NP(=O)(O)O', 'CC(C)=CCCC(C)=CCCC(C)=CCCC(C)=CCCC(C)=CCCC(C)=CCCC(C)=CCCC(C)=CCCC(C)=CCCC(C)=CCCC(C)=CCCC(C)=CCOP(=O)(O)OP(=O)(O)O', 'O=C(C(=O)c1ccccc1)c1ccccc1', 'O', 'Nc1nc2c(c(=O)[nH]1)NC(CNc1ccc(C(=O)N[C@@H](CCC(=O)O)C(=O)O)cc1)CN2', 'O=c1[nH]cnc2c1ncn2C1OC2COP(=O)(O)OC2C1O', 'CCC(C)C(N)C(=O)O', 'NC(=O)c1ccc[n+](C2OC(COP(=O)([O-])OP(=O)([O-])OCC3OC(n4cnc5c(N)ncnc54)C(OP(=O)([O-])[O-])C3O)C(O)C2O)c1', 'CC(C)=CCCC(C)=CCCC(C)=CCCC(C)=CCCC(C)=CCCC(C)=CCCC(C)=CCCC(C)=CCCC(C)=CCCC(C)=CCCC(C)=CCCC(C)=CCCC(C)=CCCC(C)=CCCC(C)=CCCC(C)=CCCC(C)=CCCC(C)=CCCC(C)=CCOP(=O)(O)OP(=O)(O)O', 'O=c1[nH]c(=O)c2ncn(C3OC(COP(=O)(O)O)C(O)C3O)c2[nH]1', '[N]=O', 'Nc1ncnc2c1ncn2C1OC(COP(=O)(O)OC(=O)CCCCC2SCC3NC(=O)NC32)C(O)C1O', 'C[N+](C)(C)CCCC=O', 'CC(N)C(=O)NC(C(=O)O)C(C)O', 'Nc1ccccc1C(=O)CC(=O)C(=O)O', 'CCCCCCCC/C=C\\\\CCCCCCCC(=O)OC[C@H](COP(=O)([O-])OCC[N+](C)(C)C)OC(=O)CCCCCCC/C=C\\\\CCCCCCCC', 'CCCCCCO', 'Nc1nc2c(c(=O)[nH]1)N=C(CO)CN2', 'O=S([O-])[O-]', 'CCCCCCCCCCCCCCCCCCCCCCCC(=O)NC(COP(=O)(O)OC1C(O)C(O)C(O)C(O)C1OC1OC(COP(=O)(O)OC2C(O)C(O)C(O)C(O)C2O)C(O)C(O)C1O)C(O)C(O)CCCCCCCCCCCCCC', 'Nc1nc2c(c(=O)[nH]1)N=C(CNc1ccc(C(=O)O)cc1)CN2', 'CC(OP(=O)(O)O)C(N)C(=O)O', 'O=P([O-])([O-])[O-]', 'CCCCCC/C=C\\\\CCCCCCCC(=O)OC[C@@H](O)COP(=O)(O)O', 'CCCCCCCCCCCCCCCCCCCCCC(=O)[O-]', 'CCCCCC/C=C\\\\CCCCCCCC(=O)O[C@H](COC(=O)CCCCCCCCCCCCCCC)COP(=O)(O)OC[C@H](N)C(=O)O', 'CCCCCCCCCCCCCCCCCCCCCC(O)C(O)C(=O)NC(COP(=O)([O-])OC1C(O)C(O)C(O)C(O)C1O)C(O)C(O)CCCCCCCCCCCCCC', 'O=C(O)CCC(O)(CC(=O)O)C(=O)O', 'S', 'NC(CS)C(=O)O', 'OCC1(O)OCC(O)C(O)C1O', 'O=[N+]([O-])c1ccc(O)cc1', 'NC(CS(=O)O)C(=O)O', 'CCCCCCCC/C=C\\\\CCC/C=C/C(=O)SCCNC(=O)CCNC(=O)[C@H](O)C(C)(C)COP(=O)(O)OP(=O)(O)OC[C@H]1O[C@@H](n2cnc3c(N)ncnc32)[C@H](O)[C@@H]1OP(=O)(O)O', 'CCCCCC(O)CC(=O)SCCNC(=O)CCNC(=O)C(O)C(C)(C)COP(=O)(O)OP(=O)(O)OCC1OC(n2cnc3c(N)ncnc32)C(O)C1OP(=O)(O)O', 'CC(C=O)CCCC(C)C1CCC2C3C(O)CC4CC(O)CCC4(C)C3CCC12C', 'CC(=O)NC(CCCN)C(=O)O', 'COC(=O)C(=CC(=O)O)CC(=O)O', 'CCC(C)C(=O)[O-]', 'NC(CO)C(=O)O', 'CC(C)=CCOP(=O)(O)O', 'CC(C)=CCCC(C)=CCCC(C)=CCCC(C)=CCCC(C)=CCCC(C)=CCCC(C)=CCCC(C)=CCCC(C)=CCCC(C)=CCCC(C)=CCCC(C)=CCCC(C)=CCCC(C)=CCCC(C)=CCCC(C)=CCCC(C)=CCCC(C)=CCCC(C)=CCCC(C)=CCCC(C)=CCCC(C)=CCOP(=O)(O)OP(=O)(O)O', 'COc1cc(C(=O)O)cc(CC=C(C)CCC=C(C)CCC=C(C)CCC=C(C)CCC=C(C)CCC=C(C)C)c1O', 'CCCCCCC=CCCCCCCCC(=O)OC1CCC2(C)C(=CC=C3C2CCC2(C)C3CCC2C(C)C=CC(C)C(C)C)C1', 'CSCC1OC(n2cnc3c(N)ncnc32)C(O)C1O', 'O=CCCC(=O)O', 'CCCCCC(=O)CC(=O)SCCNC(=O)CCNC(=O)C(O)C(C)(C)COP(=O)(O)OP(=O)(O)OCC1OC(n2cnc3c(N)ncnc32)C(O)C1OP(=O)(O)O', 'CC(=O)NCCCC(=O)O', 'CC(=O)NC(CCC=O)C(=O)O', 'CC(C)(COP(=O)(O)OP(=O)(O)OCC1OC(n2cnc3c(N)ncnc32)C(O)C1OP(=O)(O)O)C(O)C(=O)NCCC(=O)NCCSC(=O)c1ccc(O)cc1', 'CSCCC(=O)C(=O)O', 'O=P(O)(O)OCC1OC(OC2OC(CO)C(O)C(O)C2O)C(O)C(O)C1O', 'O=C([O-])C(O)COP(=O)([O-])[O-]', 'Nc1nc2c(ncn2[C@@H]2O[C@H](COP(=O)(O)OP(=O)(O)OP(=O)(O)OP(=O)(O)OC[C@H]3O[C@@H](n4cnc5c(N)ncnc54)[C@H](O)[C@@H]3O)[C@@H](O)[C@H]2O)c(=O)[nH]1', 'CCCCCC/C=C\\\\CCCCCCCC(=O)OC[C@H](COP(=O)(O)OC[C@@H](O)COP(=O)(O)OC[C@@H](COC(=O)CCCCCCCCCCCCCCC)OC(=O)CCCCCCC/C=C\\\\CCCCCC)OC(=O)CCCCCCC/C=C\\\\CCCCCCCC', 'CCCCCCCCCCCCCCCCCCCCC/C=C/C(=O)SCCNC(=O)CCNC(=O)[C@H](O)C(C)(C)COP(=O)(O)OP(=O)(O)OC[C@H]1O[C@@H](n2cnc3c(N)ncnc32)[C@H](O)[C@@H]1OP(=O)(O)O', 'CCCCCCC=CCCCCCCCCCC(=O)OC[C@H](COP(=O)(O)OP(=O)(O)OC[C@H]1O[C@@H](n2ccc(N)nc2=O)[C@H](O)[C@@H]1O)OC(=O)CCCCCCCCCC=CCCCCCC', 'Nc1nc2c(c(=O)[nH]1)[N+]1=CN(c3ccc(C(=O)NC(CCC(=O)O)C(=O)[O-])cc3)CC1CN2', 'Nc1ccn(C2OC(CO)C(O)C2O)c(=O)n1', 'CCC(C)C=O', 'CC(C)=CCCC(C)=CCCC(C)=CCO', 'Nc1nc2c(c(=O)[nH]1)NC(CN(C=O)c1ccc(C(=O)NC(CCC(=O)O)C(=O)O)cc1)CN2', 'NC(CC(=O)c1ccccc1NC=O)C(=O)O', 'O=S(=O)([O-])SSS(=O)(=O)[O-]', 'CCCCCCCCC=CCCCCCCCC(=O)OC1CCC2(C)C3=C(CCC2C1)C1CCC(C(C)CCC=C(C)C)C1(C)CC3', 'NC(=O)C1=CN(C2OC(COP(=O)(O)OP(=O)(O)OCC3OC(n4cnc5c(N)ncnc54)C(OP(=O)(O)O)C3O)C(O)C2O)C=CC1', 'CCCCCC/C=C\\\\CCCCCCCC(=O)O[C@H](COC(=O)CCCCCCCCCCCCCCC)COP(=O)(O)OC[C@H](O)COP(=O)(O)OC[C@@H](COC(=O)CCCCCCCCCCCCCCC)OC(=O)CCCCCCC/C=C\\\\CCCCCCCC', 'NC(CCCCNC(CCC(=O)O)C(=O)O)C(=O)O', 'O=C([O-])c1cc(=O)[nH]c(=O)[nH]1', 'CCCCCCCCCCCCCC(=O)SCCNC(=O)CCNC(=O)C(O)C(C)(C)COP(=O)(O)OP(=O)(O)OCC1OC(n2cnc3c(N)ncnc32)C(O)C1OP(=O)(O)O', 'Nc1ncnc2c1ncn2C1OC(COP(=O)(O)OP(=O)(O)OCC2OC(O)C(O)C2O)C(O)C1O', 'CSCC1OC(OP(=O)(O)O)C(O)C1O', 'CCCC(=O)SCCNC(=O)CCNC(=O)C(O)C(C)(C)COP(=O)(O)OP(=O)(O)OCC1OC(n2cnc3c(N)ncnc32)C(O)C1OP(=O)(O)O', 'C=C(CCC(C)C1CCC2C3=C(CCC21C)C1(C)CCC(OC(=O)CCCCCCCC=CCCCCCC)CC1CC3)C(C)C', 'O=CC(O)C(O)COP(=O)(O)O', 'CC(C)(CO)C(O)C(=O)[O-]', 'CCCCCC(=O)OCC', 'NC(=O)CCCCC1CCSS1', 'Nc1ncnc2c1ncn2C1OC(CSCCC(N)C(=O)O)C(O)C1O', 'C=C(OC1C=C(C(=O)[O-])C=CC1[NH3+])C(=O)[O-]', 'CCCCCC/C=C\\\\CCCCC/C=C/C(=O)SCCNC(=O)CCNC(=O)[C@H](O)C(C)(C)COP(=O)(O)OP(=O)(O)OC[C@H]1O[C@@H](n2cnc3c(N)ncnc32)[C@H](O)[C@@H]1OP(=O)(O)O', 'Cc1ncc(COP(=O)(O)O)c(N)n1', 'CCCCCCCCC=CCCCCCC(=O)SCCNC(=O)CCNC(=O)C(O)C(C)(C)COP(=O)([O-])OP(=O)([O-])OCC1OC(n2cnc3c(N)ncnc32)C(O)C1OP(=O)([O-])[O-]', 'Cc1ncc(C[n+]2csc(CCOP(=O)([O-])OP(=O)([O-])OP(=O)([O-])[O-])c2C)c(N)n1', 'CC(C=O)C(=O)O', 'CCCCCCCCCCCCCCCCCCCCCCCC(O)CC(=O)SCCNC(=O)CCNC(=O)C(O)C(C)(C)COP(=O)(O)OP(=O)(O)OCC1OC(n2cnc3c(N)ncnc32)C(O)C1OP(=O)(O)O', 'O=CC(O)COP(=O)(O)O', 'NC(=O)c1ncn([C@@H]2O[C@H](COP(=O)([O-])[O-])[C@@H](O)[C@H]2O)c1N', 'CCCCC/C=C\\\\C/C=C\\\\CCCCCCCC(=O)O[C@H](COC(=O)CCCCCCCCCCCCCCCCC)COP(=O)(O)O[C@H]1[C@H](O)[C@@H](OP(=O)(O)O)[C@H](O)[C@@H](O)[C@H]1O', 'CC(C)(CO)C(=O)C(=O)O', 'NCCCC=O', 'CCCCCC/C=C\\\\CCCCCCCC(=O)OC[C@H](COP(=O)(O)OC[C@@H](O)COP(=O)(O)OC[C@@H](COC(=O)CCCCCCCCCCCCCCC)OC(=O)CCCCCCC/C=C\\\\CCCCCC)OC(=O)CCCCCCC/C=C\\\\CCCCCC', 'NC(C(=O)O)C(O)C(=O)O', '[Mg+2]', 'O=C(O)CCc1c[nH]c(Cc2[nH]c(Cc3[nH]c(Cc4[nH]c(CO)c(CC(=O)O)c4CCC(=O)O)c(CC(=O)O)c3CCC(=O)O)c(CC(=O)O)c2CCC(=O)O)c1CC(=O)O', 'CCCCCCCC/C=C\\\\CCCCCCCC(=O)OC[C@@H](O)COP(=O)([O-])OCC[N+](C)(C)C', 'Nc1ncnc2c1ncn2C1OC(COP(=O)(O)OP(=O)(O)O)C(O)C1O', 'Cc1cc2nc3c(=O)[nH]c(=O)nc-3n(CC(O)C(O)C(O)CO)c2cc1C', 'CCCCCC/C=C\\\\CCCCCCCCCC(=O)OC(COC(=O)CCCCCCC/C=C\\\\CCCCCCCC)COC(=O)CCCCCCC/C=C\\\\CCCCCCCC', 'CC(=O)OCCC(C)C', 'CCCCCC/C=C\\\\CCCCCCCC(=O)O[C@H](COC(=O)CCCCCCCCCCCCCCC)COP(=O)([O-])O[C@@H]1[C@H](O)[C@H](O)[C@@H](O)[C@H](O)[C@H]1O', 'CCCCCC/C=C\\\\CCCCCCCC(=O)O[C@H](COC(=O)CCCCCCCCCCCCCCC)COP(=O)(O)OC[C@H](O)COP(=O)(O)OC[C@@H](COC(=O)CCCCCCCCCCCCCCCCC)OC(=O)CCCCCCC/C=C\\\\CCCCCC', 'O=P(O)(O)OC1C(OP(=O)(O)O)C(OP(=O)(O)O)C(OP(=O)(O)O)C(OP(=O)(O)O)C1OP(=O)(O)O', 'CS(=O)CCC(N)C(=O)O', 'C[N+](C)(C)CCCC(=O)[O-]', 'O=Cc1cccc(Cl)c1']\n"
     ]
    }
   ],
   "source": [
    "model_excel, metID_with_smiles, yeast8_smiles_lst = process_model(yeast_model_path, miss_met_id)\n"
   ]
  },
  {
   "cell_type": "code",
   "execution_count": 42,
   "metadata": {},
   "outputs": [
    {
     "name": "stdout",
     "output_type": "stream",
     "text": [
      "(9377, 8)\n"
     ]
    },
    {
     "name": "stderr",
     "output_type": "stream",
     "text": [
      "100%|██████████| 9377/9377 [00:08<00:00, 1042.43it/s]\n"
     ]
    },
    {
     "name": "stdout",
     "output_type": "stream",
     "text": [
      "821\n",
      "['NC(CS)C(=O)O', 'NC(CO)C(=O)O', 'CC(=O)NC(CS)C(=O)O', 'CCCCCC(=O)[O-]', 'CCCCCCCCCCCCCCCC(=O)O', 'CCCCCCCCCCCCCC(=O)O', 'CCCCCCCCCCCC(=O)[O-]', 'CCCCCCCCCC(=O)[O-]', 'CCCCCCCC(=O)[O-]', 'CCCCCCCC(=O)OCC']\n",
      "2702\n",
      "1184\n",
      "{'r_0003': ['CC(O)C(C)O', 'CC(=O)C(C)O'], 'r_0007': ['NC(=O)c1ncn(C2OC(COP(=O)([O-])[O-])C(O)C2O)c1N=CNC1OC(COP(=O)([O-])[O-])C(O)C1O', 'NC(=O)c1ncn(C2OC(COP(=O)([O-])[O-])C(O)C2O)c1NC=NCC(=O)C(O)C(O)COP(=O)([O-])[O-]'], 'r_0012': ['NC(CCC(=O)O)C(=O)O', 'O=C(O)C1CCC=N1'], 'r_0013': ['CSCCC(=O)C(=O)O', 'O=C[O-]', 'CSCCC(=O)C(=O)COP(=O)(O)O'], 'r_0014': ['Nc1nc(NCC(O)C(O)C(O)COP(=O)(O)O)c(N)c(=O)[nH]1', 'Nc1c(NCC(O)C(O)C(O)COP(=O)(O)O)[nH]c(=O)[nH]c1=O'], 'r_0015': ['Nc1nc(NCC(O)C(O)C(O)COP(=O)(O)O)c(N)c(=O)[nH]1', 'Nc1nc(NC2OC(COP(=O)(O)O)C(O)C2O)c(N)c(=O)[nH]1'], 'r_0016': ['CCC(=O)C(=O)[O-]', 'CCC(O)(C(C)=O)C(=O)[O-]', 'O=C=O', 'CC(=O)C(=O)[O-]'], 'r_0018': ['NC(CCCC(=O)O)C(=O)O', 'NC(CCC(=O)O)C(=O)O', 'O=C(O)CCC(=O)C(=O)O', 'O=C(O)CCCC(=O)C(=O)O'], 'r_0019': ['CC(C)(CO)C(O)C(=O)[O-]', 'CC(C)(CO)C(=O)C(=O)O'], 'r_0020': ['O=CC(O)C(O)COP(=O)(O)O', 'O=C(O)C(=O)CC(O)C(O)C(O)COP(=O)(O)O', 'C=C(OP(=O)(O)O)C(=O)O']}\n"
     ]
    }
   ],
   "source": [
    "rxndb_met_with_s_smiles_lst = get_rxndb_met_with_s_smiles_lst(rxndb_total_info_to_model_path,model_excel,miss_met_id)\n",
    "reaID_with_smiles_dict = get_reaID_with_smiles_dict(model, model_excel, miss_met_id,rxndb_met_with_s_smiles_lst,metID_with_smiles)\n"
   ]
  },
  {
   "cell_type": "code",
   "execution_count": 43,
   "metadata": {},
   "outputs": [
    {
     "name": "stdout",
     "output_type": "stream",
     "text": [
      "(9377, 8)\n",
      "(5908, 8)\n"
     ]
    }
   ],
   "source": [
    "yeast8_reaction_in_rxndb = get_yeast8_reaction_in_rxndb_parallel(rxndb_total_info_to_model_path,reaID_with_smiles_dict,model_excel,miss_met_id,num_process=num_process)\n"
   ]
  },
  {
   "cell_type": "code",
   "execution_count": 44,
   "metadata": {},
   "outputs": [],
   "source": [
    "with open(yeast8_reaction_in_rxndb_json, 'w') as json_file:\n",
    "    json.dump(yeast8_reaction_in_rxndb, json_file,indent=4)"
   ]
  },
  {
   "cell_type": "code",
   "execution_count": 45,
   "metadata": {},
   "outputs": [
    {
     "name": "stdout",
     "output_type": "stream",
     "text": [
      "0.785472972972973\n"
     ]
    }
   ],
   "source": [
    "get_reaction_recovery_ratio(yeast8_reaction_in_rxndb)\n",
    "#cut off 0.3\n",
    "#top20,0.791\n",
    "#top30,0.795\n",
    "#top40,0.8\n",
    "#top50,0.8\n",
    "#top60,0.806\n",
    "#top70,0.826\n",
    "#top80,0.827"
   ]
  },
  {
   "cell_type": "code",
   "execution_count": 46,
   "metadata": {},
   "outputs": [],
   "source": [
    "# yeast8_reaction_in_rxndb = {k:v for k,v in yeast8_reaction_in_rxndb.items() if len(v)>0}\n",
    "\n"
   ]
  },
  {
   "cell_type": "markdown",
   "metadata": {},
   "source": [
    "### Check the accuracy of GPR"
   ]
  },
  {
   "cell_type": "code",
   "execution_count": 47,
   "metadata": {},
   "outputs": [],
   "source": [
    "#Gene2ec was obtained according to uniprot\n",
    "# sce_gene2ec_dict = get_sce_gene2ec_dict(sce_uniprot_path)\n"
   ]
  },
  {
   "cell_type": "code",
   "execution_count": 48,
   "metadata": {},
   "outputs": [],
   "source": [
    "# check_gpr_accuracy(yeast8_reaction_in_rxndb,model,sce_gene2ec_dict,rxndb_to_model_total_info)\n",
    "#top20,0.849\n",
    "#top30,0.852\n",
    "#top40,0.851\n",
    "#top50,0.854\n",
    "#top60,0.861\n",
    "#top70,0.864\n",
    "#top80,0.871"
   ]
  }
 ],
 "metadata": {
  "kernelspec": {
   "display_name": "kcat",
   "language": "python",
   "name": "python3"
  },
  "language_info": {
   "codemirror_mode": {
    "name": "ipython",
    "version": 3
   },
   "file_extension": ".py",
   "mimetype": "text/x-python",
   "name": "python",
   "nbconvert_exporter": "python",
   "pygments_lexer": "ipython3",
   "version": "3.8.18"
  },
  "orig_nbformat": 4
 },
 "nbformat": 4,
 "nbformat_minor": 2
}
