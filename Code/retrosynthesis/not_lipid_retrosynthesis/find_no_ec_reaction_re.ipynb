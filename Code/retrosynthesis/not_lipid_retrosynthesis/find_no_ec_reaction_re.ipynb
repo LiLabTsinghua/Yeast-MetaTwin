{
 "cells": [
  {
   "cell_type": "code",
   "execution_count": 1,
   "metadata": {},
   "outputs": [],
   "source": [
    "import pandas as pd\n",
    "import matplotlib.pyplot as plt\n",
    "import sys\n",
    "import re\n",
    "sys.path.append('../')\n",
    "from common import *\n",
    "from tqdm import tqdm\n",
    "import multiprocessing\n",
    "from functools import partial\n",
    "tqdm.pandas()"
   ]
  },
  {
   "cell_type": "code",
   "execution_count": 16,
   "metadata": {},
   "outputs": [],
   "source": [
    "YMDB_success_met_smile_path = '../../../Results/not_lipid/top50_0.3_re/YMDB_success_met_smile_top50_0.3.pickle'\n",
    "YMDB_success_met_smile_add_no_ec_path = '../../../Results/not_lipid/top50_0.3_add_no_ec_re/YMDB_success_met_smile_top50_0.3.pickle'\n",
    "YMDB_success_met_smile_add_no_ec_uptake_file = '../../../Results/not_lipid/top50_0.3_add_no_ec_re/YMDB_success_met_smile_uptake_top50_0.3.pickle'\n",
    "YMDB_success_met_smile_uptake_file = '../../../Results/not_lipid/top50_0.3_re/YMDB_success_met_smile_uptake_top50_0.3.pickle'\n",
    "rxndb_to_model_path = '../../../Results/not_lipid/top50_0.3_re/rxndb_to_model_top50_0.3.csv'\n",
    "rxndb_to_model_with_target_path = '../../../Results/not_lipid/top50_0.3_add_no_ec_re/rxndb_to_model_with_target_top50_0.3.csv'\n",
    "rxndb_to_model_with_target_success_path = '../../../Results/not_lipid/top50_0.3_add_no_ec_re/rxndb_to_model_with_target_top50_0.3_success.csv'\n",
    "rxndb_to_model_add_no_ec_path = '../../../Results/not_lipid/top50_0.3_add_no_ec_re/rxndb_to_model_top50_0.3.csv'\n",
    "rxndb_met_max_score_pd_top50_0_3_path = '../../../Results/not_lipid/top50_0.3_add_no_ec_re/rxndb_met_max_score_pd_top50_0.3.csv'  \n",
    "ymdb_output_final = '../../../Data/ymdb/ymdb_final_result.xlsx'\n",
    "yeast_model_path = '../../../Data/model/yeast-GEM-final.csv'\n",
    "uptake_met_path = '../../../Data/ymdb/ymdb_uptake.csv'\n",
    "rxndb_met_max_score_file = '../../../Results/rxndb_met_max_score_pd_top50_0.3_re.csv'\n",
    "\n",
    "# lipid_YMDB_success_met_smile_file_remian ='../../../Results/lipid/topall_0.3_remain/YMDB_success_met_smile_topall_0.3_remain.pickle'\n",
    "lipid_YMDB_success_met_smile_file_remian ='../../../Results/lipid/topall_0.3_remain_re/YMDB_success_met_smile_topall_0.3_remain.pickle'\n",
    "# lipid_YMDB_success_met_smile_file = '../../../Results/lipid/topall_0.3/YMDB_success_met_smile_topall_0.3.pickle'\n",
    "lipid_YMDB_success_met_smile_file = '../../../Results/lipid/topall_0.3_re/YMDB_success_met_smile_topall_0.3.pickle'"
   ]
  },
  {
   "cell_type": "code",
   "execution_count": 17,
   "metadata": {},
   "outputs": [],
   "source": [
    "def get_score_from_smiles(input_smiles,smile_max_score_pd): ###return highest similarity score\n",
    "    # input_smiles = normalize_smiles(input_smiles)\n",
    "    row = smile_max_score_pd[smile_max_score_pd['inchikey0'] == smiles2inchikey0(input_smiles)]\n",
    "    if not row.empty:\n",
    "        return row['score'].max()\n",
    "    else:\n",
    "        return 0\n",
    "def process_reaction_product(index_row,smile_max_score_pd):\n",
    "    index, row = index_row\n",
    "    reactant_smiles = row['rxn_smiles_basic'].split('>>')[0].split('.')\n",
    "    product_smiles = row['rxn_smiles_basic'].split('>>')[1].split('.')\n",
    "    scores = []\n",
    "\n",
    "    for i in product_smiles:\n",
    "        scores.append(get_score_from_smiles(i, smile_max_score_pd))\n",
    "\n",
    "    scores_all_0 = all(score == 1 for score in scores)\n",
    "\n",
    "    if scores_all_0 and len(reactant_smiles)>0:\n",
    "        return reactant_smiles, row['NO']\n",
    "    else:\n",
    "        return [], None\n",
    "def process_reaction_reactant(index_row,smile_max_score_pd):\n",
    "    index, row = index_row\n",
    "    reactant_smiles = row['rxn_smiles_basic'].split('>>')[0].split('.')\n",
    "    product_smiles = row['rxn_smiles_basic'].split('>>')[1].split('.')\n",
    "    scores = []\n",
    "\n",
    "    for i in reactant_smiles:\n",
    "        scores.append(get_score_from_smiles(i, smile_max_score_pd))\n",
    "\n",
    "    scores_all_0 = all(score == 1 for score in scores)\n",
    "\n",
    "    if scores_all_0 and len(product_smiles)>0:\n",
    "        return product_smiles, row['NO']\n",
    "    else:\n",
    "        return [], None\n",
    "def process_chunk_reactant(chunk_df,smile_max_score_pd):\n",
    "    smiles_success = []\n",
    "    success_rxndbid = []\n",
    "    for result in map(partial(process_reaction_reactant,smile_max_score_pd=smile_max_score_pd), chunk_df.iterrows()):\n",
    "        if result[0]:  # check whether the result is non-empty\n",
    "            smiles_success.extend(result[0])\n",
    "        if result[1] is not None:\n",
    "            success_rxndbid.append(result[1])\n",
    "    return smiles_success, success_rxndbid\n",
    "def process_chunk_product(chunk_df,smile_max_score_pd):\n",
    "    smiles_success = []\n",
    "    success_rxndbid = []\n",
    "    for result in map(partial(process_reaction_product,smile_max_score_pd=smile_max_score_pd), chunk_df.iterrows()):\n",
    "        if result[0]:  # check whether the result is non-empty\n",
    "            smiles_success.extend(result[0])\n",
    "        if result[1] is not None:\n",
    "            success_rxndbid.append(result[1])\n",
    "    return smiles_success, success_rxndbid\n",
    "def process_reactions_in_parallel_reactant(rxndb,origin_smile_max_score_pd, num_processes=100, num_iterations=1):\n",
    "    num = 0\n",
    "    tmp_smile_max_score_pd = origin_smile_max_score_pd\n",
    "    while num < num_iterations:\n",
    "        num+=1\n",
    "        # pool = multiprocessing.Pool(num_processes)\n",
    "        smiles_success = []\n",
    "        success_rxndbid = []\n",
    "        chunks = np.array_split(rxndb, 100)\n",
    "        with multiprocessing.Pool(num_processes) as pool:\n",
    "            for result in tqdm(pool.imap(partial(process_chunk_reactant,smile_max_score_pd=tmp_smile_max_score_pd), chunks), total=len(chunks)):\n",
    "                smiles_success.extend(result[0])\n",
    "                success_rxndbid.extend(result[1])\n",
    "            for result in tqdm(pool.imap(partial(process_chunk_product,smile_max_score_pd=tmp_smile_max_score_pd), chunks), total=len(chunks)):\n",
    "                smiles_success.extend(result[0])\n",
    "                success_rxndbid.extend(result[1])\n",
    "        # pool.close()\n",
    "        # pool.join()\n",
    "        \n",
    "        smiles_success = list(set(smiles_success))\n",
    "        success_rxndbid = list(set(success_rxndbid))\n",
    "        # Process cumulative successful SMILES\n",
    "        for smile in smiles_success:\n",
    "            if get_score_from_smiles(smile, tmp_smile_max_score_pd) < 1:\n",
    "                new_row = {'smile': smile, 'score': 1, 'sim_smile': 'sys'}\n",
    "                tmp_smile_max_score_pd = tmp_smile_max_score_pd._append(new_row, ignore_index=True)\n",
    "\n",
    "        # smiles_success = [normalize_smiles(met) for met in smiles_success]\n",
    "        # smiles_success = list(set(smiles_success))\n",
    "\n",
    "        print(f'Iteration {num} - Current success count: {len(smiles_success)}')\n",
    "        print(f'Iteration {num} - Current success_rxndbid count: {len(success_rxndbid)}')\n",
    "        print('============================================================================')\n",
    "\n",
    "    print('final success', len(smiles_success))\n",
    "    print('final success_rxndbid', len(success_rxndbid))\n",
    "    # print(success_rxndbid)\n",
    "    return smiles_success, success_rxndbid,tmp_smile_max_score_pd"
   ]
  },
  {
   "cell_type": "code",
   "execution_count": 18,
   "metadata": {},
   "outputs": [
    {
     "name": "stdout",
     "output_type": "stream",
     "text": [
      "14540\n"
     ]
    }
   ],
   "source": [
    "yeast8_total_smiles = get_all_smiles_in_model(yeast_model_path,ymdb_output_final)\n",
    "success_smiles = load_pickle(YMDB_success_met_smile_add_no_ec_uptake_file)\n",
    "lipid_success_smiles = load_pickle(lipid_YMDB_success_met_smile_file)   \n",
    "lipid_success_smiles_remain = load_pickle(lipid_YMDB_success_met_smile_file_remian)\n",
    "uptake_met = pd.read_csv(uptake_met_path)   \n",
    "uptake_smiles = uptake_met['SMILES'].to_list()\n",
    "sink_smiles = yeast8_total_smiles + success_smiles + uptake_smiles + lipid_success_smiles + lipid_success_smiles_remain\n",
    "sink_smiles = list(set(sink_smiles))\n",
    "sink0 = [smiles2inchikey0(x) for x in sink_smiles]\n",
    "sink0 = list(set(sink0))\n",
    "print(len(sink0))\n"
   ]
  },
  {
   "cell_type": "code",
   "execution_count": 19,
   "metadata": {},
   "outputs": [
    {
     "data": {
      "text/plain": [
       "['CCCCCCCCCCCCCC=CC(O)C(N)CO',\n",
       " 'O=P(O)(O)OCC1OC(O)(CO)C(O)C(O)C1O',\n",
       " 'N#CC(N)CCC(=O)O',\n",
       " 'CCCC(N)C(=O)O',\n",
       " 'CC1=C(O)C(=O)OC1C',\n",
       " 'O=C(C=Cc1ccc(O)c(O)c1)OC(C(=O)O)C(O)C(=O)O',\n",
       " 'COc1cc(C=CC(=O)OC(C(=O)O)C(O)C(=O)O)ccc1O',\n",
       " 'CCCC([O-])=S',\n",
       " 'O=C(O)C(CO)c1ccccc1',\n",
       " 'Cc1ccc(O)c([N+](=O)[O-])c1']"
      ]
     },
     "execution_count": 19,
     "metadata": {},
     "output_type": "execute_result"
    }
   ],
   "source": [
    "YMDB_success_met_smile = load_pickle(YMDB_success_met_smile_path)\n",
    "YMDB_success_met_smile_add_no_ec = load_pickle(YMDB_success_met_smile_add_no_ec_path)\n",
    "differenct_metabolites = [x for x in YMDB_success_met_smile_add_no_ec if x not in YMDB_success_met_smile]\n",
    "differenct_metabolites"
   ]
  },
  {
   "cell_type": "code",
   "execution_count": 20,
   "metadata": {},
   "outputs": [
    {
     "name": "stdout",
     "output_type": "stream",
     "text": [
      "['CCCCCCCCCCCCCC=CC(O)C(N)CO', 'O=P(O)(O)OCC1OC(O)(CO)C(O)C(O)C1O', 'N#CC(N)CCC(=O)O', 'CCCC(N)C(=O)O', 'CC1=C(O)C(=O)OC1C', 'CC1OC(Oc2cc(O)c3c(=O)c(OC4OC(CO)C(O)C(O)C4O)c(-c4ccc(O)cc4)oc3c2)C(O)C(O)C1O', 'CCCC([O-])=S', 'O=C(O)C(CO)c1ccccc1', 'Cc1ccc(O)c([N+](=O)[O-])c1']\n"
     ]
    },
    {
     "data": {
      "text/plain": [
       "{'CC1=C(O)C(=O)OC1C',\n",
       " 'CCCC(N)C(=O)O',\n",
       " 'CCCC([O-])=S',\n",
       " 'CCCCCCCCCCCCCC=CC(O)C(N)CO',\n",
       " 'Cc1ccc(O)c([N+](=O)[O-])c1',\n",
       " 'N#CC(N)CCC(=O)O',\n",
       " 'O=C(O)C(CO)c1ccccc1',\n",
       " 'O=P(O)(O)OCC1OC(O)(CO)C(O)C(O)C1O'}"
      ]
     },
     "execution_count": 20,
     "metadata": {},
     "output_type": "execute_result"
    }
   ],
   "source": [
    "YMDB_success_met_smile = load_pickle(YMDB_success_met_smile_uptake_file)\n",
    "YMDB_success_met_smile_add_no_ec = load_pickle(YMDB_success_met_smile_add_no_ec_uptake_file)\n",
    "differenct_metabolites_ = [x for x in YMDB_success_met_smile_add_no_ec if x not in YMDB_success_met_smile]\n",
    "print(differenct_metabolites_)\n",
    "set(differenct_metabolites) & set(differenct_metabolites_)"
   ]
  },
  {
   "cell_type": "code",
   "execution_count": 21,
   "metadata": {},
   "outputs": [],
   "source": [
    "differenct_metabolites_all =set(differenct_metabolites) | set(differenct_metabolites_)\n"
   ]
  },
  {
   "cell_type": "code",
   "execution_count": 23,
   "metadata": {},
   "outputs": [
    {
     "data": {
      "text/html": [
       "<div>\n",
       "<style scoped>\n",
       "    .dataframe tbody tr th:only-of-type {\n",
       "        vertical-align: middle;\n",
       "    }\n",
       "\n",
       "    .dataframe tbody tr th {\n",
       "        vertical-align: top;\n",
       "    }\n",
       "\n",
       "    .dataframe thead th {\n",
       "        text-align: right;\n",
       "    }\n",
       "</style>\n",
       "<table border=\"1\" class=\"dataframe\">\n",
       "  <thead>\n",
       "    <tr style=\"text-align: right;\">\n",
       "      <th></th>\n",
       "      <th>NO</th>\n",
       "      <th>EC number</th>\n",
       "      <th>templateID</th>\n",
       "      <th>rxn_smiles_basic</th>\n",
       "      <th>rxn_smiles_final</th>\n",
       "    </tr>\n",
       "  </thead>\n",
       "  <tbody>\n",
       "    <tr>\n",
       "      <th>0</th>\n",
       "      <td>rxn1</td>\n",
       "      <td>NaN</td>\n",
       "      <td>MNXR164590</td>\n",
       "      <td>CC(C)=CCCC(C)C1CCC2C3=C(CCC21C)C1(C)CCC(O)C(C)...</td>\n",
       "      <td>CC(C)=CCCC(C)C1CCC2C3=C(CCC21C)C1(C)CCC(O)C(C)...</td>\n",
       "    </tr>\n",
       "    <tr>\n",
       "      <th>1</th>\n",
       "      <td>rxn2</td>\n",
       "      <td>NaN</td>\n",
       "      <td>MNXR164590</td>\n",
       "      <td>CC(C=O)CCCC(C)C1CCC2C3C(O)CC4CC(O)CCC4(C)C3CCC...</td>\n",
       "      <td>CC(C=O)CCCC(C)C1CCC2C3C(O)CC4CC(O)CCC4(C)C3CCC...</td>\n",
       "    </tr>\n",
       "    <tr>\n",
       "      <th>2</th>\n",
       "      <td>rxn3</td>\n",
       "      <td>3.2.1.74</td>\n",
       "      <td>MNXR173469_reverse</td>\n",
       "      <td>O.OCC1OC(OC2C(CO)O[C@@H](OC3C(CO)OC(O)C(O)C3O)...</td>\n",
       "      <td>O.OCC1OC(OC2C(CO)O[C@@H](OC3C(CO)OC(O)C(O)C3O)...</td>\n",
       "    </tr>\n",
       "    <tr>\n",
       "      <th>3</th>\n",
       "      <td>rxn4</td>\n",
       "      <td>3.2.1.74</td>\n",
       "      <td>MNXR173469_reverse</td>\n",
       "      <td>O.OCC1O[C@@H](OC2C(CO)OC(O)C(O)C2O)C(O)C(O)C1O...</td>\n",
       "      <td>O.OCC1O[C@@H](OC2C(CO)OC(O)C(O)C2O)C(O)C(O)C1O...</td>\n",
       "    </tr>\n",
       "    <tr>\n",
       "      <th>4</th>\n",
       "      <td>rxn5</td>\n",
       "      <td>3.2.1.74</td>\n",
       "      <td>MNXR173469_reverse</td>\n",
       "      <td>O.OCC1OC(OC2C(CO)O[C@@H](OC3C(CO)OC(O)C(O)C3O)...</td>\n",
       "      <td>O.OCC1OC(OC2C(CO)O[C@@H](OC3C(CO)OC(O)C(O)C3O)...</td>\n",
       "    </tr>\n",
       "  </tbody>\n",
       "</table>\n",
       "</div>"
      ],
      "text/plain": [
       "     NO EC number          templateID  \\\n",
       "0  rxn1       NaN          MNXR164590   \n",
       "1  rxn2       NaN          MNXR164590   \n",
       "2  rxn3  3.2.1.74  MNXR173469_reverse   \n",
       "3  rxn4  3.2.1.74  MNXR173469_reverse   \n",
       "4  rxn5  3.2.1.74  MNXR173469_reverse   \n",
       "\n",
       "                                    rxn_smiles_basic  \\\n",
       "0  CC(C)=CCCC(C)C1CCC2C3=C(CCC21C)C1(C)CCC(O)C(C)...   \n",
       "1  CC(C=O)CCCC(C)C1CCC2C3C(O)CC4CC(O)CCC4(C)C3CCC...   \n",
       "2  O.OCC1OC(OC2C(CO)O[C@@H](OC3C(CO)OC(O)C(O)C3O)...   \n",
       "3  O.OCC1O[C@@H](OC2C(CO)OC(O)C(O)C2O)C(O)C(O)C1O...   \n",
       "4  O.OCC1OC(OC2C(CO)O[C@@H](OC3C(CO)OC(O)C(O)C3O)...   \n",
       "\n",
       "                                    rxn_smiles_final  \n",
       "0  CC(C)=CCCC(C)C1CCC2C3=C(CCC21C)C1(C)CCC(O)C(C)...  \n",
       "1  CC(C=O)CCCC(C)C1CCC2C3C(O)CC4CC(O)CCC4(C)C3CCC...  \n",
       "2  O.OCC1OC(OC2C(CO)O[C@@H](OC3C(CO)OC(O)C(O)C3O)...  \n",
       "3  O.OCC1O[C@@H](OC2C(CO)OC(O)C(O)C2O)C(O)C(O)C1O...  \n",
       "4  O.OCC1OC(OC2C(CO)O[C@@H](OC3C(CO)OC(O)C(O)C3O)...  "
      ]
     },
     "execution_count": 23,
     "metadata": {},
     "output_type": "execute_result"
    }
   ],
   "source": [
    "differenct_metabolites_inchikey0 = [smiles2inchikey0(x) for x in differenct_metabolites_all]\n",
    "rxndb_to_model_add_no_ec = pd.read_csv(rxndb_to_model_add_no_ec_path)\n",
    "rxndb_to_model_add_no_ec.head()"
   ]
  },
  {
   "cell_type": "code",
   "execution_count": 24,
   "metadata": {},
   "outputs": [],
   "source": [
    "def find_reaction_containing_metabolite(inchikey0, rxndb_to_model_add_no_ec):\n",
    "    rxndb_to_model_add_no_ec['product_inchikey0'] = rxndb_to_model_add_no_ec['rxn_smiles_basic'].apply(lambda x: [smiles2inchikey0(i) for i in x.split('>>')[1].split('.')])\n",
    "    rxndb_to_model_add_no_ec['target_num'] = rxndb_to_model_add_no_ec['product_inchikey0'].apply(lambda x: sum(i in inchikey0 for i in x))\n",
    "    return rxndb_to_model_add_no_ec[rxndb_to_model_add_no_ec['target_num'] > 0]\n",
    "def find_reaction_containing_metabolite_(inchikey0, rxndb_to_model_add_no_ec):\n",
    "    rxndb_to_model_add_no_ec['reactant_inchikey0'] = rxndb_to_model_add_no_ec['rxn_smiles_basic'].apply(lambda x: [smiles2inchikey0(i) for i in x.split('>>')[0].split('.')])\n",
    "    rxndb_to_model_add_no_ec['target_num'] = rxndb_to_model_add_no_ec['reactant_inchikey0'].apply(lambda x: sum(i in inchikey0 for i in x))\n",
    "    return rxndb_to_model_add_no_ec[rxndb_to_model_add_no_ec['target_num'] > 0]"
   ]
  },
  {
   "cell_type": "code",
   "execution_count": 10,
   "metadata": {},
   "outputs": [
    {
     "data": {
      "text/html": [
       "<div>\n",
       "<style scoped>\n",
       "    .dataframe tbody tr th:only-of-type {\n",
       "        vertical-align: middle;\n",
       "    }\n",
       "\n",
       "    .dataframe tbody tr th {\n",
       "        vertical-align: top;\n",
       "    }\n",
       "\n",
       "    .dataframe thead th {\n",
       "        text-align: right;\n",
       "    }\n",
       "</style>\n",
       "<table border=\"1\" class=\"dataframe\">\n",
       "  <thead>\n",
       "    <tr style=\"text-align: right;\">\n",
       "      <th></th>\n",
       "      <th>NO</th>\n",
       "      <th>EC number</th>\n",
       "      <th>templateID</th>\n",
       "      <th>rxn_smiles_basic</th>\n",
       "      <th>rxn_smiles_final</th>\n",
       "    </tr>\n",
       "  </thead>\n",
       "  <tbody>\n",
       "    <tr>\n",
       "      <th>0</th>\n",
       "      <td>rxn1</td>\n",
       "      <td>NaN</td>\n",
       "      <td>MNXR164590</td>\n",
       "      <td>CC(C)=CCCC(C)C1CCC2C3=C(CCC21C)C1(C)CCC(O)C(C)...</td>\n",
       "      <td>CC(C)=CCCC(C)C1CCC2C3=C(CCC21C)C1(C)CCC(O)C(C)...</td>\n",
       "    </tr>\n",
       "    <tr>\n",
       "      <th>1</th>\n",
       "      <td>rxn2</td>\n",
       "      <td>NaN</td>\n",
       "      <td>MNXR164590</td>\n",
       "      <td>CC(C=O)CCCC(C)C1CCC2C3C(O)CC4CC(O)CCC4(C)C3CCC...</td>\n",
       "      <td>CC(C=O)CCCC(C)C1CCC2C3C(O)CC4CC(O)CCC4(C)C3CCC...</td>\n",
       "    </tr>\n",
       "    <tr>\n",
       "      <th>2</th>\n",
       "      <td>rxn3</td>\n",
       "      <td>3.2.1.74</td>\n",
       "      <td>MNXR173469_reverse</td>\n",
       "      <td>O.OCC1OC(OC2C(CO)O[C@@H](OC3C(CO)OC(O)C(O)C3O)...</td>\n",
       "      <td>O.OCC1OC(OC2C(CO)O[C@@H](OC3C(CO)OC(O)C(O)C3O)...</td>\n",
       "    </tr>\n",
       "    <tr>\n",
       "      <th>3</th>\n",
       "      <td>rxn4</td>\n",
       "      <td>3.2.1.74</td>\n",
       "      <td>MNXR173469_reverse</td>\n",
       "      <td>O.OCC1O[C@@H](OC2C(CO)OC(O)C(O)C2O)C(O)C(O)C1O...</td>\n",
       "      <td>O.OCC1O[C@@H](OC2C(CO)OC(O)C(O)C2O)C(O)C(O)C1O...</td>\n",
       "    </tr>\n",
       "    <tr>\n",
       "      <th>4</th>\n",
       "      <td>rxn5</td>\n",
       "      <td>3.2.1.74</td>\n",
       "      <td>MNXR173469_reverse</td>\n",
       "      <td>O.OCC1OC(OC2C(CO)O[C@@H](OC3C(CO)OC(O)C(O)C3O)...</td>\n",
       "      <td>O.OCC1OC(OC2C(CO)O[C@@H](OC3C(CO)OC(O)C(O)C3O)...</td>\n",
       "    </tr>\n",
       "  </tbody>\n",
       "</table>\n",
       "</div>"
      ],
      "text/plain": [
       "     NO EC number          templateID  \\\n",
       "0  rxn1       NaN          MNXR164590   \n",
       "1  rxn2       NaN          MNXR164590   \n",
       "2  rxn3  3.2.1.74  MNXR173469_reverse   \n",
       "3  rxn4  3.2.1.74  MNXR173469_reverse   \n",
       "4  rxn5  3.2.1.74  MNXR173469_reverse   \n",
       "\n",
       "                                    rxn_smiles_basic  \\\n",
       "0  CC(C)=CCCC(C)C1CCC2C3=C(CCC21C)C1(C)CCC(O)C(C)...   \n",
       "1  CC(C=O)CCCC(C)C1CCC2C3C(O)CC4CC(O)CCC4(C)C3CCC...   \n",
       "2  O.OCC1OC(OC2C(CO)O[C@@H](OC3C(CO)OC(O)C(O)C3O)...   \n",
       "3  O.OCC1O[C@@H](OC2C(CO)OC(O)C(O)C2O)C(O)C(O)C1O...   \n",
       "4  O.OCC1OC(OC2C(CO)O[C@@H](OC3C(CO)OC(O)C(O)C3O)...   \n",
       "\n",
       "                                    rxn_smiles_final  \n",
       "0  CC(C)=CCCC(C)C1CCC2C3=C(CCC21C)C1(C)CCC(O)C(C)...  \n",
       "1  CC(C=O)CCCC(C)C1CCC2C3C(O)CC4CC(O)CCC4(C)C3CCC...  \n",
       "2  O.OCC1OC(OC2C(CO)O[C@@H](OC3C(CO)OC(O)C(O)C3O)...  \n",
       "3  O.OCC1O[C@@H](OC2C(CO)OC(O)C(O)C2O)C(O)C(O)C1O...  \n",
       "4  O.OCC1OC(OC2C(CO)O[C@@H](OC3C(CO)OC(O)C(O)C3O)...  "
      ]
     },
     "execution_count": 10,
     "metadata": {},
     "output_type": "execute_result"
    }
   ],
   "source": [
    "rxndb_to_model_add_no_ec.head()"
   ]
  },
  {
   "cell_type": "code",
   "execution_count": 11,
   "metadata": {},
   "outputs": [],
   "source": [
    "rxndb_to_model_add_no_ec_with_target = find_reaction_containing_metabolite(differenct_metabolites_inchikey0, rxndb_to_model_add_no_ec)\n",
    "rxndb_to_model_add_no_ec_with_target = rxndb_to_model_add_no_ec_with_target.drop(['product_inchikey0','target_num'],axis=1)"
   ]
  },
  {
   "cell_type": "code",
   "execution_count": 12,
   "metadata": {},
   "outputs": [],
   "source": [
    "rxndb_to_model_add_no_ec_with_target_ = find_reaction_containing_metabolite_(differenct_metabolites_inchikey0, rxndb_to_model_add_no_ec)\n",
    "rxndb_to_model_add_no_ec_with_target_ = rxndb_to_model_add_no_ec_with_target_.drop(['product_inchikey0','reactant_inchikey0','target_num'],axis=1)\n"
   ]
  },
  {
   "cell_type": "code",
   "execution_count": 13,
   "metadata": {},
   "outputs": [
    {
     "data": {
      "text/plain": [
       "(446, 5)"
      ]
     },
     "execution_count": 13,
     "metadata": {},
     "output_type": "execute_result"
    }
   ],
   "source": [
    "rxndb_to_model_add_no_ec_with_target = pd.concat([rxndb_to_model_add_no_ec_with_target, rxndb_to_model_add_no_ec_with_target_])\n",
    "rxndb_to_model_add_no_ec_with_target = rxndb_to_model_add_no_ec_with_target.drop_duplicates(subset=['NO'])\n",
    "rxndb_to_model_add_no_ec_with_target.shape"
   ]
  },
  {
   "cell_type": "code",
   "execution_count": 14,
   "metadata": {},
   "outputs": [],
   "source": [
    "rxndb_to_model_add_no_ec_with_target.to_csv(rxndb_to_model_with_target_path, index=False)\n"
   ]
  },
  {
   "cell_type": "code",
   "execution_count": 25,
   "metadata": {},
   "outputs": [],
   "source": [
    "rxndb_to_model_add_no_ec_with_target = pd.read_csv(rxndb_to_model_with_target_path)"
   ]
  },
  {
   "cell_type": "code",
   "execution_count": 26,
   "metadata": {},
   "outputs": [
    {
     "data": {
      "text/plain": [
       "(73, 5)"
      ]
     },
     "execution_count": 26,
     "metadata": {},
     "output_type": "execute_result"
    }
   ],
   "source": [
    "rxndb_to_model_add_no_ec_with_target = rxndb_to_model_add_no_ec_with_target[rxndb_to_model_add_no_ec_with_target['EC number'].isna()]\n",
    "rxndb_to_model_add_no_ec_with_target.shape"
   ]
  },
  {
   "cell_type": "code",
   "execution_count": 27,
   "metadata": {},
   "outputs": [],
   "source": [
    "rxndb_met_max_score_pd = pd.DataFrame({'smile': sink_smiles})\n",
    "rxndb_met_max_score_pd['score'] = 1\n",
    "rxndb_met_max_score_pd['sim_smile'] = ''\n",
    "rxndb_met_max_score_pd['inchikey0'] = rxndb_met_max_score_pd['smile'].apply(smiles2inchikey0)\n",
    "rxndb_met_max_score_pd.to_csv(rxndb_met_max_score_file, index=False)"
   ]
  },
  {
   "cell_type": "code",
   "execution_count": 10,
   "metadata": {},
   "outputs": [],
   "source": [
    "rxndb_met_max_score_pd = pd.read_csv(rxndb_met_max_score_file)\n"
   ]
  },
  {
   "cell_type": "code",
   "execution_count": 27,
   "metadata": {},
   "outputs": [],
   "source": [
    "# rxndb_met_max_score_pd_top50_0_3 = pd.read_csv(rxndb_met_max_score_pd_top50_0_3_path)\n",
    "# rxndb_met_max_score_pd_top50_0_3['inchikey0'] = rxndb_met_max_score_pd_top50_0_3['smile'].apply(smiles2inchikey0)\n",
    "# rxndb_met_max_score_pd = pd.concat([rxndb_met_max_score_pd,rxndb_met_max_score_pd_top50_0_3])"
   ]
  },
  {
   "cell_type": "code",
   "execution_count": 28,
   "metadata": {},
   "outputs": [
    {
     "name": "stderr",
     "output_type": "stream",
     "text": [
      "100%|██████████| 100/100 [00:00<00:00, 195.87it/s]\n",
      " 21%|██        | 21/100 [00:00<00:00, 198.55it/s]"
     ]
    },
    {
     "name": "stderr",
     "output_type": "stream",
     "text": [
      "100%|██████████| 100/100 [00:00<00:00, 210.29it/s]\n"
     ]
    },
    {
     "name": "stdout",
     "output_type": "stream",
     "text": [
      "Iteration 1 - Current success count: 45\n",
      "Iteration 1 - Current success_rxndbid count: 73\n",
      "============================================================================\n"
     ]
    },
    {
     "name": "stderr",
     "output_type": "stream",
     "text": [
      "100%|██████████| 100/100 [00:00<00:00, 192.27it/s]\n",
      "100%|██████████| 100/100 [00:00<00:00, 209.76it/s]\n"
     ]
    },
    {
     "name": "stdout",
     "output_type": "stream",
     "text": [
      "Iteration 2 - Current success count: 45\n",
      "Iteration 2 - Current success_rxndbid count: 73\n",
      "============================================================================\n",
      "final success 45\n",
      "final success_rxndbid 73\n"
     ]
    }
   ],
   "source": [
    "# rxndb_met_max_score_pd_top50_0_3  = pd.read_csv(rxndb_met_max_score_pd_top50_0_3_path)\n",
    "smiles_success,success_rxndbid,smiles_max_score_tmp_pd = process_reactions_in_parallel_reactant(rxndb_to_model_add_no_ec_with_target, rxndb_met_max_score_pd, num_processes=5, num_iterations=2)\n"
   ]
  },
  {
   "cell_type": "code",
   "execution_count": 29,
   "metadata": {},
   "outputs": [
    {
     "data": {
      "text/plain": [
       "(73, 5)"
      ]
     },
     "execution_count": 29,
     "metadata": {},
     "output_type": "execute_result"
    }
   ],
   "source": [
    "rxndb_to_model_success = rxndb_to_model_add_no_ec_with_target[rxndb_to_model_add_no_ec_with_target['NO'].isin(success_rxndbid)]\n",
    "rxndb_to_model_success.shape"
   ]
  },
  {
   "cell_type": "code",
   "execution_count": 32,
   "metadata": {},
   "outputs": [],
   "source": [
    "rxndb_to_model_success.to_csv(rxndb_to_model_with_target_success_path, index=False)"
   ]
  },
  {
   "cell_type": "code",
   "execution_count": 31,
   "metadata": {},
   "outputs": [
    {
     "data": {
      "text/html": [
       "<div>\n",
       "<style scoped>\n",
       "    .dataframe tbody tr th:only-of-type {\n",
       "        vertical-align: middle;\n",
       "    }\n",
       "\n",
       "    .dataframe tbody tr th {\n",
       "        vertical-align: top;\n",
       "    }\n",
       "\n",
       "    .dataframe thead th {\n",
       "        text-align: right;\n",
       "    }\n",
       "</style>\n",
       "<table border=\"1\" class=\"dataframe\">\n",
       "  <thead>\n",
       "    <tr style=\"text-align: right;\">\n",
       "      <th></th>\n",
       "      <th>NO</th>\n",
       "      <th>EC number</th>\n",
       "      <th>templateID</th>\n",
       "      <th>rxn_smiles_basic</th>\n",
       "      <th>rxn_smiles_final</th>\n",
       "    </tr>\n",
       "  </thead>\n",
       "  <tbody>\n",
       "    <tr>\n",
       "      <th>0</th>\n",
       "      <td>rxn801</td>\n",
       "      <td>2.1.1.M6</td>\n",
       "      <td>MNXR120324_reverse</td>\n",
       "      <td>COc1cc(C=CC(=O)OC(C(=O)O)C(O)C(=O)O)ccc1O.Nc1n...</td>\n",
       "      <td>COc1cc(C=CC(=O)OC(C(=O)O)C(O)C(=O)O)ccc1O.Nc1n...</td>\n",
       "    </tr>\n",
       "    <tr>\n",
       "      <th>1</th>\n",
       "      <td>rxn808</td>\n",
       "      <td>2.1.1.M6</td>\n",
       "      <td>MNXR120324_reverse</td>\n",
       "      <td>COc1cc(C=CC(=O)OC(C(=O)O)C(O)C(=O)O)ccc1O.Nc1n...</td>\n",
       "      <td>COc1cc(C=CC(=O)OC(C(=O)O)C(O)C(=O)O)ccc1O.Nc1n...</td>\n",
       "    </tr>\n",
       "    <tr>\n",
       "      <th>2</th>\n",
       "      <td>rxn815</td>\n",
       "      <td>2.1.1.M6</td>\n",
       "      <td>MNXR120324_reverse</td>\n",
       "      <td>COc1cc(C=CC(=O)OC(C(=O)O)C(O)C(=O)O)ccc1O.Nc1n...</td>\n",
       "      <td>COc1cc(C=CC(=O)OC(C(=O)O)C(O)C(=O)O)ccc1O.Nc1n...</td>\n",
       "    </tr>\n",
       "    <tr>\n",
       "      <th>3</th>\n",
       "      <td>rxn1290</td>\n",
       "      <td>3.1.3;3.1.3.-</td>\n",
       "      <td>MNXR116844</td>\n",
       "      <td>CCCCCCCCCCCCCC=CC(O)C([NH3+])COP(=O)([O-])[O-]...</td>\n",
       "      <td>CCCCCCCCCCCCCC=CC(O)C([NH3+])COP(=O)([O-])[O-]...</td>\n",
       "    </tr>\n",
       "    <tr>\n",
       "      <th>4</th>\n",
       "      <td>rxn1297</td>\n",
       "      <td>3.1.3;3.1.3.-</td>\n",
       "      <td>MNXR116844</td>\n",
       "      <td>CCCCCCCCCCCCCC=CC(O)C(N)COP(=O)([O-])[O-].O&gt;&gt;C...</td>\n",
       "      <td>CCCCCCCCCCCCCC=CC(O)C(N)COP(=O)([O-])[O-].O&gt;&gt;C...</td>\n",
       "    </tr>\n",
       "  </tbody>\n",
       "</table>\n",
       "</div>"
      ],
      "text/plain": [
       "        NO      EC number          templateID  \\\n",
       "0   rxn801       2.1.1.M6  MNXR120324_reverse   \n",
       "1   rxn808       2.1.1.M6  MNXR120324_reverse   \n",
       "2   rxn815       2.1.1.M6  MNXR120324_reverse   \n",
       "3  rxn1290  3.1.3;3.1.3.-          MNXR116844   \n",
       "4  rxn1297  3.1.3;3.1.3.-          MNXR116844   \n",
       "\n",
       "                                    rxn_smiles_basic  \\\n",
       "0  COc1cc(C=CC(=O)OC(C(=O)O)C(O)C(=O)O)ccc1O.Nc1n...   \n",
       "1  COc1cc(C=CC(=O)OC(C(=O)O)C(O)C(=O)O)ccc1O.Nc1n...   \n",
       "2  COc1cc(C=CC(=O)OC(C(=O)O)C(O)C(=O)O)ccc1O.Nc1n...   \n",
       "3  CCCCCCCCCCCCCC=CC(O)C([NH3+])COP(=O)([O-])[O-]...   \n",
       "4  CCCCCCCCCCCCCC=CC(O)C(N)COP(=O)([O-])[O-].O>>C...   \n",
       "\n",
       "                                    rxn_smiles_final  \n",
       "0  COc1cc(C=CC(=O)OC(C(=O)O)C(O)C(=O)O)ccc1O.Nc1n...  \n",
       "1  COc1cc(C=CC(=O)OC(C(=O)O)C(O)C(=O)O)ccc1O.Nc1n...  \n",
       "2  COc1cc(C=CC(=O)OC(C(=O)O)C(O)C(=O)O)ccc1O.Nc1n...  \n",
       "3  CCCCCCCCCCCCCC=CC(O)C([NH3+])COP(=O)([O-])[O-]...  \n",
       "4  CCCCCCCCCCCCCC=CC(O)C(N)COP(=O)([O-])[O-].O>>C...  "
      ]
     },
     "execution_count": 31,
     "metadata": {},
     "output_type": "execute_result"
    }
   ],
   "source": [
    "rxndb_to_model_success.head()"
   ]
  },
  {
   "cell_type": "code",
   "execution_count": 30,
   "metadata": {},
   "outputs": [
    {
     "name": "stdout",
     "output_type": "stream",
     "text": [
      "DGAODIKUWGRDBO\n",
      "SNDPXSYFESPGGJ\n"
     ]
    }
   ],
   "source": [
    "success_inchikey0 = [smiles2inchikey0(x) for x in smiles_success]\n",
    "for i in differenct_metabolites_inchikey0:\n",
    "    if i not in success_inchikey0:\n",
    "        print(i)"
   ]
  },
  {
   "cell_type": "code",
   "execution_count": 31,
   "metadata": {},
   "outputs": [
    {
     "data": {
      "text/plain": [
       "11"
      ]
     },
     "execution_count": 31,
     "metadata": {},
     "output_type": "execute_result"
    }
   ],
   "source": [
    "len(differenct_metabolites_inchikey0)"
   ]
  }
 ],
 "metadata": {
  "kernelspec": {
   "display_name": "gurob",
   "language": "python",
   "name": "python3"
  },
  "language_info": {
   "codemirror_mode": {
    "name": "ipython",
    "version": 3
   },
   "file_extension": ".py",
   "mimetype": "text/x-python",
   "name": "python",
   "nbconvert_exporter": "python",
   "pygments_lexer": "ipython3",
   "version": "3.8.18"
  }
 },
 "nbformat": 4,
 "nbformat_minor": 2
}
