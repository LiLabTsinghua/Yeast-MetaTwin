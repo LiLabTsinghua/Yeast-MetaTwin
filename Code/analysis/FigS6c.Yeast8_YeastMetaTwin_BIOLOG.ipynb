{
 "cells": [
  {
   "cell_type": "code",
   "execution_count": 1,
   "metadata": {},
   "outputs": [],
   "source": [
    "import pandas as pd\n",
    "import numpy as np\n",
    "import json\n",
    "import pandas as pd\n",
    "from cobra import Model, Reaction, Metabolite\n",
    "from cobra.flux_analysis import flux_variability_analysis\n",
    "import pickle\n",
    "from tqdm import tqdm \n",
    "from ast import literal_eval\n",
    "import cobra\n",
    "import matplotlib.pyplot as plt\n",
    "import numpy as np\n",
    "from multiprocessing import Pool\n",
    "from tqdm import tqdm\n",
    "from functools import partial \n",
    "import matplotlib.pyplot as plt\n",
    "import numpy as np\n",
    "from matplotlib.gridspec import GridSpec\n",
    "from matplotlib.ticker import MaxNLocator, FormatStrFormatter\n",
    "\n",
    "import gurobipy\n",
    "gurobipy.setParam('OutputFlag', 0)\n",
    "import sys\n",
    "sys.path.append('../retrosynthesis/')\n",
    "\n",
    "from common import *\n"
   ]
  },
  {
   "cell_type": "markdown",
   "metadata": {},
   "source": [
    "### input and output"
   ]
  },
  {
   "cell_type": "code",
   "execution_count": 2,
   "metadata": {},
   "outputs": [],
   "source": [
    "###input\n",
    "yeast870_path =  '../../Data/model/yeast-GEM.yml'\n",
    "yeast8U_path = '../../Data/model/Yeast-MetaTwin.yml'\n",
    "\n",
    "\n",
    "biolog_data_path = '../../Data/Biolog_Substrate.tsv'\n",
    "\n",
    "###output\n",
    "biolog_confusion_matrix_figure_path = '../../Results/Figures/figs6-c.pdf'"
   ]
  },
  {
   "cell_type": "code",
   "execution_count": 4,
   "metadata": {},
   "outputs": [],
   "source": [
    "def get_accuracy_and_confusion_matrix_num(essential_predict_list,notessential_predict_list,essential_genes,not_essential_genes):\n",
    "    TP = len(set(essential_predict_list) & set(essential_genes))\n",
    "    TN = len(set(notessential_predict_list) & set(not_essential_genes))\n",
    "    FP = len(set(essential_predict_list) - set(essential_genes))\n",
    "    FN = len(set(notessential_predict_list) - set(not_essential_genes))\n",
    "    Accuracy = round((TP + TN) / (TP + TN + FP + FN), 3)\n",
    "    print(Accuracy)\n",
    "    return TP,TN,FP,FN,Accuracy"
   ]
  },
  {
   "cell_type": "code",
   "execution_count": 5,
   "metadata": {},
   "outputs": [],
   "source": [
    "def get_yeast8_id_from_name(name,model):\n",
    "    met_id = ''\n",
    "    if met_id == '':\n",
    "        for i in model.metabolites:\n",
    "            if i.name == name and i.compartment=='e':\n",
    "                met_id = i.id\n",
    "                break\n",
    "    return met_id"
   ]
  },
  {
   "cell_type": "code",
   "execution_count": 6,
   "metadata": {},
   "outputs": [],
   "source": [
    "def get_exchange_reaction(Target_met,model):\n",
    "    if Target_met!='':\n",
    "        exchange_reaction = ''\n",
    "        for i in model.reactions:\n",
    "            if Target_met in i.reaction and len(i.metabolites) == 1:\n",
    "                exchange_reaction = i.id\n",
    "        if exchange_reaction == '':\n",
    "            reaction_name = 'DM_'+ Target_met\n",
    "            reaction = Reaction(reaction_name)\n",
    "            reaction.name = reaction_name\n",
    "            reaction.subsystem = ''\n",
    "            reaction.lower_bound = 0.  # This is the default\n",
    "            reaction.upper_bound = 1000.  # This is the default\n",
    "\n",
    "            reactant_met_num = {Target_met:-1}\n",
    "            for met_id, coeff in reactant_met_num.items():\n",
    "                met = model.metabolites.get_by_id(met_id)\n",
    "                if met:\n",
    "                    reaction.add_metabolites({met: coeff})\n",
    "            model.add_reactions([reaction])  \n",
    "            exchange_reaction = reaction_name     \n",
    "        return(exchange_reaction)\n",
    "    else:\n",
    "        pass"
   ]
  },
  {
   "cell_type": "code",
   "execution_count": 7,
   "metadata": {},
   "outputs": [],
   "source": [
    "def biology_simulation(Target_met,Substrate_type,model):\n",
    "    if Target_met!='':\n",
    "        if Substrate_type == 'C':\n",
    "            with model:\n",
    "                model.reactions.get_by_id('r_1714').bounds = (0,0)\n",
    "                exchange_reaction = get_exchange_reaction(Target_met,model)\n",
    "                model.reactions.get_by_id(exchange_reaction).bounds = (-5,1000)\n",
    "                model.solver = 'gurobi'\n",
    "                model.optimize()\n",
    "                if model.reactions.get_by_id('r_2111').flux > 0.00001:\n",
    "                    return 'G'\n",
    "                else:\n",
    "                    return 'NG'\n",
    "\n",
    "        elif Substrate_type == 'N':\n",
    "            with model:\n",
    "                model.reactions.get_by_id('r_1654').bounds = (0,0)\n",
    "                exchange_reaction = get_exchange_reaction(Target_met,model)\n",
    "                model.reactions.get_by_id(exchange_reaction).bounds = (-5,1000)\n",
    "                model.solver = 'gurobi'\n",
    "                model.optimize()\n",
    "                if model.reactions.get_by_id('r_2111').flux > 0.00001:\n",
    "                    return 'G'\n",
    "                else:\n",
    "                    return 'NG'\n",
    "\n",
    "        elif Substrate_type == 'P':\n",
    "            with model:\n",
    "                model.reactions.get_by_id('r_2005').bounds = (0,0)\n",
    "                exchange_reaction = get_exchange_reaction(Target_met,model)\n",
    "                model.reactions.get_by_id(exchange_reaction).bounds = (-5,1000)\n",
    "                model.solver = 'gurobi'\n",
    "                model.optimize()\n",
    "                if model.reactions.get_by_id('r_2111').flux > 0.00001:\n",
    "                    return 'G'\n",
    "                else:\n",
    "                    return 'NG'\n",
    "\n",
    "        elif Substrate_type == 'S':\n",
    "            with model:\n",
    "                model.reactions.get_by_id('r_2060').bounds = (0,0)\n",
    "                exchange_reaction = get_exchange_reaction(Target_met,model)\n",
    "                model.reactions.get_by_id(exchange_reaction).bounds = (-5,1000)\n",
    "                model.solver = 'gurobi'\n",
    "                model.optimize()\n",
    "                if model.reactions.get_by_id('r_2111').flux > 0.00001:\n",
    "                    return 'G'\n",
    "                else:\n",
    "                    return 'NG'\n",
    "        else:\n",
    "            print('error')      \n",
    "    else:\n",
    "        return 'NG'"
   ]
  },
  {
   "cell_type": "code",
   "execution_count": 8,
   "metadata": {},
   "outputs": [],
   "source": [
    "def yeast8_yeast8U_biolog_simulation(biolog_data_path,yeast870_path,yeast8U_path):\n",
    "    yeast8 = cobra.io.load_yaml_model(yeast870_path)\n",
    "    yeast8U = cobra.io.load_yaml_model(yeast8U_path)\n",
    "\n",
    "    biolog_data = pd.read_csv(biolog_data_path,sep='\\t')\n",
    "    biolog_data['yeast8_id'] = biolog_data['Name_in_Model'].apply(lambda x:get_yeast8_id_from_name(x,yeast8))\n",
    "\n",
    "    biolog_data['biology_simulation'] = biolog_data.apply(lambda x: biology_simulation(x['yeast8_id'], x['Substrate_type'], yeast8), axis=1)\n",
    "    biolog_data['biology_simulation_plus'] = biolog_data.apply(lambda x: biology_simulation(x['yeast8_id'], x['Substrate_type'], yeast8U), axis=1)\n",
    "    return biolog_data"
   ]
  },
  {
   "cell_type": "code",
   "execution_count": 9,
   "metadata": {},
   "outputs": [
    {
     "name": "stderr",
     "output_type": "stream",
     "text": [
      "/home/wuke/anaconda3/envs/kcat/lib/python3.7/site-packages/cobra/util/solver.py:554: UserWarning: Solver status is 'infeasible'.\n",
      "  warn(f\"Solver status is '{status}'.\", UserWarning)\n"
     ]
    },
    {
     "data": {
      "text/html": [
       "<div>\n",
       "<style scoped>\n",
       "    .dataframe tbody tr th:only-of-type {\n",
       "        vertical-align: middle;\n",
       "    }\n",
       "\n",
       "    .dataframe tbody tr th {\n",
       "        vertical-align: top;\n",
       "    }\n",
       "\n",
       "    .dataframe thead th {\n",
       "        text-align: right;\n",
       "    }\n",
       "</style>\n",
       "<table border=\"1\" class=\"dataframe\">\n",
       "  <thead>\n",
       "    <tr style=\"text-align: right;\">\n",
       "      <th></th>\n",
       "      <th>Substrate</th>\n",
       "      <th>Name_in_Model</th>\n",
       "      <th>Substrate_type</th>\n",
       "      <th>Growth_Biolog</th>\n",
       "      <th>Growth_Model</th>\n",
       "      <th>yeast8_id</th>\n",
       "      <th>biology_simulation</th>\n",
       "      <th>biology_simulation_plus</th>\n",
       "    </tr>\n",
       "  </thead>\n",
       "  <tbody>\n",
       "    <tr>\n",
       "      <th>0</th>\n",
       "      <td>L-Malic Acid</td>\n",
       "      <td>(S)-malate</td>\n",
       "      <td>C</td>\n",
       "      <td>NG</td>\n",
       "      <td>G</td>\n",
       "      <td>s_0067</td>\n",
       "      <td>G</td>\n",
       "      <td>G</td>\n",
       "    </tr>\n",
       "    <tr>\n",
       "      <th>1</th>\n",
       "      <td>L-Glutamic Acid</td>\n",
       "      <td>L-glutamate</td>\n",
       "      <td>C</td>\n",
       "      <td>NG</td>\n",
       "      <td>G</td>\n",
       "      <td>s_0992</td>\n",
       "      <td>G</td>\n",
       "      <td>G</td>\n",
       "    </tr>\n",
       "    <tr>\n",
       "      <th>2</th>\n",
       "      <td>Thymidine</td>\n",
       "      <td>thymidine</td>\n",
       "      <td>C</td>\n",
       "      <td>NG</td>\n",
       "      <td>NG</td>\n",
       "      <td>s_1494</td>\n",
       "      <td>NG</td>\n",
       "      <td>NG</td>\n",
       "    </tr>\n",
       "  </tbody>\n",
       "</table>\n",
       "</div>"
      ],
      "text/plain": [
       "         Substrate Name_in_Model Substrate_type Growth_Biolog Growth_Model  \\\n",
       "0     L-Malic Acid    (S)-malate              C            NG            G   \n",
       "1  L-Glutamic Acid   L-glutamate              C            NG            G   \n",
       "2        Thymidine     thymidine              C            NG           NG   \n",
       "\n",
       "  yeast8_id biology_simulation biology_simulation_plus  \n",
       "0    s_0067                  G                       G  \n",
       "1    s_0992                  G                       G  \n",
       "2    s_1494                 NG                      NG  "
      ]
     },
     "execution_count": 9,
     "metadata": {},
     "output_type": "execute_result"
    }
   ],
   "source": [
    "biolog_data_with_simulation = yeast8_yeast8U_biolog_simulation(biolog_data_path,yeast870_path,yeast8U_path)\n",
    "biolog_data_with_simulation.head(3)"
   ]
  },
  {
   "cell_type": "code",
   "execution_count": 10,
   "metadata": {},
   "outputs": [
    {
     "name": "stdout",
     "output_type": "stream",
     "text": [
      "116 197 41 29 0.817\n",
      "117 191 47 28 0.804\n"
     ]
    }
   ],
   "source": [
    "yeast8_TP = len(biolog_data_with_simulation[(biolog_data_with_simulation['Growth_Biolog']=='G')&(biolog_data_with_simulation['biology_simulation']=='G')])\n",
    "yeast8_TN = len(biolog_data_with_simulation[(biolog_data_with_simulation['Growth_Biolog']=='NG')&(biolog_data_with_simulation['biology_simulation']=='NG')])\n",
    "yeast8_FP = len(biolog_data_with_simulation[(biolog_data_with_simulation['Growth_Biolog']=='NG')&(biolog_data_with_simulation['biology_simulation']=='G')])\n",
    "yeast8_FN = len(biolog_data_with_simulation[(biolog_data_with_simulation['Growth_Biolog']=='G')&(biolog_data_with_simulation['biology_simulation']=='NG')])\n",
    "yeast8_Accuracy = round((yeast8_TP + yeast8_TN) / (yeast8_TP + yeast8_TN + yeast8_FP + yeast8_FN), 3)\n",
    "print(yeast8_TP,yeast8_TN,yeast8_FP,yeast8_FN,yeast8_Accuracy)\n",
    "\n",
    "yeast8U_TP = len(biolog_data_with_simulation[(biolog_data_with_simulation['Growth_Biolog']=='G')&(biolog_data_with_simulation['biology_simulation_plus']=='G')])\n",
    "yeast8U_TN = len(biolog_data_with_simulation[(biolog_data_with_simulation['Growth_Biolog']=='NG')&(biolog_data_with_simulation['biology_simulation_plus']=='NG')])\n",
    "yeast8U_FP = len(biolog_data_with_simulation[(biolog_data_with_simulation['Growth_Biolog']=='NG')&(biolog_data_with_simulation['biology_simulation_plus']=='G')])\n",
    "yeast8U_FN = len(biolog_data_with_simulation[(biolog_data_with_simulation['Growth_Biolog']=='G')&(biolog_data_with_simulation['biology_simulation_plus']=='NG')])\n",
    "yeast8U_Accuracy = round((yeast8U_TP + yeast8U_TN) / (yeast8U_TP + yeast8U_TN + yeast8U_FP + yeast8U_FN), 3)\n",
    "print(yeast8U_TP,yeast8U_TN,yeast8U_FP,yeast8U_FN,yeast8U_Accuracy)"
   ]
  },
  {
   "cell_type": "code",
   "execution_count": 18,
   "metadata": {},
   "outputs": [],
   "source": [
    "def draw_confusion_matrix_figure(yeast8_TP, yeast8_TN, yeast8_FP, yeast8_FN, yeast8_Accuracy, \n",
    "                                 yeast8U_TP, yeast8U_TN, yeast8U_FP, yeast8U_FN, yeast8U_Accuracy, \n",
    "                                 figure_path, vmax):\n",
    "    # Assume you have two sets of confusion matrix data\n",
    "    confusion_matrix1 = np.array([[yeast8_TP, yeast8_FP], [yeast8_FN, yeast8_TN]])\n",
    "    confusion_matrix2 = np.array([[yeast8U_TP, yeast8U_FP], [yeast8U_FN, yeast8U_TN]])\n",
    "\n",
    "    # Create a figure, set the subplot layout to 1 row and 2 columns, with the right subplot being narrower\n",
    "    fig = plt.figure(figsize=(2, 1.6), dpi=400)\n",
    "    plt.rcParams['font.family'] = 'Arial'\n",
    "    plt.rcParams['pdf.fonttype'] = 42\n",
    "    \n",
    "    gs = GridSpec(1, 3, width_ratios=[0.6, 0.6, 0.03])\n",
    "\n",
    "    # First subplot\n",
    "    ax1 = plt.subplot(gs[0])\n",
    "    im1 = ax1.imshow(confusion_matrix1, cmap='Wistia', interpolation='nearest', vmin=1, vmax=vmax, aspect=2)\n",
    "    ax1.set_xticks([])\n",
    "    ax1.set_yticks([])\n",
    "    ax1.grid(False)\n",
    "    ax1.text(0, 0, f\"TP\\n{confusion_matrix1[0, 0]}\", ha='center', va='center', fontsize=8, color='black')\n",
    "    ax1.text(1, 0, f\"FP\\n{confusion_matrix1[0, 1]}\", ha='center', va='center', fontsize=8, color='black')\n",
    "    ax1.text(0, 1, f\"FN\\n{confusion_matrix1[1, 0]}\", ha='center', va='center', fontsize=8, color='black')\n",
    "    ax1.text(1, 1, f\"TN\\n{confusion_matrix1[1, 1]}\", ha='center', va='center', fontsize=8, color='black')\n",
    "    ax1.set_xlabel(f\"Yeast8\\n(ACC = {yeast8_Accuracy:.2f})\", fontsize=8, labelpad=-1)\n",
    "    # Add border to the image\n",
    "    for spine in ax1.spines.values():\n",
    "        spine.set_edgecolor('black')\n",
    "        spine.set_linewidth(0)\n",
    "\n",
    "    # Second subplot\n",
    "    ax2 = plt.subplot(gs[1])\n",
    "    im2 = ax2.imshow(confusion_matrix2, cmap='Wistia', interpolation='nearest', vmin=1, vmax=vmax, aspect=2)\n",
    "    ax2.set_xticks([])\n",
    "    ax2.set_yticks([])\n",
    "    ax2.grid(False)\n",
    "    ax2.text(0, 0, f\"TP\\n{confusion_matrix2[0, 0]}\", ha='center', va='center', fontsize=8, color='black')\n",
    "    ax2.text(1, 0, f\"FP\\n{confusion_matrix2[0, 1]}\", ha='center', va='center', fontsize=8, color='black')\n",
    "    ax2.text(0, 1, f\"FN\\n{confusion_matrix2[1, 0]}\", ha='center', va='center', fontsize=8, color='black')\n",
    "    ax2.text(1, 1, f\"TN\\n{confusion_matrix2[1, 1]}\", ha='center', va='center', fontsize=8, color='black')\n",
    "    ax2.set_xlabel(f\"Yeast-MetaTwin\\n(ACC = {yeast8U_Accuracy:.2f})\", fontsize=8, labelpad=-1)\n",
    "    # Add border to the image\n",
    "    for spine in ax2.spines.values():\n",
    "        spine.set_edgecolor('black')\n",
    "        spine.set_linewidth(0)\n",
    "\n",
    "    # Color bar\n",
    "    cbar_ax = plt.subplot(gs[2])\n",
    "    cbar = fig.colorbar(im2, cax=cbar_ax)\n",
    "    cbar.ax.tick_params(labelsize=8)\n",
    "    cbar.ax.yaxis.set_major_locator(MaxNLocator(nbins=6))\n",
    "    # Add border to the image\n",
    "    for spine in cbar_ax.spines.values():\n",
    "        spine.set_edgecolor('black')\n",
    "        spine.set_linewidth(0)\n",
    "\n",
    "    # Adjust the spacing between subplots\n",
    "    plt.subplots_adjust(wspace=0.02)\n",
    "    # Save the image to a file\n",
    "    plt.savefig(figure_path, dpi=400, bbox_inches='tight')\n",
    "    plt.show()"
   ]
  },
  {
   "cell_type": "code",
   "execution_count": 19,
   "metadata": {},
   "outputs": [
    {
     "data": {
      "image/png": "[encoded data removed]",
      "text/plain": [
       "<Figure size 800x640 with 3 Axes>"
      ]
     },
     "metadata": {},
     "output_type": "display_data"
    }
   ],
   "source": [
    "draw_confusion_matrix_figure(yeast8_TP,yeast8_TN,yeast8_FP,yeast8_FN,yeast8_Accuracy,yeast8U_TP,yeast8U_TN,yeast8U_FP,yeast8U_FN,yeast8U_Accuracy,biolog_confusion_matrix_figure_path,vmax=199)"
   ]
  }
 ],
 "metadata": {
  "kernelspec": {
   "display_name": "kcat",
   "language": "python",
   "name": "python3"
  },
  "language_info": {
   "codemirror_mode": {
    "name": "ipython",
    "version": 3
   },
   "file_extension": ".py",
   "mimetype": "text/x-python",
   "name": "python",
   "nbconvert_exporter": "python",
   "pygments_lexer": "ipython3",
   "version": "3.7.16"
  }
 },
 "nbformat": 4,
 "nbformat_minor": 2
}
