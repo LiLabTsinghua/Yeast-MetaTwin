{
 "cells": [
  {
   "cell_type": "code",
   "execution_count": 21,
   "metadata": {},
   "outputs": [],
   "source": [
    "import pandas as pd\n",
    "import numpy as np\n",
    "import json\n",
    "import pandas as pd\n",
    "from cobra import Model, Reaction, Metabolite\n",
    "from cobra.flux_analysis import flux_variability_analysis\n",
    "import pickle\n",
    "from tqdm import tqdm \n",
    "from ast import literal_eval\n",
    "import cobra\n",
    "import matplotlib.pyplot as plt\n",
    "import numpy as np\n",
    "from multiprocessing import Pool\n",
    "from tqdm import tqdm\n",
    "from functools import partial \n",
    "import numpy as np\n",
    "from matplotlib.gridspec import GridSpec\n",
    "from matplotlib.ticker import MaxNLocator, FormatStrFormatter\n",
    "import plotly.io as pio\n",
    "import plotly.graph_objects as go\n",
    "import gurobipy\n",
    "gurobipy.setParam('OutputFlag', 0)\n",
    "import sys\n",
    "sys.path.append('../retrosynthesis/')\n",
    "\n",
    "from common import *\n"
   ]
  },
  {
   "cell_type": "markdown",
   "metadata": {},
   "source": [
    "### input and output"
   ]
  },
  {
   "cell_type": "code",
   "execution_count": 22,
   "metadata": {},
   "outputs": [],
   "source": [
    "###input\n",
    "yeast870_path =  '../../Data/model/yeast-GEM.yml'\n",
    "yeast8U_path = '../../Data/model/Yeast-MetaTwin.yml'\n",
    "yeast8U_lipid_path = '../../Data/model/Yeast-MetaTwin-lipid.yml'\n",
    "clean_deepec_gene2ec_dict_path = '../../Results/ECnumber_prediction/clean_deepec_gene2ec_dict.json'\n",
    "\n",
    "###output\n",
    "source_fig2a_path = '../../Results/source_data/fig2-a.csv'\n",
    "compare_yeast8_yeast8U_basic_info_figure_path = '../../Results/Figures/fig2-a.pdf'\n",
    "ymdb_metabolites_sankey_result_figure_path = '../../Results/Figures/fig2-b.pdf'"
   ]
  },
  {
   "cell_type": "code",
   "execution_count": 12,
   "metadata": {},
   "outputs": [],
   "source": [
    "def compare_yeast8_yeast8U_basic_info(yeast870_path,yeast8U_path,yeast8U_lipid_path,source_fig2a_path):\n",
    "    yeast8 = cobra.io.load_yaml_model(yeast870_path)\n",
    "    yeast8U = cobra.io.load_yaml_model(yeast8U_path)\n",
    "    yeast8U_lipid = cobra.io.load_yaml_model(yeast8U_lipid_path)\n",
    "    yeast8gene=len(yeast8.genes)\n",
    "    yeast8metabolite=len(yeast8.metabolites)\n",
    "    yeast8reaction=len(yeast8.reactions)\n",
    "    yeast8Ugene=len(yeast8U.genes)\n",
    "    yeast8Umetabolite=len(yeast8U.metabolites)\n",
    "    yeast8Ureaction=len(yeast8U.reactions)\n",
    "    yeast8U_lipidgene=len(yeast8U_lipid.genes)\n",
    "    yeast8U_lipidmetabolite=len(yeast8U_lipid.metabolites)\n",
    "    yeast8U_lipidreaction=len(yeast8U_lipid.reactions)\n",
    "\n",
    "    \n",
    "    res = {'Genes':[],\n",
    "            'Metabolites':[],\n",
    "            'Reactions':[]}\n",
    "    res['Genes'].append(yeast8gene)\n",
    "    res['Genes'].append(yeast8Ugene)\n",
    "    res['Genes'].append(yeast8U_lipidgene)\n",
    "    res['Metabolites'].append(yeast8metabolite)\n",
    "    res['Metabolites'].append(yeast8Umetabolite)\n",
    "    res['Metabolites'].append(yeast8U_lipidmetabolite)\n",
    "    res['Reactions'].append(yeast8reaction)\n",
    "    res['Reactions'].append(yeast8Ureaction)\n",
    "    res['Reactions'].append(yeast8U_lipidreaction)\n",
    "    res = pd.DataFrame(res)\n",
    "    res.index = ['Yeast8','Yeast-MetaTwin-no-lipid','Yeast-MetaTwin-Lipid']\n",
    "    res.to_csv(source_fig2a_path)\n",
    "    res"
   ]
  },
  {
   "cell_type": "code",
   "execution_count": null,
   "metadata": {},
   "outputs": [],
   "source": [
    "compare_yeast8_yeast8U_basic_info(yeast870_path,yeast8U_path,yeast8U_lipid_path,source_fig2a_path)"
   ]
  },
  {
   "cell_type": "code",
   "execution_count": 23,
   "metadata": {},
   "outputs": [],
   "source": [
    "def draw_fig2a(source_fig2a_path, compare_yeast8_yeast8U_basic_info_figure_path):\n",
    "    # Read data from CSV file\n",
    "    data = pd.read_csv(source_fig2a_path, index_col=[0])\n",
    "    labels = ['Genes', 'Metabolites', 'Reactions']\n",
    "    yeast8_data = data.loc['Yeast8', :].to_list()\n",
    "    yeast8U_nonlipids_data = data.loc['Yeast-MetaTwin-nolipid', :].to_list()\n",
    "    yeast8U_lipids_data = data.loc['Yeast-MetaTwin-Lipid', :].to_list()\n",
    "\n",
    "    # Plot configuration\n",
    "    plt.figure(figsize=(1.8, 2), dpi=400)\n",
    "    plt.rcParams.update({'font.size': 8})\n",
    "    plt.rcParams['font.family'] = 'Arial'\n",
    "    plt.rcParams['pdf.fonttype'] = 42\n",
    "\n",
    "    # Axis styling\n",
    "    plt.gca().spines['top'].set_linewidth(0.5)\n",
    "    plt.gca().spines['bottom'].set_linewidth(0.5)\n",
    "    plt.gca().spines['left'].set_linewidth(0.5)\n",
    "    plt.gca().spines['right'].set_linewidth(0.5)\n",
    "\n",
    "    # Adjust plot margins\n",
    "    plt.subplots_adjust(left=0.3, right=0.98, top=0.95, bottom=0.23)\n",
    "\n",
    "    # Plotting data\n",
    "    x = np.arange(len(labels))\n",
    "    width = 0.3\n",
    "\n",
    "    # Plot yeast8 bars\n",
    "    bars1 = plt.bar(x - width / 2, yeast8_data, width=width, color='#e41a1c', edgecolor='black', linewidth=0.5, label='Yeast8')\n",
    "\n",
    "    # Stack yeast8U (non-lipids) bars on top of yeast8 bars\n",
    "    bars2 = plt.bar(x + width / 2, yeast8U_nonlipids_data, width=width, color='#377eb8', edgecolor='black', linewidth=0.5, label='Yeast-MetaTwin\\n(Non-lipids)')\n",
    "\n",
    "    # Stack yeast8U (lipids) bars on top of yeast8U (non-lipids) bars\n",
    "    bars3 = plt.bar(x + width / 2, yeast8U_lipids_data, width=width, bottom=yeast8U_nonlipids_data, color='#4daf4a', edgecolor='black', linewidth=0.5, label='Yeast-MetaTwin\\n(Lipids)')\n",
    "\n",
    "    # Axes and legend\n",
    "    # plt.xticks(x, labels, fontsize=6, rotation=60)\n",
    "    plt.xticks(x, labels, fontsize=7)\n",
    "\n",
    "    plt.yticks(fontsize=7)\n",
    "    plt.tick_params(axis='both', direction='in', width=0.5, which='both', length=2)\n",
    "    plt.ylim(0, 20000)\n",
    "    # plt.ylim(0, 60000)\n",
    "    plt.ylabel('Counts', fontsize=7)\n",
    "\n",
    "    # Add legend and specify coordinates\n",
    "    legend = plt.legend(frameon=False, fontsize=7, loc='upper left', bbox_to_anchor=(-0.04, 1.02), labelspacing=0.5, handletextpad=0.3)\n",
    "\n",
    "    # Save and show the plot\n",
    "    plt.savefig(compare_yeast8_yeast8U_basic_info_figure_path, dpi=400)\n",
    "    plt.show()"
   ]
  },
  {
   "cell_type": "code",
   "execution_count": 24,
   "metadata": {},
   "outputs": [
    {
     "data": {
      "text/html": [
       "<div>\n",
       "<style scoped>\n",
       "    .dataframe tbody tr th:only-of-type {\n",
       "        vertical-align: middle;\n",
       "    }\n",
       "\n",
       "    .dataframe tbody tr th {\n",
       "        vertical-align: top;\n",
       "    }\n",
       "\n",
       "    .dataframe thead th {\n",
       "        text-align: right;\n",
       "    }\n",
       "</style>\n",
       "<table border=\"1\" class=\"dataframe\">\n",
       "  <thead>\n",
       "    <tr style=\"text-align: right;\">\n",
       "      <th></th>\n",
       "      <th>Genes</th>\n",
       "      <th>Metabolites</th>\n",
       "      <th>Reactions</th>\n",
       "    </tr>\n",
       "  </thead>\n",
       "  <tbody>\n",
       "    <tr>\n",
       "      <th>Yeast8</th>\n",
       "      <td>1163</td>\n",
       "      <td>2806</td>\n",
       "      <td>4131</td>\n",
       "    </tr>\n",
       "    <tr>\n",
       "      <th>Yeast-MetaTwin-no-lipid</th>\n",
       "      <td>2057</td>\n",
       "      <td>3301</td>\n",
       "      <td>7512</td>\n",
       "    </tr>\n",
       "    <tr>\n",
       "      <th>Yeast-MetaTwin-Lipid</th>\n",
       "      <td>2057</td>\n",
       "      <td>16244</td>\n",
       "      <td>59914</td>\n",
       "    </tr>\n",
       "  </tbody>\n",
       "</table>\n",
       "</div>"
      ],
      "text/plain": [
       "                         Genes  Metabolites  Reactions\n",
       "Yeast8                    1163         2806       4131\n",
       "Yeast-MetaTwin-no-lipid   2057         3301       7512\n",
       "Yeast-MetaTwin-Lipid      2057        16244      59914"
      ]
     },
     "execution_count": 24,
     "metadata": {},
     "output_type": "execute_result"
    }
   ],
   "source": [
    "data = pd.read_csv(source_fig2a_path, index_col=[0])\n",
    "data"
   ]
  },
  {
   "cell_type": "code",
   "execution_count": 28,
   "metadata": {},
   "outputs": [
    {
     "name": "stdout",
     "output_type": "stream",
     "text": [
      "55783\n",
      "3381\n",
      "52402\n",
      "0.9310511733484661\n"
     ]
    }
   ],
   "source": [
    "print(59914-4131)#new reaction\n",
    "print(7512-4131)#new reaction nonlipids\n",
    "print(59914-7512)#new reaction lipids\n",
    "print((59914-4131)/59914)#new reaction"
   ]
  },
  {
   "cell_type": "code",
   "execution_count": 22,
   "metadata": {},
   "outputs": [],
   "source": [
    "import pandas as pd\n",
    "import numpy as np\n",
    "import matplotlib.pyplot as plt\n",
    "\n",
    "def draw_fig2a(source_fig2a_path, compare_yeast8_yeast8U_basic_info_figure_path):\n",
    "    # Read data from CSV file\n",
    "    data = pd.read_csv(source_fig2a_path, index_col=[0])\n",
    "    \n",
    "    # Define and reverse the labels and data\n",
    "    labels = ['Reactions', 'Metabolites', 'Genes']\n",
    "    yeast8_data = data.loc['Yeast8', ::-1].to_list()\n",
    "    yeast8U_nonlipids_data = data.loc['Yeast-MetaTwin-no-lipid', ::-1].to_list()\n",
    "    yeast8U_lipids_data = data.loc['Yeast-MetaTwin-Lipid', ::-1].to_list()\n",
    "    # yeast8U_lipids_data = [11000, 9000, 30]\n",
    "    yeast8U_lipids_data[0] = yeast8U_lipids_data[0]-yeast8U_nonlipids_data[0]\n",
    "    yeast8U_lipids_data[1] = yeast8U_lipids_data[1]-yeast8U_nonlipids_data[1]\n",
    "    yeast8U_lipids_data[2] = yeast8U_lipids_data[2]-yeast8U_nonlipids_data[2]\n",
    "\n",
    "\n",
    "    # Plot configuration\n",
    "    plt.figure(figsize=(2.5, 1.3), dpi=400)\n",
    "    plt.rcParams.update({'font.size': 7})\n",
    "    plt.rcParams['font.family'] = 'Arial'\n",
    "    plt.rcParams['pdf.fonttype'] = 42\n",
    "\n",
    "    # Axis styling\n",
    "    plt.gca().spines['top'].set_linewidth(0.5)\n",
    "    plt.gca().spines['bottom'].set_linewidth(0.5)\n",
    "    plt.gca().spines['left'].set_linewidth(0.5)\n",
    "    plt.gca().spines['right'].set_linewidth(0.5)\n",
    "\n",
    "    # Adjust plot margins\n",
    "    plt.subplots_adjust(left=0.3, right=0.95, top=0.98, bottom=0.15)\n",
    "\n",
    "    # Plotting data\n",
    "    y = np.arange(len(labels))\n",
    "    height = 0.2\n",
    "\n",
    "    # Plot yeast8 bars\n",
    "    bars1 = plt.barh(y + height / 2, yeast8_data, height=height, color='#e41a1c', edgecolor='black', linewidth=0.5, label='Yeast8')\n",
    "\n",
    "    # Stack yeast8U (non-lipids) bars on top of yeast8 bars\n",
    "    bars2 = plt.barh(y - height / 2, yeast8U_nonlipids_data, height=height, color='#377eb8', edgecolor='black', linewidth=0.5, label='Yeast-MetaTwin(Non-lipids)')\n",
    "\n",
    "    # Stack yeast8U (lipids) bars on top of yeast8U (non-lipids) bars\n",
    "    bars3 = plt.barh(y - height / 2, yeast8U_lipids_data, height=height, left=yeast8U_nonlipids_data, color='#4daf4a', edgecolor='black', linewidth=0.5, label='Yeast-MetaTwin(Lipids)')\n",
    "\n",
    "    # Axes and legend\n",
    "    plt.yticks(y, labels, fontsize=7)\n",
    "    plt.xticks(fontsize=7)\n",
    "    plt.tick_params(axis='x', direction='in', width=0.5, which='both', length=2)\n",
    "    plt.tick_params(axis='y', direction='out', width=0.5, which='both', length=1)\n",
    "    plt.xlim(0, 61000)\n",
    "    # plt.xscale('log')  \n",
    "    plt.xlabel('Counts', fontsize=7)\n",
    "    plt.ylim(-0.5, 2.5)\n",
    "\n",
    "    # Add legend and specify coordinates\n",
    "    legend = plt.legend(frameon=False, fontsize=7, loc='upper right', bbox_to_anchor=(1.05, 1.02), labelspacing=0.5, handletextpad=0.3)\n",
    "\n",
    "    # Save and show the plot\n",
    "    plt.savefig(compare_yeast8_yeast8U_basic_info_figure_path, dpi=400, bbox_inches='tight')\n",
    "    plt.show()"
   ]
  },
  {
   "cell_type": "code",
   "execution_count": 24,
   "metadata": {},
   "outputs": [
    {
     "data": {
      "image/png": "[encoded data removed]",
      "text/plain": [
       "<Figure size 1000x520 with 1 Axes>"
      ]
     },
     "metadata": {},
     "output_type": "display_data"
    }
   ],
   "source": [
    "draw_fig2a(source_fig2a_path,compare_yeast8_yeast8U_basic_info_figure_path)"
   ]
  },
  {
   "cell_type": "markdown",
   "metadata": {},
   "source": [
    "# sankey"
   ]
  },
  {
   "cell_type": "code",
   "execution_count": 2,
   "metadata": {},
   "outputs": [
    {
     "name": "stdout",
     "output_type": "stream",
     "text": [
      "266\n",
      "13336\n",
      "13602\n"
     ]
    },
    {
     "data": {
      "text/plain": [
       "14762"
      ]
     },
     "execution_count": 2,
     "metadata": {},
     "output_type": "execute_result"
    }
   ],
   "source": [
    "# 215(nonlipids) + 51(uptake) + 11986(lipids) + 1350(lipids)\n",
    "print(215+51)\n",
    "print(11986 + 1350)\n",
    "print(215  + 51 + 11986 + 1350)\n",
    "215 +  51 + 11986 + 1350 + 1160"
   ]
  },
  {
   "cell_type": "code",
   "execution_count": 33,
   "metadata": {},
   "outputs": [
    {
     "name": "stdout",
     "output_type": "stream",
     "text": [
      "16042\n",
      "=====\n",
      "0.07231018576237377\n",
      "14882\n",
      "=====\n",
      "13602\n",
      "1280\n",
      "=====\n",
      "0.9202094501932427\n"
     ]
    }
   ],
   "source": [
    "print(16042) # 16042 is all YMDB\n",
    "print('=====')\n",
    "print(1160/16042)  # YMDB in Yeast8\n",
    "print(14310 + 572)  # YMDB not in Yeast8\n",
    "print('=====')\n",
    "print(215  + 51 + 11986 + 1350) # Yeast-MetaTwin success\n",
    "print((572-266) + (14310 - 13336)) # Yeast-MetaTwin fail\n",
    "print('=====')\n",
    "print((13602+1160)/16042) # Yeast-MetaTwin in YMDB"
   ]
  },
  {
   "cell_type": "code",
   "execution_count": 4,
   "metadata": {},
   "outputs": [
    {
     "data": {
      "text/plain": [
       "14882"
      ]
     },
     "execution_count": 4,
     "metadata": {},
     "output_type": "execute_result"
    }
   ],
   "source": [
    "14310 + 572"
   ]
  },
  {
   "cell_type": "code",
   "execution_count": 25,
   "metadata": {},
   "outputs": [
    {
     "data": {
      "application/vnd.plotly.v1+json": {
       "config": {
        "plotlyServerURL": "https://plot.ly"
       },
       "data": [
        {
         "link": {
          "source": [
           0,
           1,
           1,
           2,
           2,
           3,
           3
          ],
          "target": [
           4,
           2,
           3,
           4,
           5,
           4,
           5
          ],
          "value": [
           1160,
           14310,
           572,
           13336,
           974,
           266,
           306
          ]
         },
         "node": {
          "color": [
           "#e41a1c",
           "#9ecae1",
           "#6baed6",
           "#4292c6",
           "#2171b5",
           "#f781bf"
          ],
          "label": [
           "",
           "",
           "",
           "",
           "",
           ""
          ],
          "line": {
           "color": "black",
           "width": 0
          },
          "pad": 50,
          "thickness": 13,
          "x": [
           0.06,
           0.06,
           0.38,
           0.38,
           0.7,
           0.7
          ],
          "y": [
           0.84,
           0.4,
           0.384,
           0.77,
           0.53,
           0.08
          ]
         },
         "type": "sankey"
        }
       ],
       "layout": {
        "annotations": [
         {
          "font": {
           "color": "black",
           "size": 11
          },
          "showarrow": false,
          "text": "In Yeast8",
          "x": 0.08,
          "xanchor": "left",
          "y": 0.17
         },
         {
          "font": {
           "color": "black",
           "size": 11
          },
          "showarrow": false,
          "text": "1160",
          "x": 0.08,
          "xanchor": "left",
          "y": 0.1
         },
         {
          "font": {
           "color": "black",
           "size": 11
          },
          "showarrow": false,
          "text": "Not in Yeast8",
          "x": 0.08,
          "xanchor": "left",
          "y": 0.57
         },
         {
          "font": {
           "color": "black",
           "size": 11
          },
          "showarrow": false,
          "text": "14882",
          "x": 0.08,
          "xanchor": "left",
          "y": 0.5
         },
         {
          "font": {
           "color": "black",
           "size": 11
          },
          "showarrow": false,
          "text": "Lipids",
          "x": 0.4,
          "xanchor": "left",
          "y": 0.62
         },
         {
          "font": {
           "color": "black",
           "size": 11
          },
          "showarrow": false,
          "text": "14310",
          "x": 0.4,
          "xanchor": "left",
          "y": 0.55
         },
         {
          "font": {
           "color": "black",
           "size": 11
          },
          "showarrow": false,
          "text": "Non-lipids",
          "x": 0.4,
          "xanchor": "left",
          "y": 0.23
         },
         {
          "font": {
           "color": "black",
           "size": 11
          },
          "showarrow": false,
          "text": "572",
          "x": 0.4,
          "xanchor": "left",
          "y": 0.16
         },
         {
          "font": {
           "color": "black",
           "size": 11
          },
          "showarrow": false,
          "text": "In Yeast-MetaTwin",
          "x": 0.72,
          "xanchor": "left",
          "y": 0.47
         },
         {
          "font": {
           "color": "black",
           "size": 11
          },
          "showarrow": false,
          "text": "14762",
          "x": 0.72,
          "xanchor": "left",
          "y": 0.4
         },
         {
          "font": {
           "color": "black",
           "size": 11
          },
          "showarrow": false,
          "text": "Others",
          "x": 0.72,
          "xanchor": "left",
          "y": 0.96
         },
         {
          "font": {
           "color": "black",
           "size": 11
          },
          "showarrow": false,
          "text": "1280",
          "x": 0.72,
          "xanchor": "left",
          "y": 0.89
         },
         {
          "font": {
           "color": "black",
           "size": 11
          },
          "showarrow": false,
          "text": "Yeast metabolome database",
          "textangle": -90,
          "x": -0.02,
          "xanchor": "left",
          "y": 0.17
         }
        ],
        "font": {
         "family": "Arial",
         "size": 14
        },
        "height": 210,
        "margin": {
         "b": 0,
         "l": 5,
         "r": 60,
         "t": 10
        },
        "template": {
         "data": {
          "bar": [
           {
            "error_x": {
             "color": "#2a3f5f"
            },
            "error_y": {
             "color": "#2a3f5f"
            },
            "marker": {
             "line": {
              "color": "#E5ECF6",
              "width": 0.5
             },
             "pattern": {
              "fillmode": "overlay",
              "size": 10,
              "solidity": 0.2
             }
            },
            "type": "bar"
           }
          ],
          "barpolar": [
           {
            "marker": {
             "line": {
              "color": "#E5ECF6",
              "width": 0.5
             },
             "pattern": {
              "fillmode": "overlay",
              "size": 10,
              "solidity": 0.2
             }
            },
            "type": "barpolar"
           }
          ],
          "carpet": [
           {
            "aaxis": {
             "endlinecolor": "#2a3f5f",
             "gridcolor": "white",
             "linecolor": "white",
             "minorgridcolor": "white",
             "startlinecolor": "#2a3f5f"
            },
            "baxis": {
             "endlinecolor": "#2a3f5f",
             "gridcolor": "white",
             "linecolor": "white",
             "minorgridcolor": "white",
             "startlinecolor": "#2a3f5f"
            },
            "type": "carpet"
           }
          ],
          "choropleth": [
           {
            "colorbar": {
             "outlinewidth": 0,
             "ticks": ""
            },
            "type": "choropleth"
           }
          ],
          "contour": [
           {
            "colorbar": {
             "outlinewidth": 0,
             "ticks": ""
            },
            "colorscale": [
             [
              0,
              "#0d0887"
             ],
             [
              0.1111111111111111,
              "#46039f"
             ],
             [
              0.2222222222222222,
              "#7201a8"
             ],
             [
              0.3333333333333333,
              "#9c179e"
             ],
             [
              0.4444444444444444,
              "#bd3786"
             ],
             [
              0.5555555555555556,
              "#d8576b"
             ],
             [
              0.6666666666666666,
              "#ed7953"
             ],
             [
              0.7777777777777778,
              "#fb9f3a"
             ],
             [
              0.8888888888888888,
              "#fdca26"
             ],
             [
              1,
              "#f0f921"
             ]
            ],
            "type": "contour"
           }
          ],
          "contourcarpet": [
           {
            "colorbar": {
             "outlinewidth": 0,
             "ticks": ""
            },
            "type": "contourcarpet"
           }
          ],
          "heatmap": [
           {
            "colorbar": {
             "outlinewidth": 0,
             "ticks": ""
            },
            "colorscale": [
             [
              0,
              "#0d0887"
             ],
             [
              0.1111111111111111,
              "#46039f"
             ],
             [
              0.2222222222222222,
              "#7201a8"
             ],
             [
              0.3333333333333333,
              "#9c179e"
             ],
             [
              0.4444444444444444,
              "#bd3786"
             ],
             [
              0.5555555555555556,
              "#d8576b"
             ],
             [
              0.6666666666666666,
              "#ed7953"
             ],
             [
              0.7777777777777778,
              "#fb9f3a"
             ],
             [
              0.8888888888888888,
              "#fdca26"
             ],
             [
              1,
              "#f0f921"
             ]
            ],
            "type": "heatmap"
           }
          ],
          "heatmapgl": [
           {
            "colorbar": {
             "outlinewidth": 0,
             "ticks": ""
            },
            "colorscale": [
             [
              0,
              "#0d0887"
             ],
             [
              0.1111111111111111,
              "#46039f"
             ],
             [
              0.2222222222222222,
              "#7201a8"
             ],
             [
              0.3333333333333333,
              "#9c179e"
             ],
             [
              0.4444444444444444,
              "#bd3786"
             ],
             [
              0.5555555555555556,
              "#d8576b"
             ],
             [
              0.6666666666666666,
              "#ed7953"
             ],
             [
              0.7777777777777778,
              "#fb9f3a"
             ],
             [
              0.8888888888888888,
              "#fdca26"
             ],
             [
              1,
              "#f0f921"
             ]
            ],
            "type": "heatmapgl"
           }
          ],
          "histogram": [
           {
            "marker": {
             "pattern": {
              "fillmode": "overlay",
              "size": 10,
              "solidity": 0.2
             }
            },
            "type": "histogram"
           }
          ],
          "histogram2d": [
           {
            "colorbar": {
             "outlinewidth": 0,
             "ticks": ""
            },
            "colorscale": [
             [
              0,
              "#0d0887"
             ],
             [
              0.1111111111111111,
              "#46039f"
             ],
             [
              0.2222222222222222,
              "#7201a8"
             ],
             [
              0.3333333333333333,
              "#9c179e"
             ],
             [
              0.4444444444444444,
              "#bd3786"
             ],
             [
              0.5555555555555556,
              "#d8576b"
             ],
             [
              0.6666666666666666,
              "#ed7953"
             ],
             [
              0.7777777777777778,
              "#fb9f3a"
             ],
             [
              0.8888888888888888,
              "#fdca26"
             ],
             [
              1,
              "#f0f921"
             ]
            ],
            "type": "histogram2d"
           }
          ],
          "histogram2dcontour": [
           {
            "colorbar": {
             "outlinewidth": 0,
             "ticks": ""
            },
            "colorscale": [
             [
              0,
              "#0d0887"
             ],
             [
              0.1111111111111111,
              "#46039f"
             ],
             [
              0.2222222222222222,
              "#7201a8"
             ],
             [
              0.3333333333333333,
              "#9c179e"
             ],
             [
              0.4444444444444444,
              "#bd3786"
             ],
             [
              0.5555555555555556,
              "#d8576b"
             ],
             [
              0.6666666666666666,
              "#ed7953"
             ],
             [
              0.7777777777777778,
              "#fb9f3a"
             ],
             [
              0.8888888888888888,
              "#fdca26"
             ],
             [
              1,
              "#f0f921"
             ]
            ],
            "type": "histogram2dcontour"
           }
          ],
          "mesh3d": [
           {
            "colorbar": {
             "outlinewidth": 0,
             "ticks": ""
            },
            "type": "mesh3d"
           }
          ],
          "parcoords": [
           {
            "line": {
             "colorbar": {
              "outlinewidth": 0,
              "ticks": ""
             }
            },
            "type": "parcoords"
           }
          ],
          "pie": [
           {
            "automargin": true,
            "type": "pie"
           }
          ],
          "scatter": [
           {
            "fillpattern": {
             "fillmode": "overlay",
             "size": 10,
             "solidity": 0.2
            },
            "type": "scatter"
           }
          ],
          "scatter3d": [
           {
            "line": {
             "colorbar": {
              "outlinewidth": 0,
              "ticks": ""
             }
            },
            "marker": {
             "colorbar": {
              "outlinewidth": 0,
              "ticks": ""
             }
            },
            "type": "scatter3d"
           }
          ],
          "scattercarpet": [
           {
            "marker": {
             "colorbar": {
              "outlinewidth": 0,
              "ticks": ""
             }
            },
            "type": "scattercarpet"
           }
          ],
          "scattergeo": [
           {
            "marker": {
             "colorbar": {
              "outlinewidth": 0,
              "ticks": ""
             }
            },
            "type": "scattergeo"
           }
          ],
          "scattergl": [
           {
            "marker": {
             "colorbar": {
              "outlinewidth": 0,
              "ticks": ""
             }
            },
            "type": "scattergl"
           }
          ],
          "scattermapbox": [
           {
            "marker": {
             "colorbar": {
              "outlinewidth": 0,
              "ticks": ""
             }
            },
            "type": "scattermapbox"
           }
          ],
          "scatterpolar": [
           {
            "marker": {
             "colorbar": {
              "outlinewidth": 0,
              "ticks": ""
             }
            },
            "type": "scatterpolar"
           }
          ],
          "scatterpolargl": [
           {
            "marker": {
             "colorbar": {
              "outlinewidth": 0,
              "ticks": ""
             }
            },
            "type": "scatterpolargl"
           }
          ],
          "scatterternary": [
           {
            "marker": {
             "colorbar": {
              "outlinewidth": 0,
              "ticks": ""
             }
            },
            "type": "scatterternary"
           }
          ],
          "surface": [
           {
            "colorbar": {
             "outlinewidth": 0,
             "ticks": ""
            },
            "colorscale": [
             [
              0,
              "#0d0887"
             ],
             [
              0.1111111111111111,
              "#46039f"
             ],
             [
              0.2222222222222222,
              "#7201a8"
             ],
             [
              0.3333333333333333,
              "#9c179e"
             ],
             [
              0.4444444444444444,
              "#bd3786"
             ],
             [
              0.5555555555555556,
              "#d8576b"
             ],
             [
              0.6666666666666666,
              "#ed7953"
             ],
             [
              0.7777777777777778,
              "#fb9f3a"
             ],
             [
              0.8888888888888888,
              "#fdca26"
             ],
             [
              1,
              "#f0f921"
             ]
            ],
            "type": "surface"
           }
          ],
          "table": [
           {
            "cells": {
             "fill": {
              "color": "#EBF0F8"
             },
             "line": {
              "color": "white"
             }
            },
            "header": {
             "fill": {
              "color": "#C8D4E3"
             },
             "line": {
              "color": "white"
             }
            },
            "type": "table"
           }
          ]
         },
         "layout": {
          "annotationdefaults": {
           "arrowcolor": "#2a3f5f",
           "arrowhead": 0,
           "arrowwidth": 1
          },
          "autotypenumbers": "strict",
          "coloraxis": {
           "colorbar": {
            "outlinewidth": 0,
            "ticks": ""
           }
          },
          "colorscale": {
           "diverging": [
            [
             0,
             "#8e0152"
            ],
            [
             0.1,
             "#c51b7d"
            ],
            [
             0.2,
             "#de77ae"
            ],
            [
             0.3,
             "#f1b6da"
            ],
            [
             0.4,
             "#fde0ef"
            ],
            [
             0.5,
             "#f7f7f7"
            ],
            [
             0.6,
             "#e6f5d0"
            ],
            [
             0.7,
             "#b8e186"
            ],
            [
             0.8,
             "#7fbc41"
            ],
            [
             0.9,
             "#4d9221"
            ],
            [
             1,
             "#276419"
            ]
           ],
           "sequential": [
            [
             0,
             "#0d0887"
            ],
            [
             0.1111111111111111,
             "#46039f"
            ],
            [
             0.2222222222222222,
             "#7201a8"
            ],
            [
             0.3333333333333333,
             "#9c179e"
            ],
            [
             0.4444444444444444,
             "#bd3786"
            ],
            [
             0.5555555555555556,
             "#d8576b"
            ],
            [
             0.6666666666666666,
             "#ed7953"
            ],
            [
             0.7777777777777778,
             "#fb9f3a"
            ],
            [
             0.8888888888888888,
             "#fdca26"
            ],
            [
             1,
             "#f0f921"
            ]
           ],
           "sequentialminus": [
            [
             0,
             "#0d0887"
            ],
            [
             0.1111111111111111,
             "#46039f"
            ],
            [
             0.2222222222222222,
             "#7201a8"
            ],
            [
             0.3333333333333333,
             "#9c179e"
            ],
            [
             0.4444444444444444,
             "#bd3786"
            ],
            [
             0.5555555555555556,
             "#d8576b"
            ],
            [
             0.6666666666666666,
             "#ed7953"
            ],
            [
             0.7777777777777778,
             "#fb9f3a"
            ],
            [
             0.8888888888888888,
             "#fdca26"
            ],
            [
             1,
             "#f0f921"
            ]
           ]
          },
          "colorway": [
           "#636efa",
           "#EF553B",
           "#00cc96",
           "#ab63fa",
           "#FFA15A",
           "#19d3f3",
           "#FF6692",
           "#B6E880",
           "#FF97FF",
           "#FECB52"
          ],
          "font": {
           "color": "#2a3f5f"
          },
          "geo": {
           "bgcolor": "white",
           "lakecolor": "white",
           "landcolor": "#E5ECF6",
           "showlakes": true,
           "showland": true,
           "subunitcolor": "white"
          },
          "hoverlabel": {
           "align": "left"
          },
          "hovermode": "closest",
          "mapbox": {
           "style": "light"
          },
          "paper_bgcolor": "white",
          "plot_bgcolor": "#E5ECF6",
          "polar": {
           "angularaxis": {
            "gridcolor": "white",
            "linecolor": "white",
            "ticks": ""
           },
           "bgcolor": "#E5ECF6",
           "radialaxis": {
            "gridcolor": "white",
            "linecolor": "white",
            "ticks": ""
           }
          },
          "scene": {
           "xaxis": {
            "backgroundcolor": "#E5ECF6",
            "gridcolor": "white",
            "gridwidth": 2,
            "linecolor": "white",
            "showbackground": true,
            "ticks": "",
            "zerolinecolor": "white"
           },
           "yaxis": {
            "backgroundcolor": "#E5ECF6",
            "gridcolor": "white",
            "gridwidth": 2,
            "linecolor": "white",
            "showbackground": true,
            "ticks": "",
            "zerolinecolor": "white"
           },
           "zaxis": {
            "backgroundcolor": "#E5ECF6",
            "gridcolor": "white",
            "gridwidth": 2,
            "linecolor": "white",
            "showbackground": true,
            "ticks": "",
            "zerolinecolor": "white"
           }
          },
          "shapedefaults": {
           "line": {
            "color": "#2a3f5f"
           }
          },
          "ternary": {
           "aaxis": {
            "gridcolor": "white",
            "linecolor": "white",
            "ticks": ""
           },
           "baxis": {
            "gridcolor": "white",
            "linecolor": "white",
            "ticks": ""
           },
           "bgcolor": "#E5ECF6",
           "caxis": {
            "gridcolor": "white",
            "linecolor": "white",
            "ticks": ""
           }
          },
          "title": {
           "x": 0.05
          },
          "xaxis": {
           "automargin": true,
           "gridcolor": "white",
           "linecolor": "white",
           "ticks": "",
           "title": {
            "standoff": 15
           },
           "zerolinecolor": "white",
           "zerolinewidth": 2
          },
          "yaxis": {
           "automargin": true,
           "gridcolor": "white",
           "linecolor": "white",
           "ticks": "",
           "title": {
            "standoff": 15
           },
           "zerolinecolor": "white",
           "zerolinewidth": 2
          }
         }
        },
        "width": 360
       }
      },
      "text/html": [
       "<div>                            <div id=\"fc38ad8c-90b1-4f87-80e9-fd5f2c40a20e\" class=\"plotly-graph-div\" style=\"height:210.0px; width:360.0px;\"></div>            <script type=\"text/javascript\">                require([\"plotly\"], function(Plotly) {                    window.PLOTLYENV=window.PLOTLYENV || {};                                    if (document.getElementById(\"fc38ad8c-90b1-4f87-80e9-fd5f2c40a20e\")) {                    Plotly.newPlot(                        \"fc38ad8c-90b1-4f87-80e9-fd5f2c40a20e\",                        [{\"link\":{\"source\":[0,1,1,2,2,3,3],\"target\":[4,2,3,4,5,4,5],\"value\":[1160,14310,572,13336,974,266,306]},\"node\":{\"color\":[\"#e41a1c\",\"#9ecae1\",\"#6baed6\",\"#4292c6\",\"#2171b5\",\"#f781bf\"],\"label\":[\"\",\"\",\"\",\"\",\"\",\"\"],\"line\":{\"color\":\"black\",\"width\":0},\"pad\":50,\"thickness\":13,\"x\":[0.06,0.06,0.38,0.38,0.7,0.7],\"y\":[0.84,0.4,0.384,0.77,0.53,0.08]},\"type\":\"sankey\"}],                        {\"template\":{\"data\":{\"histogram2dcontour\":[{\"type\":\"histogram2dcontour\",\"colorbar\":{\"outlinewidth\":0,\"ticks\":\"\"},\"colorscale\":[[0.0,\"#0d0887\"],[0.1111111111111111,\"#46039f\"],[0.2222222222222222,\"#7201a8\"],[0.3333333333333333,\"#9c179e\"],[0.4444444444444444,\"#bd3786\"],[0.5555555555555556,\"#d8576b\"],[0.6666666666666666,\"#ed7953\"],[0.7777777777777778,\"#fb9f3a\"],[0.8888888888888888,\"#fdca26\"],[1.0,\"#f0f921\"]]}],\"choropleth\":[{\"type\":\"choropleth\",\"colorbar\":{\"outlinewidth\":0,\"ticks\":\"\"}}],\"histogram2d\":[{\"type\":\"histogram2d\",\"colorbar\":{\"outlinewidth\":0,\"ticks\":\"\"},\"colorscale\":[[0.0,\"#0d0887\"],[0.1111111111111111,\"#46039f\"],[0.2222222222222222,\"#7201a8\"],[0.3333333333333333,\"#9c179e\"],[0.4444444444444444,\"#bd3786\"],[0.5555555555555556,\"#d8576b\"],[0.6666666666666666,\"#ed7953\"],[0.7777777777777778,\"#fb9f3a\"],[0.8888888888888888,\"#fdca26\"],[1.0,\"#f0f921\"]]}],\"heatmap\":[{\"type\":\"heatmap\",\"colorbar\":{\"outlinewidth\":0,\"ticks\":\"\"},\"colorscale\":[[0.0,\"#0d0887\"],[0.1111111111111111,\"#46039f\"],[0.2222222222222222,\"#7201a8\"],[0.3333333333333333,\"#9c179e\"],[0.4444444444444444,\"#bd3786\"],[0.5555555555555556,\"#d8576b\"],[0.6666666666666666,\"#ed7953\"],[0.7777777777777778,\"#fb9f3a\"],[0.8888888888888888,\"#fdca26\"],[1.0,\"#f0f921\"]]}],\"heatmapgl\":[{\"type\":\"heatmapgl\",\"colorbar\":{\"outlinewidth\":0,\"ticks\":\"\"},\"colorscale\":[[0.0,\"#0d0887\"],[0.1111111111111111,\"#46039f\"],[0.2222222222222222,\"#7201a8\"],[0.3333333333333333,\"#9c179e\"],[0.4444444444444444,\"#bd3786\"],[0.5555555555555556,\"#d8576b\"],[0.6666666666666666,\"#ed7953\"],[0.7777777777777778,\"#fb9f3a\"],[0.8888888888888888,\"#fdca26\"],[1.0,\"#f0f921\"]]}],\"contourcarpet\":[{\"type\":\"contourcarpet\",\"colorbar\":{\"outlinewidth\":0,\"ticks\":\"\"}}],\"contour\":[{\"type\":\"contour\",\"colorbar\":{\"outlinewidth\":0,\"ticks\":\"\"},\"colorscale\":[[0.0,\"#0d0887\"],[0.1111111111111111,\"#46039f\"],[0.2222222222222222,\"#7201a8\"],[0.3333333333333333,\"#9c179e\"],[0.4444444444444444,\"#bd3786\"],[0.5555555555555556,\"#d8576b\"],[0.6666666666666666,\"#ed7953\"],[0.7777777777777778,\"#fb9f3a\"],[0.8888888888888888,\"#fdca26\"],[1.0,\"#f0f921\"]]}],\"surface\":[{\"type\":\"surface\",\"colorbar\":{\"outlinewidth\":0,\"ticks\":\"\"},\"colorscale\":[[0.0,\"#0d0887\"],[0.1111111111111111,\"#46039f\"],[0.2222222222222222,\"#7201a8\"],[0.3333333333333333,\"#9c179e\"],[0.4444444444444444,\"#bd3786\"],[0.5555555555555556,\"#d8576b\"],[0.6666666666666666,\"#ed7953\"],[0.7777777777777778,\"#fb9f3a\"],[0.8888888888888888,\"#fdca26\"],[1.0,\"#f0f921\"]]}],\"mesh3d\":[{\"type\":\"mesh3d\",\"colorbar\":{\"outlinewidth\":0,\"ticks\":\"\"}}],\"scatter\":[{\"fillpattern\":{\"fillmode\":\"overlay\",\"size\":10,\"solidity\":0.2},\"type\":\"scatter\"}],\"parcoords\":[{\"type\":\"parcoords\",\"line\":{\"colorbar\":{\"outlinewidth\":0,\"ticks\":\"\"}}}],\"scatterpolargl\":[{\"type\":\"scatterpolargl\",\"marker\":{\"colorbar\":{\"outlinewidth\":0,\"ticks\":\"\"}}}],\"bar\":[{\"error_x\":{\"color\":\"#2a3f5f\"},\"error_y\":{\"color\":\"#2a3f5f\"},\"marker\":{\"line\":{\"color\":\"#E5ECF6\",\"width\":0.5},\"pattern\":{\"fillmode\":\"overlay\",\"size\":10,\"solidity\":0.2}},\"type\":\"bar\"}],\"scattergeo\":[{\"type\":\"scattergeo\",\"marker\":{\"colorbar\":{\"outlinewidth\":0,\"ticks\":\"\"}}}],\"scatterpolar\":[{\"type\":\"scatterpolar\",\"marker\":{\"colorbar\":{\"outlinewidth\":0,\"ticks\":\"\"}}}],\"histogram\":[{\"marker\":{\"pattern\":{\"fillmode\":\"overlay\",\"size\":10,\"solidity\":0.2}},\"type\":\"histogram\"}],\"scattergl\":[{\"type\":\"scattergl\",\"marker\":{\"colorbar\":{\"outlinewidth\":0,\"ticks\":\"\"}}}],\"scatter3d\":[{\"type\":\"scatter3d\",\"line\":{\"colorbar\":{\"outlinewidth\":0,\"ticks\":\"\"}},\"marker\":{\"colorbar\":{\"outlinewidth\":0,\"ticks\":\"\"}}}],\"scattermapbox\":[{\"type\":\"scattermapbox\",\"marker\":{\"colorbar\":{\"outlinewidth\":0,\"ticks\":\"\"}}}],\"scatterternary\":[{\"type\":\"scatterternary\",\"marker\":{\"colorbar\":{\"outlinewidth\":0,\"ticks\":\"\"}}}],\"scattercarpet\":[{\"type\":\"scattercarpet\",\"marker\":{\"colorbar\":{\"outlinewidth\":0,\"ticks\":\"\"}}}],\"carpet\":[{\"aaxis\":{\"endlinecolor\":\"#2a3f5f\",\"gridcolor\":\"white\",\"linecolor\":\"white\",\"minorgridcolor\":\"white\",\"startlinecolor\":\"#2a3f5f\"},\"baxis\":{\"endlinecolor\":\"#2a3f5f\",\"gridcolor\":\"white\",\"linecolor\":\"white\",\"minorgridcolor\":\"white\",\"startlinecolor\":\"#2a3f5f\"},\"type\":\"carpet\"}],\"table\":[{\"cells\":{\"fill\":{\"color\":\"#EBF0F8\"},\"line\":{\"color\":\"white\"}},\"header\":{\"fill\":{\"color\":\"#C8D4E3\"},\"line\":{\"color\":\"white\"}},\"type\":\"table\"}],\"barpolar\":[{\"marker\":{\"line\":{\"color\":\"#E5ECF6\",\"width\":0.5},\"pattern\":{\"fillmode\":\"overlay\",\"size\":10,\"solidity\":0.2}},\"type\":\"barpolar\"}],\"pie\":[{\"automargin\":true,\"type\":\"pie\"}]},\"layout\":{\"autotypenumbers\":\"strict\",\"colorway\":[\"#636efa\",\"#EF553B\",\"#00cc96\",\"#ab63fa\",\"#FFA15A\",\"#19d3f3\",\"#FF6692\",\"#B6E880\",\"#FF97FF\",\"#FECB52\"],\"font\":{\"color\":\"#2a3f5f\"},\"hovermode\":\"closest\",\"hoverlabel\":{\"align\":\"left\"},\"paper_bgcolor\":\"white\",\"plot_bgcolor\":\"#E5ECF6\",\"polar\":{\"bgcolor\":\"#E5ECF6\",\"angularaxis\":{\"gridcolor\":\"white\",\"linecolor\":\"white\",\"ticks\":\"\"},\"radialaxis\":{\"gridcolor\":\"white\",\"linecolor\":\"white\",\"ticks\":\"\"}},\"ternary\":{\"bgcolor\":\"#E5ECF6\",\"aaxis\":{\"gridcolor\":\"white\",\"linecolor\":\"white\",\"ticks\":\"\"},\"baxis\":{\"gridcolor\":\"white\",\"linecolor\":\"white\",\"ticks\":\"\"},\"caxis\":{\"gridcolor\":\"white\",\"linecolor\":\"white\",\"ticks\":\"\"}},\"coloraxis\":{\"colorbar\":{\"outlinewidth\":0,\"ticks\":\"\"}},\"colorscale\":{\"sequential\":[[0.0,\"#0d0887\"],[0.1111111111111111,\"#46039f\"],[0.2222222222222222,\"#7201a8\"],[0.3333333333333333,\"#9c179e\"],[0.4444444444444444,\"#bd3786\"],[0.5555555555555556,\"#d8576b\"],[0.6666666666666666,\"#ed7953\"],[0.7777777777777778,\"#fb9f3a\"],[0.8888888888888888,\"#fdca26\"],[1.0,\"#f0f921\"]],\"sequentialminus\":[[0.0,\"#0d0887\"],[0.1111111111111111,\"#46039f\"],[0.2222222222222222,\"#7201a8\"],[0.3333333333333333,\"#9c179e\"],[0.4444444444444444,\"#bd3786\"],[0.5555555555555556,\"#d8576b\"],[0.6666666666666666,\"#ed7953\"],[0.7777777777777778,\"#fb9f3a\"],[0.8888888888888888,\"#fdca26\"],[1.0,\"#f0f921\"]],\"diverging\":[[0,\"#8e0152\"],[0.1,\"#c51b7d\"],[0.2,\"#de77ae\"],[0.3,\"#f1b6da\"],[0.4,\"#fde0ef\"],[0.5,\"#f7f7f7\"],[0.6,\"#e6f5d0\"],[0.7,\"#b8e186\"],[0.8,\"#7fbc41\"],[0.9,\"#4d9221\"],[1,\"#276419\"]]},\"xaxis\":{\"gridcolor\":\"white\",\"linecolor\":\"white\",\"ticks\":\"\",\"title\":{\"standoff\":15},\"zerolinecolor\":\"white\",\"automargin\":true,\"zerolinewidth\":2},\"yaxis\":{\"gridcolor\":\"white\",\"linecolor\":\"white\",\"ticks\":\"\",\"title\":{\"standoff\":15},\"zerolinecolor\":\"white\",\"automargin\":true,\"zerolinewidth\":2},\"scene\":{\"xaxis\":{\"backgroundcolor\":\"#E5ECF6\",\"gridcolor\":\"white\",\"linecolor\":\"white\",\"showbackground\":true,\"ticks\":\"\",\"zerolinecolor\":\"white\",\"gridwidth\":2},\"yaxis\":{\"backgroundcolor\":\"#E5ECF6\",\"gridcolor\":\"white\",\"linecolor\":\"white\",\"showbackground\":true,\"ticks\":\"\",\"zerolinecolor\":\"white\",\"gridwidth\":2},\"zaxis\":{\"backgroundcolor\":\"#E5ECF6\",\"gridcolor\":\"white\",\"linecolor\":\"white\",\"showbackground\":true,\"ticks\":\"\",\"zerolinecolor\":\"white\",\"gridwidth\":2}},\"shapedefaults\":{\"line\":{\"color\":\"#2a3f5f\"}},\"annotationdefaults\":{\"arrowcolor\":\"#2a3f5f\",\"arrowhead\":0,\"arrowwidth\":1},\"geo\":{\"bgcolor\":\"white\",\"landcolor\":\"#E5ECF6\",\"subunitcolor\":\"white\",\"showland\":true,\"showlakes\":true,\"lakecolor\":\"white\"},\"title\":{\"x\":0.05},\"mapbox\":{\"style\":\"light\"}}},\"font\":{\"size\":14,\"family\":\"Arial\"},\"margin\":{\"l\":5,\"r\":60,\"t\":10,\"b\":0},\"width\":360.0,\"height\":210.0,\"annotations\":[{\"font\":{\"color\":\"black\",\"size\":11},\"showarrow\":false,\"text\":\"In Yeast8\",\"x\":0.08,\"xanchor\":\"left\",\"y\":0.17},{\"font\":{\"color\":\"black\",\"size\":11},\"showarrow\":false,\"text\":\"1160\",\"x\":0.08,\"xanchor\":\"left\",\"y\":0.1},{\"font\":{\"color\":\"black\",\"size\":11},\"showarrow\":false,\"text\":\"Not in Yeast8\",\"x\":0.08,\"xanchor\":\"left\",\"y\":0.57},{\"font\":{\"color\":\"black\",\"size\":11},\"showarrow\":false,\"text\":\"14882\",\"x\":0.08,\"xanchor\":\"left\",\"y\":0.5},{\"font\":{\"color\":\"black\",\"size\":11},\"showarrow\":false,\"text\":\"Lipids\",\"x\":0.4,\"xanchor\":\"left\",\"y\":0.62},{\"font\":{\"color\":\"black\",\"size\":11},\"showarrow\":false,\"text\":\"14310\",\"x\":0.4,\"xanchor\":\"left\",\"y\":0.55},{\"font\":{\"color\":\"black\",\"size\":11},\"showarrow\":false,\"text\":\"Non-lipids\",\"x\":0.4,\"xanchor\":\"left\",\"y\":0.23},{\"font\":{\"color\":\"black\",\"size\":11},\"showarrow\":false,\"text\":\"572\",\"x\":0.4,\"xanchor\":\"left\",\"y\":0.16},{\"font\":{\"color\":\"black\",\"size\":11},\"showarrow\":false,\"text\":\"In Yeast-MetaTwin\",\"x\":0.72,\"xanchor\":\"left\",\"y\":0.47},{\"font\":{\"color\":\"black\",\"size\":11},\"showarrow\":false,\"text\":\"14762\",\"x\":0.72,\"xanchor\":\"left\",\"y\":0.4},{\"font\":{\"color\":\"black\",\"size\":11},\"showarrow\":false,\"text\":\"Others\",\"x\":0.72,\"xanchor\":\"left\",\"y\":0.96},{\"font\":{\"color\":\"black\",\"size\":11},\"showarrow\":false,\"text\":\"1280\",\"x\":0.72,\"xanchor\":\"left\",\"y\":0.89},{\"font\":{\"color\":\"black\",\"size\":11},\"showarrow\":false,\"text\":\"Yeast metabolome database\",\"textangle\":-90,\"x\":-0.02,\"xanchor\":\"left\",\"y\":0.17}]},                        {\"responsive\": true}                    ).then(function(){\n",
       "                            \n",
       "var gd = document.getElementById('fc38ad8c-90b1-4f87-80e9-fd5f2c40a20e');\n",
       "var x = new MutationObserver(function (mutations, observer) {{\n",
       "        var display = window.getComputedStyle(gd).display;\n",
       "        if (!display || display === 'none') {{\n",
       "            console.log([gd, 'removed!']);\n",
       "            Plotly.purge(gd);\n",
       "            observer.disconnect();\n",
       "        }}\n",
       "}});\n",
       "\n",
       "// Listen for the removal of the full notebook cells\n",
       "var notebookContainer = gd.closest('#notebook-container');\n",
       "if (notebookContainer) {{\n",
       "    x.observe(notebookContainer, {childList: true});\n",
       "}}\n",
       "\n",
       "// Listen for the clearing of the current output cell\n",
       "var outputEl = gd.closest('.output');\n",
       "if (outputEl) {{\n",
       "    x.observe(outputEl, {childList: true});\n",
       "}}\n",
       "\n",
       "                        })                };                });            </script>        </div>"
      ]
     },
     "metadata": {},
     "output_type": "display_data"
    }
   ],
   "source": [
    "# Create a Sankey diagram\n",
    "fig = go.Figure(data=[go.Sankey(\n",
    "    node=dict(\n",
    "        pad=50,\n",
    "        thickness=13,\n",
    "        line=dict(color='black', width=0),\n",
    "        label=['', '', '', '', '', ''],  # Leave node labels empty\n",
    "        x=[0.06, 0.06, 0.38, 0.38, 0.70, 0.70],  # Set horizontal positions of nodes\n",
    "        y=[0.84, 0.40, 0.384, 0.77, 0.53, 0.08],  # Set vertical positions of nodes\n",
    "        color=['#e41a1c', '#9ecae1', '#6baed6', '#4292c6', '#2171b5', '#f781bf']  # Set colors for each node\n",
    "    ),\n",
    "    link=dict(\n",
    "        source=[0, 1, 1, 2, 2, 3, 3],\n",
    "        target=[4, 2, 3, 4, 5, 4, 5],\n",
    "        value=[1160, 14310, 572, 13336, 974, 266, 306],\n",
    "    )\n",
    ")])\n",
    "\n",
    "# Add annotations to manually specify label positions\n",
    "annotations = [\n",
    "    dict(x=0.08, y=0.17, text='In Yeast8', showarrow=False, xanchor='left', font=dict(color='black', size=11)),\n",
    "    dict(x=0.08, y=0.10, text='1160', showarrow=False, xanchor='left', font=dict(color='black', size=11)),\n",
    "\n",
    "    dict(x=0.08, y=0.57, text='Not in Yeast8', showarrow=False, xanchor='left', font=dict(color='black', size=11)),\n",
    "    dict(x=0.08, y=0.50, text='14882', showarrow=False, xanchor='left', font=dict(color='black', size=11)),\n",
    "\n",
    "    dict(x=0.40, y=0.62, text='Lipids', showarrow=False, xanchor='left', font=dict(color='black', size=11)),\n",
    "    dict(x=0.40, y=0.55, text='14310', showarrow=False, xanchor='left', font=dict(color='black', size=11)),\n",
    "\n",
    "    dict(x=0.40, y=0.23, text='Non-lipids', showarrow=False, xanchor='left', font=dict(color='black', size=11)),\n",
    "    dict(x=0.40, y=0.16, text='572', showarrow=False, xanchor='left', font=dict(color='black', size=11)),\n",
    "\n",
    "    dict(x=0.72, y=0.47, text='In Yeast-MetaTwin', showarrow=False, xanchor='left', font=dict(color='black', size=11)),\n",
    "    dict(x=0.72, y=0.40, text='14762', showarrow=False, xanchor='left', font=dict(color='black', size=11)),\n",
    "\n",
    "    dict(x=0.72, y=0.96, text='Others', showarrow=False, xanchor='left', font=dict(color='black', size=11)),\n",
    "    dict(x=0.72, y=0.89, text='1280', showarrow=False, xanchor='left', font=dict(color='black', size=11)),\n",
    "\n",
    "    # New vertical text annotation\n",
    "    dict(x=-0.02, y=0.17, text='Yeast metabolome database', showarrow=False, xanchor='left', font=dict(color='black', size=11), textangle=270)\n",
    "]\n",
    "\n",
    "fig.update_layout(\n",
    "    font_size=14,\n",
    "    margin=dict(l=5, r=60, t=10, b=0),  # Set plot margins\n",
    "    font=dict(family='Arial'),  # Set font\n",
    "    width=1.2 * 300,  # Set plot width, scaled to consistent units (e.g., 100 pixels per inch)\n",
    "    height=0.7 * 300,  # Set plot height, scaled to consistent units\n",
    "    annotations=annotations  # Add custom annotations\n",
    ")\n",
    "\n",
    "# Save the plot as a PDF\n",
    "pio.write_image(fig, file=ymdb_metabolites_sankey_result_figure_path)\n",
    "fig.show()"
   ]
  },
  {
   "cell_type": "markdown",
   "metadata": {},
   "source": [
    "# enzyme"
   ]
  },
  {
   "cell_type": "code",
   "execution_count": 16,
   "metadata": {},
   "outputs": [],
   "source": [
    "with open(clean_deepec_gene2ec_dict_path, 'r') as f:\n",
    "    loaded_dict = json.load(f)"
   ]
  },
  {
   "cell_type": "code",
   "execution_count": 18,
   "metadata": {},
   "outputs": [],
   "source": [
    "yeast8U = cobra.io.load_yaml_model(yeast8U_path)"
   ]
  },
  {
   "cell_type": "code",
   "execution_count": 20,
   "metadata": {},
   "outputs": [
    {
     "name": "stdout",
     "output_type": "stream",
     "text": [
      "0.8408997955010225\n"
     ]
    }
   ],
   "source": [
    "GEM_gene = [x.id for x in yeast8U.genes]\n",
    "clean_deepec_gene = loaded_dict.keys()\n",
    "TP = len([x for x in clean_deepec_gene if x in GEM_gene])/len(clean_deepec_gene)\n",
    "print(TP)"
   ]
  }
 ],
 "metadata": {
  "kernelspec": {
   "display_name": "kcat",
   "language": "python",
   "name": "python3"
  },
  "language_info": {
   "codemirror_mode": {
    "name": "ipython",
    "version": 3
   },
   "file_extension": ".py",
   "mimetype": "text/x-python",
   "name": "python",
   "nbconvert_exporter": "python",
   "pygments_lexer": "ipython3",
   "version": "3.7.16"
  }
 },
 "nbformat": 4,
 "nbformat_minor": 2
}
