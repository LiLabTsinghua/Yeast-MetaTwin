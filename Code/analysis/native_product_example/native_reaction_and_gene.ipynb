{
 "cells": [
  {
   "cell_type": "code",
   "execution_count": 15,
   "metadata": {},
   "outputs": [],
   "source": [
    "import pandas as pd\n",
    "import numpy as np\n",
    "import json\n",
    "from rdkit import Chem\n",
    "from rdkit.Chem import Draw\n",
    "from rdkit.Chem import rdChemReactions\n",
    "from rdkit.Chem.Draw import rdMolDraw2D\n",
    "from rdkit.Chem.Draw import IPythonConsole\n",
    "from IPython.display import SVG, display\n",
    "from rdkit.Chem.Fingerprints import FingerprintMols\n",
    "from rdkit import DataStructs\n",
    "from rdkit.Chem import MACCSkeys\n",
    "import pandas as pd\n",
    "import rdchiral\n",
    "import itertools\n",
    "import pickle\n",
    "import sys\n",
    "from tqdm import tqdm \n",
    "from rdchiral.main import rdchiralRun, rdchiralRunText, rdchiralReaction, rdchiralReactants\n",
    "import cobra\n",
    "from itertools import chain, combinations\n",
    "import sys\n",
    "import multiprocessing\n",
    "from functools import partial\n",
    "import matplotlib.pyplot as plt\n",
    "\n",
    "\n",
    "sys.path.append('../../retrosynthesis/')\n",
    "from common import *"
   ]
  },
  {
   "cell_type": "markdown",
   "metadata": {},
   "source": [
    "### input and output"
   ]
  },
  {
   "cell_type": "code",
   "execution_count": 16,
   "metadata": {},
   "outputs": [],
   "source": [
    "#input\n",
    "yeast870_path = '../../../Data/model/yeast-GEM.yml'\n",
    "yeast8U_path = '../../../Data/model/Yeast-MetaTwin.yml'\n",
    "metabolites_info_to_GEM_path = '../../../Results/not_lipid/top50_0.3_re/metabolites_info_to_GEM_del_top50_0.3.csv'\n",
    "mnxreac_smile_atom_mapping_rules_file_path = '../../../Results/rules/MNXreaction_smiles_atommap_rules_filter.csv'"
   ]
  },
  {
   "cell_type": "code",
   "execution_count": 17,
   "metadata": {},
   "outputs": [],
   "source": [
    "yeast8 = cobra.io.load_yaml_model(yeast870_path)\n",
    "yeast8U = cobra.io.load_yaml_model(yeast8U_path)"
   ]
  },
  {
   "cell_type": "code",
   "execution_count": 18,
   "metadata": {},
   "outputs": [
    {
     "data": {
      "text/html": [
       "<div>\n",
       "<style scoped>\n",
       "    .dataframe tbody tr th:only-of-type {\n",
       "        vertical-align: middle;\n",
       "    }\n",
       "\n",
       "    .dataframe tbody tr th {\n",
       "        vertical-align: top;\n",
       "    }\n",
       "\n",
       "    .dataframe thead th {\n",
       "        text-align: right;\n",
       "    }\n",
       "</style>\n",
       "<table border=\"1\" class=\"dataframe\">\n",
       "  <thead>\n",
       "    <tr style=\"text-align: right;\">\n",
       "      <th></th>\n",
       "      <th>new_met_smiles</th>\n",
       "      <th>sim_smile</th>\n",
       "      <th>ID</th>\n",
       "      <th>compartment</th>\n",
       "    </tr>\n",
       "  </thead>\n",
       "  <tbody>\n",
       "    <tr>\n",
       "      <th>0</th>\n",
       "      <td>CC(N)C(O)=NC(CC(=O)O)C(=O)O</td>\n",
       "      <td>CC(N)C(=O)NC(CC(=O)O)C(=O)O</td>\n",
       "      <td>s_4120</td>\n",
       "      <td>c</td>\n",
       "    </tr>\n",
       "    <tr>\n",
       "      <th>1</th>\n",
       "      <td>CCCCCCCCCCCCCCCCCCCC=CC(=O)SCCNC(=O)CCNC(=O)C(...</td>\n",
       "      <td>CCCCCCCCCCCCCCCCCCCC=CC(=O)SCCNC(=O)CCNC(=O)C(...</td>\n",
       "      <td>s_2813</td>\n",
       "      <td>erm</td>\n",
       "    </tr>\n",
       "    <tr>\n",
       "      <th>2</th>\n",
       "      <td>C=C(OC1C=C(C(=O)O)C=CC1O)C(=O)[O-]</td>\n",
       "      <td>C=C(OC1C=C(C(=O)O)C=CC1O)C(=O)O</td>\n",
       "      <td>s_0515</td>\n",
       "      <td>c</td>\n",
       "    </tr>\n",
       "    <tr>\n",
       "      <th>3</th>\n",
       "      <td>NC(=O)c1ncn(C2OC(COP(=O)(O)O)C(O)C2O)c1N=CN[C@...</td>\n",
       "      <td>NC(=O)c1ncn(C2OC(COP(=O)([O-])[O-])C(O)C2O)c1N...</td>\n",
       "      <td>s_0077</td>\n",
       "      <td>c</td>\n",
       "    </tr>\n",
       "    <tr>\n",
       "      <th>4</th>\n",
       "      <td>Nc1nc2c(c(=O)[nH]1)N=C(CNc1ccc(C(=O)NC(CCC(=O)...</td>\n",
       "      <td>Nc1nc2c(c(=O)[nH]1)N=C(CNc1ccc(C(=O)NC(CCC(=O)...</td>\n",
       "      <td>s_0625</td>\n",
       "      <td>c</td>\n",
       "    </tr>\n",
       "    <tr>\n",
       "      <th>...</th>\n",
       "      <td>...</td>\n",
       "      <td>...</td>\n",
       "      <td>...</td>\n",
       "      <td>...</td>\n",
       "    </tr>\n",
       "    <tr>\n",
       "      <th>4063</th>\n",
       "      <td>CCCCCCCCCCCCCCCCCC(=O)O[C@H](CO)COP(=O)([O-])O...</td>\n",
       "      <td></td>\n",
       "      <td>sn_20</td>\n",
       "      <td>c</td>\n",
       "    </tr>\n",
       "    <tr>\n",
       "      <th>4064</th>\n",
       "      <td>CC(C)CC(N)C(=O)O</td>\n",
       "      <td>CC(C)CC(N)C(=O)O</td>\n",
       "      <td>s_1021</td>\n",
       "      <td>c</td>\n",
       "    </tr>\n",
       "    <tr>\n",
       "      <th>4065</th>\n",
       "      <td>CCCCCCC=CCCCCCCCC(=O)OCC(O)COP(=O)(O)OCC(N)C(=...</td>\n",
       "      <td>CCCCCCC=CCCCCCCCC(=O)OCC(O)COP(=O)(O)OCC(N)C(=O)O</td>\n",
       "      <td>s_3481</td>\n",
       "      <td>ce</td>\n",
       "    </tr>\n",
       "    <tr>\n",
       "      <th>4066</th>\n",
       "      <td>Nc1ccn(C2OC(COP(=O)([O-])OP(=O)(O)OP(=O)(O)O)C...</td>\n",
       "      <td>Nc1ccn(C2OC(COP(=O)(O)OP(=O)(O)OP(=O)(O)O)C(O)...</td>\n",
       "      <td>s_0539</td>\n",
       "      <td>c</td>\n",
       "    </tr>\n",
       "    <tr>\n",
       "      <th>4067</th>\n",
       "      <td>CCCCCCCCCCCCCCCC=CC(=O)SCCNC(=O)CCNC(=O)C(O)C(...</td>\n",
       "      <td>CCCCCCCCCCCCCCCC=CC(=O)SCCNC(=O)CCNC(=O)C(O)C(...</td>\n",
       "      <td>s_1516</td>\n",
       "      <td>p</td>\n",
       "    </tr>\n",
       "  </tbody>\n",
       "</table>\n",
       "<p>4068 rows × 4 columns</p>\n",
       "</div>"
      ],
      "text/plain": [
       "                                         new_met_smiles  \\\n",
       "0                           CC(N)C(O)=NC(CC(=O)O)C(=O)O   \n",
       "1     CCCCCCCCCCCCCCCCCCCC=CC(=O)SCCNC(=O)CCNC(=O)C(...   \n",
       "2                    C=C(OC1C=C(C(=O)O)C=CC1O)C(=O)[O-]   \n",
       "3     NC(=O)c1ncn(C2OC(COP(=O)(O)O)C(O)C2O)c1N=CN[C@...   \n",
       "4     Nc1nc2c(c(=O)[nH]1)N=C(CNc1ccc(C(=O)NC(CCC(=O)...   \n",
       "...                                                 ...   \n",
       "4063  CCCCCCCCCCCCCCCCCC(=O)O[C@H](CO)COP(=O)([O-])O...   \n",
       "4064                                   CC(C)CC(N)C(=O)O   \n",
       "4065  CCCCCCC=CCCCCCCCC(=O)OCC(O)COP(=O)(O)OCC(N)C(=...   \n",
       "4066  Nc1ccn(C2OC(COP(=O)([O-])OP(=O)(O)OP(=O)(O)O)C...   \n",
       "4067  CCCCCCCCCCCCCCCC=CC(=O)SCCNC(=O)CCNC(=O)C(O)C(...   \n",
       "\n",
       "                                              sim_smile      ID compartment  \n",
       "0                           CC(N)C(=O)NC(CC(=O)O)C(=O)O  s_4120           c  \n",
       "1     CCCCCCCCCCCCCCCCCCCC=CC(=O)SCCNC(=O)CCNC(=O)C(...  s_2813         erm  \n",
       "2                       C=C(OC1C=C(C(=O)O)C=CC1O)C(=O)O  s_0515           c  \n",
       "3     NC(=O)c1ncn(C2OC(COP(=O)([O-])[O-])C(O)C2O)c1N...  s_0077           c  \n",
       "4     Nc1nc2c(c(=O)[nH]1)N=C(CNc1ccc(C(=O)NC(CCC(=O)...  s_0625           c  \n",
       "...                                                 ...     ...         ...  \n",
       "4063                                                      sn_20           c  \n",
       "4064                                   CC(C)CC(N)C(=O)O  s_1021           c  \n",
       "4065  CCCCCCC=CCCCCCCCC(=O)OCC(O)COP(=O)(O)OCC(N)C(=O)O  s_3481          ce  \n",
       "4066  Nc1ccn(C2OC(COP(=O)(O)OP(=O)(O)OP(=O)(O)O)C(O)...  s_0539           c  \n",
       "4067  CCCCCCCCCCCCCCCC=CC(=O)SCCNC(=O)CCNC(=O)C(O)C(...  s_1516           p  \n",
       "\n",
       "[4068 rows x 4 columns]"
      ]
     },
     "execution_count": 18,
     "metadata": {},
     "output_type": "execute_result"
    }
   ],
   "source": [
    "metabolites_info_to_GEM = pd.read_csv(metabolites_info_to_GEM_path)\n",
    "metabolites_info_to_GEM"
   ]
  },
  {
   "cell_type": "markdown",
   "metadata": {},
   "source": [
    "# native"
   ]
  },
  {
   "cell_type": "code",
   "execution_count": 19,
   "metadata": {},
   "outputs": [
    {
     "name": "stdout",
     "output_type": "stream",
     "text": [
      "r_0819 s_0180 + s_1266 --> s_0991 + s_0997\n",
      "{'s_0180 [2-oxoglutarate]': -1, 's_0991 [L-glutamate]': 1, 's_0997 [L-glutamic 5-semialdehyde]': 1, 's_1266 [ornithine]': -1}\n",
      "===========\n",
      "r_0819 s_0180 + s_1266 --> s_0991 + s_0997\n",
      "{'s_0180 [2-oxoglutarate]': -1, 's_0991 [L-glutamate]': 1, 's_0997 [L-glutamic 5-semialdehyde]': 1, 's_1266 [ornithine]': -1}\n",
      "rxn40939 s_0794 + s_0991 + s_1212 --> s_0803 + s_0997 + s_1207\n",
      "{'s_0794 [H+]': -1, 's_0803 [H2O]': 1, 's_0991 [L-glutamate]': -1, 's_0997 [L-glutamic 5-semialdehyde]': 1, 's_1207 [NADP(+)]': 1, 's_1212 [NADPH]': -1}\n",
      "rxn69409 s_0794 + s_0991 + s_1203 --> s_0803 + s_0997 + s_1198\n",
      "{'s_0794 [H+]': -1, 's_0803 [H2O]': 1, 's_0991 [L-glutamate]': -1, 's_0997 [L-glutamic 5-semialdehyde]': 1, 's_1198 [NAD]': 1, 's_1203 [NADH]': -1}\n",
      "rxn7558 s_0145 + s_0991 --> s_0997 + s_4173\n",
      "{'s_0145 [2-acetamido-5-oxopentanoate]': -1, 's_0991 [L-glutamate]': -1, 's_0997 [L-glutamic 5-semialdehyde]': 1, 's_4173 [N-acetyl-L-glutamate]': 1}\n"
     ]
    }
   ],
   "source": [
    "# L-glutamate --> L-glutamic 5-semialdehyde\n",
    "# L-glutamate:s_0991\n",
    "# L-glutamic 5-semialdehyde:s_0997\n",
    "# P07275  YHR037W\n",
    "# H2O + L-glutamate 5-semialdehyde + NAD+ = 2 H+ + L-glutamate + NADH\n",
    "# EC:1.2.1.88 (UniProtKB | ENZYME| Rhea)\n",
    "\n",
    "for i in yeast8.reactions:\n",
    "    if 's_0991' in i.reaction and 's_0997' in i.reaction:\n",
    "        print(i.id,i.reaction)\n",
    "        print({k.id+' ['+ k.name+']':v for k,v in i.metabolites.items()})\n",
    "print('===========')\n",
    "for i in yeast8U.reactions:\n",
    "    if 's_0991' in i.reaction and 's_0997' in i.reaction:\n",
    "        print(i.id,i.reaction)\n",
    "        print({k.id+' ['+ k.name+']':v for k,v in i.metabolites.items()})"
   ]
  },
  {
   "cell_type": "code",
   "execution_count": 20,
   "metadata": {},
   "outputs": [
    {
     "data": {
      "text/plain": [
       "['YMR110C',\n",
       " 'YPL098C',\n",
       " 'YMR169C',\n",
       " 'YOR323C',\n",
       " 'YMR170C',\n",
       " 'YER073W',\n",
       " 'YHR037W',\n",
       " 'YPL061W',\n",
       " 'YBR006W',\n",
       " 'YDR158W',\n",
       " 'YOR374W',\n",
       " 'YJR009C',\n",
       " 'YGR192C',\n",
       " 'YJL052W']"
      ]
     },
     "execution_count": 20,
     "metadata": {},
     "output_type": "execute_result"
    }
   ],
   "source": [
    "[x.id for x in yeast8U_del.reactions.get_by_id('rxn40939').genes]\n",
    "# YHR037W"
   ]
  },
  {
   "cell_type": "code",
   "execution_count": 21,
   "metadata": {},
   "outputs": [
    {
     "name": "stdout",
     "output_type": "stream",
     "text": [
      "===========\n",
      "rxn17810 s_0803 + s_0991 + s_2763 --> s_0180 + s_1020\n",
      "{'s_0180 [2-oxoglutarate]': 1, 's_0803 [H2O]': -1, 's_0991 [L-glutamate]': -1, 's_1020 [L-kynurenine]': 1, 's_2763 [kynurenic acid]': -1}\n"
     ]
    }
   ],
   "source": [
    "# kynurenate + L-glutamic --> L-kynurenine + 2-oxoglutarate\n",
    "# s_2763(kynurenic acid/kynurenate ) +  s_0803 +  s_0991(L-glutamate) => s_1020(L-kynurenine) +  s_0180(2-oxoglutarate) \n",
    "# kynurenate:s_2763\n",
    "# L-glutamic:s_0991\n",
    "# s_0803\n",
    "# L-kynurenine:s_1020\n",
    "# 2-oxoglutarate:s_0180\n",
    "# P38840_1  s_2763 +  s_0803 +  s_0991 => s_1020 +  s_0180\n",
    "# 2-oxoglutarate + L-kynurenine = H2O + kynurenate + L-glutamate\n",
    "# EC:2.6.1.7 (UniProtKB | ENZYME\n",
    "# | Rhea)\n",
    "# YHR137W\n",
    "\n",
    "for i in yeast8.reactions:\n",
    "    if 's_2763' in i.reaction and 's_1020' in i.reaction and 's_0180' in i.reaction:\n",
    "        print(i.id,i.reaction)\n",
    "        print({k.id+' ['+ k.name+']':v for k,v in i.metabolites.items()})\n",
    "print('===========')\n",
    "for i in yeast8U.reactions:\n",
    "    if 's_2763' in i.reaction and 's_1020' in i.reaction and 's_0180' in i.reaction:\n",
    "        print(i.id,i.reaction)\n",
    "        print({k.id+' ['+ k.name+']':v for k,v in i.metabolites.items()})"
   ]
  },
  {
   "cell_type": "code",
   "execution_count": 22,
   "metadata": {},
   "outputs": [
    {
     "data": {
      "text/plain": [
       "['YDR111C',\n",
       " 'YHR137W',\n",
       " 'YER152C',\n",
       " 'YLR027C',\n",
       " 'YGR019W',\n",
       " 'YGL202W',\n",
       " 'YLR089C',\n",
       " 'YNR058W',\n",
       " 'YFL030W',\n",
       " 'YOR184W',\n",
       " 'YMR085W',\n",
       " 'YER137C',\n",
       " 'YHR208W',\n",
       " 'YKL106W',\n",
       " 'YDR204W',\n",
       " 'YLR333C',\n",
       " 'YIL087C',\n",
       " 'YKL104C',\n",
       " 'YIL116W',\n",
       " 'YHR162W',\n",
       " 'YLR201C',\n",
       " 'YJL060W',\n",
       " 'YMR084W',\n",
       " 'YOL140W',\n",
       " 'YGR243W',\n",
       " 'YLR438W',\n",
       " 'YJR148W',\n",
       " 'YNR033W']"
      ]
     },
     "execution_count": 22,
     "metadata": {},
     "output_type": "execute_result"
    }
   ],
   "source": [
    "[x.id for x in yeast8U_del.reactions.get_by_id('rxn17810').genes]\n",
    "# YHR137W"
   ]
  },
  {
   "cell_type": "code",
   "execution_count": 23,
   "metadata": {},
   "outputs": [
    {
     "name": "stdout",
     "output_type": "stream",
     "text": [
      "===========\n",
      "rxn4645 s_0794 + s_1025 --> s_0456 + s_4299\n",
      "{'s_0456 [carbon dioxide]': 1, 's_0794 [H+]': -1, 's_1025 [L-lysine]': -1, 's_4299 [cadaverine]': 1}\n"
     ]
    }
   ],
   "source": [
    "# L-lysine --> Cadaverine  ### YKL184W P08432 \n",
    "# L-lysine:s_1025\n",
    "# Cadaverine:s_4299\n",
    "\n",
    "for i in yeast8.reactions:\n",
    "    if 's_1025' in i.reaction and 's_4299' in i.reaction:\n",
    "        print(i.id,i.reaction)\n",
    "        print({k.id+' ['+ k.name+']':v for k,v in i.metabolites.items()})\n",
    "print('===========')\n",
    "for i in yeast8U.reactions:\n",
    "    if 's_1025' in i.reaction and 's_4299' in i.reaction:\n",
    "        print(i.id,i.reaction)\n",
    "        print({k.id+' ['+ k.name+']':v for k,v in i.metabolites.items()})      "
   ]
  },
  {
   "cell_type": "code",
   "execution_count": 24,
   "metadata": {},
   "outputs": [
    {
     "data": {
      "text/plain": [
       "['YDR047W',\n",
       " 'YER010C',\n",
       " 'YDR380W',\n",
       " 'YLL028W',\n",
       " 'YKL184W',\n",
       " 'YDR539W',\n",
       " 'YKL088W',\n",
       " 'YNL169C',\n",
       " 'YKR072C',\n",
       " 'YLR134W',\n",
       " 'YNR043W',\n",
       " 'YMR250W',\n",
       " 'YGR087C',\n",
       " 'YKR097W',\n",
       " 'YNL052W',\n",
       " 'YLR044C',\n",
       " 'YOL052C',\n",
       " 'YDL080C',\n",
       " 'YEL021W',\n",
       " 'YOR128C']"
      ]
     },
     "execution_count": 24,
     "metadata": {},
     "output_type": "execute_result"
    }
   ],
   "source": [
    "[x.id for x in yeast8U.reactions.get_by_id('rxn4645').genes] \n",
    "#YKL184W"
   ]
  },
  {
   "cell_type": "code",
   "execution_count": 25,
   "metadata": {},
   "outputs": [
    {
     "name": "stdout",
     "output_type": "stream",
     "text": [
      "===========\n",
      "rxn9778 s_1012 + s_1424 --> s_0794 + 2 s_1029\n",
      "{'s_0794 [H+]': 1, 's_1012 [L-homocysteine]': -1, 's_1029 [L-methionine]': 2, 's_1424 [S-methyl-L-methionine]': -1}\n"
     ]
    }
   ],
   "source": [
    "# L-homocysteine + S-methyl-L-methionine = H+ + 2 L-methionine  #Q08985 YPL273W\n",
    "# L-methionine:s_1029\n",
    "# S-methyl-L-methionine:s_1424\n",
    "# L-homocysteine:s_1012\n",
    "\n",
    "for i in yeast8.reactions:\n",
    "    if 's_1029' in i.reaction and 's_1424' in i.reaction and 's_1012' in i.reaction:\n",
    "        print(i.id,i.reaction)\n",
    "        print({k.id+' ['+ k.name+']':v for k,v in i.metabolites.items()}) \n",
    "print('===========')\n",
    "for i in yeast8U.reactions:\n",
    "    if 's_1029' in i.reaction and 's_1424' in i.reaction and 's_1012' in i.reaction:\n",
    "        print(i.id,i.reaction)\n",
    "        print({k.id+' ['+ k.name+']':v for k,v in i.metabolites.items()})      "
   ]
  },
  {
   "cell_type": "code",
   "execution_count": 26,
   "metadata": {},
   "outputs": [
    {
     "data": {
      "text/plain": [
       "['YHR070W',\n",
       " 'YER175C',\n",
       " 'YER060W-A',\n",
       " 'YJL125C',\n",
       " 'YNL092W',\n",
       " 'YOR074C',\n",
       " 'YCR024C-A',\n",
       " 'YGR027C',\n",
       " 'YDR410C',\n",
       " 'YDR198C',\n",
       " 'YBR213W',\n",
       " 'YBR236C',\n",
       " 'YER056C',\n",
       " 'YHR119W',\n",
       " 'YGL136C',\n",
       " 'YER060W',\n",
       " 'YHR109W',\n",
       " 'YMR160W',\n",
       " 'YHR034C',\n",
       " 'YNL063W',\n",
       " 'YOL124C',\n",
       " 'YOL125W',\n",
       " 'YBR061C',\n",
       " 'YPR186C',\n",
       " 'YKL162C',\n",
       " 'YOL093W',\n",
       " 'YPR187W',\n",
       " 'YGR002C',\n",
       " 'YIL064W',\n",
       " 'YPL030W',\n",
       " 'YML008C',\n",
       " 'YKR069W',\n",
       " 'YJR137C',\n",
       " 'YLR333C',\n",
       " 'YOL103W',\n",
       " 'YBR119W',\n",
       " 'YBR115C',\n",
       " 'YHR209W',\n",
       " 'YMR257C',\n",
       " 'YDR435C',\n",
       " 'YDR140W',\n",
       " 'YKR029C',\n",
       " 'YGL186C',\n",
       " 'YDR120C',\n",
       " 'YBR241C',\n",
       " 'YGR157W',\n",
       " 'YGR006W',\n",
       " 'YLR137W',\n",
       " 'YDR105C',\n",
       " 'YJR073C',\n",
       " 'YPL266W',\n",
       " 'YLL062C',\n",
       " 'YER091C',\n",
       " 'YOL096C',\n",
       " 'YLR285W',\n",
       " 'YJL056C',\n",
       " 'YJL168C',\n",
       " 'YDR497C',\n",
       " 'YKL088W',\n",
       " 'YLR172C',\n",
       " 'YPL273W',\n",
       " 'YML110C',\n",
       " 'YOL141W',\n",
       " 'YBR034C',\n",
       " 'YOL020W',\n",
       " 'YBL024W',\n",
       " 'YJR044C',\n",
       " 'YGL050W',\n",
       " 'YHL036W',\n",
       " 'YDL212W',\n",
       " 'YDL200C',\n",
       " 'YPL092W',\n",
       " 'YDR440W',\n",
       " 'YEL017C-A',\n",
       " 'YDL201W',\n",
       " 'YPL216W']"
      ]
     },
     "execution_count": 26,
     "metadata": {},
     "output_type": "execute_result"
    }
   ],
   "source": [
    "[x.id for x in yeast8U.reactions.get_by_id('rxn9778').genes] \n",
    "#YPL273W"
   ]
  }
 ],
 "metadata": {
  "kernelspec": {
   "display_name": "kcat",
   "language": "python",
   "name": "python3"
  },
  "language_info": {
   "codemirror_mode": {
    "name": "ipython",
    "version": 3
   },
   "file_extension": ".py",
   "mimetype": "text/x-python",
   "name": "python",
   "nbconvert_exporter": "python",
   "pygments_lexer": "ipython3",
   "version": "3.7.16"
  },
  "orig_nbformat": 4
 },
 "nbformat": 4,
 "nbformat_minor": 2
}
