{
 "cells": [
  {
   "cell_type": "code",
   "execution_count": 1,
   "metadata": {},
   "outputs": [],
   "source": [
    "import pandas as pd\n",
    "import numpy as np\n",
    "import json\n",
    "from rdkit import Chem\n",
    "from rdkit.Chem import Draw\n",
    "from rdkit.Chem import rdChemReactions\n",
    "from rdkit.Chem.Draw import rdMolDraw2D\n",
    "from rdkit.Chem.Draw import IPythonConsole\n",
    "from IPython.display import SVG, display\n",
    "from rdkit.Chem.Fingerprints import FingerprintMols\n",
    "from rdkit import DataStructs\n",
    "from rdkit.Chem import MACCSkeys\n",
    "import pandas as pd\n",
    "import rdchiral\n",
    "import itertools\n",
    "import pickle\n",
    "import sys\n",
    "from tqdm import tqdm \n",
    "from rdchiral.main import rdchiralRun, rdchiralRunText, rdchiralReaction, rdchiralReactants\n",
    "import cobra\n",
    "from itertools import chain, combinations\n",
    "import sys\n",
    "import multiprocessing\n",
    "from functools import partial\n",
    "import matplotlib.pyplot as plt\n",
    "\n",
    "\n",
    "sys.path.append('../../retrosynthesis/')\n",
    "from common import *"
   ]
  },
  {
   "cell_type": "markdown",
   "metadata": {},
   "source": [
    "### input and output"
   ]
  },
  {
   "cell_type": "code",
   "execution_count": 2,
   "metadata": {},
   "outputs": [],
   "source": [
    "#input\n",
    "yeast870_path = '../../../Data/model/yeast-GEM.yml'\n",
    "yeast8U_path = '../../../Data/model/Yeast-MetaTwin.yml'\n",
    "metabolites_info_to_GEM_path = '../../../Results/not_lipid/top50_0.3_re/metabolites_info_to_GEM_del_top50_0.3.csv'\n",
    "mnxreac_smile_atom_mapping_rules_file_path = '../../../Results/rules/MNXreaction_smiles_atommap_rules_filter.csv'"
   ]
  },
  {
   "cell_type": "code",
   "execution_count": 3,
   "metadata": {},
   "outputs": [],
   "source": [
    "yeast8 = cobra.io.load_yaml_model(yeast870_path)\n",
    "yeast8U = cobra.io.load_yaml_model(yeast8U_path)"
   ]
  },
  {
   "cell_type": "code",
   "execution_count": 4,
   "metadata": {},
   "outputs": [
    {
     "data": {
      "text/html": [
       "<div>\n",
       "<style scoped>\n",
       "    .dataframe tbody tr th:only-of-type {\n",
       "        vertical-align: middle;\n",
       "    }\n",
       "\n",
       "    .dataframe tbody tr th {\n",
       "        vertical-align: top;\n",
       "    }\n",
       "\n",
       "    .dataframe thead th {\n",
       "        text-align: right;\n",
       "    }\n",
       "</style>\n",
       "<table border=\"1\" class=\"dataframe\">\n",
       "  <thead>\n",
       "    <tr style=\"text-align: right;\">\n",
       "      <th></th>\n",
       "      <th>new_met_smiles</th>\n",
       "      <th>sim_smile</th>\n",
       "      <th>ID</th>\n",
       "      <th>compartment</th>\n",
       "    </tr>\n",
       "  </thead>\n",
       "  <tbody>\n",
       "    <tr>\n",
       "      <th>0</th>\n",
       "      <td>NCCc1ccc(O)cc1</td>\n",
       "      <td></td>\n",
       "      <td>sn_1</td>\n",
       "      <td>c</td>\n",
       "    </tr>\n",
       "    <tr>\n",
       "      <th>1</th>\n",
       "      <td>Cc1cc2c(cc1C)N(CC(O)C(O)C(O)COP(=O)([O-])OP(=O...</td>\n",
       "      <td>Cc1cc2c(cc1C)N(CC(O)C(O)C(O)COP(=O)(O)OP(=O)(O...</td>\n",
       "      <td>s_0689</td>\n",
       "      <td>c</td>\n",
       "    </tr>\n",
       "    <tr>\n",
       "      <th>2</th>\n",
       "      <td>CCC/C=C\\C(=O)O</td>\n",
       "      <td></td>\n",
       "      <td>sn_2</td>\n",
       "      <td>c</td>\n",
       "    </tr>\n",
       "    <tr>\n",
       "      <th>3</th>\n",
       "      <td>[NH3+]C(C[C@@H](O)C(=O)[O-])C(=O)[O-]</td>\n",
       "      <td>NC(CC(O)C(=O)O)C(=O)O</td>\n",
       "      <td>s_0677</td>\n",
       "      <td>c</td>\n",
       "    </tr>\n",
       "    <tr>\n",
       "      <th>4</th>\n",
       "      <td>C=C(CCC(C)C1CCC2C3=CCC4CC(OC(=O)CCCCCCCC=CCCCC...</td>\n",
       "      <td>C=C(CCC(C)C1CCC2C3=CCC4CC(OC(=O)CCCCCCCC=CCCCC...</td>\n",
       "      <td>s_3434</td>\n",
       "      <td>erm</td>\n",
       "    </tr>\n",
       "    <tr>\n",
       "      <th>...</th>\n",
       "      <td>...</td>\n",
       "      <td>...</td>\n",
       "      <td>...</td>\n",
       "      <td>...</td>\n",
       "    </tr>\n",
       "    <tr>\n",
       "      <th>3460</th>\n",
       "      <td>CCCCCCCCC=CCCCCCCCC(=O)OCC(COP(=O)([O-])OCC[NH...</td>\n",
       "      <td>CCCCCCCCC=CCCCCCCCC(=O)OCC(COP(=O)(O)OCCNC)OC(...</td>\n",
       "      <td>s_3198</td>\n",
       "      <td>erm</td>\n",
       "    </tr>\n",
       "    <tr>\n",
       "      <th>3461</th>\n",
       "      <td>O=Cc1cccc([O-])c1</td>\n",
       "      <td>O=Cc1cccc(O)c1</td>\n",
       "      <td>s_3792</td>\n",
       "      <td>c</td>\n",
       "    </tr>\n",
       "    <tr>\n",
       "      <th>3462</th>\n",
       "      <td>CCCCCCC=CCCCCCCCC(=O)OCC(COP(=O)([O-])OCC(O)CO...</td>\n",
       "      <td></td>\n",
       "      <td>sn_397</td>\n",
       "      <td>c</td>\n",
       "    </tr>\n",
       "    <tr>\n",
       "      <th>3463</th>\n",
       "      <td>CCCCCCCCCCCCCC=CC(=O)O</td>\n",
       "      <td></td>\n",
       "      <td>sn_237</td>\n",
       "      <td>c</td>\n",
       "    </tr>\n",
       "    <tr>\n",
       "      <th>3464</th>\n",
       "      <td>Cc1cn(C2CC(O)C(CO)O2)c(=O)[nH]c1=O</td>\n",
       "      <td>Cc1cn(C2CC(O)C(CO)O2)c(=O)[nH]c1=O</td>\n",
       "      <td>s_1493</td>\n",
       "      <td>c</td>\n",
       "    </tr>\n",
       "  </tbody>\n",
       "</table>\n",
       "<p>3465 rows × 4 columns</p>\n",
       "</div>"
      ],
      "text/plain": [
       "                                         new_met_smiles  \\\n",
       "0                                        NCCc1ccc(O)cc1   \n",
       "1     Cc1cc2c(cc1C)N(CC(O)C(O)C(O)COP(=O)([O-])OP(=O...   \n",
       "2                                        CCC/C=C\\C(=O)O   \n",
       "3                 [NH3+]C(C[C@@H](O)C(=O)[O-])C(=O)[O-]   \n",
       "4     C=C(CCC(C)C1CCC2C3=CCC4CC(OC(=O)CCCCCCCC=CCCCC...   \n",
       "...                                                 ...   \n",
       "3460  CCCCCCCCC=CCCCCCCCC(=O)OCC(COP(=O)([O-])OCC[NH...   \n",
       "3461                                  O=Cc1cccc([O-])c1   \n",
       "3462  CCCCCCC=CCCCCCCCC(=O)OCC(COP(=O)([O-])OCC(O)CO...   \n",
       "3463                             CCCCCCCCCCCCCC=CC(=O)O   \n",
       "3464                 Cc1cn(C2CC(O)C(CO)O2)c(=O)[nH]c1=O   \n",
       "\n",
       "                                              sim_smile      ID compartment  \n",
       "0                                                          sn_1           c  \n",
       "1     Cc1cc2c(cc1C)N(CC(O)C(O)C(O)COP(=O)(O)OP(=O)(O...  s_0689           c  \n",
       "2                                                          sn_2           c  \n",
       "3                                 NC(CC(O)C(=O)O)C(=O)O  s_0677           c  \n",
       "4     C=C(CCC(C)C1CCC2C3=CCC4CC(OC(=O)CCCCCCCC=CCCCC...  s_3434         erm  \n",
       "...                                                 ...     ...         ...  \n",
       "3460  CCCCCCCCC=CCCCCCCCC(=O)OCC(COP(=O)(O)OCCNC)OC(...  s_3198         erm  \n",
       "3461                                     O=Cc1cccc(O)c1  s_3792           c  \n",
       "3462                                                     sn_397           c  \n",
       "3463                                                     sn_237           c  \n",
       "3464                 Cc1cn(C2CC(O)C(CO)O2)c(=O)[nH]c1=O  s_1493           c  \n",
       "\n",
       "[3465 rows x 4 columns]"
      ]
     },
     "execution_count": 4,
     "metadata": {},
     "output_type": "execute_result"
    }
   ],
   "source": [
    "metabolites_info_to_GEM = pd.read_csv(metabolites_info_to_GEM_path)\n",
    "metabolites_info_to_GEM"
   ]
  },
  {
   "cell_type": "markdown",
   "metadata": {},
   "source": [
    "# native"
   ]
  },
  {
   "cell_type": "code",
   "execution_count": 5,
   "metadata": {},
   "outputs": [
    {
     "name": "stdout",
     "output_type": "stream",
     "text": [
      "r_0819 s_0180 + s_1266 --> s_0991 + s_0997\n",
      "{'s_0180 [2-oxoglutarate]': -1, 's_0991 [L-glutamate]': 1, 's_0997 [L-glutamic 5-semialdehyde]': 1, 's_1266 [ornithine]': -1}\n",
      "===========\n",
      "r_0819 s_0180 + s_1266 --> s_0991 + s_0997\n",
      "{'s_0180 [2-oxoglutarate]': -1, 's_0991 [L-glutamate]': 1, 's_0997 [L-glutamic 5-semialdehyde]': 1, 's_1266 [ornithine]': -1}\n",
      "rxn696 s_0794 + s_0991 + s_1212 --> s_0803 + s_0997 + s_1207\n",
      "{'s_0794 [H+]': -1, 's_0803 [H2O]': 1, 's_0991 [L-glutamate]': -1, 's_0997 [L-glutamic 5-semialdehyde]': 1, 's_1207 [NADP(+)]': 1, 's_1212 [NADPH]': -1}\n",
      "rxn1831 s_0794 + s_0991 + s_1203 --> s_0803 + s_0997 + s_1198\n",
      "{'s_0794 [H+]': -1, 's_0803 [H2O]': 1, 's_0991 [L-glutamate]': -1, 's_0997 [L-glutamic 5-semialdehyde]': 1, 's_1198 [NAD]': 1, 's_1203 [NADH]': -1}\n",
      "rxn2042 s_0145 + s_0991 --> s_0997 + s_4173\n",
      "{'s_0145 [2-acetamido-5-oxopentanoate]': -1, 's_0991 [L-glutamate]': -1, 's_0997 [L-glutamic 5-semialdehyde]': 1, 's_4173 [N-acetyl-L-glutamate]': 1}\n"
     ]
    }
   ],
   "source": [
    "# L-glutamate --> L-glutamic 5-semialdehyde\n",
    "# L-glutamate:s_0991\n",
    "# L-glutamic 5-semialdehyde:s_0997\n",
    "# P07275  YHR037W\n",
    "# H2O + L-glutamate 5-semialdehyde + NAD+ = 2 H+ + L-glutamate + NADH\n",
    "# EC:1.2.1.88 (UniProtKB | ENZYME| Rhea)\n",
    "\n",
    "for i in yeast8.reactions:\n",
    "    if 's_0991' in i.reaction and 's_0997' in i.reaction:\n",
    "        print(i.id,i.reaction)\n",
    "        print({k.id+' ['+ k.name+']':v for k,v in i.metabolites.items()})\n",
    "print('===========')\n",
    "for i in yeast8U.reactions:\n",
    "    if 's_0991' in i.reaction and 's_0997' in i.reaction:\n",
    "        print(i.id,i.reaction)\n",
    "        print({k.id+' ['+ k.name+']':v for k,v in i.metabolites.items()})"
   ]
  },
  {
   "cell_type": "code",
   "execution_count": 7,
   "metadata": {},
   "outputs": [
    {
     "data": {
      "text/plain": [
       "['YJR009C',\n",
       " 'YHR037W',\n",
       " 'YOR323C',\n",
       " 'YMR110C',\n",
       " 'YBR006W',\n",
       " 'YGR192C',\n",
       " 'YDR158W',\n",
       " 'YJL052W',\n",
       " 'YMR170C',\n",
       " 'YOR374W',\n",
       " 'YER073W',\n",
       " 'YPL098C',\n",
       " 'YPL061W',\n",
       " 'YMR169C']"
      ]
     },
     "execution_count": 7,
     "metadata": {},
     "output_type": "execute_result"
    }
   ],
   "source": [
    "[x.id for x in yeast8U.reactions.get_by_id('rxn696').genes]\n",
    "# YHR037W"
   ]
  },
  {
   "cell_type": "code",
   "execution_count": 8,
   "metadata": {},
   "outputs": [
    {
     "name": "stdout",
     "output_type": "stream",
     "text": [
      "===========\n",
      "rxn470 s_0803 + s_0991 + s_2763 --> s_0180 + s_1020\n",
      "{'s_0180 [2-oxoglutarate]': 1, 's_0803 [H2O]': -1, 's_0991 [L-glutamate]': -1, 's_1020 [L-kynurenine]': 1, 's_2763 [kynurenic acid]': -1}\n"
     ]
    }
   ],
   "source": [
    "# kynurenate + L-glutamic --> L-kynurenine + 2-oxoglutarate\n",
    "# s_2763(kynurenic acid/kynurenate ) +  s_0803 +  s_0991(L-glutamate) => s_1020(L-kynurenine) +  s_0180(2-oxoglutarate) \n",
    "# kynurenate:s_2763\n",
    "# L-glutamic:s_0991\n",
    "# s_0803\n",
    "# L-kynurenine:s_1020\n",
    "# 2-oxoglutarate:s_0180\n",
    "# P38840_1  s_2763 +  s_0803 +  s_0991 => s_1020 +  s_0180\n",
    "# 2-oxoglutarate + L-kynurenine = H2O + kynurenate + L-glutamate\n",
    "# EC:2.6.1.7 (UniProtKB | ENZYME\n",
    "# | Rhea)\n",
    "# YHR137W\n",
    "\n",
    "for i in yeast8.reactions:\n",
    "    if 's_2763' in i.reaction and 's_1020' in i.reaction and 's_0180' in i.reaction:\n",
    "        print(i.id,i.reaction)\n",
    "        print({k.id+' ['+ k.name+']':v for k,v in i.metabolites.items()})\n",
    "print('===========')\n",
    "for i in yeast8U.reactions:\n",
    "    if 's_2763' in i.reaction and 's_1020' in i.reaction and 's_0180' in i.reaction:\n",
    "        print(i.id,i.reaction)\n",
    "        print({k.id+' ['+ k.name+']':v for k,v in i.metabolites.items()})"
   ]
  },
  {
   "cell_type": "code",
   "execution_count": 9,
   "metadata": {},
   "outputs": [
    {
     "data": {
      "text/plain": [
       "['YMR084W',\n",
       " 'YNR033W',\n",
       " 'YNR058W',\n",
       " 'YJR148W',\n",
       " 'YOR184W',\n",
       " 'YMR085W',\n",
       " 'YJL060W',\n",
       " 'YER137C',\n",
       " 'YLR027C',\n",
       " 'YDR111C',\n",
       " 'YGR243W',\n",
       " 'YFL030W',\n",
       " 'YIL087C',\n",
       " 'YLR333C',\n",
       " 'YGL202W',\n",
       " 'YLR201C',\n",
       " 'YKL106W',\n",
       " 'YHR162W',\n",
       " 'YLR438W',\n",
       " 'YDR204W',\n",
       " 'YKL104C',\n",
       " 'YER152C',\n",
       " 'YGR019W',\n",
       " 'YIL116W',\n",
       " 'YLR089C',\n",
       " 'YHR208W',\n",
       " 'YHR137W',\n",
       " 'YOL140W']"
      ]
     },
     "execution_count": 9,
     "metadata": {},
     "output_type": "execute_result"
    }
   ],
   "source": [
    "[x.id for x in yeast8U.reactions.get_by_id('rxn470').genes]\n",
    "# YHR137W"
   ]
  },
  {
   "cell_type": "code",
   "execution_count": 10,
   "metadata": {},
   "outputs": [
    {
     "name": "stdout",
     "output_type": "stream",
     "text": [
      "===========\n",
      "rxn2394 s_0794 + s_1025 --> s_0456 + s_4299\n",
      "{'s_0456 [carbon dioxide]': 1, 's_0794 [H+]': -1, 's_1025 [L-lysine]': -1, 's_4299 [cadaverine]': 1}\n"
     ]
    }
   ],
   "source": [
    "# L-lysine --> Cadaverine  ### YKL184W P08432 \n",
    "# L-lysine:s_1025\n",
    "# Cadaverine:s_4299\n",
    "\n",
    "for i in yeast8.reactions:\n",
    "    if 's_1025' in i.reaction and 's_4299' in i.reaction:\n",
    "        print(i.id,i.reaction)\n",
    "        print({k.id+' ['+ k.name+']':v for k,v in i.metabolites.items()})\n",
    "print('===========')\n",
    "for i in yeast8U.reactions:\n",
    "    if 's_1025' in i.reaction and 's_4299' in i.reaction:\n",
    "        print(i.id,i.reaction)\n",
    "        print({k.id+' ['+ k.name+']':v for k,v in i.metabolites.items()})      "
   ]
  },
  {
   "cell_type": "code",
   "execution_count": 11,
   "metadata": {},
   "outputs": [
    {
     "data": {
      "text/plain": [
       "['YKR072C',\n",
       " 'YKR097W',\n",
       " 'YDR047W',\n",
       " 'YNR043W',\n",
       " 'YLR134W',\n",
       " 'YOL052C',\n",
       " 'YNL052W',\n",
       " 'YNL169C',\n",
       " 'YKL088W',\n",
       " 'YER010C',\n",
       " 'YEL021W',\n",
       " 'YOR128C',\n",
       " 'YKL184W',\n",
       " 'YGR087C',\n",
       " 'YDR380W',\n",
       " 'YLR044C',\n",
       " 'YMR250W',\n",
       " 'YDR539W',\n",
       " 'YLL028W',\n",
       " 'YDL080C']"
      ]
     },
     "execution_count": 11,
     "metadata": {},
     "output_type": "execute_result"
    }
   ],
   "source": [
    "[x.id for x in yeast8U.reactions.get_by_id('rxn2394').genes] \n",
    "#YKL184W"
   ]
  },
  {
   "cell_type": "code",
   "execution_count": 12,
   "metadata": {},
   "outputs": [
    {
     "name": "stdout",
     "output_type": "stream",
     "text": [
      "===========\n",
      "rxn1815 s_1012 + s_1424 --> s_0794 + 2 s_1029\n",
      "{'s_0794 [H+]': 1, 's_1012 [L-homocysteine]': -1, 's_1029 [L-methionine]': 2, 's_1424 [S-methyl-L-methionine]': -1}\n"
     ]
    }
   ],
   "source": [
    "# L-homocysteine + S-methyl-L-methionine = H+ + 2 L-methionine  #Q08985 YPL273W\n",
    "# L-methionine:s_1029\n",
    "# S-methyl-L-methionine:s_1424\n",
    "# L-homocysteine:s_1012\n",
    "\n",
    "for i in yeast8.reactions:\n",
    "    if 's_1029' in i.reaction and 's_1424' in i.reaction and 's_1012' in i.reaction:\n",
    "        print(i.id,i.reaction)\n",
    "        print({k.id+' ['+ k.name+']':v for k,v in i.metabolites.items()}) \n",
    "print('===========')\n",
    "for i in yeast8U.reactions:\n",
    "    if 's_1029' in i.reaction and 's_1424' in i.reaction and 's_1012' in i.reaction:\n",
    "        print(i.id,i.reaction)\n",
    "        print({k.id+' ['+ k.name+']':v for k,v in i.metabolites.items()})      "
   ]
  },
  {
   "cell_type": "code",
   "execution_count": 14,
   "metadata": {},
   "outputs": [
    {
     "data": {
      "text/plain": [
       "['YOL125W',\n",
       " 'YER056C',\n",
       " 'YBR119W',\n",
       " 'YHR070W',\n",
       " 'YHR209W',\n",
       " 'YOL124C',\n",
       " 'YPR187W',\n",
       " 'YBR061C',\n",
       " 'YGL136C',\n",
       " 'YKL088W',\n",
       " 'YBL024W',\n",
       " 'YLR137W',\n",
       " 'YER060W',\n",
       " 'YKR069W',\n",
       " 'YJR044C',\n",
       " 'YDL212W',\n",
       " 'YDR435C',\n",
       " 'YIL064W',\n",
       " 'YBR241C',\n",
       " 'YOL093W',\n",
       " 'YOR074C',\n",
       " 'YJL168C',\n",
       " 'YPL266W',\n",
       " 'YPL273W',\n",
       " 'YNL063W',\n",
       " 'YDR198C',\n",
       " 'YEL017C-A',\n",
       " 'YGL186C',\n",
       " 'YKR029C',\n",
       " 'YPR186C',\n",
       " 'YBR236C',\n",
       " 'YER175C',\n",
       " 'YHL036W',\n",
       " 'YLL062C',\n",
       " 'YNL092W',\n",
       " 'YLR285W',\n",
       " 'YMR257C',\n",
       " 'YGR157W',\n",
       " 'YJL125C',\n",
       " 'YDL201W',\n",
       " 'YDL200C',\n",
       " 'YJL056C',\n",
       " 'YMR160W',\n",
       " 'YER091C',\n",
       " 'YDR497C',\n",
       " 'YGR027C',\n",
       " 'YER060W-A',\n",
       " 'YPL030W',\n",
       " 'YGR002C',\n",
       " 'YPL216W',\n",
       " 'YGR006W',\n",
       " 'YJR073C',\n",
       " 'YOL096C',\n",
       " 'YHR119W',\n",
       " 'YBR213W',\n",
       " 'YPL092W',\n",
       " 'YDR440W',\n",
       " 'YLR172C',\n",
       " 'YML110C',\n",
       " 'YBR115C',\n",
       " 'YOL020W',\n",
       " 'YCR024C-A',\n",
       " 'YOL103W',\n",
       " 'YOL141W',\n",
       " 'YML008C',\n",
       " 'YDR120C',\n",
       " 'YGL050W',\n",
       " 'YJR137C',\n",
       " 'YBR034C',\n",
       " 'YHR109W',\n",
       " 'YDR105C',\n",
       " 'YDR140W',\n",
       " 'YKL162C',\n",
       " 'YDR410C',\n",
       " 'YHR034C',\n",
       " 'YLR333C']"
      ]
     },
     "execution_count": 14,
     "metadata": {},
     "output_type": "execute_result"
    }
   ],
   "source": [
    "[x.id for x in yeast8U.reactions.get_by_id('rxn1815').genes] \n",
    "#YPL273W"
   ]
  }
 ],
 "metadata": {
  "kernelspec": {
   "display_name": "kcat",
   "language": "python",
   "name": "python3"
  },
  "language_info": {
   "codemirror_mode": {
    "name": "ipython",
    "version": 3
   },
   "file_extension": ".py",
   "mimetype": "text/x-python",
   "name": "python",
   "nbconvert_exporter": "python",
   "pygments_lexer": "ipython3",
   "version": "3.7.16"
  },
  "orig_nbformat": 4
 },
 "nbformat": 4,
 "nbformat_minor": 2
}
