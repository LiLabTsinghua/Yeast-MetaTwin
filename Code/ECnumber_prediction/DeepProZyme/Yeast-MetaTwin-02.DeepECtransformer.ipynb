{
 "cells": [
  {
   "cell_type": "code",
   "execution_count": 1,
   "metadata": {},
   "outputs": [
    {
     "name": "stderr",
     "output_type": "stream",
     "text": [
      "/home/wuke/anaconda3/envs/AIGEM_DeepProZyme/lib/python3.6/site-packages/tqdm/auto.py:22: TqdmWarning: IProgress not found. Please update jupyter and ipywidgets. See https://ipywidgets.readthedocs.io/en/stable/user_install.html\n",
      "  from .autonotebook import tqdm as notebook_tqdm\n"
     ]
    }
   ],
   "source": [
    "import os\n",
    "import shutil\n",
    "import logging\n",
    "import requests\n",
    "import numpy as np\n",
    "import torch\n",
    "import json\n",
    "import pandas as pd\n",
    "from torch.utils.data import DataLoader\n",
    "import warnings\n",
    "# warnings.filterwarnings(\"ignore\")\n",
    "\n",
    "from deepec.process_data import read_EC_actual_Fasta\n",
    "from deepec.data_loader import DeepECDataset\n",
    "from deepec.utils import argument_parser, run_neural_net, save_dl_result\n",
    "from deepec.homology import run_blastp, read_best_blast_result, merge_predictions"
   ]
  },
  {
   "cell_type": "markdown",
   "metadata": {},
   "source": [
    "### input"
   ]
  },
  {
   "cell_type": "code",
   "execution_count": 2,
   "metadata": {},
   "outputs": [],
   "source": [
    "# input \n",
    "file_name = 'Saccharomyces_cerevisiae'\n",
    "target_protein_fasta_file = 'example/' + file_name + '.fasta'\n",
    "\n",
    "# output\n",
    "deepprozyme_result_file = 'Sce_DeepECv2.txt'"
   ]
  },
  {
   "cell_type": "markdown",
   "metadata": {},
   "source": [
    "## predict"
   ]
  },
  {
   "cell_type": "markdown",
   "metadata": {},
   "source": [
    "### pip install protobuf==3.19.6"
   ]
  },
  {
   "cell_type": "code",
   "execution_count": 3,
   "metadata": {},
   "outputs": [],
   "source": [
    "def deepprozyme(target_protein_fasta_file,deepprozyme_result_file):\n",
    "    logger = logging.getLogger()\n",
    "    logger.setLevel(logging.INFO)\n",
    "    formatter = logging.Formatter('%(asctime)s-%(name)s-%(levelname)s-%(message)s')\n",
    "\n",
    "    input_data_file = target_protein_fasta_file\n",
    "\n",
    "    output_dir = './example/results'\n",
    "    device = 'cpu'  # 注意加引号，表示字符串\n",
    "    batch_size = 128\n",
    "    num_cpu = 2\n",
    "    torch.set_num_threads(num_cpu)\n",
    "\n",
    "    if not os.path.exists(output_dir):\n",
    "        os.makedirs(output_dir)\n",
    "\n",
    "    if not os.path.exists(output_dir + '/tmp'):\n",
    "        os.makedirs((output_dir+'/tmp'))\n",
    "\n",
    "    model = torch.load('./model/model.pth')\n",
    "    model = model.to(device)\n",
    "\n",
    "    explainECs = model.explainECs\n",
    "    pred_thrd = model.thresholds\n",
    "    input_seqs, input_ids = read_EC_actual_Fasta(input_data_file)\n",
    "    id2ind = {seq_id: i for i, seq_id in enumerate(input_ids)}\n",
    "    pseudo_labels = np.zeros((len(input_seqs)))\n",
    "\n",
    "    proteinDataset = DeepECDataset(data_X=input_seqs, data_Y=pseudo_labels, explainECs=explainECs, pred=True)\n",
    "    proteinDataloader = DataLoader(proteinDataset, batch_size=batch_size, shuffle=False)\n",
    "\n",
    "    y_pred, y_score = run_neural_net(model, proteinDataloader, pred_thrd, device=device)\n",
    "    failed_cases = save_dl_result(y_pred, y_score, input_ids, explainECs, output_dir+'/tmp')\n",
    "\n",
    "    shutil.copy(output_dir+'/tmp/DL_prediction_result.txt', output_dir)\n",
    "    os.rename(output_dir+'/DL_prediction_result.txt', output_dir+deepprozyme_result_file)\n",
    "    # res = output_dir+'/DeepECv2_result.txt'\n",
    "    # res = pd.read_csv(res,sep='\\t')\n",
    "    # res = res[res['prediction']!='None']\n",
    "    # res['prediction'] = res['prediction'].apply(lambda x:x.split(':')[1])\n",
    "    # res = res[['sequence_ID', 'prediction']]\n",
    "\n",
    "    # res = res.groupby('sequence_ID')['prediction'].apply(list).reset_index()\n",
    "    # deepprozyme_result = dict(zip(res['sequence_ID'], res['prediction']))\n",
    "    # with open(deepprozyme_result_file, 'w') as json_file:\n",
    "    #     json.dump(deepprozyme_result, json_file)  \n",
    "\n",
    "    # return deepprozyme_result  "
   ]
  },
  {
   "cell_type": "code",
   "execution_count": 4,
   "metadata": {},
   "outputs": [
    {
     "name": "stderr",
     "output_type": "stream",
     "text": [
      "INFO:root:Deep leanrning prediction starts on the dataset\n",
      " 96%|█████████▌| 45/47 [09:34<00:25, 12.77s/it]"
     ]
    }
   ],
   "source": [
    "deepprozyme(target_protein_fasta_file,deepprozyme_result_file)"
   ]
  }
 ],
 "metadata": {
  "kernelspec": {
   "display_name": "kcat_pre",
   "language": "python",
   "name": "python3"
  },
  "language_info": {
   "codemirror_mode": {
    "name": "ipython",
    "version": 3
   },
   "file_extension": ".py",
   "mimetype": "text/x-python",
   "name": "python",
   "nbconvert_exporter": "python",
   "pygments_lexer": "ipython3",
   "version": "3.6.2"
  }
 },
 "nbformat": 4,
 "nbformat_minor": 2
}
